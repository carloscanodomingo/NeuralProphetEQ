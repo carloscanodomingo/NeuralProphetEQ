{
 "cells": [
  {
   "cell_type": "code",
   "execution_count": null,
   "id": "a88eccd1-1254-4f82-b16e-469bb8eb04a8",
   "metadata": {},
   "outputs": [],
   "source": [
    "%load_ext autoreload\n",
    "%autoreload 2\n",
    "%matplotlib inline\n",
    "\n",
    "\n",
    "import pandas as pd\n",
    "from pathlib import Path\n",
    "import dateutil.parser\n",
    "from NPw_aux import read_iono_data, process_ionosphere_files, read_EQ_data, process_eq\n",
    "from datetime import timedelta"
   ]
  },
  {
   "cell_type": "code",
   "execution_count": null,
   "id": "ea8fee9c-ccc4-4068-be7a-c0a1730243f1",
   "metadata": {},
   "outputs": [],
   "source": [
    "p = Path(\"/home/carloscano/data/EQ/\").glob(\"*.csv\")\n",
    "all_pd = pd.DataFrame()\n",
    "\n",
    "valid_colums = [\"time\", \"longitude\", \"latitude\", \"depth\", \"mag\", \"type\"]\n",
    "for file in p:\n",
    "    print(file)\n",
    "    all_pd = pd.concat([all_pd, pd.read_csv(file,  parse_dates=['time'], date_parser= dateutil.parser.parse).loc[:, valid_colums]])\n",
    "all_pd = all_pd[all_pd['type'] == \"earthquake\"].drop(\"type\", axis = 1).set_index(\"time\").sort_index()\n",
    "all_pd.to_csv(\"2016_2020_EQ.csv\")"
   ]
  },
  {
   "cell_type": "code",
   "execution_count": null,
   "id": "3f33d92b-9fdb-46d7-a321-fd8d9fdf63f0",
   "metadata": {},
   "outputs": [],
   "source": [
    "\n",
    "df_eq = read_EQ_data(\"/home/carloscano/data/EQ/\")"
   ]
  },
  {
   "cell_type": "code",
   "execution_count": null,
   "id": "9665c863-dba5-4470-9beb-193ed7048e36",
   "metadata": {},
   "outputs": [],
   "source": [
    "df_process = process_eq(df_eq,df_ion.columns, 5, 2000, 1000, 4.5, 1.5)"
   ]
  },
  {
   "cell_type": "code",
   "execution_count": null,
   "id": "d80994ea-bf97-4f67-b280-7e0bd4379a3c",
   "metadata": {},
   "outputs": [],
   "source": [
    "len(df_process)"
   ]
  },
  {
   "cell_type": "code",
   "execution_count": null,
   "id": "42ccc6c6-dc63-46e3-9c7a-fa7d20e8c587",
   "metadata": {},
   "outputs": [],
   "source": [
    "df_process"
   ]
  },
  {
   "cell_type": "code",
   "execution_count": null,
   "id": "20ccbde1-330d-4824-8b56-339e840a3cea",
   "metadata": {},
   "outputs": [],
   "source": [
    "from NPw_aux import prepare_ion_data"
   ]
  },
  {
   "cell_type": "code",
   "execution_count": null,
   "id": "259a8efd-ee2c-41ff-941b-128ec1710b29",
   "metadata": {},
   "outputs": [],
   "source": [
    "df_ion, df_eq = prepare_ion_data(\"GRK\")"
   ]
  },
  {
   "cell_type": "code",
   "execution_count": null,
   "id": "98500c8c-bc9c-4d95-96eb-ca8b317cbbd2",
   "metadata": {},
   "outputs": [],
   "source": [
    "%load_ext autoreload\n",
    "%autoreload 2\n",
    "%matplotlib inline\n",
    "from aux_function_SR import read_data, get_eq_filtered, SR_SENSORS\n",
    "import pandas as pd\n",
    "import numpy as np\n",
    "from neuralprophet import NeuralProphet, set_log_level, save, load\n",
    "import logging\n",
    "import pandas as pd\n",
    "from datetime import datetime, timedelta\n",
    "import pickle\n",
    "from NPw import NPw, ConfigEQ, ConfigNPw, ConfigForecast\n",
    "from dataclasses import dataclass, asdict\n",
    "from dateutil.relativedelta import *\n",
    "from NPw_aux import prepare_ion_data, process_ionosphere_files, remove_outliers\n",
    "import ast\n",
    "\n",
    "import sys"
   ]
  },
  {
   "cell_type": "code",
   "execution_count": null,
   "id": "71a7e684-084d-4371-85b4-6a94f6068994",
   "metadata": {},
   "outputs": [],
   "source": [
    "set_log_level(\"ERROR\")\n",
    "\n",
    "delta = timedelta(minutes=30)\n",
    "# Read SR and EQ data\n",
    "freq = timedelta(minutes = 30)\n",
    "df_ion, df_eq = prepare_ion_data(\"GRK\", freq)\n",
    "remove_outliers(df_ion, 3)"
   ]
  },
  {
   "cell_type": "code",
   "execution_count": 87,
   "id": "1282b406-ef53-4aa3-ab57-66bbfaa27e06",
   "metadata": {},
   "outputs": [
    {
     "name": "stdout",
     "output_type": "stream",
     "text": [
      "m1: 4.5 m2: 6.5 d1: 1000 d2: 4000\n",
      "1779\n"
     ]
    }
   ],
   "source": [
    "df_regressor = df_ion.reset_index().copy()\n",
    "df_events = df_eq.copy()\n",
    "from NPw import NPw, ConfigEQ, ConfigNPw, ConfigForecast\n",
    "\n",
    "forecast_length = timedelta(hours=24)\n",
    "question_mark_length = timedelta(hours=24)\n",
    "# Time to take into account to predict \n",
    "historic_lenght =  timedelta(days=5)\n",
    "training_lenght = timedelta(days=90)\n",
    "config_npw_d = {\n",
    "    \"forecast_length\": forecast_length,\n",
    "    \"question_mark_length\": question_mark_length,\n",
    "    \"freq\": freq,\n",
    "    \"training_length\": training_lenght,\n",
    "    \"historic_lenght\": historic_lenght,\n",
    "    \"drop_missing\": False,\n",
    "    \"num_hidden_layers\": 10,\n",
    "    \"learning_rate\": None,\n",
    "    \"d_hidden\": 16,\n",
    "    \"yearly_seasonality\": True,\n",
    "    \"daily_seasonality\" : False,\n",
    "    \"weekly_seasonality\" : True,\n",
    "    \"seasonal_mode\": \"multiplicative\",\n",
    "    \"seasonal_reg\": 0,\n",
    "    \"multivariate_season\": True,\n",
    "    \"multivariate_trend\": True,\n",
    "    \"verbose\": False,\n",
    "    \"epochs\": 100,\n",
    "    \"drop_missing\": False,\n",
    "    \"use_gpu\": False,\n",
    "    \"event_type\": \"Non-Binary\",\n",
    "    \"event_mode\": \"multiplicative\",\n",
    "    \"normalization\": True,\n",
    "    \"trend_regularization\": 0,\n",
    "    \"trend_n_changepoint\": 10,\n",
    "    \"sparce_AR\": None,\n",
    "    \"loss_func\": \"Huber\",\n",
    "    \"growth\": \"off\"\n",
    "}\n",
    "\n",
    "config_npw = ConfigNPw(**config_npw_d)\n",
    "ConfigEQ_d = {\n",
    "    \"dist_start\": 1000,\n",
    "    \"dist_delta\": 3000,\n",
    "    \"mag_start\": 4.5,\n",
    "    \"mag_delta\": 2,\n",
    "    \"filter\": True,\n",
    "    \"drop\": [\"arc_cos\", \"arc_sin\"]\n",
    "}\n",
    "config_events = ConfigEQ(**ConfigEQ_d)\n",
    "from NPw_aux import prepare_eq\n",
    "_, _, df_events_filtered = prepare_eq(df_events,  config_events.dist_start,\n",
    "    config_events.dist_delta,\n",
    "    config_events.mag_start,\n",
    "    config_events.mag_delta,\n",
    "    config_events.filter,\n",
    "    None)\n",
    "print(len(df_events_filtered))\n",
    "synthetic_events = pd.read_pickle(\"synthetic.pkl\")\n",
    "#config_path = \"config_002.json\"\n",
    "#(config_npw, config_events) = NPw.save_config(config_path)"
   ]
  },
  {
   "cell_type": "code",
   "execution_count": 88,
   "id": "2cc48813-054a-42f1-881d-c2f8e6486f47",
   "metadata": {},
   "outputs": [
    {
     "data": {
      "text/html": [
       "<div>\n",
       "<style scoped>\n",
       "    .dataframe tbody tr th:only-of-type {\n",
       "        vertical-align: middle;\n",
       "    }\n",
       "\n",
       "    .dataframe tbody tr th {\n",
       "        vertical-align: top;\n",
       "    }\n",
       "\n",
       "    .dataframe thead th {\n",
       "        text-align: right;\n",
       "    }\n",
       "</style>\n",
       "<table border=\"1\" class=\"dataframe\">\n",
       "  <thead>\n",
       "    <tr style=\"text-align: right;\">\n",
       "      <th></th>\n",
       "      <th>larm</th>\n",
       "      <th>noa1</th>\n",
       "      <th>duth</th>\n",
       "    </tr>\n",
       "    <tr>\n",
       "      <th>ds</th>\n",
       "      <th></th>\n",
       "      <th></th>\n",
       "      <th></th>\n",
       "    </tr>\n",
       "  </thead>\n",
       "  <tbody>\n",
       "    <tr>\n",
       "      <th>2016-01-01 00:00:00</th>\n",
       "      <td>24.684500</td>\n",
       "      <td>23.128833</td>\n",
       "      <td>22.445167</td>\n",
       "    </tr>\n",
       "    <tr>\n",
       "      <th>2016-01-01 00:30:00</th>\n",
       "      <td>24.653833</td>\n",
       "      <td>23.201333</td>\n",
       "      <td>22.443167</td>\n",
       "    </tr>\n",
       "    <tr>\n",
       "      <th>2016-01-01 01:00:00</th>\n",
       "      <td>24.547333</td>\n",
       "      <td>23.295667</td>\n",
       "      <td>22.498500</td>\n",
       "    </tr>\n",
       "    <tr>\n",
       "      <th>2016-01-01 01:30:00</th>\n",
       "      <td>23.829500</td>\n",
       "      <td>22.600833</td>\n",
       "      <td>21.898333</td>\n",
       "    </tr>\n",
       "    <tr>\n",
       "      <th>2016-01-01 02:00:00</th>\n",
       "      <td>21.875833</td>\n",
       "      <td>20.299667</td>\n",
       "      <td>20.014000</td>\n",
       "    </tr>\n",
       "    <tr>\n",
       "      <th>...</th>\n",
       "      <td>...</td>\n",
       "      <td>...</td>\n",
       "      <td>...</td>\n",
       "    </tr>\n",
       "    <tr>\n",
       "      <th>2020-12-31 21:30:00</th>\n",
       "      <td>NaN</td>\n",
       "      <td>17.975667</td>\n",
       "      <td>17.936500</td>\n",
       "    </tr>\n",
       "    <tr>\n",
       "      <th>2020-12-31 22:00:00</th>\n",
       "      <td>NaN</td>\n",
       "      <td>18.568833</td>\n",
       "      <td>18.575167</td>\n",
       "    </tr>\n",
       "    <tr>\n",
       "      <th>2020-12-31 22:30:00</th>\n",
       "      <td>NaN</td>\n",
       "      <td>18.949333</td>\n",
       "      <td>19.030167</td>\n",
       "    </tr>\n",
       "    <tr>\n",
       "      <th>2020-12-31 23:00:00</th>\n",
       "      <td>NaN</td>\n",
       "      <td>18.937000</td>\n",
       "      <td>18.957833</td>\n",
       "    </tr>\n",
       "    <tr>\n",
       "      <th>2020-12-31 23:30:00</th>\n",
       "      <td>NaN</td>\n",
       "      <td>18.645667</td>\n",
       "      <td>18.757500</td>\n",
       "    </tr>\n",
       "  </tbody>\n",
       "</table>\n",
       "<p>87696 rows × 3 columns</p>\n",
       "</div>"
      ],
      "text/plain": [
       "                          larm       noa1       duth\n",
       "ds                                                  \n",
       "2016-01-01 00:00:00  24.684500  23.128833  22.445167\n",
       "2016-01-01 00:30:00  24.653833  23.201333  22.443167\n",
       "2016-01-01 01:00:00  24.547333  23.295667  22.498500\n",
       "2016-01-01 01:30:00  23.829500  22.600833  21.898333\n",
       "2016-01-01 02:00:00  21.875833  20.299667  20.014000\n",
       "...                        ...        ...        ...\n",
       "2020-12-31 21:30:00        NaN  17.975667  17.936500\n",
       "2020-12-31 22:00:00        NaN  18.568833  18.575167\n",
       "2020-12-31 22:30:00        NaN  18.949333  19.030167\n",
       "2020-12-31 23:00:00        NaN  18.937000  18.957833\n",
       "2020-12-31 23:30:00        NaN  18.645667  18.757500\n",
       "\n",
       "[87696 rows x 3 columns]"
      ]
     },
     "execution_count": 88,
     "metadata": {},
     "output_type": "execute_result"
    }
   ],
   "source": [
    "df_ion.interpolate(method = \"from_derivatives\")"
   ]
  },
  {
   "cell_type": "code",
   "execution_count": 89,
   "id": "9e84610e-65d6-4412-b698-1172da049c3b",
   "metadata": {},
   "outputs": [
    {
     "data": {
      "text/html": [
       "<div>\n",
       "<style scoped>\n",
       "    .dataframe tbody tr th:only-of-type {\n",
       "        vertical-align: middle;\n",
       "    }\n",
       "\n",
       "    .dataframe tbody tr th {\n",
       "        vertical-align: top;\n",
       "    }\n",
       "\n",
       "    .dataframe thead th {\n",
       "        text-align: right;\n",
       "    }\n",
       "</style>\n",
       "<table border=\"1\" class=\"dataframe\">\n",
       "  <thead>\n",
       "    <tr style=\"text-align: right;\">\n",
       "      <th></th>\n",
       "      <th>ds</th>\n",
       "      <th>larm</th>\n",
       "      <th>noa1</th>\n",
       "      <th>duth</th>\n",
       "    </tr>\n",
       "  </thead>\n",
       "  <tbody>\n",
       "    <tr>\n",
       "      <th>0</th>\n",
       "      <td>2016-01-01 00:00:00</td>\n",
       "      <td>24.684500</td>\n",
       "      <td>23.128833</td>\n",
       "      <td>22.445167</td>\n",
       "    </tr>\n",
       "    <tr>\n",
       "      <th>1</th>\n",
       "      <td>2016-01-01 00:30:00</td>\n",
       "      <td>24.653833</td>\n",
       "      <td>23.201333</td>\n",
       "      <td>22.443167</td>\n",
       "    </tr>\n",
       "    <tr>\n",
       "      <th>2</th>\n",
       "      <td>2016-01-01 01:00:00</td>\n",
       "      <td>24.547333</td>\n",
       "      <td>23.295667</td>\n",
       "      <td>22.498500</td>\n",
       "    </tr>\n",
       "    <tr>\n",
       "      <th>3</th>\n",
       "      <td>2016-01-01 01:30:00</td>\n",
       "      <td>23.829500</td>\n",
       "      <td>22.600833</td>\n",
       "      <td>21.898333</td>\n",
       "    </tr>\n",
       "    <tr>\n",
       "      <th>4</th>\n",
       "      <td>2016-01-01 02:00:00</td>\n",
       "      <td>21.875833</td>\n",
       "      <td>20.299667</td>\n",
       "      <td>20.014000</td>\n",
       "    </tr>\n",
       "    <tr>\n",
       "      <th>...</th>\n",
       "      <td>...</td>\n",
       "      <td>...</td>\n",
       "      <td>...</td>\n",
       "      <td>...</td>\n",
       "    </tr>\n",
       "    <tr>\n",
       "      <th>87691</th>\n",
       "      <td>2020-12-31 21:30:00</td>\n",
       "      <td>NaN</td>\n",
       "      <td>17.975667</td>\n",
       "      <td>17.936500</td>\n",
       "    </tr>\n",
       "    <tr>\n",
       "      <th>87692</th>\n",
       "      <td>2020-12-31 22:00:00</td>\n",
       "      <td>NaN</td>\n",
       "      <td>18.568833</td>\n",
       "      <td>18.575167</td>\n",
       "    </tr>\n",
       "    <tr>\n",
       "      <th>87693</th>\n",
       "      <td>2020-12-31 22:30:00</td>\n",
       "      <td>NaN</td>\n",
       "      <td>18.949333</td>\n",
       "      <td>19.030167</td>\n",
       "    </tr>\n",
       "    <tr>\n",
       "      <th>87694</th>\n",
       "      <td>2020-12-31 23:00:00</td>\n",
       "      <td>NaN</td>\n",
       "      <td>18.937000</td>\n",
       "      <td>18.957833</td>\n",
       "    </tr>\n",
       "    <tr>\n",
       "      <th>87695</th>\n",
       "      <td>2020-12-31 23:30:00</td>\n",
       "      <td>NaN</td>\n",
       "      <td>18.645667</td>\n",
       "      <td>18.757500</td>\n",
       "    </tr>\n",
       "  </tbody>\n",
       "</table>\n",
       "<p>87696 rows × 4 columns</p>\n",
       "</div>"
      ],
      "text/plain": [
       "                       ds       larm       noa1       duth\n",
       "0     2016-01-01 00:00:00  24.684500  23.128833  22.445167\n",
       "1     2016-01-01 00:30:00  24.653833  23.201333  22.443167\n",
       "2     2016-01-01 01:00:00  24.547333  23.295667  22.498500\n",
       "3     2016-01-01 01:30:00  23.829500  22.600833  21.898333\n",
       "4     2016-01-01 02:00:00  21.875833  20.299667  20.014000\n",
       "...                   ...        ...        ...        ...\n",
       "87691 2020-12-31 21:30:00        NaN  17.975667  17.936500\n",
       "87692 2020-12-31 22:00:00        NaN  18.568833  18.575167\n",
       "87693 2020-12-31 22:30:00        NaN  18.949333  19.030167\n",
       "87694 2020-12-31 23:00:00        NaN  18.937000  18.957833\n",
       "87695 2020-12-31 23:30:00        NaN  18.645667  18.757500\n",
       "\n",
       "[87696 rows x 4 columns]"
      ]
     },
     "execution_count": 89,
     "metadata": {},
     "output_type": "execute_result"
    }
   ],
   "source": [
    "df_regressor"
   ]
  },
  {
   "cell_type": "code",
   "execution_count": 90,
   "id": "3e1935e1-d011-41f3-ab09-9878f9637ac3",
   "metadata": {},
   "outputs": [
    {
     "name": "stdout",
     "output_type": "stream",
     "text": [
      "m1: 4.5 m2: 6.5 d1: 1000 d2: 4000\n"
     ]
    }
   ],
   "source": [
    "NPw_o = NPw(config_npw, df_regressor, config_events, df_events, synthetic_events)"
   ]
  },
  {
   "cell_type": "code",
   "execution_count": 91,
   "id": "d4144db2-1df5-49fa-bca8-b121370e2cc4",
   "metadata": {},
   "outputs": [],
   "source": [
    "hours_offsets = [0]\n",
    "event_offsets = [None,  -timedelta(hours=24)]\n",
    "index = 1\n",
    "\n",
    "\n",
    "# see what happen in 2019-02-01T10:00:00 Nan values at the end\n",
    "start_day = datetime.fromisoformat(\"2018-10-01T10:00:00\")\n",
    "\n",
    "start_date = start_day + index * relativedelta(months=+1)"
   ]
  },
  {
   "cell_type": "code",
   "execution_count": 92,
   "id": "2ae94c23-b483-48b7-878f-fd96e5d5e972",
   "metadata": {},
   "outputs": [
    {
     "name": "stdout",
     "output_type": "stream",
     "text": [
      "['step0___low', 'step0___high', 'step1___low', 'step1___high', 'step2___low', 'step2___high', 'step3___low', 'step3___high', 'step4___low', 'step4___high', 'step5___low', 'step5___high', 'step6___low', 'step6___high', 'step7___low', 'step7___high', 'step8___low', 'step8___high', 'step9___low', 'step9___high']\n"
     ]
    }
   ],
   "source": [
    "n = 10\n",
    "\n",
    "uncer_names = [\"step\" + str(word) for name in range(n) for word in (str(name) + \"___low\", str(name) + \"___high\")]\n",
    "print(uncer_names)\n",
    "from scipy import stats"
   ]
  },
  {
   "cell_type": "code",
   "execution_count": 93,
   "id": "0e51880f-b4aa-4721-8127-96ab43bbebed",
   "metadata": {},
   "outputs": [],
   "source": [
    "number_of_folds = 10\n",
    "NPw_o.get_folds(k = number_of_folds)"
   ]
  },
  {
   "cell_type": "code",
   "execution_count": 97,
   "id": "3d567842-6ebd-4096-875e-8b9e43d72913",
   "metadata": {},
   "outputs": [
    {
     "data": {
      "application/vnd.jupyter.widget-view+json": {
       "model_id": "74d24e539f8d47779ebb64a7460ba7b2",
       "version_major": 2,
       "version_minor": 0
      },
      "text/plain": [
       "Finding best initial lr:   0%|          | 0/252 [00:00<?, ?it/s]"
      ]
     },
     "metadata": {},
     "output_type": "display_data"
    },
    {
     "name": "stdout",
     "output_type": "stream",
     "text": [
      "0     14.063052\n",
      "49    10.685246\n",
      "98    10.382542\n",
      "dtype: float32\n"
     ]
    },
    {
     "ename": "ValueError",
     "evalue": "too many values to unpack (expected 2)",
     "output_type": "error",
     "traceback": [
      "\u001b[0;31m---------------------------------------------------------------------------\u001b[0m",
      "\u001b[0;31mValueError\u001b[0m                                Traceback (most recent call last)",
      "Cell \u001b[0;32mIn[97], line 1\u001b[0m\n\u001b[0;32m----> 1\u001b[0m \u001b[43mNPw_o\u001b[49m\u001b[38;5;241;43m.\u001b[39;49m\u001b[43mprocess_fold\u001b[49m\u001b[43m(\u001b[49m\u001b[38;5;241;43m0\u001b[39;49m\u001b[43m)\u001b[49m\n",
      "File \u001b[0;32m~/dev/NeuralProphetEQ/NPw.py:193\u001b[0m, in \u001b[0;36mNPw.process_fold\u001b[0;34m(self, index_fold)\u001b[0m\n\u001b[1;32m    191\u001b[0m start_date \u001b[38;5;241m=\u001b[39m df_train\u001b[38;5;241m.\u001b[39miloc[\u001b[38;5;241m-\u001b[39m\u001b[38;5;28mself\u001b[39m\u001b[38;5;241m.\u001b[39mn_forecasts][\u001b[38;5;124m\"\u001b[39m\u001b[38;5;124mds\u001b[39m\u001b[38;5;124m\"\u001b[39m]\n\u001b[1;32m    192\u001b[0m config_fc \u001b[38;5;241m=\u001b[39m ConfigForecast(start_forecast\u001b[38;5;241m=\u001b[39mstart_date, offset_event\u001b[38;5;241m=\u001b[39m\u001b[38;5;28;01mNone\u001b[39;00m)\n\u001b[0;32m--> 193\u001b[0m df_RMSE, df_MAE \u001b[38;5;241m=\u001b[39m \u001b[38;5;28;43mself\u001b[39;49m\u001b[38;5;241;43m.\u001b[39;49m\u001b[43madd_forecast\u001b[49m\u001b[43m(\u001b[49m\u001b[43mconfig_fc\u001b[49m\u001b[43m)\u001b[49m\n\u001b[1;32m    194\u001b[0m \u001b[38;5;28mself\u001b[39m\u001b[38;5;241m.\u001b[39mlist_keys_fold\u001b[38;5;241m.\u001b[39mappend(start_date)\n\u001b[1;32m    195\u001b[0m \u001b[38;5;28mself\u001b[39m\u001b[38;5;241m.\u001b[39mlist_test_RMSE\u001b[38;5;241m.\u001b[39mappend(df_RMSE)\n",
      "File \u001b[0;32m~/dev/NeuralProphetEQ/NPw.py:297\u001b[0m, in \u001b[0;36mNPw.add_forecast\u001b[0;34m(self, config_forecast)\u001b[0m\n\u001b[1;32m    295\u001b[0m \u001b[38;5;28mself\u001b[39m\u001b[38;5;241m.\u001b[39mmodel, train_metrics \u001b[38;5;241m=\u001b[39m \u001b[38;5;28mself\u001b[39m\u001b[38;5;241m.\u001b[39mfit(model, df_train)\n\u001b[1;32m    296\u001b[0m \u001b[38;5;66;03m# Compute just one long forecast\u001b[39;00m\n\u001b[0;32m--> 297\u001b[0m df_RMSE, df_MAE \u001b[38;5;241m=\u001b[39m \u001b[38;5;28;43mself\u001b[39;49m\u001b[38;5;241;43m.\u001b[39;49m\u001b[43mtest\u001b[49m\u001b[43m(\u001b[49m\u001b[43mmodel\u001b[49m\u001b[43m,\u001b[49m\u001b[43m \u001b[49m\u001b[43mstart_forecast_time\u001b[49m\u001b[43m,\u001b[49m\u001b[43m \u001b[49m\u001b[43mdf_test\u001b[49m\u001b[43m)\u001b[49m\n\u001b[1;32m    298\u001b[0m \u001b[38;5;66;03m# self.npw_df.loc[model_name] = [\u001b[39;00m\n\u001b[1;32m    299\u001b[0m \u001b[38;5;66;03m#     config_forecast.start_forecast,\u001b[39;00m\n\u001b[1;32m    300\u001b[0m \u001b[38;5;66;03m#     n_samples,\u001b[39;00m\n\u001b[0;32m   (...)\u001b[0m\n\u001b[1;32m    303\u001b[0m \u001b[38;5;66;03m#     expected_event,\u001b[39;00m\n\u001b[1;32m    304\u001b[0m \u001b[38;5;66;03m# ]\u001b[39;00m\n\u001b[1;32m    305\u001b[0m \u001b[38;5;28;01mreturn\u001b[39;00m df_RMSE, df_MAE\n",
      "File \u001b[0;32m~/dev/NeuralProphetEQ/NPw.py:421\u001b[0m, in \u001b[0;36mNPw.test\u001b[0;34m(self, model, start_forecast_time, df_test)\u001b[0m\n\u001b[1;32m    419\u001b[0m list_synthetic_MAE \u001b[38;5;241m=\u001b[39m \u001b[38;5;28mlist\u001b[39m()\n\u001b[1;32m    420\u001b[0m list_keys \u001b[38;5;241m=\u001b[39m \u001b[38;5;28mlist\u001b[39m()\n\u001b[0;32m--> 421\u001b[0m df_RMSE, df_MAE \u001b[38;5;241m=\u001b[39m \u001b[38;5;28mself\u001b[39m\u001b[38;5;241m.\u001b[39mone_step_test(model, start_forecast_time, df_test)\n\u001b[1;32m    422\u001b[0m df_RMSE\u001b[38;5;241m.\u001b[39mcolumns \u001b[38;5;241m=\u001b[39m \u001b[38;5;124m\"\u001b[39m\u001b[38;5;124m0\u001b[39m\u001b[38;5;124m\"\u001b[39m\n\u001b[1;32m    423\u001b[0m list_keys\u001b[38;5;241m.\u001b[39mappend(\u001b[38;5;124m\"\u001b[39m\u001b[38;5;124mBASE\u001b[39m\u001b[38;5;124m\"\u001b[39m)\n",
      "\u001b[0;31mValueError\u001b[0m: too many values to unpack (expected 2)"
     ]
    }
   ],
   "source": [
    "NPw_o.process_fold(0)"
   ]
  },
  {
   "cell_type": "code",
   "execution_count": null,
   "id": "b9d69ace-5216-42ac-8ac2-8bbbdb570a25",
   "metadata": {},
   "outputs": [],
   "source": [
    "for n_fold in range(number_of_folds):\n",
    "    try:\n",
    "        NPw_o.process_fold(n_fold)\n",
    "    except: #\n",
    "        print(\"Problem in fold \" + str(n_fold))\n",
    "        "
   ]
  },
  {
   "cell_type": "code",
   "execution_count": null,
   "id": "b2afb3e6-c223-4815-a710-eea76babd05e",
   "metadata": {},
   "outputs": [],
   "source": [
    "import pyarrow.feather as feather\n",
    "feather.write_feather(NPw_o.get_results()[0], 'test')\n"
   ]
  },
  {
   "cell_type": "code",
   "execution_count": null,
   "id": "794ca7cf-f31b-4244-99f6-bd0dc271ace3",
   "metadata": {},
   "outputs": [],
   "source": [
    "8 //3"
   ]
  },
  {
   "cell_type": "code",
   "execution_count": null,
   "id": "6e065682-b58a-4c90-9936-d58737c78b69",
   "metadata": {},
   "outputs": [],
   "source": [
    "df, df_MAE = NPw_o.get_results()"
   ]
  },
  {
   "cell_type": "code",
   "execution_count": null,
   "id": "3d978563-ced0-4bcc-97a6-e41d6a845ae2",
   "metadata": {},
   "outputs": [],
   "source": [
    "df"
   ]
  },
  {
   "cell_type": "code",
   "execution_count": null,
   "id": "c48c0d29-2548-4e78-af9c-876698aedc31",
   "metadata": {},
   "outputs": [],
   "source": [
    "df_scale = df.apply(lambda x: ((x -x[0])/x[0]), axis = 1)"
   ]
  },
  {
   "cell_type": "code",
   "execution_count": null,
   "id": "5e251cbe-f92b-4fe4-bf27-00882768c43c",
   "metadata": {},
   "outputs": [],
   "source": [
    "df_scale = ((df_scale / df_scale.abs().max().max()) *100).astype(int)"
   ]
  },
  {
   "cell_type": "code",
   "execution_count": null,
   "id": "c9177619-c469-4cec-b8f6-f34a849c6879",
   "metadata": {},
   "outputs": [],
   "source": [
    "NPw.print_df(df)"
   ]
  },
  {
   "cell_type": "code",
   "execution_count": null,
   "id": "45990caf-4760-4318-98d1-6cd07eeecc27",
   "metadata": {},
   "outputs": [],
   "source": [
    "df_scale.to_csv(\"binary_ex.csv\")"
   ]
  },
  {
   "cell_type": "code",
   "execution_count": null,
   "id": "5138f0c9-b167-48d9-9984-fd5263b78dd6",
   "metadata": {},
   "outputs": [],
   "source": [
    "print(type(df.index))\n",
    "b = list()\n",
    "[b.append(item[0]) for item in df.index if item not in b]\n",
    "b = (pd.DataFrame(b, columns = [\"dates\"]).drop_duplicates())\n",
    "b"
   ]
  },
  {
   "cell_type": "code",
   "execution_count": null,
   "id": "70952e6b-4fb0-4cb9-b615-25f640d63b45",
   "metadata": {},
   "outputs": [],
   "source": [
    "def filter_events(df_events, fc_dt, sort_value, low_td, high_td):\n",
    "    df_events.index = df_events.index + config_npw.forecast_length // 2\n",
    "    events = df_events.iloc[(df_events.index > fc_dt - low_td) & (df_events.index < fc_dt + high_td)].sort_values(\"pr\", ascending = False).head()\n",
    "    if events.empty == False:\n",
    "        return events"
   ]
  },
  {
   "cell_type": "code",
   "execution_count": null,
   "id": "80184ee1-4d8e-40fe-bb44-936546c61d55",
   "metadata": {},
   "outputs": [],
   "source": [
    "current_events = list()\n",
    "for fc_dt in b[\"dates\"]:\n",
    "    current_events.append(filter_events(df_events.copy(), fc_dt, \"pr\", timedelta(0), timedelta(150)))"
   ]
  },
  {
   "cell_type": "code",
   "execution_count": null,
   "id": "1dc55368-fdd2-4c34-9906-f5a9b913d192",
   "metadata": {},
   "outputs": [],
   "source": [
    "synthetic_events = [x.iloc[0] for x in current_events[2:8]]"
   ]
  },
  {
   "cell_type": "code",
   "execution_count": null,
   "id": "4d4913eb-080d-4b93-8473-8f9b5d39b0f5",
   "metadata": {},
   "outputs": [],
   "source": [
    "pd.concat(synthetic_events,axis = 1, ignore_index=True).T.to_pickle(\"synthetic2.pkl\")"
   ]
  },
  {
   "cell_type": "code",
   "execution_count": null,
   "id": "1be8cf4f-52b2-491f-8f9d-dba3e1ac8159",
   "metadata": {},
   "outputs": [],
   "source": [
    "df"
   ]
  },
  {
   "cell_type": "code",
   "execution_count": null,
   "id": "231ced06-dea7-421b-9a0c-4a486e9439da",
   "metadata": {},
   "outputs": [],
   "source": [
    "df.to_pickle(\"ion_test_grk.pkl\")"
   ]
  },
  {
   "cell_type": "code",
   "execution_count": null,
   "id": "a17fa670-317c-4584-af8b-2cab07ddbd18",
   "metadata": {},
   "outputs": [],
   "source": [
    "from scipy.stats import zscore\n",
    "zetascore_table=zscore(df,axis=0)\n",
    "zetascore_table"
   ]
  },
  {
   "cell_type": "code",
   "execution_count": null,
   "id": "0d53be09-efa2-4217-a8da-4613c9461b71",
   "metadata": {},
   "outputs": [],
   "source": [
    "dates = [x[0] for x in df.keys()].unique()"
   ]
  },
  {
   "cell_type": "code",
   "execution_count": null,
   "id": "0b30cfb8-6788-487e-b13b-4a891c78b22c",
   "metadata": {},
   "outputs": [],
   "source": [
    "df_events.iloc[(df_events.index > df.keys()[4][0] - timedelta(50))]"
   ]
  },
  {
   "cell_type": "code",
   "execution_count": null,
   "id": "30313ad6-e485-435b-b80b-55f4f7220d30",
   "metadata": {},
   "outputs": [],
   "source": [
    "df"
   ]
  },
  {
   "cell_type": "code",
   "execution_count": null,
   "id": "654ff68c-15f2-450a-ae4b-157907f53763",
   "metadata": {},
   "outputs": [],
   "source": [
    "df_events.iloc[(df_events.index > df.keys()[1][0] - timedelta(0)) & (df_events.index < df.keys()[1][0] + timedelta(2))].sort_values(\"pr\", ascending = False).head()"
   ]
  },
  {
   "cell_type": "code",
   "execution_count": null,
   "id": "5e1a1ca8-544a-4058-b2aa-116592791b4b",
   "metadata": {},
   "outputs": [],
   "source": [
    "df_events.iloc[(df_events.index > df.keys()[4][0] - timedelta(0)) & (df_events.index < df.keys()[4][0] + timedelta(2))].sort_values(\"pr\", ascending = False).head()"
   ]
  },
  {
   "cell_type": "code",
   "execution_count": null,
   "id": "038f5955-d0b2-4332-9801-b862fb203506",
   "metadata": {},
   "outputs": [],
   "source": [
    "df_events.iloc[(df_events.index > df.keys()[6][0] - timedelta(0)) & (df_events.index < df.keys()[6][0] + timedelta(2))].sort_values(\"pr\", ascending = False).head()"
   ]
  },
  {
   "cell_type": "code",
   "execution_count": null,
   "id": "09c07f92-4a37-4e05-9e62-bf65ded0fd60",
   "metadata": {},
   "outputs": [],
   "source": [
    "df_events.iloc[(df_events.index > df.keys()[10][0] - timedelta(0)) & (df_events.index < df.keys()[10][0] + timedelta(2))].sort_values(\"pr\", ascending = False).head()"
   ]
  },
  {
   "cell_type": "code",
   "execution_count": null,
   "id": "39d95370-7480-4c7d-a143-186f2a636944",
   "metadata": {},
   "outputs": [],
   "source": [
    "len(NPw_o.list_keys_fold)"
   ]
  },
  {
   "cell_type": "code",
   "execution_count": null,
   "id": "f2c63377-f955-4d2b-8878-ff9b18ddb428",
   "metadata": {},
   "outputs": [],
   "source": [
    "(NPw_o.list_test_RMSE[0].reset_index())"
   ]
  },
  {
   "cell_type": "code",
   "execution_count": null,
   "id": "dfbea947-8774-460c-aead-5af51229b31c",
   "metadata": {},
   "outputs": [],
   "source": [
    "a = NPw_o.list_test_RMSE[0][0:3].copy()\n",
    "b = NPw_o.list_test_RMSE[0][3:6].copy()\n",
    "c = NPw_o.list_test_RMSE[0][3:6].copy()\n",
    "a.co\"]\n",
    "b.columns = [\"Blumns = [\"A\"]\n",
    "c.columns = [\"C\"]\n",
    "print(a)\n",
    "print(b)\n",
    "r1 = pd.concat([a,b, c], axis = 1).copy()\n",
    "r2 = pd.concat([a,b, c], axis = 1).copy()\n",
    "r3 = pd.concat([a,b, c], axis = 1).copy()\n",
    "print(pd.concat([r1,r2,a], axis=1, keys = [1,2,\"NOTHING\"]))"
   ]
  },
  {
   "cell_type": "code",
   "execution_count": null,
   "id": "b78db9c2-2f72-4764-a17d-968159d7dbda",
   "metadata": {},
   "outputs": [],
   "source": [
    "from sdv.tabular import GaussianCopula"
   ]
  },
  {
   "cell_type": "code",
   "execution_count": null,
   "id": "8c306b86-4c0d-4982-b12e-a6e2df411867",
   "metadata": {},
   "outputs": [],
   "source": [
    "model = GaussianCopula()\n",
    "model.fit(events)"
   ]
  },
  {
   "cell_type": "code",
   "execution_count": null,
   "id": "13a6c878-ad43-41ed-b8e8-e39ad79b9b77",
   "metadata": {},
   "outputs": [],
   "source": [
    "sample = model.sample(2000)\n",
    "sample.head()\n",
    "print(sample.nlargest(1, columns = [\"mag\"]))\n",
    "print(sample.nlargest(5, columns = [\"dist\"]))\n",
    "example = sample.nlargest(5, columns = [\"dist\"])\n",
    "idx = example.index[[True, False, True, False, True]]"
   ]
  },
  {
   "cell_type": "code",
   "execution_count": null,
   "id": "ee4bb004-0efb-4c63-b4b2-3cefebe500bd",
   "metadata": {},
   "outputs": [],
   "source": [
    "for idx, ex in example.iterrows():\n",
    "    print(ex)\n",
    "    for e in ex.index:\n",
    "        print(e)"
   ]
  },
  {
   "cell_type": "code",
   "execution_count": null,
   "id": "63cc69c3-0baa-4bc2-9afc-23b67082dec2",
   "metadata": {},
   "outputs": [],
   "source": [
    "len(df_train)"
   ]
  },
  {
   "cell_type": "code",
   "execution_count": null,
   "id": "98ba2db5-7778-4708-853a-3f05a0b2e917",
   "metadata": {},
   "outputs": [],
   "source": [
    "df_train = NPw_o.df_train\n",
    "delta_t = NPw_o.config_npw.forecast_length"
   ]
  },
  {
   "cell_type": "code",
   "execution_count": null,
   "id": "4c6b2fbd-b657-4b7c-8102-1ca0951a43cb",
   "metadata": {},
   "outputs": [],
   "source": [
    "t0 = df_train.iloc[-(NPw_o.n_forecasts)][\"ds\"]\n",
    "t1 = t0 + delta_t"
   ]
  },
  {
   "cell_type": "code",
   "execution_count": null,
   "id": "1a7c6192-8c5f-4a6f-9487-1d4201c1104a",
   "metadata": {},
   "outputs": [],
   "source": [
    "series = pd.date_range(start=t0, end=t1, periods=5)\n",
    "series.values"
   ]
  },
  {
   "cell_type": "code",
   "execution_count": null,
   "id": "e2cb70ee-fc50-4c57-b603-551b7f3082a5",
   "metadata": {},
   "outputs": [],
   "source": [
    "df_test = df_train.copy()"
   ]
  },
  {
   "cell_type": "code",
   "execution_count": null,
   "id": "4d6f0449-b09b-42d3-bb54-4f064e7312ac",
   "metadata": {},
   "outputs": [],
   "source": [
    "df_test[\"ds\"].get_loc()"
   ]
  },
  {
   "cell_type": "code",
   "execution_count": null,
   "id": "fb433b16-52f7-4474-ac2a-de5b642eadb2",
   "metadata": {},
   "outputs": [],
   "source": [
    "print(ev.iloc[1])\n",
    "print(ev.iloc[2])\n",
    "ev.iloc[2] = ev.iloc[1]\n",
    "print(ev.iloc[2])"
   ]
  },
  {
   "cell_type": "code",
   "execution_count": null,
   "id": "2bee3193-9f0b-4f92-b2c9-c5b4d0869ba5",
   "metadata": {},
   "outputs": [],
   "source": [
    "for index, (df_train, df_test) in enumerate(NPw_o.folds):\n",
    "    if index == 10:\n",
    "        print(df_test)\n"
   ]
  },
  {
   "cell_type": "code",
   "execution_count": null,
   "id": "ff272171-b291-44eb-a4c3-a77ae5bef118",
   "metadata": {},
   "outputs": [],
   "source": [
    "config_fc = ConfigForecast(\n",
    "    start_forecast=start_date, offset_event=None\n",
    ")\n",
    "metrics= NPw_o.add_forecast(config_fc\n",
    ")"
   ]
  },
  {
   "cell_type": "code",
   "execution_count": null,
   "id": "5be4a9bc-893c-42b9-88c4-09e86b86d308",
   "metadata": {},
   "outputs": [],
   "source": [
    "metrics[1]"
   ]
  },
  {
   "cell_type": "code",
   "execution_count": null,
   "id": "94b2bad4-5209-4f8d-b751-d32e03d9f5a1",
   "metadata": {},
   "outputs": [],
   "source": [
    "NPw_o.one_step_test(model, config_fc, df_test)"
   ]
  },
  {
   "cell_type": "code",
   "execution_count": null,
   "id": "de9f5d4e-897f-4c84-a733-e007fe5dd5d6",
   "metadata": {},
   "outputs": [],
   "source": [
    "future = model.one_step(df_test, n_historic_predictions=24)"
   ]
  },
  {
   "cell_type": "code",
   "execution_count": null,
   "id": "3640a04f-1b18-41ff-b252-f4f7c8f5a2ff",
   "metadata": {},
   "outputs": [],
   "source": [
    "forecast = model.predict(future, decompose=False, raw=True)\n",
    "forecast_2  = forecast[forecast[\"ds\"] == start_date].T"
   ]
  },
  {
   "cell_type": "code",
   "execution_count": null,
   "id": "cd07a45b-6b53-498b-b2b8-b69f2ac9a314",
   "metadata": {},
   "outputs": [],
   "source": [
    "forecast_2.columns = df_test_2.columns  + \"_pred\"\n",
    "df_test_2.columns =  df_test_2.columns  + \"_current\""
   ]
  },
  {
   "cell_type": "code",
   "execution_count": null,
   "id": "ce4d0509-c9a9-4c33-bf52-e3560991cc78",
   "metadata": {},
   "outputs": [],
   "source": [
    "forecast_2 = forecast_2.drop([\"ds\" ,\"ID\"]).reset_index().drop(\"index\", axis = 1)"
   ]
  },
  {
   "cell_type": "code",
   "execution_count": null,
   "id": "944547c0-9b55-4699-af2b-864312b9afa8",
   "metadata": {},
   "outputs": [],
   "source": [
    "df_test"
   ]
  },
  {
   "cell_type": "code",
   "execution_count": null,
   "id": "0df7ea4d-9551-45d8-b197-5f32f74c21d1",
   "metadata": {},
   "outputs": [],
   "source": [
    "pd.pivot(df_test, index=\"ds\", columns=\"ID\", values=\"y\")[-24:]"
   ]
  },
  {
   "cell_type": "code",
   "execution_count": null,
   "id": "7e4665b9-1b4c-4a83-9c57-ea684704865c",
   "metadata": {},
   "outputs": [],
   "source": [
    "df_all = pd.concat([df_test_2.reset_index(), forecast_2], axis = 1).drop(\"ds\", axis = 1)\n",
    "df_all.columns = df_all.columns.str.split('_', expand=True)\n",
    "df_all = df_all.swaplevel(axis=1) \n",
    "mse = df_all['current'].sub(df_all['pred']).pow(2).mean(axis=0)\n",
    "mae = df_all['current'].sub(df_all['pred']).abs().mean(axis=0)\n",
    "rmse = df_all['current'].sub(df_all['pred']).pow(2).mean(axis=0).pow(1/2)\n",
    "results = pd.concat([mse, mae, rmse], axis = 1)\n",
    "results"
   ]
  },
  {
   "cell_type": "code",
   "execution_count": null,
   "id": "34b91256-8611-4716-8f37-ec5d4e09e138",
   "metadata": {},
   "outputs": [],
   "source": [
    " pd.pivot(df_test, index=\"ds\", columns=\"ID\", values=\"y\")[-(self.n_forecasts):]"
   ]
  },
  {
   "cell_type": "code",
   "execution_count": null,
   "id": "90dc620a-e530-4ed1-a510-1760a0408d00",
   "metadata": {},
   "outputs": [],
   "source": [
    "from sklearn.metrics import mean_squared_error, mean_absolute_error, confusion_matrix\n",
    "\n",
    "df_test_2.apply(mean_squared_error, axis=0)\n"
   ]
  },
  {
   "cell_type": "code",
   "execution_count": null,
   "id": "fb75ff47-17f8-4369-8b8a-b69a83e95edc",
   "metadata": {},
   "outputs": [],
   "source": []
  }
 ],
 "metadata": {
  "kernelspec": {
   "display_name": "Python 3",
   "language": "python",
   "name": "python3"
  },
  "language_info": {
   "codemirror_mode": {
    "name": "ipython",
    "version": 3
   },
   "file_extension": ".py",
   "mimetype": "text/x-python",
   "name": "python",
   "nbconvert_exporter": "python",
   "pygments_lexer": "ipython3",
   "version": "3.9.7"
  }
 },
 "nbformat": 4,
 "nbformat_minor": 5
}
