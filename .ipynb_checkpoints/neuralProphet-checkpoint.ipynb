{
 "cells": [
  {
   "cell_type": "code",
   "execution_count": 1,
   "id": "79222860-c247-420f-a26f-8e2695c76845",
   "metadata": {},
   "outputs": [
    {
     "name": "stderr",
     "output_type": "stream",
     "text": [
      "C:\\Users\\Asus Rog\\anaconda3\\envs\\NeuralProphet\\lib\\site-packages\\plotly_resampler\\aggregation\\aggregators.py:24: UserWarning: Could not import lttbc; will use a (slower) python alternative.\n",
      "  warnings.warn(\"Could not import lttbc; will use a (slower) python alternative.\")\n"
     ]
    }
   ],
   "source": [
    "%load_ext autoreload\n",
    "%autoreload 2\n",
    "%matplotlib inline\n",
    "from aux_function_SR import read_data,get_eq_filtered, SR_SENSORS\n",
    "import pandas as pd\n",
    "import numpy as np\n",
    "from neuralprophet import NeuralProphet, set_log_level, save, load\n",
    "import logging\n",
    "import pandas as pd\n",
    "from datetime import datetime, timedelta\n",
    "import pickle\n",
    "from NPw import NPw, ConfigEQ, ConfigNPw, ConfigForecast\n",
    "set_log_level(\"ERROR\")"
   ]
  },
  {
   "cell_type": "code",
   "execution_count": 2,
   "id": "e5e76eb2-48b6-4fa7-91c7-0517a0015690",
   "metadata": {},
   "outputs": [],
   "source": [
    "delta = timedelta(\n",
    "    minutes=30,\n",
    ")\n",
    "#Read SR and EQ data\n",
    "df = read_data(\"data/SR_table_EarthQuake_v3_std.mat\")\n",
    "arrays = pd.DataFrame(df[\"NS_mean\"]).applymap(lambda x: np.array(x, dtype=np.float32)).to_numpy()\n",
    "# Adatpt to NeuralProphet input data\n",
    "NS_mean = np.array(np.stack([np.stack(a[0].squeeze()) for a in arrays]))\n",
    "# Create datetime Array\n",
    "pd.date_range(start=\"2018-09-09\",end=\"2020-02-02\")\n",
    "ds = pd.date_range(start=\"2016-01-01\",end=\"2021-01-01\", freq='30min')"
   ]
  },
  {
   "cell_type": "code",
   "execution_count": 3,
   "id": "a2a6e431-0f13-4ed7-99ae-ee3472601125",
   "metadata": {},
   "outputs": [],
   "source": [
    "#Convert 0,1 column to EQ events\n",
    "#events_eq = ds[earthquake_raw > 0.0]\n",
    "\n",
    "# Create the prior dataframe\n",
    "df_regressor = pd.DataFrame({'ds': ds, 'S0': NS_mean[:,0], 'S1': NS_mean[:,1], 'S2': NS_mean[:,2], 'S3': NS_mean[:,3], 'S4': NS_mean[:,4], 'S5': NS_mean[:,5], 'S6': NS_mean[:,6], 'S7': NS_mean[:,7], 'S8': NS_mean[:,8], 'S9': NS_mean[:,9]})\n",
    "\n",
    "\n"
   ]
  },
  {
   "cell_type": "code",
   "execution_count": 4,
   "id": "69148eab-9061-459f-9e1e-03f127e18c78",
   "metadata": {},
   "outputs": [],
   "source": [
    "from NPw import NPw, ConfigEQ, ConfigNPw, ConfigForecast\n",
    "config_npw_d = { 'forecast_length': timedelta(hours = 24), 'freq': timedelta(minutes= 30), 'question_mark_length': timedelta(hours = 24),\n",
    "                'num_hidden_layers': 2, 'learning_rate': 0.05, 'n_lags': 48, 'd_hidden': 16}\n",
    "config_npw = ConfigNPw(**config_npw_d)\n",
    "\n",
    "ConfigEQ_d = {'mag_array': df[\"mag\"].to_numpy(), 'dist_array': df[\"dist\"].to_numpy(), 'lat_array': df[\"lat\"].to_numpy(), 'arc_array': df[\"arc\"].to_numpy(), \n",
    "              'dist_start': 4000, 'dist_delta' : 2000, 'dist_max': 6000, 'lat_max':360, 'arc_max':60, 'mag_start':.5, 'mag_delta':1, 'dist_perct':1000}\n",
    "config_events = ConfigEQ(**ConfigEQ_d)\n"
   ]
  },
  {
   "cell_type": "code",
   "execution_count": 5,
   "id": "39f7a753-c191-4326-84e8-e59f23cd327a",
   "metadata": {},
   "outputs": [],
   "source": [
    "from NPw import NPw, ConfigEQ, ConfigNPw, ConfigForecast\n",
    "config_npw_d = { 'forecast_length': timedelta(hours = 24), 'freq': timedelta(minutes= 30), 'question_mark_length': timedelta(hours = 24),\n",
    "                'num_hidden_layers': 2, 'learning_rate': 0.01, 'n_lags': 5 * 48, 'd_hidden': 16}\n",
    "config_npw = ConfigNPw(**config_npw_d)\n",
    "\n",
    "ConfigEQ_d = {'mag_array': df[\"mag\"].to_numpy(), 'dist_array': df[\"dist\"].to_numpy(), 'lat_array': df[\"lat\"].to_numpy(), 'arc_array': df[\"arc\"].to_numpy(), \n",
    "              'dist_start': 4000, 'dist_delta' : 2000, 'dist_max': 6000, 'lat_max':360, 'arc_max':60, 'mag_start':.5, 'mag_delta':1, 'dist_perct':1000}\n",
    "config_events = ConfigEQ(**ConfigEQ_d)\n",
    "\n"
   ]
  },
  {
   "cell_type": "code",
   "execution_count": null,
   "id": "c830bcff-187f-48d8-b444-7ef9427e2fc3",
   "metadata": {},
   "outputs": [],
   "source": [
    "import requests\n",
    "from dateutil.relativedelta import *\n",
    "hours_offsets = [- 3 * 24, 6, 12]\n",
    "event_offsets = [None, -timedelta(hours= 6), -timedelta(hours= 12)]\n",
    "#start_day  = datetime.fromisoformat('2018-01-01T10:00:00');\n",
    "days  = list(range(3))\n",
    "start_day  = datetime.fromisoformat('2019-01-01T10:00:00');\n",
    "n_months = 1\n",
    "sites = list()\n",
    "for i in range(n_months):\n",
    "    start_date = start_day + i * relativedelta(months=+1)\n",
    "    sites.append(start_date)\n",
    "\n",
    "def NPw_parallel(start_day):\n",
    "    NPw_o = NPw(config_npw, df_regressor,config_events)\n",
    "    day = NPw_o.get_next_event(start_day)\n",
    "    test_metrics = NPw_o.predict_with_offset_hours(day, hours_offsets, event_offsets)\n",
    "    NPw_o.save_df( day.strftime(\"%m_%d_%Y_%H_%M_%S\")) \n",
    "    return day.strftime(\"%m_%d_%Y_%H_%M_%S\")#test_metrics\n",
    "\n",
    "\n",
    "for test_metrics in map(NPw_parallel, sites):\n",
    "    print(test_metrics)"
   ]
  },
  {
   "cell_type": "code",
   "execution_count": null,
   "id": "6b1e570a-610e-4439-8176-3dc020b848bf",
   "metadata": {},
   "outputs": [],
   "source": [
    "from datetime import datetime, timedelta\n",
    "from dateutil.relativedelta import *\n",
    "start_day  = datetime.fromisoformat('2018-01-01T10:00:00');\n",
    "sites = []\n",
    "for i in range(7):\n",
    "    start_date = start_day + i * relativedelta(months=+6)\n",
    "    print(start_date)\n",
    "    sites.append(start_date)\n",
    "    \n",
    "days = datetime.fromisoformat('2017-01-01T10:00:00') \n",
    "for index_delta in range(n_dates):\n",
    "    start_date = days + index_delta * relativedelta(months=+6)\n",
    "    print(start_date)\n",
    "#sites = [(index_day * relativedelta(month=+6)) for index_day in days]\n",
    "sites"
   ]
  },
  {
   "cell_type": "code",
   "execution_count": 8,
   "id": "6b2704cb-9670-4bf1-95e9-e1d6d7e1b38b",
   "metadata": {},
   "outputs": [],
   "source": [
    "NPw_o.save_df() \n"
   ]
  },
  {
   "cell_type": "code",
   "execution_count": 11,
   "id": "dfbbf9d1-721d-4fe6-afe3-7be7047a4234",
   "metadata": {},
   "outputs": [],
   "source": [
    "NPw_o.save_df()"
   ]
  },
  {
   "cell_type": "code",
   "execution_count": 16,
   "id": "4fa83db4-4a60-4316-ab63-caccff8853a9",
   "metadata": {},
   "outputs": [
    {
     "name": "stdout",
     "output_type": "stream",
     "text": [
      "EVENT: 2018-01-04 10:30:00 date: 2018-01-04 22:30:00 Offset: -1 day, 0:00:00\n",
      "<neuralprophet.forecaster.NeuralProphet object at 0x0000029D4B4325E0>\n"
     ]
    },
    {
     "data": {
      "application/vnd.jupyter.widget-view+json": {
       "model_id": "db25a307399c472abc5f4d63b18a5c18",
       "version_major": 2,
       "version_minor": 0
      },
      "text/plain": [
       "Training: 0it [00:00, ?it/s]"
      ]
     },
     "metadata": {},
     "output_type": "display_data"
    },
    {
     "data": {
      "application/vnd.jupyter.widget-view+json": {
       "model_id": "2bdf4ccb23444391ae5c94abb832c674",
       "version_major": 2,
       "version_minor": 0
      },
      "text/plain": [
       "Predicting: 2734it [00:00, ?it/s]"
      ]
     },
     "metadata": {},
     "output_type": "display_data"
    },
    {
     "data": {
      "application/vnd.jupyter.widget-view+json": {
       "model_id": "63f81df2e058459f9dbb117023228d77",
       "version_major": 2,
       "version_minor": 0
      },
      "text/plain": [
       "Predicting: 2734it [00:00, ?it/s]"
      ]
     },
     "metadata": {},
     "output_type": "display_data"
    },
    {
     "data": {
      "application/vnd.jupyter.widget-view+json": {
       "model_id": "a7f9a707a9f24e08985fc09b8cac3ab0",
       "version_major": 2,
       "version_minor": 0
      },
      "text/plain": [
       "Predicting: 2734it [00:00, ?it/s]"
      ]
     },
     "metadata": {},
     "output_type": "display_data"
    },
    {
     "data": {
      "application/vnd.jupyter.widget-view+json": {
       "model_id": "3d138240c1344fcebfda4627c0bcf9b3",
       "version_major": 2,
       "version_minor": 0
      },
      "text/plain": [
       "Predicting: 2734it [00:00, ?it/s]"
      ]
     },
     "metadata": {},
     "output_type": "display_data"
    },
    {
     "data": {
      "application/vnd.jupyter.widget-view+json": {
       "model_id": "fa957cde15414a8e8559bce2ba28e605",
       "version_major": 2,
       "version_minor": 0
      },
      "text/plain": [
       "Predicting: 2734it [00:00, ?it/s]"
      ]
     },
     "metadata": {},
     "output_type": "display_data"
    },
    {
     "data": {
      "application/vnd.jupyter.widget-view+json": {
       "model_id": "6fa0e631b481456eab0b0e0dd9855be8",
       "version_major": 2,
       "version_minor": 0
      },
      "text/plain": [
       "Predicting: 2734it [00:00, ?it/s]"
      ]
     },
     "metadata": {},
     "output_type": "display_data"
    },
    {
     "data": {
      "application/vnd.jupyter.widget-view+json": {
       "model_id": "fea8228a800841c1b294a44a23722866",
       "version_major": 2,
       "version_minor": 0
      },
      "text/plain": [
       "Predicting: 2734it [00:00, ?it/s]"
      ]
     },
     "metadata": {},
     "output_type": "display_data"
    },
    {
     "data": {
      "application/vnd.jupyter.widget-view+json": {
       "model_id": "60571e1554284deb825f75b0acca3cd1",
       "version_major": 2,
       "version_minor": 0
      },
      "text/plain": [
       "Predicting: 2734it [00:00, ?it/s]"
      ]
     },
     "metadata": {},
     "output_type": "display_data"
    },
    {
     "data": {
      "application/vnd.jupyter.widget-view+json": {
       "model_id": "536da30349714ad4a482588b9cb9df43",
       "version_major": 2,
       "version_minor": 0
      },
      "text/plain": [
       "Predicting: 2734it [00:00, ?it/s]"
      ]
     },
     "metadata": {},
     "output_type": "display_data"
    },
    {
     "data": {
      "application/vnd.jupyter.widget-view+json": {
       "model_id": "ebac1eb0de7748979a209061d83870b8",
       "version_major": 2,
       "version_minor": 0
      },
      "text/plain": [
       "Predicting: 2734it [00:00, ?it/s]"
      ]
     },
     "metadata": {},
     "output_type": "display_data"
    },
    {
     "name": "stdout",
     "output_type": "stream",
     "text": [
      "0.63430256\n"
     ]
    }
   ],
   "source": [
    "event_offset  = -timedelta(hours= 24)\n",
    "print(\"EVENT: \" + str(event_date) + \" date: \" + str(current_date) + \" Offset: \" + str(event_offset))\n",
    "config_fc = ConfigForecast(start_forecast = current_date, offset_event = event_offset)\n",
    "NPw_o.add_forecast(config_fc)"
   ]
  },
  {
   "cell_type": "code",
   "execution_count": 17,
   "id": "f66a4551-8e52-4d00-99c2-3100653d2f83",
   "metadata": {},
   "outputs": [
    {
     "name": "stdout",
     "output_type": "stream",
     "text": [
      "EVENT: 2018-01-04 10:30:00 date: 2018-01-04 22:30:00 Offset: None\n",
      "<neuralprophet.forecaster.NeuralProphet object at 0x0000029D4809C4C0>\n"
     ]
    },
    {
     "data": {
      "application/vnd.jupyter.widget-view+json": {
       "model_id": "9da3deda18d6489b90fca4b526789ada",
       "version_major": 2,
       "version_minor": 0
      },
      "text/plain": [
       "Training: 0it [00:00, ?it/s]"
      ]
     },
     "metadata": {},
     "output_type": "display_data"
    },
    {
     "data": {
      "application/vnd.jupyter.widget-view+json": {
       "model_id": "30e688f5e47b4eada19badc366cfaf97",
       "version_major": 2,
       "version_minor": 0
      },
      "text/plain": [
       "Predicting: 2734it [00:00, ?it/s]"
      ]
     },
     "metadata": {},
     "output_type": "display_data"
    },
    {
     "data": {
      "application/vnd.jupyter.widget-view+json": {
       "model_id": "3eabcf66e1674ac89708965c90b79793",
       "version_major": 2,
       "version_minor": 0
      },
      "text/plain": [
       "Predicting: 2734it [00:00, ?it/s]"
      ]
     },
     "metadata": {},
     "output_type": "display_data"
    },
    {
     "data": {
      "application/vnd.jupyter.widget-view+json": {
       "model_id": "f7de55c3534f4724bbd74ebebd77ffcd",
       "version_major": 2,
       "version_minor": 0
      },
      "text/plain": [
       "Predicting: 2734it [00:00, ?it/s]"
      ]
     },
     "metadata": {},
     "output_type": "display_data"
    },
    {
     "data": {
      "application/vnd.jupyter.widget-view+json": {
       "model_id": "9547f70e1a094ff2956651d1a62a51ea",
       "version_major": 2,
       "version_minor": 0
      },
      "text/plain": [
       "Predicting: 2734it [00:00, ?it/s]"
      ]
     },
     "metadata": {},
     "output_type": "display_data"
    },
    {
     "data": {
      "application/vnd.jupyter.widget-view+json": {
       "model_id": "61047a83dc3b4c71b153289ba37ce75a",
       "version_major": 2,
       "version_minor": 0
      },
      "text/plain": [
       "Predicting: 2734it [00:00, ?it/s]"
      ]
     },
     "metadata": {},
     "output_type": "display_data"
    },
    {
     "data": {
      "application/vnd.jupyter.widget-view+json": {
       "model_id": "616bae1db7054f51a4d05ab287ff9d10",
       "version_major": 2,
       "version_minor": 0
      },
      "text/plain": [
       "Predicting: 2734it [00:00, ?it/s]"
      ]
     },
     "metadata": {},
     "output_type": "display_data"
    },
    {
     "data": {
      "application/vnd.jupyter.widget-view+json": {
       "model_id": "9c7da582d108414aaf31aa611b2dda68",
       "version_major": 2,
       "version_minor": 0
      },
      "text/plain": [
       "Predicting: 2734it [00:00, ?it/s]"
      ]
     },
     "metadata": {},
     "output_type": "display_data"
    },
    {
     "data": {
      "application/vnd.jupyter.widget-view+json": {
       "model_id": "a49dfc66186744e6b9a4e397bdf4e878",
       "version_major": 2,
       "version_minor": 0
      },
      "text/plain": [
       "Predicting: 2734it [00:00, ?it/s]"
      ]
     },
     "metadata": {},
     "output_type": "display_data"
    },
    {
     "data": {
      "application/vnd.jupyter.widget-view+json": {
       "model_id": "17cfd52da25047388425ac8529db114a",
       "version_major": 2,
       "version_minor": 0
      },
      "text/plain": [
       "Predicting: 2734it [00:00, ?it/s]"
      ]
     },
     "metadata": {},
     "output_type": "display_data"
    },
    {
     "data": {
      "application/vnd.jupyter.widget-view+json": {
       "model_id": "b5bac11191944cd290a10e525f514d39",
       "version_major": 2,
       "version_minor": 0
      },
      "text/plain": [
       "Predicting: 2734it [00:00, ?it/s]"
      ]
     },
     "metadata": {},
     "output_type": "display_data"
    },
    {
     "name": "stdout",
     "output_type": "stream",
     "text": [
      "0.5027072\n"
     ]
    }
   ],
   "source": [
    "event_offset  = None\n",
    "print(\"EVENT: \" + str(event_date) + \" date: \" + str(current_date) + \" Offset: \" + str(event_offset))\n",
    "config_fc = ConfigForecast(start_forecast = current_date, offset_event = event_offset)\n",
    "NPw_o.add_forecast(config_fc)"
   ]
  },
  {
   "cell_type": "code",
   "execution_count": 19,
   "id": "54b16fb5-a263-423f-9b0a-c0f38efd7f03",
   "metadata": {},
   "outputs": [],
   "source": [
    "NPw_o.save_df()"
   ]
  },
  {
   "cell_type": "code",
   "execution_count": 34,
   "id": "d41118d3-b421-4602-a13c-d945ecea9921",
   "metadata": {},
   "outputs": [
    {
     "name": "stdout",
     "output_type": "stream",
     "text": [
      "2017-01-01 10:00:00\n",
      "2017-07-01 10:00:00\n",
      "2018-01-01 10:00:00\n",
      "2018-07-01 10:00:00\n",
      "2019-01-01 10:00:00\n",
      "2019-07-01 10:00:00\n",
      "2020-01-01 10:00:00\n",
      "2020-07-01 10:00:00\n"
     ]
    }
   ],
   "source": []
  },
  {
   "cell_type": "code",
   "execution_count": 30,
   "id": "47e2e797-bc0d-4ee1-9367-404aeda01b80",
   "metadata": {},
   "outputs": [
    {
     "name": "stdout",
     "output_type": "stream",
     "text": [
      "2017-01-01 10:00:00\n",
      "2017-07-01 10:00:00\n",
      "2018-01-01 10:00:00\n",
      "2018-07-01 10:00:00\n",
      "2019-01-01 10:00:00\n",
      "2019-07-01 10:00:00\n",
      "2020-01-01 10:00:00\n",
      "2020-07-01 10:00:00\n"
     ]
    }
   ],
   "source": [
    "from dateutil.relativedelta import *\n",
    "days = datetime.fromisoformat('2017-01-01T10:00:00') \n",
    "n_dates = 8\n",
    "offset_hours = [- 3 * 24, 12, 24]\n",
    "event_offsets = [None, -timedelta(hours= 12),-timedelta(hours= 24)]\n",
    "for index_delta in range(n_dates):\n",
    "    start_date = days + index_delta * relativedelta(months=+6)\n",
    "    print(start_date)\n",
    "    event_date = NPw_o.get_next_event(start_date)\n",
    "    #print(\"EVENT: \" + str(event_date))\n",
    "    for offset_hour in offset_hours:\n",
    "        current_date = event_date + relativedelta(hours=+offset_hour)\n",
    "        #print(\"Current date: \" + str(event_date))\n",
    "        for event_offset in event_offsets:\n",
    "            #print(\"EVENT: \" + str(event_date) + \" date: \" + str(current_date) + \" Offset: \" + str(event_offset))\n",
    "            config_fc = ConfigForecast(start_forecast = current_date, offset_event = event_offset)\n",
    "            \n",
    "            #NPw_o.add_forecast(config_fc)\n",
    "            #NPw_o.save_df()\n",
    "            \n",
    "    "
   ]
  },
  {
   "cell_type": "code",
   "execution_count": 14,
   "id": "1f2cb677-21fd-41e4-bc23-2b6cb6532a6c",
   "metadata": {},
   "outputs": [
    {
     "ename": "RuntimeError",
     "evalue": "Invalid magic number; corrupt file?",
     "output_type": "error",
     "traceback": [
      "\u001b[1;31m---------------------------------------------------------------------------\u001b[0m",
      "\u001b[1;31mRuntimeError\u001b[0m                              Traceback (most recent call last)",
      "Cell \u001b[1;32mIn[14], line 1\u001b[0m\n\u001b[1;32m----> 1\u001b[0m NPw_o \u001b[38;5;241m=\u001b[39m \u001b[43mNPw\u001b[49m\u001b[38;5;241;43m.\u001b[39;49m\u001b[43mload_class\u001b[49m\u001b[43m(\u001b[49m\u001b[38;5;124;43m\"\u001b[39;49m\u001b[38;5;124;43mbackup/gold_beetle\u001b[39;49m\u001b[38;5;124;43m\"\u001b[39;49m\u001b[43m)\u001b[49m\n",
      "File \u001b[1;32m~\\dev\\Manchester\\SR\\NPw.py:202\u001b[0m, in \u001b[0;36mNPw.load_class\u001b[1;34m(filename)\u001b[0m\n\u001b[0;32m    200\u001b[0m \u001b[38;5;28;01mdef\u001b[39;00m \u001b[38;5;21mload_class\u001b[39m(filename):\n\u001b[0;32m    201\u001b[0m         \u001b[38;5;28;01mwith\u001b[39;00m \u001b[38;5;28mopen\u001b[39m(filename \u001b[38;5;241m+\u001b[39m \u001b[38;5;124m\"\u001b[39m\u001b[38;5;124m.pkl\u001b[39m\u001b[38;5;124m\"\u001b[39m, \u001b[38;5;124m\"\u001b[39m\u001b[38;5;124mrb\u001b[39m\u001b[38;5;124m\"\u001b[39m) \u001b[38;5;28;01mas\u001b[39;00m f:\n\u001b[1;32m--> 202\u001b[0m             \u001b[38;5;28;01mreturn\u001b[39;00m \u001b[43mload\u001b[49m\u001b[43m(\u001b[49m\u001b[43mf\u001b[49m\u001b[43m)\u001b[49m\n",
      "File \u001b[1;32m~\\anaconda3\\envs\\NeuralProphet\\lib\\site-packages\\neuralprophet\\utils.py:66\u001b[0m, in \u001b[0;36mload\u001b[1;34m(path)\u001b[0m\n\u001b[0;32m     47\u001b[0m \u001b[38;5;28;01mdef\u001b[39;00m \u001b[38;5;21mload\u001b[39m(path):\n\u001b[0;32m     48\u001b[0m     \u001b[38;5;124;03m\"\"\"retrieve a fitted model from a .np file that was saved by save.\u001b[39;00m\n\u001b[0;32m     49\u001b[0m \n\u001b[0;32m     50\u001b[0m \u001b[38;5;124;03m    Parameters\u001b[39;00m\n\u001b[1;32m   (...)\u001b[0m\n\u001b[0;32m     64\u001b[0m \u001b[38;5;124;03m        >>> model = load(\"test_save_model.np\")\u001b[39;00m\n\u001b[0;32m     65\u001b[0m \u001b[38;5;124;03m    \"\"\"\u001b[39;00m\n\u001b[1;32m---> 66\u001b[0m     m \u001b[38;5;241m=\u001b[39m \u001b[43mtorch\u001b[49m\u001b[38;5;241;43m.\u001b[39;49m\u001b[43mload\u001b[49m\u001b[43m(\u001b[49m\u001b[43mpath\u001b[49m\u001b[43m)\u001b[49m\n\u001b[0;32m     67\u001b[0m     m\u001b[38;5;241m.\u001b[39mrestore_trainer()\n\u001b[0;32m     68\u001b[0m     \u001b[38;5;28;01mreturn\u001b[39;00m m\n",
      "File \u001b[1;32m~\\anaconda3\\envs\\NeuralProphet\\lib\\site-packages\\torch\\serialization.py:795\u001b[0m, in \u001b[0;36mload\u001b[1;34m(f, map_location, pickle_module, weights_only, **pickle_load_args)\u001b[0m\n\u001b[0;32m    793\u001b[0m     \u001b[38;5;28;01mexcept\u001b[39;00m \u001b[38;5;167;01mRuntimeError\u001b[39;00m \u001b[38;5;28;01mas\u001b[39;00m e:\n\u001b[0;32m    794\u001b[0m         \u001b[38;5;28;01mraise\u001b[39;00m pickle\u001b[38;5;241m.\u001b[39mUnpicklingError(UNSAFE_MESSAGE \u001b[38;5;241m+\u001b[39m \u001b[38;5;28mstr\u001b[39m(e)) \u001b[38;5;28;01mfrom\u001b[39;00m \u001b[38;5;28mNone\u001b[39m\n\u001b[1;32m--> 795\u001b[0m \u001b[38;5;28;01mreturn\u001b[39;00m _legacy_load(opened_file, map_location, pickle_module, \u001b[38;5;241m*\u001b[39m\u001b[38;5;241m*\u001b[39mpickle_load_args)\n",
      "File \u001b[1;32m~\\anaconda3\\envs\\NeuralProphet\\lib\\site-packages\\torch\\serialization.py:1004\u001b[0m, in \u001b[0;36m_legacy_load\u001b[1;34m(f, map_location, pickle_module, **pickle_load_args)\u001b[0m\n\u001b[0;32m   1002\u001b[0m magic_number \u001b[38;5;241m=\u001b[39m pickle_module\u001b[38;5;241m.\u001b[39mload(f, \u001b[38;5;241m*\u001b[39m\u001b[38;5;241m*\u001b[39mpickle_load_args)\n\u001b[0;32m   1003\u001b[0m \u001b[38;5;28;01mif\u001b[39;00m magic_number \u001b[38;5;241m!=\u001b[39m MAGIC_NUMBER:\n\u001b[1;32m-> 1004\u001b[0m     \u001b[38;5;28;01mraise\u001b[39;00m \u001b[38;5;167;01mRuntimeError\u001b[39;00m(\u001b[38;5;124m\"\u001b[39m\u001b[38;5;124mInvalid magic number; corrupt file?\u001b[39m\u001b[38;5;124m\"\u001b[39m)\n\u001b[0;32m   1005\u001b[0m protocol_version \u001b[38;5;241m=\u001b[39m pickle_module\u001b[38;5;241m.\u001b[39mload(f, \u001b[38;5;241m*\u001b[39m\u001b[38;5;241m*\u001b[39mpickle_load_args)\n\u001b[0;32m   1006\u001b[0m \u001b[38;5;28;01mif\u001b[39;00m protocol_version \u001b[38;5;241m!=\u001b[39m PROTOCOL_VERSION:\n",
      "\u001b[1;31mRuntimeError\u001b[0m: Invalid magic number; corrupt file?"
     ]
    }
   ],
   "source": [
    "NPw_o = NPw.load_class(\"backup/gold_beetle\")"
   ]
  },
  {
   "cell_type": "code",
   "execution_count": 8,
   "id": "ac84b3a7-d20b-4727-a16d-c647d2c57aef",
   "metadata": {},
   "outputs": [
    {
     "ename": "ModuleNotFoundError",
     "evalue": "No module named 'dill'",
     "output_type": "error",
     "traceback": [
      "\u001b[1;31m---------------------------------------------------------------------------\u001b[0m",
      "\u001b[1;31mModuleNotFoundError\u001b[0m                       Traceback (most recent call last)",
      "Cell \u001b[1;32mIn[8], line 7\u001b[0m\n\u001b[0;32m      4\u001b[0m \u001b[38;5;66;03m# Use the pure-Python version, we can't see the internal state of the C version\u001b[39;00m\n\u001b[0;32m      5\u001b[0m pickle\u001b[38;5;241m.\u001b[39mUnpickler \u001b[38;5;241m=\u001b[39m pickle\u001b[38;5;241m.\u001b[39m_Unpickler\n\u001b[1;32m----> 7\u001b[0m \u001b[38;5;28;01mimport\u001b[39;00m \u001b[38;5;21;01mdill\u001b[39;00m\n\u001b[0;32m     10\u001b[0m unpickler \u001b[38;5;241m=\u001b[39m dill\u001b[38;5;241m.\u001b[39mUnpickler(handle)\n\u001b[0;32m     12\u001b[0m \u001b[38;5;28;01mtry\u001b[39;00m:\n",
      "\u001b[1;31mModuleNotFoundError\u001b[0m: No module named 'dill'"
     ]
    }
   ],
   "source": [
    "import io\n",
    "import pickle\n",
    "\n",
    "# Use the pure-Python version, we can't see the internal state of the C version\n",
    "pickle.Unpickler = pickle._Unpickler\n",
    "\n",
    "import dill\n",
    "\n",
    "\n",
    "unpickler = dill.Unpickler(handle)\n",
    "\n",
    "try:\n",
    "    unpickler.load()\n",
    "except EOFError:\n",
    "    pass\n",
    "\n",
    "print(unpickler.stack)"
   ]
  },
  {
   "cell_type": "code",
   "execution_count": 14,
   "id": "e30f170a-843b-44de-8f8f-3791e08eb66b",
   "metadata": {},
   "outputs": [
    {
     "data": {
      "application/vnd.jupyter.widget-view+json": {
       "model_id": "1015c1093c934cb4a9ca054c5c4f0886",
       "version_major": 2,
       "version_minor": 0
      },
      "text/plain": [
       "Training: 0it [00:00, ?it/s]"
      ]
     },
     "metadata": {},
     "output_type": "display_data"
    },
    {
     "data": {
      "application/vnd.jupyter.widget-view+json": {
       "model_id": "1acb360de7b44226a0055ac7c689f7bd",
       "version_major": 2,
       "version_minor": 0
      },
      "text/plain": [
       "Predicting: 1416it [00:00, ?it/s]"
      ]
     },
     "metadata": {},
     "output_type": "display_data"
    },
    {
     "data": {
      "application/vnd.jupyter.widget-view+json": {
       "model_id": "55e96d5205be4e0aad19377093b4a7c7",
       "version_major": 2,
       "version_minor": 0
      },
      "text/plain": [
       "Predicting: 1416it [00:00, ?it/s]"
      ]
     },
     "metadata": {},
     "output_type": "display_data"
    },
    {
     "data": {
      "application/vnd.jupyter.widget-view+json": {
       "model_id": "e3ca6f5c767945e3a95463bd5e6b3e5e",
       "version_major": 2,
       "version_minor": 0
      },
      "text/plain": [
       "Predicting: 1416it [00:00, ?it/s]"
      ]
     },
     "metadata": {},
     "output_type": "display_data"
    },
    {
     "data": {
      "application/vnd.jupyter.widget-view+json": {
       "model_id": "d974314c8be140208b4d23c5a7ff4db3",
       "version_major": 2,
       "version_minor": 0
      },
      "text/plain": [
       "Predicting: 1416it [00:00, ?it/s]"
      ]
     },
     "metadata": {},
     "output_type": "display_data"
    },
    {
     "data": {
      "application/vnd.jupyter.widget-view+json": {
       "model_id": "14366f08f02b4ebb8aca52b7a6537f40",
       "version_major": 2,
       "version_minor": 0
      },
      "text/plain": [
       "Predicting: 1416it [00:00, ?it/s]"
      ]
     },
     "metadata": {},
     "output_type": "display_data"
    },
    {
     "data": {
      "application/vnd.jupyter.widget-view+json": {
       "model_id": "af7df0c34b22412485fa41d04563afc0",
       "version_major": 2,
       "version_minor": 0
      },
      "text/plain": [
       "Predicting: 1416it [00:00, ?it/s]"
      ]
     },
     "metadata": {},
     "output_type": "display_data"
    },
    {
     "data": {
      "application/vnd.jupyter.widget-view+json": {
       "model_id": "e2f67bd459a14effb6ab90b47dcb8031",
       "version_major": 2,
       "version_minor": 0
      },
      "text/plain": [
       "Predicting: 1416it [00:00, ?it/s]"
      ]
     },
     "metadata": {},
     "output_type": "display_data"
    },
    {
     "data": {
      "application/vnd.jupyter.widget-view+json": {
       "model_id": "4a1b9d1b5250429d9c1caf9055230663",
       "version_major": 2,
       "version_minor": 0
      },
      "text/plain": [
       "Predicting: 1416it [00:00, ?it/s]"
      ]
     },
     "metadata": {},
     "output_type": "display_data"
    },
    {
     "data": {
      "application/vnd.jupyter.widget-view+json": {
       "model_id": "1bd1f0fb01c7420fb0ff8a9684186342",
       "version_major": 2,
       "version_minor": 0
      },
      "text/plain": [
       "Predicting: 1416it [00:00, ?it/s]"
      ]
     },
     "metadata": {},
     "output_type": "display_data"
    },
    {
     "data": {
      "application/vnd.jupyter.widget-view+json": {
       "model_id": "35ef3cab62954abab82ab0e802483faf",
       "version_major": 2,
       "version_minor": 0
      },
      "text/plain": [
       "Predicting: 1416it [00:00, ?it/s]"
      ]
     },
     "metadata": {},
     "output_type": "display_data"
    },
    {
     "data": {
      "application/vnd.jupyter.widget-view+json": {
       "model_id": "c46c6dd0e0a0479585b97e983c3882bf",
       "version_major": 2,
       "version_minor": 0
      },
      "text/plain": [
       "Training: 0it [00:00, ?it/s]"
      ]
     },
     "metadata": {},
     "output_type": "display_data"
    },
    {
     "data": {
      "application/vnd.jupyter.widget-view+json": {
       "model_id": "3b27017072c34e5f84213c740ccf9877",
       "version_major": 2,
       "version_minor": 0
      },
      "text/plain": [
       "Predicting: 1416it [00:00, ?it/s]"
      ]
     },
     "metadata": {},
     "output_type": "display_data"
    },
    {
     "data": {
      "application/vnd.jupyter.widget-view+json": {
       "model_id": "bc64a85bcdd84066bb94ae37c431852e",
       "version_major": 2,
       "version_minor": 0
      },
      "text/plain": [
       "Predicting: 1416it [00:00, ?it/s]"
      ]
     },
     "metadata": {},
     "output_type": "display_data"
    },
    {
     "data": {
      "application/vnd.jupyter.widget-view+json": {
       "model_id": "7315289e1d6a43f2bf1dac949a93eb34",
       "version_major": 2,
       "version_minor": 0
      },
      "text/plain": [
       "Predicting: 1416it [00:00, ?it/s]"
      ]
     },
     "metadata": {},
     "output_type": "display_data"
    },
    {
     "data": {
      "application/vnd.jupyter.widget-view+json": {
       "model_id": "644cfc31aa5748558f22461c095eb5a6",
       "version_major": 2,
       "version_minor": 0
      },
      "text/plain": [
       "Predicting: 1416it [00:00, ?it/s]"
      ]
     },
     "metadata": {},
     "output_type": "display_data"
    },
    {
     "data": {
      "application/vnd.jupyter.widget-view+json": {
       "model_id": "f6ab76900fcf4326b017a22c2bc6be58",
       "version_major": 2,
       "version_minor": 0
      },
      "text/plain": [
       "Predicting: 1416it [00:00, ?it/s]"
      ]
     },
     "metadata": {},
     "output_type": "display_data"
    },
    {
     "data": {
      "application/vnd.jupyter.widget-view+json": {
       "model_id": "2f0e98e835164a809f9e2a22c38645bf",
       "version_major": 2,
       "version_minor": 0
      },
      "text/plain": [
       "Predicting: 1416it [00:00, ?it/s]"
      ]
     },
     "metadata": {},
     "output_type": "display_data"
    },
    {
     "data": {
      "application/vnd.jupyter.widget-view+json": {
       "model_id": "168d87c94fb5498ba965e37e5fd7f001",
       "version_major": 2,
       "version_minor": 0
      },
      "text/plain": [
       "Predicting: 1416it [00:00, ?it/s]"
      ]
     },
     "metadata": {},
     "output_type": "display_data"
    },
    {
     "data": {
      "application/vnd.jupyter.widget-view+json": {
       "model_id": "45923bdedeca40959d613e7fc42e86b6",
       "version_major": 2,
       "version_minor": 0
      },
      "text/plain": [
       "Predicting: 1416it [00:00, ?it/s]"
      ]
     },
     "metadata": {},
     "output_type": "display_data"
    },
    {
     "data": {
      "application/vnd.jupyter.widget-view+json": {
       "model_id": "2b45c14d0b194e13ae17a9e08fe5008a",
       "version_major": 2,
       "version_minor": 0
      },
      "text/plain": [
       "Predicting: 1416it [00:00, ?it/s]"
      ]
     },
     "metadata": {},
     "output_type": "display_data"
    },
    {
     "data": {
      "application/vnd.jupyter.widget-view+json": {
       "model_id": "3d091b86b7ac4366ade93930ab07e484",
       "version_major": 2,
       "version_minor": 0
      },
      "text/plain": [
       "Predicting: 1416it [00:00, ?it/s]"
      ]
     },
     "metadata": {},
     "output_type": "display_data"
    },
    {
     "data": {
      "application/vnd.jupyter.widget-view+json": {
       "model_id": "cb7da57694c0464eb0f956aa12ff9fa2",
       "version_major": 2,
       "version_minor": 0
      },
      "text/plain": [
       "Training: 0it [00:00, ?it/s]"
      ]
     },
     "metadata": {},
     "output_type": "display_data"
    },
    {
     "data": {
      "application/vnd.jupyter.widget-view+json": {
       "model_id": "f6990ba89b6149869595557179ea6209",
       "version_major": 2,
       "version_minor": 0
      },
      "text/plain": [
       "Predicting: 1416it [00:00, ?it/s]"
      ]
     },
     "metadata": {},
     "output_type": "display_data"
    },
    {
     "data": {
      "application/vnd.jupyter.widget-view+json": {
       "model_id": "e2eb6cec2219490c8c59b1ffd418d82b",
       "version_major": 2,
       "version_minor": 0
      },
      "text/plain": [
       "Predicting: 1416it [00:00, ?it/s]"
      ]
     },
     "metadata": {},
     "output_type": "display_data"
    },
    {
     "data": {
      "application/vnd.jupyter.widget-view+json": {
       "model_id": "021fe23a0e9140bb8553377ab4861c8c",
       "version_major": 2,
       "version_minor": 0
      },
      "text/plain": [
       "Predicting: 1416it [00:00, ?it/s]"
      ]
     },
     "metadata": {},
     "output_type": "display_data"
    },
    {
     "data": {
      "application/vnd.jupyter.widget-view+json": {
       "model_id": "fc7f590f4eef485fad00e77a72240f4b",
       "version_major": 2,
       "version_minor": 0
      },
      "text/plain": [
       "Predicting: 1416it [00:00, ?it/s]"
      ]
     },
     "metadata": {},
     "output_type": "display_data"
    },
    {
     "data": {
      "application/vnd.jupyter.widget-view+json": {
       "model_id": "8ad165e4fb224dde84275bfed122c188",
       "version_major": 2,
       "version_minor": 0
      },
      "text/plain": [
       "Predicting: 1416it [00:00, ?it/s]"
      ]
     },
     "metadata": {},
     "output_type": "display_data"
    },
    {
     "data": {
      "application/vnd.jupyter.widget-view+json": {
       "model_id": "ebe9ea849cc8403fb553f5035fedba25",
       "version_major": 2,
       "version_minor": 0
      },
      "text/plain": [
       "Predicting: 1416it [00:00, ?it/s]"
      ]
     },
     "metadata": {},
     "output_type": "display_data"
    },
    {
     "data": {
      "application/vnd.jupyter.widget-view+json": {
       "model_id": "a7df174445da477e81474c4ae9544fe7",
       "version_major": 2,
       "version_minor": 0
      },
      "text/plain": [
       "Predicting: 1416it [00:00, ?it/s]"
      ]
     },
     "metadata": {},
     "output_type": "display_data"
    },
    {
     "data": {
      "application/vnd.jupyter.widget-view+json": {
       "model_id": "dd8aea506f9d4109b94467903b45d538",
       "version_major": 2,
       "version_minor": 0
      },
      "text/plain": [
       "Predicting: 1416it [00:00, ?it/s]"
      ]
     },
     "metadata": {},
     "output_type": "display_data"
    },
    {
     "data": {
      "application/vnd.jupyter.widget-view+json": {
       "model_id": "5b8cf26af12a43f7981f2162fbd76380",
       "version_major": 2,
       "version_minor": 0
      },
      "text/plain": [
       "Predicting: 1416it [00:00, ?it/s]"
      ]
     },
     "metadata": {},
     "output_type": "display_data"
    },
    {
     "data": {
      "application/vnd.jupyter.widget-view+json": {
       "model_id": "5b468c2a6b0d4c338e7f536e32321f94",
       "version_major": 2,
       "version_minor": 0
      },
      "text/plain": [
       "Predicting: 1416it [00:00, ?it/s]"
      ]
     },
     "metadata": {},
     "output_type": "display_data"
    }
   ],
   "source": [
    "cases = [None, -timedelta(hours= 12),-timedelta(hours= 24)]\n",
    "\n",
    "for case in cases:\n",
    "    config_fc = ConfigForecast(start_forecast = dt_event, offset_event = case)\n",
    "    NPw_o.add_forecast(config_fc)\n",
    "    NPw_o.save_class()"
   ]
  },
  {
   "cell_type": "code",
   "execution_count": 16,
   "id": "e10eabd8-06e0-4693-bc25-0c70a5c0c1bc",
   "metadata": {},
   "outputs": [
    {
     "data": {
      "text/html": [
       "<div>\n",
       "<style scoped>\n",
       "    .dataframe tbody tr th:only-of-type {\n",
       "        vertical-align: middle;\n",
       "    }\n",
       "\n",
       "    .dataframe tbody tr th {\n",
       "        vertical-align: top;\n",
       "    }\n",
       "\n",
       "    .dataframe thead th {\n",
       "        text-align: right;\n",
       "    }\n",
       "</style>\n",
       "<table border=\"1\" class=\"dataframe\">\n",
       "  <thead>\n",
       "    <tr style=\"text-align: right;\">\n",
       "      <th></th>\n",
       "      <th>start_forecast</th>\n",
       "      <th>n_samples</th>\n",
       "      <th>offset_model</th>\n",
       "      <th>train_metrics</th>\n",
       "      <th>test_metrics</th>\n",
       "      <th>actual_event</th>\n",
       "      <th>expected_event</th>\n",
       "    </tr>\n",
       "  </thead>\n",
       "  <tbody>\n",
       "    <tr>\n",
       "      <th>endless-de</th>\n",
       "      <td>2017-01-18 09:00:00</td>\n",
       "      <td>184500</td>\n",
       "      <td>NaT</td>\n",
       "      <td>MAE      RMSE      Loss  RegLoss  epo...</td>\n",
       "      <td>{'RMSE': 0.8663643, 'MSE': 0.84506387, 'MAE': ...</td>\n",
       "      <td>-514.0</td>\n",
       "      <td>NaN</td>\n",
       "    </tr>\n",
       "    <tr>\n",
       "      <th>molecular-tracie</th>\n",
       "      <td>2017-01-18 09:00:00</td>\n",
       "      <td>184500</td>\n",
       "      <td>-1 days +12:00:00</td>\n",
       "      <td>MAE      RMSE      Loss  RegLoss  epo...</td>\n",
       "      <td>{'RMSE': 1.0112967, 'MSE': 1.1139989, 'MAE': 0...</td>\n",
       "      <td>-12.0</td>\n",
       "      <td>-12.0</td>\n",
       "    </tr>\n",
       "    <tr>\n",
       "      <th>quaint-muire</th>\n",
       "      <td>2017-01-18 09:00:00</td>\n",
       "      <td>184500</td>\n",
       "      <td>-1 days +12:00:00</td>\n",
       "      <td>MAE      RMSE      Loss  RegLoss  epo...</td>\n",
       "      <td>{'RMSE': 0.88642025, 'MSE': 0.8833735, 'MAE': ...</td>\n",
       "      <td>-12.0</td>\n",
       "      <td>-12.0</td>\n",
       "    </tr>\n",
       "  </tbody>\n",
       "</table>\n",
       "</div>"
      ],
      "text/plain": [
       "                      start_forecast  n_samples      offset_model  \\\n",
       "endless-de       2017-01-18 09:00:00     184500               NaT   \n",
       "molecular-tracie 2017-01-18 09:00:00     184500 -1 days +12:00:00   \n",
       "quaint-muire     2017-01-18 09:00:00     184500 -1 days +12:00:00   \n",
       "\n",
       "                                                      train_metrics  \\\n",
       "endless-de                 MAE      RMSE      Loss  RegLoss  epo...   \n",
       "molecular-tracie           MAE      RMSE      Loss  RegLoss  epo...   \n",
       "quaint-muire               MAE      RMSE      Loss  RegLoss  epo...   \n",
       "\n",
       "                                                       test_metrics  \\\n",
       "endless-de        {'RMSE': 0.8663643, 'MSE': 0.84506387, 'MAE': ...   \n",
       "molecular-tracie  {'RMSE': 1.0112967, 'MSE': 1.1139989, 'MAE': 0...   \n",
       "quaint-muire      {'RMSE': 0.88642025, 'MSE': 0.8833735, 'MAE': ...   \n",
       "\n",
       "                  actual_event  expected_event  \n",
       "endless-de              -514.0             NaN  \n",
       "molecular-tracie         -12.0           -12.0  \n",
       "quaint-muire             -12.0           -12.0  "
      ]
     },
     "execution_count": 16,
     "metadata": {},
     "output_type": "execute_result"
    }
   ],
   "source": [
    "NPw_o.npw_df\n"
   ]
  },
  {
   "cell_type": "code",
   "execution_count": null,
   "id": "0cf0084c-f287-4f7b-b6a0-12d927608b1d",
   "metadata": {},
   "outputs": [],
   "source": [
    "import pickle\n",
    "file_name = 'std1.pkl'\n",
    "with open(file_name, 'wb') as file:\n",
    "    pickle.dump(NPw_o, file)\n",
    "    print(f'Object successfully saved to \"{file_name}\"')"
   ]
  },
  {
   "cell_type": "code",
   "execution_count": null,
   "id": "e13a2a80-eef9-4a44-88e9-528641d53844",
   "metadata": {},
   "outputs": [],
   "source": [
    "with open(file_name, \"rb\") as file:\n",
    "    NPw_i = pickle.load(file)"
   ]
  },
  {
   "cell_type": "code",
   "execution_count": 52,
   "id": "2f1847e0-9215-49d1-a1e6-dc3ccdadf98e",
   "metadata": {},
   "outputs": [
    {
     "data": {
      "text/html": [
       "<div>\n",
       "<style scoped>\n",
       "    .dataframe tbody tr th:only-of-type {\n",
       "        vertical-align: middle;\n",
       "    }\n",
       "\n",
       "    .dataframe tbody tr th {\n",
       "        vertical-align: top;\n",
       "    }\n",
       "\n",
       "    .dataframe thead th {\n",
       "        text-align: right;\n",
       "    }\n",
       "</style>\n",
       "<table border=\"1\" class=\"dataframe\">\n",
       "  <thead>\n",
       "    <tr style=\"text-align: right;\">\n",
       "      <th></th>\n",
       "      <th>start_forecast</th>\n",
       "      <th>offset_model</th>\n",
       "      <th>ConfigForecast</th>\n",
       "      <th>events</th>\n",
       "      <th>train_metrics</th>\n",
       "      <th>test_metrics</th>\n",
       "      <th>actual_event</th>\n",
       "      <th>expected_event</th>\n",
       "    </tr>\n",
       "  </thead>\n",
       "  <tbody>\n",
       "    <tr>\n",
       "      <th>coffee-cat</th>\n",
       "      <td>2016-03-01 10:00:00</td>\n",
       "      <td>-1 days +12:00:00</td>\n",
       "      <td>ConfigForecast(start_forecast=datetime.datetim...</td>\n",
       "      <td>467    2016-01-10 17:30:00\n",
       "987    2016-01-21 1...</td>\n",
       "      <td>MAE      RMSE      Loss  RegLoss  epo...</td>\n",
       "      <td>{'RMSE': 0.97724885, 'MSE': 1.1077031, 'MAE': ...</td>\n",
       "      <td>-12.0</td>\n",
       "      <td>-12.0</td>\n",
       "    </tr>\n",
       "  </tbody>\n",
       "</table>\n",
       "</div>"
      ],
      "text/plain": [
       "                start_forecast      offset_model  \\\n",
       "coffee-cat 2016-03-01 10:00:00 -1 days +12:00:00   \n",
       "\n",
       "                                               ConfigForecast  \\\n",
       "coffee-cat  ConfigForecast(start_forecast=datetime.datetim...   \n",
       "\n",
       "                                                       events  \\\n",
       "coffee-cat  467    2016-01-10 17:30:00\n",
       "987    2016-01-21 1...   \n",
       "\n",
       "                                                train_metrics  \\\n",
       "coffee-cat           MAE      RMSE      Loss  RegLoss  epo...   \n",
       "\n",
       "                                                 test_metrics  actual_event  \\\n",
       "coffee-cat  {'RMSE': 0.97724885, 'MSE': 1.1077031, 'MAE': ...         -12.0   \n",
       "\n",
       "            expected_event  \n",
       "coffee-cat           -12.0  "
      ]
     },
     "execution_count": 52,
     "metadata": {},
     "output_type": "execute_result"
    }
   ],
   "source": [
    "NPw_i.npw_df"
   ]
  },
  {
   "cell_type": "code",
   "execution_count": 63,
   "id": "c31755ba-5e83-47b4-bc02-0acb9cd66423",
   "metadata": {},
   "outputs": [
    {
     "ename": "AttributeError",
     "evalue": "'NoneType' object has no attribute 'predict'",
     "output_type": "error",
     "traceback": [
      "\u001b[1;31m---------------------------------------------------------------------------\u001b[0m",
      "\u001b[1;31mAttributeError\u001b[0m                            Traceback (most recent call last)",
      "Cell \u001b[1;32mIn[63], line 1\u001b[0m\n\u001b[1;32m----> 1\u001b[0m \u001b[43mNPw_o\u001b[49m\u001b[38;5;241;43m.\u001b[39;49m\u001b[43mone_step_test\u001b[49m\u001b[43m(\u001b[49m\u001b[43m)\u001b[49m\n",
      "File \u001b[1;32m~\\dev\\Manchester\\SR\\NPw.py:201\u001b[0m, in \u001b[0;36mNPw.one_step_test\u001b[1;34m(self)\u001b[0m\n\u001b[0;32m    199\u001b[0m \u001b[38;5;28;01mif\u001b[39;00m \u001b[38;5;28mself\u001b[39m\u001b[38;5;241m.\u001b[39mnpw_df\u001b[38;5;241m.\u001b[39mloc[index][\u001b[38;5;124m\"\u001b[39m\u001b[38;5;124mis_fit\u001b[39m\u001b[38;5;124m\"\u001b[39m]  \u001b[38;5;241m==\u001b[39m \u001b[38;5;28;01mTrue\u001b[39;00m:\n\u001b[0;32m    200\u001b[0m     future \u001b[38;5;241m=\u001b[39m \u001b[38;5;28mself\u001b[39m\u001b[38;5;241m.\u001b[39mnpw_df\u001b[38;5;241m.\u001b[39mloc[index][\u001b[38;5;124m\"\u001b[39m\u001b[38;5;124mmodel\u001b[39m\u001b[38;5;124m\"\u001b[39m]\u001b[38;5;241m.\u001b[39mmake_future_dataframe(\u001b[38;5;28mself\u001b[39m\u001b[38;5;241m.\u001b[39mnpw_df\u001b[38;5;241m.\u001b[39mloc[index][\u001b[38;5;124m\"\u001b[39m\u001b[38;5;124mdf_test\u001b[39m\u001b[38;5;124m\"\u001b[39m] , n_historic_predictions\u001b[38;5;241m=\u001b[39m\u001b[38;5;241m0\u001b[39m)\n\u001b[1;32m--> 201\u001b[0m     forecast \u001b[38;5;241m=\u001b[39m \u001b[38;5;28;43mself\u001b[39;49m\u001b[38;5;241;43m.\u001b[39;49m\u001b[43mnpw_df\u001b[49m\u001b[38;5;241;43m.\u001b[39;49m\u001b[43mloc\u001b[49m\u001b[43m[\u001b[49m\u001b[43mindex\u001b[49m\u001b[43m]\u001b[49m\u001b[43m[\u001b[49m\u001b[38;5;124;43m\"\u001b[39;49m\u001b[38;5;124;43mmodel\u001b[39;49m\u001b[38;5;124;43m\"\u001b[39;49m\u001b[43m]\u001b[49m\u001b[38;5;241;43m.\u001b[39;49m\u001b[43mpredict\u001b[49m\u001b[43m(\u001b[49m\u001b[43mfuture\u001b[49m\u001b[43m,\u001b[49m\u001b[43m \u001b[49m\u001b[43mdecompose\u001b[49m\u001b[43m \u001b[49m\u001b[38;5;241;43m=\u001b[39;49m\u001b[43m \u001b[49m\u001b[38;5;28;43;01mFalse\u001b[39;49;00m\u001b[43m,\u001b[49m\u001b[43m \u001b[49m\u001b[43mraw\u001b[49m\u001b[43m \u001b[49m\u001b[38;5;241;43m=\u001b[39;49m\u001b[43m \u001b[49m\u001b[38;5;28;43;01mTrue\u001b[39;49;00m\u001b[43m)\u001b[49m\n\u001b[0;32m    202\u001b[0m     y_predicted \u001b[38;5;241m=\u001b[39m forecast\u001b[38;5;241m.\u001b[39mfilter(like\u001b[38;5;241m=\u001b[39m\u001b[38;5;124m\"\u001b[39m\u001b[38;5;124mstep\u001b[39m\u001b[38;5;124m\"\u001b[39m)\u001b[38;5;241m.\u001b[39mto_numpy()\n\u001b[0;32m    203\u001b[0m     y_actual \u001b[38;5;241m=\u001b[39m pd\u001b[38;5;241m.\u001b[39mpivot(\u001b[38;5;28mself\u001b[39m\u001b[38;5;241m.\u001b[39mnpw_df\u001b[38;5;241m.\u001b[39mloc[index][\u001b[38;5;124m\"\u001b[39m\u001b[38;5;124mdf_test\u001b[39m\u001b[38;5;124m\"\u001b[39m],  index \u001b[38;5;241m=\u001b[39m \u001b[38;5;124m\"\u001b[39m\u001b[38;5;124mds\u001b[39m\u001b[38;5;124m\"\u001b[39m, columns\u001b[38;5;241m=\u001b[39m\u001b[38;5;124m\"\u001b[39m\u001b[38;5;124mID\u001b[39m\u001b[38;5;124m\"\u001b[39m, values\u001b[38;5;241m=\u001b[39m\u001b[38;5;124m\"\u001b[39m\u001b[38;5;124my\u001b[39m\u001b[38;5;124m\"\u001b[39m)[\u001b[38;5;241m-\u001b[39m\u001b[38;5;241m48\u001b[39m:]\u001b[38;5;241m.\u001b[39mtranspose()\u001b[38;5;241m.\u001b[39mto_numpy()\n",
      "File \u001b[1;32m~\\anaconda3\\envs\\NeuralProphet\\lib\\site-packages\\neuralprophet\\forecaster.py:893\u001b[0m, in \u001b[0;36mNeuralProphet.predict\u001b[1;34m(self, df, decompose, raw)\u001b[0m\n\u001b[0;32m    891\u001b[0m forecast \u001b[38;5;241m=\u001b[39m pd\u001b[38;5;241m.\u001b[39mDataFrame()\n\u001b[0;32m    892\u001b[0m \u001b[38;5;28;01mfor\u001b[39;00m df_name, df_i \u001b[38;5;129;01min\u001b[39;00m df\u001b[38;5;241m.\u001b[39mgroupby(\u001b[38;5;124m\"\u001b[39m\u001b[38;5;124mID\u001b[39m\u001b[38;5;124m\"\u001b[39m):\n\u001b[1;32m--> 893\u001b[0m     dates, predicted, components \u001b[38;5;241m=\u001b[39m \u001b[38;5;28;43mself\u001b[39;49m\u001b[38;5;241;43m.\u001b[39;49m\u001b[43m_predict_raw\u001b[49m\u001b[43m(\u001b[49m\u001b[43mdf_i\u001b[49m\u001b[43m,\u001b[49m\u001b[43m \u001b[49m\u001b[43mdf_name\u001b[49m\u001b[43m,\u001b[49m\u001b[43m \u001b[49m\u001b[43minclude_components\u001b[49m\u001b[38;5;241;43m=\u001b[39;49m\u001b[43mdecompose\u001b[49m\u001b[43m)\u001b[49m\n\u001b[0;32m    894\u001b[0m     df_i \u001b[38;5;241m=\u001b[39m df_utils\u001b[38;5;241m.\u001b[39mdrop_missing_from_df(\n\u001b[0;32m    895\u001b[0m         df_i, \u001b[38;5;28mself\u001b[39m\u001b[38;5;241m.\u001b[39mconfig_missing\u001b[38;5;241m.\u001b[39mdrop_missing, \u001b[38;5;28mself\u001b[39m\u001b[38;5;241m.\u001b[39mpredict_steps, \u001b[38;5;28mself\u001b[39m\u001b[38;5;241m.\u001b[39mn_lags\n\u001b[0;32m    896\u001b[0m     )\n\u001b[0;32m    897\u001b[0m     \u001b[38;5;28;01mif\u001b[39;00m raw:\n",
      "File \u001b[1;32m~\\anaconda3\\envs\\NeuralProphet\\lib\\site-packages\\neuralprophet\\forecaster.py:2938\u001b[0m, in \u001b[0;36mNeuralProphet._predict_raw\u001b[1;34m(self, df, df_name, include_components)\u001b[0m\n\u001b[0;32m   2936\u001b[0m \u001b[38;5;28mself\u001b[39m\u001b[38;5;241m.\u001b[39mmodel\u001b[38;5;241m.\u001b[39mset_compute_components(include_components)\n\u001b[0;32m   2937\u001b[0m \u001b[38;5;66;03m# Compute the predictions and components (if requested)\u001b[39;00m\n\u001b[1;32m-> 2938\u001b[0m result \u001b[38;5;241m=\u001b[39m \u001b[38;5;28;43mself\u001b[39;49m\u001b[38;5;241;43m.\u001b[39;49m\u001b[43mtrainer\u001b[49m\u001b[38;5;241;43m.\u001b[39;49m\u001b[43mpredict\u001b[49m(\u001b[38;5;28mself\u001b[39m\u001b[38;5;241m.\u001b[39mmodel, loader)\n\u001b[0;32m   2939\u001b[0m \u001b[38;5;66;03m# Extract the prediction and components\u001b[39;00m\n\u001b[0;32m   2940\u001b[0m predicted, component_vectors \u001b[38;5;241m=\u001b[39m \u001b[38;5;28mzip\u001b[39m(\u001b[38;5;241m*\u001b[39mresult)\n",
      "\u001b[1;31mAttributeError\u001b[0m: 'NoneType' object has no attribute 'predict'"
     ]
    }
   ],
   "source": [
    "NPw_o.one_step_test()"
   ]
  },
  {
   "cell_type": "code",
   "execution_count": 68,
   "id": "e32da3e4-f187-425f-9ba9-69b389aeb9aa",
   "metadata": {},
   "outputs": [
    {
     "ename": "ReferenceError",
     "evalue": "weakly-referenced object no longer exists",
     "output_type": "error",
     "traceback": [
      "\u001b[1;31m---------------------------------------------------------------------------\u001b[0m",
      "\u001b[1;31mReferenceError\u001b[0m                            Traceback (most recent call last)",
      "Cell \u001b[1;32mIn[68], line 2\u001b[0m\n\u001b[0;32m      1\u001b[0m current_row \u001b[38;5;241m=\u001b[39m NPw_o\u001b[38;5;241m.\u001b[39mnpw_df\u001b[38;5;241m.\u001b[39mloc[\u001b[38;5;124m\"\u001b[39m\u001b[38;5;124mcoffee-mite\u001b[39m\u001b[38;5;124m\"\u001b[39m]\n\u001b[1;32m----> 2\u001b[0m \u001b[43msave\u001b[49m\u001b[43m(\u001b[49m\u001b[43mcurrent_row\u001b[49m\u001b[38;5;241;43m.\u001b[39;49m\u001b[43mloc\u001b[49m\u001b[43m[\u001b[49m\u001b[38;5;124;43m\"\u001b[39;49m\u001b[38;5;124;43mmodel\u001b[39;49m\u001b[38;5;124;43m\"\u001b[39;49m\u001b[43m]\u001b[49m\u001b[43m,\u001b[49m\u001b[43m \u001b[49m\u001b[38;5;124;43m\"\u001b[39;49m\u001b[38;5;124;43mhere.np\u001b[39;49m\u001b[38;5;124;43m\"\u001b[39;49m\u001b[43m)\u001b[49m\n",
      "File \u001b[1;32m~\\anaconda3\\envs\\NeuralProphet\\lib\\site-packages\\neuralprophet\\utils.py:44\u001b[0m, in \u001b[0;36msave\u001b[1;34m(forecaster, path)\u001b[0m\n\u001b[0;32m     42\u001b[0m \u001b[38;5;28;01mfor\u001b[39;00m attr \u001b[38;5;129;01min\u001b[39;00m [\u001b[38;5;124m\"\u001b[39m\u001b[38;5;124mtrainer\u001b[39m\u001b[38;5;124m\"\u001b[39m]:\n\u001b[0;32m     43\u001b[0m     \u001b[38;5;28msetattr\u001b[39m(forecaster, attr, \u001b[38;5;28;01mNone\u001b[39;00m)\n\u001b[1;32m---> 44\u001b[0m \u001b[43mtorch\u001b[49m\u001b[38;5;241;43m.\u001b[39;49m\u001b[43msave\u001b[49m\u001b[43m(\u001b[49m\u001b[43mforecaster\u001b[49m\u001b[43m,\u001b[49m\u001b[43m \u001b[49m\u001b[43mpath\u001b[49m\u001b[43m)\u001b[49m\n",
      "File \u001b[1;32m~\\anaconda3\\envs\\NeuralProphet\\lib\\site-packages\\torch\\serialization.py:423\u001b[0m, in \u001b[0;36msave\u001b[1;34m(obj, f, pickle_module, pickle_protocol, _use_new_zipfile_serialization)\u001b[0m\n\u001b[0;32m    421\u001b[0m \u001b[38;5;28;01mif\u001b[39;00m _use_new_zipfile_serialization:\n\u001b[0;32m    422\u001b[0m     \u001b[38;5;28;01mwith\u001b[39;00m _open_zipfile_writer(f) \u001b[38;5;28;01mas\u001b[39;00m opened_zipfile:\n\u001b[1;32m--> 423\u001b[0m         \u001b[43m_save\u001b[49m\u001b[43m(\u001b[49m\u001b[43mobj\u001b[49m\u001b[43m,\u001b[49m\u001b[43m \u001b[49m\u001b[43mopened_zipfile\u001b[49m\u001b[43m,\u001b[49m\u001b[43m \u001b[49m\u001b[43mpickle_module\u001b[49m\u001b[43m,\u001b[49m\u001b[43m \u001b[49m\u001b[43mpickle_protocol\u001b[49m\u001b[43m)\u001b[49m\n\u001b[0;32m    424\u001b[0m         \u001b[38;5;28;01mreturn\u001b[39;00m\n\u001b[0;32m    425\u001b[0m \u001b[38;5;28;01melse\u001b[39;00m:\n",
      "File \u001b[1;32m~\\anaconda3\\envs\\NeuralProphet\\lib\\site-packages\\torch\\serialization.py:635\u001b[0m, in \u001b[0;36m_save\u001b[1;34m(obj, zip_file, pickle_module, pickle_protocol)\u001b[0m\n\u001b[0;32m    633\u001b[0m pickler \u001b[38;5;241m=\u001b[39m pickle_module\u001b[38;5;241m.\u001b[39mPickler(data_buf, protocol\u001b[38;5;241m=\u001b[39mpickle_protocol)\n\u001b[0;32m    634\u001b[0m pickler\u001b[38;5;241m.\u001b[39mpersistent_id \u001b[38;5;241m=\u001b[39m persistent_id\n\u001b[1;32m--> 635\u001b[0m \u001b[43mpickler\u001b[49m\u001b[38;5;241;43m.\u001b[39;49m\u001b[43mdump\u001b[49m\u001b[43m(\u001b[49m\u001b[43mobj\u001b[49m\u001b[43m)\u001b[49m\n\u001b[0;32m    636\u001b[0m data_value \u001b[38;5;241m=\u001b[39m data_buf\u001b[38;5;241m.\u001b[39mgetvalue()\n\u001b[0;32m    637\u001b[0m zip_file\u001b[38;5;241m.\u001b[39mwrite_record(\u001b[38;5;124m'\u001b[39m\u001b[38;5;124mdata.pkl\u001b[39m\u001b[38;5;124m'\u001b[39m, data_value, \u001b[38;5;28mlen\u001b[39m(data_value))\n",
      "File \u001b[1;32m~\\anaconda3\\envs\\NeuralProphet\\lib\\site-packages\\torch\\serialization.py:590\u001b[0m, in \u001b[0;36m_save.<locals>.persistent_id\u001b[1;34m(obj)\u001b[0m\n\u001b[0;32m    584\u001b[0m \u001b[38;5;28;01mdef\u001b[39;00m \u001b[38;5;21mpersistent_id\u001b[39m(obj):\n\u001b[0;32m    585\u001b[0m     \u001b[38;5;66;03m# FIXME: the docs say that persistent_id should only return a string\u001b[39;00m\n\u001b[0;32m    586\u001b[0m     \u001b[38;5;66;03m# but torch store returns tuples. This works only in the binary protocol\u001b[39;00m\n\u001b[0;32m    587\u001b[0m     \u001b[38;5;66;03m# see\u001b[39;00m\n\u001b[0;32m    588\u001b[0m     \u001b[38;5;66;03m# https://docs.python.org/2/library/pickle.html#pickling-and-unpickling-external-objects\u001b[39;00m\n\u001b[0;32m    589\u001b[0m     \u001b[38;5;66;03m# https://github.com/python/cpython/blob/master/Lib/pickle.py#L527-L537\u001b[39;00m\n\u001b[1;32m--> 590\u001b[0m     \u001b[38;5;28;01mif\u001b[39;00m \u001b[38;5;28;43misinstance\u001b[39;49m\u001b[43m(\u001b[49m\u001b[43mobj\u001b[49m\u001b[43m,\u001b[49m\u001b[43m \u001b[49m\u001b[43mtorch\u001b[49m\u001b[38;5;241;43m.\u001b[39;49m\u001b[43mstorage\u001b[49m\u001b[38;5;241;43m.\u001b[39;49m\u001b[43mTypedStorage\u001b[49m\u001b[43m)\u001b[49m \u001b[38;5;129;01mor\u001b[39;00m torch\u001b[38;5;241m.\u001b[39mis_storage(obj):\n\u001b[0;32m    592\u001b[0m         \u001b[38;5;28;01mif\u001b[39;00m \u001b[38;5;28misinstance\u001b[39m(obj, torch\u001b[38;5;241m.\u001b[39mstorage\u001b[38;5;241m.\u001b[39mTypedStorage):\n\u001b[0;32m    593\u001b[0m             \u001b[38;5;66;03m# TODO: Once we decide to break serialization FC, this case\u001b[39;00m\n\u001b[0;32m    594\u001b[0m             \u001b[38;5;66;03m# can be deleted\u001b[39;00m\n\u001b[0;32m    595\u001b[0m             storage \u001b[38;5;241m=\u001b[39m obj\u001b[38;5;241m.\u001b[39m_storage\n",
      "\u001b[1;31mReferenceError\u001b[0m: weakly-referenced object no longer exists"
     ]
    }
   ],
   "source": [
    "current_row = NPw_o.npw_df.loc[\"coffee-mite\"]\n",
    "save(current_row.loc[\"model\"], \"here.np\")\n"
   ]
  },
  {
   "cell_type": "code",
   "execution_count": 65,
   "id": "0da6ba5d-089e-4b26-9b93-16b0b6a78233",
   "metadata": {},
   "outputs": [
    {
     "data": {
      "text/html": [
       "<div>\n",
       "<style scoped>\n",
       "    .dataframe tbody tr th:only-of-type {\n",
       "        vertical-align: middle;\n",
       "    }\n",
       "\n",
       "    .dataframe tbody tr th {\n",
       "        vertical-align: top;\n",
       "    }\n",
       "\n",
       "    .dataframe thead th {\n",
       "        text-align: right;\n",
       "    }\n",
       "</style>\n",
       "<table border=\"1\" class=\"dataframe\">\n",
       "  <thead>\n",
       "    <tr style=\"text-align: right;\">\n",
       "      <th></th>\n",
       "      <th>start_forecast</th>\n",
       "      <th>offset_model</th>\n",
       "      <th>model</th>\n",
       "      <th>ConfigForecast</th>\n",
       "      <th>events</th>\n",
       "      <th>df_train</th>\n",
       "      <th>df_test</th>\n",
       "      <th>is_fit</th>\n",
       "      <th>train_metrics</th>\n",
       "      <th>test_metrics</th>\n",
       "    </tr>\n",
       "  </thead>\n",
       "  <tbody>\n",
       "    <tr>\n",
       "      <th>coffee-mite</th>\n",
       "      <td>2016-03-01 10:00:00</td>\n",
       "      <td>0 days 12:00:00</td>\n",
       "      <td>&lt;neuralprophet.forecaster.NeuralProphet object...</td>\n",
       "      <td>ConfigForecast(start_forecast=datetime.datetim...</td>\n",
       "      <td>467    2016-01-10 17:30:00\n",
       "987    2016-01-21 1...</td>\n",
       "      <td>ds         y  ID   EV\n",
       "0...</td>\n",
       "      <td>ds         y  ID   EV\n",
       "0 ...</td>\n",
       "      <td>True</td>\n",
       "      <td>MAE      RMSE      Loss  RegLoss  epo...</td>\n",
       "      <td>0.917511</td>\n",
       "    </tr>\n",
       "  </tbody>\n",
       "</table>\n",
       "</div>"
      ],
      "text/plain": [
       "                 start_forecast    offset_model  \\\n",
       "coffee-mite 2016-03-01 10:00:00 0 days 12:00:00   \n",
       "\n",
       "                                                         model  \\\n",
       "coffee-mite  <neuralprophet.forecaster.NeuralProphet object...   \n",
       "\n",
       "                                                ConfigForecast  \\\n",
       "coffee-mite  ConfigForecast(start_forecast=datetime.datetim...   \n",
       "\n",
       "                                                        events  \\\n",
       "coffee-mite  467    2016-01-10 17:30:00\n",
       "987    2016-01-21 1...   \n",
       "\n",
       "                                                      df_train  \\\n",
       "coffee-mite                         ds         y  ID   EV\n",
       "0...   \n",
       "\n",
       "                                                       df_test  is_fit  \\\n",
       "coffee-mite                        ds         y  ID   EV\n",
       "0 ...    True   \n",
       "\n",
       "                                                 train_metrics test_metrics  \n",
       "coffee-mite           MAE      RMSE      Loss  RegLoss  epo...     0.917511  "
      ]
     },
     "execution_count": 65,
     "metadata": {},
     "output_type": "execute_result"
    }
   ],
   "source": [
    "NPw_o.npw_df"
   ]
  },
  {
   "cell_type": "code",
   "execution_count": 3,
   "id": "dd573f95-a975-441b-ab3f-526bfc9361a5",
   "metadata": {},
   "outputs": [
    {
     "name": "stderr",
     "output_type": "stream",
     "text": [
      "WARNING - (py.warnings._showwarnmsg) - C:\\Users\\Asus Rog\\dev\\Manchester\\SR\\aux_function_SR.py:47: SettingWithCopyWarning: \n",
      "A value is trying to be set on a copy of a slice from a DataFrame\n",
      "\n",
      "See the caveats in the documentation: https://pandas.pydata.org/pandas-docs/stable/user_guide/indexing.html#returning-a-view-versus-a-copy\n",
      "  mag[discarted] = np.nan\n",
      "\n",
      "WARNING - (py.warnings._showwarnmsg) - C:\\Users\\Asus Rog\\dev\\Manchester\\SR\\aux_function_SR.py:48: SettingWithCopyWarning: \n",
      "A value is trying to be set on a copy of a slice from a DataFrame\n",
      "\n",
      "See the caveats in the documentation: https://pandas.pydata.org/pandas-docs/stable/user_guide/indexing.html#returning-a-view-versus-a-copy\n",
      "  dist[discarted] = np.nan\n",
      "\n"
     ]
    }
   ],
   "source": [
    "#Select EQ -> Move to AutoTuning \n",
    "dist_start = 5000\n",
    "dist_delta = 3000\n",
    "dist_max = 9000\n",
    "lat_max = 360\n",
    "arc_max = 75\n",
    "mag_start = 5.5\n",
    "mag_delta = 1.5\n",
    "dist_perct = 1000\n",
    "\n",
    "[earthquake, earthquake_raw, _] = get_eq_filtered(\n",
    "    df[\"dist\"],\n",
    "    df[\"mag\"],\n",
    "    df[\"lat\"],\n",
    "    df[\"arc\"],\n",
    "    dist_start,\n",
    "    dist_delta,\n",
    "    dist_max,\n",
    "    lat_max,\n",
    "    arc_max,\n",
    "    mag_start,\n",
    "    mag_delta,\n",
    "    dist_perct,\n",
    "    1,\n",
    "    1,\n",
    "    SR_SENSORS.NS,\n",
    ");"
   ]
  },
  {
   "cell_type": "code",
   "execution_count": 60,
   "id": "c12bd7e5-68d0-4647-b0cf-a419c728a526",
   "metadata": {},
   "outputs": [
    {
     "name": "stdout",
     "output_type": "stream",
     "text": [
      "coffee-mite\n",
      "<neuralprophet.forecaster.NeuralProphet object at 0x000001D90471E9D0>\n"
     ]
    },
    {
     "ename": "ReferenceError",
     "evalue": "weakly-referenced object no longer exists",
     "output_type": "error",
     "traceback": [
      "\u001b[1;31m---------------------------------------------------------------------------\u001b[0m",
      "\u001b[1;31mReferenceError\u001b[0m                            Traceback (most recent call last)",
      "Cell \u001b[1;32mIn[60], line 1\u001b[0m\n\u001b[1;32m----> 1\u001b[0m \u001b[43mNPw_o\u001b[49m\u001b[38;5;241;43m.\u001b[39;49m\u001b[43msave_class\u001b[49m\u001b[43m(\u001b[49m\u001b[38;5;124;43m\"\u001b[39;49m\u001b[38;5;124;43mmodel/first_version\u001b[39;49m\u001b[38;5;124;43m\"\u001b[39;49m\u001b[43m)\u001b[49m\n",
      "File \u001b[1;32m~\\dev\\Manchester\\SR\\NPw.py:159\u001b[0m, in \u001b[0;36mNPw.save_class\u001b[1;34m(self, filename)\u001b[0m\n\u001b[0;32m    157\u001b[0m model \u001b[38;5;241m=\u001b[39m \u001b[38;5;28mself\u001b[39m\u001b[38;5;241m.\u001b[39mnpw_df\u001b[38;5;241m.\u001b[39mloc[index][\u001b[38;5;124m\"\u001b[39m\u001b[38;5;124mmodel\u001b[39m\u001b[38;5;124m\"\u001b[39m]\n\u001b[0;32m    158\u001b[0m \u001b[38;5;28mprint\u001b[39m(model)\n\u001b[1;32m--> 159\u001b[0m \u001b[43msave\u001b[49m\u001b[43m(\u001b[49m\u001b[43mmodel\u001b[49m\u001b[43m,\u001b[49m\u001b[43m \u001b[49m\u001b[38;5;124;43m\"\u001b[39;49m\u001b[38;5;124;43mhere.np\u001b[39;49m\u001b[38;5;124;43m\"\u001b[39;49m\u001b[43m)\u001b[49m\n\u001b[0;32m    160\u001b[0m save(model, filename \u001b[38;5;241m+\u001b[39m \u001b[38;5;124m\"\u001b[39m\u001b[38;5;124m/\u001b[39m\u001b[38;5;124m\"\u001b[39m \u001b[38;5;241m+\u001b[39m index \u001b[38;5;241m+\u001b[39m \u001b[38;5;124m\"\u001b[39m\u001b[38;5;124m.np\u001b[39m\u001b[38;5;124m\"\u001b[39m)\n",
      "File \u001b[1;32m~\\anaconda3\\envs\\NeuralProphet\\lib\\site-packages\\neuralprophet\\utils.py:44\u001b[0m, in \u001b[0;36msave\u001b[1;34m(forecaster, path)\u001b[0m\n\u001b[0;32m     42\u001b[0m \u001b[38;5;28;01mfor\u001b[39;00m attr \u001b[38;5;129;01min\u001b[39;00m [\u001b[38;5;124m\"\u001b[39m\u001b[38;5;124mtrainer\u001b[39m\u001b[38;5;124m\"\u001b[39m]:\n\u001b[0;32m     43\u001b[0m     \u001b[38;5;28msetattr\u001b[39m(forecaster, attr, \u001b[38;5;28;01mNone\u001b[39;00m)\n\u001b[1;32m---> 44\u001b[0m \u001b[43mtorch\u001b[49m\u001b[38;5;241;43m.\u001b[39;49m\u001b[43msave\u001b[49m\u001b[43m(\u001b[49m\u001b[43mforecaster\u001b[49m\u001b[43m,\u001b[49m\u001b[43m \u001b[49m\u001b[43mpath\u001b[49m\u001b[43m)\u001b[49m\n",
      "File \u001b[1;32m~\\anaconda3\\envs\\NeuralProphet\\lib\\site-packages\\torch\\serialization.py:423\u001b[0m, in \u001b[0;36msave\u001b[1;34m(obj, f, pickle_module, pickle_protocol, _use_new_zipfile_serialization)\u001b[0m\n\u001b[0;32m    421\u001b[0m \u001b[38;5;28;01mif\u001b[39;00m _use_new_zipfile_serialization:\n\u001b[0;32m    422\u001b[0m     \u001b[38;5;28;01mwith\u001b[39;00m _open_zipfile_writer(f) \u001b[38;5;28;01mas\u001b[39;00m opened_zipfile:\n\u001b[1;32m--> 423\u001b[0m         \u001b[43m_save\u001b[49m\u001b[43m(\u001b[49m\u001b[43mobj\u001b[49m\u001b[43m,\u001b[49m\u001b[43m \u001b[49m\u001b[43mopened_zipfile\u001b[49m\u001b[43m,\u001b[49m\u001b[43m \u001b[49m\u001b[43mpickle_module\u001b[49m\u001b[43m,\u001b[49m\u001b[43m \u001b[49m\u001b[43mpickle_protocol\u001b[49m\u001b[43m)\u001b[49m\n\u001b[0;32m    424\u001b[0m         \u001b[38;5;28;01mreturn\u001b[39;00m\n\u001b[0;32m    425\u001b[0m \u001b[38;5;28;01melse\u001b[39;00m:\n",
      "File \u001b[1;32m~\\anaconda3\\envs\\NeuralProphet\\lib\\site-packages\\torch\\serialization.py:635\u001b[0m, in \u001b[0;36m_save\u001b[1;34m(obj, zip_file, pickle_module, pickle_protocol)\u001b[0m\n\u001b[0;32m    633\u001b[0m pickler \u001b[38;5;241m=\u001b[39m pickle_module\u001b[38;5;241m.\u001b[39mPickler(data_buf, protocol\u001b[38;5;241m=\u001b[39mpickle_protocol)\n\u001b[0;32m    634\u001b[0m pickler\u001b[38;5;241m.\u001b[39mpersistent_id \u001b[38;5;241m=\u001b[39m persistent_id\n\u001b[1;32m--> 635\u001b[0m \u001b[43mpickler\u001b[49m\u001b[38;5;241;43m.\u001b[39;49m\u001b[43mdump\u001b[49m\u001b[43m(\u001b[49m\u001b[43mobj\u001b[49m\u001b[43m)\u001b[49m\n\u001b[0;32m    636\u001b[0m data_value \u001b[38;5;241m=\u001b[39m data_buf\u001b[38;5;241m.\u001b[39mgetvalue()\n\u001b[0;32m    637\u001b[0m zip_file\u001b[38;5;241m.\u001b[39mwrite_record(\u001b[38;5;124m'\u001b[39m\u001b[38;5;124mdata.pkl\u001b[39m\u001b[38;5;124m'\u001b[39m, data_value, \u001b[38;5;28mlen\u001b[39m(data_value))\n",
      "File \u001b[1;32m~\\anaconda3\\envs\\NeuralProphet\\lib\\site-packages\\torch\\serialization.py:590\u001b[0m, in \u001b[0;36m_save.<locals>.persistent_id\u001b[1;34m(obj)\u001b[0m\n\u001b[0;32m    584\u001b[0m \u001b[38;5;28;01mdef\u001b[39;00m \u001b[38;5;21mpersistent_id\u001b[39m(obj):\n\u001b[0;32m    585\u001b[0m     \u001b[38;5;66;03m# FIXME: the docs say that persistent_id should only return a string\u001b[39;00m\n\u001b[0;32m    586\u001b[0m     \u001b[38;5;66;03m# but torch store returns tuples. This works only in the binary protocol\u001b[39;00m\n\u001b[0;32m    587\u001b[0m     \u001b[38;5;66;03m# see\u001b[39;00m\n\u001b[0;32m    588\u001b[0m     \u001b[38;5;66;03m# https://docs.python.org/2/library/pickle.html#pickling-and-unpickling-external-objects\u001b[39;00m\n\u001b[0;32m    589\u001b[0m     \u001b[38;5;66;03m# https://github.com/python/cpython/blob/master/Lib/pickle.py#L527-L537\u001b[39;00m\n\u001b[1;32m--> 590\u001b[0m     \u001b[38;5;28;01mif\u001b[39;00m \u001b[38;5;28;43misinstance\u001b[39;49m\u001b[43m(\u001b[49m\u001b[43mobj\u001b[49m\u001b[43m,\u001b[49m\u001b[43m \u001b[49m\u001b[43mtorch\u001b[49m\u001b[38;5;241;43m.\u001b[39;49m\u001b[43mstorage\u001b[49m\u001b[38;5;241;43m.\u001b[39;49m\u001b[43mTypedStorage\u001b[49m\u001b[43m)\u001b[49m \u001b[38;5;129;01mor\u001b[39;00m torch\u001b[38;5;241m.\u001b[39mis_storage(obj):\n\u001b[0;32m    592\u001b[0m         \u001b[38;5;28;01mif\u001b[39;00m \u001b[38;5;28misinstance\u001b[39m(obj, torch\u001b[38;5;241m.\u001b[39mstorage\u001b[38;5;241m.\u001b[39mTypedStorage):\n\u001b[0;32m    593\u001b[0m             \u001b[38;5;66;03m# TODO: Once we decide to break serialization FC, this case\u001b[39;00m\n\u001b[0;32m    594\u001b[0m             \u001b[38;5;66;03m# can be deleted\u001b[39;00m\n\u001b[0;32m    595\u001b[0m             storage \u001b[38;5;241m=\u001b[39m obj\u001b[38;5;241m.\u001b[39m_storage\n",
      "\u001b[1;31mReferenceError\u001b[0m: weakly-referenced object no longer exists"
     ]
    }
   ],
   "source": [
    "NPw_o.save_class(\"model/first_version\")"
   ]
  },
  {
   "cell_type": "code",
   "execution_count": 16,
   "id": "75a280bb-6e57-4413-a556-930d76aae0aa",
   "metadata": {},
   "outputs": [
    {
     "name": "stdout",
     "output_type": "stream",
     "text": [
      "Object successfully saved to \"std1.pkl\"\n"
     ]
    }
   ],
   "source": []
  },
  {
   "cell_type": "code",
   "execution_count": 18,
   "id": "2f30e183-fed2-4d58-b4a0-9926190a7fc1",
   "metadata": {},
   "outputs": [],
   "source": [
    "with open(file_name, \"rb\") as file:\n",
    "    NPw_i = pickle.load(file)"
   ]
  },
  {
   "cell_type": "code",
   "execution_count": 116,
   "id": "8a956b2a-102e-42f1-81e7-003db8304cf2",
   "metadata": {},
   "outputs": [
    {
     "name": "stdout",
     "output_type": "stream",
     "text": [
      "Saanvi\n"
     ]
    }
   ],
   "source": [
    "for index in NPw_o.npw_df.index:\n",
    "    print(index)\n",
    "    NPw_o.npw_df.at[index, \"is_fit\"] = True\n",
    "    "
   ]
  },
  {
   "cell_type": "code",
   "execution_count": 8,
   "id": "a8018a77-2952-4679-bcab-14156de26dcd",
   "metadata": {},
   "outputs": [
    {
     "name": "stdout",
     "output_type": "stream",
     "text": [
      "True\n"
     ]
    }
   ],
   "source": [
    "for index in NPw_o.npw_df.index:\n",
    "    print(NPw_o.npw_df.loc[index][\"is_fit\"])"
   ]
  },
  {
   "cell_type": "code",
   "execution_count": 128,
   "id": "f29955f4-fd56-40ac-8e98-4ca35f7c73ae",
   "metadata": {},
   "outputs": [],
   "source": [
    "\n",
    "# Convert from wide format to long format df\n",
    "def multivariate_df(df):\n",
    "    \n",
    "    var_names = list(df)[1:]\n",
    "    mv_df = pd.DataFrame()\n",
    "    for col in var_names:\n",
    "        aux = df[[\"ds\", col]].copy(deep=True)  # select column associated with region\n",
    "        aux = aux.iloc[:, :].copy(deep=True)  # selects data up to 26301 row (2004 to 2007 time stamps)\n",
    "        aux = aux.rename(columns = {col: \"y\"})  # rename column of data to 'y' which is compatible with Neural Prophet\n",
    "        aux[\"ID\"] = col\n",
    "        mv_df = pd.concat((mv_df, aux))\n",
    "    return mv_df\n",
    "def NeuralProphet_model():\n",
    "    trainer_config = {\"accelerator\":\"gpu\"}\n",
    "    m = NeuralProphet(\n",
    "    n_forecasts=48,\n",
    "    growth=\"off\",\n",
    "    daily_seasonality=True,\n",
    "    yearly_seasonality=True,\n",
    "    weekly_seasonality=False,\n",
    "    n_lags=5 * 48,\n",
    "    num_hidden_layers=2,\n",
    "    d_hidden=16,\n",
    "    learning_rate=0.01,\n",
    "    trainer_config = trainer_config,\n",
    "    )\n",
    "    m.set_plotting_backend('plotly')\n",
    "    return m\n",
    "def add_eq_neural_prophet(m, df, events_eq):\n",
    "    # Create EQ dataframe\n",
    "    df_EQ = pd.DataFrame(\n",
    "        {\n",
    "            \"event\": \"EQ\",\n",
    "            \"ds\": events_eq\n",
    "        }\n",
    "    )\n",
    "    m = m.add_events([\"EQ\"])\n",
    "    history_df = m.create_df_with_events(df, df_EQ)\n",
    "    return(m, history_df)\n",
    "def define_test(df_regrresor, events_eq, next_dt, offset_eq_forecast):\n",
    "    long_df = multivariate_df(df_regressor)\n",
    "    \n",
    "    loc_eq = np.where(events_eq  > next_dt)[0][0]\n",
    "    current_eq_dt = events_eq[loc_eq]\n",
    "    print(loc_eq)\n",
    "    question_mark_span =  timedelta(hours=24)\n",
    "    # Insert EQ cases\n",
    "    start_forecast_time = current_eq_dt + offset_eq_forecast \n",
    "    question_mark_start = start_forecast_time - question_mark_span\n",
    "    # Takes events up to that point\n",
    "    # Three cases \n",
    "\n",
    "    base_df = long_df[long_df[\"ds\"] < start_forecast_time +  timedelta(hours=24)]\n",
    "    \n",
    "    \n",
    "    # 1- Training with no EartQuake\n",
    "    model_1 = NeuralProphet_model();\n",
    "    #Remove all EQ after question_mark_start\n",
    "    events_eq_1 = events_eq[events_eq < question_mark_start]\n",
    "    \n",
    "    (model_1, history_df_1) = add_eq_neural_prophet(model_1, base_df, events_eq_1)\n",
    "    df_train_1, df_test_1 = model_1.split_df(history_df_1, valid_p=1 , freq= \"30min\", local_split=True)\n",
    "\n",
    "\n",
    "    # 2- Training with an EarthQuake 12 hours ago\n",
    "    model_2 = NeuralProphet_model();\n",
    "    #Remove all EQ after question_mark_start\n",
    "    events_eq_2 = events_eq[events_eq < question_mark_start]\n",
    "    events_eq_2 = events_eq_2.insert(len(events_eq_2),start_forecast_time - timedelta(hours=12))\n",
    "    (model_2, history_df_2) = add_eq_neural_prophet(model_2, base_df, events_eq_2)\n",
    "    df_train_2, df_test_2 = model_2.split_df(history_df_2, valid_p=1,freq= \"30min\", local_split=True)\n",
    "\n",
    "    # 3- Training with an EarthQuake 24 hours ago\n",
    "    model_3 = NeuralProphet_model();\n",
    "    #Remove all EQ after question_mark_start\n",
    "    events_eq_3 = events_eq[events_eq < question_mark_start]\n",
    "    events_eq_3 = events_eq_3.insert(len(events_eq_3),start_forecast_time - timedelta(hours=24))\n",
    "    (model_3, history_df_3) = add_eq_neural_prophet(model_3, base_df, events_eq_3)\n",
    "    df_train_3, df_test_3 = model_3.split_df(history_df_3, valid_p=1,freq= \"30min\", local_split=True)\n",
    "\n",
    "\n",
    "    model_list = [model_1, model_2, model_3]\n",
    "    history_df_list = [history_df_1, history_df_2, history_df_3]\n",
    "    df_train_list = [df_train_1, df_train_2, df_train_3]\n",
    "    df_test_list= [df_test_1, df_test_2, df_test_3]\n",
    "    events_eq_list = [events_eq_1, events_eq_2, events_eq_3]\n",
    "    return (model_list, df_train_list,df_test_list, events_eq_list)\n",
    "def fit_models(model_list, df_train_list,df_test_list, events_eq_list):\n",
    "    metrics_list = list()\n",
    "    model_list_new = list()\n",
    "    for (model, df_train, df_test, events_eq) in zip(model_list, df_train_list,df_test_list, events_eq_list):\n",
    "        metrics = model.fit(df_train)\n",
    "        metrics_list.append(metrics)\n",
    "        model_list_new.append(model)\n",
    "        \n",
    "    return(model_list_new,  metrics_list)\n",
    "def test_models(model_list, df_train_list, df_test_list, events_eq_list):\n",
    "    metrics_list = list()\n",
    "    for model, df_test in zip(model_list, df_test_list):\n",
    "        metric = model.test(df_test)\n",
    "        metrics_list.append(metric)\n",
    "    return metrics_list\n",
    "def one_step_test(model_list, df_train_list, df_test_list, events_eq_list):\n",
    "    mse = list()\n",
    "    for model, df_test in zip(model_list, df_test_list):\n",
    "        future = model.make_future_dataframe(df_test, n_historic_predictions=0)\n",
    "        forecast = model.predict(future, decompose = False, raw = True)\n",
    "        y_predicted = forecast.filter(like=\"step\").to_numpy()\n",
    "        y_actual = pd.pivot(df_test,  index = \"ds\", columns=\"ID\", values=\"y\")[-48:].transpose().to_numpy()\n",
    "        mse.append(mean_squared_error(y_actual, y_predicted))\n",
    "    return mse\n",
    "    \n"
   ]
  },
  {
   "cell_type": "code",
   "execution_count": 30,
   "id": "21a21fcf-3443-4685-b1b9-ff8cceaece5f",
   "metadata": {},
   "outputs": [
    {
     "data": {
      "application/vnd.jupyter.widget-view+json": {
       "model_id": "6078bc72e85b4520a8dcf743d10646c2",
       "version_major": 2,
       "version_minor": 0
      },
      "text/plain": [
       "Predicting: 2734it [00:00, ?it/s]"
      ]
     },
     "metadata": {},
     "output_type": "display_data"
    },
    {
     "data": {
      "application/vnd.jupyter.widget-view+json": {
       "model_id": "18bea69249d94d33b4fb26f8c017b6f6",
       "version_major": 2,
       "version_minor": 0
      },
      "text/plain": [
       "Predicting: 2734it [00:00, ?it/s]"
      ]
     },
     "metadata": {},
     "output_type": "display_data"
    },
    {
     "data": {
      "application/vnd.jupyter.widget-view+json": {
       "model_id": "16eb8ff6d6f4421691e927dc7c54fb42",
       "version_major": 2,
       "version_minor": 0
      },
      "text/plain": [
       "Predicting: 2734it [00:00, ?it/s]"
      ]
     },
     "metadata": {},
     "output_type": "display_data"
    },
    {
     "data": {
      "application/vnd.jupyter.widget-view+json": {
       "model_id": "c18b83ef87234ce7ada7da938f103282",
       "version_major": 2,
       "version_minor": 0
      },
      "text/plain": [
       "Predicting: 2734it [00:00, ?it/s]"
      ]
     },
     "metadata": {},
     "output_type": "display_data"
    },
    {
     "data": {
      "application/vnd.jupyter.widget-view+json": {
       "model_id": "db9d2308e3eb4595973cfdcf6a9f6169",
       "version_major": 2,
       "version_minor": 0
      },
      "text/plain": [
       "Predicting: 2734it [00:00, ?it/s]"
      ]
     },
     "metadata": {},
     "output_type": "display_data"
    },
    {
     "data": {
      "application/vnd.jupyter.widget-view+json": {
       "model_id": "0e3f810d679b405dbd40e0b462a855d3",
       "version_major": 2,
       "version_minor": 0
      },
      "text/plain": [
       "Predicting: 2734it [00:00, ?it/s]"
      ]
     },
     "metadata": {},
     "output_type": "display_data"
    },
    {
     "data": {
      "application/vnd.jupyter.widget-view+json": {
       "model_id": "6fed320b98e24cbba5eff412987cc5d3",
       "version_major": 2,
       "version_minor": 0
      },
      "text/plain": [
       "Predicting: 2734it [00:00, ?it/s]"
      ]
     },
     "metadata": {},
     "output_type": "display_data"
    },
    {
     "data": {
      "application/vnd.jupyter.widget-view+json": {
       "model_id": "ddf152fd929a43eca3c2b3dfd99deacd",
       "version_major": 2,
       "version_minor": 0
      },
      "text/plain": [
       "Predicting: 2734it [00:00, ?it/s]"
      ]
     },
     "metadata": {},
     "output_type": "display_data"
    },
    {
     "data": {
      "application/vnd.jupyter.widget-view+json": {
       "model_id": "a3f8114fcf224ddfbc3b5495c5f3374f",
       "version_major": 2,
       "version_minor": 0
      },
      "text/plain": [
       "Predicting: 2734it [00:00, ?it/s]"
      ]
     },
     "metadata": {},
     "output_type": "display_data"
    },
    {
     "data": {
      "application/vnd.jupyter.widget-view+json": {
       "model_id": "23724f15c28b487cb9113d9ee6504e20",
       "version_major": 2,
       "version_minor": 0
      },
      "text/plain": [
       "Predicting: 2734it [00:00, ?it/s]"
      ]
     },
     "metadata": {},
     "output_type": "display_data"
    },
    {
     "data": {
      "application/vnd.jupyter.widget-view+json": {
       "model_id": "431ad672b2f44de09cf3dc25f5840ec8",
       "version_major": 2,
       "version_minor": 0
      },
      "text/plain": [
       "Predicting: 2734it [00:00, ?it/s]"
      ]
     },
     "metadata": {},
     "output_type": "display_data"
    },
    {
     "data": {
      "application/vnd.jupyter.widget-view+json": {
       "model_id": "c6e1e56444b0436e8b776d2f24459c46",
       "version_major": 2,
       "version_minor": 0
      },
      "text/plain": [
       "Predicting: 2734it [00:00, ?it/s]"
      ]
     },
     "metadata": {},
     "output_type": "display_data"
    },
    {
     "data": {
      "application/vnd.jupyter.widget-view+json": {
       "model_id": "0f410656c41e45c9aae32d3a85a8dc3d",
       "version_major": 2,
       "version_minor": 0
      },
      "text/plain": [
       "Predicting: 2734it [00:00, ?it/s]"
      ]
     },
     "metadata": {},
     "output_type": "display_data"
    },
    {
     "data": {
      "application/vnd.jupyter.widget-view+json": {
       "model_id": "9c6371b9c84349039e169bd60192a5f4",
       "version_major": 2,
       "version_minor": 0
      },
      "text/plain": [
       "Predicting: 2734it [00:00, ?it/s]"
      ]
     },
     "metadata": {},
     "output_type": "display_data"
    },
    {
     "data": {
      "application/vnd.jupyter.widget-view+json": {
       "model_id": "c9f7c8e468bc4473a2513b88abc31a72",
       "version_major": 2,
       "version_minor": 0
      },
      "text/plain": [
       "Predicting: 2734it [00:00, ?it/s]"
      ]
     },
     "metadata": {},
     "output_type": "display_data"
    },
    {
     "data": {
      "application/vnd.jupyter.widget-view+json": {
       "model_id": "5dcd7387c5ec4a28b01ed18ea593e9c4",
       "version_major": 2,
       "version_minor": 0
      },
      "text/plain": [
       "Predicting: 2734it [00:00, ?it/s]"
      ]
     },
     "metadata": {},
     "output_type": "display_data"
    },
    {
     "data": {
      "application/vnd.jupyter.widget-view+json": {
       "model_id": "656053f70c6f4a13a015fb11c59deb32",
       "version_major": 2,
       "version_minor": 0
      },
      "text/plain": [
       "Predicting: 2734it [00:00, ?it/s]"
      ]
     },
     "metadata": {},
     "output_type": "display_data"
    },
    {
     "data": {
      "application/vnd.jupyter.widget-view+json": {
       "model_id": "915a1fc752174484909bca334569c11a",
       "version_major": 2,
       "version_minor": 0
      },
      "text/plain": [
       "Predicting: 2734it [00:00, ?it/s]"
      ]
     },
     "metadata": {},
     "output_type": "display_data"
    },
    {
     "data": {
      "application/vnd.jupyter.widget-view+json": {
       "model_id": "f8697b8213d04301bfb086b1948d6ed0",
       "version_major": 2,
       "version_minor": 0
      },
      "text/plain": [
       "Predicting: 2734it [00:00, ?it/s]"
      ]
     },
     "metadata": {},
     "output_type": "display_data"
    },
    {
     "data": {
      "application/vnd.jupyter.widget-view+json": {
       "model_id": "dfd357e5ec944f6f882f89be18ec0df6",
       "version_major": 2,
       "version_minor": 0
      },
      "text/plain": [
       "Predicting: 2734it [00:00, ?it/s]"
      ]
     },
     "metadata": {},
     "output_type": "display_data"
    },
    {
     "data": {
      "application/vnd.jupyter.widget-view+json": {
       "model_id": "84d47038e8f943b7a0d16d9880034a17",
       "version_major": 2,
       "version_minor": 0
      },
      "text/plain": [
       "Predicting: 2734it [00:00, ?it/s]"
      ]
     },
     "metadata": {},
     "output_type": "display_data"
    },
    {
     "data": {
      "application/vnd.jupyter.widget-view+json": {
       "model_id": "58f1680d958c46bc99b0453071624170",
       "version_major": 2,
       "version_minor": 0
      },
      "text/plain": [
       "Predicting: 2734it [00:00, ?it/s]"
      ]
     },
     "metadata": {},
     "output_type": "display_data"
    },
    {
     "data": {
      "application/vnd.jupyter.widget-view+json": {
       "model_id": "06b2c525400444ea9618d3926454f52b",
       "version_major": 2,
       "version_minor": 0
      },
      "text/plain": [
       "Predicting: 2734it [00:00, ?it/s]"
      ]
     },
     "metadata": {},
     "output_type": "display_data"
    },
    {
     "data": {
      "application/vnd.jupyter.widget-view+json": {
       "model_id": "23d35d59c1164362a9bdbdfc1430617d",
       "version_major": 2,
       "version_minor": 0
      },
      "text/plain": [
       "Predicting: 2734it [00:00, ?it/s]"
      ]
     },
     "metadata": {},
     "output_type": "display_data"
    },
    {
     "data": {
      "application/vnd.jupyter.widget-view+json": {
       "model_id": "4f3673de416644df874f15ad3365f6c3",
       "version_major": 2,
       "version_minor": 0
      },
      "text/plain": [
       "Predicting: 2734it [00:00, ?it/s]"
      ]
     },
     "metadata": {},
     "output_type": "display_data"
    },
    {
     "data": {
      "application/vnd.jupyter.widget-view+json": {
       "model_id": "43b460cf266d4fecb1da63bc1a489d12",
       "version_major": 2,
       "version_minor": 0
      },
      "text/plain": [
       "Predicting: 2734it [00:00, ?it/s]"
      ]
     },
     "metadata": {},
     "output_type": "display_data"
    },
    {
     "data": {
      "application/vnd.jupyter.widget-view+json": {
       "model_id": "6a8be336460a4f30bdd0013dcc0f27a3",
       "version_major": 2,
       "version_minor": 0
      },
      "text/plain": [
       "Predicting: 2734it [00:00, ?it/s]"
      ]
     },
     "metadata": {},
     "output_type": "display_data"
    },
    {
     "data": {
      "application/vnd.jupyter.widget-view+json": {
       "model_id": "ec5acf8bde574c8fb5eca941553bed1e",
       "version_major": 2,
       "version_minor": 0
      },
      "text/plain": [
       "Predicting: 2734it [00:00, ?it/s]"
      ]
     },
     "metadata": {},
     "output_type": "display_data"
    },
    {
     "data": {
      "application/vnd.jupyter.widget-view+json": {
       "model_id": "cde8b80bc3f5404882120aba138bd37c",
       "version_major": 2,
       "version_minor": 0
      },
      "text/plain": [
       "Predicting: 2734it [00:00, ?it/s]"
      ]
     },
     "metadata": {},
     "output_type": "display_data"
    },
    {
     "data": {
      "application/vnd.jupyter.widget-view+json": {
       "model_id": "f13417b040c047c2a083f8094b1c5190",
       "version_major": 2,
       "version_minor": 0
      },
      "text/plain": [
       "Predicting: 2734it [00:00, ?it/s]"
      ]
     },
     "metadata": {},
     "output_type": "display_data"
    },
    {
     "data": {
      "text/plain": [
       "[0.6282831, 0.5236542, 0.52741766]"
      ]
     },
     "execution_count": 30,
     "metadata": {},
     "output_type": "execute_result"
    }
   ],
   "source": [
    "one_step_test(model_list_new_2017_12, df_train_list_2017_12, df_test_list_2017_12, events_eq_list_2017_12)"
   ]
  },
  {
   "cell_type": "code",
   "execution_count": 28,
   "id": "4cb00bbe-68fd-489c-a38e-39cea453511d",
   "metadata": {},
   "outputs": [
    {
     "data": {
      "text/plain": [
       "[<neuralprophet.forecaster.NeuralProphet at 0x23051f7fca0>,\n",
       " <neuralprophet.forecaster.NeuralProphet at 0x23051f91f10>,\n",
       " <neuralprophet.forecaster.NeuralProphet at 0x23051f7f850>]"
      ]
     },
     "execution_count": 28,
     "metadata": {},
     "output_type": "execute_result"
    }
   ],
   "source": [
    "model_list_new_2017_12"
   ]
  },
  {
   "cell_type": "code",
   "execution_count": 24,
   "id": "8cc7d1f4-34aa-4630-b502-dcc38a7c884c",
   "metadata": {},
   "outputs": [
    {
     "data": {
      "text/html": [
       "<div>\n",
       "<style scoped>\n",
       "    .dataframe tbody tr th:only-of-type {\n",
       "        vertical-align: middle;\n",
       "    }\n",
       "\n",
       "    .dataframe tbody tr th {\n",
       "        vertical-align: top;\n",
       "    }\n",
       "\n",
       "    .dataframe thead th {\n",
       "        text-align: right;\n",
       "    }\n",
       "</style>\n",
       "<table border=\"1\" class=\"dataframe\">\n",
       "  <thead>\n",
       "    <tr style=\"text-align: right;\">\n",
       "      <th></th>\n",
       "      <th>model</th>\n",
       "      <th>df_train</th>\n",
       "    </tr>\n",
       "  </thead>\n",
       "  <tbody>\n",
       "    <tr>\n",
       "      <th>0</th>\n",
       "      <td>&lt;neuralprophet.forecaster.NeuralProphet object...</td>\n",
       "      <td>ds         y  ID   EQ\n",
       "...</td>\n",
       "    </tr>\n",
       "    <tr>\n",
       "      <th>1</th>\n",
       "      <td>&lt;neuralprophet.forecaster.NeuralProphet object...</td>\n",
       "      <td>ds         y  ID   EQ\n",
       "...</td>\n",
       "    </tr>\n",
       "    <tr>\n",
       "      <th>2</th>\n",
       "      <td>&lt;neuralprophet.forecaster.NeuralProphet object...</td>\n",
       "      <td>ds         y  ID   EQ\n",
       "...</td>\n",
       "    </tr>\n",
       "  </tbody>\n",
       "</table>\n",
       "</div>"
      ],
      "text/plain": [
       "                                               model  \\\n",
       "0  <neuralprophet.forecaster.NeuralProphet object...   \n",
       "1  <neuralprophet.forecaster.NeuralProphet object...   \n",
       "2  <neuralprophet.forecaster.NeuralProphet object...   \n",
       "\n",
       "                                            df_train  \n",
       "0                          ds         y  ID   EQ\n",
       "...  \n",
       "1                          ds         y  ID   EQ\n",
       "...  \n",
       "2                          ds         y  ID   EQ\n",
       "...  "
      ]
     },
     "execution_count": 24,
     "metadata": {},
     "output_type": "execute_result"
    }
   ],
   "source": [
    "pd.DataFrame({\"model\": model_list_new_2017_12, \"df_train\":df_train_list_2017_12, \"df_test\": df_train_list_2017_12})"
   ]
  },
  {
   "cell_type": "code",
   "execution_count": 129,
   "id": "cc03806d-c32c-44ac-b023-4d68dd525995",
   "metadata": {},
   "outputs": [
    {
     "name": "stdout",
     "output_type": "stream",
     "text": [
      "124\n"
     ]
    }
   ],
   "source": [
    "last_eq_dt_2017 = '2018-01-01 10:00:00'\n",
    "offset =  timedelta(hours=12)\n",
    "(model_list_2017_12, df_train_list_2017_12,df_test_list_2017_12, events_eq_list_2017_12) = define_test(df_regressor, events_eq, last_eq_dt_2017, offset)"
   ]
  },
  {
   "cell_type": "code",
   "execution_count": 6,
   "id": "8a2c7fb3-e6f3-48ef-bdbb-12fc3c59e375",
   "metadata": {},
   "outputs": [
    {
     "name": "stdout",
     "output_type": "stream",
     "text": [
      "2018-01-04 10:30:00\n"
     ]
    },
    {
     "data": {
      "application/vnd.jupyter.widget-view+json": {
       "model_id": "1e3752a9c27e4eb5a3380504308988bb",
       "version_major": 2,
       "version_minor": 0
      },
      "text/plain": [
       "Training: 0it [00:00, ?it/s]"
      ]
     },
     "metadata": {},
     "output_type": "display_data"
    },
    {
     "data": {
      "application/vnd.jupyter.widget-view+json": {
       "model_id": "58020f3ff39e4f2eb7237200a333a2d8",
       "version_major": 2,
       "version_minor": 0
      },
      "text/plain": [
       "Training: 0it [00:00, ?it/s]"
      ]
     },
     "metadata": {},
     "output_type": "display_data"
    },
    {
     "data": {
      "application/vnd.jupyter.widget-view+json": {
       "model_id": "f20eaa8b28e9411caef711a2c57229c6",
       "version_major": 2,
       "version_minor": 0
      },
      "text/plain": [
       "Training: 0it [00:00, ?it/s]"
      ]
     },
     "metadata": {},
     "output_type": "display_data"
    },
    {
     "data": {
      "application/vnd.jupyter.widget-view+json": {
       "model_id": "6344a0cd7afb424f8ca1d902ac021b4c",
       "version_major": 2,
       "version_minor": 0
      },
      "text/plain": [
       "Testing: 0it [00:00, ?it/s]"
      ]
     },
     "metadata": {},
     "output_type": "display_data"
    },
    {
     "data": {
      "text/html": [
       "<pre style=\"white-space:pre;overflow-x:auto;line-height:normal;font-family:Menlo,'DejaVu Sans Mono',consolas,'Courier New',monospace\">┏━━━━━━━━━━━━━━━━━━━━━━━━━━━┳━━━━━━━━━━━━━━━━━━━━━━━━━━━┓\n",
       "┃<span style=\"font-weight: bold\">        Test metric        </span>┃<span style=\"font-weight: bold\">       DataLoader 0        </span>┃\n",
       "┡━━━━━━━━━━━━━━━━━━━━━━━━━━━╇━━━━━━━━━━━━━━━━━━━━━━━━━━━┩\n",
       "│<span style=\"color: #008080; text-decoration-color: #008080\">         Loss_test         </span>│<span style=\"color: #800080; text-decoration-color: #800080\">   0.0056582423858344555   </span>│\n",
       "│<span style=\"color: #008080; text-decoration-color: #008080\">       RegLoss_test        </span>│<span style=\"color: #800080; text-decoration-color: #800080\">            0.0            </span>│\n",
       "└───────────────────────────┴───────────────────────────┘\n",
       "</pre>\n"
      ],
      "text/plain": [
       "┏━━━━━━━━━━━━━━━━━━━━━━━━━━━┳━━━━━━━━━━━━━━━━━━━━━━━━━━━┓\n",
       "┃\u001b[1m \u001b[0m\u001b[1m       Test metric       \u001b[0m\u001b[1m \u001b[0m┃\u001b[1m \u001b[0m\u001b[1m      DataLoader 0       \u001b[0m\u001b[1m \u001b[0m┃\n",
       "┡━━━━━━━━━━━━━━━━━━━━━━━━━━━╇━━━━━━━━━━━━━━━━━━━━━━━━━━━┩\n",
       "│\u001b[36m \u001b[0m\u001b[36m        Loss_test        \u001b[0m\u001b[36m \u001b[0m│\u001b[35m \u001b[0m\u001b[35m  0.0056582423858344555  \u001b[0m\u001b[35m \u001b[0m│\n",
       "│\u001b[36m \u001b[0m\u001b[36m      RegLoss_test       \u001b[0m\u001b[36m \u001b[0m│\u001b[35m \u001b[0m\u001b[35m           0.0           \u001b[0m\u001b[35m \u001b[0m│\n",
       "└───────────────────────────┴───────────────────────────┘\n"
      ]
     },
     "metadata": {},
     "output_type": "display_data"
    },
    {
     "data": {
      "application/vnd.jupyter.widget-view+json": {
       "model_id": "689ec60bc35449a38543abb5a04c8eae",
       "version_major": 2,
       "version_minor": 0
      },
      "text/plain": [
       "Testing: 0it [00:00, ?it/s]"
      ]
     },
     "metadata": {},
     "output_type": "display_data"
    },
    {
     "data": {
      "text/html": [
       "<pre style=\"white-space:pre;overflow-x:auto;line-height:normal;font-family:Menlo,'DejaVu Sans Mono',consolas,'Courier New',monospace\">┏━━━━━━━━━━━━━━━━━━━━━━━━━━━┳━━━━━━━━━━━━━━━━━━━━━━━━━━━┓\n",
       "┃<span style=\"font-weight: bold\">        Test metric        </span>┃<span style=\"font-weight: bold\">       DataLoader 0        </span>┃\n",
       "┡━━━━━━━━━━━━━━━━━━━━━━━━━━━╇━━━━━━━━━━━━━━━━━━━━━━━━━━━┩\n",
       "│<span style=\"color: #008080; text-decoration-color: #008080\">         Loss_test         </span>│<span style=\"color: #800080; text-decoration-color: #800080\">   0.005612048786133528    </span>│\n",
       "│<span style=\"color: #008080; text-decoration-color: #008080\">       RegLoss_test        </span>│<span style=\"color: #800080; text-decoration-color: #800080\">            0.0            </span>│\n",
       "└───────────────────────────┴───────────────────────────┘\n",
       "</pre>\n"
      ],
      "text/plain": [
       "┏━━━━━━━━━━━━━━━━━━━━━━━━━━━┳━━━━━━━━━━━━━━━━━━━━━━━━━━━┓\n",
       "┃\u001b[1m \u001b[0m\u001b[1m       Test metric       \u001b[0m\u001b[1m \u001b[0m┃\u001b[1m \u001b[0m\u001b[1m      DataLoader 0       \u001b[0m\u001b[1m \u001b[0m┃\n",
       "┡━━━━━━━━━━━━━━━━━━━━━━━━━━━╇━━━━━━━━━━━━━━━━━━━━━━━━━━━┩\n",
       "│\u001b[36m \u001b[0m\u001b[36m        Loss_test        \u001b[0m\u001b[36m \u001b[0m│\u001b[35m \u001b[0m\u001b[35m  0.005612048786133528   \u001b[0m\u001b[35m \u001b[0m│\n",
       "│\u001b[36m \u001b[0m\u001b[36m      RegLoss_test       \u001b[0m\u001b[36m \u001b[0m│\u001b[35m \u001b[0m\u001b[35m           0.0           \u001b[0m\u001b[35m \u001b[0m│\n",
       "└───────────────────────────┴───────────────────────────┘\n"
      ]
     },
     "metadata": {},
     "output_type": "display_data"
    },
    {
     "data": {
      "application/vnd.jupyter.widget-view+json": {
       "model_id": "7966ab6b5a4d40968f7a946fd8bd797f",
       "version_major": 2,
       "version_minor": 0
      },
      "text/plain": [
       "Testing: 0it [00:00, ?it/s]"
      ]
     },
     "metadata": {},
     "output_type": "display_data"
    },
    {
     "data": {
      "text/html": [
       "<pre style=\"white-space:pre;overflow-x:auto;line-height:normal;font-family:Menlo,'DejaVu Sans Mono',consolas,'Courier New',monospace\">┏━━━━━━━━━━━━━━━━━━━━━━━━━━━┳━━━━━━━━━━━━━━━━━━━━━━━━━━━┓\n",
       "┃<span style=\"font-weight: bold\">        Test metric        </span>┃<span style=\"font-weight: bold\">       DataLoader 0        </span>┃\n",
       "┡━━━━━━━━━━━━━━━━━━━━━━━━━━━╇━━━━━━━━━━━━━━━━━━━━━━━━━━━┩\n",
       "│<span style=\"color: #008080; text-decoration-color: #008080\">         Loss_test         </span>│<span style=\"color: #800080; text-decoration-color: #800080\">   0.005652005784213543    </span>│\n",
       "│<span style=\"color: #008080; text-decoration-color: #008080\">       RegLoss_test        </span>│<span style=\"color: #800080; text-decoration-color: #800080\">            0.0            </span>│\n",
       "└───────────────────────────┴───────────────────────────┘\n",
       "</pre>\n"
      ],
      "text/plain": [
       "┏━━━━━━━━━━━━━━━━━━━━━━━━━━━┳━━━━━━━━━━━━━━━━━━━━━━━━━━━┓\n",
       "┃\u001b[1m \u001b[0m\u001b[1m       Test metric       \u001b[0m\u001b[1m \u001b[0m┃\u001b[1m \u001b[0m\u001b[1m      DataLoader 0       \u001b[0m\u001b[1m \u001b[0m┃\n",
       "┡━━━━━━━━━━━━━━━━━━━━━━━━━━━╇━━━━━━━━━━━━━━━━━━━━━━━━━━━┩\n",
       "│\u001b[36m \u001b[0m\u001b[36m        Loss_test        \u001b[0m\u001b[36m \u001b[0m│\u001b[35m \u001b[0m\u001b[35m  0.005652005784213543   \u001b[0m\u001b[35m \u001b[0m│\n",
       "│\u001b[36m \u001b[0m\u001b[36m      RegLoss_test       \u001b[0m\u001b[36m \u001b[0m│\u001b[35m \u001b[0m\u001b[35m           0.0           \u001b[0m\u001b[35m \u001b[0m│\n",
       "└───────────────────────────┴───────────────────────────┘\n"
      ]
     },
     "metadata": {},
     "output_type": "display_data"
    }
   ],
   "source": [
    "(model_list_new_2017_12,  metrics_train_list_12) = fit_models(model_list_2017_12, df_train_list_2017_12,df_test_list_2017_12, events_eq_list_2017_12)\n",
    "metrics_list_2017_12 = one_step_test(model_list_new_2017_12, df_train_list_2017_12, df_test_list_2017_12, events_eq_list_2017_12)"
   ]
  },
  {
   "cell_type": "code",
   "execution_count": 31,
   "id": "97ec8af4-cc88-4d6f-9e2b-b10b10e068d0",
   "metadata": {},
   "outputs": [
    {
     "name": "stdout",
     "output_type": "stream",
     "text": [
      "2018-01-04 10:30:00\n"
     ]
    },
    {
     "data": {
      "application/vnd.jupyter.widget-view+json": {
       "model_id": "315cff4ce7f0409790e0bf448d000552",
       "version_major": 2,
       "version_minor": 0
      },
      "text/plain": [
       "Training: 0it [00:00, ?it/s]"
      ]
     },
     "metadata": {},
     "output_type": "display_data"
    },
    {
     "data": {
      "application/vnd.jupyter.widget-view+json": {
       "model_id": "8f79315c06f849789b3a1f5343e9126c",
       "version_major": 2,
       "version_minor": 0
      },
      "text/plain": [
       "Training: 0it [00:00, ?it/s]"
      ]
     },
     "metadata": {},
     "output_type": "display_data"
    },
    {
     "data": {
      "application/vnd.jupyter.widget-view+json": {
       "model_id": "7b07be178ce649fbaa7bca12d109d5f0",
       "version_major": 2,
       "version_minor": 0
      },
      "text/plain": [
       "Training: 0it [00:00, ?it/s]"
      ]
     },
     "metadata": {},
     "output_type": "display_data"
    },
    {
     "data": {
      "application/vnd.jupyter.widget-view+json": {
       "model_id": "b790014c1a7d4f429b86998587faf120",
       "version_major": 2,
       "version_minor": 0
      },
      "text/plain": [
       "Predicting: 2736it [00:00, ?it/s]"
      ]
     },
     "metadata": {},
     "output_type": "display_data"
    },
    {
     "data": {
      "application/vnd.jupyter.widget-view+json": {
       "model_id": "616aaf6cd09f419d916c4d567f89e28f",
       "version_major": 2,
       "version_minor": 0
      },
      "text/plain": [
       "Predicting: 2736it [00:00, ?it/s]"
      ]
     },
     "metadata": {},
     "output_type": "display_data"
    },
    {
     "data": {
      "application/vnd.jupyter.widget-view+json": {
       "model_id": "ec65185ae70f4164b800088492a08c85",
       "version_major": 2,
       "version_minor": 0
      },
      "text/plain": [
       "Predicting: 2736it [00:00, ?it/s]"
      ]
     },
     "metadata": {},
     "output_type": "display_data"
    },
    {
     "data": {
      "application/vnd.jupyter.widget-view+json": {
       "model_id": "e4e886c089324e7f85d8e6e80652f39e",
       "version_major": 2,
       "version_minor": 0
      },
      "text/plain": [
       "Predicting: 2736it [00:00, ?it/s]"
      ]
     },
     "metadata": {},
     "output_type": "display_data"
    },
    {
     "data": {
      "application/vnd.jupyter.widget-view+json": {
       "model_id": "ec857dba09f546b6a9fe5533c1e18e5a",
       "version_major": 2,
       "version_minor": 0
      },
      "text/plain": [
       "Predicting: 2736it [00:00, ?it/s]"
      ]
     },
     "metadata": {},
     "output_type": "display_data"
    },
    {
     "data": {
      "application/vnd.jupyter.widget-view+json": {
       "model_id": "bb194f91e859445aa2bc44d0f9e079a3",
       "version_major": 2,
       "version_minor": 0
      },
      "text/plain": [
       "Predicting: 2736it [00:00, ?it/s]"
      ]
     },
     "metadata": {},
     "output_type": "display_data"
    },
    {
     "data": {
      "application/vnd.jupyter.widget-view+json": {
       "model_id": "2ab41ef7c8544d01844184207262ee75",
       "version_major": 2,
       "version_minor": 0
      },
      "text/plain": [
       "Predicting: 2736it [00:00, ?it/s]"
      ]
     },
     "metadata": {},
     "output_type": "display_data"
    },
    {
     "data": {
      "application/vnd.jupyter.widget-view+json": {
       "model_id": "d733b78878dd458da324e114606d1570",
       "version_major": 2,
       "version_minor": 0
      },
      "text/plain": [
       "Predicting: 2736it [00:00, ?it/s]"
      ]
     },
     "metadata": {},
     "output_type": "display_data"
    },
    {
     "data": {
      "application/vnd.jupyter.widget-view+json": {
       "model_id": "06851a1ece89481faa99d3b26021b56c",
       "version_major": 2,
       "version_minor": 0
      },
      "text/plain": [
       "Predicting: 2736it [00:00, ?it/s]"
      ]
     },
     "metadata": {},
     "output_type": "display_data"
    },
    {
     "data": {
      "application/vnd.jupyter.widget-view+json": {
       "model_id": "b2588b38eec644d68f8da9308292d26e",
       "version_major": 2,
       "version_minor": 0
      },
      "text/plain": [
       "Predicting: 2736it [00:00, ?it/s]"
      ]
     },
     "metadata": {},
     "output_type": "display_data"
    },
    {
     "data": {
      "application/vnd.jupyter.widget-view+json": {
       "model_id": "df55eb3886b44267b60b72e82cbe6853",
       "version_major": 2,
       "version_minor": 0
      },
      "text/plain": [
       "Predicting: 2736it [00:00, ?it/s]"
      ]
     },
     "metadata": {},
     "output_type": "display_data"
    },
    {
     "data": {
      "application/vnd.jupyter.widget-view+json": {
       "model_id": "806e21e821f9424c853efedd6ccb0a6d",
       "version_major": 2,
       "version_minor": 0
      },
      "text/plain": [
       "Predicting: 2736it [00:00, ?it/s]"
      ]
     },
     "metadata": {},
     "output_type": "display_data"
    },
    {
     "data": {
      "application/vnd.jupyter.widget-view+json": {
       "model_id": "513e9a81bb8c40e2840977344a1a1530",
       "version_major": 2,
       "version_minor": 0
      },
      "text/plain": [
       "Predicting: 2736it [00:00, ?it/s]"
      ]
     },
     "metadata": {},
     "output_type": "display_data"
    },
    {
     "data": {
      "application/vnd.jupyter.widget-view+json": {
       "model_id": "65fd5902d13b44a4b486c6a0505ec0c7",
       "version_major": 2,
       "version_minor": 0
      },
      "text/plain": [
       "Predicting: 2736it [00:00, ?it/s]"
      ]
     },
     "metadata": {},
     "output_type": "display_data"
    },
    {
     "data": {
      "application/vnd.jupyter.widget-view+json": {
       "model_id": "f863bdda58cf4ba3af5b7a392bd30f71",
       "version_major": 2,
       "version_minor": 0
      },
      "text/plain": [
       "Predicting: 2736it [00:00, ?it/s]"
      ]
     },
     "metadata": {},
     "output_type": "display_data"
    },
    {
     "data": {
      "application/vnd.jupyter.widget-view+json": {
       "model_id": "cc328abd0cc34668bef91f25cac6b55e",
       "version_major": 2,
       "version_minor": 0
      },
      "text/plain": [
       "Predicting: 2736it [00:00, ?it/s]"
      ]
     },
     "metadata": {},
     "output_type": "display_data"
    },
    {
     "data": {
      "application/vnd.jupyter.widget-view+json": {
       "model_id": "fb73632c36d34a84ae5c455d077f85a2",
       "version_major": 2,
       "version_minor": 0
      },
      "text/plain": [
       "Predicting: 2736it [00:00, ?it/s]"
      ]
     },
     "metadata": {},
     "output_type": "display_data"
    },
    {
     "data": {
      "application/vnd.jupyter.widget-view+json": {
       "model_id": "676663ecfac443169a488fb656ed27fe",
       "version_major": 2,
       "version_minor": 0
      },
      "text/plain": [
       "Predicting: 2736it [00:00, ?it/s]"
      ]
     },
     "metadata": {},
     "output_type": "display_data"
    },
    {
     "data": {
      "application/vnd.jupyter.widget-view+json": {
       "model_id": "5eaabec4a3d14cc48417b7214ef71733",
       "version_major": 2,
       "version_minor": 0
      },
      "text/plain": [
       "Predicting: 2736it [00:00, ?it/s]"
      ]
     },
     "metadata": {},
     "output_type": "display_data"
    },
    {
     "data": {
      "application/vnd.jupyter.widget-view+json": {
       "model_id": "3d0f3d464d9c4c76b8dfef49e7444b90",
       "version_major": 2,
       "version_minor": 0
      },
      "text/plain": [
       "Predicting: 2736it [00:00, ?it/s]"
      ]
     },
     "metadata": {},
     "output_type": "display_data"
    },
    {
     "data": {
      "application/vnd.jupyter.widget-view+json": {
       "model_id": "639c9f7c8d8845fea857ed1da487a3ae",
       "version_major": 2,
       "version_minor": 0
      },
      "text/plain": [
       "Predicting: 2736it [00:00, ?it/s]"
      ]
     },
     "metadata": {},
     "output_type": "display_data"
    },
    {
     "data": {
      "application/vnd.jupyter.widget-view+json": {
       "model_id": "3a3d39d65db443a3ad53cd4ce5629ca0",
       "version_major": 2,
       "version_minor": 0
      },
      "text/plain": [
       "Predicting: 2736it [00:00, ?it/s]"
      ]
     },
     "metadata": {},
     "output_type": "display_data"
    },
    {
     "data": {
      "application/vnd.jupyter.widget-view+json": {
       "model_id": "73a356c8d3a74e55be379d1c3c8a9f14",
       "version_major": 2,
       "version_minor": 0
      },
      "text/plain": [
       "Predicting: 2736it [00:00, ?it/s]"
      ]
     },
     "metadata": {},
     "output_type": "display_data"
    },
    {
     "data": {
      "application/vnd.jupyter.widget-view+json": {
       "model_id": "2eb1429b6ac0407cae9daa3634fbeded",
       "version_major": 2,
       "version_minor": 0
      },
      "text/plain": [
       "Predicting: 2736it [00:00, ?it/s]"
      ]
     },
     "metadata": {},
     "output_type": "display_data"
    },
    {
     "data": {
      "application/vnd.jupyter.widget-view+json": {
       "model_id": "2ad67b62d77240a1975a4f21a0f3074e",
       "version_major": 2,
       "version_minor": 0
      },
      "text/plain": [
       "Predicting: 2736it [00:00, ?it/s]"
      ]
     },
     "metadata": {},
     "output_type": "display_data"
    },
    {
     "data": {
      "application/vnd.jupyter.widget-view+json": {
       "model_id": "8eccb7e3ad7f4602bd6c9f94849a4cd2",
       "version_major": 2,
       "version_minor": 0
      },
      "text/plain": [
       "Predicting: 2736it [00:00, ?it/s]"
      ]
     },
     "metadata": {},
     "output_type": "display_data"
    },
    {
     "data": {
      "application/vnd.jupyter.widget-view+json": {
       "model_id": "161649cdbaa8461383071f14e8223ac5",
       "version_major": 2,
       "version_minor": 0
      },
      "text/plain": [
       "Predicting: 2736it [00:00, ?it/s]"
      ]
     },
     "metadata": {},
     "output_type": "display_data"
    },
    {
     "data": {
      "application/vnd.jupyter.widget-view+json": {
       "model_id": "c773537209a5458c8c465c2264138f09",
       "version_major": 2,
       "version_minor": 0
      },
      "text/plain": [
       "Predicting: 2736it [00:00, ?it/s]"
      ]
     },
     "metadata": {},
     "output_type": "display_data"
    },
    {
     "data": {
      "application/vnd.jupyter.widget-view+json": {
       "model_id": "af5007a37fda40be83b98a7dd9fe0447",
       "version_major": 2,
       "version_minor": 0
      },
      "text/plain": [
       "Predicting: 2736it [00:00, ?it/s]"
      ]
     },
     "metadata": {},
     "output_type": "display_data"
    },
    {
     "data": {
      "application/vnd.jupyter.widget-view+json": {
       "model_id": "2326eefbce9546c886da192c744303eb",
       "version_major": 2,
       "version_minor": 0
      },
      "text/plain": [
       "Predicting: 2736it [00:00, ?it/s]"
      ]
     },
     "metadata": {},
     "output_type": "display_data"
    }
   ],
   "source": [
    "last_eq_dt_2017 = '2018-01-01 10:00:00'\n",
    "offset =  timedelta(hours=24)\n",
    "(model_list_2017_24, df_train_list_2017_24,df_test_list_2017_24, events_eq_list_2017_24) = define_test(df_regressor, events_eq, last_eq_dt_2017, offset)\n",
    "(model_list_new_2017_24,  metrics_train_list_24) = fit_models(model_list_2017_24, df_train_list_2017_24,df_test_list_2017_24, events_eq_list_2017_24)\n",
    "metrics_list_2017_24 = one_step_test(model_list_new_2017_24, df_train_list_2017_24, df_test_list_2017_24, events_eq_list_2017_24)"
   ]
  },
  {
   "cell_type": "code",
   "execution_count": 32,
   "id": "47d739db-3f0d-44b1-96c9-9e3c2bd09201",
   "metadata": {},
   "outputs": [
    {
     "data": {
      "text/plain": [
       "[0.51300144, 0.5120215, 0.5104267]"
      ]
     },
     "execution_count": 32,
     "metadata": {},
     "output_type": "execute_result"
    }
   ],
   "source": [
    "metrics_list_2017_24"
   ]
  },
  {
   "cell_type": "code",
   "execution_count": null,
   "id": "65ad7496-f2c6-410f-9973-6603b2ee1459",
   "metadata": {},
   "outputs": [],
   "source": [
    "metrics_list_2017_12 = test_models(model_list_new_2017_12, df_train_list_2017_12, df_test_list_2017_12, events_eq_list_2017_12)"
   ]
  },
  {
   "cell_type": "code",
   "execution_count": 8,
   "id": "0e73a236-c3d7-4e27-b462-24e52c4d7a7c",
   "metadata": {},
   "outputs": [],
   "source": [
    "(model_list_new_2017_12,  metrics_list_12) = fit_models(model_list_2017_12, df_train_list_2017_12,df_test_list_2017_12, events_eq_list_2017_12)"
   ]
  },
  {
   "cell_type": "code",
   "execution_count": 10,
   "id": "f58232a3-9045-48d7-9732-27fd83891b8e",
   "metadata": {},
   "outputs": [
    {
     "data": {
      "application/vnd.jupyter.widget-view+json": {
       "model_id": "37eca6d688514276b627bd05677bd8d5",
       "version_major": 2,
       "version_minor": 0
      },
      "text/plain": [
       "Testing: 0it [00:00, ?it/s]"
      ]
     },
     "metadata": {},
     "output_type": "display_data"
    },
    {
     "data": {
      "text/html": [
       "<pre style=\"white-space:pre;overflow-x:auto;line-height:normal;font-family:Menlo,'DejaVu Sans Mono',consolas,'Courier New',monospace\">┏━━━━━━━━━━━━━━━━━━━━━━━━━━━┳━━━━━━━━━━━━━━━━━━━━━━━━━━━┓\n",
       "┃<span style=\"font-weight: bold\">        Test metric        </span>┃<span style=\"font-weight: bold\">       DataLoader 0        </span>┃\n",
       "┡━━━━━━━━━━━━━━━━━━━━━━━━━━━╇━━━━━━━━━━━━━━━━━━━━━━━━━━━┩\n",
       "│<span style=\"color: #008080; text-decoration-color: #008080\">         Loss_test         </span>│<span style=\"color: #800080; text-decoration-color: #800080\">   0.008815927430987358    </span>│\n",
       "│<span style=\"color: #008080; text-decoration-color: #008080\">       RegLoss_test        </span>│<span style=\"color: #800080; text-decoration-color: #800080\">            0.0            </span>│\n",
       "└───────────────────────────┴───────────────────────────┘\n",
       "</pre>\n"
      ],
      "text/plain": [
       "┏━━━━━━━━━━━━━━━━━━━━━━━━━━━┳━━━━━━━━━━━━━━━━━━━━━━━━━━━┓\n",
       "┃\u001b[1m \u001b[0m\u001b[1m       Test metric       \u001b[0m\u001b[1m \u001b[0m┃\u001b[1m \u001b[0m\u001b[1m      DataLoader 0       \u001b[0m\u001b[1m \u001b[0m┃\n",
       "┡━━━━━━━━━━━━━━━━━━━━━━━━━━━╇━━━━━━━━━━━━━━━━━━━━━━━━━━━┩\n",
       "│\u001b[36m \u001b[0m\u001b[36m        Loss_test        \u001b[0m\u001b[36m \u001b[0m│\u001b[35m \u001b[0m\u001b[35m  0.008815927430987358   \u001b[0m\u001b[35m \u001b[0m│\n",
       "│\u001b[36m \u001b[0m\u001b[36m      RegLoss_test       \u001b[0m\u001b[36m \u001b[0m│\u001b[35m \u001b[0m\u001b[35m           0.0           \u001b[0m\u001b[35m \u001b[0m│\n",
       "└───────────────────────────┴───────────────────────────┘\n"
      ]
     },
     "metadata": {},
     "output_type": "display_data"
    },
    {
     "data": {
      "application/vnd.jupyter.widget-view+json": {
       "model_id": "06b1596d453f45c0bb1c742fd5517121",
       "version_major": 2,
       "version_minor": 0
      },
      "text/plain": [
       "Testing: 0it [00:00, ?it/s]"
      ]
     },
     "metadata": {},
     "output_type": "display_data"
    },
    {
     "data": {
      "text/html": [
       "<pre style=\"white-space:pre;overflow-x:auto;line-height:normal;font-family:Menlo,'DejaVu Sans Mono',consolas,'Courier New',monospace\">┏━━━━━━━━━━━━━━━━━━━━━━━━━━━┳━━━━━━━━━━━━━━━━━━━━━━━━━━━┓\n",
       "┃<span style=\"font-weight: bold\">        Test metric        </span>┃<span style=\"font-weight: bold\">       DataLoader 0        </span>┃\n",
       "┡━━━━━━━━━━━━━━━━━━━━━━━━━━━╇━━━━━━━━━━━━━━━━━━━━━━━━━━━┩\n",
       "│<span style=\"color: #008080; text-decoration-color: #008080\">         Loss_test         </span>│<span style=\"color: #800080; text-decoration-color: #800080\">   0.008940164931118488    </span>│\n",
       "│<span style=\"color: #008080; text-decoration-color: #008080\">       RegLoss_test        </span>│<span style=\"color: #800080; text-decoration-color: #800080\">            0.0            </span>│\n",
       "└───────────────────────────┴───────────────────────────┘\n",
       "</pre>\n"
      ],
      "text/plain": [
       "┏━━━━━━━━━━━━━━━━━━━━━━━━━━━┳━━━━━━━━━━━━━━━━━━━━━━━━━━━┓\n",
       "┃\u001b[1m \u001b[0m\u001b[1m       Test metric       \u001b[0m\u001b[1m \u001b[0m┃\u001b[1m \u001b[0m\u001b[1m      DataLoader 0       \u001b[0m\u001b[1m \u001b[0m┃\n",
       "┡━━━━━━━━━━━━━━━━━━━━━━━━━━━╇━━━━━━━━━━━━━━━━━━━━━━━━━━━┩\n",
       "│\u001b[36m \u001b[0m\u001b[36m        Loss_test        \u001b[0m\u001b[36m \u001b[0m│\u001b[35m \u001b[0m\u001b[35m  0.008940164931118488   \u001b[0m\u001b[35m \u001b[0m│\n",
       "│\u001b[36m \u001b[0m\u001b[36m      RegLoss_test       \u001b[0m\u001b[36m \u001b[0m│\u001b[35m \u001b[0m\u001b[35m           0.0           \u001b[0m\u001b[35m \u001b[0m│\n",
       "└───────────────────────────┴───────────────────────────┘\n"
      ]
     },
     "metadata": {},
     "output_type": "display_data"
    },
    {
     "data": {
      "application/vnd.jupyter.widget-view+json": {
       "model_id": "cdd85e736d384a61b8bb19b990fd7d2a",
       "version_major": 2,
       "version_minor": 0
      },
      "text/plain": [
       "Testing: 0it [00:00, ?it/s]"
      ]
     },
     "metadata": {},
     "output_type": "display_data"
    },
    {
     "data": {
      "text/html": [
       "<pre style=\"white-space:pre;overflow-x:auto;line-height:normal;font-family:Menlo,'DejaVu Sans Mono',consolas,'Courier New',monospace\">┏━━━━━━━━━━━━━━━━━━━━━━━━━━━┳━━━━━━━━━━━━━━━━━━━━━━━━━━━┓\n",
       "┃<span style=\"font-weight: bold\">        Test metric        </span>┃<span style=\"font-weight: bold\">       DataLoader 0        </span>┃\n",
       "┡━━━━━━━━━━━━━━━━━━━━━━━━━━━╇━━━━━━━━━━━━━━━━━━━━━━━━━━━┩\n",
       "│<span style=\"color: #008080; text-decoration-color: #008080\">         Loss_test         </span>│<span style=\"color: #800080; text-decoration-color: #800080\">   0.008813655003905296    </span>│\n",
       "│<span style=\"color: #008080; text-decoration-color: #008080\">       RegLoss_test        </span>│<span style=\"color: #800080; text-decoration-color: #800080\">            0.0            </span>│\n",
       "└───────────────────────────┴───────────────────────────┘\n",
       "</pre>\n"
      ],
      "text/plain": [
       "┏━━━━━━━━━━━━━━━━━━━━━━━━━━━┳━━━━━━━━━━━━━━━━━━━━━━━━━━━┓\n",
       "┃\u001b[1m \u001b[0m\u001b[1m       Test metric       \u001b[0m\u001b[1m \u001b[0m┃\u001b[1m \u001b[0m\u001b[1m      DataLoader 0       \u001b[0m\u001b[1m \u001b[0m┃\n",
       "┡━━━━━━━━━━━━━━━━━━━━━━━━━━━╇━━━━━━━━━━━━━━━━━━━━━━━━━━━┩\n",
       "│\u001b[36m \u001b[0m\u001b[36m        Loss_test        \u001b[0m\u001b[36m \u001b[0m│\u001b[35m \u001b[0m\u001b[35m  0.008813655003905296   \u001b[0m\u001b[35m \u001b[0m│\n",
       "│\u001b[36m \u001b[0m\u001b[36m      RegLoss_test       \u001b[0m\u001b[36m \u001b[0m│\u001b[35m \u001b[0m\u001b[35m           0.0           \u001b[0m\u001b[35m \u001b[0m│\n",
       "└───────────────────────────┴───────────────────────────┘\n"
      ]
     },
     "metadata": {},
     "output_type": "display_data"
    }
   ],
   "source": [
    "metrics_list_2017_12 = test_models(model_list_new_2017_12, df_train_list_2017_12, df_test_list_2017_12, events_eq_list_2017_12)"
   ]
  },
  {
   "cell_type": "code",
   "execution_count": 12,
   "id": "5fd94b45-9102-4d0c-8316-8230fcbc4aa9",
   "metadata": {},
   "outputs": [
    {
     "name": "stdout",
     "output_type": "stream",
     "text": [
      "2017-01-18 09:00:00\n"
     ]
    }
   ],
   "source": [
    "last_eq_dt_2017 = '2017-01-01 10:00:00'\n",
    "offset =  timedelta(hours=24)\n",
    "(model_list_2017_24, df_train_list_2017_24,df_test_list_2017_24, events_eq_list_2017_24) = define_test(df_regressor, events_eq, last_eq_dt_2017, offset)"
   ]
  },
  {
   "cell_type": "code",
   "execution_count": null,
   "id": "685358d0-a8a9-44e4-9c04-d116e3f77dc6",
   "metadata": {},
   "outputs": [
    {
     "name": "stdout",
     "output_type": "stream",
     "text": [
      "2017-01-18 09:00:00\n"
     ]
    },
    {
     "data": {
      "application/vnd.jupyter.widget-view+json": {
       "model_id": "803c1d9e96b448d6abdd72375939a122",
       "version_major": 2,
       "version_minor": 0
      },
      "text/plain": [
       "Training: 0it [00:00, ?it/s]"
      ]
     },
     "metadata": {},
     "output_type": "display_data"
    },
    {
     "data": {
      "application/vnd.jupyter.widget-view+json": {
       "model_id": "ba56c5b2a121440f81b5f3120112e077",
       "version_major": 2,
       "version_minor": 0
      },
      "text/plain": [
       "Training: 0it [00:00, ?it/s]"
      ]
     },
     "metadata": {},
     "output_type": "display_data"
    }
   ],
   "source": [
    "(model_list_new_2017_24,  metrics_list_24) = fit_models(model_list_2017_24, df_train_list_2017_24,df_test_list_2017_24, events_eq_list_2017_24)\n",
    "metrics_list_2017_24 = test_models(model_list_new_2017_24, df_train_list_2017_24, df_test_list_2017_24, events_eq_list_2017_24)"
   ]
  },
  {
   "cell_type": "code",
   "execution_count": 10,
   "id": "2526add1-9b9d-436f-a849-36b722effc39",
   "metadata": {},
   "outputs": [],
   "source": [
    "with open('model/neuralprophet_model_list_new_2017_12.pkl', \"rb\") as f:\n",
    "     model_list_new_2017_12 = pickle.load(f)\n",
    "with open('model/neuralprophet_model_list_new_2017_24.pkl', \"rb\") as f:\n",
    "     model_list_new_2017_24 = pickle.load(f)\n",
    "                "
   ]
  },
  {
   "cell_type": "code",
   "execution_count": 151,
   "id": "3cc6510f-0760-4b2a-a213-0e913243aae7",
   "metadata": {},
   "outputs": [],
   "source": [
    "\n",
    "with open('model/neuralprophet_model_list_new_2017_24.pkl', \"wb\") as f:\n",
    "     # dump information to that file\n",
    "    pickle.dump(model_list_new_2017_24, f)\n",
    "\n",
    "with open('model/neuralprophet_model_list_new_2017_12.pkl', \"wb\") as f:\n",
    "     # dump information to that file\n",
    "    pickle.dump(model_list_new_2017_12, f)"
   ]
  },
  {
   "cell_type": "code",
   "execution_count": 88,
   "id": "105fc8fd-395e-4014-93cc-1179465e6b2d",
   "metadata": {},
   "outputs": [
    {
     "data": {
      "application/vnd.jupyter.widget-view+json": {
       "model_id": "baa9f301b8a54fd78480d557ddd99584",
       "version_major": 2,
       "version_minor": 0
      },
      "text/plain": [
       "Testing: 0it [00:00, ?it/s]"
      ]
     },
     "metadata": {},
     "output_type": "display_data"
    },
    {
     "data": {
      "text/html": [
       "<pre style=\"white-space:pre;overflow-x:auto;line-height:normal;font-family:Menlo,'DejaVu Sans Mono',consolas,'Courier New',monospace\">┏━━━━━━━━━━━━━━━━━━━━━━━━━━━┳━━━━━━━━━━━━━━━━━━━━━━━━━━━┓\n",
       "┃<span style=\"font-weight: bold\">        Test metric        </span>┃<span style=\"font-weight: bold\">       DataLoader 0        </span>┃\n",
       "┡━━━━━━━━━━━━━━━━━━━━━━━━━━━╇━━━━━━━━━━━━━━━━━━━━━━━━━━━┩\n",
       "│<span style=\"color: #008080; text-decoration-color: #008080\">         Loss_test         </span>│<span style=\"color: #800080; text-decoration-color: #800080\">   0.010402834974229336    </span>│\n",
       "│<span style=\"color: #008080; text-decoration-color: #008080\">       RegLoss_test        </span>│<span style=\"color: #800080; text-decoration-color: #800080\">            0.0            </span>│\n",
       "└───────────────────────────┴───────────────────────────┘\n",
       "</pre>\n"
      ],
      "text/plain": [
       "┏━━━━━━━━━━━━━━━━━━━━━━━━━━━┳━━━━━━━━━━━━━━━━━━━━━━━━━━━┓\n",
       "┃\u001b[1m \u001b[0m\u001b[1m       Test metric       \u001b[0m\u001b[1m \u001b[0m┃\u001b[1m \u001b[0m\u001b[1m      DataLoader 0       \u001b[0m\u001b[1m \u001b[0m┃\n",
       "┡━━━━━━━━━━━━━━━━━━━━━━━━━━━╇━━━━━━━━━━━━━━━━━━━━━━━━━━━┩\n",
       "│\u001b[36m \u001b[0m\u001b[36m        Loss_test        \u001b[0m\u001b[36m \u001b[0m│\u001b[35m \u001b[0m\u001b[35m  0.010402834974229336   \u001b[0m\u001b[35m \u001b[0m│\n",
       "│\u001b[36m \u001b[0m\u001b[36m      RegLoss_test       \u001b[0m\u001b[36m \u001b[0m│\u001b[35m \u001b[0m\u001b[35m           0.0           \u001b[0m\u001b[35m \u001b[0m│\n",
       "└───────────────────────────┴───────────────────────────┘\n"
      ]
     },
     "metadata": {},
     "output_type": "display_data"
    },
    {
     "data": {
      "application/vnd.jupyter.widget-view+json": {
       "model_id": "e60d1cb8d4b5484a95442415f191c428",
       "version_major": 2,
       "version_minor": 0
      },
      "text/plain": [
       "Testing: 0it [00:00, ?it/s]"
      ]
     },
     "metadata": {},
     "output_type": "display_data"
    },
    {
     "data": {
      "text/html": [
       "<pre style=\"white-space:pre;overflow-x:auto;line-height:normal;font-family:Menlo,'DejaVu Sans Mono',consolas,'Courier New',monospace\">┏━━━━━━━━━━━━━━━━━━━━━━━━━━━┳━━━━━━━━━━━━━━━━━━━━━━━━━━━┓\n",
       "┃<span style=\"font-weight: bold\">        Test metric        </span>┃<span style=\"font-weight: bold\">       DataLoader 0        </span>┃\n",
       "┡━━━━━━━━━━━━━━━━━━━━━━━━━━━╇━━━━━━━━━━━━━━━━━━━━━━━━━━━┩\n",
       "│<span style=\"color: #008080; text-decoration-color: #008080\">         Loss_test         </span>│<span style=\"color: #800080; text-decoration-color: #800080\">   0.010616637766361237    </span>│\n",
       "│<span style=\"color: #008080; text-decoration-color: #008080\">       RegLoss_test        </span>│<span style=\"color: #800080; text-decoration-color: #800080\">            0.0            </span>│\n",
       "└───────────────────────────┴───────────────────────────┘\n",
       "</pre>\n"
      ],
      "text/plain": [
       "┏━━━━━━━━━━━━━━━━━━━━━━━━━━━┳━━━━━━━━━━━━━━━━━━━━━━━━━━━┓\n",
       "┃\u001b[1m \u001b[0m\u001b[1m       Test metric       \u001b[0m\u001b[1m \u001b[0m┃\u001b[1m \u001b[0m\u001b[1m      DataLoader 0       \u001b[0m\u001b[1m \u001b[0m┃\n",
       "┡━━━━━━━━━━━━━━━━━━━━━━━━━━━╇━━━━━━━━━━━━━━━━━━━━━━━━━━━┩\n",
       "│\u001b[36m \u001b[0m\u001b[36m        Loss_test        \u001b[0m\u001b[36m \u001b[0m│\u001b[35m \u001b[0m\u001b[35m  0.010616637766361237   \u001b[0m\u001b[35m \u001b[0m│\n",
       "│\u001b[36m \u001b[0m\u001b[36m      RegLoss_test       \u001b[0m\u001b[36m \u001b[0m│\u001b[35m \u001b[0m\u001b[35m           0.0           \u001b[0m\u001b[35m \u001b[0m│\n",
       "└───────────────────────────┴───────────────────────────┘\n"
      ]
     },
     "metadata": {},
     "output_type": "display_data"
    },
    {
     "data": {
      "application/vnd.jupyter.widget-view+json": {
       "model_id": "007fabf3ca3d45d0b96008c867db4ef7",
       "version_major": 2,
       "version_minor": 0
      },
      "text/plain": [
       "Testing: 0it [00:00, ?it/s]"
      ]
     },
     "metadata": {},
     "output_type": "display_data"
    },
    {
     "data": {
      "text/html": [
       "<pre style=\"white-space:pre;overflow-x:auto;line-height:normal;font-family:Menlo,'DejaVu Sans Mono',consolas,'Courier New',monospace\">┏━━━━━━━━━━━━━━━━━━━━━━━━━━━┳━━━━━━━━━━━━━━━━━━━━━━━━━━━┓\n",
       "┃<span style=\"font-weight: bold\">        Test metric        </span>┃<span style=\"font-weight: bold\">       DataLoader 0        </span>┃\n",
       "┡━━━━━━━━━━━━━━━━━━━━━━━━━━━╇━━━━━━━━━━━━━━━━━━━━━━━━━━━┩\n",
       "│<span style=\"color: #008080; text-decoration-color: #008080\">         Loss_test         </span>│<span style=\"color: #800080; text-decoration-color: #800080\">   0.014465972781181335    </span>│\n",
       "│<span style=\"color: #008080; text-decoration-color: #008080\">       RegLoss_test        </span>│<span style=\"color: #800080; text-decoration-color: #800080\">            0.0            </span>│\n",
       "└───────────────────────────┴───────────────────────────┘\n",
       "</pre>\n"
      ],
      "text/plain": [
       "┏━━━━━━━━━━━━━━━━━━━━━━━━━━━┳━━━━━━━━━━━━━━━━━━━━━━━━━━━┓\n",
       "┃\u001b[1m \u001b[0m\u001b[1m       Test metric       \u001b[0m\u001b[1m \u001b[0m┃\u001b[1m \u001b[0m\u001b[1m      DataLoader 0       \u001b[0m\u001b[1m \u001b[0m┃\n",
       "┡━━━━━━━━━━━━━━━━━━━━━━━━━━━╇━━━━━━━━━━━━━━━━━━━━━━━━━━━┩\n",
       "│\u001b[36m \u001b[0m\u001b[36m        Loss_test        \u001b[0m\u001b[36m \u001b[0m│\u001b[35m \u001b[0m\u001b[35m  0.014465972781181335   \u001b[0m\u001b[35m \u001b[0m│\n",
       "│\u001b[36m \u001b[0m\u001b[36m      RegLoss_test       \u001b[0m\u001b[36m \u001b[0m│\u001b[35m \u001b[0m\u001b[35m           0.0           \u001b[0m\u001b[35m \u001b[0m│\n",
       "└───────────────────────────┴───────────────────────────┘\n"
      ]
     },
     "metadata": {},
     "output_type": "display_data"
    }
   ],
   "source": [
    "metrics_list_2017_24 = test_models(model_list_new_2017_24, df_train_list_2017_24, df_test_list_2017_24, events_eq_list_2017_24)"
   ]
  },
  {
   "cell_type": "code",
   "execution_count": null,
   "id": "32d6b31c-bc20-4869-b9d6-852d62646320",
   "metadata": {},
   "outputs": [],
   "source": [
    "from neuralprophet import save\n",
    "    save(m, \"test_save_model.np\")\n",
    "    "
   ]
  },
  {
   "cell_type": "code",
   "execution_count": 17,
   "id": "724b5e75-71f6-4cb6-b2d3-5123d9a0c6d6",
   "metadata": {},
   "outputs": [],
   "source": [
    "from neuralprophet import load\n",
    "model_list_new_2017_24[2] = load(\"test_save_model.np\")"
   ]
  },
  {
   "cell_type": "code",
   "execution_count": 8,
   "id": "cb10873c-39ed-462c-83be-b9bc9cf1581a",
   "metadata": {},
   "outputs": [
    {
     "name": "stdout",
     "output_type": "stream",
     "text": [
      "<neuralprophet.forecaster.NeuralProphet object at 0x0000023051F7F850>\n",
      "                     ds         y  ID   EQ\n",
      "240 2018-01-04 22:30:00  0.052278  S0  0.0\n",
      "241 2018-01-04 23:00:00  0.070255  S0  0.0\n",
      "242 2018-01-04 23:30:00  0.049654  S0  0.0\n",
      "243 2018-01-05 00:00:00  0.054964  S0  0.0\n",
      "244 2018-01-05 00:30:00  0.038026  S0  0.0\n",
      "245 2018-01-05 01:00:00  0.046670  S0  0.0\n",
      "246 2018-01-05 01:30:00  0.042481  S0  0.0\n",
      "247 2018-01-05 02:00:00  0.057397  S0  0.0\n",
      "2017-12-16 14:30:00\n",
      "2018-01-04 10:30:00\n",
      "2018-01-03 22:30:00\n"
     ]
    }
   ],
   "source": [
    "m = model_list_new_2017_12[2]\n",
    "print(m)\n",
    "current_df = df_test_list_2017_12[2]\n",
    "df_S0 = current_df[current_df[\"ID\"] == \"S0\"]\n",
    "print(df_S0[-48:-40])\n",
    "print(events_eq_list_2017_12[0][-1])\n",
    "print(events_eq_list_2017_12[1][-1])\n",
    "print(events_eq_list_2017_12[2][-1])"
   ]
  },
  {
   "cell_type": "code",
   "execution_count": 9,
   "id": "fe695eea-b996-46b6-a2e1-05fa9159d821",
   "metadata": {},
   "outputs": [
    {
     "data": {
      "application/vnd.jupyter.widget-view+json": {
       "model_id": "707cddd4e31f4a558a833096d684aafb",
       "version_major": 2,
       "version_minor": 0
      },
      "text/plain": [
       "Testing: 0it [00:00, ?it/s]"
      ]
     },
     "metadata": {},
     "output_type": "display_data"
    },
    {
     "data": {
      "text/html": [
       "<pre style=\"white-space:pre;overflow-x:auto;line-height:normal;font-family:Menlo,'DejaVu Sans Mono',consolas,'Courier New',monospace\">┏━━━━━━━━━━━━━━━━━━━━━━━━━━━┳━━━━━━━━━━━━━━━━━━━━━━━━━━━┓\n",
       "┃<span style=\"font-weight: bold\">        Test metric        </span>┃<span style=\"font-weight: bold\">       DataLoader 0        </span>┃\n",
       "┡━━━━━━━━━━━━━━━━━━━━━━━━━━━╇━━━━━━━━━━━━━━━━━━━━━━━━━━━┩\n",
       "│<span style=\"color: #008080; text-decoration-color: #008080\">         Loss_test         </span>│<span style=\"color: #800080; text-decoration-color: #800080\">   0.005652005784213543    </span>│\n",
       "│<span style=\"color: #008080; text-decoration-color: #008080\">       RegLoss_test        </span>│<span style=\"color: #800080; text-decoration-color: #800080\">            0.0            </span>│\n",
       "└───────────────────────────┴───────────────────────────┘\n",
       "</pre>\n"
      ],
      "text/plain": [
       "┏━━━━━━━━━━━━━━━━━━━━━━━━━━━┳━━━━━━━━━━━━━━━━━━━━━━━━━━━┓\n",
       "┃\u001b[1m \u001b[0m\u001b[1m       Test metric       \u001b[0m\u001b[1m \u001b[0m┃\u001b[1m \u001b[0m\u001b[1m      DataLoader 0       \u001b[0m\u001b[1m \u001b[0m┃\n",
       "┡━━━━━━━━━━━━━━━━━━━━━━━━━━━╇━━━━━━━━━━━━━━━━━━━━━━━━━━━┩\n",
       "│\u001b[36m \u001b[0m\u001b[36m        Loss_test        \u001b[0m\u001b[36m \u001b[0m│\u001b[35m \u001b[0m\u001b[35m  0.005652005784213543   \u001b[0m\u001b[35m \u001b[0m│\n",
       "│\u001b[36m \u001b[0m\u001b[36m      RegLoss_test       \u001b[0m\u001b[36m \u001b[0m│\u001b[35m \u001b[0m\u001b[35m           0.0           \u001b[0m\u001b[35m \u001b[0m│\n",
       "└───────────────────────────┴───────────────────────────┘\n"
      ]
     },
     "metadata": {},
     "output_type": "display_data"
    },
    {
     "name": "stdout",
     "output_type": "stream",
     "text": [
      "   Loss_test  RegLoss_test\n",
      "0   0.005652           0.0\n"
     ]
    }
   ],
   "source": [
    "print(m.test(current_df))"
   ]
  },
  {
   "cell_type": "code",
   "execution_count": 10,
   "id": "ad43f080-dec6-47f3-93d5-b556d7d1cb5f",
   "metadata": {},
   "outputs": [],
   "source": [
    "current_df = df_test_list_2017_12[1]\n",
    "w_df = pd.pivot(current_df,  index = \"ds\", columns=\"ID\", values=\"y\")[-48:].transpose().to_numpy()\n",
    "y_actual = w_df"
   ]
  },
  {
   "cell_type": "code",
   "execution_count": 11,
   "id": "a1729ac4-156c-4e33-ba7f-7881647afd14",
   "metadata": {},
   "outputs": [
    {
     "data": {
      "application/vnd.jupyter.widget-view+json": {
       "model_id": "ed266f000f1a4309a14d0785a31b31e9",
       "version_major": 2,
       "version_minor": 0
      },
      "text/plain": [
       "Predicting: 2734it [00:00, ?it/s]"
      ]
     },
     "metadata": {},
     "output_type": "display_data"
    },
    {
     "data": {
      "application/vnd.jupyter.widget-view+json": {
       "model_id": "a197b477f3e547c6a0885e3f9b460597",
       "version_major": 2,
       "version_minor": 0
      },
      "text/plain": [
       "Predicting: 2734it [00:00, ?it/s]"
      ]
     },
     "metadata": {},
     "output_type": "display_data"
    },
    {
     "data": {
      "application/vnd.jupyter.widget-view+json": {
       "model_id": "37f14ece83304736844f542cd21ae9b1",
       "version_major": 2,
       "version_minor": 0
      },
      "text/plain": [
       "Predicting: 2734it [00:00, ?it/s]"
      ]
     },
     "metadata": {},
     "output_type": "display_data"
    },
    {
     "data": {
      "application/vnd.jupyter.widget-view+json": {
       "model_id": "32492b2aa2894a1da769cc47d2276cb9",
       "version_major": 2,
       "version_minor": 0
      },
      "text/plain": [
       "Predicting: 2734it [00:00, ?it/s]"
      ]
     },
     "metadata": {},
     "output_type": "display_data"
    },
    {
     "data": {
      "application/vnd.jupyter.widget-view+json": {
       "model_id": "6124df54b62847a8b2357b62ed3244e0",
       "version_major": 2,
       "version_minor": 0
      },
      "text/plain": [
       "Predicting: 2734it [00:00, ?it/s]"
      ]
     },
     "metadata": {},
     "output_type": "display_data"
    },
    {
     "data": {
      "application/vnd.jupyter.widget-view+json": {
       "model_id": "99643d8f1d1d4cc89a0d69604b1cb372",
       "version_major": 2,
       "version_minor": 0
      },
      "text/plain": [
       "Predicting: 2734it [00:00, ?it/s]"
      ]
     },
     "metadata": {},
     "output_type": "display_data"
    },
    {
     "data": {
      "application/vnd.jupyter.widget-view+json": {
       "model_id": "07301138c5094751b5008a862ed502e4",
       "version_major": 2,
       "version_minor": 0
      },
      "text/plain": [
       "Predicting: 2734it [00:00, ?it/s]"
      ]
     },
     "metadata": {},
     "output_type": "display_data"
    },
    {
     "data": {
      "application/vnd.jupyter.widget-view+json": {
       "model_id": "59150a4077a241bfbf284b0c9625a0d1",
       "version_major": 2,
       "version_minor": 0
      },
      "text/plain": [
       "Predicting: 2734it [00:00, ?it/s]"
      ]
     },
     "metadata": {},
     "output_type": "display_data"
    },
    {
     "data": {
      "application/vnd.jupyter.widget-view+json": {
       "model_id": "71b0ce3b281e483dafe435485a0d0543",
       "version_major": 2,
       "version_minor": 0
      },
      "text/plain": [
       "Predicting: 2734it [00:00, ?it/s]"
      ]
     },
     "metadata": {},
     "output_type": "display_data"
    },
    {
     "data": {
      "application/vnd.jupyter.widget-view+json": {
       "model_id": "0592a1cf125644f2a36864f349babc53",
       "version_major": 2,
       "version_minor": 0
      },
      "text/plain": [
       "Predicting: 2734it [00:00, ?it/s]"
      ]
     },
     "metadata": {},
     "output_type": "display_data"
    }
   ],
   "source": [
    "future = m.make_future_dataframe(current_df, n_historic_predictions=0)\n",
    "future = future\n",
    "forecast = m.predict(future, decompose = False, raw = True)\n",
    "y_predicted = forecast.filter(like=\"step\").to_numpy()"
   ]
  },
  {
   "cell_type": "code",
   "execution_count": 19,
   "id": "b0537b73-7c08-447a-a87d-baff185085e0",
   "metadata": {},
   "outputs": [
    {
     "data": {
      "application/vnd.jupyter.widget-view+json": {
       "model_id": "e9b4448d9a284b78a4a27ee9d5367370",
       "version_major": 2,
       "version_minor": 0
      },
      "text/plain": [
       "Predicting: 2734it [00:00, ?it/s]"
      ]
     },
     "metadata": {},
     "output_type": "display_data"
    },
    {
     "data": {
      "application/vnd.jupyter.widget-view+json": {
       "model_id": "368116c70b3a4ea89bfa74a34b4a3920",
       "version_major": 2,
       "version_minor": 0
      },
      "text/plain": [
       "Predicting: 2734it [00:00, ?it/s]"
      ]
     },
     "metadata": {},
     "output_type": "display_data"
    },
    {
     "data": {
      "application/vnd.jupyter.widget-view+json": {
       "model_id": "40f091c890f041b38f68c383a4f826c2",
       "version_major": 2,
       "version_minor": 0
      },
      "text/plain": [
       "Predicting: 2734it [00:00, ?it/s]"
      ]
     },
     "metadata": {},
     "output_type": "display_data"
    },
    {
     "data": {
      "application/vnd.jupyter.widget-view+json": {
       "model_id": "a95a3128b4764c3c9be420caac041c45",
       "version_major": 2,
       "version_minor": 0
      },
      "text/plain": [
       "Predicting: 2734it [00:00, ?it/s]"
      ]
     },
     "metadata": {},
     "output_type": "display_data"
    },
    {
     "data": {
      "application/vnd.jupyter.widget-view+json": {
       "model_id": "28b2482ee5144c37888794314ce8a484",
       "version_major": 2,
       "version_minor": 0
      },
      "text/plain": [
       "Predicting: 2734it [00:00, ?it/s]"
      ]
     },
     "metadata": {},
     "output_type": "display_data"
    },
    {
     "data": {
      "application/vnd.jupyter.widget-view+json": {
       "model_id": "8571c2d791d1448bbe174992e897dd2f",
       "version_major": 2,
       "version_minor": 0
      },
      "text/plain": [
       "Predicting: 2734it [00:00, ?it/s]"
      ]
     },
     "metadata": {},
     "output_type": "display_data"
    },
    {
     "data": {
      "application/vnd.jupyter.widget-view+json": {
       "model_id": "77e11aaa636944f9a126805fa2d185f9",
       "version_major": 2,
       "version_minor": 0
      },
      "text/plain": [
       "Predicting: 2734it [00:00, ?it/s]"
      ]
     },
     "metadata": {},
     "output_type": "display_data"
    },
    {
     "data": {
      "application/vnd.jupyter.widget-view+json": {
       "model_id": "2c32e6c028c646c2a13dca8e000309bd",
       "version_major": 2,
       "version_minor": 0
      },
      "text/plain": [
       "Predicting: 2734it [00:00, ?it/s]"
      ]
     },
     "metadata": {},
     "output_type": "display_data"
    },
    {
     "data": {
      "application/vnd.jupyter.widget-view+json": {
       "model_id": "0d36758c56484c4495e60fd74a32d4d3",
       "version_major": 2,
       "version_minor": 0
      },
      "text/plain": [
       "Predicting: 2734it [00:00, ?it/s]"
      ]
     },
     "metadata": {},
     "output_type": "display_data"
    },
    {
     "data": {
      "application/vnd.jupyter.widget-view+json": {
       "model_id": "7fd2d2b7323e47c1a47329d14dbacfe3",
       "version_major": 2,
       "version_minor": 0
      },
      "text/plain": [
       "Predicting: 2734it [00:00, ?it/s]"
      ]
     },
     "metadata": {},
     "output_type": "display_data"
    },
    {
     "name": "stdout",
     "output_type": "stream",
     "text": [
      "0.6282831\n"
     ]
    },
    {
     "data": {
      "application/vnd.jupyter.widget-view+json": {
       "model_id": "c06cdb89a7dd44098d6f865311b6075e",
       "version_major": 2,
       "version_minor": 0
      },
      "text/plain": [
       "Predicting: 2734it [00:00, ?it/s]"
      ]
     },
     "metadata": {},
     "output_type": "display_data"
    },
    {
     "data": {
      "application/vnd.jupyter.widget-view+json": {
       "model_id": "9da26f9a34b449328f3acc0351136138",
       "version_major": 2,
       "version_minor": 0
      },
      "text/plain": [
       "Predicting: 2734it [00:00, ?it/s]"
      ]
     },
     "metadata": {},
     "output_type": "display_data"
    },
    {
     "data": {
      "application/vnd.jupyter.widget-view+json": {
       "model_id": "a8544ff65b6f4601bfacd11b4f8ea1ac",
       "version_major": 2,
       "version_minor": 0
      },
      "text/plain": [
       "Predicting: 2734it [00:00, ?it/s]"
      ]
     },
     "metadata": {},
     "output_type": "display_data"
    },
    {
     "data": {
      "application/vnd.jupyter.widget-view+json": {
       "model_id": "dd7d3ad59f0542669884505fffabe54d",
       "version_major": 2,
       "version_minor": 0
      },
      "text/plain": [
       "Predicting: 2734it [00:00, ?it/s]"
      ]
     },
     "metadata": {},
     "output_type": "display_data"
    },
    {
     "data": {
      "application/vnd.jupyter.widget-view+json": {
       "model_id": "937a5edfb36a484380976b9d3b17a07a",
       "version_major": 2,
       "version_minor": 0
      },
      "text/plain": [
       "Predicting: 2734it [00:00, ?it/s]"
      ]
     },
     "metadata": {},
     "output_type": "display_data"
    },
    {
     "data": {
      "application/vnd.jupyter.widget-view+json": {
       "model_id": "26c2012eb7d940349f7fcafc0cf5896c",
       "version_major": 2,
       "version_minor": 0
      },
      "text/plain": [
       "Predicting: 2734it [00:00, ?it/s]"
      ]
     },
     "metadata": {},
     "output_type": "display_data"
    },
    {
     "data": {
      "application/vnd.jupyter.widget-view+json": {
       "model_id": "b0c0e6e5574d42668cab85546a8e402d",
       "version_major": 2,
       "version_minor": 0
      },
      "text/plain": [
       "Predicting: 2734it [00:00, ?it/s]"
      ]
     },
     "metadata": {},
     "output_type": "display_data"
    },
    {
     "data": {
      "application/vnd.jupyter.widget-view+json": {
       "model_id": "73428a2235404848a8a86126d82b7879",
       "version_major": 2,
       "version_minor": 0
      },
      "text/plain": [
       "Predicting: 2734it [00:00, ?it/s]"
      ]
     },
     "metadata": {},
     "output_type": "display_data"
    },
    {
     "data": {
      "application/vnd.jupyter.widget-view+json": {
       "model_id": "0f91a9c62fd74b8ebdecea9e57a19061",
       "version_major": 2,
       "version_minor": 0
      },
      "text/plain": [
       "Predicting: 2734it [00:00, ?it/s]"
      ]
     },
     "metadata": {},
     "output_type": "display_data"
    },
    {
     "data": {
      "application/vnd.jupyter.widget-view+json": {
       "model_id": "cae5f6e4a8184d9c9d30497f63fc6b5b",
       "version_major": 2,
       "version_minor": 0
      },
      "text/plain": [
       "Predicting: 2734it [00:00, ?it/s]"
      ]
     },
     "metadata": {},
     "output_type": "display_data"
    },
    {
     "name": "stdout",
     "output_type": "stream",
     "text": [
      "0.5236542\n"
     ]
    },
    {
     "data": {
      "application/vnd.jupyter.widget-view+json": {
       "model_id": "b3ce1a588ecc46eba5b5917d07b28b4b",
       "version_major": 2,
       "version_minor": 0
      },
      "text/plain": [
       "Predicting: 2734it [00:00, ?it/s]"
      ]
     },
     "metadata": {},
     "output_type": "display_data"
    },
    {
     "data": {
      "application/vnd.jupyter.widget-view+json": {
       "model_id": "70779d6a7a414de288e909467673561a",
       "version_major": 2,
       "version_minor": 0
      },
      "text/plain": [
       "Predicting: 2734it [00:00, ?it/s]"
      ]
     },
     "metadata": {},
     "output_type": "display_data"
    },
    {
     "data": {
      "application/vnd.jupyter.widget-view+json": {
       "model_id": "d9f49fa821e54e57a893e0b0c8b8ae6e",
       "version_major": 2,
       "version_minor": 0
      },
      "text/plain": [
       "Predicting: 2734it [00:00, ?it/s]"
      ]
     },
     "metadata": {},
     "output_type": "display_data"
    },
    {
     "data": {
      "application/vnd.jupyter.widget-view+json": {
       "model_id": "663dd9d64a4848879156c68b58bc9487",
       "version_major": 2,
       "version_minor": 0
      },
      "text/plain": [
       "Predicting: 2734it [00:00, ?it/s]"
      ]
     },
     "metadata": {},
     "output_type": "display_data"
    },
    {
     "data": {
      "application/vnd.jupyter.widget-view+json": {
       "model_id": "e11b585871b149dc920fa2593cf3fdd7",
       "version_major": 2,
       "version_minor": 0
      },
      "text/plain": [
       "Predicting: 2734it [00:00, ?it/s]"
      ]
     },
     "metadata": {},
     "output_type": "display_data"
    },
    {
     "data": {
      "application/vnd.jupyter.widget-view+json": {
       "model_id": "596bef35904f46b49da572d445a0cb83",
       "version_major": 2,
       "version_minor": 0
      },
      "text/plain": [
       "Predicting: 2734it [00:00, ?it/s]"
      ]
     },
     "metadata": {},
     "output_type": "display_data"
    },
    {
     "data": {
      "application/vnd.jupyter.widget-view+json": {
       "model_id": "2fc8300edba04ecc84a2bf90ed5ddb95",
       "version_major": 2,
       "version_minor": 0
      },
      "text/plain": [
       "Predicting: 2734it [00:00, ?it/s]"
      ]
     },
     "metadata": {},
     "output_type": "display_data"
    },
    {
     "data": {
      "application/vnd.jupyter.widget-view+json": {
       "model_id": "52223c1e03f74203af44f97b98cada7e",
       "version_major": 2,
       "version_minor": 0
      },
      "text/plain": [
       "Predicting: 2734it [00:00, ?it/s]"
      ]
     },
     "metadata": {},
     "output_type": "display_data"
    },
    {
     "data": {
      "application/vnd.jupyter.widget-view+json": {
       "model_id": "61eca3f641d441a79bdf727ebd8e456c",
       "version_major": 2,
       "version_minor": 0
      },
      "text/plain": [
       "Predicting: 2734it [00:00, ?it/s]"
      ]
     },
     "metadata": {},
     "output_type": "display_data"
    },
    {
     "data": {
      "application/vnd.jupyter.widget-view+json": {
       "model_id": "ffb84e11af7a4353a87ce19347898cb6",
       "version_major": 2,
       "version_minor": 0
      },
      "text/plain": [
       "Predicting: 2734it [00:00, ?it/s]"
      ]
     },
     "metadata": {},
     "output_type": "display_data"
    },
    {
     "name": "stdout",
     "output_type": "stream",
     "text": [
      "0.52741766\n"
     ]
    }
   ],
   "source": [
    "from sklearn.metrics import mean_squared_error\n"
   ]
  },
  {
   "cell_type": "code",
   "execution_count": 15,
   "id": "aa303364-1459-43eb-8c1e-ffd440c56763",
   "metadata": {},
   "outputs": [
    {
     "data": {
      "text/plain": [
       "0.0"
      ]
     },
     "execution_count": 15,
     "metadata": {},
     "output_type": "execute_result"
    }
   ],
   "source": [
    "\n",
    "y_true = np.array([3, -0.5, 2, 7])\n",
    "y_pred = np.array([3, -0.5, 2, 7])\n",
    "mean_squared_error(y_true, y_pred)"
   ]
  },
  {
   "cell_type": "code",
   "execution_count": 45,
   "id": "332ed4e2-db87-4c5c-9cb4-f379b91a7c69",
   "metadata": {},
   "outputs": [
    {
     "data": {
      "application/vnd.jupyter.widget-view+json": {
       "model_id": "5d9f9669ddcb477ebefa3803940b6bbb",
       "version_major": 2,
       "version_minor": 0
      },
      "text/plain": [
       "Predicting: 1419it [00:00, ?it/s]"
      ]
     },
     "metadata": {},
     "output_type": "display_data"
    },
    {
     "data": {
      "application/vnd.jupyter.widget-view+json": {
       "model_id": "e02f0167799c4f3c8369084b584659d7",
       "version_major": 2,
       "version_minor": 0
      },
      "text/plain": [
       "Predicting: 1419it [00:00, ?it/s]"
      ]
     },
     "metadata": {},
     "output_type": "display_data"
    },
    {
     "data": {
      "application/vnd.jupyter.widget-view+json": {
       "model_id": "0284d34f5e5b441698b0b187ca0479bd",
       "version_major": 2,
       "version_minor": 0
      },
      "text/plain": [
       "Predicting: 1419it [00:00, ?it/s]"
      ]
     },
     "metadata": {},
     "output_type": "display_data"
    },
    {
     "data": {
      "application/vnd.jupyter.widget-view+json": {
       "model_id": "fcc1850eb70f4ced9e5bf19af1045a3c",
       "version_major": 2,
       "version_minor": 0
      },
      "text/plain": [
       "Predicting: 1419it [00:00, ?it/s]"
      ]
     },
     "metadata": {},
     "output_type": "display_data"
    },
    {
     "data": {
      "application/vnd.jupyter.widget-view+json": {
       "model_id": "23370fd16de84c3cb715bcfc76d7adba",
       "version_major": 2,
       "version_minor": 0
      },
      "text/plain": [
       "Predicting: 1419it [00:00, ?it/s]"
      ]
     },
     "metadata": {},
     "output_type": "display_data"
    },
    {
     "data": {
      "application/vnd.jupyter.widget-view+json": {
       "model_id": "f64a875fc4fa4d7591b9d31114b12de1",
       "version_major": 2,
       "version_minor": 0
      },
      "text/plain": [
       "Predicting: 1419it [00:00, ?it/s]"
      ]
     },
     "metadata": {},
     "output_type": "display_data"
    },
    {
     "data": {
      "application/vnd.jupyter.widget-view+json": {
       "model_id": "c0d6bcf5cc0c4a14a6d9120b312ed534",
       "version_major": 2,
       "version_minor": 0
      },
      "text/plain": [
       "Predicting: 1419it [00:00, ?it/s]"
      ]
     },
     "metadata": {},
     "output_type": "display_data"
    },
    {
     "data": {
      "application/vnd.jupyter.widget-view+json": {
       "model_id": "efa6dc9308744a4eac93f898fb60f6df",
       "version_major": 2,
       "version_minor": 0
      },
      "text/plain": [
       "Predicting: 1419it [00:00, ?it/s]"
      ]
     },
     "metadata": {},
     "output_type": "display_data"
    },
    {
     "data": {
      "application/vnd.jupyter.widget-view+json": {
       "model_id": "62ba30f835704d8880c2477e7034002d",
       "version_major": 2,
       "version_minor": 0
      },
      "text/plain": [
       "Predicting: 1419it [00:00, ?it/s]"
      ]
     },
     "metadata": {},
     "output_type": "display_data"
    },
    {
     "data": {
      "application/vnd.jupyter.widget-view+json": {
       "model_id": "4be5188ea5974b778635f93096ad9b02",
       "version_major": 2,
       "version_minor": 0
      },
      "text/plain": [
       "Predicting: 1419it [00:00, ?it/s]"
      ]
     },
     "metadata": {},
     "output_type": "display_data"
    },
    {
     "ename": "AttributeError",
     "evalue": "'NeuralProphet' object has no attribute 'fcst_df_to_latest_forecast'",
     "output_type": "error",
     "traceback": [
      "\u001b[1;31m---------------------------------------------------------------------------\u001b[0m",
      "\u001b[1;31mAttributeError\u001b[0m                            Traceback (most recent call last)",
      "Cell \u001b[1;32mIn[45], line 3\u001b[0m\n\u001b[0;32m      1\u001b[0m future \u001b[38;5;241m=\u001b[39m m\u001b[38;5;241m.\u001b[39mmake_future_dataframe(current_df, n_historic_predictions\u001b[38;5;241m=\u001b[39m\u001b[38;5;241m0\u001b[39m)\n\u001b[0;32m      2\u001b[0m forecast \u001b[38;5;241m=\u001b[39m m\u001b[38;5;241m.\u001b[39mpredict(future)\n\u001b[1;32m----> 3\u001b[0m latest \u001b[38;5;241m=\u001b[39m \u001b[43mm\u001b[49m\u001b[38;5;241;43m.\u001b[39;49m\u001b[43mfcst_df_to_latest_forecast\u001b[49m(forecast)\n",
      "\u001b[1;31mAttributeError\u001b[0m: 'NeuralProphet' object has no attribute 'fcst_df_to_latest_forecast'"
     ]
    }
   ],
   "source": [
    "future = m.make_future_dataframe(current_df, n_historic_predictions=0)\n",
    "forecast = m.predict(future)\n",
    "latest = m.fcst_df_to_latest_forecast(forecast)"
   ]
  },
  {
   "cell_type": "code",
   "execution_count": 56,
   "id": "b9b0327a-0105-4880-9271-209694d7f711",
   "metadata": {},
   "outputs": [
    {
     "ename": "IndexError",
     "evalue": "index 0 is out of bounds for axis 1 with size 0",
     "output_type": "error",
     "traceback": [
      "\u001b[1;31m---------------------------------------------------------------------------\u001b[0m",
      "\u001b[1;31mIndexError\u001b[0m                                Traceback (most recent call last)",
      "Cell \u001b[1;32mIn[56], line 5\u001b[0m\n\u001b[0;32m      3\u001b[0m m \u001b[38;5;241m=\u001b[39m m\u001b[38;5;241m.\u001b[39mhighlight_nth_step_ahead_of_each_forecast(\u001b[38;5;28;01mNone\u001b[39;00m)  \u001b[38;5;66;03m# reset highlight\u001b[39;00m\n\u001b[0;32m      4\u001b[0m \u001b[38;5;66;03m#fig = m.plot_last_forecast(forecast)\u001b[39;00m\n\u001b[1;32m----> 5\u001b[0m df_forecast \u001b[38;5;241m=\u001b[39m \u001b[43mfcst_df_to_latest_forecast\u001b[49m\u001b[43m(\u001b[49m\u001b[43mforecast\u001b[49m\u001b[43m,\u001b[49m\u001b[43m \u001b[49m\u001b[43m[\u001b[49m\u001b[38;5;241;43m0.5\u001b[39;49m\u001b[43m,\u001b[49m\u001b[43m \u001b[49m\u001b[38;5;241;43m0.6\u001b[39;49m\u001b[43m]\u001b[49m\u001b[43m)\u001b[49m\n\u001b[0;32m      6\u001b[0m df_forecast\n",
      "File \u001b[1;32m~\\anaconda3\\envs\\NeuralProphet\\lib\\site-packages\\neuralprophet\\utils.py:612\u001b[0m, in \u001b[0;36mfcst_df_to_latest_forecast\u001b[1;34m(fcst, quantiles, n_last)\u001b[0m\n\u001b[0;32m    610\u001b[0m df[forecast_name_quants] \u001b[38;5;241m=\u001b[39m \u001b[38;5;28;01mNone\u001b[39;00m\n\u001b[0;32m    611\u001b[0m rows \u001b[38;5;241m=\u001b[39m \u001b[38;5;28mlen\u001b[39m(df) \u001b[38;5;241m+\u001b[39m np\u001b[38;5;241m.\u001b[39marange(\u001b[38;5;241m-\u001b[39mn_forecast_steps \u001b[38;5;241m-\u001b[39m i, \u001b[38;5;241m-\u001b[39mi, \u001b[38;5;241m1\u001b[39m)\n\u001b[1;32m--> 612\u001b[0m last \u001b[38;5;241m=\u001b[39m \u001b[43myhats_quants_split\u001b[49m\u001b[38;5;241;43m.\u001b[39;49m\u001b[43mvalues\u001b[49m\u001b[43m[\u001b[49m\u001b[43mrows\u001b[49m\u001b[43m,\u001b[49m\u001b[43m \u001b[49m\u001b[43mcols\u001b[49m\u001b[43m]\u001b[49m\n\u001b[0;32m    613\u001b[0m df\u001b[38;5;241m.\u001b[39mloc[rows, forecast_name_quants] \u001b[38;5;241m=\u001b[39m last\n\u001b[0;32m    614\u001b[0m startcol \u001b[38;5;241m+\u001b[39m\u001b[38;5;241m=\u001b[39m n_forecast_steps\n",
      "\u001b[1;31mIndexError\u001b[0m: index 0 is out of bounds for axis 1 with size 0"
     ]
    }
   ],
   "source": [
    "from neuralprophet.utils import fcst_df_to_latest_forecast\n",
    "\n",
    "m = m.highlight_nth_step_ahead_of_each_forecast(None)  # reset highlight\n",
    "#fig = m.plot_last_forecast(forecast)\n",
    "df_forecast = fcst_df_to_latest_forecast(forecast, [0.5, 0.6])\n",
    "df_forecast"
   ]
  },
  {
   "cell_type": "code",
   "execution_count": 9,
   "id": "875ca70c-0284-417a-9535-b66e643cdd51",
   "metadata": {},
   "outputs": [
    {
     "name": "stdout",
     "output_type": "stream",
     "text": [
      "2017-01-18 09:00:00\n"
     ]
    },
    {
     "data": {
      "application/vnd.jupyter.widget-view+json": {
       "model_id": "3e5037f960b74dd9b0fcd91c75afe180",
       "version_major": 2,
       "version_minor": 0
      },
      "text/plain": [
       "Training: 0it [00:00, ?it/s]"
      ]
     },
     "metadata": {},
     "output_type": "display_data"
    },
    {
     "data": {
      "application/vnd.jupyter.widget-view+json": {
       "model_id": "ab42493866364bcdad04122cb0536db2",
       "version_major": 2,
       "version_minor": 0
      },
      "text/plain": [
       "Training: 0it [00:00, ?it/s]"
      ]
     },
     "metadata": {},
     "output_type": "display_data"
    },
    {
     "data": {
      "application/vnd.jupyter.widget-view+json": {
       "model_id": "4f94724538484271b3438f2a342b3fc5",
       "version_major": 2,
       "version_minor": 0
      },
      "text/plain": [
       "Training: 0it [00:00, ?it/s]"
      ]
     },
     "metadata": {},
     "output_type": "display_data"
    },
    {
     "ename": "NameError",
     "evalue": "name 'test_models' is not defined",
     "output_type": "error",
     "traceback": [
      "\u001b[1;31m---------------------------------------------------------------------------\u001b[0m",
      "\u001b[1;31mNameError\u001b[0m                                 Traceback (most recent call last)",
      "Cell \u001b[1;32mIn[9], line 4\u001b[0m\n\u001b[0;32m      2\u001b[0m (model_list_2017, df_train_list_2017,df_test_list_2017, events_eq_list_2017) \u001b[38;5;241m=\u001b[39m define_test(df_regressor, events_eq, last_eq_dt_2017)\n\u001b[0;32m      3\u001b[0m (model_list_new_2017,  metrics_list) \u001b[38;5;241m=\u001b[39m fit_models(model_list_2017, df_train_list_2017,df_test_list_2017, events_eq_list_2017)\n\u001b[1;32m----> 4\u001b[0m metrics_list_2017 \u001b[38;5;241m=\u001b[39m \u001b[43mtest_models\u001b[49m(model_list_new_2017, df_train_list_2017, df_test_list_2017, events_eq_list_2017)\n\u001b[0;32m      6\u001b[0m last_eq_dt_2018 \u001b[38;5;241m=\u001b[39m \u001b[38;5;124m'\u001b[39m\u001b[38;5;124m2018-01-01 10:00:00\u001b[39m\u001b[38;5;124m'\u001b[39m\n\u001b[0;32m      7\u001b[0m (model_list_2018, df_train_list_2018,df_test_list_2018, events_eq_list_2018) \u001b[38;5;241m=\u001b[39m define_test(df_regressor, events_eq, last_eq_dt_2018)\n",
      "\u001b[1;31mNameError\u001b[0m: name 'test_models' is not defined"
     ]
    }
   ],
   "source": [
    "last_eq_dt_2018 = '2018-01-01 10:00:00'\n",
    "(model_list_2018, df_train_list_2018,df_test_list_2018, events_eq_list_2018) = define_test(df_regressor, events_eq, last_eq_dt_2018)\n",
    "(model_list_new_2017,  metrics_list) = fit_models(model_list_2018, df_train_list_2018,df_test_list_2018, events_eq_list_2018)\n",
    "metrics_list_2018 = test_models(model_list_new_2018, df_train_list_2018,df_test_list_2018, events_eq_list_2018)\n",
    "\n",
    "\n",
    "last_eq_dt_2019 = '2019-01-01 10:00:00'\n",
    "(model_list_2019, df_train_list_2019,df_test_list_2019, events_eq_list_2019) = define_test(df_regressor, events_eq, last_eq_dt_2019)\n",
    "(model_list_new_2019,  metrics_list) = fit_models(model_list_2019, df_train_list_2019,df_test_list_2019, events_eq_list_2019)\n",
    "metrics_list_2019 = test_models(model_list_new_2019, df_train_list_2019,df_test_list_2019, events_eq_list_2019)\n",
    "\n",
    "last_eq_dt_2020 = '2020-01-01 10:00:00'\n",
    "(model_list_2020, df_train_list_2020,df_test_list_2020, events_eq_list_2020) = define_test(df_regressor, events_eq, last_eq_dt_2020)\n",
    "(model_list_new_2020,  metrics_list) = fit_models(model_list_2020, df_train_list_2020,df_test_list_2020, events_eq_list_2020)\n",
    "metrics_list_2020 = test_models(model_list_new_2020, df_train_list_2020,df_test_list_2020, events_eq_list_2020)"
   ]
  },
  {
   "cell_type": "code",
   "execution_count": null,
   "id": "a42af0f2-f7ab-450b-93bc-0d2f952b7e4c",
   "metadata": {},
   "outputs": [
    {
     "data": {
      "application/vnd.jupyter.widget-view+json": {
       "model_id": "212db2caf44442169e1e26cfb0c2f9e9",
       "version_major": 2,
       "version_minor": 0
      },
      "text/plain": [
       "Training: 0it [00:00, ?it/s]"
      ]
     },
     "metadata": {},
     "output_type": "display_data"
    }
   ],
   "source": [
    "\n",
    "(model_list_new,  metrics_list) = fit_models(model_list, df_train_list,df_test_list, events_eq_list) "
   ]
  },
  {
   "cell_type": "code",
   "execution_count": 117,
   "id": "cf513462-6bb0-46a3-a76e-8bc617d6e510",
   "metadata": {},
   "outputs": [
    {
     "data": {
      "application/vnd.jupyter.widget-view+json": {
       "model_id": "c71c252777dd40ecbaaf208214786a3a",
       "version_major": 2,
       "version_minor": 0
      },
      "text/plain": [
       "Testing: 0it [00:00, ?it/s]"
      ]
     },
     "metadata": {},
     "output_type": "display_data"
    },
    {
     "data": {
      "text/html": [
       "<pre style=\"white-space:pre;overflow-x:auto;line-height:normal;font-family:Menlo,'DejaVu Sans Mono',consolas,'Courier New',monospace\">┏━━━━━━━━━━━━━━━━━━━━━━━━━━━┳━━━━━━━━━━━━━━━━━━━━━━━━━━━┓\n",
       "┃<span style=\"font-weight: bold\">        Test metric        </span>┃<span style=\"font-weight: bold\">       DataLoader 0        </span>┃\n",
       "┡━━━━━━━━━━━━━━━━━━━━━━━━━━━╇━━━━━━━━━━━━━━━━━━━━━━━━━━━┩\n",
       "│<span style=\"color: #008080; text-decoration-color: #008080\">         Loss_test         </span>│<span style=\"color: #800080; text-decoration-color: #800080\">   0.008850055746734142    </span>│\n",
       "│<span style=\"color: #008080; text-decoration-color: #008080\">       RegLoss_test        </span>│<span style=\"color: #800080; text-decoration-color: #800080\">            0.0            </span>│\n",
       "└───────────────────────────┴───────────────────────────┘\n",
       "</pre>\n"
      ],
      "text/plain": [
       "┏━━━━━━━━━━━━━━━━━━━━━━━━━━━┳━━━━━━━━━━━━━━━━━━━━━━━━━━━┓\n",
       "┃\u001b[1m \u001b[0m\u001b[1m       Test metric       \u001b[0m\u001b[1m \u001b[0m┃\u001b[1m \u001b[0m\u001b[1m      DataLoader 0       \u001b[0m\u001b[1m \u001b[0m┃\n",
       "┡━━━━━━━━━━━━━━━━━━━━━━━━━━━╇━━━━━━━━━━━━━━━━━━━━━━━━━━━┩\n",
       "│\u001b[36m \u001b[0m\u001b[36m        Loss_test        \u001b[0m\u001b[36m \u001b[0m│\u001b[35m \u001b[0m\u001b[35m  0.008850055746734142   \u001b[0m\u001b[35m \u001b[0m│\n",
       "│\u001b[36m \u001b[0m\u001b[36m      RegLoss_test       \u001b[0m\u001b[36m \u001b[0m│\u001b[35m \u001b[0m\u001b[35m           0.0           \u001b[0m\u001b[35m \u001b[0m│\n",
       "└───────────────────────────┴───────────────────────────┘\n"
      ]
     },
     "metadata": {},
     "output_type": "display_data"
    },
    {
     "data": {
      "application/vnd.jupyter.widget-view+json": {
       "model_id": "5dffe3e497824cfa9976086fb65a0c64",
       "version_major": 2,
       "version_minor": 0
      },
      "text/plain": [
       "Testing: 0it [00:00, ?it/s]"
      ]
     },
     "metadata": {},
     "output_type": "display_data"
    },
    {
     "data": {
      "text/html": [
       "<pre style=\"white-space:pre;overflow-x:auto;line-height:normal;font-family:Menlo,'DejaVu Sans Mono',consolas,'Courier New',monospace\">┏━━━━━━━━━━━━━━━━━━━━━━━━━━━┳━━━━━━━━━━━━━━━━━━━━━━━━━━━┓\n",
       "┃<span style=\"font-weight: bold\">        Test metric        </span>┃<span style=\"font-weight: bold\">       DataLoader 0        </span>┃\n",
       "┡━━━━━━━━━━━━━━━━━━━━━━━━━━━╇━━━━━━━━━━━━━━━━━━━━━━━━━━━┩\n",
       "│<span style=\"color: #008080; text-decoration-color: #008080\">         Loss_test         </span>│<span style=\"color: #800080; text-decoration-color: #800080\">   0.010578270070254803    </span>│\n",
       "│<span style=\"color: #008080; text-decoration-color: #008080\">       RegLoss_test        </span>│<span style=\"color: #800080; text-decoration-color: #800080\">            0.0            </span>│\n",
       "└───────────────────────────┴───────────────────────────┘\n",
       "</pre>\n"
      ],
      "text/plain": [
       "┏━━━━━━━━━━━━━━━━━━━━━━━━━━━┳━━━━━━━━━━━━━━━━━━━━━━━━━━━┓\n",
       "┃\u001b[1m \u001b[0m\u001b[1m       Test metric       \u001b[0m\u001b[1m \u001b[0m┃\u001b[1m \u001b[0m\u001b[1m      DataLoader 0       \u001b[0m\u001b[1m \u001b[0m┃\n",
       "┡━━━━━━━━━━━━━━━━━━━━━━━━━━━╇━━━━━━━━━━━━━━━━━━━━━━━━━━━┩\n",
       "│\u001b[36m \u001b[0m\u001b[36m        Loss_test        \u001b[0m\u001b[36m \u001b[0m│\u001b[35m \u001b[0m\u001b[35m  0.010578270070254803   \u001b[0m\u001b[35m \u001b[0m│\n",
       "│\u001b[36m \u001b[0m\u001b[36m      RegLoss_test       \u001b[0m\u001b[36m \u001b[0m│\u001b[35m \u001b[0m\u001b[35m           0.0           \u001b[0m\u001b[35m \u001b[0m│\n",
       "└───────────────────────────┴───────────────────────────┘\n"
      ]
     },
     "metadata": {},
     "output_type": "display_data"
    },
    {
     "data": {
      "application/vnd.jupyter.widget-view+json": {
       "model_id": "2fed786d6c7d45f09778d729dbfec224",
       "version_major": 2,
       "version_minor": 0
      },
      "text/plain": [
       "Testing: 0it [00:00, ?it/s]"
      ]
     },
     "metadata": {},
     "output_type": "display_data"
    },
    {
     "data": {
      "text/html": [
       "<pre style=\"white-space:pre;overflow-x:auto;line-height:normal;font-family:Menlo,'DejaVu Sans Mono',consolas,'Courier New',monospace\">┏━━━━━━━━━━━━━━━━━━━━━━━━━━━┳━━━━━━━━━━━━━━━━━━━━━━━━━━━┓\n",
       "┃<span style=\"font-weight: bold\">        Test metric        </span>┃<span style=\"font-weight: bold\">       DataLoader 0        </span>┃\n",
       "┡━━━━━━━━━━━━━━━━━━━━━━━━━━━╇━━━━━━━━━━━━━━━━━━━━━━━━━━━┩\n",
       "│<span style=\"color: #008080; text-decoration-color: #008080\">         Loss_test         </span>│<span style=\"color: #800080; text-decoration-color: #800080\">   0.008758272975683212    </span>│\n",
       "│<span style=\"color: #008080; text-decoration-color: #008080\">       RegLoss_test        </span>│<span style=\"color: #800080; text-decoration-color: #800080\">            0.0            </span>│\n",
       "└───────────────────────────┴───────────────────────────┘\n",
       "</pre>\n"
      ],
      "text/plain": [
       "┏━━━━━━━━━━━━━━━━━━━━━━━━━━━┳━━━━━━━━━━━━━━━━━━━━━━━━━━━┓\n",
       "┃\u001b[1m \u001b[0m\u001b[1m       Test metric       \u001b[0m\u001b[1m \u001b[0m┃\u001b[1m \u001b[0m\u001b[1m      DataLoader 0       \u001b[0m\u001b[1m \u001b[0m┃\n",
       "┡━━━━━━━━━━━━━━━━━━━━━━━━━━━╇━━━━━━━━━━━━━━━━━━━━━━━━━━━┩\n",
       "│\u001b[36m \u001b[0m\u001b[36m        Loss_test        \u001b[0m\u001b[36m \u001b[0m│\u001b[35m \u001b[0m\u001b[35m  0.008758272975683212   \u001b[0m\u001b[35m \u001b[0m│\n",
       "│\u001b[36m \u001b[0m\u001b[36m      RegLoss_test       \u001b[0m\u001b[36m \u001b[0m│\u001b[35m \u001b[0m\u001b[35m           0.0           \u001b[0m\u001b[35m \u001b[0m│\n",
       "└───────────────────────────┴───────────────────────────┘\n"
      ]
     },
     "metadata": {},
     "output_type": "display_data"
    }
   ],
   "source": [
    "\n",
    "metrics_list = test_models(model_list_new, df_train_list, df_test_list, events_eq_list)"
   ]
  },
  {
   "cell_type": "code",
   "execution_count": 127,
   "id": "4995f0f6-7f7b-47e9-8942-697e09f00335",
   "metadata": {},
   "outputs": [
    {
     "name": "stdout",
     "output_type": "stream",
     "text": [
      "                    ds         y  ID   EQ\n",
      "0  2017-01-12 21:30:00  0.017907  S0  0.0\n",
      "1  2017-01-12 22:00:00  0.022204  S0  0.0\n",
      "2  2017-01-12 22:30:00  0.016407  S0  0.0\n",
      "3  2017-01-12 23:00:00  0.023247  S0  0.0\n",
      "4  2017-01-12 23:30:00  0.061760  S0  0.0\n",
      "5  2017-01-13 00:00:00  0.047801  S0  0.0\n",
      "6  2017-01-13 00:30:00  0.058413  S0  0.0\n",
      "7  2017-01-13 01:00:00  0.047685  S0  0.0\n",
      "8  2017-01-13 01:30:00  0.072957  S0  0.0\n",
      "9  2017-01-13 02:00:00  0.059106  S0  0.0\n",
      "10 2017-01-13 02:30:00  0.070046  S0  0.0\n",
      "11 2017-01-13 03:00:00  0.052481  S0  0.0\n",
      "12 2017-01-13 03:30:00  0.066990  S0  0.0\n",
      "13 2017-01-13 04:00:00  0.044220  S0  0.0\n",
      "14 2017-01-13 04:30:00  0.053052  S0  0.0\n",
      "15 2017-01-13 05:00:00  0.017109  S0  0.0\n",
      "16 2017-01-13 05:30:00  0.035394  S0  0.0\n",
      "17 2017-01-13 06:00:00  0.048093  S0  0.0\n",
      "18 2017-01-13 06:30:00  0.043330  S0  0.0\n",
      "19 2017-01-13 07:00:00  0.052967  S0  0.0\n",
      "20 2017-01-13 07:30:00  0.051366  S0  0.0\n",
      "21 2017-01-13 08:00:00  0.045414  S0  0.0\n",
      "22 2017-01-13 08:30:00  0.001805  S0  0.0\n",
      "23 2017-01-13 09:00:00  0.019602  S0  0.0\n",
      "24 2017-01-13 09:30:00  0.010645  S0  0.0\n",
      "25 2017-01-13 10:00:00  0.024269  S0  0.0\n",
      "26 2017-01-13 10:30:00  0.020689  S0  0.0\n",
      "27 2017-01-13 11:00:00  0.063033  S0  0.0\n",
      "28 2017-01-13 11:30:00  0.032345  S0  0.0\n",
      "29 2017-01-13 12:00:00  0.011571  S0  0.0\n",
      "30 2017-01-13 12:30:00  0.021733  S0  0.0\n",
      "31 2017-01-13 13:00:00  0.013718  S0  0.0\n",
      "32 2017-01-13 13:30:00  0.018833  S0  0.0\n",
      "33 2017-01-13 14:00:00  0.012628  S0  0.0\n",
      "34 2017-01-13 14:30:00  0.021276  S0  0.0\n",
      "35 2017-01-13 15:00:00  0.036939  S0  0.0\n",
      "36 2017-01-13 15:30:00  0.035961  S0  0.0\n",
      "37 2017-01-13 16:00:00  0.014531  S0  0.0\n",
      "38 2017-01-13 16:30:00  0.026863  S0  0.0\n",
      "39 2017-01-13 17:00:00  0.004533  S0  0.0\n",
      "40 2017-01-13 17:30:00  0.006481  S0  0.0\n",
      "41 2017-01-13 18:00:00  0.008257  S0  0.0\n",
      "42 2017-01-13 18:30:00 -0.001696  S0  0.0\n",
      "43 2017-01-13 19:00:00 -0.005394  S0  0.0\n",
      "44 2017-01-13 19:30:00  0.004768  S0  0.0\n",
      "45 2017-01-13 20:00:00  0.000395  S0  0.0\n",
      "46 2017-01-13 20:30:00  0.010923  S0  0.0\n",
      "47 2017-01-13 21:00:00  0.022174  S0  0.0\n",
      "2016-12-27 23:00:00\n",
      "2017-01-18 09:00:00\n",
      "2017-01-17 21:00:00\n"
     ]
    }
   ],
   "source": [
    "current_df = df_test_list[1]\n",
    "df_S0 = current_df[current_df[\"ID\"] == \"S0\"]\n",
    "print(df_S0[:48])\n",
    "print(events_eq_list[0][-1])\n",
    "print(events_eq_list[1][-1])\n",
    "print(events_eq_list[2][-1])"
   ]
  },
  {
   "cell_type": "code",
   "execution_count": 90,
   "id": "273f0660-f053-40e3-b175-2e5ff800a7b4",
   "metadata": {},
   "outputs": [
    {
     "name": "stdout",
     "output_type": "stream",
     "text": [
      "                      ds         y  ID   EQ\n",
      "0    2017-12-31 22:30:00 -0.017169  S0  0.0\n",
      "1    2017-12-31 23:00:00 -0.017675  S0  0.0\n",
      "2    2017-12-31 23:30:00 -0.026311  S0  0.0\n",
      "3    2018-01-01 00:00:00 -0.019782  S0  0.0\n",
      "4    2018-01-01 00:30:00  0.010604  S0  0.0\n",
      "...                  ...       ...  ..  ...\n",
      "2875 2018-01-06 20:00:00       NaN  S9  0.0\n",
      "2876 2018-01-06 20:30:00       NaN  S9  0.0\n",
      "2877 2018-01-06 21:00:00       NaN  S9  0.0\n",
      "2878 2018-01-06 21:30:00       NaN  S9  0.0\n",
      "2879 2018-01-06 22:00:00       NaN  S9  0.0\n",
      "\n",
      "[2880 rows x 4 columns]\n"
     ]
    },
    {
     "data": {
      "application/vnd.jupyter.widget-view+json": {
       "model_id": "d109b1d4c2734f19996ba0a08b19341e",
       "version_major": 2,
       "version_minor": 0
      },
      "text/plain": [
       "Predicting: 2734it [00:00, ?it/s]"
      ]
     },
     "metadata": {},
     "output_type": "display_data"
    },
    {
     "data": {
      "application/vnd.jupyter.widget-view+json": {
       "model_id": "91e5113be3914ed5bc92de11ac2a20e9",
       "version_major": 2,
       "version_minor": 0
      },
      "text/plain": [
       "Predicting: 2734it [00:00, ?it/s]"
      ]
     },
     "metadata": {},
     "output_type": "display_data"
    },
    {
     "data": {
      "application/vnd.jupyter.widget-view+json": {
       "model_id": "466da39212904e5a9ee355470cc7a635",
       "version_major": 2,
       "version_minor": 0
      },
      "text/plain": [
       "Predicting: 2734it [00:00, ?it/s]"
      ]
     },
     "metadata": {},
     "output_type": "display_data"
    },
    {
     "data": {
      "application/vnd.jupyter.widget-view+json": {
       "model_id": "f6f0001d801f4fe5b497d0542adcc00b",
       "version_major": 2,
       "version_minor": 0
      },
      "text/plain": [
       "Predicting: 2734it [00:00, ?it/s]"
      ]
     },
     "metadata": {},
     "output_type": "display_data"
    },
    {
     "data": {
      "application/vnd.jupyter.widget-view+json": {
       "model_id": "7c6004009e7d4823ad1ff106053d00dd",
       "version_major": 2,
       "version_minor": 0
      },
      "text/plain": [
       "Predicting: 2734it [00:00, ?it/s]"
      ]
     },
     "metadata": {},
     "output_type": "display_data"
    },
    {
     "data": {
      "application/vnd.jupyter.widget-view+json": {
       "model_id": "88ecfe6661af411b95b5443f22d00afd",
       "version_major": 2,
       "version_minor": 0
      },
      "text/plain": [
       "Predicting: 2734it [00:00, ?it/s]"
      ]
     },
     "metadata": {},
     "output_type": "display_data"
    },
    {
     "data": {
      "application/vnd.jupyter.widget-view+json": {
       "model_id": "085652943e8c4dc28e628ffcd28985c0",
       "version_major": 2,
       "version_minor": 0
      },
      "text/plain": [
       "Predicting: 2734it [00:00, ?it/s]"
      ]
     },
     "metadata": {},
     "output_type": "display_data"
    },
    {
     "data": {
      "application/vnd.jupyter.widget-view+json": {
       "model_id": "280c9b8732ad45faaf0e2a7086b0f28d",
       "version_major": 2,
       "version_minor": 0
      },
      "text/plain": [
       "Predicting: 2734it [00:00, ?it/s]"
      ]
     },
     "metadata": {},
     "output_type": "display_data"
    },
    {
     "data": {
      "application/vnd.jupyter.widget-view+json": {
       "model_id": "7d15311f09544eae8476e25fe2ecd4a0",
       "version_major": 2,
       "version_minor": 0
      },
      "text/plain": [
       "Predicting: 2734it [00:00, ?it/s]"
      ]
     },
     "metadata": {},
     "output_type": "display_data"
    },
    {
     "data": {
      "application/vnd.jupyter.widget-view+json": {
       "model_id": "1ee9b6f8a228418caff650da0492c570",
       "version_major": 2,
       "version_minor": 0
      },
      "text/plain": [
       "Predicting: 2734it [00:00, ?it/s]"
      ]
     },
     "metadata": {},
     "output_type": "display_data"
    },
    {
     "data": {
      "application/vnd.jupyter.widget-view+json": {
       "model_id": "ea3326685dd54a50bc2ddcab14b1ffc2",
       "version_major": 2,
       "version_minor": 0
      },
      "text/plain": [
       "Testing: 0it [00:00, ?it/s]"
      ]
     },
     "metadata": {},
     "output_type": "display_data"
    },
    {
     "data": {
      "text/html": [
       "<pre style=\"white-space:pre;overflow-x:auto;line-height:normal;font-family:Menlo,'DejaVu Sans Mono',consolas,'Courier New',monospace\">┏━━━━━━━━━━━━━━━━━━━━━━━━━━━┳━━━━━━━━━━━━━━━━━━━━━━━━━━━┓\n",
       "┃<span style=\"font-weight: bold\">        Test metric        </span>┃<span style=\"font-weight: bold\">       DataLoader 0        </span>┃\n",
       "┡━━━━━━━━━━━━━━━━━━━━━━━━━━━╇━━━━━━━━━━━━━━━━━━━━━━━━━━━┩\n",
       "│<span style=\"color: #008080; text-decoration-color: #008080\">         Loss_test         </span>│<span style=\"color: #800080; text-decoration-color: #800080\">    0.00613833824172616    </span>│\n",
       "│<span style=\"color: #008080; text-decoration-color: #008080\">       RegLoss_test        </span>│<span style=\"color: #800080; text-decoration-color: #800080\">            0.0            </span>│\n",
       "└───────────────────────────┴───────────────────────────┘\n",
       "</pre>\n"
      ],
      "text/plain": [
       "┏━━━━━━━━━━━━━━━━━━━━━━━━━━━┳━━━━━━━━━━━━━━━━━━━━━━━━━━━┓\n",
       "┃\u001b[1m \u001b[0m\u001b[1m       Test metric       \u001b[0m\u001b[1m \u001b[0m┃\u001b[1m \u001b[0m\u001b[1m      DataLoader 0       \u001b[0m\u001b[1m \u001b[0m┃\n",
       "┡━━━━━━━━━━━━━━━━━━━━━━━━━━━╇━━━━━━━━━━━━━━━━━━━━━━━━━━━┩\n",
       "│\u001b[36m \u001b[0m\u001b[36m        Loss_test        \u001b[0m\u001b[36m \u001b[0m│\u001b[35m \u001b[0m\u001b[35m   0.00613833824172616   \u001b[0m\u001b[35m \u001b[0m│\n",
       "│\u001b[36m \u001b[0m\u001b[36m      RegLoss_test       \u001b[0m\u001b[36m \u001b[0m│\u001b[35m \u001b[0m\u001b[35m           0.0           \u001b[0m\u001b[35m \u001b[0m│\n",
       "└───────────────────────────┴───────────────────────────┘\n"
      ]
     },
     "metadata": {},
     "output_type": "display_data"
    },
    {
     "data": {
      "text/html": [
       "<div>\n",
       "<style scoped>\n",
       "    .dataframe tbody tr th:only-of-type {\n",
       "        vertical-align: middle;\n",
       "    }\n",
       "\n",
       "    .dataframe tbody tr th {\n",
       "        vertical-align: top;\n",
       "    }\n",
       "\n",
       "    .dataframe thead th {\n",
       "        text-align: right;\n",
       "    }\n",
       "</style>\n",
       "<table border=\"1\" class=\"dataframe\">\n",
       "  <thead>\n",
       "    <tr style=\"text-align: right;\">\n",
       "      <th></th>\n",
       "      <th>Loss_test</th>\n",
       "      <th>RegLoss_test</th>\n",
       "    </tr>\n",
       "  </thead>\n",
       "  <tbody>\n",
       "    <tr>\n",
       "      <th>0</th>\n",
       "      <td>0.006138</td>\n",
       "      <td>0.0</td>\n",
       "    </tr>\n",
       "  </tbody>\n",
       "</table>\n",
       "</div>"
      ],
      "text/plain": [
       "   Loss_test  RegLoss_test\n",
       "0   0.006138           0.0"
      ]
     },
     "execution_count": 90,
     "metadata": {},
     "output_type": "execute_result"
    }
   ],
   "source": [
    "future = model_list_new_2018[0].make_future_dataframe(df_test_1,periods = 24,  n_historic_predictions=False)\n",
    "print(future)\n",
    "forecast = model_list_new_2018[0].predict(future, raw = False)\n",
    "model_list_new_2018[0].test(df_test_1)\n",
    "\n",
    "#fig = model_list_new_2018[0].plot(forecast[forecast[\"ID\"] == \"S1\"])"
   ]
  },
  {
   "cell_type": "code",
   "execution_count": 89,
   "id": "2ad0f9f3-89c4-4dae-9ef3-c05da66f7b1c",
   "metadata": {},
   "outputs": [
    {
     "data": {
      "text/html": [
       "<div>\n",
       "<style scoped>\n",
       "    .dataframe tbody tr th:only-of-type {\n",
       "        vertical-align: middle;\n",
       "    }\n",
       "\n",
       "    .dataframe tbody tr th {\n",
       "        vertical-align: top;\n",
       "    }\n",
       "\n",
       "    .dataframe thead th {\n",
       "        text-align: right;\n",
       "    }\n",
       "</style>\n",
       "<table border=\"1\" class=\"dataframe\">\n",
       "  <thead>\n",
       "    <tr style=\"text-align: right;\">\n",
       "      <th></th>\n",
       "      <th>ds</th>\n",
       "      <th>y</th>\n",
       "      <th>ID</th>\n",
       "      <th>EQ</th>\n",
       "    </tr>\n",
       "  </thead>\n",
       "  <tbody>\n",
       "    <tr>\n",
       "      <th>0</th>\n",
       "      <td>2017-12-29 23:00:00</td>\n",
       "      <td>-0.007716</td>\n",
       "      <td>S0</td>\n",
       "      <td>0.0</td>\n",
       "    </tr>\n",
       "    <tr>\n",
       "      <th>1</th>\n",
       "      <td>2017-12-29 23:30:00</td>\n",
       "      <td>-0.003185</td>\n",
       "      <td>S0</td>\n",
       "      <td>0.0</td>\n",
       "    </tr>\n",
       "    <tr>\n",
       "      <th>2</th>\n",
       "      <td>2017-12-30 00:00:00</td>\n",
       "      <td>-0.012593</td>\n",
       "      <td>S0</td>\n",
       "      <td>0.0</td>\n",
       "    </tr>\n",
       "    <tr>\n",
       "      <th>3</th>\n",
       "      <td>2017-12-30 00:30:00</td>\n",
       "      <td>-0.004202</td>\n",
       "      <td>S0</td>\n",
       "      <td>0.0</td>\n",
       "    </tr>\n",
       "    <tr>\n",
       "      <th>4</th>\n",
       "      <td>2017-12-30 01:00:00</td>\n",
       "      <td>-0.000157</td>\n",
       "      <td>S0</td>\n",
       "      <td>0.0</td>\n",
       "    </tr>\n",
       "    <tr>\n",
       "      <th>...</th>\n",
       "      <td>...</td>\n",
       "      <td>...</td>\n",
       "      <td>...</td>\n",
       "      <td>...</td>\n",
       "    </tr>\n",
       "    <tr>\n",
       "      <th>3345</th>\n",
       "      <td>2018-01-05 20:00:00</td>\n",
       "      <td>-0.067881</td>\n",
       "      <td>S9</td>\n",
       "      <td>0.0</td>\n",
       "    </tr>\n",
       "    <tr>\n",
       "      <th>3346</th>\n",
       "      <td>2018-01-05 20:30:00</td>\n",
       "      <td>-0.119288</td>\n",
       "      <td>S9</td>\n",
       "      <td>0.0</td>\n",
       "    </tr>\n",
       "    <tr>\n",
       "      <th>3347</th>\n",
       "      <td>2018-01-05 21:00:00</td>\n",
       "      <td>0.138208</td>\n",
       "      <td>S9</td>\n",
       "      <td>0.0</td>\n",
       "    </tr>\n",
       "    <tr>\n",
       "      <th>3348</th>\n",
       "      <td>2018-01-05 21:30:00</td>\n",
       "      <td>-0.184494</td>\n",
       "      <td>S9</td>\n",
       "      <td>0.0</td>\n",
       "    </tr>\n",
       "    <tr>\n",
       "      <th>3349</th>\n",
       "      <td>2018-01-05 22:00:00</td>\n",
       "      <td>0.363833</td>\n",
       "      <td>S9</td>\n",
       "      <td>0.0</td>\n",
       "    </tr>\n",
       "  </tbody>\n",
       "</table>\n",
       "<p>3350 rows × 4 columns</p>\n",
       "</div>"
      ],
      "text/plain": [
       "                      ds         y  ID   EQ\n",
       "0    2017-12-29 23:00:00 -0.007716  S0  0.0\n",
       "1    2017-12-29 23:30:00 -0.003185  S0  0.0\n",
       "2    2017-12-30 00:00:00 -0.012593  S0  0.0\n",
       "3    2017-12-30 00:30:00 -0.004202  S0  0.0\n",
       "4    2017-12-30 01:00:00 -0.000157  S0  0.0\n",
       "...                  ...       ...  ..  ...\n",
       "3345 2018-01-05 20:00:00 -0.067881  S9  0.0\n",
       "3346 2018-01-05 20:30:00 -0.119288  S9  0.0\n",
       "3347 2018-01-05 21:00:00  0.138208  S9  0.0\n",
       "3348 2018-01-05 21:30:00 -0.184494  S9  0.0\n",
       "3349 2018-01-05 22:00:00  0.363833  S9  0.0\n",
       "\n",
       "[3350 rows x 4 columns]"
      ]
     },
     "execution_count": 89,
     "metadata": {},
     "output_type": "execute_result"
    }
   ],
   "source": [
    "df_test_1"
   ]
  },
  {
   "cell_type": "code",
   "execution_count": 67,
   "id": "fa6c4eb6-78b3-4a98-a624-87896787420f",
   "metadata": {},
   "outputs": [
    {
     "name": "stdout",
     "output_type": "stream",
     "text": [
      "                     ds         y  ID     yhat1     yhat2     yhat3     yhat4  \\\n",
      "647 2018-01-04 11:00:00  0.678346  S1  0.280392  0.347550 -0.552515 -0.198142   \n",
      "648 2018-01-04 11:30:00  0.087850  S1  0.368182  0.326992  0.408569 -0.445682   \n",
      "649 2018-01-04 12:00:00  0.253680  S1  0.277396  0.387923  0.365467  0.450311   \n",
      "650 2018-01-04 12:30:00  0.424104  S1  0.299824  0.267171  0.390915  0.376965   \n",
      "651 2018-01-04 13:00:00  0.523761  S1  0.335269  0.254109  0.239491  0.367296   \n",
      "..                  ...       ...  ..       ...       ...       ...       ...   \n",
      "761 2018-01-06 20:00:00       NaN  S1       NaN       NaN       NaN       NaN   \n",
      "762 2018-01-06 20:30:00       NaN  S1       NaN       NaN       NaN       NaN   \n",
      "763 2018-01-06 21:00:00       NaN  S1       NaN       NaN       NaN       NaN   \n",
      "764 2018-01-06 21:30:00       NaN  S1       NaN       NaN       NaN       NaN   \n",
      "765 2018-01-06 22:00:00       NaN  S1       NaN       NaN       NaN       NaN   \n",
      "\n",
      "        yhat5     yhat6     yhat7  ...      ar44      ar45      ar46  \\\n",
      "647 -0.142355 -0.276595 -0.222511  ...       NaN       NaN       NaN   \n",
      "648 -0.098737 -0.044525 -0.169296  ...       NaN       NaN       NaN   \n",
      "649 -0.353525 -0.023636  0.029366  ...       NaN       NaN       NaN   \n",
      "650  0.462024 -0.290260  0.019912  ...       NaN       NaN       NaN   \n",
      "651  0.360058  0.435588 -0.255647  ...       NaN       NaN       NaN   \n",
      "..        ...       ...       ...  ...       ...       ...       ...   \n",
      "761       NaN       NaN       NaN  ...  4.743266  4.724474  4.709167   \n",
      "762       NaN       NaN       NaN  ...       NaN  4.701978  4.682611   \n",
      "763       NaN       NaN       NaN  ...       NaN       NaN  4.658809   \n",
      "764       NaN       NaN       NaN  ...       NaN       NaN       NaN   \n",
      "765       NaN       NaN       NaN  ...       NaN       NaN       NaN   \n",
      "\n",
      "         ar47      ar48     trend  season_yearly  season_daily  \\\n",
      "647       NaN       NaN -4.897266       0.001526     -0.032193   \n",
      "648       NaN       NaN -4.897266       0.001488      0.017337   \n",
      "649       NaN       NaN -4.897266       0.001450      0.047331   \n",
      "650       NaN       NaN -4.897266       0.001412      0.049496   \n",
      "651       NaN       NaN -4.897266       0.001374      0.024048   \n",
      "..        ...       ...       ...            ...           ...   \n",
      "761  4.746622  4.788720 -4.897266      -0.002725      0.165369   \n",
      "762  4.674427  4.721358 -4.897266      -0.002762      0.155496   \n",
      "763  4.641903  4.638134 -4.897266      -0.002798      0.139885   \n",
      "764  4.617604  4.601696 -4.897266      -0.002834      0.125448   \n",
      "765       NaN  4.578214 -4.897266      -0.002871      0.112767   \n",
      "\n",
      "     events_additive  event_EQ  \n",
      "647              0.0       0.0  \n",
      "648              0.0       0.0  \n",
      "649              0.0       0.0  \n",
      "650              0.0       0.0  \n",
      "651              0.0       0.0  \n",
      "..               ...       ...  \n",
      "761              0.0       0.0  \n",
      "762              0.0       0.0  \n",
      "763              0.0       0.0  \n",
      "764              0.0       0.0  \n",
      "765              0.0       0.0  \n",
      "\n",
      "[119 rows x 104 columns]\n"
     ]
    }
   ],
   "source": [
    "\n",
    "forecast.head(2).loc[:,forecast.head(1).columns.str.contains(\"step\")]\n",
    "raw_false = forecast[forecast[\"ID\"] == \"S1\"]\n",
    "raw_false = raw_false[raw_false[\"ds\"] > '2018-01-04 10:30:00']\n",
    "print(raw_false)"
   ]
  },
  {
   "cell_type": "code",
   "execution_count": 18,
   "id": "510d7e34-2c52-45ca-8ff0-c1b18f586cca",
   "metadata": {},
   "outputs": [
    {
     "ename": "ModuleNotFoundError",
     "evalue": "No module named 'neuralprophet.serialize'",
     "output_type": "error",
     "traceback": [
      "\u001b[1;31m---------------------------------------------------------------------------\u001b[0m",
      "\u001b[1;31mModuleNotFoundError\u001b[0m                       Traceback (most recent call last)",
      "Cell \u001b[1;32mIn[18], line 2\u001b[0m\n\u001b[0;32m      1\u001b[0m \u001b[38;5;66;03m# Python\u001b[39;00m\n\u001b[1;32m----> 2\u001b[0m \u001b[38;5;28;01mfrom\u001b[39;00m \u001b[38;5;21;01mneuralprophet\u001b[39;00m\u001b[38;5;21;01m.\u001b[39;00m\u001b[38;5;21;01mserialize\u001b[39;00m \u001b[38;5;28;01mimport\u001b[39;00m model_to_json, model_from_json\n\u001b[0;32m      3\u001b[0m current_model \u001b[38;5;241m=\u001b[39m model_list[\u001b[38;5;241m0\u001b[39m]\n\u001b[0;32m      4\u001b[0m \u001b[38;5;28;01mwith\u001b[39;00m \u001b[38;5;28mopen\u001b[39m(\u001b[38;5;124m'\u001b[39m\u001b[38;5;124mserialized_model.json\u001b[39m\u001b[38;5;124m'\u001b[39m, \u001b[38;5;124m'\u001b[39m\u001b[38;5;124mw\u001b[39m\u001b[38;5;124m'\u001b[39m) \u001b[38;5;28;01mas\u001b[39;00m fout:\n",
      "\u001b[1;31mModuleNotFoundError\u001b[0m: No module named 'neuralprophet.serialize'"
     ]
    }
   ],
   "source": [
    "# Python\n",
    "from neuralprophet.serialize import model_to_json, model_from_json\n",
    "current_model = model_list[0]\n",
    "with open('serialized_model.json', 'w') as fout:\n",
    "    fout.write(model_to_json(current_model))  # Save model\n",
    "\n",
    "with open('serialized_model.json', 'r') as fin:\n",
    "    current_model = model_from_json(fin.read())  # Load model"
   ]
  },
  {
   "cell_type": "code",
   "execution_count": 40,
   "id": "760f4ffc-fc1b-4e49-923a-6750629cf8c6",
   "metadata": {},
   "outputs": [
    {
     "ename": "ValueError",
     "evalue": "I/O operation on closed file.",
     "output_type": "error",
     "traceback": [
      "\u001b[1;31m---------------------------------------------------------------------------\u001b[0m",
      "\u001b[1;31mMemoryError\u001b[0m                               Traceback (most recent call last)",
      "File \u001b[1;32m~\\anaconda3\\envs\\NeuralProphet\\lib\\site-packages\\torch\\serialization.py:427\u001b[0m, in \u001b[0;36msave\u001b[1;34m(obj, f, pickle_module, pickle_protocol, _use_new_zipfile_serialization)\u001b[0m\n\u001b[0;32m    426\u001b[0m \u001b[38;5;28;01mwith\u001b[39;00m _open_file_like(f, \u001b[38;5;124m'\u001b[39m\u001b[38;5;124mwb\u001b[39m\u001b[38;5;124m'\u001b[39m) \u001b[38;5;28;01mas\u001b[39;00m opened_file:\n\u001b[1;32m--> 427\u001b[0m     \u001b[43m_legacy_save\u001b[49m\u001b[43m(\u001b[49m\u001b[43mobj\u001b[49m\u001b[43m,\u001b[49m\u001b[43m \u001b[49m\u001b[43mopened_file\u001b[49m\u001b[43m,\u001b[49m\u001b[43m \u001b[49m\u001b[43mpickle_module\u001b[49m\u001b[43m,\u001b[49m\u001b[43m \u001b[49m\u001b[43mpickle_protocol\u001b[49m\u001b[43m)\u001b[49m\n",
      "File \u001b[1;32m~\\anaconda3\\envs\\NeuralProphet\\lib\\site-packages\\torch\\serialization.py:571\u001b[0m, in \u001b[0;36m_legacy_save\u001b[1;34m(obj, f, pickle_module, pickle_protocol)\u001b[0m\n\u001b[0;32m    570\u001b[0m storage, dtype \u001b[38;5;241m=\u001b[39m serialized_storages[key]\n\u001b[1;32m--> 571\u001b[0m \u001b[43mstorage\u001b[49m\u001b[38;5;241;43m.\u001b[39;49m\u001b[43m_write_file\u001b[49m\u001b[43m(\u001b[49m\u001b[43mf\u001b[49m\u001b[43m,\u001b[49m\u001b[43m \u001b[49m\u001b[43m_should_read_directly\u001b[49m\u001b[43m(\u001b[49m\u001b[43mf\u001b[49m\u001b[43m)\u001b[49m\u001b[43m,\u001b[49m\u001b[43m \u001b[49m\u001b[38;5;28;43;01mTrue\u001b[39;49;00m\u001b[43m,\u001b[49m\u001b[43m \u001b[49m\u001b[43mtorch\u001b[49m\u001b[38;5;241;43m.\u001b[39;49m\u001b[43m_utils\u001b[49m\u001b[38;5;241;43m.\u001b[39;49m\u001b[43m_element_size\u001b[49m\u001b[43m(\u001b[49m\u001b[43mdtype\u001b[49m\u001b[43m)\u001b[49m\u001b[43m)\u001b[49m\n",
      "\u001b[1;31mMemoryError\u001b[0m: ",
      "\nDuring handling of the above exception, another exception occurred:\n",
      "\u001b[1;31mValueError\u001b[0m                                Traceback (most recent call last)",
      "Cell \u001b[1;32mIn[40], line 4\u001b[0m\n\u001b[0;32m      1\u001b[0m \u001b[38;5;28;01mimport\u001b[39;00m \u001b[38;5;21;01mpickle\u001b[39;00m\n\u001b[0;32m      2\u001b[0m \u001b[38;5;28;01mwith\u001b[39;00m \u001b[38;5;28mopen\u001b[39m(\u001b[38;5;124m'\u001b[39m\u001b[38;5;124mmodel/neuralprophet_model.pkl\u001b[39m\u001b[38;5;124m'\u001b[39m, \u001b[38;5;124m\"\u001b[39m\u001b[38;5;124mwb\u001b[39m\u001b[38;5;124m\"\u001b[39m) \u001b[38;5;28;01mas\u001b[39;00m f:\n\u001b[0;32m      3\u001b[0m      \u001b[38;5;66;03m# dump information to that file\u001b[39;00m\n\u001b[1;32m----> 4\u001b[0m     \u001b[43mpickle\u001b[49m\u001b[38;5;241;43m.\u001b[39;49m\u001b[43mdump\u001b[49m\u001b[43m(\u001b[49m\u001b[43mm2\u001b[49m\u001b[43m,\u001b[49m\u001b[43m \u001b[49m\u001b[43mf\u001b[49m\u001b[43m)\u001b[49m\n",
      "File \u001b[1;32m~\\anaconda3\\envs\\NeuralProphet\\lib\\site-packages\\torch\\storage.py:659\u001b[0m, in \u001b[0;36mTypedStorage.__reduce__\u001b[1;34m(self)\u001b[0m\n\u001b[0;32m    657\u001b[0m \u001b[38;5;28;01mdef\u001b[39;00m \u001b[38;5;21m__reduce__\u001b[39m(\u001b[38;5;28mself\u001b[39m):\n\u001b[0;32m    658\u001b[0m     b \u001b[38;5;241m=\u001b[39m io\u001b[38;5;241m.\u001b[39mBytesIO()\n\u001b[1;32m--> 659\u001b[0m     \u001b[43mtorch\u001b[49m\u001b[38;5;241;43m.\u001b[39;49m\u001b[43msave\u001b[49m\u001b[43m(\u001b[49m\u001b[38;5;28;43mself\u001b[39;49m\u001b[43m,\u001b[49m\u001b[43m \u001b[49m\u001b[43mb\u001b[49m\u001b[43m,\u001b[49m\u001b[43m \u001b[49m\u001b[43m_use_new_zipfile_serialization\u001b[49m\u001b[38;5;241;43m=\u001b[39;49m\u001b[38;5;28;43;01mFalse\u001b[39;49;00m\u001b[43m)\u001b[49m\n\u001b[0;32m    660\u001b[0m     \u001b[38;5;28;01mreturn\u001b[39;00m (_load_from_bytes, (b\u001b[38;5;241m.\u001b[39mgetvalue(),))\n",
      "File \u001b[1;32m~\\anaconda3\\envs\\NeuralProphet\\lib\\site-packages\\torch\\serialization.py:427\u001b[0m, in \u001b[0;36msave\u001b[1;34m(obj, f, pickle_module, pickle_protocol, _use_new_zipfile_serialization)\u001b[0m\n\u001b[0;32m    425\u001b[0m \u001b[38;5;28;01melse\u001b[39;00m:\n\u001b[0;32m    426\u001b[0m     \u001b[38;5;28;01mwith\u001b[39;00m _open_file_like(f, \u001b[38;5;124m'\u001b[39m\u001b[38;5;124mwb\u001b[39m\u001b[38;5;124m'\u001b[39m) \u001b[38;5;28;01mas\u001b[39;00m opened_file:\n\u001b[1;32m--> 427\u001b[0m         _legacy_save(obj, opened_file, pickle_module, pickle_protocol)\n",
      "File \u001b[1;32m~\\anaconda3\\envs\\NeuralProphet\\lib\\site-packages\\torch\\serialization.py:265\u001b[0m, in \u001b[0;36m_open_buffer_writer.__exit__\u001b[1;34m(self, *args)\u001b[0m\n\u001b[0;32m    264\u001b[0m \u001b[38;5;28;01mdef\u001b[39;00m \u001b[38;5;21m__exit__\u001b[39m(\u001b[38;5;28mself\u001b[39m, \u001b[38;5;241m*\u001b[39margs):\n\u001b[1;32m--> 265\u001b[0m     \u001b[38;5;28;43mself\u001b[39;49m\u001b[38;5;241;43m.\u001b[39;49m\u001b[43mfile_like\u001b[49m\u001b[38;5;241;43m.\u001b[39;49m\u001b[43mflush\u001b[49m\u001b[43m(\u001b[49m\u001b[43m)\u001b[49m\n",
      "\u001b[1;31mValueError\u001b[0m: I/O operation on closed file."
     ]
    }
   ],
   "source": [
    "import pickle\n",
    "with open('model/neuralprophet_model.pkl', \"wb\") as f:\n",
    "     # dump information to that file\n",
    "    pickle.dump(m2, f)"
   ]
  },
  {
   "cell_type": "code",
   "execution_count": null,
   "id": "c23bba5b-c1e5-403b-b642-15be9ed692a9",
   "metadata": {},
   "outputs": [
    {
     "ename": "ValueError",
     "evalue": "I/O operation on closed file.",
     "output_type": "error",
     "traceback": [
      "\u001b[1;31m---------------------------------------------------------------------------\u001b[0m",
      "\u001b[1;31mMemoryError\u001b[0m                               Traceback (most recent call last)",
      "File \u001b[1;32m~\\anaconda3\\envs\\NeuralProphet\\lib\\site-packages\\torch\\serialization.py:427\u001b[0m, in \u001b[0;36msave\u001b[1;34m(obj, f, pickle_module, pickle_protocol, _use_new_zipfile_serialization)\u001b[0m\n\u001b[0;32m    426\u001b[0m \u001b[38;5;28;01mwith\u001b[39;00m _open_file_like(f, \u001b[38;5;124m'\u001b[39m\u001b[38;5;124mwb\u001b[39m\u001b[38;5;124m'\u001b[39m) \u001b[38;5;28;01mas\u001b[39;00m opened_file:\n\u001b[1;32m--> 427\u001b[0m     \u001b[43m_legacy_save\u001b[49m\u001b[43m(\u001b[49m\u001b[43mobj\u001b[49m\u001b[43m,\u001b[49m\u001b[43m \u001b[49m\u001b[43mopened_file\u001b[49m\u001b[43m,\u001b[49m\u001b[43m \u001b[49m\u001b[43mpickle_module\u001b[49m\u001b[43m,\u001b[49m\u001b[43m \u001b[49m\u001b[43mpickle_protocol\u001b[49m\u001b[43m)\u001b[49m\n",
      "File \u001b[1;32m~\\anaconda3\\envs\\NeuralProphet\\lib\\site-packages\\torch\\serialization.py:571\u001b[0m, in \u001b[0;36m_legacy_save\u001b[1;34m(obj, f, pickle_module, pickle_protocol)\u001b[0m\n\u001b[0;32m    570\u001b[0m storage, dtype \u001b[38;5;241m=\u001b[39m serialized_storages[key]\n\u001b[1;32m--> 571\u001b[0m \u001b[43mstorage\u001b[49m\u001b[38;5;241;43m.\u001b[39;49m\u001b[43m_write_file\u001b[49m\u001b[43m(\u001b[49m\u001b[43mf\u001b[49m\u001b[43m,\u001b[49m\u001b[43m \u001b[49m\u001b[43m_should_read_directly\u001b[49m\u001b[43m(\u001b[49m\u001b[43mf\u001b[49m\u001b[43m)\u001b[49m\u001b[43m,\u001b[49m\u001b[43m \u001b[49m\u001b[38;5;28;43;01mTrue\u001b[39;49;00m\u001b[43m,\u001b[49m\u001b[43m \u001b[49m\u001b[43mtorch\u001b[49m\u001b[38;5;241;43m.\u001b[39;49m\u001b[43m_utils\u001b[49m\u001b[38;5;241;43m.\u001b[39;49m\u001b[43m_element_size\u001b[49m\u001b[43m(\u001b[49m\u001b[43mdtype\u001b[49m\u001b[43m)\u001b[49m\u001b[43m)\u001b[49m\n",
      "\u001b[1;31mMemoryError\u001b[0m: ",
      "\nDuring handling of the above exception, another exception occurred:\n",
      "\u001b[1;31mValueError\u001b[0m                                Traceback (most recent call last)",
      "Cell \u001b[1;32mIn[26], line 2\u001b[0m\n\u001b[0;32m      1\u001b[0m \u001b[38;5;28;01mwith\u001b[39;00m \u001b[38;5;28mopen\u001b[39m(\u001b[38;5;124m'\u001b[39m\u001b[38;5;124mneuralprophet_model.pkl\u001b[39m\u001b[38;5;124m'\u001b[39m, \u001b[38;5;124m\"\u001b[39m\u001b[38;5;124mwb\u001b[39m\u001b[38;5;124m\"\u001b[39m) \u001b[38;5;28;01mas\u001b[39;00m f:\n\u001b[1;32m----> 2\u001b[0m     \u001b[43mpickle\u001b[49m\u001b[38;5;241;43m.\u001b[39;49m\u001b[43mdump\u001b[49m\u001b[43m(\u001b[49m\u001b[43mmodel_list\u001b[49m\u001b[43m[\u001b[49m\u001b[38;5;241;43m0\u001b[39;49m\u001b[43m]\u001b[49m\u001b[38;5;241;43m.\u001b[39;49m\u001b[43mmodel\u001b[49m\u001b[43m,\u001b[49m\u001b[43m \u001b[49m\u001b[43mf\u001b[49m\u001b[43m)\u001b[49m\n",
      "File \u001b[1;32m~\\anaconda3\\envs\\NeuralProphet\\lib\\site-packages\\torch\\storage.py:659\u001b[0m, in \u001b[0;36mTypedStorage.__reduce__\u001b[1;34m(self)\u001b[0m\n\u001b[0;32m    657\u001b[0m \u001b[38;5;28;01mdef\u001b[39;00m \u001b[38;5;21m__reduce__\u001b[39m(\u001b[38;5;28mself\u001b[39m):\n\u001b[0;32m    658\u001b[0m     b \u001b[38;5;241m=\u001b[39m io\u001b[38;5;241m.\u001b[39mBytesIO()\n\u001b[1;32m--> 659\u001b[0m     \u001b[43mtorch\u001b[49m\u001b[38;5;241;43m.\u001b[39;49m\u001b[43msave\u001b[49m\u001b[43m(\u001b[49m\u001b[38;5;28;43mself\u001b[39;49m\u001b[43m,\u001b[49m\u001b[43m \u001b[49m\u001b[43mb\u001b[49m\u001b[43m,\u001b[49m\u001b[43m \u001b[49m\u001b[43m_use_new_zipfile_serialization\u001b[49m\u001b[38;5;241;43m=\u001b[39;49m\u001b[38;5;28;43;01mFalse\u001b[39;49;00m\u001b[43m)\u001b[49m\n\u001b[0;32m    660\u001b[0m     \u001b[38;5;28;01mreturn\u001b[39;00m (_load_from_bytes, (b\u001b[38;5;241m.\u001b[39mgetvalue(),))\n",
      "File \u001b[1;32m~\\anaconda3\\envs\\NeuralProphet\\lib\\site-packages\\torch\\serialization.py:427\u001b[0m, in \u001b[0;36msave\u001b[1;34m(obj, f, pickle_module, pickle_protocol, _use_new_zipfile_serialization)\u001b[0m\n\u001b[0;32m    425\u001b[0m \u001b[38;5;28;01melse\u001b[39;00m:\n\u001b[0;32m    426\u001b[0m     \u001b[38;5;28;01mwith\u001b[39;00m _open_file_like(f, \u001b[38;5;124m'\u001b[39m\u001b[38;5;124mwb\u001b[39m\u001b[38;5;124m'\u001b[39m) \u001b[38;5;28;01mas\u001b[39;00m opened_file:\n\u001b[1;32m--> 427\u001b[0m         _legacy_save(obj, opened_file, pickle_module, pickle_protocol)\n",
      "File \u001b[1;32m~\\anaconda3\\envs\\NeuralProphet\\lib\\site-packages\\torch\\serialization.py:265\u001b[0m, in \u001b[0;36m_open_buffer_writer.__exit__\u001b[1;34m(self, *args)\u001b[0m\n\u001b[0;32m    264\u001b[0m \u001b[38;5;28;01mdef\u001b[39;00m \u001b[38;5;21m__exit__\u001b[39m(\u001b[38;5;28mself\u001b[39m, \u001b[38;5;241m*\u001b[39margs):\n\u001b[1;32m--> 265\u001b[0m     \u001b[38;5;28;43mself\u001b[39;49m\u001b[38;5;241;43m.\u001b[39;49m\u001b[43mfile_like\u001b[49m\u001b[38;5;241;43m.\u001b[39;49m\u001b[43mflush\u001b[49m\u001b[43m(\u001b[49m\u001b[43m)\u001b[49m\n",
      "\u001b[1;31mValueError\u001b[0m: I/O operation on closed file."
     ]
    }
   ],
   "source": [
    "with open('neuralprophet_model.pkl', \"wb\") as f:\n",
    "    pickle.dump(model_list[0], f)"
   ]
  },
  {
   "cell_type": "code",
   "execution_count": 38,
   "id": "e37c3cc3-72f2-44ca-a4e1-91cd145728d4",
   "metadata": {},
   "outputs": [
    {
     "name": "stderr",
     "output_type": "stream",
     "text": [
      "INFO - (NP.df_utils._infer_frequency) - Major frequency 30T corresponds to 99.653% of the data.\n",
      "INFO - (NP.df_utils._infer_frequency) - Defined frequency is equal to major frequency - 30T\n",
      "INFO - (NP.df_utils._infer_frequency) - Major frequency 30T corresponds to 99.653% of the data.\n",
      "INFO - (NP.df_utils._infer_frequency) - Defined frequency is equal to major frequency - 30T\n"
     ]
    },
    {
     "data": {
      "application/vnd.jupyter.widget-view+json": {
       "model_id": "51008a4c13fa4f779883ba72a5fea986",
       "version_major": 2,
       "version_minor": 0
      },
      "text/plain": [
       "Predicting: 1093it [00:00, ?it/s]"
      ]
     },
     "metadata": {},
     "output_type": "display_data"
    },
    {
     "name": "stderr",
     "output_type": "stream",
     "text": [
      "INFO - (NP.df_utils.return_df_in_original_format) - Returning df with no ID column\n",
      "WARNING - (NP.forecaster.plot) - Too few forecasts to plot a line per forecast step.Plotting a line per forecast origin instead.\n"
     ]
    },
    {
     "data": {
      "application/vnd.plotly.v1+json": {
       "config": {
        "plotlyServerURL": "https://plot.ly"
       },
       "data": [
        {
         "fill": "none",
         "line": {
          "color": "rgba(45, 146, 255, 1.0)",
          "width": 2
         },
         "mode": "lines",
         "name": "origin-0",
         "type": "scatter",
         "x": [
          "2020-12-22T00:30:00",
          "2020-12-22T01:00:00",
          "2020-12-22T01:30:00",
          "2020-12-22T02:00:00",
          "2020-12-22T02:30:00",
          "2020-12-22T03:00:00",
          "2020-12-22T03:30:00",
          "2020-12-22T04:00:00",
          "2020-12-22T04:30:00",
          "2020-12-22T05:00:00",
          "2020-12-22T05:30:00",
          "2020-12-22T06:00:00",
          "2020-12-22T06:30:00",
          "2020-12-22T07:00:00",
          "2020-12-22T07:30:00",
          "2020-12-22T08:00:00",
          "2020-12-22T08:30:00",
          "2020-12-22T09:00:00",
          "2020-12-22T09:30:00",
          "2020-12-22T10:00:00",
          "2020-12-22T10:30:00",
          "2020-12-22T11:00:00",
          "2020-12-22T11:30:00",
          "2020-12-22T12:00:00",
          "2020-12-22T12:30:00",
          "2020-12-22T13:00:00",
          "2020-12-22T13:30:00",
          "2020-12-22T14:00:00",
          "2020-12-22T14:30:00",
          "2020-12-22T15:00:00",
          "2020-12-22T15:30:00",
          "2020-12-22T16:00:00",
          "2020-12-22T16:30:00",
          "2020-12-22T17:00:00",
          "2020-12-22T17:30:00",
          "2020-12-22T18:00:00",
          "2020-12-22T18:30:00",
          "2020-12-22T19:00:00",
          "2020-12-22T19:30:00",
          "2020-12-22T20:00:00",
          "2020-12-22T20:30:00",
          "2020-12-22T21:00:00",
          "2020-12-22T21:30:00",
          "2020-12-22T22:00:00",
          "2020-12-22T22:30:00",
          "2020-12-22T23:00:00",
          "2020-12-22T23:30:00",
          "2020-12-23T00:00:00",
          "2020-12-23T00:30:00",
          "2020-12-23T01:00:00",
          "2020-12-23T01:30:00",
          "2020-12-23T02:00:00",
          "2020-12-23T02:30:00",
          "2020-12-23T03:00:00",
          "2020-12-23T03:30:00",
          "2020-12-23T04:00:00",
          "2020-12-23T04:30:00",
          "2020-12-23T05:00:00",
          "2020-12-23T05:30:00",
          "2020-12-23T06:00:00",
          "2020-12-23T06:30:00",
          "2020-12-23T07:00:00",
          "2020-12-23T07:30:00",
          "2020-12-23T08:00:00",
          "2020-12-23T08:30:00",
          "2020-12-23T09:00:00",
          "2020-12-23T09:30:00",
          "2020-12-23T10:00:00",
          "2020-12-23T10:30:00",
          "2020-12-23T11:00:00",
          "2020-12-23T11:30:00",
          "2020-12-23T12:00:00",
          "2020-12-23T12:30:00",
          "2020-12-23T13:00:00",
          "2020-12-23T13:30:00",
          "2020-12-23T14:00:00",
          "2020-12-23T14:30:00",
          "2020-12-23T15:00:00",
          "2020-12-23T15:30:00",
          "2020-12-23T16:00:00",
          "2020-12-23T16:30:00",
          "2020-12-23T17:00:00",
          "2020-12-23T17:30:00",
          "2020-12-23T18:00:00",
          "2020-12-23T18:30:00",
          "2020-12-23T19:00:00",
          "2020-12-23T19:30:00",
          "2020-12-23T20:00:00",
          "2020-12-23T20:30:00",
          "2020-12-23T21:00:00",
          "2020-12-23T21:30:00",
          "2020-12-23T22:00:00",
          "2020-12-23T22:30:00",
          "2020-12-23T23:00:00",
          "2020-12-23T23:30:00",
          "2020-12-24T00:00:00",
          "2020-12-24T00:30:00",
          "2020-12-24T01:00:00",
          "2020-12-24T01:30:00",
          "2020-12-24T02:00:00",
          "2020-12-24T02:30:00",
          "2020-12-24T03:00:00",
          "2020-12-24T03:30:00",
          "2020-12-24T04:00:00",
          "2020-12-24T04:30:00",
          "2020-12-24T05:00:00",
          "2020-12-24T05:30:00",
          "2020-12-24T06:00:00",
          "2020-12-24T06:30:00",
          "2020-12-24T07:00:00",
          "2020-12-24T07:30:00",
          "2020-12-24T08:00:00",
          "2020-12-24T08:30:00",
          "2020-12-24T09:00:00",
          "2020-12-24T09:30:00",
          "2020-12-24T10:00:00",
          "2020-12-24T10:30:00",
          "2020-12-24T11:00:00",
          "2020-12-24T11:30:00",
          "2020-12-24T12:00:00",
          "2020-12-24T12:30:00",
          "2020-12-24T13:00:00",
          "2020-12-24T13:30:00",
          "2020-12-24T14:00:00",
          "2020-12-24T14:30:00",
          "2020-12-24T15:00:00",
          "2020-12-24T15:30:00",
          "2020-12-24T16:00:00",
          "2020-12-24T16:30:00",
          "2020-12-24T17:00:00",
          "2020-12-24T17:30:00",
          "2020-12-24T18:00:00",
          "2020-12-24T18:30:00",
          "2020-12-24T19:00:00",
          "2020-12-24T19:30:00",
          "2020-12-24T20:00:00",
          "2020-12-24T20:30:00",
          "2020-12-24T21:00:00",
          "2020-12-24T21:30:00",
          "2020-12-24T22:00:00",
          "2020-12-24T22:30:00",
          "2020-12-24T23:00:00",
          "2020-12-24T23:30:00",
          "2020-12-25T00:00:00",
          "2020-12-25T00:30:00",
          "2020-12-25T01:00:00",
          "2020-12-25T01:30:00",
          "2020-12-25T02:00:00",
          "2020-12-25T02:30:00",
          "2020-12-25T03:00:00",
          "2020-12-25T03:30:00",
          "2020-12-25T04:00:00",
          "2020-12-25T04:30:00",
          "2020-12-25T05:00:00",
          "2020-12-25T05:30:00",
          "2020-12-25T06:00:00",
          "2020-12-25T06:30:00",
          "2020-12-25T07:00:00",
          "2020-12-25T07:30:00",
          "2020-12-25T08:00:00",
          "2020-12-25T08:30:00",
          "2020-12-25T09:00:00",
          "2020-12-25T09:30:00",
          "2020-12-25T10:00:00",
          "2020-12-25T10:30:00",
          "2020-12-25T11:00:00",
          "2020-12-25T11:30:00",
          "2020-12-25T12:00:00",
          "2020-12-25T12:30:00",
          "2020-12-25T13:00:00",
          "2020-12-25T13:30:00",
          "2020-12-25T14:00:00",
          "2020-12-25T14:30:00",
          "2020-12-25T15:00:00",
          "2020-12-25T15:30:00",
          "2020-12-25T16:00:00",
          "2020-12-25T16:30:00",
          "2020-12-25T17:00:00",
          "2020-12-25T17:30:00",
          "2020-12-25T18:00:00",
          "2020-12-25T18:30:00",
          "2020-12-25T19:00:00",
          "2020-12-25T19:30:00",
          "2020-12-25T20:00:00",
          "2020-12-25T20:30:00",
          "2020-12-25T21:00:00",
          "2020-12-25T21:30:00",
          "2020-12-25T22:00:00",
          "2020-12-25T22:30:00",
          "2020-12-25T23:00:00",
          "2020-12-25T23:30:00",
          "2020-12-26T00:00:00",
          "2020-12-26T00:30:00",
          "2020-12-26T01:00:00",
          "2020-12-26T01:30:00",
          "2020-12-26T02:00:00",
          "2020-12-26T02:30:00",
          "2020-12-26T03:00:00",
          "2020-12-26T03:30:00",
          "2020-12-26T04:00:00",
          "2020-12-26T04:30:00",
          "2020-12-26T05:00:00",
          "2020-12-26T05:30:00",
          "2020-12-26T06:00:00",
          "2020-12-26T06:30:00",
          "2020-12-26T07:00:00",
          "2020-12-26T07:30:00",
          "2020-12-26T08:00:00",
          "2020-12-26T08:30:00",
          "2020-12-26T09:00:00",
          "2020-12-26T09:30:00",
          "2020-12-26T10:00:00",
          "2020-12-26T10:30:00",
          "2020-12-26T11:00:00",
          "2020-12-26T11:30:00",
          "2020-12-26T12:00:00",
          "2020-12-26T12:30:00",
          "2020-12-26T13:00:00",
          "2020-12-26T13:30:00",
          "2020-12-26T14:00:00",
          "2020-12-26T14:30:00",
          "2020-12-26T15:00:00",
          "2020-12-26T15:30:00",
          "2020-12-26T16:00:00",
          "2020-12-26T16:30:00",
          "2020-12-26T17:00:00",
          "2020-12-26T17:30:00",
          "2020-12-26T18:00:00",
          "2020-12-26T18:30:00",
          "2020-12-26T19:00:00",
          "2020-12-26T19:30:00",
          "2020-12-26T20:00:00",
          "2020-12-26T20:30:00",
          "2020-12-26T21:00:00",
          "2020-12-26T21:30:00",
          "2020-12-26T22:00:00",
          "2020-12-26T22:30:00",
          "2020-12-26T23:00:00",
          "2020-12-26T23:30:00",
          "2020-12-27T00:00:00",
          "2020-12-27T00:30:00",
          "2020-12-27T01:00:00",
          "2020-12-27T01:30:00",
          "2020-12-27T02:00:00",
          "2020-12-27T02:30:00",
          "2020-12-27T03:00:00",
          "2020-12-27T03:30:00",
          "2020-12-27T04:00:00",
          "2020-12-27T04:30:00",
          "2020-12-27T05:00:00",
          "2020-12-27T05:30:00",
          "2020-12-27T06:00:00",
          "2020-12-27T06:30:00",
          "2020-12-27T07:00:00",
          "2020-12-27T07:30:00",
          "2020-12-27T08:00:00",
          "2020-12-27T08:30:00",
          "2020-12-27T09:00:00",
          "2020-12-27T09:30:00",
          "2020-12-27T10:00:00",
          "2020-12-27T10:30:00",
          "2020-12-27T11:00:00",
          "2020-12-27T11:30:00",
          "2020-12-27T12:00:00",
          "2020-12-27T12:30:00",
          "2020-12-27T13:00:00",
          "2020-12-27T13:30:00",
          "2020-12-27T14:00:00",
          "2020-12-27T14:30:00",
          "2020-12-27T15:00:00",
          "2020-12-27T15:30:00",
          "2020-12-27T16:00:00",
          "2020-12-27T16:30:00",
          "2020-12-27T17:00:00",
          "2020-12-27T17:30:00",
          "2020-12-27T18:00:00",
          "2020-12-27T18:30:00",
          "2020-12-27T19:00:00",
          "2020-12-27T19:30:00",
          "2020-12-27T20:00:00",
          "2020-12-27T20:30:00",
          "2020-12-27T21:00:00",
          "2020-12-27T21:30:00",
          "2020-12-27T22:00:00",
          "2020-12-27T22:30:00",
          "2020-12-27T23:00:00",
          "2020-12-27T23:30:00",
          "2020-12-28T00:00:00"
         ],
         "y": [
          null,
          null,
          null,
          null,
          null,
          null,
          null,
          null,
          null,
          null,
          null,
          null,
          null,
          null,
          null,
          null,
          null,
          null,
          null,
          null,
          null,
          null,
          null,
          null,
          null,
          null,
          null,
          null,
          null,
          null,
          null,
          null,
          null,
          null,
          null,
          null,
          null,
          null,
          null,
          null,
          null,
          null,
          null,
          null,
          null,
          null,
          null,
          null,
          null,
          null,
          null,
          null,
          null,
          null,
          null,
          null,
          null,
          null,
          null,
          null,
          null,
          null,
          null,
          null,
          null,
          null,
          null,
          null,
          null,
          null,
          null,
          null,
          null,
          null,
          null,
          null,
          null,
          null,
          null,
          null,
          null,
          null,
          null,
          null,
          null,
          null,
          null,
          null,
          null,
          null,
          null,
          null,
          null,
          null,
          null,
          null,
          null,
          null,
          null,
          null,
          null,
          null,
          null,
          null,
          null,
          null,
          null,
          null,
          null,
          null,
          null,
          null,
          null,
          null,
          null,
          null,
          null,
          null,
          null,
          null,
          null,
          null,
          null,
          null,
          null,
          null,
          null,
          null,
          null,
          null,
          null,
          null,
          null,
          null,
          null,
          null,
          null,
          null,
          null,
          null,
          null,
          null,
          null,
          null,
          null,
          null,
          null,
          null,
          null,
          null,
          null,
          null,
          null,
          null,
          null,
          null,
          null,
          null,
          null,
          null,
          null,
          null,
          null,
          null,
          null,
          null,
          null,
          null,
          null,
          null,
          null,
          null,
          null,
          null,
          null,
          null,
          null,
          null,
          null,
          null,
          null,
          null,
          null,
          null,
          null,
          null,
          null,
          null,
          null,
          null,
          null,
          null,
          null,
          null,
          null,
          null,
          null,
          null,
          null,
          null,
          null,
          null,
          null,
          null,
          null,
          null,
          null,
          null,
          null,
          null,
          null,
          null,
          null,
          null,
          null,
          null,
          null,
          null,
          null,
          null,
          null,
          null,
          null,
          null,
          null,
          null,
          null,
          null,
          null,
          null,
          null,
          null,
          null,
          null,
          null,
          null,
          null,
          null,
          null,
          null,
          0.020532876253128052,
          0.020390748977661133,
          0.020448610186576843,
          0.020616471767425537,
          0.02067197859287262,
          0.020393922924995422,
          0.019952967762947083,
          0.019413352012634277,
          0.01909281313419342,
          0.018953830003738403,
          0.01883375644683838,
          0.01834098994731903,
          0.01707156002521515,
          0.014757886528968811,
          0.011471077799797058,
          0.007680907845497131,
          0.004020661115646362,
          0.0011044293642044067,
          -0.000642821192741394,
          -0.001337006688117981,
          -0.0012270957231521606,
          -0.0008643120527267456,
          -0.0008043497800827026,
          -0.0012815296649932861,
          -0.0024546533823013306,
          -0.004229292273521423,
          -0.006370633840560913,
          -0.008577004075050354,
          -0.010428249835968018,
          -0.01158951222896576,
          -0.011609837412834167,
          -0.0102759450674057,
          -0.0075685083866119385,
          -0.0037915557622909546,
          0.0004925131797790527,
          0.004594713449478149,
          0.007874742150306702,
          0.01003161072731018,
          0.011176541447639465,
          0.011722952127456665,
          0.012200132012367249,
          0.01295134425163269,
          0.014119043946266174,
          0.015549197793006897,
          0.016923978924751282,
          0.017938002943992615,
          0.01846759021282196,
          0.018643230199813843
         ]
        },
        {
         "marker": {
          "color": "black",
          "size": 4
         },
         "mode": "markers",
         "name": "Actual",
         "type": "scatter",
         "x": [
          "2020-12-22T00:30:00",
          "2020-12-22T01:00:00",
          "2020-12-22T01:30:00",
          "2020-12-22T02:00:00",
          "2020-12-22T02:30:00",
          "2020-12-22T03:00:00",
          "2020-12-22T03:30:00",
          "2020-12-22T04:00:00",
          "2020-12-22T04:30:00",
          "2020-12-22T05:00:00",
          "2020-12-22T05:30:00",
          "2020-12-22T06:00:00",
          "2020-12-22T06:30:00",
          "2020-12-22T07:00:00",
          "2020-12-22T07:30:00",
          "2020-12-22T08:00:00",
          "2020-12-22T08:30:00",
          "2020-12-22T09:00:00",
          "2020-12-22T09:30:00",
          "2020-12-22T10:00:00",
          "2020-12-22T10:30:00",
          "2020-12-22T11:00:00",
          "2020-12-22T11:30:00",
          "2020-12-22T12:00:00",
          "2020-12-22T12:30:00",
          "2020-12-22T13:00:00",
          "2020-12-22T13:30:00",
          "2020-12-22T14:00:00",
          "2020-12-22T14:30:00",
          "2020-12-22T15:00:00",
          "2020-12-22T15:30:00",
          "2020-12-22T16:00:00",
          "2020-12-22T16:30:00",
          "2020-12-22T17:00:00",
          "2020-12-22T17:30:00",
          "2020-12-22T18:00:00",
          "2020-12-22T18:30:00",
          "2020-12-22T19:00:00",
          "2020-12-22T19:30:00",
          "2020-12-22T20:00:00",
          "2020-12-22T20:30:00",
          "2020-12-22T21:00:00",
          "2020-12-22T21:30:00",
          "2020-12-22T22:00:00",
          "2020-12-22T22:30:00",
          "2020-12-22T23:00:00",
          "2020-12-22T23:30:00",
          "2020-12-23T00:00:00",
          "2020-12-23T00:30:00",
          "2020-12-23T01:00:00",
          "2020-12-23T01:30:00",
          "2020-12-23T02:00:00",
          "2020-12-23T02:30:00",
          "2020-12-23T03:00:00",
          "2020-12-23T03:30:00",
          "2020-12-23T04:00:00",
          "2020-12-23T04:30:00",
          "2020-12-23T05:00:00",
          "2020-12-23T05:30:00",
          "2020-12-23T06:00:00",
          "2020-12-23T06:30:00",
          "2020-12-23T07:00:00",
          "2020-12-23T07:30:00",
          "2020-12-23T08:00:00",
          "2020-12-23T08:30:00",
          "2020-12-23T09:00:00",
          "2020-12-23T09:30:00",
          "2020-12-23T10:00:00",
          "2020-12-23T10:30:00",
          "2020-12-23T11:00:00",
          "2020-12-23T11:30:00",
          "2020-12-23T12:00:00",
          "2020-12-23T12:30:00",
          "2020-12-23T13:00:00",
          "2020-12-23T13:30:00",
          "2020-12-23T14:00:00",
          "2020-12-23T14:30:00",
          "2020-12-23T15:00:00",
          "2020-12-23T15:30:00",
          "2020-12-23T16:00:00",
          "2020-12-23T16:30:00",
          "2020-12-23T17:00:00",
          "2020-12-23T17:30:00",
          "2020-12-23T18:00:00",
          "2020-12-23T18:30:00",
          "2020-12-23T19:00:00",
          "2020-12-23T19:30:00",
          "2020-12-23T20:00:00",
          "2020-12-23T20:30:00",
          "2020-12-23T21:00:00",
          "2020-12-23T21:30:00",
          "2020-12-23T22:00:00",
          "2020-12-23T22:30:00",
          "2020-12-23T23:00:00",
          "2020-12-23T23:30:00",
          "2020-12-24T00:00:00",
          "2020-12-24T00:30:00",
          "2020-12-24T01:00:00",
          "2020-12-24T01:30:00",
          "2020-12-24T02:00:00",
          "2020-12-24T02:30:00",
          "2020-12-24T03:00:00",
          "2020-12-24T03:30:00",
          "2020-12-24T04:00:00",
          "2020-12-24T04:30:00",
          "2020-12-24T05:00:00",
          "2020-12-24T05:30:00",
          "2020-12-24T06:00:00",
          "2020-12-24T06:30:00",
          "2020-12-24T07:00:00",
          "2020-12-24T07:30:00",
          "2020-12-24T08:00:00",
          "2020-12-24T08:30:00",
          "2020-12-24T09:00:00",
          "2020-12-24T09:30:00",
          "2020-12-24T10:00:00",
          "2020-12-24T10:30:00",
          "2020-12-24T11:00:00",
          "2020-12-24T11:30:00",
          "2020-12-24T12:00:00",
          "2020-12-24T12:30:00",
          "2020-12-24T13:00:00",
          "2020-12-24T13:30:00",
          "2020-12-24T14:00:00",
          "2020-12-24T14:30:00",
          "2020-12-24T15:00:00",
          "2020-12-24T15:30:00",
          "2020-12-24T16:00:00",
          "2020-12-24T16:30:00",
          "2020-12-24T17:00:00",
          "2020-12-24T17:30:00",
          "2020-12-24T18:00:00",
          "2020-12-24T18:30:00",
          "2020-12-24T19:00:00",
          "2020-12-24T19:30:00",
          "2020-12-24T20:00:00",
          "2020-12-24T20:30:00",
          "2020-12-24T21:00:00",
          "2020-12-24T21:30:00",
          "2020-12-24T22:00:00",
          "2020-12-24T22:30:00",
          "2020-12-24T23:00:00",
          "2020-12-24T23:30:00",
          "2020-12-25T00:00:00",
          "2020-12-25T00:30:00",
          "2020-12-25T01:00:00",
          "2020-12-25T01:30:00",
          "2020-12-25T02:00:00",
          "2020-12-25T02:30:00",
          "2020-12-25T03:00:00",
          "2020-12-25T03:30:00",
          "2020-12-25T04:00:00",
          "2020-12-25T04:30:00",
          "2020-12-25T05:00:00",
          "2020-12-25T05:30:00",
          "2020-12-25T06:00:00",
          "2020-12-25T06:30:00",
          "2020-12-25T07:00:00",
          "2020-12-25T07:30:00",
          "2020-12-25T08:00:00",
          "2020-12-25T08:30:00",
          "2020-12-25T09:00:00",
          "2020-12-25T09:30:00",
          "2020-12-25T10:00:00",
          "2020-12-25T10:30:00",
          "2020-12-25T11:00:00",
          "2020-12-25T11:30:00",
          "2020-12-25T12:00:00",
          "2020-12-25T12:30:00",
          "2020-12-25T13:00:00",
          "2020-12-25T13:30:00",
          "2020-12-25T14:00:00",
          "2020-12-25T14:30:00",
          "2020-12-25T15:00:00",
          "2020-12-25T15:30:00",
          "2020-12-25T16:00:00",
          "2020-12-25T16:30:00",
          "2020-12-25T17:00:00",
          "2020-12-25T17:30:00",
          "2020-12-25T18:00:00",
          "2020-12-25T18:30:00",
          "2020-12-25T19:00:00",
          "2020-12-25T19:30:00",
          "2020-12-25T20:00:00",
          "2020-12-25T20:30:00",
          "2020-12-25T21:00:00",
          "2020-12-25T21:30:00",
          "2020-12-25T22:00:00",
          "2020-12-25T22:30:00",
          "2020-12-25T23:00:00",
          "2020-12-25T23:30:00",
          "2020-12-26T00:00:00",
          "2020-12-26T00:30:00",
          "2020-12-26T01:00:00",
          "2020-12-26T01:30:00",
          "2020-12-26T02:00:00",
          "2020-12-26T02:30:00",
          "2020-12-26T03:00:00",
          "2020-12-26T03:30:00",
          "2020-12-26T04:00:00",
          "2020-12-26T04:30:00",
          "2020-12-26T05:00:00",
          "2020-12-26T05:30:00",
          "2020-12-26T06:00:00",
          "2020-12-26T06:30:00",
          "2020-12-26T07:00:00",
          "2020-12-26T07:30:00",
          "2020-12-26T08:00:00",
          "2020-12-26T08:30:00",
          "2020-12-26T09:00:00",
          "2020-12-26T09:30:00",
          "2020-12-26T10:00:00",
          "2020-12-26T10:30:00",
          "2020-12-26T11:00:00",
          "2020-12-26T11:30:00",
          "2020-12-26T12:00:00",
          "2020-12-26T12:30:00",
          "2020-12-26T13:00:00",
          "2020-12-26T13:30:00",
          "2020-12-26T14:00:00",
          "2020-12-26T14:30:00",
          "2020-12-26T15:00:00",
          "2020-12-26T15:30:00",
          "2020-12-26T16:00:00",
          "2020-12-26T16:30:00",
          "2020-12-26T17:00:00",
          "2020-12-26T17:30:00",
          "2020-12-26T18:00:00",
          "2020-12-26T18:30:00",
          "2020-12-26T19:00:00",
          "2020-12-26T19:30:00",
          "2020-12-26T20:00:00",
          "2020-12-26T20:30:00",
          "2020-12-26T21:00:00",
          "2020-12-26T21:30:00",
          "2020-12-26T22:00:00",
          "2020-12-26T22:30:00",
          "2020-12-26T23:00:00",
          "2020-12-26T23:30:00",
          "2020-12-27T00:00:00",
          "2020-12-27T00:30:00",
          "2020-12-27T01:00:00",
          "2020-12-27T01:30:00",
          "2020-12-27T02:00:00",
          "2020-12-27T02:30:00",
          "2020-12-27T03:00:00",
          "2020-12-27T03:30:00",
          "2020-12-27T04:00:00",
          "2020-12-27T04:30:00",
          "2020-12-27T05:00:00",
          "2020-12-27T05:30:00",
          "2020-12-27T06:00:00",
          "2020-12-27T06:30:00",
          "2020-12-27T07:00:00",
          "2020-12-27T07:30:00",
          "2020-12-27T08:00:00",
          "2020-12-27T08:30:00",
          "2020-12-27T09:00:00",
          "2020-12-27T09:30:00",
          "2020-12-27T10:00:00",
          "2020-12-27T10:30:00",
          "2020-12-27T11:00:00",
          "2020-12-27T11:30:00",
          "2020-12-27T12:00:00",
          "2020-12-27T12:30:00",
          "2020-12-27T13:00:00",
          "2020-12-27T13:30:00",
          "2020-12-27T14:00:00",
          "2020-12-27T14:30:00",
          "2020-12-27T15:00:00",
          "2020-12-27T15:30:00",
          "2020-12-27T16:00:00",
          "2020-12-27T16:30:00",
          "2020-12-27T17:00:00",
          "2020-12-27T17:30:00",
          "2020-12-27T18:00:00",
          "2020-12-27T18:30:00",
          "2020-12-27T19:00:00",
          "2020-12-27T19:30:00",
          "2020-12-27T20:00:00",
          "2020-12-27T20:30:00",
          "2020-12-27T21:00:00",
          "2020-12-27T21:30:00",
          "2020-12-27T22:00:00",
          "2020-12-27T22:30:00",
          "2020-12-27T23:00:00",
          "2020-12-27T23:30:00",
          "2020-12-28T00:00:00"
         ],
         "y": [
          -0.004163368605077267,
          0.03397835046052933,
          0.017897063866257668,
          0.004180301912128925,
          0.00547605287283659,
          0.010595284402370453,
          0.0391165092587471,
          0.017582232132554054,
          0.013477724976837635,
          0.013477724976837635,
          0.013477724976837635,
          0.013477724976837635,
          0.013477724976837635,
          0.013477724976837635,
          -0.025849882513284683,
          0.013147750869393349,
          0.0038386741653084755,
          0.009560633450746536,
          0.018483184278011322,
          -0.0056417034938931465,
          0.011562681756913662,
          0.019306950271129608,
          0.0043770065531134605,
          -0.01841580495238304,
          -0.017930924892425537,
          -0.015282501466572285,
          -0.022955194115638733,
          -0.009016032330691814,
          -0.036495327949523926,
          -0.02538027986884117,
          -0.05280797556042671,
          -0.045794304460287094,
          -0.0014792205765843391,
          -0.003320540301501751,
          0.0024303914979100227,
          0.0008919155225157738,
          0.004323097877204418,
          -0.00937569048255682,
          0.01071603037416935,
          0.01001080684363842,
          0.03639189898967743,
          0.027591004967689514,
          0.015963463112711906,
          0.003081190399825573,
          0.017893273383378983,
          0.015018019825220108,
          0.01203218288719654,
          0.01422678492963314,
          0.007965687662363052,
          0.0011283764615654945,
          0.010186332277953625,
          -0.0021461499854922295,
          -0.0013251947239041328,
          0.008760413154959679,
          0.014755863696336746,
          0.035063233226537704,
          0.009051693603396416,
          0.013477724976837635,
          0.013477724976837635,
          0.013477724976837635,
          0.013477724976837635,
          0.013477724976837635,
          0.013477724976837635,
          0.0117290448397398,
          -0.021120604127645493,
          0.002673204056918621,
          0.006564654875546694,
          0.0037071174010634422,
          0.015615422278642654,
          0.010097324848175049,
          -0.022040583193302155,
          -0.02255387231707573,
          -0.01854385808110237,
          -0.027493916451931,
          -0.02094687521457672,
          -0.013813863508403301,
          -0.004159591160714626,
          -0.006601995788514614,
          -0.02818473055958748,
          -0.015130649320781231,
          0.0014435099437832832,
          0.008501904085278511,
          0.006209729705005884,
          0.023637857288122177,
          -0.01187650766223669,
          0.018574867397546768,
          0.014836262911558151,
          0.006478044204413891,
          0.004013132303953171,
          0.005363336764276028,
          0.038782745599746704,
          0.01688927225768566,
          0.004914204590022564,
          0.007989399135112762,
          0.032914578914642334,
          0.0021812589839100838,
          0.006625563837587833,
          0.009428894147276878,
          0.017548883333802223,
          0.03248719498515129,
          0.006240703631192446,
          0.012577437795698643,
          0.01369687169790268,
          0.04251152649521828,
          0.04122119024395943,
          0.028880365192890167,
          0.03193448856472969,
          0.013477724976837635,
          0.013477724976837635,
          0.013477724976837635,
          0.013477724976837635,
          0.02016162872314453,
          0.0015501221641898155,
          0.03640548884868622,
          0.03042302280664444,
          0.021437671035528183,
          0.020862510427832603,
          -0.029659632593393326,
          -0.020262327045202255,
          0.0022486457601189613,
          -0.015610567294061184,
          -0.021556146442890167,
          -0.0055833617225289345,
          -8.64928588271141e-05,
          -0.0014116344973444939,
          -0.0002631107345223427,
          -0.0034835850819945335,
          -0.022161129862070084,
          -0.018673907965421677,
          0.00623320834711194,
          -0.005525895394384861,
          0.008978812023997307,
          0.003879721276462078,
          0.01330145075917244,
          0.024270866066217422,
          0.027072299271821976,
          0.017739204689860344,
          0.020232047885656357,
          0.024586785584688187,
          0.019849998876452446,
          0.015924634411931038,
          0.0091317780315876,
          0.040071841329336166,
          0.02226552739739418,
          0.04241327941417694,
          0.021876826882362366,
          0.0004007359966635704,
          0.01656201481819153,
          0.017582764849066734,
          -0.0003431113436818123,
          0.013063415884971619,
          -0.025950361043214798,
          0.0016195764765143394,
          0.01003328152000904,
          0.011392181739211082,
          0.013477724976837635,
          0.013477724976837635,
          0.013477724976837635,
          0.013477724976837635,
          0.008263550698757172,
          -0.008186631835997105,
          -0.006084366701543331,
          0.0018382491543889046,
          0.0007727453485131264,
          -0.01710567995905876,
          -0.014931309036910534,
          0.021999888122081757,
          0.0019656913354992867,
          -0.011512703262269497,
          0.022603094577789307,
          0.03862600028514862,
          0.0039429133757948875,
          0.06662474572658539,
          0.058662623167037964,
          0.03696266934275627,
          0.0277966670691967,
          0.00423689279705286,
          0.023710250854492188,
          0.025747813284397125,
          0.04065592959523201,
          -0.00037986692041158676,
          0.022192038595676422,
          -0.01365868654102087,
          0.03193384408950806,
          0.028765294700860977,
          0.03597300499677658,
          0.04337561875581741,
          0.06649981439113617,
          0.04788008704781532,
          0.01824251003563404,
          0.04318184033036232,
          0.05185049772262573,
          0.05866909399628639,
          0.013477724976837635,
          0.013477724976837635,
          0.013477724976837635,
          0.013477724976837635,
          0.013477724976837635,
          0.013477724976837635,
          0.013477724976837635,
          0.013477724976837635,
          0.013477724976837635,
          0.013477724976837635,
          0.013477724976837635,
          0.013477724976837635,
          0.013477724976837635,
          0.0581367164850235,
          0.03378436341881752,
          0.05092010274529457,
          0.040874239057302475,
          0.0354408323764801,
          0.036752667278051376,
          0.021897729486227036,
          0.00989830307662487,
          0.007578372489660978,
          -0.003832782618701458,
          -0.004892590455710888,
          0.015019234269857407,
          0.0025629187002778053,
          -0.009814583696424961,
          -0.027174998074769974,
          -0.03104151412844658,
          -0.037268172949552536,
          -0.032953619956970215,
          -0.011985084973275661,
          -0.00872523058205843,
          -0.011488008312880993,
          -0.008812953718006611,
          0.0015785107389092445,
          -0.000792953185737133,
          0.01031176932156086,
          -0.019928738474845886,
          0.005754175595939159,
          -0.011139719747006893,
          -0.003388400189578533,
          0.03393678367137909,
          0.008399096317589283,
          -0.006850515492260456,
          0.03263174369931221,
          0.040984462946653366,
          null,
          null,
          null,
          null,
          null,
          null,
          null,
          null,
          null,
          null,
          null,
          null,
          null,
          null,
          null,
          null,
          null,
          null,
          null,
          null,
          null,
          null,
          null,
          null,
          null,
          null,
          null,
          null,
          null,
          null,
          null,
          null,
          null,
          null,
          null,
          null,
          null,
          null,
          null,
          null,
          null,
          null,
          null,
          null,
          null,
          null,
          null,
          null
         ]
        }
       ],
       "layout": {
        "autosize": true,
        "font": {
         "size": 10
        },
        "height": 700,
        "hovermode": "x unified",
        "margin": {
         "b": 0,
         "l": 0,
         "pad": 0,
         "r": 10,
         "t": 10
        },
        "showlegend": true,
        "template": {
         "data": {
          "bar": [
           {
            "error_x": {
             "color": "#2a3f5f"
            },
            "error_y": {
             "color": "#2a3f5f"
            },
            "marker": {
             "line": {
              "color": "white",
              "width": 0.5
             },
             "pattern": {
              "fillmode": "overlay",
              "size": 10,
              "solidity": 0.2
             }
            },
            "type": "bar"
           }
          ],
          "barpolar": [
           {
            "marker": {
             "line": {
              "color": "white",
              "width": 0.5
             },
             "pattern": {
              "fillmode": "overlay",
              "size": 10,
              "solidity": 0.2
             }
            },
            "type": "barpolar"
           }
          ],
          "carpet": [
           {
            "aaxis": {
             "endlinecolor": "#2a3f5f",
             "gridcolor": "#C8D4E3",
             "linecolor": "#C8D4E3",
             "minorgridcolor": "#C8D4E3",
             "startlinecolor": "#2a3f5f"
            },
            "baxis": {
             "endlinecolor": "#2a3f5f",
             "gridcolor": "#C8D4E3",
             "linecolor": "#C8D4E3",
             "minorgridcolor": "#C8D4E3",
             "startlinecolor": "#2a3f5f"
            },
            "type": "carpet"
           }
          ],
          "choropleth": [
           {
            "colorbar": {
             "outlinewidth": 0,
             "ticks": ""
            },
            "type": "choropleth"
           }
          ],
          "contour": [
           {
            "colorbar": {
             "outlinewidth": 0,
             "ticks": ""
            },
            "colorscale": [
             [
              0,
              "#0d0887"
             ],
             [
              0.1111111111111111,
              "#46039f"
             ],
             [
              0.2222222222222222,
              "#7201a8"
             ],
             [
              0.3333333333333333,
              "#9c179e"
             ],
             [
              0.4444444444444444,
              "#bd3786"
             ],
             [
              0.5555555555555556,
              "#d8576b"
             ],
             [
              0.6666666666666666,
              "#ed7953"
             ],
             [
              0.7777777777777778,
              "#fb9f3a"
             ],
             [
              0.8888888888888888,
              "#fdca26"
             ],
             [
              1,
              "#f0f921"
             ]
            ],
            "type": "contour"
           }
          ],
          "contourcarpet": [
           {
            "colorbar": {
             "outlinewidth": 0,
             "ticks": ""
            },
            "type": "contourcarpet"
           }
          ],
          "heatmap": [
           {
            "colorbar": {
             "outlinewidth": 0,
             "ticks": ""
            },
            "colorscale": [
             [
              0,
              "#0d0887"
             ],
             [
              0.1111111111111111,
              "#46039f"
             ],
             [
              0.2222222222222222,
              "#7201a8"
             ],
             [
              0.3333333333333333,
              "#9c179e"
             ],
             [
              0.4444444444444444,
              "#bd3786"
             ],
             [
              0.5555555555555556,
              "#d8576b"
             ],
             [
              0.6666666666666666,
              "#ed7953"
             ],
             [
              0.7777777777777778,
              "#fb9f3a"
             ],
             [
              0.8888888888888888,
              "#fdca26"
             ],
             [
              1,
              "#f0f921"
             ]
            ],
            "type": "heatmap"
           }
          ],
          "heatmapgl": [
           {
            "colorbar": {
             "outlinewidth": 0,
             "ticks": ""
            },
            "colorscale": [
             [
              0,
              "#0d0887"
             ],
             [
              0.1111111111111111,
              "#46039f"
             ],
             [
              0.2222222222222222,
              "#7201a8"
             ],
             [
              0.3333333333333333,
              "#9c179e"
             ],
             [
              0.4444444444444444,
              "#bd3786"
             ],
             [
              0.5555555555555556,
              "#d8576b"
             ],
             [
              0.6666666666666666,
              "#ed7953"
             ],
             [
              0.7777777777777778,
              "#fb9f3a"
             ],
             [
              0.8888888888888888,
              "#fdca26"
             ],
             [
              1,
              "#f0f921"
             ]
            ],
            "type": "heatmapgl"
           }
          ],
          "histogram": [
           {
            "marker": {
             "pattern": {
              "fillmode": "overlay",
              "size": 10,
              "solidity": 0.2
             }
            },
            "type": "histogram"
           }
          ],
          "histogram2d": [
           {
            "colorbar": {
             "outlinewidth": 0,
             "ticks": ""
            },
            "colorscale": [
             [
              0,
              "#0d0887"
             ],
             [
              0.1111111111111111,
              "#46039f"
             ],
             [
              0.2222222222222222,
              "#7201a8"
             ],
             [
              0.3333333333333333,
              "#9c179e"
             ],
             [
              0.4444444444444444,
              "#bd3786"
             ],
             [
              0.5555555555555556,
              "#d8576b"
             ],
             [
              0.6666666666666666,
              "#ed7953"
             ],
             [
              0.7777777777777778,
              "#fb9f3a"
             ],
             [
              0.8888888888888888,
              "#fdca26"
             ],
             [
              1,
              "#f0f921"
             ]
            ],
            "type": "histogram2d"
           }
          ],
          "histogram2dcontour": [
           {
            "colorbar": {
             "outlinewidth": 0,
             "ticks": ""
            },
            "colorscale": [
             [
              0,
              "#0d0887"
             ],
             [
              0.1111111111111111,
              "#46039f"
             ],
             [
              0.2222222222222222,
              "#7201a8"
             ],
             [
              0.3333333333333333,
              "#9c179e"
             ],
             [
              0.4444444444444444,
              "#bd3786"
             ],
             [
              0.5555555555555556,
              "#d8576b"
             ],
             [
              0.6666666666666666,
              "#ed7953"
             ],
             [
              0.7777777777777778,
              "#fb9f3a"
             ],
             [
              0.8888888888888888,
              "#fdca26"
             ],
             [
              1,
              "#f0f921"
             ]
            ],
            "type": "histogram2dcontour"
           }
          ],
          "mesh3d": [
           {
            "colorbar": {
             "outlinewidth": 0,
             "ticks": ""
            },
            "type": "mesh3d"
           }
          ],
          "parcoords": [
           {
            "line": {
             "colorbar": {
              "outlinewidth": 0,
              "ticks": ""
             }
            },
            "type": "parcoords"
           }
          ],
          "pie": [
           {
            "automargin": true,
            "type": "pie"
           }
          ],
          "scatter": [
           {
            "fillpattern": {
             "fillmode": "overlay",
             "size": 10,
             "solidity": 0.2
            },
            "type": "scatter"
           }
          ],
          "scatter3d": [
           {
            "line": {
             "colorbar": {
              "outlinewidth": 0,
              "ticks": ""
             }
            },
            "marker": {
             "colorbar": {
              "outlinewidth": 0,
              "ticks": ""
             }
            },
            "type": "scatter3d"
           }
          ],
          "scattercarpet": [
           {
            "marker": {
             "colorbar": {
              "outlinewidth": 0,
              "ticks": ""
             }
            },
            "type": "scattercarpet"
           }
          ],
          "scattergeo": [
           {
            "marker": {
             "colorbar": {
              "outlinewidth": 0,
              "ticks": ""
             }
            },
            "type": "scattergeo"
           }
          ],
          "scattergl": [
           {
            "marker": {
             "colorbar": {
              "outlinewidth": 0,
              "ticks": ""
             }
            },
            "type": "scattergl"
           }
          ],
          "scattermapbox": [
           {
            "marker": {
             "colorbar": {
              "outlinewidth": 0,
              "ticks": ""
             }
            },
            "type": "scattermapbox"
           }
          ],
          "scatterpolar": [
           {
            "marker": {
             "colorbar": {
              "outlinewidth": 0,
              "ticks": ""
             }
            },
            "type": "scatterpolar"
           }
          ],
          "scatterpolargl": [
           {
            "marker": {
             "colorbar": {
              "outlinewidth": 0,
              "ticks": ""
             }
            },
            "type": "scatterpolargl"
           }
          ],
          "scatterternary": [
           {
            "marker": {
             "colorbar": {
              "outlinewidth": 0,
              "ticks": ""
             }
            },
            "type": "scatterternary"
           }
          ],
          "surface": [
           {
            "colorbar": {
             "outlinewidth": 0,
             "ticks": ""
            },
            "colorscale": [
             [
              0,
              "#0d0887"
             ],
             [
              0.1111111111111111,
              "#46039f"
             ],
             [
              0.2222222222222222,
              "#7201a8"
             ],
             [
              0.3333333333333333,
              "#9c179e"
             ],
             [
              0.4444444444444444,
              "#bd3786"
             ],
             [
              0.5555555555555556,
              "#d8576b"
             ],
             [
              0.6666666666666666,
              "#ed7953"
             ],
             [
              0.7777777777777778,
              "#fb9f3a"
             ],
             [
              0.8888888888888888,
              "#fdca26"
             ],
             [
              1,
              "#f0f921"
             ]
            ],
            "type": "surface"
           }
          ],
          "table": [
           {
            "cells": {
             "fill": {
              "color": "#EBF0F8"
             },
             "line": {
              "color": "white"
             }
            },
            "header": {
             "fill": {
              "color": "#C8D4E3"
             },
             "line": {
              "color": "white"
             }
            },
            "type": "table"
           }
          ]
         },
         "layout": {
          "annotationdefaults": {
           "arrowcolor": "#2a3f5f",
           "arrowhead": 0,
           "arrowwidth": 1
          },
          "autotypenumbers": "strict",
          "coloraxis": {
           "colorbar": {
            "outlinewidth": 0,
            "ticks": ""
           }
          },
          "colorscale": {
           "diverging": [
            [
             0,
             "#8e0152"
            ],
            [
             0.1,
             "#c51b7d"
            ],
            [
             0.2,
             "#de77ae"
            ],
            [
             0.3,
             "#f1b6da"
            ],
            [
             0.4,
             "#fde0ef"
            ],
            [
             0.5,
             "#f7f7f7"
            ],
            [
             0.6,
             "#e6f5d0"
            ],
            [
             0.7,
             "#b8e186"
            ],
            [
             0.8,
             "#7fbc41"
            ],
            [
             0.9,
             "#4d9221"
            ],
            [
             1,
             "#276419"
            ]
           ],
           "sequential": [
            [
             0,
             "#0d0887"
            ],
            [
             0.1111111111111111,
             "#46039f"
            ],
            [
             0.2222222222222222,
             "#7201a8"
            ],
            [
             0.3333333333333333,
             "#9c179e"
            ],
            [
             0.4444444444444444,
             "#bd3786"
            ],
            [
             0.5555555555555556,
             "#d8576b"
            ],
            [
             0.6666666666666666,
             "#ed7953"
            ],
            [
             0.7777777777777778,
             "#fb9f3a"
            ],
            [
             0.8888888888888888,
             "#fdca26"
            ],
            [
             1,
             "#f0f921"
            ]
           ],
           "sequentialminus": [
            [
             0,
             "#0d0887"
            ],
            [
             0.1111111111111111,
             "#46039f"
            ],
            [
             0.2222222222222222,
             "#7201a8"
            ],
            [
             0.3333333333333333,
             "#9c179e"
            ],
            [
             0.4444444444444444,
             "#bd3786"
            ],
            [
             0.5555555555555556,
             "#d8576b"
            ],
            [
             0.6666666666666666,
             "#ed7953"
            ],
            [
             0.7777777777777778,
             "#fb9f3a"
            ],
            [
             0.8888888888888888,
             "#fdca26"
            ],
            [
             1,
             "#f0f921"
            ]
           ]
          },
          "colorway": [
           "#636efa",
           "#EF553B",
           "#00cc96",
           "#ab63fa",
           "#FFA15A",
           "#19d3f3",
           "#FF6692",
           "#B6E880",
           "#FF97FF",
           "#FECB52"
          ],
          "font": {
           "color": "#2a3f5f"
          },
          "geo": {
           "bgcolor": "white",
           "lakecolor": "white",
           "landcolor": "white",
           "showlakes": true,
           "showland": true,
           "subunitcolor": "#C8D4E3"
          },
          "hoverlabel": {
           "align": "left"
          },
          "hovermode": "closest",
          "mapbox": {
           "style": "light"
          },
          "paper_bgcolor": "white",
          "plot_bgcolor": "white",
          "polar": {
           "angularaxis": {
            "gridcolor": "#EBF0F8",
            "linecolor": "#EBF0F8",
            "ticks": ""
           },
           "bgcolor": "white",
           "radialaxis": {
            "gridcolor": "#EBF0F8",
            "linecolor": "#EBF0F8",
            "ticks": ""
           }
          },
          "scene": {
           "xaxis": {
            "backgroundcolor": "white",
            "gridcolor": "#DFE8F3",
            "gridwidth": 2,
            "linecolor": "#EBF0F8",
            "showbackground": true,
            "ticks": "",
            "zerolinecolor": "#EBF0F8"
           },
           "yaxis": {
            "backgroundcolor": "white",
            "gridcolor": "#DFE8F3",
            "gridwidth": 2,
            "linecolor": "#EBF0F8",
            "showbackground": true,
            "ticks": "",
            "zerolinecolor": "#EBF0F8"
           },
           "zaxis": {
            "backgroundcolor": "white",
            "gridcolor": "#DFE8F3",
            "gridwidth": 2,
            "linecolor": "#EBF0F8",
            "showbackground": true,
            "ticks": "",
            "zerolinecolor": "#EBF0F8"
           }
          },
          "shapedefaults": {
           "line": {
            "color": "#2a3f5f"
           }
          },
          "ternary": {
           "aaxis": {
            "gridcolor": "#DFE8F3",
            "linecolor": "#A2B1C6",
            "ticks": ""
           },
           "baxis": {
            "gridcolor": "#DFE8F3",
            "linecolor": "#A2B1C6",
            "ticks": ""
           },
           "bgcolor": "white",
           "caxis": {
            "gridcolor": "#DFE8F3",
            "linecolor": "#A2B1C6",
            "ticks": ""
           }
          },
          "title": {
           "x": 0.05
          },
          "xaxis": {
           "automargin": true,
           "gridcolor": "#EBF0F8",
           "linecolor": "#EBF0F8",
           "ticks": "",
           "title": {
            "standoff": 15
           },
           "zerolinecolor": "#EBF0F8",
           "zerolinewidth": 2
          },
          "yaxis": {
           "automargin": true,
           "gridcolor": "#EBF0F8",
           "linecolor": "#EBF0F8",
           "ticks": "",
           "title": {
            "standoff": 15
           },
           "zerolinecolor": "#EBF0F8",
           "zerolinewidth": 2
          }
         }
        },
        "title": {
         "font": {
          "size": 12
         }
        },
        "width": 2100,
        "xaxis": {
         "autorange": true,
         "linewidth": 1.5,
         "mirror": true,
         "range": [
          "2020-12-21 16:14:59.4771",
          "2020-12-28 08:15:00.5229"
         ],
         "rangeselector": {
          "buttons": [
           {
            "count": 7,
            "label": "1w",
            "step": "day",
            "stepmode": "backward"
           },
           {
            "count": 1,
            "label": "1m",
            "step": "month",
            "stepmode": "backward"
           },
           {
            "count": 6,
            "label": "6m",
            "step": "month",
            "stepmode": "backward"
           },
           {
            "count": 1,
            "label": "1y",
            "step": "year",
            "stepmode": "backward"
           },
           {
            "step": "all"
           }
          ]
         },
         "rangeslider": {
          "autorange": true,
          "range": [
           "2020-12-21 16:14:59.4771",
           "2020-12-28 08:15:00.5229"
          ],
          "visible": true,
          "yaxis": {
           "_template": null,
           "rangemode": "match"
          }
         },
         "showline": true,
         "title": {
          "text": "ds"
         },
         "type": "date"
        },
        "yaxis": {
         "autorange": true,
         "linewidth": 1.5,
         "mirror": true,
         "range": [
          -0.060347098293803046,
          0.07416386845996172
         ],
         "showline": true,
         "title": {
          "text": "y"
         },
         "type": "linear"
        }
       }
      },
      "image/png": "[encoded data removed]",
      "text/html": [
       "<div>                            <div id=\"387cc727-3dd2-464e-ba96-2f9a6be5f391\" class=\"plotly-graph-div\" style=\"height:700px; width:2100px;\"></div>            <script type=\"text/javascript\">                require([\"plotly\"], function(Plotly) {                    window.PLOTLYENV=window.PLOTLYENV || {};                                    if (document.getElementById(\"387cc727-3dd2-464e-ba96-2f9a6be5f391\")) {                    Plotly.newPlot(                        \"387cc727-3dd2-464e-ba96-2f9a6be5f391\",                        [{\"fill\":\"none\",\"line\":{\"color\":\"rgba(45, 146, 255, 1.0)\",\"width\":2},\"mode\":\"lines\",\"name\":\"origin-0\",\"x\":[\"2020-12-22T00:30:00\",\"2020-12-22T01:00:00\",\"2020-12-22T01:30:00\",\"2020-12-22T02:00:00\",\"2020-12-22T02:30:00\",\"2020-12-22T03:00:00\",\"2020-12-22T03:30:00\",\"2020-12-22T04:00:00\",\"2020-12-22T04:30:00\",\"2020-12-22T05:00:00\",\"2020-12-22T05:30:00\",\"2020-12-22T06:00:00\",\"2020-12-22T06:30:00\",\"2020-12-22T07:00:00\",\"2020-12-22T07:30:00\",\"2020-12-22T08:00:00\",\"2020-12-22T08:30:00\",\"2020-12-22T09:00:00\",\"2020-12-22T09:30:00\",\"2020-12-22T10:00:00\",\"2020-12-22T10:30:00\",\"2020-12-22T11:00:00\",\"2020-12-22T11:30:00\",\"2020-12-22T12:00:00\",\"2020-12-22T12:30:00\",\"2020-12-22T13:00:00\",\"2020-12-22T13:30:00\",\"2020-12-22T14:00:00\",\"2020-12-22T14:30:00\",\"2020-12-22T15:00:00\",\"2020-12-22T15:30:00\",\"2020-12-22T16:00:00\",\"2020-12-22T16:30:00\",\"2020-12-22T17:00:00\",\"2020-12-22T17:30:00\",\"2020-12-22T18:00:00\",\"2020-12-22T18:30:00\",\"2020-12-22T19:00:00\",\"2020-12-22T19:30:00\",\"2020-12-22T20:00:00\",\"2020-12-22T20:30:00\",\"2020-12-22T21:00:00\",\"2020-12-22T21:30:00\",\"2020-12-22T22:00:00\",\"2020-12-22T22:30:00\",\"2020-12-22T23:00:00\",\"2020-12-22T23:30:00\",\"2020-12-23T00:00:00\",\"2020-12-23T00:30:00\",\"2020-12-23T01:00:00\",\"2020-12-23T01:30:00\",\"2020-12-23T02:00:00\",\"2020-12-23T02:30:00\",\"2020-12-23T03:00:00\",\"2020-12-23T03:30:00\",\"2020-12-23T04:00:00\",\"2020-12-23T04:30:00\",\"2020-12-23T05:00:00\",\"2020-12-23T05:30:00\",\"2020-12-23T06:00:00\",\"2020-12-23T06:30:00\",\"2020-12-23T07:00:00\",\"2020-12-23T07:30:00\",\"2020-12-23T08:00:00\",\"2020-12-23T08:30:00\",\"2020-12-23T09:00:00\",\"2020-12-23T09:30:00\",\"2020-12-23T10:00:00\",\"2020-12-23T10:30:00\",\"2020-12-23T11:00:00\",\"2020-12-23T11:30:00\",\"2020-12-23T12:00:00\",\"2020-12-23T12:30:00\",\"2020-12-23T13:00:00\",\"2020-12-23T13:30:00\",\"2020-12-23T14:00:00\",\"2020-12-23T14:30:00\",\"2020-12-23T15:00:00\",\"2020-12-23T15:30:00\",\"2020-12-23T16:00:00\",\"2020-12-23T16:30:00\",\"2020-12-23T17:00:00\",\"2020-12-23T17:30:00\",\"2020-12-23T18:00:00\",\"2020-12-23T18:30:00\",\"2020-12-23T19:00:00\",\"2020-12-23T19:30:00\",\"2020-12-23T20:00:00\",\"2020-12-23T20:30:00\",\"2020-12-23T21:00:00\",\"2020-12-23T21:30:00\",\"2020-12-23T22:00:00\",\"2020-12-23T22:30:00\",\"2020-12-23T23:00:00\",\"2020-12-23T23:30:00\",\"2020-12-24T00:00:00\",\"2020-12-24T00:30:00\",\"2020-12-24T01:00:00\",\"2020-12-24T01:30:00\",\"2020-12-24T02:00:00\",\"2020-12-24T02:30:00\",\"2020-12-24T03:00:00\",\"2020-12-24T03:30:00\",\"2020-12-24T04:00:00\",\"2020-12-24T04:30:00\",\"2020-12-24T05:00:00\",\"2020-12-24T05:30:00\",\"2020-12-24T06:00:00\",\"2020-12-24T06:30:00\",\"2020-12-24T07:00:00\",\"2020-12-24T07:30:00\",\"2020-12-24T08:00:00\",\"2020-12-24T08:30:00\",\"2020-12-24T09:00:00\",\"2020-12-24T09:30:00\",\"2020-12-24T10:00:00\",\"2020-12-24T10:30:00\",\"2020-12-24T11:00:00\",\"2020-12-24T11:30:00\",\"2020-12-24T12:00:00\",\"2020-12-24T12:30:00\",\"2020-12-24T13:00:00\",\"2020-12-24T13:30:00\",\"2020-12-24T14:00:00\",\"2020-12-24T14:30:00\",\"2020-12-24T15:00:00\",\"2020-12-24T15:30:00\",\"2020-12-24T16:00:00\",\"2020-12-24T16:30:00\",\"2020-12-24T17:00:00\",\"2020-12-24T17:30:00\",\"2020-12-24T18:00:00\",\"2020-12-24T18:30:00\",\"2020-12-24T19:00:00\",\"2020-12-24T19:30:00\",\"2020-12-24T20:00:00\",\"2020-12-24T20:30:00\",\"2020-12-24T21:00:00\",\"2020-12-24T21:30:00\",\"2020-12-24T22:00:00\",\"2020-12-24T22:30:00\",\"2020-12-24T23:00:00\",\"2020-12-24T23:30:00\",\"2020-12-25T00:00:00\",\"2020-12-25T00:30:00\",\"2020-12-25T01:00:00\",\"2020-12-25T01:30:00\",\"2020-12-25T02:00:00\",\"2020-12-25T02:30:00\",\"2020-12-25T03:00:00\",\"2020-12-25T03:30:00\",\"2020-12-25T04:00:00\",\"2020-12-25T04:30:00\",\"2020-12-25T05:00:00\",\"2020-12-25T05:30:00\",\"2020-12-25T06:00:00\",\"2020-12-25T06:30:00\",\"2020-12-25T07:00:00\",\"2020-12-25T07:30:00\",\"2020-12-25T08:00:00\",\"2020-12-25T08:30:00\",\"2020-12-25T09:00:00\",\"2020-12-25T09:30:00\",\"2020-12-25T10:00:00\",\"2020-12-25T10:30:00\",\"2020-12-25T11:00:00\",\"2020-12-25T11:30:00\",\"2020-12-25T12:00:00\",\"2020-12-25T12:30:00\",\"2020-12-25T13:00:00\",\"2020-12-25T13:30:00\",\"2020-12-25T14:00:00\",\"2020-12-25T14:30:00\",\"2020-12-25T15:00:00\",\"2020-12-25T15:30:00\",\"2020-12-25T16:00:00\",\"2020-12-25T16:30:00\",\"2020-12-25T17:00:00\",\"2020-12-25T17:30:00\",\"2020-12-25T18:00:00\",\"2020-12-25T18:30:00\",\"2020-12-25T19:00:00\",\"2020-12-25T19:30:00\",\"2020-12-25T20:00:00\",\"2020-12-25T20:30:00\",\"2020-12-25T21:00:00\",\"2020-12-25T21:30:00\",\"2020-12-25T22:00:00\",\"2020-12-25T22:30:00\",\"2020-12-25T23:00:00\",\"2020-12-25T23:30:00\",\"2020-12-26T00:00:00\",\"2020-12-26T00:30:00\",\"2020-12-26T01:00:00\",\"2020-12-26T01:30:00\",\"2020-12-26T02:00:00\",\"2020-12-26T02:30:00\",\"2020-12-26T03:00:00\",\"2020-12-26T03:30:00\",\"2020-12-26T04:00:00\",\"2020-12-26T04:30:00\",\"2020-12-26T05:00:00\",\"2020-12-26T05:30:00\",\"2020-12-26T06:00:00\",\"2020-12-26T06:30:00\",\"2020-12-26T07:00:00\",\"2020-12-26T07:30:00\",\"2020-12-26T08:00:00\",\"2020-12-26T08:30:00\",\"2020-12-26T09:00:00\",\"2020-12-26T09:30:00\",\"2020-12-26T10:00:00\",\"2020-12-26T10:30:00\",\"2020-12-26T11:00:00\",\"2020-12-26T11:30:00\",\"2020-12-26T12:00:00\",\"2020-12-26T12:30:00\",\"2020-12-26T13:00:00\",\"2020-12-26T13:30:00\",\"2020-12-26T14:00:00\",\"2020-12-26T14:30:00\",\"2020-12-26T15:00:00\",\"2020-12-26T15:30:00\",\"2020-12-26T16:00:00\",\"2020-12-26T16:30:00\",\"2020-12-26T17:00:00\",\"2020-12-26T17:30:00\",\"2020-12-26T18:00:00\",\"2020-12-26T18:30:00\",\"2020-12-26T19:00:00\",\"2020-12-26T19:30:00\",\"2020-12-26T20:00:00\",\"2020-12-26T20:30:00\",\"2020-12-26T21:00:00\",\"2020-12-26T21:30:00\",\"2020-12-26T22:00:00\",\"2020-12-26T22:30:00\",\"2020-12-26T23:00:00\",\"2020-12-26T23:30:00\",\"2020-12-27T00:00:00\",\"2020-12-27T00:30:00\",\"2020-12-27T01:00:00\",\"2020-12-27T01:30:00\",\"2020-12-27T02:00:00\",\"2020-12-27T02:30:00\",\"2020-12-27T03:00:00\",\"2020-12-27T03:30:00\",\"2020-12-27T04:00:00\",\"2020-12-27T04:30:00\",\"2020-12-27T05:00:00\",\"2020-12-27T05:30:00\",\"2020-12-27T06:00:00\",\"2020-12-27T06:30:00\",\"2020-12-27T07:00:00\",\"2020-12-27T07:30:00\",\"2020-12-27T08:00:00\",\"2020-12-27T08:30:00\",\"2020-12-27T09:00:00\",\"2020-12-27T09:30:00\",\"2020-12-27T10:00:00\",\"2020-12-27T10:30:00\",\"2020-12-27T11:00:00\",\"2020-12-27T11:30:00\",\"2020-12-27T12:00:00\",\"2020-12-27T12:30:00\",\"2020-12-27T13:00:00\",\"2020-12-27T13:30:00\",\"2020-12-27T14:00:00\",\"2020-12-27T14:30:00\",\"2020-12-27T15:00:00\",\"2020-12-27T15:30:00\",\"2020-12-27T16:00:00\",\"2020-12-27T16:30:00\",\"2020-12-27T17:00:00\",\"2020-12-27T17:30:00\",\"2020-12-27T18:00:00\",\"2020-12-27T18:30:00\",\"2020-12-27T19:00:00\",\"2020-12-27T19:30:00\",\"2020-12-27T20:00:00\",\"2020-12-27T20:30:00\",\"2020-12-27T21:00:00\",\"2020-12-27T21:30:00\",\"2020-12-27T22:00:00\",\"2020-12-27T22:30:00\",\"2020-12-27T23:00:00\",\"2020-12-27T23:30:00\",\"2020-12-28T00:00:00\"],\"y\":[null,null,null,null,null,null,null,null,null,null,null,null,null,null,null,null,null,null,null,null,null,null,null,null,null,null,null,null,null,null,null,null,null,null,null,null,null,null,null,null,null,null,null,null,null,null,null,null,null,null,null,null,null,null,null,null,null,null,null,null,null,null,null,null,null,null,null,null,null,null,null,null,null,null,null,null,null,null,null,null,null,null,null,null,null,null,null,null,null,null,null,null,null,null,null,null,null,null,null,null,null,null,null,null,null,null,null,null,null,null,null,null,null,null,null,null,null,null,null,null,null,null,null,null,null,null,null,null,null,null,null,null,null,null,null,null,null,null,null,null,null,null,null,null,null,null,null,null,null,null,null,null,null,null,null,null,null,null,null,null,null,null,null,null,null,null,null,null,null,null,null,null,null,null,null,null,null,null,null,null,null,null,null,null,null,null,null,null,null,null,null,null,null,null,null,null,null,null,null,null,null,null,null,null,null,null,null,null,null,null,null,null,null,null,null,null,null,null,null,null,null,null,null,null,null,null,null,null,null,null,null,null,null,null,null,null,null,null,null,null,0.020532876253128052,0.020390748977661133,0.020448610186576843,0.020616471767425537,0.02067197859287262,0.020393922924995422,0.019952967762947083,0.019413352012634277,0.01909281313419342,0.018953830003738403,0.01883375644683838,0.01834098994731903,0.01707156002521515,0.014757886528968811,0.011471077799797058,0.007680907845497131,0.004020661115646362,0.0011044293642044067,-0.000642821192741394,-0.001337006688117981,-0.0012270957231521606,-0.0008643120527267456,-0.0008043497800827026,-0.0012815296649932861,-0.0024546533823013306,-0.004229292273521423,-0.006370633840560913,-0.008577004075050354,-0.010428249835968018,-0.01158951222896576,-0.011609837412834167,-0.0102759450674057,-0.0075685083866119385,-0.0037915557622909546,0.0004925131797790527,0.004594713449478149,0.007874742150306702,0.01003161072731018,0.011176541447639465,0.011722952127456665,0.012200132012367249,0.01295134425163269,0.014119043946266174,0.015549197793006897,0.016923978924751282,0.017938002943992615,0.01846759021282196,0.018643230199813843],\"type\":\"scatter\"},{\"marker\":{\"color\":\"black\",\"size\":4},\"mode\":\"markers\",\"name\":\"Actual\",\"x\":[\"2020-12-22T00:30:00\",\"2020-12-22T01:00:00\",\"2020-12-22T01:30:00\",\"2020-12-22T02:00:00\",\"2020-12-22T02:30:00\",\"2020-12-22T03:00:00\",\"2020-12-22T03:30:00\",\"2020-12-22T04:00:00\",\"2020-12-22T04:30:00\",\"2020-12-22T05:00:00\",\"2020-12-22T05:30:00\",\"2020-12-22T06:00:00\",\"2020-12-22T06:30:00\",\"2020-12-22T07:00:00\",\"2020-12-22T07:30:00\",\"2020-12-22T08:00:00\",\"2020-12-22T08:30:00\",\"2020-12-22T09:00:00\",\"2020-12-22T09:30:00\",\"2020-12-22T10:00:00\",\"2020-12-22T10:30:00\",\"2020-12-22T11:00:00\",\"2020-12-22T11:30:00\",\"2020-12-22T12:00:00\",\"2020-12-22T12:30:00\",\"2020-12-22T13:00:00\",\"2020-12-22T13:30:00\",\"2020-12-22T14:00:00\",\"2020-12-22T14:30:00\",\"2020-12-22T15:00:00\",\"2020-12-22T15:30:00\",\"2020-12-22T16:00:00\",\"2020-12-22T16:30:00\",\"2020-12-22T17:00:00\",\"2020-12-22T17:30:00\",\"2020-12-22T18:00:00\",\"2020-12-22T18:30:00\",\"2020-12-22T19:00:00\",\"2020-12-22T19:30:00\",\"2020-12-22T20:00:00\",\"2020-12-22T20:30:00\",\"2020-12-22T21:00:00\",\"2020-12-22T21:30:00\",\"2020-12-22T22:00:00\",\"2020-12-22T22:30:00\",\"2020-12-22T23:00:00\",\"2020-12-22T23:30:00\",\"2020-12-23T00:00:00\",\"2020-12-23T00:30:00\",\"2020-12-23T01:00:00\",\"2020-12-23T01:30:00\",\"2020-12-23T02:00:00\",\"2020-12-23T02:30:00\",\"2020-12-23T03:00:00\",\"2020-12-23T03:30:00\",\"2020-12-23T04:00:00\",\"2020-12-23T04:30:00\",\"2020-12-23T05:00:00\",\"2020-12-23T05:30:00\",\"2020-12-23T06:00:00\",\"2020-12-23T06:30:00\",\"2020-12-23T07:00:00\",\"2020-12-23T07:30:00\",\"2020-12-23T08:00:00\",\"2020-12-23T08:30:00\",\"2020-12-23T09:00:00\",\"2020-12-23T09:30:00\",\"2020-12-23T10:00:00\",\"2020-12-23T10:30:00\",\"2020-12-23T11:00:00\",\"2020-12-23T11:30:00\",\"2020-12-23T12:00:00\",\"2020-12-23T12:30:00\",\"2020-12-23T13:00:00\",\"2020-12-23T13:30:00\",\"2020-12-23T14:00:00\",\"2020-12-23T14:30:00\",\"2020-12-23T15:00:00\",\"2020-12-23T15:30:00\",\"2020-12-23T16:00:00\",\"2020-12-23T16:30:00\",\"2020-12-23T17:00:00\",\"2020-12-23T17:30:00\",\"2020-12-23T18:00:00\",\"2020-12-23T18:30:00\",\"2020-12-23T19:00:00\",\"2020-12-23T19:30:00\",\"2020-12-23T20:00:00\",\"2020-12-23T20:30:00\",\"2020-12-23T21:00:00\",\"2020-12-23T21:30:00\",\"2020-12-23T22:00:00\",\"2020-12-23T22:30:00\",\"2020-12-23T23:00:00\",\"2020-12-23T23:30:00\",\"2020-12-24T00:00:00\",\"2020-12-24T00:30:00\",\"2020-12-24T01:00:00\",\"2020-12-24T01:30:00\",\"2020-12-24T02:00:00\",\"2020-12-24T02:30:00\",\"2020-12-24T03:00:00\",\"2020-12-24T03:30:00\",\"2020-12-24T04:00:00\",\"2020-12-24T04:30:00\",\"2020-12-24T05:00:00\",\"2020-12-24T05:30:00\",\"2020-12-24T06:00:00\",\"2020-12-24T06:30:00\",\"2020-12-24T07:00:00\",\"2020-12-24T07:30:00\",\"2020-12-24T08:00:00\",\"2020-12-24T08:30:00\",\"2020-12-24T09:00:00\",\"2020-12-24T09:30:00\",\"2020-12-24T10:00:00\",\"2020-12-24T10:30:00\",\"2020-12-24T11:00:00\",\"2020-12-24T11:30:00\",\"2020-12-24T12:00:00\",\"2020-12-24T12:30:00\",\"2020-12-24T13:00:00\",\"2020-12-24T13:30:00\",\"2020-12-24T14:00:00\",\"2020-12-24T14:30:00\",\"2020-12-24T15:00:00\",\"2020-12-24T15:30:00\",\"2020-12-24T16:00:00\",\"2020-12-24T16:30:00\",\"2020-12-24T17:00:00\",\"2020-12-24T17:30:00\",\"2020-12-24T18:00:00\",\"2020-12-24T18:30:00\",\"2020-12-24T19:00:00\",\"2020-12-24T19:30:00\",\"2020-12-24T20:00:00\",\"2020-12-24T20:30:00\",\"2020-12-24T21:00:00\",\"2020-12-24T21:30:00\",\"2020-12-24T22:00:00\",\"2020-12-24T22:30:00\",\"2020-12-24T23:00:00\",\"2020-12-24T23:30:00\",\"2020-12-25T00:00:00\",\"2020-12-25T00:30:00\",\"2020-12-25T01:00:00\",\"2020-12-25T01:30:00\",\"2020-12-25T02:00:00\",\"2020-12-25T02:30:00\",\"2020-12-25T03:00:00\",\"2020-12-25T03:30:00\",\"2020-12-25T04:00:00\",\"2020-12-25T04:30:00\",\"2020-12-25T05:00:00\",\"2020-12-25T05:30:00\",\"2020-12-25T06:00:00\",\"2020-12-25T06:30:00\",\"2020-12-25T07:00:00\",\"2020-12-25T07:30:00\",\"2020-12-25T08:00:00\",\"2020-12-25T08:30:00\",\"2020-12-25T09:00:00\",\"2020-12-25T09:30:00\",\"2020-12-25T10:00:00\",\"2020-12-25T10:30:00\",\"2020-12-25T11:00:00\",\"2020-12-25T11:30:00\",\"2020-12-25T12:00:00\",\"2020-12-25T12:30:00\",\"2020-12-25T13:00:00\",\"2020-12-25T13:30:00\",\"2020-12-25T14:00:00\",\"2020-12-25T14:30:00\",\"2020-12-25T15:00:00\",\"2020-12-25T15:30:00\",\"2020-12-25T16:00:00\",\"2020-12-25T16:30:00\",\"2020-12-25T17:00:00\",\"2020-12-25T17:30:00\",\"2020-12-25T18:00:00\",\"2020-12-25T18:30:00\",\"2020-12-25T19:00:00\",\"2020-12-25T19:30:00\",\"2020-12-25T20:00:00\",\"2020-12-25T20:30:00\",\"2020-12-25T21:00:00\",\"2020-12-25T21:30:00\",\"2020-12-25T22:00:00\",\"2020-12-25T22:30:00\",\"2020-12-25T23:00:00\",\"2020-12-25T23:30:00\",\"2020-12-26T00:00:00\",\"2020-12-26T00:30:00\",\"2020-12-26T01:00:00\",\"2020-12-26T01:30:00\",\"2020-12-26T02:00:00\",\"2020-12-26T02:30:00\",\"2020-12-26T03:00:00\",\"2020-12-26T03:30:00\",\"2020-12-26T04:00:00\",\"2020-12-26T04:30:00\",\"2020-12-26T05:00:00\",\"2020-12-26T05:30:00\",\"2020-12-26T06:00:00\",\"2020-12-26T06:30:00\",\"2020-12-26T07:00:00\",\"2020-12-26T07:30:00\",\"2020-12-26T08:00:00\",\"2020-12-26T08:30:00\",\"2020-12-26T09:00:00\",\"2020-12-26T09:30:00\",\"2020-12-26T10:00:00\",\"2020-12-26T10:30:00\",\"2020-12-26T11:00:00\",\"2020-12-26T11:30:00\",\"2020-12-26T12:00:00\",\"2020-12-26T12:30:00\",\"2020-12-26T13:00:00\",\"2020-12-26T13:30:00\",\"2020-12-26T14:00:00\",\"2020-12-26T14:30:00\",\"2020-12-26T15:00:00\",\"2020-12-26T15:30:00\",\"2020-12-26T16:00:00\",\"2020-12-26T16:30:00\",\"2020-12-26T17:00:00\",\"2020-12-26T17:30:00\",\"2020-12-26T18:00:00\",\"2020-12-26T18:30:00\",\"2020-12-26T19:00:00\",\"2020-12-26T19:30:00\",\"2020-12-26T20:00:00\",\"2020-12-26T20:30:00\",\"2020-12-26T21:00:00\",\"2020-12-26T21:30:00\",\"2020-12-26T22:00:00\",\"2020-12-26T22:30:00\",\"2020-12-26T23:00:00\",\"2020-12-26T23:30:00\",\"2020-12-27T00:00:00\",\"2020-12-27T00:30:00\",\"2020-12-27T01:00:00\",\"2020-12-27T01:30:00\",\"2020-12-27T02:00:00\",\"2020-12-27T02:30:00\",\"2020-12-27T03:00:00\",\"2020-12-27T03:30:00\",\"2020-12-27T04:00:00\",\"2020-12-27T04:30:00\",\"2020-12-27T05:00:00\",\"2020-12-27T05:30:00\",\"2020-12-27T06:00:00\",\"2020-12-27T06:30:00\",\"2020-12-27T07:00:00\",\"2020-12-27T07:30:00\",\"2020-12-27T08:00:00\",\"2020-12-27T08:30:00\",\"2020-12-27T09:00:00\",\"2020-12-27T09:30:00\",\"2020-12-27T10:00:00\",\"2020-12-27T10:30:00\",\"2020-12-27T11:00:00\",\"2020-12-27T11:30:00\",\"2020-12-27T12:00:00\",\"2020-12-27T12:30:00\",\"2020-12-27T13:00:00\",\"2020-12-27T13:30:00\",\"2020-12-27T14:00:00\",\"2020-12-27T14:30:00\",\"2020-12-27T15:00:00\",\"2020-12-27T15:30:00\",\"2020-12-27T16:00:00\",\"2020-12-27T16:30:00\",\"2020-12-27T17:00:00\",\"2020-12-27T17:30:00\",\"2020-12-27T18:00:00\",\"2020-12-27T18:30:00\",\"2020-12-27T19:00:00\",\"2020-12-27T19:30:00\",\"2020-12-27T20:00:00\",\"2020-12-27T20:30:00\",\"2020-12-27T21:00:00\",\"2020-12-27T21:30:00\",\"2020-12-27T22:00:00\",\"2020-12-27T22:30:00\",\"2020-12-27T23:00:00\",\"2020-12-27T23:30:00\",\"2020-12-28T00:00:00\"],\"y\":[-0.004163368605077267,0.03397835046052933,0.017897063866257668,0.004180301912128925,0.00547605287283659,0.010595284402370453,0.0391165092587471,0.017582232132554054,0.013477724976837635,0.013477724976837635,0.013477724976837635,0.013477724976837635,0.013477724976837635,0.013477724976837635,-0.025849882513284683,0.013147750869393349,0.0038386741653084755,0.009560633450746536,0.018483184278011322,-0.0056417034938931465,0.011562681756913662,0.019306950271129608,0.0043770065531134605,-0.01841580495238304,-0.017930924892425537,-0.015282501466572285,-0.022955194115638733,-0.009016032330691814,-0.036495327949523926,-0.02538027986884117,-0.05280797556042671,-0.045794304460287094,-0.0014792205765843391,-0.003320540301501751,0.0024303914979100227,0.0008919155225157738,0.004323097877204418,-0.00937569048255682,0.01071603037416935,0.01001080684363842,0.03639189898967743,0.027591004967689514,0.015963463112711906,0.003081190399825573,0.017893273383378983,0.015018019825220108,0.01203218288719654,0.01422678492963314,0.007965687662363052,0.0011283764615654945,0.010186332277953625,-0.0021461499854922295,-0.0013251947239041328,0.008760413154959679,0.014755863696336746,0.035063233226537704,0.009051693603396416,0.013477724976837635,0.013477724976837635,0.013477724976837635,0.013477724976837635,0.013477724976837635,0.013477724976837635,0.0117290448397398,-0.021120604127645493,0.002673204056918621,0.006564654875546694,0.0037071174010634422,0.015615422278642654,0.010097324848175049,-0.022040583193302155,-0.02255387231707573,-0.01854385808110237,-0.027493916451931,-0.02094687521457672,-0.013813863508403301,-0.004159591160714626,-0.006601995788514614,-0.02818473055958748,-0.015130649320781231,0.0014435099437832832,0.008501904085278511,0.006209729705005884,0.023637857288122177,-0.01187650766223669,0.018574867397546768,0.014836262911558151,0.006478044204413891,0.004013132303953171,0.005363336764276028,0.038782745599746704,0.01688927225768566,0.004914204590022564,0.007989399135112762,0.032914578914642334,0.0021812589839100838,0.006625563837587833,0.009428894147276878,0.017548883333802223,0.03248719498515129,0.006240703631192446,0.012577437795698643,0.01369687169790268,0.04251152649521828,0.04122119024395943,0.028880365192890167,0.03193448856472969,0.013477724976837635,0.013477724976837635,0.013477724976837635,0.013477724976837635,0.02016162872314453,0.0015501221641898155,0.03640548884868622,0.03042302280664444,0.021437671035528183,0.020862510427832603,-0.029659632593393326,-0.020262327045202255,0.0022486457601189613,-0.015610567294061184,-0.021556146442890167,-0.0055833617225289345,-8.64928588271141e-05,-0.0014116344973444939,-0.0002631107345223427,-0.0034835850819945335,-0.022161129862070084,-0.018673907965421677,0.00623320834711194,-0.005525895394384861,0.008978812023997307,0.003879721276462078,0.01330145075917244,0.024270866066217422,0.027072299271821976,0.017739204689860344,0.020232047885656357,0.024586785584688187,0.019849998876452446,0.015924634411931038,0.0091317780315876,0.040071841329336166,0.02226552739739418,0.04241327941417694,0.021876826882362366,0.0004007359966635704,0.01656201481819153,0.017582764849066734,-0.0003431113436818123,0.013063415884971619,-0.025950361043214798,0.0016195764765143394,0.01003328152000904,0.011392181739211082,0.013477724976837635,0.013477724976837635,0.013477724976837635,0.013477724976837635,0.008263550698757172,-0.008186631835997105,-0.006084366701543331,0.0018382491543889046,0.0007727453485131264,-0.01710567995905876,-0.014931309036910534,0.021999888122081757,0.0019656913354992867,-0.011512703262269497,0.022603094577789307,0.03862600028514862,0.0039429133757948875,0.06662474572658539,0.058662623167037964,0.03696266934275627,0.0277966670691967,0.00423689279705286,0.023710250854492188,0.025747813284397125,0.04065592959523201,-0.00037986692041158676,0.022192038595676422,-0.01365868654102087,0.03193384408950806,0.028765294700860977,0.03597300499677658,0.04337561875581741,0.06649981439113617,0.04788008704781532,0.01824251003563404,0.04318184033036232,0.05185049772262573,0.05866909399628639,0.013477724976837635,0.013477724976837635,0.013477724976837635,0.013477724976837635,0.013477724976837635,0.013477724976837635,0.013477724976837635,0.013477724976837635,0.013477724976837635,0.013477724976837635,0.013477724976837635,0.013477724976837635,0.013477724976837635,0.0581367164850235,0.03378436341881752,0.05092010274529457,0.040874239057302475,0.0354408323764801,0.036752667278051376,0.021897729486227036,0.00989830307662487,0.007578372489660978,-0.003832782618701458,-0.004892590455710888,0.015019234269857407,0.0025629187002778053,-0.009814583696424961,-0.027174998074769974,-0.03104151412844658,-0.037268172949552536,-0.032953619956970215,-0.011985084973275661,-0.00872523058205843,-0.011488008312880993,-0.008812953718006611,0.0015785107389092445,-0.000792953185737133,0.01031176932156086,-0.019928738474845886,0.005754175595939159,-0.011139719747006893,-0.003388400189578533,0.03393678367137909,0.008399096317589283,-0.006850515492260456,0.03263174369931221,0.040984462946653366,null,null,null,null,null,null,null,null,null,null,null,null,null,null,null,null,null,null,null,null,null,null,null,null,null,null,null,null,null,null,null,null,null,null,null,null,null,null,null,null,null,null,null,null,null,null,null,null],\"type\":\"scatter\"}],                        {\"autosize\":true,\"font\":{\"size\":10},\"height\":700,\"hovermode\":\"x unified\",\"margin\":{\"b\":0,\"l\":0,\"pad\":0,\"r\":10,\"t\":10},\"showlegend\":true,\"template\":{\"data\":{\"barpolar\":[{\"marker\":{\"line\":{\"color\":\"white\",\"width\":0.5},\"pattern\":{\"fillmode\":\"overlay\",\"size\":10,\"solidity\":0.2}},\"type\":\"barpolar\"}],\"bar\":[{\"error_x\":{\"color\":\"#2a3f5f\"},\"error_y\":{\"color\":\"#2a3f5f\"},\"marker\":{\"line\":{\"color\":\"white\",\"width\":0.5},\"pattern\":{\"fillmode\":\"overlay\",\"size\":10,\"solidity\":0.2}},\"type\":\"bar\"}],\"carpet\":[{\"aaxis\":{\"endlinecolor\":\"#2a3f5f\",\"gridcolor\":\"#C8D4E3\",\"linecolor\":\"#C8D4E3\",\"minorgridcolor\":\"#C8D4E3\",\"startlinecolor\":\"#2a3f5f\"},\"baxis\":{\"endlinecolor\":\"#2a3f5f\",\"gridcolor\":\"#C8D4E3\",\"linecolor\":\"#C8D4E3\",\"minorgridcolor\":\"#C8D4E3\",\"startlinecolor\":\"#2a3f5f\"},\"type\":\"carpet\"}],\"choropleth\":[{\"colorbar\":{\"outlinewidth\":0,\"ticks\":\"\"},\"type\":\"choropleth\"}],\"contourcarpet\":[{\"colorbar\":{\"outlinewidth\":0,\"ticks\":\"\"},\"type\":\"contourcarpet\"}],\"contour\":[{\"colorbar\":{\"outlinewidth\":0,\"ticks\":\"\"},\"colorscale\":[[0.0,\"#0d0887\"],[0.1111111111111111,\"#46039f\"],[0.2222222222222222,\"#7201a8\"],[0.3333333333333333,\"#9c179e\"],[0.4444444444444444,\"#bd3786\"],[0.5555555555555556,\"#d8576b\"],[0.6666666666666666,\"#ed7953\"],[0.7777777777777778,\"#fb9f3a\"],[0.8888888888888888,\"#fdca26\"],[1.0,\"#f0f921\"]],\"type\":\"contour\"}],\"heatmapgl\":[{\"colorbar\":{\"outlinewidth\":0,\"ticks\":\"\"},\"colorscale\":[[0.0,\"#0d0887\"],[0.1111111111111111,\"#46039f\"],[0.2222222222222222,\"#7201a8\"],[0.3333333333333333,\"#9c179e\"],[0.4444444444444444,\"#bd3786\"],[0.5555555555555556,\"#d8576b\"],[0.6666666666666666,\"#ed7953\"],[0.7777777777777778,\"#fb9f3a\"],[0.8888888888888888,\"#fdca26\"],[1.0,\"#f0f921\"]],\"type\":\"heatmapgl\"}],\"heatmap\":[{\"colorbar\":{\"outlinewidth\":0,\"ticks\":\"\"},\"colorscale\":[[0.0,\"#0d0887\"],[0.1111111111111111,\"#46039f\"],[0.2222222222222222,\"#7201a8\"],[0.3333333333333333,\"#9c179e\"],[0.4444444444444444,\"#bd3786\"],[0.5555555555555556,\"#d8576b\"],[0.6666666666666666,\"#ed7953\"],[0.7777777777777778,\"#fb9f3a\"],[0.8888888888888888,\"#fdca26\"],[1.0,\"#f0f921\"]],\"type\":\"heatmap\"}],\"histogram2dcontour\":[{\"colorbar\":{\"outlinewidth\":0,\"ticks\":\"\"},\"colorscale\":[[0.0,\"#0d0887\"],[0.1111111111111111,\"#46039f\"],[0.2222222222222222,\"#7201a8\"],[0.3333333333333333,\"#9c179e\"],[0.4444444444444444,\"#bd3786\"],[0.5555555555555556,\"#d8576b\"],[0.6666666666666666,\"#ed7953\"],[0.7777777777777778,\"#fb9f3a\"],[0.8888888888888888,\"#fdca26\"],[1.0,\"#f0f921\"]],\"type\":\"histogram2dcontour\"}],\"histogram2d\":[{\"colorbar\":{\"outlinewidth\":0,\"ticks\":\"\"},\"colorscale\":[[0.0,\"#0d0887\"],[0.1111111111111111,\"#46039f\"],[0.2222222222222222,\"#7201a8\"],[0.3333333333333333,\"#9c179e\"],[0.4444444444444444,\"#bd3786\"],[0.5555555555555556,\"#d8576b\"],[0.6666666666666666,\"#ed7953\"],[0.7777777777777778,\"#fb9f3a\"],[0.8888888888888888,\"#fdca26\"],[1.0,\"#f0f921\"]],\"type\":\"histogram2d\"}],\"histogram\":[{\"marker\":{\"pattern\":{\"fillmode\":\"overlay\",\"size\":10,\"solidity\":0.2}},\"type\":\"histogram\"}],\"mesh3d\":[{\"colorbar\":{\"outlinewidth\":0,\"ticks\":\"\"},\"type\":\"mesh3d\"}],\"parcoords\":[{\"line\":{\"colorbar\":{\"outlinewidth\":0,\"ticks\":\"\"}},\"type\":\"parcoords\"}],\"pie\":[{\"automargin\":true,\"type\":\"pie\"}],\"scatter3d\":[{\"line\":{\"colorbar\":{\"outlinewidth\":0,\"ticks\":\"\"}},\"marker\":{\"colorbar\":{\"outlinewidth\":0,\"ticks\":\"\"}},\"type\":\"scatter3d\"}],\"scattercarpet\":[{\"marker\":{\"colorbar\":{\"outlinewidth\":0,\"ticks\":\"\"}},\"type\":\"scattercarpet\"}],\"scattergeo\":[{\"marker\":{\"colorbar\":{\"outlinewidth\":0,\"ticks\":\"\"}},\"type\":\"scattergeo\"}],\"scattergl\":[{\"marker\":{\"colorbar\":{\"outlinewidth\":0,\"ticks\":\"\"}},\"type\":\"scattergl\"}],\"scattermapbox\":[{\"marker\":{\"colorbar\":{\"outlinewidth\":0,\"ticks\":\"\"}},\"type\":\"scattermapbox\"}],\"scatterpolargl\":[{\"marker\":{\"colorbar\":{\"outlinewidth\":0,\"ticks\":\"\"}},\"type\":\"scatterpolargl\"}],\"scatterpolar\":[{\"marker\":{\"colorbar\":{\"outlinewidth\":0,\"ticks\":\"\"}},\"type\":\"scatterpolar\"}],\"scatter\":[{\"fillpattern\":{\"fillmode\":\"overlay\",\"size\":10,\"solidity\":0.2},\"type\":\"scatter\"}],\"scatterternary\":[{\"marker\":{\"colorbar\":{\"outlinewidth\":0,\"ticks\":\"\"}},\"type\":\"scatterternary\"}],\"surface\":[{\"colorbar\":{\"outlinewidth\":0,\"ticks\":\"\"},\"colorscale\":[[0.0,\"#0d0887\"],[0.1111111111111111,\"#46039f\"],[0.2222222222222222,\"#7201a8\"],[0.3333333333333333,\"#9c179e\"],[0.4444444444444444,\"#bd3786\"],[0.5555555555555556,\"#d8576b\"],[0.6666666666666666,\"#ed7953\"],[0.7777777777777778,\"#fb9f3a\"],[0.8888888888888888,\"#fdca26\"],[1.0,\"#f0f921\"]],\"type\":\"surface\"}],\"table\":[{\"cells\":{\"fill\":{\"color\":\"#EBF0F8\"},\"line\":{\"color\":\"white\"}},\"header\":{\"fill\":{\"color\":\"#C8D4E3\"},\"line\":{\"color\":\"white\"}},\"type\":\"table\"}]},\"layout\":{\"annotationdefaults\":{\"arrowcolor\":\"#2a3f5f\",\"arrowhead\":0,\"arrowwidth\":1},\"autotypenumbers\":\"strict\",\"coloraxis\":{\"colorbar\":{\"outlinewidth\":0,\"ticks\":\"\"}},\"colorscale\":{\"diverging\":[[0,\"#8e0152\"],[0.1,\"#c51b7d\"],[0.2,\"#de77ae\"],[0.3,\"#f1b6da\"],[0.4,\"#fde0ef\"],[0.5,\"#f7f7f7\"],[0.6,\"#e6f5d0\"],[0.7,\"#b8e186\"],[0.8,\"#7fbc41\"],[0.9,\"#4d9221\"],[1,\"#276419\"]],\"sequential\":[[0.0,\"#0d0887\"],[0.1111111111111111,\"#46039f\"],[0.2222222222222222,\"#7201a8\"],[0.3333333333333333,\"#9c179e\"],[0.4444444444444444,\"#bd3786\"],[0.5555555555555556,\"#d8576b\"],[0.6666666666666666,\"#ed7953\"],[0.7777777777777778,\"#fb9f3a\"],[0.8888888888888888,\"#fdca26\"],[1.0,\"#f0f921\"]],\"sequentialminus\":[[0.0,\"#0d0887\"],[0.1111111111111111,\"#46039f\"],[0.2222222222222222,\"#7201a8\"],[0.3333333333333333,\"#9c179e\"],[0.4444444444444444,\"#bd3786\"],[0.5555555555555556,\"#d8576b\"],[0.6666666666666666,\"#ed7953\"],[0.7777777777777778,\"#fb9f3a\"],[0.8888888888888888,\"#fdca26\"],[1.0,\"#f0f921\"]]},\"colorway\":[\"#636efa\",\"#EF553B\",\"#00cc96\",\"#ab63fa\",\"#FFA15A\",\"#19d3f3\",\"#FF6692\",\"#B6E880\",\"#FF97FF\",\"#FECB52\"],\"font\":{\"color\":\"#2a3f5f\"},\"geo\":{\"bgcolor\":\"white\",\"lakecolor\":\"white\",\"landcolor\":\"white\",\"showlakes\":true,\"showland\":true,\"subunitcolor\":\"#C8D4E3\"},\"hoverlabel\":{\"align\":\"left\"},\"hovermode\":\"closest\",\"mapbox\":{\"style\":\"light\"},\"paper_bgcolor\":\"white\",\"plot_bgcolor\":\"white\",\"polar\":{\"angularaxis\":{\"gridcolor\":\"#EBF0F8\",\"linecolor\":\"#EBF0F8\",\"ticks\":\"\"},\"bgcolor\":\"white\",\"radialaxis\":{\"gridcolor\":\"#EBF0F8\",\"linecolor\":\"#EBF0F8\",\"ticks\":\"\"}},\"scene\":{\"xaxis\":{\"backgroundcolor\":\"white\",\"gridcolor\":\"#DFE8F3\",\"gridwidth\":2,\"linecolor\":\"#EBF0F8\",\"showbackground\":true,\"ticks\":\"\",\"zerolinecolor\":\"#EBF0F8\"},\"yaxis\":{\"backgroundcolor\":\"white\",\"gridcolor\":\"#DFE8F3\",\"gridwidth\":2,\"linecolor\":\"#EBF0F8\",\"showbackground\":true,\"ticks\":\"\",\"zerolinecolor\":\"#EBF0F8\"},\"zaxis\":{\"backgroundcolor\":\"white\",\"gridcolor\":\"#DFE8F3\",\"gridwidth\":2,\"linecolor\":\"#EBF0F8\",\"showbackground\":true,\"ticks\":\"\",\"zerolinecolor\":\"#EBF0F8\"}},\"shapedefaults\":{\"line\":{\"color\":\"#2a3f5f\"}},\"ternary\":{\"aaxis\":{\"gridcolor\":\"#DFE8F3\",\"linecolor\":\"#A2B1C6\",\"ticks\":\"\"},\"baxis\":{\"gridcolor\":\"#DFE8F3\",\"linecolor\":\"#A2B1C6\",\"ticks\":\"\"},\"bgcolor\":\"white\",\"caxis\":{\"gridcolor\":\"#DFE8F3\",\"linecolor\":\"#A2B1C6\",\"ticks\":\"\"}},\"title\":{\"x\":0.05},\"xaxis\":{\"automargin\":true,\"gridcolor\":\"#EBF0F8\",\"linecolor\":\"#EBF0F8\",\"ticks\":\"\",\"title\":{\"standoff\":15},\"zerolinecolor\":\"#EBF0F8\",\"zerolinewidth\":2},\"yaxis\":{\"automargin\":true,\"gridcolor\":\"#EBF0F8\",\"linecolor\":\"#EBF0F8\",\"ticks\":\"\",\"title\":{\"standoff\":15},\"zerolinecolor\":\"#EBF0F8\",\"zerolinewidth\":2}}},\"title\":{\"font\":{\"size\":12}},\"width\":2100,\"xaxis\":{\"linewidth\":1.5,\"mirror\":true,\"rangeselector\":{\"buttons\":[{\"count\":7,\"label\":\"1w\",\"step\":\"day\",\"stepmode\":\"backward\"},{\"count\":1,\"label\":\"1m\",\"step\":\"month\",\"stepmode\":\"backward\"},{\"count\":6,\"label\":\"6m\",\"step\":\"month\",\"stepmode\":\"backward\"},{\"count\":1,\"label\":\"1y\",\"step\":\"year\",\"stepmode\":\"backward\"},{\"step\":\"all\"}]},\"rangeslider\":{\"visible\":true},\"showline\":true,\"title\":{\"text\":\"ds\"},\"type\":\"date\"},\"yaxis\":{\"linewidth\":1.5,\"mirror\":true,\"showline\":true,\"title\":{\"text\":\"y\"}}},                        {\"responsive\": true}                    ).then(function(){\n",
       "                            \n",
       "var gd = document.getElementById('387cc727-3dd2-464e-ba96-2f9a6be5f391');\n",
       "var x = new MutationObserver(function (mutations, observer) {{\n",
       "        var display = window.getComputedStyle(gd).display;\n",
       "        if (!display || display === 'none') {{\n",
       "            console.log([gd, 'removed!']);\n",
       "            Plotly.purge(gd);\n",
       "            observer.disconnect();\n",
       "        }}\n",
       "}});\n",
       "\n",
       "// Listen for the removal of the full notebook cells\n",
       "var notebookContainer = gd.closest('#notebook-container');\n",
       "if (notebookContainer) {{\n",
       "    x.observe(notebookContainer, {childList: true});\n",
       "}}\n",
       "\n",
       "// Listen for the clearing of the current output cell\n",
       "var outputEl = gd.closest('.output');\n",
       "if (outputEl) {{\n",
       "    x.observe(outputEl, {childList: true});\n",
       "}}\n",
       "\n",
       "                        })                };                });            </script>        </div>"
      ]
     },
     "metadata": {},
     "output_type": "display_data"
    }
   ],
   "source": [
    "\n",
    "m.set_plotting_backend('plotly')\n",
    "forecast = m.predict(future)\n",
    "fig = m.plot(forecast, figsize = (30, 10))\n",
    "fig\n"
   ]
  },
  {
   "cell_type": "code",
   "execution_count": 17,
   "id": "94427397-9747-4410-b6f4-8dd546f096ab",
   "metadata": {},
   "outputs": [
    {
     "name": "stdout",
     "output_type": "stream",
     "text": [
      "ds\n",
      "y\n",
      "yhat1\n",
      "yhat2\n",
      "yhat3\n",
      "yhat4\n",
      "yhat5\n",
      "yhat6\n",
      "yhat7\n",
      "yhat8\n",
      "yhat9\n",
      "yhat10\n",
      "yhat11\n",
      "yhat12\n",
      "yhat13\n",
      "yhat14\n",
      "yhat15\n",
      "yhat16\n",
      "yhat17\n",
      "yhat18\n",
      "yhat19\n",
      "yhat20\n",
      "yhat21\n",
      "yhat22\n",
      "yhat23\n",
      "yhat24\n",
      "yhat25\n",
      "yhat26\n",
      "yhat27\n",
      "yhat28\n",
      "yhat29\n",
      "yhat30\n",
      "yhat31\n",
      "yhat32\n",
      "yhat33\n",
      "yhat34\n",
      "yhat35\n",
      "yhat36\n",
      "yhat37\n",
      "yhat38\n",
      "yhat39\n",
      "yhat40\n",
      "yhat41\n",
      "yhat42\n",
      "yhat43\n",
      "yhat44\n",
      "yhat45\n",
      "yhat46\n",
      "yhat47\n",
      "yhat48\n",
      "ar1\n",
      "ar2\n",
      "ar3\n",
      "ar4\n",
      "ar5\n",
      "ar6\n",
      "ar7\n",
      "ar8\n",
      "ar9\n",
      "ar10\n",
      "ar11\n",
      "ar12\n",
      "ar13\n",
      "ar14\n",
      "ar15\n",
      "ar16\n",
      "ar17\n",
      "ar18\n",
      "ar19\n",
      "ar20\n",
      "ar21\n",
      "ar22\n",
      "ar23\n",
      "ar24\n",
      "ar25\n",
      "ar26\n",
      "ar27\n",
      "ar28\n",
      "ar29\n",
      "ar30\n",
      "ar31\n",
      "ar32\n",
      "ar33\n",
      "ar34\n",
      "ar35\n",
      "ar36\n",
      "ar37\n",
      "ar38\n",
      "ar39\n",
      "ar40\n",
      "ar41\n",
      "ar42\n",
      "ar43\n",
      "ar44\n",
      "ar45\n",
      "ar46\n",
      "ar47\n",
      "ar48\n",
      "trend\n",
      "season_yearly\n",
      "season_daily\n"
     ]
    }
   ],
   "source": [
    "for col in forecast.columns:\n",
    "    print(col)"
   ]
  },
  {
   "cell_type": "code",
   "execution_count": 13,
   "id": "a2e0d22d-b708-4ae4-863a-1e4af7a00320",
   "metadata": {},
   "outputs": [
    {
     "name": "stderr",
     "output_type": "stream",
     "text": [
      "INFO - (NP.df_utils._infer_frequency) - Major frequency 30T corresponds to 99.994% of the data.\n",
      "INFO - (NP.df_utils._infer_frequency) - Defined frequency is equal to major frequency - 30T\n",
      "WARNING - (NP.forecaster._make_future_dataframe) - Number of forecast steps is defined by n_forecasts. Adjusted to 48.\n",
      "INFO - (NP.df_utils.return_df_in_original_format) - Returning df with no ID column\n",
      "INFO - (NP.df_utils._infer_frequency) - Major frequency 30T corresponds to 99.702% of the data.\n",
      "INFO - (NP.df_utils._infer_frequency) - Defined frequency is equal to major frequency - 30T\n",
      "INFO - (NP.df_utils._infer_frequency) - Major frequency 30T corresponds to 99.702% of the data.\n",
      "INFO - (NP.df_utils._infer_frequency) - Defined frequency is equal to major frequency - 30T\n"
     ]
    },
    {
     "data": {
      "application/vnd.jupyter.widget-view+json": {
       "model_id": "30a41579cd8c49a6980aacc8272f99cb",
       "version_major": 2,
       "version_minor": 0
      },
      "text/plain": [
       "Predicting: 1093it [00:00, ?it/s]"
      ]
     },
     "metadata": {},
     "output_type": "display_data"
    },
    {
     "name": "stderr",
     "output_type": "stream",
     "text": [
      "INFO - (NP.df_utils.return_df_in_original_format) - Returning df with no ID column\n",
      "WARNING - (NP.plotting.log_warning_deprecation_plotly) - DeprecationWarning: default plotting_backend will be changed to plotly in a future version. Switch to plotly by calling `m.set_plotting_backend('plotly')`.\n"
     ]
    },
    {
     "data": {
      "image/png": "[encoded data removed]",
      "text/plain": [
       "<Figure size 1000x600 with 1 Axes>"
      ]
     },
     "metadata": {},
     "output_type": "display_data"
    }
   ],
   "source": [
    "future = m.make_future_dataframe(df_test, periods=24, n_historic_predictions=48)\n",
    "forecast = m.predict(future)\n",
    "fig = m.plot(forecast)"
   ]
  },
  {
   "cell_type": "code",
   "execution_count": 35,
   "id": "8872f783-12b3-4bbf-9a8b-28619a008a6e",
   "metadata": {},
   "outputs": [
    {
     "name": "stderr",
     "output_type": "stream",
     "text": [
      "INFO - (NP.df_utils._infer_frequency) - Major frequency 30T corresponds to 99.994% of the data.\n",
      "INFO - (NP.df_utils._infer_frequency) - Defined frequency is equal to major frequency - 30T\n",
      "INFO - (NP.df_utils._infer_frequency) - Major frequency 30T corresponds to 99.994% of the data.\n",
      "INFO - (NP.df_utils._infer_frequency) - Defined frequency is equal to major frequency - 30T\n"
     ]
    },
    {
     "data": {
      "application/vnd.jupyter.widget-view+json": {
       "model_id": "46d5d3f1bd08467c813c426384448e58",
       "version_major": 2,
       "version_minor": 0
      },
      "text/plain": [
       "Predicting: 1093it [00:00, ?it/s]"
      ]
     },
     "metadata": {},
     "output_type": "display_data"
    },
    {
     "name": "stderr",
     "output_type": "stream",
     "text": [
      "INFO - (NP.df_utils.return_df_in_original_format) - Returning df with no ID column\n"
     ]
    }
   ],
   "source": [
    "forecast = m.predict(df_test)"
   ]
  },
  {
   "cell_type": "code",
   "execution_count": null,
   "id": "0d7ad070-ea0d-412e-8155-7da36edc4a62",
   "metadata": {},
   "outputs": [],
   "source": [
    "fig_forecast = m.plot(forecast)\n",
    "fig_components = m.plot_components(forecast)\n",
    "fig_model = m.plot_parameters()"
   ]
  },
  {
   "cell_type": "code",
   "execution_count": null,
   "id": "373fd300-ed0c-43b6-803d-74f8c353802c",
   "metadata": {},
   "outputs": [],
   "source": [
    "fig_forecast = m.plot(forecast)"
   ]
  },
  {
   "cell_type": "code",
   "execution_count": null,
   "id": "6e35afaf-61ba-4552-9a39-c896af85e710",
   "metadata": {},
   "outputs": [],
   "source": [
    "metrics.tail(1)"
   ]
  },
  {
   "cell_type": "code",
   "execution_count": 46,
   "id": "8aba29f6-718b-4e6a-b155-e29690e48984",
   "metadata": {},
   "outputs": [
    {
     "name": "stderr",
     "output_type": "stream",
     "text": [
      "WARNING - (NP.plotting.log_warning_deprecation_plotly) - DeprecationWarning: default plotting_backend will be changed to plotly in a future version. Switch to plotly by calling `m.set_plotting_backend('plotly')`.\n"
     ]
    },
    {
     "data": {
      "image/png": "[encoded data removed]",
      "text/plain": [
       "<Figure size 1000x600 with 1 Axes>"
      ]
     },
     "metadata": {},
     "output_type": "display_data"
    }
   ],
   "source": [
    "\n",
    "m = m.highlight_nth_step_ahead_of_each_forecast(48)\n",
    "fig = m.plot(forecast[-48 * 2:])"
   ]
  },
  {
   "cell_type": "code",
   "execution_count": null,
   "id": "44a345b9-7f4d-4114-ba75-67174307805a",
   "metadata": {},
   "outputs": [],
   "source": [
    "future = m.make_future_dataframe(df_test, periods=400, n_historic_predictions=48)\n",
    "forecast = m.predict(future)\n",
    "fig = m.plot(forecast)"
   ]
  },
  {
   "cell_type": "code",
   "execution_count": 36,
   "id": "d1364b8c-c49a-41ac-ad33-05ab30c4aa82",
   "metadata": {},
   "outputs": [
    {
     "name": "stderr",
     "output_type": "stream",
     "text": [
      "INFO - (NP.df_utils._infer_frequency) - Major frequency 30T corresponds to 99.861% of the data.\n",
      "INFO - (NP.df_utils._infer_frequency) - Defined frequency is equal to major frequency - 30T\n",
      "INFO - (NP.df_utils.return_df_in_original_format) - Returning df with no ID column\n",
      "INFO - (NP.df_utils._infer_frequency) - Major frequency 30T corresponds to 99.74% of the data.\n",
      "INFO - (NP.df_utils._infer_frequency) - Defined frequency is equal to major frequency - 30T\n",
      "INFO - (NP.df_utils._infer_frequency) - Major frequency 30T corresponds to 99.74% of the data.\n",
      "INFO - (NP.df_utils._infer_frequency) - Defined frequency is equal to major frequency - 30T\n"
     ]
    },
    {
     "data": {
      "application/vnd.jupyter.widget-view+json": {
       "model_id": "46944d4c847e44b4be99d2ae2bc89735",
       "version_major": 2,
       "version_minor": 0
      },
      "text/plain": [
       "Predicting: 1093it [00:00, ?it/s]"
      ]
     },
     "metadata": {},
     "output_type": "display_data"
    },
    {
     "name": "stderr",
     "output_type": "stream",
     "text": [
      "INFO - (NP.df_utils.return_df_in_original_format) - Returning df with no ID column\n",
      "WARNING - (NP.forecaster.plot_last_forecast) - plot_last_forecast() has been renamed to plot_latest_forecast() and is therefore deprecated. Please use plot_latst_forecast() in the future\n",
      "WARNING - (NP.plotting.log_warning_deprecation_plotly) - DeprecationWarning: default plotting_backend will be changed to plotly in a future version. Switch to plotly by calling `m.set_plotting_backend('plotly')`.\n"
     ]
    },
    {
     "data": {
      "image/png": "[encoded data removed]",
      "text/plain": [
       "<Figure size 1000x600 with 1 Axes>"
      ]
     },
     "metadata": {},
     "output_type": "display_data"
    }
   ],
   "source": [
    "future = m.make_future_dataframe(df_test[-48 * 15:], n_historic_predictions=48 * 2)\n",
    "forecast = m.predict(future)\n",
    "m = m.highlight_nth_step_ahead_of_each_forecast(None)  # reset highlight\n",
    "fig = m.plot_last_forecast(forecast)"
   ]
  },
  {
   "cell_type": "code",
   "execution_count": 30,
   "id": "25810d4c-6880-4eb7-a00f-9e616483a90b",
   "metadata": {},
   "outputs": [
    {
     "data": {
      "text/html": [
       "<div>\n",
       "<style scoped>\n",
       "    .dataframe tbody tr th:only-of-type {\n",
       "        vertical-align: middle;\n",
       "    }\n",
       "\n",
       "    .dataframe tbody tr th {\n",
       "        vertical-align: top;\n",
       "    }\n",
       "\n",
       "    .dataframe thead th {\n",
       "        text-align: right;\n",
       "    }\n",
       "</style>\n",
       "<table border=\"1\" class=\"dataframe\">\n",
       "  <thead>\n",
       "    <tr style=\"text-align: right;\">\n",
       "      <th></th>\n",
       "      <th>ds</th>\n",
       "      <th>y</th>\n",
       "    </tr>\n",
       "  </thead>\n",
       "  <tbody>\n",
       "    <tr>\n",
       "      <th>13343</th>\n",
       "      <td>2020-09-23 00:30:00</td>\n",
       "      <td>0.014324</td>\n",
       "    </tr>\n",
       "    <tr>\n",
       "      <th>13344</th>\n",
       "      <td>2020-09-23 01:00:00</td>\n",
       "      <td>0.004963</td>\n",
       "    </tr>\n",
       "    <tr>\n",
       "      <th>13345</th>\n",
       "      <td>2020-09-23 01:30:00</td>\n",
       "      <td>-0.038775</td>\n",
       "    </tr>\n",
       "    <tr>\n",
       "      <th>13346</th>\n",
       "      <td>2020-09-23 02:00:00</td>\n",
       "      <td>0.022857</td>\n",
       "    </tr>\n",
       "    <tr>\n",
       "      <th>13347</th>\n",
       "      <td>2020-09-23 02:30:00</td>\n",
       "      <td>-0.007387</td>\n",
       "    </tr>\n",
       "    <tr>\n",
       "      <th>...</th>\n",
       "      <td>...</td>\n",
       "      <td>...</td>\n",
       "    </tr>\n",
       "    <tr>\n",
       "      <th>18138</th>\n",
       "      <td>2020-12-31 22:00:00</td>\n",
       "      <td>0.068927</td>\n",
       "    </tr>\n",
       "    <tr>\n",
       "      <th>18139</th>\n",
       "      <td>2020-12-31 22:30:00</td>\n",
       "      <td>0.042157</td>\n",
       "    </tr>\n",
       "    <tr>\n",
       "      <th>18140</th>\n",
       "      <td>2020-12-31 23:00:00</td>\n",
       "      <td>0.044696</td>\n",
       "    </tr>\n",
       "    <tr>\n",
       "      <th>18141</th>\n",
       "      <td>2020-12-31 23:30:00</td>\n",
       "      <td>0.018072</td>\n",
       "    </tr>\n",
       "    <tr>\n",
       "      <th>18142</th>\n",
       "      <td>2021-01-01 00:00:00</td>\n",
       "      <td>0.013478</td>\n",
       "    </tr>\n",
       "  </tbody>\n",
       "</table>\n",
       "<p>4800 rows × 2 columns</p>\n",
       "</div>"
      ],
      "text/plain": [
       "                       ds         y\n",
       "13343 2020-09-23 00:30:00  0.014324\n",
       "13344 2020-09-23 01:00:00  0.004963\n",
       "13345 2020-09-23 01:30:00 -0.038775\n",
       "13346 2020-09-23 02:00:00  0.022857\n",
       "13347 2020-09-23 02:30:00 -0.007387\n",
       "...                   ...       ...\n",
       "18138 2020-12-31 22:00:00  0.068927\n",
       "18139 2020-12-31 22:30:00  0.042157\n",
       "18140 2020-12-31 23:00:00  0.044696\n",
       "18141 2020-12-31 23:30:00  0.018072\n",
       "18142 2021-01-01 00:00:00  0.013478\n",
       "\n",
       "[4800 rows x 2 columns]"
      ]
     },
     "execution_count": 30,
     "metadata": {},
     "output_type": "execute_result"
    }
   ],
   "source": []
  },
  {
   "cell_type": "code",
   "execution_count": 37,
   "id": "d231d49d-87d8-4fcc-8d25-424ddbabc05d",
   "metadata": {},
   "outputs": [
    {
     "name": "stderr",
     "output_type": "stream",
     "text": [
      "WARNING - (NP.forecaster.plot_last_forecast) - plot_last_forecast() has been renamed to plot_latest_forecast() and is therefore deprecated. Please use plot_latst_forecast() in the future\n",
      "WARNING - (NP.plotting.log_warning_deprecation_plotly) - DeprecationWarning: default plotting_backend will be changed to plotly in a future version. Switch to plotly by calling `m.set_plotting_backend('plotly')`.\n",
      "WARNING - (NP.plotting.plot) - Legend is available only for the ten first handles\n"
     ]
    },
    {
     "data": {
      "image/png": "[encoded data removed]",
      "text/plain": [
       "<Figure size 1000x600 with 1 Axes>"
      ]
     },
     "metadata": {},
     "output_type": "display_data"
    }
   ],
   "source": [
    "m = m.highlight_nth_step_ahead_of_each_forecast(2 * 12)\n",
    "fig = m.plot_last_forecast(forecast, include_previous_forecasts=12)"
   ]
  },
  {
   "cell_type": "code",
   "execution_count": 38,
   "id": "d1619647-4dfb-4863-85b4-51d8b1191e1e",
   "metadata": {},
   "outputs": [
    {
     "name": "stderr",
     "output_type": "stream",
     "text": [
      "WARNING - (NP.forecaster.plot) - Too few forecasts to plot a line per forecast step.Plotting a line per forecast origin instead.\n",
      "WARNING - (py.warnings._showwarnmsg) - C:\\Users\\Asus Rog\\anaconda3\\envs\\NeuralProphet\\lib\\site-packages\\neuralprophet\\utils.py:600: FutureWarning: In a future version, `df.iloc[:, i] = newvals` will attempt to set the values inplace instead of always setting a new array. To retain the old behavior, use either `df[df.columns[i]] = newvals` or, if columns are non-unique, `df.isetitem(i, newvals)`\n",
      "  df.loc[rows, forecast_name] = last\n",
      "\n",
      "WARNING - (NP.plotting.log_warning_deprecation_plotly) - DeprecationWarning: default plotting_backend will be changed to plotly in a future version. Switch to plotly by calling `m.set_plotting_backend('plotly')`.\n"
     ]
    },
    {
     "data": {
      "image/png": "[encoded data removed]",
      "text/plain": [
       "<Figure size 1000x600 with 1 Axes>"
      ]
     },
     "metadata": {},
     "output_type": "display_data"
    }
   ],
   "source": [
    "fig1 = m.plot(forecast[-48:])"
   ]
  },
  {
   "cell_type": "code",
   "execution_count": 41,
   "id": "148fd525-37df-4065-b577-0914875847b4",
   "metadata": {},
   "outputs": [
    {
     "name": "stderr",
     "output_type": "stream",
     "text": [
      "INFO - (NP.forecaster.add_lagged_regressor) - n_lags = 'auto', number of lags for regressor is set to Autoregression number of lags (240)\n",
      "INFO - (NP.df_utils._infer_frequency) - Major frequency 30T corresponds to 99.999% of the data.\n",
      "INFO - (NP.df_utils._infer_frequency) - Dataframe freq automatically defined as 30T\n",
      "INFO - (NP.df_utils.return_df_in_original_format) - Returning df with no ID column\n",
      "INFO - (NP.df_utils.return_df_in_original_format) - Returning df with no ID column\n",
      "INFO - (NP.df_utils._infer_frequency) - Major frequency 30T corresponds to 99.999% of the data.\n",
      "INFO - (NP.df_utils._infer_frequency) - Dataframe freq automatically defined as 30T\n",
      "INFO - (NP.config.init_data_params) - Setting normalization to global as only one dataframe provided for training.\n",
      "INFO - (NP.config.set_auto_batch_epoch) - Auto-set batch_size to 64\n",
      "INFO - (NP.config.set_auto_batch_epoch) - Auto-set epochs to 63\n"
     ]
    },
    {
     "data": {
      "application/vnd.jupyter.widget-view+json": {
       "model_id": "5cfade281e6843129407aa8f8dba97de",
       "version_major": 2,
       "version_minor": 0
      },
      "text/plain": [
       "Training: 0it [00:00, ?it/s]"
      ]
     },
     "metadata": {},
     "output_type": "display_data"
    },
    {
     "data": {
      "application/vnd.jupyter.widget-view+json": {
       "model_id": "",
       "version_major": 2,
       "version_minor": 0
      },
      "text/plain": [
       "Validation: 0it [00:00, ?it/s]"
      ]
     },
     "metadata": {},
     "output_type": "display_data"
    },
    {
     "data": {
      "application/vnd.jupyter.widget-view+json": {
       "model_id": "",
       "version_major": 2,
       "version_minor": 0
      },
      "text/plain": [
       "Validation: 0it [00:00, ?it/s]"
      ]
     },
     "metadata": {},
     "output_type": "display_data"
    },
    {
     "data": {
      "application/vnd.jupyter.widget-view+json": {
       "model_id": "",
       "version_major": 2,
       "version_minor": 0
      },
      "text/plain": [
       "Validation: 0it [00:00, ?it/s]"
      ]
     },
     "metadata": {},
     "output_type": "display_data"
    },
    {
     "data": {
      "application/vnd.jupyter.widget-view+json": {
       "model_id": "",
       "version_major": 2,
       "version_minor": 0
      },
      "text/plain": [
       "Validation: 0it [00:00, ?it/s]"
      ]
     },
     "metadata": {},
     "output_type": "display_data"
    },
    {
     "data": {
      "application/vnd.jupyter.widget-view+json": {
       "model_id": "",
       "version_major": 2,
       "version_minor": 0
      },
      "text/plain": [
       "Validation: 0it [00:00, ?it/s]"
      ]
     },
     "metadata": {},
     "output_type": "display_data"
    },
    {
     "data": {
      "application/vnd.jupyter.widget-view+json": {
       "model_id": "",
       "version_major": 2,
       "version_minor": 0
      },
      "text/plain": [
       "Validation: 0it [00:00, ?it/s]"
      ]
     },
     "metadata": {},
     "output_type": "display_data"
    },
    {
     "data": {
      "application/vnd.jupyter.widget-view+json": {
       "model_id": "",
       "version_major": 2,
       "version_minor": 0
      },
      "text/plain": [
       "Validation: 0it [00:00, ?it/s]"
      ]
     },
     "metadata": {},
     "output_type": "display_data"
    },
    {
     "data": {
      "application/vnd.jupyter.widget-view+json": {
       "model_id": "",
       "version_major": 2,
       "version_minor": 0
      },
      "text/plain": [
       "Validation: 0it [00:00, ?it/s]"
      ]
     },
     "metadata": {},
     "output_type": "display_data"
    },
    {
     "data": {
      "application/vnd.jupyter.widget-view+json": {
       "model_id": "",
       "version_major": 2,
       "version_minor": 0
      },
      "text/plain": [
       "Validation: 0it [00:00, ?it/s]"
      ]
     },
     "metadata": {},
     "output_type": "display_data"
    },
    {
     "data": {
      "application/vnd.jupyter.widget-view+json": {
       "model_id": "",
       "version_major": 2,
       "version_minor": 0
      },
      "text/plain": [
       "Validation: 0it [00:00, ?it/s]"
      ]
     },
     "metadata": {},
     "output_type": "display_data"
    },
    {
     "data": {
      "application/vnd.jupyter.widget-view+json": {
       "model_id": "",
       "version_major": 2,
       "version_minor": 0
      },
      "text/plain": [
       "Validation: 0it [00:00, ?it/s]"
      ]
     },
     "metadata": {},
     "output_type": "display_data"
    },
    {
     "data": {
      "application/vnd.jupyter.widget-view+json": {
       "model_id": "",
       "version_major": 2,
       "version_minor": 0
      },
      "text/plain": [
       "Validation: 0it [00:00, ?it/s]"
      ]
     },
     "metadata": {},
     "output_type": "display_data"
    },
    {
     "data": {
      "application/vnd.jupyter.widget-view+json": {
       "model_id": "",
       "version_major": 2,
       "version_minor": 0
      },
      "text/plain": [
       "Validation: 0it [00:00, ?it/s]"
      ]
     },
     "metadata": {},
     "output_type": "display_data"
    },
    {
     "data": {
      "application/vnd.jupyter.widget-view+json": {
       "model_id": "",
       "version_major": 2,
       "version_minor": 0
      },
      "text/plain": [
       "Validation: 0it [00:00, ?it/s]"
      ]
     },
     "metadata": {},
     "output_type": "display_data"
    },
    {
     "data": {
      "application/vnd.jupyter.widget-view+json": {
       "model_id": "",
       "version_major": 2,
       "version_minor": 0
      },
      "text/plain": [
       "Validation: 0it [00:00, ?it/s]"
      ]
     },
     "metadata": {},
     "output_type": "display_data"
    },
    {
     "data": {
      "application/vnd.jupyter.widget-view+json": {
       "model_id": "",
       "version_major": 2,
       "version_minor": 0
      },
      "text/plain": [
       "Validation: 0it [00:00, ?it/s]"
      ]
     },
     "metadata": {},
     "output_type": "display_data"
    },
    {
     "data": {
      "application/vnd.jupyter.widget-view+json": {
       "model_id": "",
       "version_major": 2,
       "version_minor": 0
      },
      "text/plain": [
       "Validation: 0it [00:00, ?it/s]"
      ]
     },
     "metadata": {},
     "output_type": "display_data"
    },
    {
     "data": {
      "application/vnd.jupyter.widget-view+json": {
       "model_id": "",
       "version_major": 2,
       "version_minor": 0
      },
      "text/plain": [
       "Validation: 0it [00:00, ?it/s]"
      ]
     },
     "metadata": {},
     "output_type": "display_data"
    },
    {
     "data": {
      "application/vnd.jupyter.widget-view+json": {
       "model_id": "",
       "version_major": 2,
       "version_minor": 0
      },
      "text/plain": [
       "Validation: 0it [00:00, ?it/s]"
      ]
     },
     "metadata": {},
     "output_type": "display_data"
    },
    {
     "data": {
      "application/vnd.jupyter.widget-view+json": {
       "model_id": "",
       "version_major": 2,
       "version_minor": 0
      },
      "text/plain": [
       "Validation: 0it [00:00, ?it/s]"
      ]
     },
     "metadata": {},
     "output_type": "display_data"
    },
    {
     "data": {
      "application/vnd.jupyter.widget-view+json": {
       "model_id": "",
       "version_major": 2,
       "version_minor": 0
      },
      "text/plain": [
       "Validation: 0it [00:00, ?it/s]"
      ]
     },
     "metadata": {},
     "output_type": "display_data"
    },
    {
     "data": {
      "application/vnd.jupyter.widget-view+json": {
       "model_id": "",
       "version_major": 2,
       "version_minor": 0
      },
      "text/plain": [
       "Validation: 0it [00:00, ?it/s]"
      ]
     },
     "metadata": {},
     "output_type": "display_data"
    },
    {
     "data": {
      "application/vnd.jupyter.widget-view+json": {
       "model_id": "",
       "version_major": 2,
       "version_minor": 0
      },
      "text/plain": [
       "Validation: 0it [00:00, ?it/s]"
      ]
     },
     "metadata": {},
     "output_type": "display_data"
    },
    {
     "data": {
      "application/vnd.jupyter.widget-view+json": {
       "model_id": "",
       "version_major": 2,
       "version_minor": 0
      },
      "text/plain": [
       "Validation: 0it [00:00, ?it/s]"
      ]
     },
     "metadata": {},
     "output_type": "display_data"
    },
    {
     "data": {
      "application/vnd.jupyter.widget-view+json": {
       "model_id": "",
       "version_major": 2,
       "version_minor": 0
      },
      "text/plain": [
       "Validation: 0it [00:00, ?it/s]"
      ]
     },
     "metadata": {},
     "output_type": "display_data"
    },
    {
     "data": {
      "application/vnd.jupyter.widget-view+json": {
       "model_id": "",
       "version_major": 2,
       "version_minor": 0
      },
      "text/plain": [
       "Validation: 0it [00:00, ?it/s]"
      ]
     },
     "metadata": {},
     "output_type": "display_data"
    },
    {
     "data": {
      "application/vnd.jupyter.widget-view+json": {
       "model_id": "",
       "version_major": 2,
       "version_minor": 0
      },
      "text/plain": [
       "Validation: 0it [00:00, ?it/s]"
      ]
     },
     "metadata": {},
     "output_type": "display_data"
    },
    {
     "data": {
      "application/vnd.jupyter.widget-view+json": {
       "model_id": "",
       "version_major": 2,
       "version_minor": 0
      },
      "text/plain": [
       "Validation: 0it [00:00, ?it/s]"
      ]
     },
     "metadata": {},
     "output_type": "display_data"
    },
    {
     "data": {
      "application/vnd.jupyter.widget-view+json": {
       "model_id": "",
       "version_major": 2,
       "version_minor": 0
      },
      "text/plain": [
       "Validation: 0it [00:00, ?it/s]"
      ]
     },
     "metadata": {},
     "output_type": "display_data"
    },
    {
     "data": {
      "application/vnd.jupyter.widget-view+json": {
       "model_id": "",
       "version_major": 2,
       "version_minor": 0
      },
      "text/plain": [
       "Validation: 0it [00:00, ?it/s]"
      ]
     },
     "metadata": {},
     "output_type": "display_data"
    },
    {
     "data": {
      "application/vnd.jupyter.widget-view+json": {
       "model_id": "",
       "version_major": 2,
       "version_minor": 0
      },
      "text/plain": [
       "Validation: 0it [00:00, ?it/s]"
      ]
     },
     "metadata": {},
     "output_type": "display_data"
    },
    {
     "data": {
      "application/vnd.jupyter.widget-view+json": {
       "model_id": "",
       "version_major": 2,
       "version_minor": 0
      },
      "text/plain": [
       "Validation: 0it [00:00, ?it/s]"
      ]
     },
     "metadata": {},
     "output_type": "display_data"
    },
    {
     "data": {
      "application/vnd.jupyter.widget-view+json": {
       "model_id": "",
       "version_major": 2,
       "version_minor": 0
      },
      "text/plain": [
       "Validation: 0it [00:00, ?it/s]"
      ]
     },
     "metadata": {},
     "output_type": "display_data"
    },
    {
     "data": {
      "application/vnd.jupyter.widget-view+json": {
       "model_id": "",
       "version_major": 2,
       "version_minor": 0
      },
      "text/plain": [
       "Validation: 0it [00:00, ?it/s]"
      ]
     },
     "metadata": {},
     "output_type": "display_data"
    },
    {
     "data": {
      "application/vnd.jupyter.widget-view+json": {
       "model_id": "",
       "version_major": 2,
       "version_minor": 0
      },
      "text/plain": [
       "Validation: 0it [00:00, ?it/s]"
      ]
     },
     "metadata": {},
     "output_type": "display_data"
    },
    {
     "data": {
      "application/vnd.jupyter.widget-view+json": {
       "model_id": "",
       "version_major": 2,
       "version_minor": 0
      },
      "text/plain": [
       "Validation: 0it [00:00, ?it/s]"
      ]
     },
     "metadata": {},
     "output_type": "display_data"
    },
    {
     "data": {
      "application/vnd.jupyter.widget-view+json": {
       "model_id": "",
       "version_major": 2,
       "version_minor": 0
      },
      "text/plain": [
       "Validation: 0it [00:00, ?it/s]"
      ]
     },
     "metadata": {},
     "output_type": "display_data"
    },
    {
     "data": {
      "application/vnd.jupyter.widget-view+json": {
       "model_id": "",
       "version_major": 2,
       "version_minor": 0
      },
      "text/plain": [
       "Validation: 0it [00:00, ?it/s]"
      ]
     },
     "metadata": {},
     "output_type": "display_data"
    },
    {
     "data": {
      "application/vnd.jupyter.widget-view+json": {
       "model_id": "",
       "version_major": 2,
       "version_minor": 0
      },
      "text/plain": [
       "Validation: 0it [00:00, ?it/s]"
      ]
     },
     "metadata": {},
     "output_type": "display_data"
    },
    {
     "data": {
      "application/vnd.jupyter.widget-view+json": {
       "model_id": "",
       "version_major": 2,
       "version_minor": 0
      },
      "text/plain": [
       "Validation: 0it [00:00, ?it/s]"
      ]
     },
     "metadata": {},
     "output_type": "display_data"
    },
    {
     "data": {
      "application/vnd.jupyter.widget-view+json": {
       "model_id": "",
       "version_major": 2,
       "version_minor": 0
      },
      "text/plain": [
       "Validation: 0it [00:00, ?it/s]"
      ]
     },
     "metadata": {},
     "output_type": "display_data"
    },
    {
     "data": {
      "application/vnd.jupyter.widget-view+json": {
       "model_id": "",
       "version_major": 2,
       "version_minor": 0
      },
      "text/plain": [
       "Validation: 0it [00:00, ?it/s]"
      ]
     },
     "metadata": {},
     "output_type": "display_data"
    },
    {
     "data": {
      "application/vnd.jupyter.widget-view+json": {
       "model_id": "",
       "version_major": 2,
       "version_minor": 0
      },
      "text/plain": [
       "Validation: 0it [00:00, ?it/s]"
      ]
     },
     "metadata": {},
     "output_type": "display_data"
    },
    {
     "data": {
      "application/vnd.jupyter.widget-view+json": {
       "model_id": "",
       "version_major": 2,
       "version_minor": 0
      },
      "text/plain": [
       "Validation: 0it [00:00, ?it/s]"
      ]
     },
     "metadata": {},
     "output_type": "display_data"
    },
    {
     "data": {
      "application/vnd.jupyter.widget-view+json": {
       "model_id": "",
       "version_major": 2,
       "version_minor": 0
      },
      "text/plain": [
       "Validation: 0it [00:00, ?it/s]"
      ]
     },
     "metadata": {},
     "output_type": "display_data"
    },
    {
     "data": {
      "application/vnd.jupyter.widget-view+json": {
       "model_id": "",
       "version_major": 2,
       "version_minor": 0
      },
      "text/plain": [
       "Validation: 0it [00:00, ?it/s]"
      ]
     },
     "metadata": {},
     "output_type": "display_data"
    },
    {
     "data": {
      "application/vnd.jupyter.widget-view+json": {
       "model_id": "",
       "version_major": 2,
       "version_minor": 0
      },
      "text/plain": [
       "Validation: 0it [00:00, ?it/s]"
      ]
     },
     "metadata": {},
     "output_type": "display_data"
    },
    {
     "data": {
      "application/vnd.jupyter.widget-view+json": {
       "model_id": "",
       "version_major": 2,
       "version_minor": 0
      },
      "text/plain": [
       "Validation: 0it [00:00, ?it/s]"
      ]
     },
     "metadata": {},
     "output_type": "display_data"
    },
    {
     "data": {
      "application/vnd.jupyter.widget-view+json": {
       "model_id": "465bb8dbcde84b7cab7a9f78deeb2489",
       "version_major": 2,
       "version_minor": 0
      },
      "text/plain": [
       "Validation: 0it [00:00, ?it/s]"
      ]
     },
     "metadata": {},
     "output_type": "display_data"
    },
    {
     "data": {
      "application/vnd.jupyter.widget-view+json": {
       "model_id": "a3ae98e1d72d497daa363ea7f58bb583",
       "version_major": 2,
       "version_minor": 0
      },
      "text/plain": [
       "Validation: 0it [00:00, ?it/s]"
      ]
     },
     "metadata": {},
     "output_type": "display_data"
    },
    {
     "data": {
      "application/vnd.jupyter.widget-view+json": {
       "model_id": "f31a576f4e4c4d01af02e194f70dc92f",
       "version_major": 2,
       "version_minor": 0
      },
      "text/plain": [
       "Validation: 0it [00:00, ?it/s]"
      ]
     },
     "metadata": {},
     "output_type": "display_data"
    },
    {
     "data": {
      "application/vnd.jupyter.widget-view+json": {
       "model_id": "3b96f6f8ed704555a66c9896b31c9206",
       "version_major": 2,
       "version_minor": 0
      },
      "text/plain": [
       "Validation: 0it [00:00, ?it/s]"
      ]
     },
     "metadata": {},
     "output_type": "display_data"
    },
    {
     "data": {
      "application/vnd.jupyter.widget-view+json": {
       "model_id": "367ad4c08a834f7a8ac68fff028b6194",
       "version_major": 2,
       "version_minor": 0
      },
      "text/plain": [
       "Validation: 0it [00:00, ?it/s]"
      ]
     },
     "metadata": {},
     "output_type": "display_data"
    },
    {
     "data": {
      "application/vnd.jupyter.widget-view+json": {
       "model_id": "b4f7416656e34e479eee5dc1ee91839b",
       "version_major": 2,
       "version_minor": 0
      },
      "text/plain": [
       "Validation: 0it [00:00, ?it/s]"
      ]
     },
     "metadata": {},
     "output_type": "display_data"
    },
    {
     "data": {
      "application/vnd.jupyter.widget-view+json": {
       "model_id": "d9a7925f2f9e48818969a2ae65ff4eff",
       "version_major": 2,
       "version_minor": 0
      },
      "text/plain": [
       "Validation: 0it [00:00, ?it/s]"
      ]
     },
     "metadata": {},
     "output_type": "display_data"
    },
    {
     "data": {
      "application/vnd.jupyter.widget-view+json": {
       "model_id": "2d21ba96c8f441b6bc7da6e9033c7a27",
       "version_major": 2,
       "version_minor": 0
      },
      "text/plain": [
       "Validation: 0it [00:00, ?it/s]"
      ]
     },
     "metadata": {},
     "output_type": "display_data"
    },
    {
     "data": {
      "application/vnd.jupyter.widget-view+json": {
       "model_id": "6ffafd1887c146d3a8427374e0b42fc5",
       "version_major": 2,
       "version_minor": 0
      },
      "text/plain": [
       "Validation: 0it [00:00, ?it/s]"
      ]
     },
     "metadata": {},
     "output_type": "display_data"
    },
    {
     "data": {
      "application/vnd.jupyter.widget-view+json": {
       "model_id": "38e999962a68453b9889e9d31f6613a3",
       "version_major": 2,
       "version_minor": 0
      },
      "text/plain": [
       "Validation: 0it [00:00, ?it/s]"
      ]
     },
     "metadata": {},
     "output_type": "display_data"
    },
    {
     "data": {
      "application/vnd.jupyter.widget-view+json": {
       "model_id": "49380f66ff074e9bb281b3be1f183706",
       "version_major": 2,
       "version_minor": 0
      },
      "text/plain": [
       "Validation: 0it [00:00, ?it/s]"
      ]
     },
     "metadata": {},
     "output_type": "display_data"
    },
    {
     "data": {
      "application/vnd.jupyter.widget-view+json": {
       "model_id": "09b9ac93220b447bbff3d40671f99a3a",
       "version_major": 2,
       "version_minor": 0
      },
      "text/plain": [
       "Validation: 0it [00:00, ?it/s]"
      ]
     },
     "metadata": {},
     "output_type": "display_data"
    },
    {
     "data": {
      "application/vnd.jupyter.widget-view+json": {
       "model_id": "18e2969a66f640f6aeaef4f125daace5",
       "version_major": 2,
       "version_minor": 0
      },
      "text/plain": [
       "Validation: 0it [00:00, ?it/s]"
      ]
     },
     "metadata": {},
     "output_type": "display_data"
    },
    {
     "data": {
      "application/vnd.jupyter.widget-view+json": {
       "model_id": "",
       "version_major": 2,
       "version_minor": 0
      },
      "text/plain": [
       "Validation: 0it [00:00, ?it/s]"
      ]
     },
     "metadata": {},
     "output_type": "display_data"
    },
    {
     "data": {
      "application/vnd.jupyter.widget-view+json": {
       "model_id": "",
       "version_major": 2,
       "version_minor": 0
      },
      "text/plain": [
       "Validation: 0it [00:00, ?it/s]"
      ]
     },
     "metadata": {},
     "output_type": "display_data"
    }
   ],
   "source": [
    "trainer_config = {\"accelerator\":\"gpu\"}\n",
    "m = NeuralProphet(\n",
    "    n_forecasts=48,\n",
    "    growth=\"off\",\n",
    "    weekly_seasonality=False,\n",
    "    n_lags=5 * 48,\n",
    "    num_hidden_layers=5,\n",
    "    d_hidden=16,\n",
    "    learning_rate=0.003,\n",
    "    trainer_config = trainer_config,\n",
    ")\n",
    "m = m.add_lagged_regressor(names=other_regressors)  # , only_last_value=True)\n",
    "df_train, df_test = m.split_df(df_neural, valid_p=0.2)\n",
    "metrics = m.fit(df_train, validation_df=df_test)\n",
    "\n"
   ]
  },
  {
   "cell_type": "code",
   "execution_count": null,
   "id": "89847aa5-1ee5-4e11-9721-c3c260bc0649",
   "metadata": {},
   "outputs": [],
   "source": []
  }
 ],
 "metadata": {
  "kernelspec": {
   "display_name": "Python [conda env:NeuralProphet] *",
   "language": "python",
   "name": "conda-env-NeuralProphet-py"
  },
  "language_info": {
   "codemirror_mode": {
    "name": "ipython",
    "version": 3
   },
   "file_extension": ".py",
   "mimetype": "text/x-python",
   "name": "python",
   "nbconvert_exporter": "python",
   "pygments_lexer": "ipython3",
   "version": "3.9.15"
  }
 },
 "nbformat": 4,
 "nbformat_minor": 5
}
