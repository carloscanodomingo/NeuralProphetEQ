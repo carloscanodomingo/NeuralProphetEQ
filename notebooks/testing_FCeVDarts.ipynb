{
 "cells": [
  {
   "cell_type": "code",
   "execution_count": 1,
   "id": "4bed66a8-7517-448a-8a68-0f9be39dbea4",
   "metadata": {},
   "outputs": [
    {
     "name": "stdout",
     "output_type": "stream",
     "text": [
      "/home/carloscano/data/\n"
     ]
    }
   ],
   "source": [
    "%load_ext autoreload\n",
    "%autoreload 2\n",
    "\n",
    "import sys\n",
    "sys.path.append('../')\n",
    "from NPw_aux import prepare_ion_data\n",
    "import warnings\n",
    "import os\n",
    "warnings.filterwarnings(\"ignore\")\n",
    "import logging\n",
    "datapath = os.environ.get(\"DATA_PATH\")\n",
    "if datapath == None:\n",
    "    raise KeyError(\"Enviromental variable data path has to be declared\")\n",
    "print(datapath)\n",
    "from datetime import datetime, timedelta\n",
    "freq = timedelta(minutes=30)\n",
    "logging.disable(logging.CRITICAL)"
   ]
  },
  {
   "cell_type": "code",
   "execution_count": 2,
   "id": "bcbf3e87-afbd-473e-8554-6d42dc09a2e4",
   "metadata": {},
   "outputs": [],
   "source": [
    "#df_GNSSTEC,df_covariate, df_eq = prepare_ion_data(datapath, \"GRK\", freq)"
   ]
  },
  {
   "cell_type": "code",
   "execution_count": 3,
   "id": "a0a04104-7263-4adf-975c-b68543ac9f62",
   "metadata": {},
   "outputs": [],
   "source": [
    "#df_GNSSTEC.to_pickle(\"df_GNSSTEC.pkl\")\n",
    "#df_covariate.to_pickle(\"df_covariate.pkl\")\n",
    "#df_eq.to_pickle(\"df_eq.pkl\")"
   ]
  },
  {
   "cell_type": "code",
   "execution_count": 4,
   "id": "ffa48725-6a30-44ca-b3e9-2263aa2be738",
   "metadata": {},
   "outputs": [],
   "source": [
    "import pandas as pd\n",
    "df_GNSSTEC = pd.read_pickle(\"../data_test/df_GNSSTEC.pkl\")\n",
    "df_covariate = pd.read_pickle(\"../data_test/df_covariate.pkl\")\n",
    "df_eq = pd.read_pickle(\"../data_test/df_eq.pkl\")\n",
    "n_forecasts = 48\n"
   ]
  },
  {
   "cell_type": "code",
   "execution_count": 5,
   "id": "95867593-c41c-4652-8aeb-2a6d18644355",
   "metadata": {},
   "outputs": [],
   "source": [
    "%matplotlib inline\n",
    "from aux_function_SR import read_data, get_eq_filtered, SR_SENSORS\n",
    "import pandas as pd\n",
    "import numpy as np\n",
    "from neuralprophet import NeuralProphet, set_log_level, save, load\n",
    "import logging\n",
    "import pandas as pd\n",
    "\n",
    "import pickle\n",
    "from NPw import NPw, ConfigEQ, ConfigNPw, ConfigForecast\n",
    "from dataclasses import dataclass, asdict\n",
    "from dateutil.relativedelta import *\n",
    "\n",
    "import ast\n",
    "\n",
    "import sys\n",
    "import dateutil\n",
    "import numpy as np\n",
    "import pandas as pd\n",
    "import matplotlib.pyplot as plt\n",
    "\n",
    "from darts import TimeSeries\n",
    "from darts.models import TCNModel, RNNModel\n",
    "from darts.dataprocessing.transformers import Scaler,MissingValuesFiller\n",
    "from darts.utils.timeseries_generation import datetime_attribute_timeseries\n",
    "from darts.metrics import mape, r2_score\n",
    "from darts.utils.missing_values import fill_missing_values\n",
    "from darts.datasets import AirPassengersDataset, SunspotsDataset, EnergyDataset\n",
    "\n",
    "from NPw import NPw\n",
    "\n",
    "import pandas as pd\n",
    "\n",
    "from darts.models import TCNModel\n",
    "import darts.utils.timeseries_generation as tg\n",
    "from darts.utils.likelihood_models import GaussianLikelihood\n",
    "from darts.datasets import EnergyDataset\n",
    "from darts.utils.missing_values import fill_missing_values\n",
    "from darts import TimeSeries\n",
    "from darts.dataprocessing.transformers import Scaler\n",
    "from darts.utils.timeseries_generation import datetime_attribute_timeseries\n",
    "from NPw_aux import prepare_EQ, ConfigEQ\n"
   ]
  },
  {
   "cell_type": "code",
   "execution_count": 6,
   "id": "65631d5d-84bb-4104-9307-a8a8ca8f3ed0",
   "metadata": {},
   "outputs": [],
   "source": [
    "\n",
    "ConfigEQ_d = {\n",
    "    \"dist_start\": 1000,\n",
    "    \"dist_delta\": 3000,\n",
    "    \"mag_start\": 4.5,\n",
    "    \"mag_delta\": 2,\n",
    "    \"filter\": 1,\n",
    "    \"drop\": [\"arc_cos\", \"arc_sin\"],\n",
    "}\n",
    "config_events = ConfigEQ(**ConfigEQ_d)\n",
    "\n",
    "df_regressor = df_GNSSTEC.reset_index()\n",
    "df_other = df_covariate\n",
    "df_events = prepare_EQ(df_eq, config_events)    \n",
    " \n",
    "forecast_length = timedelta(hours=24)\n",
    "question_mark_length = timedelta(hours=24)\n",
    "# Time to take into account to predict \n",
    "historic_lenght =  timedelta(days=5)\n",
    "training_lenght = timedelta(days=30)"
   ]
  },
  {
   "cell_type": "code",
   "execution_count": 7,
   "id": "a5a8ffd1-0da5-43df-be38-a33c20bf8a66",
   "metadata": {},
   "outputs": [],
   "source": [
    "from darts import TimeSeries"
   ]
  },
  {
   "cell_type": "code",
   "execution_count": 36,
   "id": "d02ea5f4-30fe-4ce3-8bd2-960767663a16",
   "metadata": {},
   "outputs": [
    {
     "name": "stdout",
     "output_type": "stream",
     "text": [
      "The autoreload extension is already loaded. To reload it, use:\n",
      "  %reload_ext autoreload\n"
     ]
    }
   ],
   "source": [
    "from DartsFCeV import NLinearDartsFCeVConfig,TransformerDartsFCeVConfig, DartsFCeVConfig,NHITSDartsFCeVConfig, NBEATSDartsFCeVConfig,RNNDartsFCeVConfig,TCNDartsFCeVConfig, TFTDartsFCeVConfig\n",
    "\n",
    "from FCeV import FCeV, FCeVConfig\n",
    "\n",
    "TCN_darts_FCeV_config = {\n",
    "\"dilation_base\": 2,\n",
    "\"weight_norm\": True,\n",
    "#\"kernel_size\": 16,\n",
    "#\"num_filter\": 1000\n",
    "}\n",
    "\n",
    "\n",
    "RNN_darts_FCeV_config = {\n",
    "     \"RNNmodel\": \"RNN\"\n",
    "}\n",
    "RNN_darts_FCeV_config = RNNDartsFCeVConfig(**RNN_darts_FCeV_config)\n",
    "\n",
    "NBEATS_darts_FCeV_config = {\n",
    "    \"num_stacks\": 10,\n",
    "    #\"num_layers\": 10,\n",
    "    \"num_blocks\": 10,\n",
    "    #\"layer_widths\": 10,\n",
    "    \"expansion_coefficient_dim\": 10\n",
    "}\n",
    "\n",
    "\n",
    "NHITS_darts_FCeV_config = {\n",
    "    \"num_stacks\": 10,\n",
    "    #\"num_layers\": 10,\n",
    "    \"num_blocks\": 10,\n",
    "    #\"layer_widths\": 10,\n",
    "    \"expansion_coefficient_dim\": 10,\n",
    "    \"max_pool_1d\": True\n",
    "}\n",
    "\n",
    "TFT_darts_FCeV_config = {\n",
    "    #\"lstm_layers\" : 2,\n",
    "    #\"hidden_size\" : 64,\n",
    "    \"num_attention_heads\" : 4,\n",
    "    \"full_attention\" : False,\n",
    "    \"add_relative_index\": False,\n",
    "    \"hidden_continuous_size\" : 8,\n",
    "}\n",
    "TFT_darts_FCeV_config = TFTDartsFCeVConfig(**TFT_darts_FCeV_config)\n",
    "\n",
    "\n",
    "NLinear_darts_FCeV_config = {\n",
    "\"const_init\": True,\n",
    "}\n",
    "TCN_darts_FCeV_config = TCNDartsFCeVConfig(**TCN_darts_FCeV_config)\n",
    "\n",
    "\n",
    "\n",
    "NBEATS_darts_FCeV_config = NBEATSDartsFCeVConfig(**NBEATS_darts_FCeV_config)\n",
    "\n",
    "NHITS_darts_FCeV_config = NHITSDartsFCeVConfig(**NHITS_darts_FCeV_config)\n",
    "\n",
    "\n",
    "NLinear_darts_FCeV_config = NLinearDartsFCeVConfig(**NLinear_darts_FCeV_config)\n",
    " #assert self.head_dim * num_heads == self.embed_dim, \n",
    "Transformer_darts_FCeV_config = {\n",
    "    #\"d_model\": 12,\n",
    "    \"n_head_divisor\": 6,\n",
    "    #\"num_encoder_layers\": 3,\n",
    "    #\"num_decoder_layers\": 3,\n",
    "    \"dim_feedforward\": 512\n",
    "}\n",
    "Transformer_darts_FCeV_config = TransformerDartsFCeVConfig(**Transformer_darts_FCeV_config)\n",
    "\n",
    "darts_FCev_config = {\n",
    "    \"DartsModelConfig\": RNN_darts_FCeV_config,\n",
    "    \"dropout\":0.2,\n",
    "    \"n_epochs\":300,\n",
    "    \"n_layers\": 1,\n",
    "    \"internal_size\": 20,\n",
    "    \"batch_size\":2400 ,\n",
    "    \"learning_rate\": 1e-3,\n",
    "    \"use_gpu\": True,\n",
    "    \"event_type\": \"Non-Binary\",\n",
    "    \"patience\":30,\n",
    "    \"seed\": 1234567,\n",
    "    \"probabilistic\": True,\n",
    "    \"config_synthetic\": \"constant\"\n",
    "}\n",
    "darts_FCeV_config = DartsFCeVConfig(**darts_FCev_config)\n",
    "%load_ext autoreload\n",
    "%autoreload 2"
   ]
  },
  {
   "cell_type": "code",
   "execution_count": 37,
   "id": "0bd7f45a-1397-4bdf-b78d-d9800631bc7e",
   "metadata": {},
   "outputs": [],
   "source": [
    "train_day = datetime.fromisoformat(\"2018-10-01T00:00:00\")\n",
    "val_day = datetime.fromisoformat(\"2019-01-01T00:00:00\")\n",
    "forecast_length = timedelta(hours=24)\n",
    "question_mark_length = timedelta(hours=24)\n",
    "# Time to take into account to predict \n",
    "historic_lenght =  timedelta(days=2)\n",
    "training_lenght = timedelta(days=38 * 3)\n",
    "freq = pd.Timedelta(minutes=30)\n",
    "\n",
    "FCev_config = {\n",
    "    \"freq\": freq,\n",
    "    \"forecast_length\": forecast_length,\n",
    "    \"question_mark_length\": question_mark_length,\n",
    "    \"training_length\": training_lenght,\n",
    "    \"verbose\": True,\n",
    "    \"input_length\": historic_lenght\n",
    "}\n",
    "\n",
    "\n",
    "FCev_config = FCeVConfig(**FCev_config)"
   ]
  },
  {
   "cell_type": "code",
   "execution_count": 38,
   "id": "ecd4f2b5-8e74-47e1-8bf1-adf37108fa91",
   "metadata": {},
   "outputs": [
    {
     "data": {
      "text/plain": [
       "Index(['GRK', 'Kp', 'f107', 'N sunspot'], dtype='object')"
      ]
     },
     "execution_count": 38,
     "metadata": {},
     "output_type": "execute_result"
    }
   ],
   "source": [
    "df_covariate.columns"
   ]
  },
  {
   "cell_type": "code",
   "execution_count": 39,
   "id": "b1e1833b-489e-4c1f-bb79-aa5df18a9084",
   "metadata": {},
   "outputs": [],
   "source": [
    "#synthetic_events = pd.read_pickle(\"../data_test/synthetic.pkl\")\n",
    "#df_synth = prepare_EQ(synthetic_events, config_events)  \n",
    "output_path = \"results/\"\n",
    "synthetic_events = df_covariate[[\"f107\"]].quantile([.1,0.25, .5,0.75, .9])#.drop([\"count\", \"std\"])\n",
    "synthetic_events = pd.DataFrame(np.linspace(60, 80, 21), columns= [\"f107\"])\n",
    "df_events = pd.DataFrame(df_covariate[\"f107\"])\n",
    "\n",
    "current_fcev = FCeV(FCev_config, darts_FCeV_config, df_GNSSTEC, df_covariate.drop(\"f107\", axis = 1),df_events,  output_path, synthetic_events)"
   ]
  },
  {
   "cell_type": "code",
   "execution_count": 40,
   "id": "c034505c-4e68-45e4-8a1f-42adede6f45a",
   "metadata": {},
   "outputs": [
    {
     "data": {
      "text/html": [
       "<style>\n",
       "        .bk-notebook-logo {\n",
       "            display: block;\n",
       "            width: 20px;\n",
       "            height: 20px;\n",
       "            background-image: url(data:image/png;base64,iVBORw0KGgoAAAANSUhEUgAAABQAAAAUCAYAAACNiR0NAAAABHNCSVQICAgIfAhkiAAAAAlwSFlzAAALEgAACxIB0t1+/AAAABx0RVh0U29mdHdhcmUAQWRvYmUgRmlyZXdvcmtzIENTNui8sowAAAOkSURBVDiNjZRtaJVlGMd/1/08zzln5zjP1LWcU9N0NkN8m2CYjpgQYQXqSs0I84OLIC0hkEKoPtiH3gmKoiJDU7QpLgoLjLIQCpEsNJ1vqUOdO7ppbuec5+V+rj4ctwzd8IIbbi6u+8f1539dt3A78eXC7QizUF7gyV1fD1Yqg4JWz84yffhm0qkFqBogB9rM8tZdtwVsPUhWhGcFJngGeWrPzHm5oaMmkfEg1usvLFyc8jLRqDOMru7AyC8saQr7GG7f5fvDeH7Ej8CM66nIF+8yngt6HWaKh7k49Soy9nXurCi1o3qUbS3zWfrYeQDTB/Qj6kX6Ybhw4B+bOYoLKCC9H3Nu/leUTZ1JdRWkkn2ldcCamzrcf47KKXdAJllSlxAOkRgyHsGC/zRday5Qld9DyoM4/q/rUoy/CXh3jzOu3bHUVZeU+DEn8FInkPBFlu3+nW3Nw0mk6vCDiWg8CeJaxEwuHS3+z5RgY+YBR6V1Z1nxSOfoaPa4LASWxxdNp+VWTk7+4vzaou8v8PN+xo+KY2xsw6une2frhw05CTYOmQvsEhjhWjn0bmXPjpE1+kplmmkP3suftwTubK9Vq22qKmrBhpY4jvd5afdRA3wGjFAgcnTK2s4hY0/GPNIb0nErGMCRxWOOX64Z8RAC4oCXdklmEvcL8o0BfkNK4lUg9HTl+oPlQxdNo3Mg4Nv175e/1LDGzZen30MEjRUtmXSfiTVu1kK8W4txyV6BMKlbgk3lMwYCiusNy9fVfvvwMxv8Ynl6vxoByANLTWplvuj/nF9m2+PDtt1eiHPBr1oIfhCChQMBw6Aw0UulqTKZdfVvfG7VcfIqLG9bcldL/+pdWTLxLUy8Qq38heUIjh4XlzZxzQm19lLFlr8vdQ97rjZVOLf8nclzckbcD4wxXMidpX30sFd37Fv/GtwwhzhxGVAprjbg0gCAEeIgwCZyTV2Z1REEW8O4py0wsjeloKoMr6iCY6dP92H6Vw/oTyICIthibxjm/DfN9lVz8IqtqKYLUXfoKVMVQVVJOElGjrnnUt9T9wbgp8AyYKaGlqingHZU/uG2NTZSVqwHQTWkx9hxjkpWDaCg6Ckj5qebgBVbT3V3NNXMSiWSDdGV3hrtzla7J+duwPOToIg42ChPQOQjspnSlp1V+Gjdged7+8UN5CRAV7a5EdFNwCjEaBR27b3W890TE7g24NAP/mMDXRWrGoFPQI9ls/MWO2dWFAar/xcOIImbbpA3zgAAAABJRU5ErkJggg==);\n",
       "        }\n",
       "    </style>\n",
       "    <div>\n",
       "        <a href=\"https://bokeh.org\" target=\"_blank\" class=\"bk-notebook-logo\"></a>\n",
       "        <span id=\"p1005\">Loading BokehJS ...</span>\n",
       "    </div>\n"
      ]
     },
     "metadata": {},
     "output_type": "display_data"
    },
    {
     "data": {
      "application/javascript": [
       "(function(root) {\n",
       "  function now() {\n",
       "    return new Date();\n",
       "  }\n",
       "\n",
       "  const force = true;\n",
       "\n",
       "  if (typeof root._bokeh_onload_callbacks === \"undefined\" || force === true) {\n",
       "    root._bokeh_onload_callbacks = [];\n",
       "    root._bokeh_is_loading = undefined;\n",
       "  }\n",
       "\n",
       "const JS_MIME_TYPE = 'application/javascript';\n",
       "  const HTML_MIME_TYPE = 'text/html';\n",
       "  const EXEC_MIME_TYPE = 'application/vnd.bokehjs_exec.v0+json';\n",
       "  const CLASS_NAME = 'output_bokeh rendered_html';\n",
       "\n",
       "  /**\n",
       "   * Render data to the DOM node\n",
       "   */\n",
       "  function render(props, node) {\n",
       "    const script = document.createElement(\"script\");\n",
       "    node.appendChild(script);\n",
       "  }\n",
       "\n",
       "  /**\n",
       "   * Handle when an output is cleared or removed\n",
       "   */\n",
       "  function handleClearOutput(event, handle) {\n",
       "    const cell = handle.cell;\n",
       "\n",
       "    const id = cell.output_area._bokeh_element_id;\n",
       "    const server_id = cell.output_area._bokeh_server_id;\n",
       "    // Clean up Bokeh references\n",
       "    if (id != null && id in Bokeh.index) {\n",
       "      Bokeh.index[id].model.document.clear();\n",
       "      delete Bokeh.index[id];\n",
       "    }\n",
       "\n",
       "    if (server_id !== undefined) {\n",
       "      // Clean up Bokeh references\n",
       "      const cmd_clean = \"from bokeh.io.state import curstate; print(curstate().uuid_to_server['\" + server_id + \"'].get_sessions()[0].document.roots[0]._id)\";\n",
       "      cell.notebook.kernel.execute(cmd_clean, {\n",
       "        iopub: {\n",
       "          output: function(msg) {\n",
       "            const id = msg.content.text.trim();\n",
       "            if (id in Bokeh.index) {\n",
       "              Bokeh.index[id].model.document.clear();\n",
       "              delete Bokeh.index[id];\n",
       "            }\n",
       "          }\n",
       "        }\n",
       "      });\n",
       "      // Destroy server and session\n",
       "      const cmd_destroy = \"import bokeh.io.notebook as ion; ion.destroy_server('\" + server_id + \"')\";\n",
       "      cell.notebook.kernel.execute(cmd_destroy);\n",
       "    }\n",
       "  }\n",
       "\n",
       "  /**\n",
       "   * Handle when a new output is added\n",
       "   */\n",
       "  function handleAddOutput(event, handle) {\n",
       "    const output_area = handle.output_area;\n",
       "    const output = handle.output;\n",
       "\n",
       "    // limit handleAddOutput to display_data with EXEC_MIME_TYPE content only\n",
       "    if ((output.output_type != \"display_data\") || (!Object.prototype.hasOwnProperty.call(output.data, EXEC_MIME_TYPE))) {\n",
       "      return\n",
       "    }\n",
       "\n",
       "    const toinsert = output_area.element.find(\".\" + CLASS_NAME.split(' ')[0]);\n",
       "\n",
       "    if (output.metadata[EXEC_MIME_TYPE][\"id\"] !== undefined) {\n",
       "      toinsert[toinsert.length - 1].firstChild.textContent = output.data[JS_MIME_TYPE];\n",
       "      // store reference to embed id on output_area\n",
       "      output_area._bokeh_element_id = output.metadata[EXEC_MIME_TYPE][\"id\"];\n",
       "    }\n",
       "    if (output.metadata[EXEC_MIME_TYPE][\"server_id\"] !== undefined) {\n",
       "      const bk_div = document.createElement(\"div\");\n",
       "      bk_div.innerHTML = output.data[HTML_MIME_TYPE];\n",
       "      const script_attrs = bk_div.children[0].attributes;\n",
       "      for (let i = 0; i < script_attrs.length; i++) {\n",
       "        toinsert[toinsert.length - 1].firstChild.setAttribute(script_attrs[i].name, script_attrs[i].value);\n",
       "        toinsert[toinsert.length - 1].firstChild.textContent = bk_div.children[0].textContent\n",
       "      }\n",
       "      // store reference to server id on output_area\n",
       "      output_area._bokeh_server_id = output.metadata[EXEC_MIME_TYPE][\"server_id\"];\n",
       "    }\n",
       "  }\n",
       "\n",
       "  function register_renderer(events, OutputArea) {\n",
       "\n",
       "    function append_mime(data, metadata, element) {\n",
       "      // create a DOM node to render to\n",
       "      const toinsert = this.create_output_subarea(\n",
       "        metadata,\n",
       "        CLASS_NAME,\n",
       "        EXEC_MIME_TYPE\n",
       "      );\n",
       "      this.keyboard_manager.register_events(toinsert);\n",
       "      // Render to node\n",
       "      const props = {data: data, metadata: metadata[EXEC_MIME_TYPE]};\n",
       "      render(props, toinsert[toinsert.length - 1]);\n",
       "      element.append(toinsert);\n",
       "      return toinsert\n",
       "    }\n",
       "\n",
       "    /* Handle when an output is cleared or removed */\n",
       "    events.on('clear_output.CodeCell', handleClearOutput);\n",
       "    events.on('delete.Cell', handleClearOutput);\n",
       "\n",
       "    /* Handle when a new output is added */\n",
       "    events.on('output_added.OutputArea', handleAddOutput);\n",
       "\n",
       "    /**\n",
       "     * Register the mime type and append_mime function with output_area\n",
       "     */\n",
       "    OutputArea.prototype.register_mime_type(EXEC_MIME_TYPE, append_mime, {\n",
       "      /* Is output safe? */\n",
       "      safe: true,\n",
       "      /* Index of renderer in `output_area.display_order` */\n",
       "      index: 0\n",
       "    });\n",
       "  }\n",
       "\n",
       "  // register the mime type if in Jupyter Notebook environment and previously unregistered\n",
       "  if (root.Jupyter !== undefined) {\n",
       "    const events = require('base/js/events');\n",
       "    const OutputArea = require('notebook/js/outputarea').OutputArea;\n",
       "\n",
       "    if (OutputArea.prototype.mime_types().indexOf(EXEC_MIME_TYPE) == -1) {\n",
       "      register_renderer(events, OutputArea);\n",
       "    }\n",
       "  }\n",
       "  if (typeof (root._bokeh_timeout) === \"undefined\" || force === true) {\n",
       "    root._bokeh_timeout = Date.now() + 5000;\n",
       "    root._bokeh_failed_load = false;\n",
       "  }\n",
       "\n",
       "  const NB_LOAD_WARNING = {'data': {'text/html':\n",
       "     \"<div style='background-color: #fdd'>\\n\"+\n",
       "     \"<p>\\n\"+\n",
       "     \"BokehJS does not appear to have successfully loaded. If loading BokehJS from CDN, this \\n\"+\n",
       "     \"may be due to a slow or bad network connection. Possible fixes:\\n\"+\n",
       "     \"</p>\\n\"+\n",
       "     \"<ul>\\n\"+\n",
       "     \"<li>re-rerun `output_notebook()` to attempt to load from CDN again, or</li>\\n\"+\n",
       "     \"<li>use INLINE resources instead, as so:</li>\\n\"+\n",
       "     \"</ul>\\n\"+\n",
       "     \"<code>\\n\"+\n",
       "     \"from bokeh.resources import INLINE\\n\"+\n",
       "     \"output_notebook(resources=INLINE)\\n\"+\n",
       "     \"</code>\\n\"+\n",
       "     \"</div>\"}};\n",
       "\n",
       "  function display_loaded() {\n",
       "    const el = document.getElementById(\"p1005\");\n",
       "    if (el != null) {\n",
       "      el.textContent = \"BokehJS is loading...\";\n",
       "    }\n",
       "    if (root.Bokeh !== undefined) {\n",
       "      if (el != null) {\n",
       "        el.textContent = \"BokehJS \" + root.Bokeh.version + \" successfully loaded.\";\n",
       "      }\n",
       "    } else if (Date.now() < root._bokeh_timeout) {\n",
       "      setTimeout(display_loaded, 100)\n",
       "    }\n",
       "  }\n",
       "\n",
       "  function run_callbacks() {\n",
       "    try {\n",
       "      root._bokeh_onload_callbacks.forEach(function(callback) {\n",
       "        if (callback != null)\n",
       "          callback();\n",
       "      });\n",
       "    } finally {\n",
       "      delete root._bokeh_onload_callbacks\n",
       "    }\n",
       "    console.debug(\"Bokeh: all callbacks have finished\");\n",
       "  }\n",
       "\n",
       "  function load_libs(css_urls, js_urls, callback) {\n",
       "    if (css_urls == null) css_urls = [];\n",
       "    if (js_urls == null) js_urls = [];\n",
       "\n",
       "    root._bokeh_onload_callbacks.push(callback);\n",
       "    if (root._bokeh_is_loading > 0) {\n",
       "      console.debug(\"Bokeh: BokehJS is being loaded, scheduling callback at\", now());\n",
       "      return null;\n",
       "    }\n",
       "    if (js_urls == null || js_urls.length === 0) {\n",
       "      run_callbacks();\n",
       "      return null;\n",
       "    }\n",
       "    console.debug(\"Bokeh: BokehJS not loaded, scheduling load and callback at\", now());\n",
       "    root._bokeh_is_loading = css_urls.length + js_urls.length;\n",
       "\n",
       "    function on_load() {\n",
       "      root._bokeh_is_loading--;\n",
       "      if (root._bokeh_is_loading === 0) {\n",
       "        console.debug(\"Bokeh: all BokehJS libraries/stylesheets loaded\");\n",
       "        run_callbacks()\n",
       "      }\n",
       "    }\n",
       "\n",
       "    function on_error(url) {\n",
       "      console.error(\"failed to load \" + url);\n",
       "    }\n",
       "\n",
       "    for (let i = 0; i < css_urls.length; i++) {\n",
       "      const url = css_urls[i];\n",
       "      const element = document.createElement(\"link\");\n",
       "      element.onload = on_load;\n",
       "      element.onerror = on_error.bind(null, url);\n",
       "      element.rel = \"stylesheet\";\n",
       "      element.type = \"text/css\";\n",
       "      element.href = url;\n",
       "      console.debug(\"Bokeh: injecting link tag for BokehJS stylesheet: \", url);\n",
       "      document.body.appendChild(element);\n",
       "    }\n",
       "\n",
       "    for (let i = 0; i < js_urls.length; i++) {\n",
       "      const url = js_urls[i];\n",
       "      const element = document.createElement('script');\n",
       "      element.onload = on_load;\n",
       "      element.onerror = on_error.bind(null, url);\n",
       "      element.async = false;\n",
       "      element.src = url;\n",
       "      console.debug(\"Bokeh: injecting script tag for BokehJS library: \", url);\n",
       "      document.head.appendChild(element);\n",
       "    }\n",
       "  };\n",
       "\n",
       "  function inject_raw_css(css) {\n",
       "    const element = document.createElement(\"style\");\n",
       "    element.appendChild(document.createTextNode(css));\n",
       "    document.body.appendChild(element);\n",
       "  }\n",
       "\n",
       "  const js_urls = [\"https://cdn.bokeh.org/bokeh/release/bokeh-3.0.3.min.js\", \"https://cdn.bokeh.org/bokeh/release/bokeh-gl-3.0.3.min.js\", \"https://cdn.bokeh.org/bokeh/release/bokeh-widgets-3.0.3.min.js\", \"https://cdn.bokeh.org/bokeh/release/bokeh-tables-3.0.3.min.js\", \"https://cdn.bokeh.org/bokeh/release/bokeh-mathjax-3.0.3.min.js\"];\n",
       "  const css_urls = [];\n",
       "\n",
       "  const inline_js = [    function(Bokeh) {\n",
       "      Bokeh.set_log_level(\"info\");\n",
       "    },\n",
       "function(Bokeh) {\n",
       "    }\n",
       "  ];\n",
       "\n",
       "  function run_inline_js() {\n",
       "    if (root.Bokeh !== undefined || force === true) {\n",
       "          for (let i = 0; i < inline_js.length; i++) {\n",
       "      inline_js[i].call(root, root.Bokeh);\n",
       "    }\n",
       "if (force === true) {\n",
       "        display_loaded();\n",
       "      }} else if (Date.now() < root._bokeh_timeout) {\n",
       "      setTimeout(run_inline_js, 100);\n",
       "    } else if (!root._bokeh_failed_load) {\n",
       "      console.log(\"Bokeh: BokehJS failed to load within specified timeout.\");\n",
       "      root._bokeh_failed_load = true;\n",
       "    } else if (force !== true) {\n",
       "      const cell = $(document.getElementById(\"p1005\")).parents('.cell').data().cell;\n",
       "      cell.output_area.append_execute_result(NB_LOAD_WARNING)\n",
       "    }\n",
       "  }\n",
       "\n",
       "  if (root._bokeh_is_loading === 0) {\n",
       "    console.debug(\"Bokeh: BokehJS loaded, going straight to plotting\");\n",
       "    run_inline_js();\n",
       "  } else {\n",
       "    load_libs(css_urls, js_urls, function() {\n",
       "      console.debug(\"Bokeh: BokehJS plotting callback run at\", now());\n",
       "      run_inline_js();\n",
       "    });\n",
       "  }\n",
       "}(window));"
      ],
      "application/vnd.bokehjs_load.v0+json": "(function(root) {\n  function now() {\n    return new Date();\n  }\n\n  const force = true;\n\n  if (typeof root._bokeh_onload_callbacks === \"undefined\" || force === true) {\n    root._bokeh_onload_callbacks = [];\n    root._bokeh_is_loading = undefined;\n  }\n\n\n  if (typeof (root._bokeh_timeout) === \"undefined\" || force === true) {\n    root._bokeh_timeout = Date.now() + 5000;\n    root._bokeh_failed_load = false;\n  }\n\n  const NB_LOAD_WARNING = {'data': {'text/html':\n     \"<div style='background-color: #fdd'>\\n\"+\n     \"<p>\\n\"+\n     \"BokehJS does not appear to have successfully loaded. If loading BokehJS from CDN, this \\n\"+\n     \"may be due to a slow or bad network connection. Possible fixes:\\n\"+\n     \"</p>\\n\"+\n     \"<ul>\\n\"+\n     \"<li>re-rerun `output_notebook()` to attempt to load from CDN again, or</li>\\n\"+\n     \"<li>use INLINE resources instead, as so:</li>\\n\"+\n     \"</ul>\\n\"+\n     \"<code>\\n\"+\n     \"from bokeh.resources import INLINE\\n\"+\n     \"output_notebook(resources=INLINE)\\n\"+\n     \"</code>\\n\"+\n     \"</div>\"}};\n\n  function display_loaded() {\n    const el = document.getElementById(\"p1005\");\n    if (el != null) {\n      el.textContent = \"BokehJS is loading...\";\n    }\n    if (root.Bokeh !== undefined) {\n      if (el != null) {\n        el.textContent = \"BokehJS \" + root.Bokeh.version + \" successfully loaded.\";\n      }\n    } else if (Date.now() < root._bokeh_timeout) {\n      setTimeout(display_loaded, 100)\n    }\n  }\n\n  function run_callbacks() {\n    try {\n      root._bokeh_onload_callbacks.forEach(function(callback) {\n        if (callback != null)\n          callback();\n      });\n    } finally {\n      delete root._bokeh_onload_callbacks\n    }\n    console.debug(\"Bokeh: all callbacks have finished\");\n  }\n\n  function load_libs(css_urls, js_urls, callback) {\n    if (css_urls == null) css_urls = [];\n    if (js_urls == null) js_urls = [];\n\n    root._bokeh_onload_callbacks.push(callback);\n    if (root._bokeh_is_loading > 0) {\n      console.debug(\"Bokeh: BokehJS is being loaded, scheduling callback at\", now());\n      return null;\n    }\n    if (js_urls == null || js_urls.length === 0) {\n      run_callbacks();\n      return null;\n    }\n    console.debug(\"Bokeh: BokehJS not loaded, scheduling load and callback at\", now());\n    root._bokeh_is_loading = css_urls.length + js_urls.length;\n\n    function on_load() {\n      root._bokeh_is_loading--;\n      if (root._bokeh_is_loading === 0) {\n        console.debug(\"Bokeh: all BokehJS libraries/stylesheets loaded\");\n        run_callbacks()\n      }\n    }\n\n    function on_error(url) {\n      console.error(\"failed to load \" + url);\n    }\n\n    for (let i = 0; i < css_urls.length; i++) {\n      const url = css_urls[i];\n      const element = document.createElement(\"link\");\n      element.onload = on_load;\n      element.onerror = on_error.bind(null, url);\n      element.rel = \"stylesheet\";\n      element.type = \"text/css\";\n      element.href = url;\n      console.debug(\"Bokeh: injecting link tag for BokehJS stylesheet: \", url);\n      document.body.appendChild(element);\n    }\n\n    for (let i = 0; i < js_urls.length; i++) {\n      const url = js_urls[i];\n      const element = document.createElement('script');\n      element.onload = on_load;\n      element.onerror = on_error.bind(null, url);\n      element.async = false;\n      element.src = url;\n      console.debug(\"Bokeh: injecting script tag for BokehJS library: \", url);\n      document.head.appendChild(element);\n    }\n  };\n\n  function inject_raw_css(css) {\n    const element = document.createElement(\"style\");\n    element.appendChild(document.createTextNode(css));\n    document.body.appendChild(element);\n  }\n\n  const js_urls = [\"https://cdn.bokeh.org/bokeh/release/bokeh-3.0.3.min.js\", \"https://cdn.bokeh.org/bokeh/release/bokeh-gl-3.0.3.min.js\", \"https://cdn.bokeh.org/bokeh/release/bokeh-widgets-3.0.3.min.js\", \"https://cdn.bokeh.org/bokeh/release/bokeh-tables-3.0.3.min.js\", \"https://cdn.bokeh.org/bokeh/release/bokeh-mathjax-3.0.3.min.js\"];\n  const css_urls = [];\n\n  const inline_js = [    function(Bokeh) {\n      Bokeh.set_log_level(\"info\");\n    },\nfunction(Bokeh) {\n    }\n  ];\n\n  function run_inline_js() {\n    if (root.Bokeh !== undefined || force === true) {\n          for (let i = 0; i < inline_js.length; i++) {\n      inline_js[i].call(root, root.Bokeh);\n    }\nif (force === true) {\n        display_loaded();\n      }} else if (Date.now() < root._bokeh_timeout) {\n      setTimeout(run_inline_js, 100);\n    } else if (!root._bokeh_failed_load) {\n      console.log(\"Bokeh: BokehJS failed to load within specified timeout.\");\n      root._bokeh_failed_load = true;\n    } else if (force !== true) {\n      const cell = $(document.getElementById(\"p1005\")).parents('.cell').data().cell;\n      cell.output_area.append_execute_result(NB_LOAD_WARNING)\n    }\n  }\n\n  if (root._bokeh_is_loading === 0) {\n    console.debug(\"Bokeh: BokehJS loaded, going straight to plotting\");\n    run_inline_js();\n  } else {\n    load_libs(css_urls, js_urls, function() {\n      console.debug(\"Bokeh: BokehJS plotting callback run at\", now());\n      run_inline_js();\n    });\n  }\n}(window));"
     },
     "metadata": {},
     "output_type": "display_data"
    },
    {
     "data": {
      "text/html": [
       "<style>\n",
       "        .bk-notebook-logo {\n",
       "            display: block;\n",
       "            width: 20px;\n",
       "            height: 20px;\n",
       "            background-image: url(data:image/png;base64,iVBORw0KGgoAAAANSUhEUgAAABQAAAAUCAYAAACNiR0NAAAABHNCSVQICAgIfAhkiAAAAAlwSFlzAAALEgAACxIB0t1+/AAAABx0RVh0U29mdHdhcmUAQWRvYmUgRmlyZXdvcmtzIENTNui8sowAAAOkSURBVDiNjZRtaJVlGMd/1/08zzln5zjP1LWcU9N0NkN8m2CYjpgQYQXqSs0I84OLIC0hkEKoPtiH3gmKoiJDU7QpLgoLjLIQCpEsNJ1vqUOdO7ppbuec5+V+rj4ctwzd8IIbbi6u+8f1539dt3A78eXC7QizUF7gyV1fD1Yqg4JWz84yffhm0qkFqBogB9rM8tZdtwVsPUhWhGcFJngGeWrPzHm5oaMmkfEg1usvLFyc8jLRqDOMru7AyC8saQr7GG7f5fvDeH7Ej8CM66nIF+8yngt6HWaKh7k49Soy9nXurCi1o3qUbS3zWfrYeQDTB/Qj6kX6Ybhw4B+bOYoLKCC9H3Nu/leUTZ1JdRWkkn2ldcCamzrcf47KKXdAJllSlxAOkRgyHsGC/zRday5Qld9DyoM4/q/rUoy/CXh3jzOu3bHUVZeU+DEn8FInkPBFlu3+nW3Nw0mk6vCDiWg8CeJaxEwuHS3+z5RgY+YBR6V1Z1nxSOfoaPa4LASWxxdNp+VWTk7+4vzaou8v8PN+xo+KY2xsw6une2frhw05CTYOmQvsEhjhWjn0bmXPjpE1+kplmmkP3suftwTubK9Vq22qKmrBhpY4jvd5afdRA3wGjFAgcnTK2s4hY0/GPNIb0nErGMCRxWOOX64Z8RAC4oCXdklmEvcL8o0BfkNK4lUg9HTl+oPlQxdNo3Mg4Nv175e/1LDGzZen30MEjRUtmXSfiTVu1kK8W4txyV6BMKlbgk3lMwYCiusNy9fVfvvwMxv8Ynl6vxoByANLTWplvuj/nF9m2+PDtt1eiHPBr1oIfhCChQMBw6Aw0UulqTKZdfVvfG7VcfIqLG9bcldL/+pdWTLxLUy8Qq38heUIjh4XlzZxzQm19lLFlr8vdQ97rjZVOLf8nclzckbcD4wxXMidpX30sFd37Fv/GtwwhzhxGVAprjbg0gCAEeIgwCZyTV2Z1REEW8O4py0wsjeloKoMr6iCY6dP92H6Vw/oTyICIthibxjm/DfN9lVz8IqtqKYLUXfoKVMVQVVJOElGjrnnUt9T9wbgp8AyYKaGlqingHZU/uG2NTZSVqwHQTWkx9hxjkpWDaCg6Ckj5qebgBVbT3V3NNXMSiWSDdGV3hrtzla7J+duwPOToIg42ChPQOQjspnSlp1V+Gjdged7+8UN5CRAV7a5EdFNwCjEaBR27b3W890TE7g24NAP/mMDXRWrGoFPQI9ls/MWO2dWFAar/xcOIImbbpA3zgAAAABJRU5ErkJggg==);\n",
       "        }\n",
       "    </style>\n",
       "    <div>\n",
       "        <a href=\"https://bokeh.org\" target=\"_blank\" class=\"bk-notebook-logo\"></a>\n",
       "        <span id=\"p1006\">Loading BokehJS ...</span>\n",
       "    </div>\n"
      ]
     },
     "metadata": {},
     "output_type": "display_data"
    },
    {
     "data": {
      "application/javascript": [
       "(function(root) {\n",
       "  function now() {\n",
       "    return new Date();\n",
       "  }\n",
       "\n",
       "  const force = true;\n",
       "\n",
       "  if (typeof root._bokeh_onload_callbacks === \"undefined\" || force === true) {\n",
       "    root._bokeh_onload_callbacks = [];\n",
       "    root._bokeh_is_loading = undefined;\n",
       "  }\n",
       "\n",
       "const JS_MIME_TYPE = 'application/javascript';\n",
       "  const HTML_MIME_TYPE = 'text/html';\n",
       "  const EXEC_MIME_TYPE = 'application/vnd.bokehjs_exec.v0+json';\n",
       "  const CLASS_NAME = 'output_bokeh rendered_html';\n",
       "\n",
       "  /**\n",
       "   * Render data to the DOM node\n",
       "   */\n",
       "  function render(props, node) {\n",
       "    const script = document.createElement(\"script\");\n",
       "    node.appendChild(script);\n",
       "  }\n",
       "\n",
       "  /**\n",
       "   * Handle when an output is cleared or removed\n",
       "   */\n",
       "  function handleClearOutput(event, handle) {\n",
       "    const cell = handle.cell;\n",
       "\n",
       "    const id = cell.output_area._bokeh_element_id;\n",
       "    const server_id = cell.output_area._bokeh_server_id;\n",
       "    // Clean up Bokeh references\n",
       "    if (id != null && id in Bokeh.index) {\n",
       "      Bokeh.index[id].model.document.clear();\n",
       "      delete Bokeh.index[id];\n",
       "    }\n",
       "\n",
       "    if (server_id !== undefined) {\n",
       "      // Clean up Bokeh references\n",
       "      const cmd_clean = \"from bokeh.io.state import curstate; print(curstate().uuid_to_server['\" + server_id + \"'].get_sessions()[0].document.roots[0]._id)\";\n",
       "      cell.notebook.kernel.execute(cmd_clean, {\n",
       "        iopub: {\n",
       "          output: function(msg) {\n",
       "            const id = msg.content.text.trim();\n",
       "            if (id in Bokeh.index) {\n",
       "              Bokeh.index[id].model.document.clear();\n",
       "              delete Bokeh.index[id];\n",
       "            }\n",
       "          }\n",
       "        }\n",
       "      });\n",
       "      // Destroy server and session\n",
       "      const cmd_destroy = \"import bokeh.io.notebook as ion; ion.destroy_server('\" + server_id + \"')\";\n",
       "      cell.notebook.kernel.execute(cmd_destroy);\n",
       "    }\n",
       "  }\n",
       "\n",
       "  /**\n",
       "   * Handle when a new output is added\n",
       "   */\n",
       "  function handleAddOutput(event, handle) {\n",
       "    const output_area = handle.output_area;\n",
       "    const output = handle.output;\n",
       "\n",
       "    // limit handleAddOutput to display_data with EXEC_MIME_TYPE content only\n",
       "    if ((output.output_type != \"display_data\") || (!Object.prototype.hasOwnProperty.call(output.data, EXEC_MIME_TYPE))) {\n",
       "      return\n",
       "    }\n",
       "\n",
       "    const toinsert = output_area.element.find(\".\" + CLASS_NAME.split(' ')[0]);\n",
       "\n",
       "    if (output.metadata[EXEC_MIME_TYPE][\"id\"] !== undefined) {\n",
       "      toinsert[toinsert.length - 1].firstChild.textContent = output.data[JS_MIME_TYPE];\n",
       "      // store reference to embed id on output_area\n",
       "      output_area._bokeh_element_id = output.metadata[EXEC_MIME_TYPE][\"id\"];\n",
       "    }\n",
       "    if (output.metadata[EXEC_MIME_TYPE][\"server_id\"] !== undefined) {\n",
       "      const bk_div = document.createElement(\"div\");\n",
       "      bk_div.innerHTML = output.data[HTML_MIME_TYPE];\n",
       "      const script_attrs = bk_div.children[0].attributes;\n",
       "      for (let i = 0; i < script_attrs.length; i++) {\n",
       "        toinsert[toinsert.length - 1].firstChild.setAttribute(script_attrs[i].name, script_attrs[i].value);\n",
       "        toinsert[toinsert.length - 1].firstChild.textContent = bk_div.children[0].textContent\n",
       "      }\n",
       "      // store reference to server id on output_area\n",
       "      output_area._bokeh_server_id = output.metadata[EXEC_MIME_TYPE][\"server_id\"];\n",
       "    }\n",
       "  }\n",
       "\n",
       "  function register_renderer(events, OutputArea) {\n",
       "\n",
       "    function append_mime(data, metadata, element) {\n",
       "      // create a DOM node to render to\n",
       "      const toinsert = this.create_output_subarea(\n",
       "        metadata,\n",
       "        CLASS_NAME,\n",
       "        EXEC_MIME_TYPE\n",
       "      );\n",
       "      this.keyboard_manager.register_events(toinsert);\n",
       "      // Render to node\n",
       "      const props = {data: data, metadata: metadata[EXEC_MIME_TYPE]};\n",
       "      render(props, toinsert[toinsert.length - 1]);\n",
       "      element.append(toinsert);\n",
       "      return toinsert\n",
       "    }\n",
       "\n",
       "    /* Handle when an output is cleared or removed */\n",
       "    events.on('clear_output.CodeCell', handleClearOutput);\n",
       "    events.on('delete.Cell', handleClearOutput);\n",
       "\n",
       "    /* Handle when a new output is added */\n",
       "    events.on('output_added.OutputArea', handleAddOutput);\n",
       "\n",
       "    /**\n",
       "     * Register the mime type and append_mime function with output_area\n",
       "     */\n",
       "    OutputArea.prototype.register_mime_type(EXEC_MIME_TYPE, append_mime, {\n",
       "      /* Is output safe? */\n",
       "      safe: true,\n",
       "      /* Index of renderer in `output_area.display_order` */\n",
       "      index: 0\n",
       "    });\n",
       "  }\n",
       "\n",
       "  // register the mime type if in Jupyter Notebook environment and previously unregistered\n",
       "  if (root.Jupyter !== undefined) {\n",
       "    const events = require('base/js/events');\n",
       "    const OutputArea = require('notebook/js/outputarea').OutputArea;\n",
       "\n",
       "    if (OutputArea.prototype.mime_types().indexOf(EXEC_MIME_TYPE) == -1) {\n",
       "      register_renderer(events, OutputArea);\n",
       "    }\n",
       "  }\n",
       "  if (typeof (root._bokeh_timeout) === \"undefined\" || force === true) {\n",
       "    root._bokeh_timeout = Date.now() + 5000;\n",
       "    root._bokeh_failed_load = false;\n",
       "  }\n",
       "\n",
       "  const NB_LOAD_WARNING = {'data': {'text/html':\n",
       "     \"<div style='background-color: #fdd'>\\n\"+\n",
       "     \"<p>\\n\"+\n",
       "     \"BokehJS does not appear to have successfully loaded. If loading BokehJS from CDN, this \\n\"+\n",
       "     \"may be due to a slow or bad network connection. Possible fixes:\\n\"+\n",
       "     \"</p>\\n\"+\n",
       "     \"<ul>\\n\"+\n",
       "     \"<li>re-rerun `output_notebook()` to attempt to load from CDN again, or</li>\\n\"+\n",
       "     \"<li>use INLINE resources instead, as so:</li>\\n\"+\n",
       "     \"</ul>\\n\"+\n",
       "     \"<code>\\n\"+\n",
       "     \"from bokeh.resources import INLINE\\n\"+\n",
       "     \"output_notebook(resources=INLINE)\\n\"+\n",
       "     \"</code>\\n\"+\n",
       "     \"</div>\"}};\n",
       "\n",
       "  function display_loaded() {\n",
       "    const el = document.getElementById(\"p1006\");\n",
       "    if (el != null) {\n",
       "      el.textContent = \"BokehJS is loading...\";\n",
       "    }\n",
       "    if (root.Bokeh !== undefined) {\n",
       "      if (el != null) {\n",
       "        el.textContent = \"BokehJS \" + root.Bokeh.version + \" successfully loaded.\";\n",
       "      }\n",
       "    } else if (Date.now() < root._bokeh_timeout) {\n",
       "      setTimeout(display_loaded, 100)\n",
       "    }\n",
       "  }\n",
       "\n",
       "  function run_callbacks() {\n",
       "    try {\n",
       "      root._bokeh_onload_callbacks.forEach(function(callback) {\n",
       "        if (callback != null)\n",
       "          callback();\n",
       "      });\n",
       "    } finally {\n",
       "      delete root._bokeh_onload_callbacks\n",
       "    }\n",
       "    console.debug(\"Bokeh: all callbacks have finished\");\n",
       "  }\n",
       "\n",
       "  function load_libs(css_urls, js_urls, callback) {\n",
       "    if (css_urls == null) css_urls = [];\n",
       "    if (js_urls == null) js_urls = [];\n",
       "\n",
       "    root._bokeh_onload_callbacks.push(callback);\n",
       "    if (root._bokeh_is_loading > 0) {\n",
       "      console.debug(\"Bokeh: BokehJS is being loaded, scheduling callback at\", now());\n",
       "      return null;\n",
       "    }\n",
       "    if (js_urls == null || js_urls.length === 0) {\n",
       "      run_callbacks();\n",
       "      return null;\n",
       "    }\n",
       "    console.debug(\"Bokeh: BokehJS not loaded, scheduling load and callback at\", now());\n",
       "    root._bokeh_is_loading = css_urls.length + js_urls.length;\n",
       "\n",
       "    function on_load() {\n",
       "      root._bokeh_is_loading--;\n",
       "      if (root._bokeh_is_loading === 0) {\n",
       "        console.debug(\"Bokeh: all BokehJS libraries/stylesheets loaded\");\n",
       "        run_callbacks()\n",
       "      }\n",
       "    }\n",
       "\n",
       "    function on_error(url) {\n",
       "      console.error(\"failed to load \" + url);\n",
       "    }\n",
       "\n",
       "    for (let i = 0; i < css_urls.length; i++) {\n",
       "      const url = css_urls[i];\n",
       "      const element = document.createElement(\"link\");\n",
       "      element.onload = on_load;\n",
       "      element.onerror = on_error.bind(null, url);\n",
       "      element.rel = \"stylesheet\";\n",
       "      element.type = \"text/css\";\n",
       "      element.href = url;\n",
       "      console.debug(\"Bokeh: injecting link tag for BokehJS stylesheet: \", url);\n",
       "      document.body.appendChild(element);\n",
       "    }\n",
       "\n",
       "    for (let i = 0; i < js_urls.length; i++) {\n",
       "      const url = js_urls[i];\n",
       "      const element = document.createElement('script');\n",
       "      element.onload = on_load;\n",
       "      element.onerror = on_error.bind(null, url);\n",
       "      element.async = false;\n",
       "      element.src = url;\n",
       "      console.debug(\"Bokeh: injecting script tag for BokehJS library: \", url);\n",
       "      document.head.appendChild(element);\n",
       "    }\n",
       "  };\n",
       "\n",
       "  function inject_raw_css(css) {\n",
       "    const element = document.createElement(\"style\");\n",
       "    element.appendChild(document.createTextNode(css));\n",
       "    document.body.appendChild(element);\n",
       "  }\n",
       "\n",
       "  const js_urls = [\"https://cdn.bokeh.org/bokeh/release/bokeh-3.0.3.min.js\", \"https://cdn.bokeh.org/bokeh/release/bokeh-gl-3.0.3.min.js\", \"https://cdn.bokeh.org/bokeh/release/bokeh-widgets-3.0.3.min.js\", \"https://cdn.bokeh.org/bokeh/release/bokeh-tables-3.0.3.min.js\", \"https://cdn.bokeh.org/bokeh/release/bokeh-mathjax-3.0.3.min.js\"];\n",
       "  const css_urls = [];\n",
       "\n",
       "  const inline_js = [    function(Bokeh) {\n",
       "      Bokeh.set_log_level(\"info\");\n",
       "    },\n",
       "function(Bokeh) {\n",
       "    }\n",
       "  ];\n",
       "\n",
       "  function run_inline_js() {\n",
       "    if (root.Bokeh !== undefined || force === true) {\n",
       "          for (let i = 0; i < inline_js.length; i++) {\n",
       "      inline_js[i].call(root, root.Bokeh);\n",
       "    }\n",
       "if (force === true) {\n",
       "        display_loaded();\n",
       "      }} else if (Date.now() < root._bokeh_timeout) {\n",
       "      setTimeout(run_inline_js, 100);\n",
       "    } else if (!root._bokeh_failed_load) {\n",
       "      console.log(\"Bokeh: BokehJS failed to load within specified timeout.\");\n",
       "      root._bokeh_failed_load = true;\n",
       "    } else if (force !== true) {\n",
       "      const cell = $(document.getElementById(\"p1006\")).parents('.cell').data().cell;\n",
       "      cell.output_area.append_execute_result(NB_LOAD_WARNING)\n",
       "    }\n",
       "  }\n",
       "\n",
       "  if (root._bokeh_is_loading === 0) {\n",
       "    console.debug(\"Bokeh: BokehJS loaded, going straight to plotting\");\n",
       "    run_inline_js();\n",
       "  } else {\n",
       "    load_libs(css_urls, js_urls, function() {\n",
       "      console.debug(\"Bokeh: BokehJS plotting callback run at\", now());\n",
       "      run_inline_js();\n",
       "    });\n",
       "  }\n",
       "}(window));"
      ],
      "application/vnd.bokehjs_load.v0+json": "(function(root) {\n  function now() {\n    return new Date();\n  }\n\n  const force = true;\n\n  if (typeof root._bokeh_onload_callbacks === \"undefined\" || force === true) {\n    root._bokeh_onload_callbacks = [];\n    root._bokeh_is_loading = undefined;\n  }\n\n\n  if (typeof (root._bokeh_timeout) === \"undefined\" || force === true) {\n    root._bokeh_timeout = Date.now() + 5000;\n    root._bokeh_failed_load = false;\n  }\n\n  const NB_LOAD_WARNING = {'data': {'text/html':\n     \"<div style='background-color: #fdd'>\\n\"+\n     \"<p>\\n\"+\n     \"BokehJS does not appear to have successfully loaded. If loading BokehJS from CDN, this \\n\"+\n     \"may be due to a slow or bad network connection. Possible fixes:\\n\"+\n     \"</p>\\n\"+\n     \"<ul>\\n\"+\n     \"<li>re-rerun `output_notebook()` to attempt to load from CDN again, or</li>\\n\"+\n     \"<li>use INLINE resources instead, as so:</li>\\n\"+\n     \"</ul>\\n\"+\n     \"<code>\\n\"+\n     \"from bokeh.resources import INLINE\\n\"+\n     \"output_notebook(resources=INLINE)\\n\"+\n     \"</code>\\n\"+\n     \"</div>\"}};\n\n  function display_loaded() {\n    const el = document.getElementById(\"p1006\");\n    if (el != null) {\n      el.textContent = \"BokehJS is loading...\";\n    }\n    if (root.Bokeh !== undefined) {\n      if (el != null) {\n        el.textContent = \"BokehJS \" + root.Bokeh.version + \" successfully loaded.\";\n      }\n    } else if (Date.now() < root._bokeh_timeout) {\n      setTimeout(display_loaded, 100)\n    }\n  }\n\n  function run_callbacks() {\n    try {\n      root._bokeh_onload_callbacks.forEach(function(callback) {\n        if (callback != null)\n          callback();\n      });\n    } finally {\n      delete root._bokeh_onload_callbacks\n    }\n    console.debug(\"Bokeh: all callbacks have finished\");\n  }\n\n  function load_libs(css_urls, js_urls, callback) {\n    if (css_urls == null) css_urls = [];\n    if (js_urls == null) js_urls = [];\n\n    root._bokeh_onload_callbacks.push(callback);\n    if (root._bokeh_is_loading > 0) {\n      console.debug(\"Bokeh: BokehJS is being loaded, scheduling callback at\", now());\n      return null;\n    }\n    if (js_urls == null || js_urls.length === 0) {\n      run_callbacks();\n      return null;\n    }\n    console.debug(\"Bokeh: BokehJS not loaded, scheduling load and callback at\", now());\n    root._bokeh_is_loading = css_urls.length + js_urls.length;\n\n    function on_load() {\n      root._bokeh_is_loading--;\n      if (root._bokeh_is_loading === 0) {\n        console.debug(\"Bokeh: all BokehJS libraries/stylesheets loaded\");\n        run_callbacks()\n      }\n    }\n\n    function on_error(url) {\n      console.error(\"failed to load \" + url);\n    }\n\n    for (let i = 0; i < css_urls.length; i++) {\n      const url = css_urls[i];\n      const element = document.createElement(\"link\");\n      element.onload = on_load;\n      element.onerror = on_error.bind(null, url);\n      element.rel = \"stylesheet\";\n      element.type = \"text/css\";\n      element.href = url;\n      console.debug(\"Bokeh: injecting link tag for BokehJS stylesheet: \", url);\n      document.body.appendChild(element);\n    }\n\n    for (let i = 0; i < js_urls.length; i++) {\n      const url = js_urls[i];\n      const element = document.createElement('script');\n      element.onload = on_load;\n      element.onerror = on_error.bind(null, url);\n      element.async = false;\n      element.src = url;\n      console.debug(\"Bokeh: injecting script tag for BokehJS library: \", url);\n      document.head.appendChild(element);\n    }\n  };\n\n  function inject_raw_css(css) {\n    const element = document.createElement(\"style\");\n    element.appendChild(document.createTextNode(css));\n    document.body.appendChild(element);\n  }\n\n  const js_urls = [\"https://cdn.bokeh.org/bokeh/release/bokeh-3.0.3.min.js\", \"https://cdn.bokeh.org/bokeh/release/bokeh-gl-3.0.3.min.js\", \"https://cdn.bokeh.org/bokeh/release/bokeh-widgets-3.0.3.min.js\", \"https://cdn.bokeh.org/bokeh/release/bokeh-tables-3.0.3.min.js\", \"https://cdn.bokeh.org/bokeh/release/bokeh-mathjax-3.0.3.min.js\"];\n  const css_urls = [];\n\n  const inline_js = [    function(Bokeh) {\n      Bokeh.set_log_level(\"info\");\n    },\nfunction(Bokeh) {\n    }\n  ];\n\n  function run_inline_js() {\n    if (root.Bokeh !== undefined || force === true) {\n          for (let i = 0; i < inline_js.length; i++) {\n      inline_js[i].call(root, root.Bokeh);\n    }\nif (force === true) {\n        display_loaded();\n      }} else if (Date.now() < root._bokeh_timeout) {\n      setTimeout(run_inline_js, 100);\n    } else if (!root._bokeh_failed_load) {\n      console.log(\"Bokeh: BokehJS failed to load within specified timeout.\");\n      root._bokeh_failed_load = true;\n    } else if (force !== true) {\n      const cell = $(document.getElementById(\"p1006\")).parents('.cell').data().cell;\n      cell.output_area.append_execute_result(NB_LOAD_WARNING)\n    }\n  }\n\n  if (root._bokeh_is_loading === 0) {\n    console.debug(\"Bokeh: BokehJS loaded, going straight to plotting\");\n    run_inline_js();\n  } else {\n    load_libs(css_urls, js_urls, function() {\n      console.debug(\"Bokeh: BokehJS plotting callback run at\", now());\n      run_inline_js();\n    });\n  }\n}(window));"
     },
     "metadata": {},
     "output_type": "display_data"
    },
    {
     "data": {
      "application/vnd.jupyter.widget-view+json": {
       "model_id": "050929f80b7748e59b03f9d797138eb6",
       "version_major": 2,
       "version_minor": 0
      },
      "text/plain": [
       "FigureWidgetResampler({\n",
       "    'data': [{'hovertemplate': 'variable=f107<br>ds=%{x}<br>value=%{y}<extra></extra>',\n",
       "              'legendgroup': 'f107',\n",
       "              'line': {'color': '#636efa', 'dash': 'solid'},\n",
       "              'marker': {'symbol': 'circle'},\n",
       "              'mode': 'lines',\n",
       "              'name': '<b style=\"color:sandybrown\">[R]</b> f107 <i style=\"color:#fc9944\">~2D</i>',\n",
       "              'showlegend': True,\n",
       "              'type': 'scattergl',\n",
       "              'uid': '59130688-fb1b-436a-af6f-1b85016c7787',\n",
       "              'x': array([datetime.datetime(2016, 1, 1, 0, 0),\n",
       "                          datetime.datetime(2016, 1, 2, 0, 0),\n",
       "                          datetime.datetime(2016, 1, 3, 23, 30), ...,\n",
       "                          datetime.datetime(2020, 12, 29, 7, 0),\n",
       "                          datetime.datetime(2020, 12, 31, 3, 0),\n",
       "                          datetime.datetime(2021, 1, 1, 23, 0)], dtype=object),\n",
       "              'xaxis': 'x',\n",
       "              'y': array([95.1, 96.6, 98.5, ..., 81.4, 78.5, 77.7]),\n",
       "              'yaxis': 'y'}],\n",
       "    'layout': {'legend': {'title': {'text': 'variable'}, 'tracegroupgap': 0},\n",
       "               'margin': {'t': 60},\n",
       "               'template': '...',\n",
       "               'xaxis': {'anchor': 'y', 'domain': [0.0, 1.0], 'title': {'text': 'ds'}},\n",
       "               'yaxis': {'anchor': 'x', 'domain': [0.0, 1.0], 'title': {'text': 'value'}}}\n",
       "})"
      ]
     },
     "execution_count": 40,
     "metadata": {},
     "output_type": "execute_result"
    }
   ],
   "source": [
    "import pandas_bokeh\n",
    "import pandas as pd\n",
    "pandas_bokeh.output_notebook()\n",
    "pd.plotting.output_notebook()\n",
    "pd.set_option('plotting.backend', 'pandas_bokeh')\n",
    "pd.options.plotting.backend = \"plotly\" \n",
    "df_events.plot()"
   ]
  },
  {
   "cell_type": "code",
   "execution_count": 41,
   "id": "1502e219-bae7-47ad-8464-45394423cd3a",
   "metadata": {},
   "outputs": [
    {
     "name": "stdout",
     "output_type": "stream",
     "text": [
      "2016-01-01 00:00:00\n",
      "start_date   2018-11-29\n",
      "end_date     2019-03-23\n",
      "Name: 0, dtype: datetime64[ns]\n"
     ]
    }
   ],
   "source": [
    "current_fcev.create_folds(pd.Timestamp(2019,3,16, 12, 0), 100)\n",
    "print(current_fcev.folds.iloc[0])\n",
    "from darts import TimeSeries"
   ]
  },
  {
   "cell_type": "code",
   "execution_count": 42,
   "id": "7e09ba2c-693c-480f-82ba-d41ca120324c",
   "metadata": {},
   "outputs": [],
   "source": [
    "\n",
    "iteration = 0\n",
    "from func_timeout import func_set_timeout, FunctionTimedOut\n",
    "@func_set_timeout(3600)\n",
    "def train_with_timeout(fcev_instance, iteration):\n",
    "    df_fore = current_fcev.process_fold(iteration)\n",
    "    return df_fore"
   ]
  },
  {
   "cell_type": "code",
   "execution_count": 43,
   "id": "4de36ade-8926-4573-8771-30eaea2db437",
   "metadata": {},
   "outputs": [
    {
     "data": {
      "application/vnd.jupyter.widget-view+json": {
       "model_id": "",
       "version_major": 2,
       "version_minor": 0
      },
      "text/plain": [
       "Sanity Checking: 0it [00:00, ?it/s]"
      ]
     },
     "metadata": {},
     "output_type": "display_data"
    },
    {
     "data": {
      "application/vnd.jupyter.widget-view+json": {
       "model_id": "965f842a0a754cea92a96db5c3e58d55",
       "version_major": 2,
       "version_minor": 0
      },
      "text/plain": [
       "Training: 0it [00:00, ?it/s]"
      ]
     },
     "metadata": {},
     "output_type": "display_data"
    },
    {
     "data": {
      "application/vnd.jupyter.widget-view+json": {
       "model_id": "",
       "version_major": 2,
       "version_minor": 0
      },
      "text/plain": [
       "Validation: 0it [00:00, ?it/s]"
      ]
     },
     "metadata": {},
     "output_type": "display_data"
    },
    {
     "data": {
      "application/vnd.jupyter.widget-view+json": {
       "model_id": "",
       "version_major": 2,
       "version_minor": 0
      },
      "text/plain": [
       "Validation: 0it [00:00, ?it/s]"
      ]
     },
     "metadata": {},
     "output_type": "display_data"
    },
    {
     "data": {
      "application/vnd.jupyter.widget-view+json": {
       "model_id": "",
       "version_major": 2,
       "version_minor": 0
      },
      "text/plain": [
       "Validation: 0it [00:00, ?it/s]"
      ]
     },
     "metadata": {},
     "output_type": "display_data"
    },
    {
     "data": {
      "application/vnd.jupyter.widget-view+json": {
       "model_id": "",
       "version_major": 2,
       "version_minor": 0
      },
      "text/plain": [
       "Validation: 0it [00:00, ?it/s]"
      ]
     },
     "metadata": {},
     "output_type": "display_data"
    },
    {
     "data": {
      "application/vnd.jupyter.widget-view+json": {
       "model_id": "",
       "version_major": 2,
       "version_minor": 0
      },
      "text/plain": [
       "Validation: 0it [00:00, ?it/s]"
      ]
     },
     "metadata": {},
     "output_type": "display_data"
    },
    {
     "data": {
      "application/vnd.jupyter.widget-view+json": {
       "model_id": "",
       "version_major": 2,
       "version_minor": 0
      },
      "text/plain": [
       "Validation: 0it [00:00, ?it/s]"
      ]
     },
     "metadata": {},
     "output_type": "display_data"
    },
    {
     "data": {
      "application/vnd.jupyter.widget-view+json": {
       "model_id": "",
       "version_major": 2,
       "version_minor": 0
      },
      "text/plain": [
       "Validation: 0it [00:00, ?it/s]"
      ]
     },
     "metadata": {},
     "output_type": "display_data"
    },
    {
     "data": {
      "application/vnd.jupyter.widget-view+json": {
       "model_id": "",
       "version_major": 2,
       "version_minor": 0
      },
      "text/plain": [
       "Validation: 0it [00:00, ?it/s]"
      ]
     },
     "metadata": {},
     "output_type": "display_data"
    },
    {
     "data": {
      "application/vnd.jupyter.widget-view+json": {
       "model_id": "",
       "version_major": 2,
       "version_minor": 0
      },
      "text/plain": [
       "Validation: 0it [00:00, ?it/s]"
      ]
     },
     "metadata": {},
     "output_type": "display_data"
    },
    {
     "data": {
      "application/vnd.jupyter.widget-view+json": {
       "model_id": "",
       "version_major": 2,
       "version_minor": 0
      },
      "text/plain": [
       "Validation: 0it [00:00, ?it/s]"
      ]
     },
     "metadata": {},
     "output_type": "display_data"
    },
    {
     "data": {
      "application/vnd.jupyter.widget-view+json": {
       "model_id": "",
       "version_major": 2,
       "version_minor": 0
      },
      "text/plain": [
       "Validation: 0it [00:00, ?it/s]"
      ]
     },
     "metadata": {},
     "output_type": "display_data"
    },
    {
     "data": {
      "application/vnd.jupyter.widget-view+json": {
       "model_id": "",
       "version_major": 2,
       "version_minor": 0
      },
      "text/plain": [
       "Validation: 0it [00:00, ?it/s]"
      ]
     },
     "metadata": {},
     "output_type": "display_data"
    },
    {
     "data": {
      "application/vnd.jupyter.widget-view+json": {
       "model_id": "",
       "version_major": 2,
       "version_minor": 0
      },
      "text/plain": [
       "Validation: 0it [00:00, ?it/s]"
      ]
     },
     "metadata": {},
     "output_type": "display_data"
    },
    {
     "data": {
      "application/vnd.jupyter.widget-view+json": {
       "model_id": "",
       "version_major": 2,
       "version_minor": 0
      },
      "text/plain": [
       "Validation: 0it [00:00, ?it/s]"
      ]
     },
     "metadata": {},
     "output_type": "display_data"
    },
    {
     "data": {
      "application/vnd.jupyter.widget-view+json": {
       "model_id": "",
       "version_major": 2,
       "version_minor": 0
      },
      "text/plain": [
       "Validation: 0it [00:00, ?it/s]"
      ]
     },
     "metadata": {},
     "output_type": "display_data"
    },
    {
     "data": {
      "application/vnd.jupyter.widget-view+json": {
       "model_id": "",
       "version_major": 2,
       "version_minor": 0
      },
      "text/plain": [
       "Validation: 0it [00:00, ?it/s]"
      ]
     },
     "metadata": {},
     "output_type": "display_data"
    },
    {
     "data": {
      "application/vnd.jupyter.widget-view+json": {
       "model_id": "",
       "version_major": 2,
       "version_minor": 0
      },
      "text/plain": [
       "Validation: 0it [00:00, ?it/s]"
      ]
     },
     "metadata": {},
     "output_type": "display_data"
    },
    {
     "data": {
      "application/vnd.jupyter.widget-view+json": {
       "model_id": "",
       "version_major": 2,
       "version_minor": 0
      },
      "text/plain": [
       "Validation: 0it [00:00, ?it/s]"
      ]
     },
     "metadata": {},
     "output_type": "display_data"
    },
    {
     "data": {
      "application/vnd.jupyter.widget-view+json": {
       "model_id": "",
       "version_major": 2,
       "version_minor": 0
      },
      "text/plain": [
       "Validation: 0it [00:00, ?it/s]"
      ]
     },
     "metadata": {},
     "output_type": "display_data"
    },
    {
     "data": {
      "application/vnd.jupyter.widget-view+json": {
       "model_id": "",
       "version_major": 2,
       "version_minor": 0
      },
      "text/plain": [
       "Validation: 0it [00:00, ?it/s]"
      ]
     },
     "metadata": {},
     "output_type": "display_data"
    },
    {
     "data": {
      "application/vnd.jupyter.widget-view+json": {
       "model_id": "",
       "version_major": 2,
       "version_minor": 0
      },
      "text/plain": [
       "Validation: 0it [00:00, ?it/s]"
      ]
     },
     "metadata": {},
     "output_type": "display_data"
    },
    {
     "data": {
      "application/vnd.jupyter.widget-view+json": {
       "model_id": "",
       "version_major": 2,
       "version_minor": 0
      },
      "text/plain": [
       "Validation: 0it [00:00, ?it/s]"
      ]
     },
     "metadata": {},
     "output_type": "display_data"
    },
    {
     "data": {
      "application/vnd.jupyter.widget-view+json": {
       "model_id": "",
       "version_major": 2,
       "version_minor": 0
      },
      "text/plain": [
       "Validation: 0it [00:00, ?it/s]"
      ]
     },
     "metadata": {},
     "output_type": "display_data"
    },
    {
     "data": {
      "application/vnd.jupyter.widget-view+json": {
       "model_id": "",
       "version_major": 2,
       "version_minor": 0
      },
      "text/plain": [
       "Validation: 0it [00:00, ?it/s]"
      ]
     },
     "metadata": {},
     "output_type": "display_data"
    },
    {
     "data": {
      "application/vnd.jupyter.widget-view+json": {
       "model_id": "",
       "version_major": 2,
       "version_minor": 0
      },
      "text/plain": [
       "Validation: 0it [00:00, ?it/s]"
      ]
     },
     "metadata": {},
     "output_type": "display_data"
    },
    {
     "data": {
      "application/vnd.jupyter.widget-view+json": {
       "model_id": "",
       "version_major": 2,
       "version_minor": 0
      },
      "text/plain": [
       "Validation: 0it [00:00, ?it/s]"
      ]
     },
     "metadata": {},
     "output_type": "display_data"
    },
    {
     "data": {
      "application/vnd.jupyter.widget-view+json": {
       "model_id": "",
       "version_major": 2,
       "version_minor": 0
      },
      "text/plain": [
       "Validation: 0it [00:00, ?it/s]"
      ]
     },
     "metadata": {},
     "output_type": "display_data"
    },
    {
     "data": {
      "application/vnd.jupyter.widget-view+json": {
       "model_id": "",
       "version_major": 2,
       "version_minor": 0
      },
      "text/plain": [
       "Validation: 0it [00:00, ?it/s]"
      ]
     },
     "metadata": {},
     "output_type": "display_data"
    },
    {
     "data": {
      "application/vnd.jupyter.widget-view+json": {
       "model_id": "",
       "version_major": 2,
       "version_minor": 0
      },
      "text/plain": [
       "Validation: 0it [00:00, ?it/s]"
      ]
     },
     "metadata": {},
     "output_type": "display_data"
    },
    {
     "data": {
      "application/vnd.jupyter.widget-view+json": {
       "model_id": "",
       "version_major": 2,
       "version_minor": 0
      },
      "text/plain": [
       "Validation: 0it [00:00, ?it/s]"
      ]
     },
     "metadata": {},
     "output_type": "display_data"
    },
    {
     "data": {
      "application/vnd.jupyter.widget-view+json": {
       "model_id": "",
       "version_major": 2,
       "version_minor": 0
      },
      "text/plain": [
       "Validation: 0it [00:00, ?it/s]"
      ]
     },
     "metadata": {},
     "output_type": "display_data"
    },
    {
     "data": {
      "application/vnd.jupyter.widget-view+json": {
       "model_id": "",
       "version_major": 2,
       "version_minor": 0
      },
      "text/plain": [
       "Validation: 0it [00:00, ?it/s]"
      ]
     },
     "metadata": {},
     "output_type": "display_data"
    },
    {
     "data": {
      "application/vnd.jupyter.widget-view+json": {
       "model_id": "",
       "version_major": 2,
       "version_minor": 0
      },
      "text/plain": [
       "Validation: 0it [00:00, ?it/s]"
      ]
     },
     "metadata": {},
     "output_type": "display_data"
    },
    {
     "data": {
      "application/vnd.jupyter.widget-view+json": {
       "model_id": "",
       "version_major": 2,
       "version_minor": 0
      },
      "text/plain": [
       "Validation: 0it [00:00, ?it/s]"
      ]
     },
     "metadata": {},
     "output_type": "display_data"
    },
    {
     "data": {
      "application/vnd.jupyter.widget-view+json": {
       "model_id": "",
       "version_major": 2,
       "version_minor": 0
      },
      "text/plain": [
       "Validation: 0it [00:00, ?it/s]"
      ]
     },
     "metadata": {},
     "output_type": "display_data"
    },
    {
     "data": {
      "application/vnd.jupyter.widget-view+json": {
       "model_id": "",
       "version_major": 2,
       "version_minor": 0
      },
      "text/plain": [
       "Validation: 0it [00:00, ?it/s]"
      ]
     },
     "metadata": {},
     "output_type": "display_data"
    },
    {
     "data": {
      "application/vnd.jupyter.widget-view+json": {
       "model_id": "",
       "version_major": 2,
       "version_minor": 0
      },
      "text/plain": [
       "Validation: 0it [00:00, ?it/s]"
      ]
     },
     "metadata": {},
     "output_type": "display_data"
    },
    {
     "data": {
      "application/vnd.jupyter.widget-view+json": {
       "model_id": "",
       "version_major": 2,
       "version_minor": 0
      },
      "text/plain": [
       "Validation: 0it [00:00, ?it/s]"
      ]
     },
     "metadata": {},
     "output_type": "display_data"
    },
    {
     "data": {
      "application/vnd.jupyter.widget-view+json": {
       "model_id": "",
       "version_major": 2,
       "version_minor": 0
      },
      "text/plain": [
       "Validation: 0it [00:00, ?it/s]"
      ]
     },
     "metadata": {},
     "output_type": "display_data"
    },
    {
     "data": {
      "application/vnd.jupyter.widget-view+json": {
       "model_id": "",
       "version_major": 2,
       "version_minor": 0
      },
      "text/plain": [
       "Validation: 0it [00:00, ?it/s]"
      ]
     },
     "metadata": {},
     "output_type": "display_data"
    },
    {
     "data": {
      "application/vnd.jupyter.widget-view+json": {
       "model_id": "",
       "version_major": 2,
       "version_minor": 0
      },
      "text/plain": [
       "Validation: 0it [00:00, ?it/s]"
      ]
     },
     "metadata": {},
     "output_type": "display_data"
    },
    {
     "data": {
      "application/vnd.jupyter.widget-view+json": {
       "model_id": "",
       "version_major": 2,
       "version_minor": 0
      },
      "text/plain": [
       "Validation: 0it [00:00, ?it/s]"
      ]
     },
     "metadata": {},
     "output_type": "display_data"
    },
    {
     "data": {
      "application/vnd.jupyter.widget-view+json": {
       "model_id": "",
       "version_major": 2,
       "version_minor": 0
      },
      "text/plain": [
       "Validation: 0it [00:00, ?it/s]"
      ]
     },
     "metadata": {},
     "output_type": "display_data"
    },
    {
     "data": {
      "application/vnd.jupyter.widget-view+json": {
       "model_id": "",
       "version_major": 2,
       "version_minor": 0
      },
      "text/plain": [
       "Validation: 0it [00:00, ?it/s]"
      ]
     },
     "metadata": {},
     "output_type": "display_data"
    },
    {
     "data": {
      "application/vnd.jupyter.widget-view+json": {
       "model_id": "",
       "version_major": 2,
       "version_minor": 0
      },
      "text/plain": [
       "Validation: 0it [00:00, ?it/s]"
      ]
     },
     "metadata": {},
     "output_type": "display_data"
    },
    {
     "data": {
      "application/vnd.jupyter.widget-view+json": {
       "model_id": "",
       "version_major": 2,
       "version_minor": 0
      },
      "text/plain": [
       "Validation: 0it [00:00, ?it/s]"
      ]
     },
     "metadata": {},
     "output_type": "display_data"
    },
    {
     "data": {
      "application/vnd.jupyter.widget-view+json": {
       "model_id": "",
       "version_major": 2,
       "version_minor": 0
      },
      "text/plain": [
       "Validation: 0it [00:00, ?it/s]"
      ]
     },
     "metadata": {},
     "output_type": "display_data"
    },
    {
     "data": {
      "application/vnd.jupyter.widget-view+json": {
       "model_id": "",
       "version_major": 2,
       "version_minor": 0
      },
      "text/plain": [
       "Validation: 0it [00:00, ?it/s]"
      ]
     },
     "metadata": {},
     "output_type": "display_data"
    },
    {
     "data": {
      "application/vnd.jupyter.widget-view+json": {
       "model_id": "90e4f0da356445df8e973b45ca89c2ab",
       "version_major": 2,
       "version_minor": 0
      },
      "text/plain": [
       "Validation: 0it [00:00, ?it/s]"
      ]
     },
     "metadata": {},
     "output_type": "display_data"
    },
    {
     "data": {
      "application/vnd.jupyter.widget-view+json": {
       "model_id": "4a08a8f1eea24d60800e81f3682023ca",
       "version_major": 2,
       "version_minor": 0
      },
      "text/plain": [
       "Validation: 0it [00:00, ?it/s]"
      ]
     },
     "metadata": {},
     "output_type": "display_data"
    },
    {
     "data": {
      "application/vnd.jupyter.widget-view+json": {
       "model_id": "4058ea6d16894301806de78785f01ae7",
       "version_major": 2,
       "version_minor": 0
      },
      "text/plain": [
       "Validation: 0it [00:00, ?it/s]"
      ]
     },
     "metadata": {},
     "output_type": "display_data"
    },
    {
     "data": {
      "application/vnd.jupyter.widget-view+json": {
       "model_id": "972d95a7bdae44869e98e642d8f2df98",
       "version_major": 2,
       "version_minor": 0
      },
      "text/plain": [
       "Validation: 0it [00:00, ?it/s]"
      ]
     },
     "metadata": {},
     "output_type": "display_data"
    },
    {
     "data": {
      "application/vnd.jupyter.widget-view+json": {
       "model_id": "2039d59e1cea460e9948ef7a66bff644",
       "version_major": 2,
       "version_minor": 0
      },
      "text/plain": [
       "Validation: 0it [00:00, ?it/s]"
      ]
     },
     "metadata": {},
     "output_type": "display_data"
    },
    {
     "data": {
      "application/vnd.jupyter.widget-view+json": {
       "model_id": "79d9469abf73416ca78a48391ab40568",
       "version_major": 2,
       "version_minor": 0
      },
      "text/plain": [
       "Validation: 0it [00:00, ?it/s]"
      ]
     },
     "metadata": {},
     "output_type": "display_data"
    },
    {
     "data": {
      "application/vnd.jupyter.widget-view+json": {
       "model_id": "1059fd81852f4914bcd6ffc665c5c7e3",
       "version_major": 2,
       "version_minor": 0
      },
      "text/plain": [
       "Validation: 0it [00:00, ?it/s]"
      ]
     },
     "metadata": {},
     "output_type": "display_data"
    },
    {
     "data": {
      "application/vnd.jupyter.widget-view+json": {
       "model_id": "dc9a399c5d6246adb6163b2aecdec73d",
       "version_major": 2,
       "version_minor": 0
      },
      "text/plain": [
       "Validation: 0it [00:00, ?it/s]"
      ]
     },
     "metadata": {},
     "output_type": "display_data"
    },
    {
     "data": {
      "application/vnd.jupyter.widget-view+json": {
       "model_id": "550dbf7b3a8f41e984ba6f857ad6041a",
       "version_major": 2,
       "version_minor": 0
      },
      "text/plain": [
       "Validation: 0it [00:00, ?it/s]"
      ]
     },
     "metadata": {},
     "output_type": "display_data"
    },
    {
     "data": {
      "application/vnd.jupyter.widget-view+json": {
       "model_id": "9e8509833fd14d4c92e3aec71fcd2ee4",
       "version_major": 2,
       "version_minor": 0
      },
      "text/plain": [
       "Validation: 0it [00:00, ?it/s]"
      ]
     },
     "metadata": {},
     "output_type": "display_data"
    },
    {
     "data": {
      "application/vnd.jupyter.widget-view+json": {
       "model_id": "fa6c813e072a47d2b307ab67ffe81ad5",
       "version_major": 2,
       "version_minor": 0
      },
      "text/plain": [
       "Validation: 0it [00:00, ?it/s]"
      ]
     },
     "metadata": {},
     "output_type": "display_data"
    },
    {
     "data": {
      "application/vnd.jupyter.widget-view+json": {
       "model_id": "2608b68a9dc949beb85527b20e2c3358",
       "version_major": 2,
       "version_minor": 0
      },
      "text/plain": [
       "Validation: 0it [00:00, ?it/s]"
      ]
     },
     "metadata": {},
     "output_type": "display_data"
    },
    {
     "data": {
      "application/vnd.jupyter.widget-view+json": {
       "model_id": "85b8174bea144f40b0c0ac26c8dcb3f5",
       "version_major": 2,
       "version_minor": 0
      },
      "text/plain": [
       "Validation: 0it [00:00, ?it/s]"
      ]
     },
     "metadata": {},
     "output_type": "display_data"
    },
    {
     "data": {
      "application/vnd.jupyter.widget-view+json": {
       "model_id": "5099cf0378064edeac5e699ad6a03535",
       "version_major": 2,
       "version_minor": 0
      },
      "text/plain": [
       "Validation: 0it [00:00, ?it/s]"
      ]
     },
     "metadata": {},
     "output_type": "display_data"
    },
    {
     "data": {
      "application/vnd.jupyter.widget-view+json": {
       "model_id": "74ea88e7b6714382967e112863e013e6",
       "version_major": 2,
       "version_minor": 0
      },
      "text/plain": [
       "Validation: 0it [00:00, ?it/s]"
      ]
     },
     "metadata": {},
     "output_type": "display_data"
    },
    {
     "data": {
      "application/vnd.jupyter.widget-view+json": {
       "model_id": "d9e66882f4bb4b55bd6100f1e492a8f2",
       "version_major": 2,
       "version_minor": 0
      },
      "text/plain": [
       "Validation: 0it [00:00, ?it/s]"
      ]
     },
     "metadata": {},
     "output_type": "display_data"
    },
    {
     "data": {
      "application/vnd.jupyter.widget-view+json": {
       "model_id": "90ea110430d54a05a493c02ff77d1887",
       "version_major": 2,
       "version_minor": 0
      },
      "text/plain": [
       "Validation: 0it [00:00, ?it/s]"
      ]
     },
     "metadata": {},
     "output_type": "display_data"
    },
    {
     "data": {
      "application/vnd.jupyter.widget-view+json": {
       "model_id": "80948d38b2ad4dd08b504fb8f7dc15c8",
       "version_major": 2,
       "version_minor": 0
      },
      "text/plain": [
       "Validation: 0it [00:00, ?it/s]"
      ]
     },
     "metadata": {},
     "output_type": "display_data"
    },
    {
     "data": {
      "application/vnd.jupyter.widget-view+json": {
       "model_id": "64cea8baead5462f84bc86a055de4188",
       "version_major": 2,
       "version_minor": 0
      },
      "text/plain": [
       "Validation: 0it [00:00, ?it/s]"
      ]
     },
     "metadata": {},
     "output_type": "display_data"
    },
    {
     "data": {
      "application/vnd.jupyter.widget-view+json": {
       "model_id": "56bd9830cd9149b287d08fd339ed7881",
       "version_major": 2,
       "version_minor": 0
      },
      "text/plain": [
       "Validation: 0it [00:00, ?it/s]"
      ]
     },
     "metadata": {},
     "output_type": "display_data"
    },
    {
     "data": {
      "application/vnd.jupyter.widget-view+json": {
       "model_id": "c5cac9d4f34f49bfa9570d51ff3be0fa",
       "version_major": 2,
       "version_minor": 0
      },
      "text/plain": [
       "Validation: 0it [00:00, ?it/s]"
      ]
     },
     "metadata": {},
     "output_type": "display_data"
    },
    {
     "data": {
      "application/vnd.jupyter.widget-view+json": {
       "model_id": "3693c51d7edf4e299d3a5e70b82cc24b",
       "version_major": 2,
       "version_minor": 0
      },
      "text/plain": [
       "Validation: 0it [00:00, ?it/s]"
      ]
     },
     "metadata": {},
     "output_type": "display_data"
    }
   ],
   "source": [
    "try:\n",
    "    df_fore = train_with_timeout(current_fcev, iteration)\n",
    "except FunctionTimedOut: \n",
    "    print(np.nan)\n",
    "    #sys.exit(0)\n",
    "    #Missing covariates; could not find past covariates in index value range: 2019-11-02 14:30:00 - 2019-11-04 14:00:00."
   ]
  },
  {
   "cell_type": "code",
   "execution_count": 44,
   "id": "f4f368ff-c305-4802-ae7b-dcdd71e9bd9a",
   "metadata": {},
   "outputs": [],
   "source": [
    "df_main = df_fore[\"BASE\"]\n",
    "from FCeV import METRICS\n",
    "current_ts = TimeSeries.from_dataframe(df_main[\"current\"])\n",
    "all_ts_base = current_fcev.FCeV_model.input_series.drop_after(current_ts.start_time())\n",
    "all_ts_base = all_ts_base.append(current_ts)\n",
    "all_ts_real, _ = current_fcev.FCeV_model.input_series.split_after(current_ts.end_time())"
   ]
  },
  {
   "cell_type": "code",
   "execution_count": 45,
   "id": "0a190bbf-aa8f-4c0d-b8d9-a281b49f7904",
   "metadata": {},
   "outputs": [
    {
     "data": {
      "text/html": [
       "<div>\n",
       "<style scoped>\n",
       "    .dataframe tbody tr th:only-of-type {\n",
       "        vertical-align: middle;\n",
       "    }\n",
       "\n",
       "    .dataframe tbody tr th {\n",
       "        vertical-align: top;\n",
       "    }\n",
       "\n",
       "    .dataframe thead tr th {\n",
       "        text-align: left;\n",
       "    }\n",
       "\n",
       "    .dataframe thead tr:last-of-type th {\n",
       "        text-align: right;\n",
       "    }\n",
       "</style>\n",
       "<table border=\"1\" class=\"dataframe\">\n",
       "  <thead>\n",
       "    <tr>\n",
       "      <th></th>\n",
       "      <th colspan=\"4\" halign=\"left\">current</th>\n",
       "      <th colspan=\"4\" halign=\"left\">pred</th>\n",
       "      <th colspan=\"4\" halign=\"left\">uncer</th>\n",
       "    </tr>\n",
       "    <tr>\n",
       "      <th>component</th>\n",
       "      <th>larm</th>\n",
       "      <th>dyng</th>\n",
       "      <th>duth</th>\n",
       "      <th>noa1</th>\n",
       "      <th>larm</th>\n",
       "      <th>dyng</th>\n",
       "      <th>duth</th>\n",
       "      <th>noa1</th>\n",
       "      <th>larm</th>\n",
       "      <th>dyng</th>\n",
       "      <th>duth</th>\n",
       "      <th>noa1</th>\n",
       "    </tr>\n",
       "    <tr>\n",
       "      <th>ds</th>\n",
       "      <th></th>\n",
       "      <th></th>\n",
       "      <th></th>\n",
       "      <th></th>\n",
       "      <th></th>\n",
       "      <th></th>\n",
       "      <th></th>\n",
       "      <th></th>\n",
       "      <th></th>\n",
       "      <th></th>\n",
       "      <th></th>\n",
       "      <th></th>\n",
       "    </tr>\n",
       "  </thead>\n",
       "  <tbody>\n",
       "    <tr>\n",
       "      <th>2019-03-22 00:00:00</th>\n",
       "      <td>6.298333</td>\n",
       "      <td>7.004167</td>\n",
       "      <td>7.112333</td>\n",
       "      <td>22.242071</td>\n",
       "      <td>20.966995</td>\n",
       "      <td>19.552410</td>\n",
       "      <td>20.632727</td>\n",
       "      <td>21.840332</td>\n",
       "      <td>2.780878</td>\n",
       "      <td>1.767701</td>\n",
       "      <td>1.790857</td>\n",
       "      <td>1.776366</td>\n",
       "    </tr>\n",
       "    <tr>\n",
       "      <th>2019-03-22 00:30:00</th>\n",
       "      <td>6.461000</td>\n",
       "      <td>7.082334</td>\n",
       "      <td>7.199500</td>\n",
       "      <td>22.262974</td>\n",
       "      <td>20.843418</td>\n",
       "      <td>19.440313</td>\n",
       "      <td>20.690407</td>\n",
       "      <td>21.771559</td>\n",
       "      <td>2.922087</td>\n",
       "      <td>1.869885</td>\n",
       "      <td>1.772833</td>\n",
       "      <td>1.861960</td>\n",
       "    </tr>\n",
       "    <tr>\n",
       "      <th>2019-03-22 01:00:00</th>\n",
       "      <td>6.520000</td>\n",
       "      <td>7.162001</td>\n",
       "      <td>7.223000</td>\n",
       "      <td>22.283878</td>\n",
       "      <td>20.814184</td>\n",
       "      <td>19.491360</td>\n",
       "      <td>20.707094</td>\n",
       "      <td>21.805292</td>\n",
       "      <td>2.838645</td>\n",
       "      <td>1.906635</td>\n",
       "      <td>1.900712</td>\n",
       "      <td>1.893543</td>\n",
       "    </tr>\n",
       "    <tr>\n",
       "      <th>2019-03-22 01:30:00</th>\n",
       "      <td>6.335166</td>\n",
       "      <td>7.118667</td>\n",
       "      <td>7.115833</td>\n",
       "      <td>22.304781</td>\n",
       "      <td>20.949560</td>\n",
       "      <td>19.422258</td>\n",
       "      <td>20.661867</td>\n",
       "      <td>21.742514</td>\n",
       "      <td>2.982267</td>\n",
       "      <td>1.948824</td>\n",
       "      <td>1.923446</td>\n",
       "      <td>1.952799</td>\n",
       "    </tr>\n",
       "    <tr>\n",
       "      <th>2019-03-22 02:00:00</th>\n",
       "      <td>6.232500</td>\n",
       "      <td>7.022666</td>\n",
       "      <td>7.147167</td>\n",
       "      <td>22.325686</td>\n",
       "      <td>20.616917</td>\n",
       "      <td>19.438536</td>\n",
       "      <td>20.589706</td>\n",
       "      <td>21.835808</td>\n",
       "      <td>2.894325</td>\n",
       "      <td>1.919996</td>\n",
       "      <td>1.995640</td>\n",
       "      <td>2.036497</td>\n",
       "    </tr>\n",
       "  </tbody>\n",
       "</table>\n",
       "</div>"
      ],
      "text/plain": [
       "                      current                                      pred  \\\n",
       "component                larm      dyng      duth       noa1       larm   \n",
       "ds                                                                        \n",
       "2019-03-22 00:00:00  6.298333  7.004167  7.112333  22.242071  20.966995   \n",
       "2019-03-22 00:30:00  6.461000  7.082334  7.199500  22.262974  20.843418   \n",
       "2019-03-22 01:00:00  6.520000  7.162001  7.223000  22.283878  20.814184   \n",
       "2019-03-22 01:30:00  6.335166  7.118667  7.115833  22.304781  20.949560   \n",
       "2019-03-22 02:00:00  6.232500  7.022666  7.147167  22.325686  20.616917   \n",
       "\n",
       "                                                         uncer            \\\n",
       "component                 dyng       duth       noa1      larm      dyng   \n",
       "ds                                                                         \n",
       "2019-03-22 00:00:00  19.552410  20.632727  21.840332  2.780878  1.767701   \n",
       "2019-03-22 00:30:00  19.440313  20.690407  21.771559  2.922087  1.869885   \n",
       "2019-03-22 01:00:00  19.491360  20.707094  21.805292  2.838645  1.906635   \n",
       "2019-03-22 01:30:00  19.422258  20.661867  21.742514  2.982267  1.948824   \n",
       "2019-03-22 02:00:00  19.438536  20.589706  21.835808  2.894325  1.919996   \n",
       "\n",
       "                                         \n",
       "component                duth      noa1  \n",
       "ds                                       \n",
       "2019-03-22 00:00:00  1.790857  1.776366  \n",
       "2019-03-22 00:30:00  1.772833  1.861960  \n",
       "2019-03-22 01:00:00  1.900712  1.893543  \n",
       "2019-03-22 01:30:00  1.923446  1.952799  \n",
       "2019-03-22 02:00:00  1.995640  2.036497  "
      ]
     },
     "execution_count": 45,
     "metadata": {},
     "output_type": "execute_result"
    }
   ],
   "source": [
    "df_main.head()"
   ]
  },
  {
   "cell_type": "code",
   "execution_count": 46,
   "id": "ec4b9aab-9b05-4350-82ab-87d054ad2962",
   "metadata": {},
   "outputs": [
    {
     "name": "stdout",
     "output_type": "stream",
     "text": [
      "42.867966\n"
     ]
    },
    {
     "data": {
      "image/png": "[encoded data removed]",
      "text/plain": [
       "<Figure size 1000x600 with 1 Axes>"
      ]
     },
     "metadata": {
      "needs_background": "light"
     },
     "output_type": "display_data"
    },
    {
     "data": {
      "text/plain": [
       "<ggplot: (8777449620221)>"
      ]
     },
     "execution_count": 46,
     "metadata": {},
     "output_type": "execute_result"
    }
   ],
   "source": [
    "from FCeV import METRICS\n",
    "df_main = df_fore[\"EMPTY\"]\n",
    "print(current_fcev.get_metrics_from_fc(df_main[\"current\"], df_main[\"pred\"], METRICS.CoV).mean().mean())\n",
    "plot = current_fcev.plot_results(df_main)\n",
    "plot"
   ]
  },
  {
   "cell_type": "code",
   "execution_count": 47,
   "id": "d09e86c7-79aa-4fa2-b8e4-e850bbedae1c",
   "metadata": {},
   "outputs": [
    {
     "name": "stdout",
     "output_type": "stream",
     "text": [
      "40.737152\n"
     ]
    },
    {
     "data": {
      "image/png": "[encoded data removed]",
      "text/plain": [
       "<Figure size 1000x600 with 1 Axes>"
      ]
     },
     "metadata": {
      "needs_background": "light"
     },
     "output_type": "display_data"
    },
    {
     "data": {
      "text/plain": [
       "<ggplot: (8777449503585)>"
      ]
     },
     "execution_count": 47,
     "metadata": {},
     "output_type": "execute_result"
    }
   ],
   "source": [
    "df_main = df_fore[\"BASE\"]\n",
    "print(current_fcev.get_metrics_from_fc(df_main[\"current\"], df_main[\"pred\"], METRICS.CoV).mean().mean())\n",
    "plot = current_fcev.plot_results(df_main)\n",
    "plot"
   ]
  },
  {
   "cell_type": "code",
   "execution_count": 48,
   "id": "e9be2b79-0e73-4b3e-9b75-bf41567078e8",
   "metadata": {},
   "outputs": [
    {
     "ename": "TypeError",
     "evalue": "get_metrics_from_fc() missing 1 required positional argument: 'metrics'",
     "output_type": "error",
     "traceback": [
      "\u001b[0;31m---------------------------------------------------------------------------\u001b[0m",
      "\u001b[0;31mTypeError\u001b[0m                                 Traceback (most recent call last)",
      "Cell \u001b[0;32mIn[48], line 2\u001b[0m\n\u001b[1;32m      1\u001b[0m df_main \u001b[38;5;241m=\u001b[39m df_fore[\u001b[38;5;124m\"\u001b[39m\u001b[38;5;124m2\u001b[39m\u001b[38;5;124m\"\u001b[39m][\u001b[38;5;124m\"\u001b[39m\u001b[38;5;124m2\u001b[39m\u001b[38;5;124m\"\u001b[39m]\n\u001b[0;32m----> 2\u001b[0m \u001b[38;5;28mprint\u001b[39m(\u001b[43mcurrent_fcev\u001b[49m\u001b[38;5;241;43m.\u001b[39;49m\u001b[43mget_metrics_from_fc\u001b[49m\u001b[43m(\u001b[49m\u001b[43mdf_main\u001b[49m\u001b[43m,\u001b[49m\u001b[43m \u001b[49m\u001b[43mMETRICS\u001b[49m\u001b[38;5;241;43m.\u001b[39;49m\u001b[43mRMSE\u001b[49m\u001b[43m)\u001b[49m\u001b[38;5;241m.\u001b[39mmean()\u001b[38;5;241m.\u001b[39mmean())\n\u001b[1;32m      3\u001b[0m plot \u001b[38;5;241m=\u001b[39m current_fcev\u001b[38;5;241m.\u001b[39mplot_results(df_main)\n\u001b[1;32m      4\u001b[0m plot\n",
      "\u001b[0;31mTypeError\u001b[0m: get_metrics_from_fc() missing 1 required positional argument: 'metrics'"
     ]
    }
   ],
   "source": [
    "df_main = df_fore[\"2\"][\"2\"]\n",
    "print(current_fcev.get_metrics_from_fc(df_main, METRICS.RMSE).mean().mean())\n",
    "plot = current_fcev.plot_results(df_main)\n",
    "plot"
   ]
  },
  {
   "cell_type": "code",
   "execution_count": null,
   "id": "76acde5e-0fc8-431f-825a-afa24cc55f49",
   "metadata": {},
   "outputs": [],
   "source": [
    "df_main = df_fore[\"6\"][\"6\"]\n",
    "print(current_fcev.get_metrics_from_fc(df_main, METRICS.RMSE).mean().mean())\n",
    "plot = current_fcev.plot_results(df_main)\n",
    "plot"
   ]
  },
  {
   "cell_type": "code",
   "execution_count": 22,
   "id": "71a8348b-e048-4480-8df6-db936c17d7ec",
   "metadata": {},
   "outputs": [
    {
     "data": {
      "text/plain": [
       "56400"
      ]
     },
     "execution_count": 22,
     "metadata": {},
     "output_type": "execute_result"
    }
   ],
   "source": [
    "len(all_ts_real)"
   ]
  },
  {
   "cell_type": "code",
   "execution_count": 106,
   "id": "f73bd833-334e-43e8-b404-80e1ef8aee0b",
   "metadata": {},
   "outputs": [],
   "source": [
    "real = current_fcev.FCeV_model.input_series"
   ]
  },
  {
   "cell_type": "code",
   "execution_count": 107,
   "id": "e9f48eff-0e19-4ad1-9996-a3a149252387",
   "metadata": {},
   "outputs": [],
   "source": [
    "iterations = current_fcev.iterations"
   ]
  },
  {
   "cell_type": "code",
   "execution_count": null,
   "id": "73007cbc-3a03-4c59-a826-60e2ff5b7920",
   "metadata": {},
   "outputs": [],
   "source": [
    "values = current_fcev.FCeV_model.model.predict(n=48, num_samples=1000).plot()\n"
   ]
  },
  {
   "cell_type": "code",
   "execution_count": null,
   "id": "f4c00d21-cf02-4bec-8690-8c9e83ae60fb",
   "metadata": {},
   "outputs": [],
   "source": [
    "day = iterations.iloc[iteration].end_date"
   ]
  },
  {
   "cell_type": "code",
   "execution_count": null,
   "id": "959f897b-0c74-49f3-8061-6c8a463e9edf",
   "metadata": {},
   "outputs": [],
   "source": [
    "real.slice(day - pd.Timedelta(days = 4), day).plot()"
   ]
  },
  {
   "cell_type": "markdown",
   "id": "97e7894f-ead3-4a04-bd50-4c522f6f6e10",
   "metadata": {},
   "source": [
    "## SALES EXAMPLE"
   ]
  },
  {
   "cell_type": "code",
   "execution_count": null,
   "id": "38c896e4-6843-4d81-9b96-b16ebb5a4acc",
   "metadata": {},
   "outputs": [],
   "source": [
    "datapath_sales = \"/home/carloscano/data/kaggle/store-sales-time-series-forecasting/\""
   ]
  },
  {
   "cell_type": "code",
   "execution_count": null,
   "id": "d1bb80ac-4514-4c9f-99cc-3cb906b66dd0",
   "metadata": {},
   "outputs": [],
   "source": [
    "df_train =  pd.read_csv(datapath_sales + \"train.csv\", parse_dates=[\"date\"]).rename(columns = {\"date\":\"ds\"})\n",
    "df_test =  pd.read_csv(datapath_sales + \"test.csv\", parse_dates=[\"date\"]).rename(columns = {\"date\":\"ds\"})\n"
   ]
  },
  {
   "cell_type": "code",
   "execution_count": null,
   "id": "8cd76d69-3783-4a53-8de5-19e08be3503b",
   "metadata": {},
   "outputs": [],
   "source": [
    "df_test[\"ds\"]"
   ]
  },
  {
   "cell_type": "code",
   "execution_count": null,
   "id": "3dab632f-8328-448e-9e31-56b7e1121898",
   "metadata": {},
   "outputs": [],
   "source": [
    "df_train[\"family\"].unique()"
   ]
  },
  {
   "cell_type": "code",
   "execution_count": null,
   "id": "025bd34c-e1bf-45a5-93b7-175d11b16df0",
   "metadata": {},
   "outputs": [],
   "source": [
    "df_train[\"store_nbr\"].max()\n",
    "\n",
    "#AUTOMOTIVE - 11\n",
    "\n",
    "#Electronics index: 47 - "
   ]
  },
  {
   "cell_type": "markdown",
   "id": "20ffe07e-a15d-421c-b52b-386d448270f0",
   "metadata": {},
   "source": [
    "import time\n",
    "for i in range(1, 55):\n",
    "    df_train_selected = df_train[(df_train[\"store_nbr\"] == i) &(df_train[\"family\"] == \"BOOKS\") ]\n",
    "    df_train_selected = df_train_selected.reset_index().drop([\"store_nbr\", 'family', \"id\", \"index\"], axis = 1).set_index(\"date\")\n",
    "    total_prom = np.sum(df_train_selected[\"onpromotion\"] > 0)\n",
    "    total_value = np.sum(df_train_selected[\"onpromotion\"])\n",
    "    print(f\"index: {i} - {total_value} / {total_prom}\")"
   ]
  },
  {
   "cell_type": "code",
   "execution_count": null,
   "id": "1690b293-bb82-4e20-99fc-788143af70b0",
   "metadata": {},
   "outputs": [],
   "source": [
    "df_train_selected = df_train[(df_train[\"store_nbr\"] == 54) & ((df_train[\"family\"] == \"AUTOMOTIVE\")) ]\n",
    "df_train_selected = df_train_selected.reset_index().drop([\"store_nbr\", 'family', \"id\", \"index\"], axis = 1).set_index(\"ds\")\n",
    "df_signal = df_train_selected.drop(\"onpromotion\", axis =1) #[\"sales\"]\n",
    "df_events = df_train_selected[df_train_selected[\"onpromotion\"] > 0].drop(\"sales\", axis = 1)\n",
    "df_events[\"onpromotion\"] = (df_events[\"onpromotion\"] > 0)\n",
    "df_events[\"onpromotion\"] = 1"
   ]
  },
  {
   "cell_type": "code",
   "execution_count": null,
   "id": "17764a95-5b53-41d4-99dd-7ae794ec0b1d",
   "metadata": {},
   "outputs": [],
   "source": [
    "df_cov1 = df_train[(df_train[\"store_nbr\"] == 54) & ((df_train[\"family\"] == \"BREAD/BAKERY\")) ]\n",
    "df_cov1 = df_cov1.reset_index().drop([\"store_nbr\", 'family', \"id\", \"index\", \"onpromotion\"], axis = 1).set_index(\"ds\")\n",
    "df_cov2 = df_train[(df_train[\"store_nbr\"] == 1) & ((df_train[\"family\"] == \"AUTOMOTIVE\")) ]\n",
    "df_cov2= df_cov2.reset_index().drop([\"store_nbr\", 'family', \"id\", \"index\", \"onpromotion\"], axis = 1).set_index(\"ds\")\n",
    "\n",
    "df_covariates = pd.concat([df_cov1, df_cov2], axis = 1)\n",
    "df_covariates.columns =  [\"bread_54\", \"auto_1\"]"
   ]
  },
  {
   "cell_type": "code",
   "execution_count": null,
   "id": "d2d4d87e-2af5-4485-bb91-fbbfc1d70988",
   "metadata": {},
   "outputs": [],
   "source": [
    "from DartsFCeV import NLinearDartsFCeVConfig,TransformerDartsFCeVConfig, DartsFCeVConfig,NHITSDartsFCeVConfig, NBEATSDartsFCeVConfig,RNNDartsFCeVConfig,TCNDartsFCeVConfig, TFTDartsFCeVConfig\n",
    "\n",
    "from FCeV import FCeV, FCeVConfig\n",
    "\n",
    "TCN_darts_FCeV_config = {\n",
    "\"dilation_base\": 2,\n",
    "\"weight_norm\": True,\n",
    "#\"kernel_size\": 16,\n",
    "#\"num_filter\": 10\n",
    "}\n",
    "TCN_darts_FCeV_config = TCNDartsFCeVConfig(**TCN_darts_FCeV_config)\n",
    "RNN_darts_FCeV_config = {\n",
    "     \"RNNmodel\": \"GRU\"\n",
    "}\n",
    "\n",
    "RNN_darts_FCeV_config = RNNDartsFCeVConfig(**RNN_darts_FCeV_config)\n",
    "\n",
    "TFT_darts_FCeV_config = {\n",
    "    #\"lstm_layers\" : 2,\n",
    "    #\"hidden_size\" : 64,\n",
    "    \"num_attention_heads\" : 6,\n",
    "    \"full_attention\" : False,\n",
    "    \"add_relative_index\": False,\n",
    "    \"hidden_continuous_size\" : 2,\n",
    "}\n",
    "TFT_darts_FCeV_config = TFTDartsFCeVConfig(**TFT_darts_FCeV_config)\n",
    "\n",
    "\n",
    "\n",
    "darts_FCev_config = {\n",
    "    \"DartsModelConfig\": RNN_darts_FCeV_config,\n",
    "    \"dropout\":0.1,\n",
    "    \"n_epochs\":1000,\n",
    "    \"n_layers\": 1,\n",
    "    \"internal_size\": 28,\n",
    "    \"batch_size\":600 ,\n",
    "    \"learning_rate\": 1e-2,\n",
    "    \"use_gpu\": True,\n",
    "    \"event_type\": \"Non-Binary\",\n",
    "    \"patience\":30,\n",
    "    \"seed\": 1234567,\n",
    "    \"probabilistic\": True\n",
    "}\n",
    "\n",
    "darts_FCeV_config = DartsFCeVConfig(**darts_FCev_config)\n",
    "forecast_length = timedelta(hours=24 * 3)\n",
    "question_mark_length = timedelta(hours=24 * 3)\n",
    "# Time to take into account to predict \n",
    "historic_lenght =  timedelta(days=32)\n",
    "training_lenght = timedelta(days=798)\n",
    "freq = pd.Timedelta(days=1)\n",
    "\n",
    "FCev_config = {\n",
    "    \"freq\": freq,\n",
    "    \"forecast_length\": forecast_length,\n",
    "    \"question_mark_length\": question_mark_length,\n",
    "    \"training_length\": training_lenght,\n",
    "    \"verbose\": False,\n",
    "    \"input_length\": historic_lenght\n",
    "}\n",
    "\n",
    "FCev_config = FCeVConfig(**FCev_config)"
   ]
  },
  {
   "cell_type": "code",
   "execution_count": 12,
   "id": "19c1b782-bda5-4b5c-a7a0-64c91e97c690",
   "metadata": {},
   "outputs": [],
   "source": [
    "df_synth = pd.DataFrame([1], columns = [\"onpromotion\"])"
   ]
  },
  {
   "cell_type": "code",
   "execution_count": 13,
   "id": "1023e6f0-5828-4cba-a769-2874348aa943",
   "metadata": {},
   "outputs": [
    {
     "data": {
      "text/plain": [
       "'/home/carloscano/dev/NeuralProphetEQ/notebooks'"
      ]
     },
     "execution_count": 13,
     "metadata": {},
     "output_type": "execute_result"
    }
   ],
   "source": [
    "os.getcwd()"
   ]
  },
  {
   "cell_type": "code",
   "execution_count": 134,
   "id": "6138cd5d-fb56-41d9-b7dc-de5fa22d4ddd",
   "metadata": {},
   "outputs": [
    {
     "data": {
      "text/plain": [
       "fastcore.foundation.L"
      ]
     },
     "execution_count": 134,
     "metadata": {},
     "output_type": "execute_result"
    }
   ],
   "source": [
    "L"
   ]
  },
  {
   "cell_type": "code",
   "execution_count": 15,
   "id": "3d9f8276-323d-428c-9924-18bf297ec974",
   "metadata": {},
   "outputs": [],
   "source": [
    "import datetime\n",
    "from FCeV import METRICS\n",
    "output_path = \"/home/carloscano/outputs/RNN_TEC_constant/\"\n",
    "#current_fcev = FCeV(FCev_config, darts_FCeV_config, df_signal, df_covariates,df_events,  output_path, df_synth)\n",
    "df = current_fcev.read_result(output_path)\n",
    "metric = METRICS.RMSE"
   ]
  },
  {
   "cell_type": "code",
   "execution_count": 16,
   "id": "1e2db4be-c5d3-4e7f-9b96-d6f60512a75c",
   "metadata": {},
   "outputs": [],
   "source": [
    "synthetic_events = pd.DataFrame(np.arange(68, 82, 2), columns= [\"f107\"])\n",
    "synthetic_events.index = [f\"{index}_{index}\" for index in synthetic_events.index]\n",
    "input_length = 48"
   ]
  },
  {
   "cell_type": "code",
   "execution_count": 17,
   "id": "2242a78f-a563-4998-9c03-6b2c2d71a919",
   "metadata": {},
   "outputs": [],
   "source": [
    "from FCeV import METRICS\n",
    "input_length = 48\n",
    "df_results = FCeV.predict_from_metrics(df, df_events, METRICS.RMSE, input_length, synthetic_events)"
   ]
  },
  {
   "cell_type": "code",
   "execution_count": null,
   "id": "881f444a-dade-4f5d-bb53-4974107e17fe",
   "metadata": {},
   "outputs": [],
   "source": []
  },
  {
   "cell_type": "code",
   "execution_count": 28,
   "id": "56af3284-99a0-46f8-90b9-213ed16618e0",
   "metadata": {},
   "outputs": [
    {
     "data": {
      "text/html": [
       "\n",
       "<style>\n",
       "    /* Turns off some styling */\n",
       "    progress {\n",
       "        /* gets rid of default border in Firefox and Opera. */\n",
       "        border: none;\n",
       "        /* Needs to be in here for Safari polyfill so background images work as expected. */\n",
       "        background-size: auto;\n",
       "    }\n",
       "    progress:not([value]), progress:not([value])::-webkit-progress-bar {\n",
       "        background: repeating-linear-gradient(45deg, #7e7e7e, #7e7e7e 10px, #5c5c5c 10px, #5c5c5c 20px);\n",
       "    }\n",
       "    .progress-bar-interrupted, .progress-bar-interrupted::-webkit-progress-bar {\n",
       "        background: #F44336;\n",
       "    }\n",
       "</style>\n"
      ],
      "text/plain": [
       "<IPython.core.display.HTML object>"
      ]
     },
     "metadata": {},
     "output_type": "display_data"
    },
    {
     "data": {
      "text/html": [],
      "text/plain": [
       "<IPython.core.display.HTML object>"
      ]
     },
     "metadata": {},
     "output_type": "display_data"
    },
    {
     "data": {
      "text/html": [
       "\n",
       "<style>\n",
       "    /* Turns off some styling */\n",
       "    progress {\n",
       "        /* gets rid of default border in Firefox and Opera. */\n",
       "        border: none;\n",
       "        /* Needs to be in here for Safari polyfill so background images work as expected. */\n",
       "        background-size: auto;\n",
       "    }\n",
       "    progress:not([value]), progress:not([value])::-webkit-progress-bar {\n",
       "        background: repeating-linear-gradient(45deg, #7e7e7e, #7e7e7e 10px, #5c5c5c 10px, #5c5c5c 20px);\n",
       "    }\n",
       "    .progress-bar-interrupted, .progress-bar-interrupted::-webkit-progress-bar {\n",
       "        background: #F44336;\n",
       "    }\n",
       "</style>\n"
      ],
      "text/plain": [
       "<IPython.core.display.HTML object>"
      ]
     },
     "metadata": {},
     "output_type": "display_data"
    },
    {
     "data": {
      "text/html": [],
      "text/plain": [
       "<IPython.core.display.HTML object>"
      ]
     },
     "metadata": {},
     "output_type": "display_data"
    }
   ],
   "source": [
    "from FCeV import METRICS\n",
    "df_tab = df_results.copy()\n",
    "len_test = 200\n",
    "df_test = df_tab.iloc[-len_test:]\n",
    "df_tab = df_tab.iloc[:-len_test].drop(\"pred\",axis = 1)\n",
    "df_resultsai = FCeV.predict_with_tabai(df_tab, df_test, 0.4)"
   ]
  },
  {
   "cell_type": "code",
   "execution_count": 29,
   "id": "a0256017-a750-410c-9d7e-e7987c40303f",
   "metadata": {},
   "outputs": [
    {
     "data": {
      "application/vnd.jupyter.widget-view+json": {
       "model_id": "a22a4772cc744dbe9006f345c8fbf707",
       "version_major": 2,
       "version_minor": 0
      },
      "text/plain": [
       "FigureWidgetResampler({\n",
       "    'data': [{'hovertemplate': 'variable=pred<br>index=%{x}<br>value=%{y}<extra></extra>',\n",
       "              'legendgroup': 'pred',\n",
       "              'line': {'color': '#636efa', 'dash': 'solid'},\n",
       "              'marker': {'symbol': 'circle'},\n",
       "              'mode': 'lines',\n",
       "              'name': 'pred',\n",
       "              'orientation': 'v',\n",
       "              'showlegend': True,\n",
       "              'type': 'scatter',\n",
       "              'uid': 'c5a4504f-d1ec-4c2f-b975-590cafe8ec2d',\n",
       "              'x': array([datetime.datetime(2020, 3, 10, 23, 30),\n",
       "                          datetime.datetime(2020, 3, 11, 23, 30),\n",
       "                          datetime.datetime(2020, 3, 12, 23, 30),\n",
       "                          datetime.datetime(2020, 3, 13, 23, 30),\n",
       "                          datetime.datetime(2020, 3, 14, 23, 30),\n",
       "                          datetime.datetime(2020, 3, 15, 23, 30),\n",
       "                          datetime.datetime(2020, 3, 16, 23, 30),\n",
       "                          datetime.datetime(2020, 3, 17, 23, 30),\n",
       "                          datetime.datetime(2020, 3, 18, 23, 30),\n",
       "                          datetime.datetime(2020, 3, 19, 23, 30),\n",
       "                          datetime.datetime(2020, 3, 20, 23, 30),\n",
       "                          datetime.datetime(2020, 3, 21, 23, 30),\n",
       "                          datetime.datetime(2020, 3, 22, 23, 30),\n",
       "                          datetime.datetime(2020, 3, 23, 23, 30),\n",
       "                          datetime.datetime(2020, 3, 24, 23, 30),\n",
       "                          datetime.datetime(2020, 3, 25, 23, 30),\n",
       "                          datetime.datetime(2020, 3, 26, 23, 30),\n",
       "                          datetime.datetime(2020, 3, 27, 23, 30),\n",
       "                          datetime.datetime(2020, 3, 28, 23, 30),\n",
       "                          datetime.datetime(2020, 3, 29, 23, 30),\n",
       "                          datetime.datetime(2020, 3, 30, 23, 30),\n",
       "                          datetime.datetime(2020, 3, 31, 23, 30),\n",
       "                          datetime.datetime(2020, 4, 1, 23, 30),\n",
       "                          datetime.datetime(2020, 4, 2, 23, 30),\n",
       "                          datetime.datetime(2020, 4, 3, 23, 30),\n",
       "                          datetime.datetime(2020, 4, 4, 23, 30),\n",
       "                          datetime.datetime(2020, 4, 5, 23, 30),\n",
       "                          datetime.datetime(2020, 4, 6, 23, 30),\n",
       "                          datetime.datetime(2020, 4, 7, 23, 30),\n",
       "                          datetime.datetime(2020, 4, 8, 23, 30),\n",
       "                          datetime.datetime(2020, 4, 9, 23, 30),\n",
       "                          datetime.datetime(2020, 4, 10, 23, 30),\n",
       "                          datetime.datetime(2020, 4, 11, 23, 30),\n",
       "                          datetime.datetime(2020, 4, 12, 23, 30),\n",
       "                          datetime.datetime(2020, 4, 13, 23, 30),\n",
       "                          datetime.datetime(2020, 4, 14, 23, 30),\n",
       "                          datetime.datetime(2020, 4, 15, 23, 30),\n",
       "                          datetime.datetime(2020, 4, 16, 23, 30),\n",
       "                          datetime.datetime(2020, 4, 17, 23, 30),\n",
       "                          datetime.datetime(2020, 4, 18, 23, 30),\n",
       "                          datetime.datetime(2020, 4, 19, 23, 30),\n",
       "                          datetime.datetime(2020, 4, 20, 23, 30),\n",
       "                          datetime.datetime(2020, 4, 21, 23, 30),\n",
       "                          datetime.datetime(2020, 4, 22, 23, 30),\n",
       "                          datetime.datetime(2020, 4, 23, 23, 30),\n",
       "                          datetime.datetime(2020, 4, 24, 23, 30),\n",
       "                          datetime.datetime(2020, 4, 25, 23, 30),\n",
       "                          datetime.datetime(2020, 4, 26, 23, 30),\n",
       "                          datetime.datetime(2020, 4, 27, 23, 30),\n",
       "                          datetime.datetime(2020, 4, 28, 23, 30),\n",
       "                          datetime.datetime(2020, 4, 29, 23, 30),\n",
       "                          datetime.datetime(2020, 4, 30, 23, 30),\n",
       "                          datetime.datetime(2020, 5, 1, 23, 30),\n",
       "                          datetime.datetime(2020, 5, 2, 23, 30),\n",
       "                          datetime.datetime(2020, 5, 3, 23, 30),\n",
       "                          datetime.datetime(2020, 5, 4, 23, 30),\n",
       "                          datetime.datetime(2020, 5, 5, 23, 30),\n",
       "                          datetime.datetime(2020, 5, 6, 23, 30),\n",
       "                          datetime.datetime(2020, 5, 7, 23, 30),\n",
       "                          datetime.datetime(2020, 5, 8, 23, 30),\n",
       "                          datetime.datetime(2020, 5, 9, 23, 30),\n",
       "                          datetime.datetime(2020, 5, 10, 23, 30),\n",
       "                          datetime.datetime(2020, 5, 11, 23, 30),\n",
       "                          datetime.datetime(2020, 5, 12, 23, 30),\n",
       "                          datetime.datetime(2020, 5, 13, 23, 30),\n",
       "                          datetime.datetime(2020, 5, 14, 23, 30),\n",
       "                          datetime.datetime(2020, 5, 15, 23, 30),\n",
       "                          datetime.datetime(2020, 5, 16, 23, 30),\n",
       "                          datetime.datetime(2020, 5, 17, 23, 30),\n",
       "                          datetime.datetime(2020, 5, 18, 23, 30),\n",
       "                          datetime.datetime(2020, 5, 19, 23, 30),\n",
       "                          datetime.datetime(2020, 5, 20, 23, 30),\n",
       "                          datetime.datetime(2020, 5, 21, 23, 30),\n",
       "                          datetime.datetime(2020, 5, 22, 23, 30),\n",
       "                          datetime.datetime(2020, 5, 23, 23, 30),\n",
       "                          datetime.datetime(2020, 5, 24, 23, 30),\n",
       "                          datetime.datetime(2020, 5, 25, 23, 30),\n",
       "                          datetime.datetime(2020, 5, 26, 23, 30),\n",
       "                          datetime.datetime(2020, 5, 27, 23, 30),\n",
       "                          datetime.datetime(2020, 5, 28, 23, 30),\n",
       "                          datetime.datetime(2020, 5, 29, 23, 30),\n",
       "                          datetime.datetime(2020, 5, 30, 23, 30),\n",
       "                          datetime.datetime(2020, 5, 31, 23, 30),\n",
       "                          datetime.datetime(2020, 6, 1, 23, 30),\n",
       "                          datetime.datetime(2020, 6, 2, 23, 30),\n",
       "                          datetime.datetime(2020, 6, 3, 23, 30),\n",
       "                          datetime.datetime(2020, 6, 4, 23, 30),\n",
       "                          datetime.datetime(2020, 6, 5, 23, 30),\n",
       "                          datetime.datetime(2020, 6, 6, 23, 30),\n",
       "                          datetime.datetime(2020, 6, 7, 23, 30),\n",
       "                          datetime.datetime(2020, 6, 8, 23, 30),\n",
       "                          datetime.datetime(2020, 6, 9, 23, 30),\n",
       "                          datetime.datetime(2020, 6, 10, 23, 30),\n",
       "                          datetime.datetime(2020, 6, 11, 23, 30),\n",
       "                          datetime.datetime(2020, 6, 12, 23, 30),\n",
       "                          datetime.datetime(2020, 6, 13, 23, 30),\n",
       "                          datetime.datetime(2020, 6, 14, 23, 30),\n",
       "                          datetime.datetime(2020, 6, 15, 23, 30),\n",
       "                          datetime.datetime(2020, 6, 16, 23, 30),\n",
       "                          datetime.datetime(2020, 6, 17, 23, 30),\n",
       "                          datetime.datetime(2020, 6, 18, 23, 30),\n",
       "                          datetime.datetime(2020, 6, 19, 23, 30),\n",
       "                          datetime.datetime(2020, 6, 20, 23, 30),\n",
       "                          datetime.datetime(2020, 6, 21, 23, 30),\n",
       "                          datetime.datetime(2020, 6, 22, 23, 30),\n",
       "                          datetime.datetime(2020, 6, 23, 23, 30),\n",
       "                          datetime.datetime(2020, 6, 24, 23, 30),\n",
       "                          datetime.datetime(2020, 6, 25, 23, 30),\n",
       "                          datetime.datetime(2020, 6, 26, 23, 30),\n",
       "                          datetime.datetime(2020, 6, 27, 23, 30),\n",
       "                          datetime.datetime(2020, 6, 28, 23, 30),\n",
       "                          datetime.datetime(2020, 6, 29, 23, 30),\n",
       "                          datetime.datetime(2020, 6, 30, 23, 30),\n",
       "                          datetime.datetime(2020, 7, 1, 23, 30),\n",
       "                          datetime.datetime(2020, 7, 2, 23, 30),\n",
       "                          datetime.datetime(2020, 7, 3, 23, 30),\n",
       "                          datetime.datetime(2020, 7, 4, 23, 30),\n",
       "                          datetime.datetime(2020, 7, 5, 23, 30),\n",
       "                          datetime.datetime(2020, 7, 6, 23, 30),\n",
       "                          datetime.datetime(2020, 7, 7, 23, 30),\n",
       "                          datetime.datetime(2020, 7, 8, 23, 30),\n",
       "                          datetime.datetime(2020, 7, 9, 23, 30),\n",
       "                          datetime.datetime(2020, 7, 10, 23, 30),\n",
       "                          datetime.datetime(2020, 7, 11, 23, 30),\n",
       "                          datetime.datetime(2020, 7, 12, 23, 30),\n",
       "                          datetime.datetime(2020, 7, 13, 23, 30),\n",
       "                          datetime.datetime(2020, 7, 14, 23, 30),\n",
       "                          datetime.datetime(2020, 7, 15, 23, 30),\n",
       "                          datetime.datetime(2020, 7, 16, 23, 30),\n",
       "                          datetime.datetime(2020, 7, 17, 23, 30),\n",
       "                          datetime.datetime(2020, 7, 18, 23, 30),\n",
       "                          datetime.datetime(2020, 7, 19, 23, 30),\n",
       "                          datetime.datetime(2020, 7, 20, 23, 30),\n",
       "                          datetime.datetime(2020, 7, 21, 23, 30),\n",
       "                          datetime.datetime(2020, 7, 22, 23, 30),\n",
       "                          datetime.datetime(2020, 7, 23, 23, 30),\n",
       "                          datetime.datetime(2020, 7, 24, 23, 30),\n",
       "                          datetime.datetime(2020, 7, 25, 23, 30),\n",
       "                          datetime.datetime(2020, 7, 26, 23, 30),\n",
       "                          datetime.datetime(2020, 7, 27, 23, 30),\n",
       "                          datetime.datetime(2020, 7, 28, 23, 30),\n",
       "                          datetime.datetime(2020, 7, 29, 23, 30),\n",
       "                          datetime.datetime(2020, 7, 30, 23, 30),\n",
       "                          datetime.datetime(2020, 7, 31, 23, 30),\n",
       "                          datetime.datetime(2020, 8, 1, 23, 30),\n",
       "                          datetime.datetime(2020, 8, 2, 23, 30),\n",
       "                          datetime.datetime(2020, 8, 3, 23, 30),\n",
       "                          datetime.datetime(2020, 8, 4, 23, 30),\n",
       "                          datetime.datetime(2020, 8, 5, 23, 30),\n",
       "                          datetime.datetime(2020, 8, 6, 23, 30),\n",
       "                          datetime.datetime(2020, 8, 7, 23, 30),\n",
       "                          datetime.datetime(2020, 8, 8, 23, 30),\n",
       "                          datetime.datetime(2020, 8, 9, 23, 30),\n",
       "                          datetime.datetime(2020, 8, 10, 23, 30),\n",
       "                          datetime.datetime(2020, 8, 11, 23, 30),\n",
       "                          datetime.datetime(2020, 8, 12, 23, 30),\n",
       "                          datetime.datetime(2020, 8, 13, 23, 30),\n",
       "                          datetime.datetime(2020, 8, 14, 23, 30),\n",
       "                          datetime.datetime(2020, 8, 15, 23, 30),\n",
       "                          datetime.datetime(2020, 8, 16, 23, 30),\n",
       "                          datetime.datetime(2020, 8, 17, 23, 30),\n",
       "                          datetime.datetime(2020, 8, 18, 23, 30),\n",
       "                          datetime.datetime(2020, 8, 19, 23, 30),\n",
       "                          datetime.datetime(2020, 8, 20, 23, 30),\n",
       "                          datetime.datetime(2020, 8, 21, 23, 30),\n",
       "                          datetime.datetime(2020, 8, 22, 23, 30),\n",
       "                          datetime.datetime(2020, 8, 23, 23, 30),\n",
       "                          datetime.datetime(2020, 8, 24, 23, 30),\n",
       "                          datetime.datetime(2020, 8, 25, 23, 30),\n",
       "                          datetime.datetime(2020, 8, 26, 23, 30),\n",
       "                          datetime.datetime(2020, 8, 27, 23, 30),\n",
       "                          datetime.datetime(2020, 8, 28, 23, 30),\n",
       "                          datetime.datetime(2020, 8, 29, 23, 30),\n",
       "                          datetime.datetime(2020, 8, 30, 23, 30),\n",
       "                          datetime.datetime(2020, 8, 31, 23, 30),\n",
       "                          datetime.datetime(2020, 9, 1, 23, 30),\n",
       "                          datetime.datetime(2020, 9, 2, 23, 30),\n",
       "                          datetime.datetime(2020, 9, 3, 23, 30),\n",
       "                          datetime.datetime(2020, 9, 4, 23, 30),\n",
       "                          datetime.datetime(2020, 9, 5, 23, 30),\n",
       "                          datetime.datetime(2020, 9, 6, 23, 30),\n",
       "                          datetime.datetime(2020, 9, 7, 23, 30),\n",
       "                          datetime.datetime(2020, 9, 8, 23, 30),\n",
       "                          datetime.datetime(2020, 9, 9, 23, 30),\n",
       "                          datetime.datetime(2020, 9, 10, 23, 30),\n",
       "                          datetime.datetime(2020, 9, 11, 23, 30),\n",
       "                          datetime.datetime(2020, 9, 12, 23, 30),\n",
       "                          datetime.datetime(2020, 9, 13, 23, 30),\n",
       "                          datetime.datetime(2020, 9, 14, 23, 30),\n",
       "                          datetime.datetime(2020, 9, 15, 23, 30),\n",
       "                          datetime.datetime(2020, 9, 16, 23, 30),\n",
       "                          datetime.datetime(2020, 9, 17, 23, 30),\n",
       "                          datetime.datetime(2020, 9, 18, 23, 30),\n",
       "                          datetime.datetime(2020, 9, 19, 23, 30),\n",
       "                          datetime.datetime(2020, 9, 20, 23, 30),\n",
       "                          datetime.datetime(2020, 9, 21, 23, 30),\n",
       "                          datetime.datetime(2020, 9, 22, 23, 30),\n",
       "                          datetime.datetime(2020, 9, 23, 23, 30),\n",
       "                          datetime.datetime(2020, 9, 24, 23, 30),\n",
       "                          datetime.datetime(2020, 9, 25, 23, 30)], dtype=object),\n",
       "              'xaxis': 'x',\n",
       "              'y': array([76., 74., 76., 68., 68., 70., 68., 72., 72., 72., 72., 70., 68., 72.,\n",
       "                          72., 72., 74., 68., 72., 68., 68., 70., 80., 70., 70., 70., 72., 70.,\n",
       "                          70., 70., 70., 70., 72., 72., 70., 70., 70., 80., 68., 68., 70., 70.,\n",
       "                          70., 70., 68., 70., 70., 70., 70., 70., 70., 72., 70., 70., 70., 70.,\n",
       "                          70., 70., 68., 72., 72., 68., 70., 70., 68., 70., 70., 72., 74., 72.,\n",
       "                          70., 72., 72., 72., 70., 68., 74., 72., 70., 70., 70., 72., 72., 74.,\n",
       "                          74., 72., 74., 74., 74., 72., 72., 78., 72., 72., 72., 72., 72., 72.,\n",
       "                          72., 70., 70., 70., 68., 68., 72., 72., 68., 70., 78., 78., 72., 70.,\n",
       "                          68., 68., 70., 68., 72., 72., 68., 70., 70., 70., 70., 70., 68., 68.,\n",
       "                          68., 70., 68., 72., 70., 70., 70., 72., 72., 72., 72., 72., 74., 74.,\n",
       "                          76., 74., 76., 76., 74., 78., 74., 76., 74., 74., 74., 76., 74., 76.,\n",
       "                          72., 76., 72., 68., 68., 68., 70., 74., 70., 72., 80., 76., 76., 68.,\n",
       "                          74., 76., 80., 76., 76., 76., 80., 74., 68., 80., 76., 68., 68., 68.,\n",
       "                          78., 68., 74., 68., 68., 70., 68., 68., 68., 68., 68., 68., 70., 74.,\n",
       "                          72., 76., 76., 72.]),\n",
       "              'yaxis': 'y'},\n",
       "             {'hovertemplate': 'variable=pred_ai<br>index=%{x}<br>value=%{y}<extra></extra>',\n",
       "              'legendgroup': 'pred_ai',\n",
       "              'line': {'color': '#EF553B', 'dash': 'solid'},\n",
       "              'marker': {'symbol': 'circle'},\n",
       "              'mode': 'lines',\n",
       "              'name': 'pred_ai',\n",
       "              'orientation': 'v',\n",
       "              'showlegend': True,\n",
       "              'type': 'scatter',\n",
       "              'uid': '704d0b6f-79e6-489b-8c5b-83c5c728fe77',\n",
       "              'x': array([datetime.datetime(2020, 3, 10, 23, 30),\n",
       "                          datetime.datetime(2020, 3, 11, 23, 30),\n",
       "                          datetime.datetime(2020, 3, 12, 23, 30),\n",
       "                          datetime.datetime(2020, 3, 13, 23, 30),\n",
       "                          datetime.datetime(2020, 3, 14, 23, 30),\n",
       "                          datetime.datetime(2020, 3, 15, 23, 30),\n",
       "                          datetime.datetime(2020, 3, 16, 23, 30),\n",
       "                          datetime.datetime(2020, 3, 17, 23, 30),\n",
       "                          datetime.datetime(2020, 3, 18, 23, 30),\n",
       "                          datetime.datetime(2020, 3, 19, 23, 30),\n",
       "                          datetime.datetime(2020, 3, 20, 23, 30),\n",
       "                          datetime.datetime(2020, 3, 21, 23, 30),\n",
       "                          datetime.datetime(2020, 3, 22, 23, 30),\n",
       "                          datetime.datetime(2020, 3, 23, 23, 30),\n",
       "                          datetime.datetime(2020, 3, 24, 23, 30),\n",
       "                          datetime.datetime(2020, 3, 25, 23, 30),\n",
       "                          datetime.datetime(2020, 3, 26, 23, 30),\n",
       "                          datetime.datetime(2020, 3, 27, 23, 30),\n",
       "                          datetime.datetime(2020, 3, 28, 23, 30),\n",
       "                          datetime.datetime(2020, 3, 29, 23, 30),\n",
       "                          datetime.datetime(2020, 3, 30, 23, 30),\n",
       "                          datetime.datetime(2020, 3, 31, 23, 30),\n",
       "                          datetime.datetime(2020, 4, 1, 23, 30),\n",
       "                          datetime.datetime(2020, 4, 2, 23, 30),\n",
       "                          datetime.datetime(2020, 4, 3, 23, 30),\n",
       "                          datetime.datetime(2020, 4, 4, 23, 30),\n",
       "                          datetime.datetime(2020, 4, 5, 23, 30),\n",
       "                          datetime.datetime(2020, 4, 6, 23, 30),\n",
       "                          datetime.datetime(2020, 4, 7, 23, 30),\n",
       "                          datetime.datetime(2020, 4, 8, 23, 30),\n",
       "                          datetime.datetime(2020, 4, 9, 23, 30),\n",
       "                          datetime.datetime(2020, 4, 10, 23, 30),\n",
       "                          datetime.datetime(2020, 4, 11, 23, 30),\n",
       "                          datetime.datetime(2020, 4, 12, 23, 30),\n",
       "                          datetime.datetime(2020, 4, 13, 23, 30),\n",
       "                          datetime.datetime(2020, 4, 14, 23, 30),\n",
       "                          datetime.datetime(2020, 4, 15, 23, 30),\n",
       "                          datetime.datetime(2020, 4, 16, 23, 30),\n",
       "                          datetime.datetime(2020, 4, 17, 23, 30),\n",
       "                          datetime.datetime(2020, 4, 18, 23, 30),\n",
       "                          datetime.datetime(2020, 4, 19, 23, 30),\n",
       "                          datetime.datetime(2020, 4, 20, 23, 30),\n",
       "                          datetime.datetime(2020, 4, 21, 23, 30),\n",
       "                          datetime.datetime(2020, 4, 22, 23, 30),\n",
       "                          datetime.datetime(2020, 4, 23, 23, 30),\n",
       "                          datetime.datetime(2020, 4, 24, 23, 30),\n",
       "                          datetime.datetime(2020, 4, 25, 23, 30),\n",
       "                          datetime.datetime(2020, 4, 26, 23, 30),\n",
       "                          datetime.datetime(2020, 4, 27, 23, 30),\n",
       "                          datetime.datetime(2020, 4, 28, 23, 30),\n",
       "                          datetime.datetime(2020, 4, 29, 23, 30),\n",
       "                          datetime.datetime(2020, 4, 30, 23, 30),\n",
       "                          datetime.datetime(2020, 5, 1, 23, 30),\n",
       "                          datetime.datetime(2020, 5, 2, 23, 30),\n",
       "                          datetime.datetime(2020, 5, 3, 23, 30),\n",
       "                          datetime.datetime(2020, 5, 4, 23, 30),\n",
       "                          datetime.datetime(2020, 5, 5, 23, 30),\n",
       "                          datetime.datetime(2020, 5, 6, 23, 30),\n",
       "                          datetime.datetime(2020, 5, 7, 23, 30),\n",
       "                          datetime.datetime(2020, 5, 8, 23, 30),\n",
       "                          datetime.datetime(2020, 5, 9, 23, 30),\n",
       "                          datetime.datetime(2020, 5, 10, 23, 30),\n",
       "                          datetime.datetime(2020, 5, 11, 23, 30),\n",
       "                          datetime.datetime(2020, 5, 12, 23, 30),\n",
       "                          datetime.datetime(2020, 5, 13, 23, 30),\n",
       "                          datetime.datetime(2020, 5, 14, 23, 30),\n",
       "                          datetime.datetime(2020, 5, 15, 23, 30),\n",
       "                          datetime.datetime(2020, 5, 16, 23, 30),\n",
       "                          datetime.datetime(2020, 5, 17, 23, 30),\n",
       "                          datetime.datetime(2020, 5, 18, 23, 30),\n",
       "                          datetime.datetime(2020, 5, 19, 23, 30),\n",
       "                          datetime.datetime(2020, 5, 20, 23, 30),\n",
       "                          datetime.datetime(2020, 5, 21, 23, 30),\n",
       "                          datetime.datetime(2020, 5, 22, 23, 30),\n",
       "                          datetime.datetime(2020, 5, 23, 23, 30),\n",
       "                          datetime.datetime(2020, 5, 24, 23, 30),\n",
       "                          datetime.datetime(2020, 5, 25, 23, 30),\n",
       "                          datetime.datetime(2020, 5, 26, 23, 30),\n",
       "                          datetime.datetime(2020, 5, 27, 23, 30),\n",
       "                          datetime.datetime(2020, 5, 28, 23, 30),\n",
       "                          datetime.datetime(2020, 5, 29, 23, 30),\n",
       "                          datetime.datetime(2020, 5, 30, 23, 30),\n",
       "                          datetime.datetime(2020, 5, 31, 23, 30),\n",
       "                          datetime.datetime(2020, 6, 1, 23, 30),\n",
       "                          datetime.datetime(2020, 6, 2, 23, 30),\n",
       "                          datetime.datetime(2020, 6, 3, 23, 30),\n",
       "                          datetime.datetime(2020, 6, 4, 23, 30),\n",
       "                          datetime.datetime(2020, 6, 5, 23, 30),\n",
       "                          datetime.datetime(2020, 6, 6, 23, 30),\n",
       "                          datetime.datetime(2020, 6, 7, 23, 30),\n",
       "                          datetime.datetime(2020, 6, 8, 23, 30),\n",
       "                          datetime.datetime(2020, 6, 9, 23, 30),\n",
       "                          datetime.datetime(2020, 6, 10, 23, 30),\n",
       "                          datetime.datetime(2020, 6, 11, 23, 30),\n",
       "                          datetime.datetime(2020, 6, 12, 23, 30),\n",
       "                          datetime.datetime(2020, 6, 13, 23, 30),\n",
       "                          datetime.datetime(2020, 6, 14, 23, 30),\n",
       "                          datetime.datetime(2020, 6, 15, 23, 30),\n",
       "                          datetime.datetime(2020, 6, 16, 23, 30),\n",
       "                          datetime.datetime(2020, 6, 17, 23, 30),\n",
       "                          datetime.datetime(2020, 6, 18, 23, 30),\n",
       "                          datetime.datetime(2020, 6, 19, 23, 30),\n",
       "                          datetime.datetime(2020, 6, 20, 23, 30),\n",
       "                          datetime.datetime(2020, 6, 21, 23, 30),\n",
       "                          datetime.datetime(2020, 6, 22, 23, 30),\n",
       "                          datetime.datetime(2020, 6, 23, 23, 30),\n",
       "                          datetime.datetime(2020, 6, 24, 23, 30),\n",
       "                          datetime.datetime(2020, 6, 25, 23, 30),\n",
       "                          datetime.datetime(2020, 6, 26, 23, 30),\n",
       "                          datetime.datetime(2020, 6, 27, 23, 30),\n",
       "                          datetime.datetime(2020, 6, 28, 23, 30),\n",
       "                          datetime.datetime(2020, 6, 29, 23, 30),\n",
       "                          datetime.datetime(2020, 6, 30, 23, 30),\n",
       "                          datetime.datetime(2020, 7, 1, 23, 30),\n",
       "                          datetime.datetime(2020, 7, 2, 23, 30),\n",
       "                          datetime.datetime(2020, 7, 3, 23, 30),\n",
       "                          datetime.datetime(2020, 7, 4, 23, 30),\n",
       "                          datetime.datetime(2020, 7, 5, 23, 30),\n",
       "                          datetime.datetime(2020, 7, 6, 23, 30),\n",
       "                          datetime.datetime(2020, 7, 7, 23, 30),\n",
       "                          datetime.datetime(2020, 7, 8, 23, 30),\n",
       "                          datetime.datetime(2020, 7, 9, 23, 30),\n",
       "                          datetime.datetime(2020, 7, 10, 23, 30),\n",
       "                          datetime.datetime(2020, 7, 11, 23, 30),\n",
       "                          datetime.datetime(2020, 7, 12, 23, 30),\n",
       "                          datetime.datetime(2020, 7, 13, 23, 30),\n",
       "                          datetime.datetime(2020, 7, 14, 23, 30),\n",
       "                          datetime.datetime(2020, 7, 15, 23, 30),\n",
       "                          datetime.datetime(2020, 7, 16, 23, 30),\n",
       "                          datetime.datetime(2020, 7, 17, 23, 30),\n",
       "                          datetime.datetime(2020, 7, 18, 23, 30),\n",
       "                          datetime.datetime(2020, 7, 19, 23, 30),\n",
       "                          datetime.datetime(2020, 7, 20, 23, 30),\n",
       "                          datetime.datetime(2020, 7, 21, 23, 30),\n",
       "                          datetime.datetime(2020, 7, 22, 23, 30),\n",
       "                          datetime.datetime(2020, 7, 23, 23, 30),\n",
       "                          datetime.datetime(2020, 7, 24, 23, 30),\n",
       "                          datetime.datetime(2020, 7, 25, 23, 30),\n",
       "                          datetime.datetime(2020, 7, 26, 23, 30),\n",
       "                          datetime.datetime(2020, 7, 27, 23, 30),\n",
       "                          datetime.datetime(2020, 7, 28, 23, 30),\n",
       "                          datetime.datetime(2020, 7, 29, 23, 30),\n",
       "                          datetime.datetime(2020, 7, 30, 23, 30),\n",
       "                          datetime.datetime(2020, 7, 31, 23, 30),\n",
       "                          datetime.datetime(2020, 8, 1, 23, 30),\n",
       "                          datetime.datetime(2020, 8, 2, 23, 30),\n",
       "                          datetime.datetime(2020, 8, 3, 23, 30),\n",
       "                          datetime.datetime(2020, 8, 4, 23, 30),\n",
       "                          datetime.datetime(2020, 8, 5, 23, 30),\n",
       "                          datetime.datetime(2020, 8, 6, 23, 30),\n",
       "                          datetime.datetime(2020, 8, 7, 23, 30),\n",
       "                          datetime.datetime(2020, 8, 8, 23, 30),\n",
       "                          datetime.datetime(2020, 8, 9, 23, 30),\n",
       "                          datetime.datetime(2020, 8, 10, 23, 30),\n",
       "                          datetime.datetime(2020, 8, 11, 23, 30),\n",
       "                          datetime.datetime(2020, 8, 12, 23, 30),\n",
       "                          datetime.datetime(2020, 8, 13, 23, 30),\n",
       "                          datetime.datetime(2020, 8, 14, 23, 30),\n",
       "                          datetime.datetime(2020, 8, 15, 23, 30),\n",
       "                          datetime.datetime(2020, 8, 16, 23, 30),\n",
       "                          datetime.datetime(2020, 8, 17, 23, 30),\n",
       "                          datetime.datetime(2020, 8, 18, 23, 30),\n",
       "                          datetime.datetime(2020, 8, 19, 23, 30),\n",
       "                          datetime.datetime(2020, 8, 20, 23, 30),\n",
       "                          datetime.datetime(2020, 8, 21, 23, 30),\n",
       "                          datetime.datetime(2020, 8, 22, 23, 30),\n",
       "                          datetime.datetime(2020, 8, 23, 23, 30),\n",
       "                          datetime.datetime(2020, 8, 24, 23, 30),\n",
       "                          datetime.datetime(2020, 8, 25, 23, 30),\n",
       "                          datetime.datetime(2020, 8, 26, 23, 30),\n",
       "                          datetime.datetime(2020, 8, 27, 23, 30),\n",
       "                          datetime.datetime(2020, 8, 28, 23, 30),\n",
       "                          datetime.datetime(2020, 8, 29, 23, 30),\n",
       "                          datetime.datetime(2020, 8, 30, 23, 30),\n",
       "                          datetime.datetime(2020, 8, 31, 23, 30),\n",
       "                          datetime.datetime(2020, 9, 1, 23, 30),\n",
       "                          datetime.datetime(2020, 9, 2, 23, 30),\n",
       "                          datetime.datetime(2020, 9, 3, 23, 30),\n",
       "                          datetime.datetime(2020, 9, 4, 23, 30),\n",
       "                          datetime.datetime(2020, 9, 5, 23, 30),\n",
       "                          datetime.datetime(2020, 9, 6, 23, 30),\n",
       "                          datetime.datetime(2020, 9, 7, 23, 30),\n",
       "                          datetime.datetime(2020, 9, 8, 23, 30),\n",
       "                          datetime.datetime(2020, 9, 9, 23, 30),\n",
       "                          datetime.datetime(2020, 9, 10, 23, 30),\n",
       "                          datetime.datetime(2020, 9, 11, 23, 30),\n",
       "                          datetime.datetime(2020, 9, 12, 23, 30),\n",
       "                          datetime.datetime(2020, 9, 13, 23, 30),\n",
       "                          datetime.datetime(2020, 9, 14, 23, 30),\n",
       "                          datetime.datetime(2020, 9, 15, 23, 30),\n",
       "                          datetime.datetime(2020, 9, 16, 23, 30),\n",
       "                          datetime.datetime(2020, 9, 17, 23, 30),\n",
       "                          datetime.datetime(2020, 9, 18, 23, 30),\n",
       "                          datetime.datetime(2020, 9, 19, 23, 30),\n",
       "                          datetime.datetime(2020, 9, 20, 23, 30),\n",
       "                          datetime.datetime(2020, 9, 21, 23, 30),\n",
       "                          datetime.datetime(2020, 9, 22, 23, 30),\n",
       "                          datetime.datetime(2020, 9, 23, 23, 30),\n",
       "                          datetime.datetime(2020, 9, 24, 23, 30),\n",
       "                          datetime.datetime(2020, 9, 25, 23, 30)], dtype=object),\n",
       "              'xaxis': 'x',\n",
       "              'y': array([70.52548218, 70.21027374, 72.89757538, 68.7140274 , 67.88840485,\n",
       "                          68.80617523, 69.24028015, 68.98562622, 68.70938873, 69.60961151,\n",
       "                          71.04441071, 70.99295044, 68.32483673, 71.39361572, 73.59200287,\n",
       "                          72.02656555, 68.9811554 , 68.30111694, 70.97348022, 69.77749634,\n",
       "                          71.10102081, 69.3347168 , 69.06704712, 68.77775574, 70.23940277,\n",
       "                          69.02030182, 72.59243774, 72.03547668, 68.47438049, 69.54871368,\n",
       "                          72.15841675, 71.97061157, 74.50147247, 70.00653839, 69.19070435,\n",
       "                          70.09942627, 71.23460388, 69.87045288, 68.94691467, 71.47112274,\n",
       "                          73.92801666, 70.35797882, 70.61168671, 74.30090332, 66.97841644,\n",
       "                          68.7928772 , 70.04441833, 69.35527039, 68.69922638, 70.43897247,\n",
       "                          69.22618103, 68.28565216, 69.75730896, 69.65711212, 69.20703125,\n",
       "                          70.39524841, 68.8203125 , 69.23331451, 67.88262939, 70.3416214 ,\n",
       "                          71.61352539, 69.70728302, 69.41093445, 70.02596283, 67.95178223,\n",
       "                          69.4265213 , 68.70077515, 69.25296021, 70.6460495 , 69.42655182,\n",
       "                          68.80619812, 69.31015778, 69.20331573, 69.7241745 , 68.26532745,\n",
       "                          68.47944641, 70.61882782, 70.39897919, 68.58968353, 69.35218811,\n",
       "                          71.0275116 , 69.50760651, 73.24641418, 71.4775238 , 71.07147217,\n",
       "                          70.91078186, 70.59441376, 72.86699677, 71.64279938, 69.81755829,\n",
       "                          70.35183716, 70.84177399, 69.25287628, 70.30975342, 69.56083679,\n",
       "                          70.82463074, 71.18818665, 71.09272766, 71.24345398, 69.7266922 ,\n",
       "                          69.35797119, 70.17611694, 69.53785706, 68.25213623, 68.77548981,\n",
       "                          73.44606781, 68.98146057, 69.20420074, 70.9174118 , 71.30719757,\n",
       "                          70.01478577, 69.47531128, 68.3455658 , 69.42424011, 69.3844223 ,\n",
       "                          69.46331024, 70.0039444 , 69.59510803, 67.31787872, 69.16516113,\n",
       "                          70.10801697, 70.15276337, 69.96131897, 69.84082031, 67.93047333,\n",
       "                          67.70648193, 67.64697266, 71.30315399, 69.51291656, 71.23526001,\n",
       "                          69.21123505, 69.15161896, 68.54742432, 69.08267212, 69.28485107,\n",
       "                          72.80181885, 70.65727997, 72.43358612, 71.87781525, 69.48616791,\n",
       "                          69.85430908, 71.40439606, 72.88536835, 71.88638306, 70.80944061,\n",
       "                          72.82885742, 71.63624573, 72.80076599, 70.64121246, 70.73020172,\n",
       "                          71.46347046, 72.14303589, 71.46528625, 72.59248352, 70.84870148,\n",
       "                          72.45800781, 70.33585358, 68.3235321 , 68.31167603, 68.45378876,\n",
       "                          69.55612183, 71.7388916 , 68.08714294, 69.19297791, 69.40837097,\n",
       "                          71.52979279, 71.55474854, 70.82905579, 71.14839935, 71.81858826,\n",
       "                          68.42653656, 71.3576355 , 71.81620026, 71.83869171, 70.69746399,\n",
       "                          71.10832214, 68.02616882, 68.42263031, 74.12928772, 69.48762512,\n",
       "                          68.53961945, 69.1476593 , 70.93078613, 68.86484528, 72.24798584,\n",
       "                          69.26956177, 68.07204437, 69.12722015, 67.84923553, 68.27014923,\n",
       "                          67.88951111, 68.17668152, 68.50296783, 69.55782318, 70.92858887,\n",
       "                          70.45218658, 70.9584198 , 70.71770477, 76.26399231, 70.95220184]),\n",
       "              'yaxis': 'y'},\n",
       "             {'hovertemplate': 'variable=current<br>index=%{x}<br>value=%{y}<extra></extra>',\n",
       "              'legendgroup': 'current',\n",
       "              'line': {'color': '#00cc96', 'dash': 'solid'},\n",
       "              'marker': {'symbol': 'circle'},\n",
       "              'mode': 'lines',\n",
       "              'name': 'current',\n",
       "              'orientation': 'v',\n",
       "              'showlegend': True,\n",
       "              'type': 'scatter',\n",
       "              'uid': 'db8effe8-516e-4548-b63b-373a5fbbbd53',\n",
       "              'x': array([datetime.datetime(2020, 3, 10, 23, 30),\n",
       "                          datetime.datetime(2020, 3, 11, 23, 30),\n",
       "                          datetime.datetime(2020, 3, 12, 23, 30),\n",
       "                          datetime.datetime(2020, 3, 13, 23, 30),\n",
       "                          datetime.datetime(2020, 3, 14, 23, 30),\n",
       "                          datetime.datetime(2020, 3, 15, 23, 30),\n",
       "                          datetime.datetime(2020, 3, 16, 23, 30),\n",
       "                          datetime.datetime(2020, 3, 17, 23, 30),\n",
       "                          datetime.datetime(2020, 3, 18, 23, 30),\n",
       "                          datetime.datetime(2020, 3, 19, 23, 30),\n",
       "                          datetime.datetime(2020, 3, 20, 23, 30),\n",
       "                          datetime.datetime(2020, 3, 21, 23, 30),\n",
       "                          datetime.datetime(2020, 3, 22, 23, 30),\n",
       "                          datetime.datetime(2020, 3, 23, 23, 30),\n",
       "                          datetime.datetime(2020, 3, 24, 23, 30),\n",
       "                          datetime.datetime(2020, 3, 25, 23, 30),\n",
       "                          datetime.datetime(2020, 3, 26, 23, 30),\n",
       "                          datetime.datetime(2020, 3, 27, 23, 30),\n",
       "                          datetime.datetime(2020, 3, 28, 23, 30),\n",
       "                          datetime.datetime(2020, 3, 29, 23, 30),\n",
       "                          datetime.datetime(2020, 3, 30, 23, 30),\n",
       "                          datetime.datetime(2020, 3, 31, 23, 30),\n",
       "                          datetime.datetime(2020, 4, 1, 23, 30),\n",
       "                          datetime.datetime(2020, 4, 2, 23, 30),\n",
       "                          datetime.datetime(2020, 4, 3, 23, 30),\n",
       "                          datetime.datetime(2020, 4, 4, 23, 30),\n",
       "                          datetime.datetime(2020, 4, 5, 23, 30),\n",
       "                          datetime.datetime(2020, 4, 6, 23, 30),\n",
       "                          datetime.datetime(2020, 4, 7, 23, 30),\n",
       "                          datetime.datetime(2020, 4, 8, 23, 30),\n",
       "                          datetime.datetime(2020, 4, 9, 23, 30),\n",
       "                          datetime.datetime(2020, 4, 10, 23, 30),\n",
       "                          datetime.datetime(2020, 4, 11, 23, 30),\n",
       "                          datetime.datetime(2020, 4, 12, 23, 30),\n",
       "                          datetime.datetime(2020, 4, 13, 23, 30),\n",
       "                          datetime.datetime(2020, 4, 14, 23, 30),\n",
       "                          datetime.datetime(2020, 4, 15, 23, 30),\n",
       "                          datetime.datetime(2020, 4, 16, 23, 30),\n",
       "                          datetime.datetime(2020, 4, 17, 23, 30),\n",
       "                          datetime.datetime(2020, 4, 18, 23, 30),\n",
       "                          datetime.datetime(2020, 4, 19, 23, 30),\n",
       "                          datetime.datetime(2020, 4, 20, 23, 30),\n",
       "                          datetime.datetime(2020, 4, 21, 23, 30),\n",
       "                          datetime.datetime(2020, 4, 22, 23, 30),\n",
       "                          datetime.datetime(2020, 4, 23, 23, 30),\n",
       "                          datetime.datetime(2020, 4, 24, 23, 30),\n",
       "                          datetime.datetime(2020, 4, 25, 23, 30),\n",
       "                          datetime.datetime(2020, 4, 26, 23, 30),\n",
       "                          datetime.datetime(2020, 4, 27, 23, 30),\n",
       "                          datetime.datetime(2020, 4, 28, 23, 30),\n",
       "                          datetime.datetime(2020, 4, 29, 23, 30),\n",
       "                          datetime.datetime(2020, 4, 30, 23, 30),\n",
       "                          datetime.datetime(2020, 5, 1, 23, 30),\n",
       "                          datetime.datetime(2020, 5, 2, 23, 30),\n",
       "                          datetime.datetime(2020, 5, 3, 23, 30),\n",
       "                          datetime.datetime(2020, 5, 4, 23, 30),\n",
       "                          datetime.datetime(2020, 5, 5, 23, 30),\n",
       "                          datetime.datetime(2020, 5, 6, 23, 30),\n",
       "                          datetime.datetime(2020, 5, 7, 23, 30),\n",
       "                          datetime.datetime(2020, 5, 8, 23, 30),\n",
       "                          datetime.datetime(2020, 5, 9, 23, 30),\n",
       "                          datetime.datetime(2020, 5, 10, 23, 30),\n",
       "                          datetime.datetime(2020, 5, 11, 23, 30),\n",
       "                          datetime.datetime(2020, 5, 12, 23, 30),\n",
       "                          datetime.datetime(2020, 5, 13, 23, 30),\n",
       "                          datetime.datetime(2020, 5, 14, 23, 30),\n",
       "                          datetime.datetime(2020, 5, 15, 23, 30),\n",
       "                          datetime.datetime(2020, 5, 16, 23, 30),\n",
       "                          datetime.datetime(2020, 5, 17, 23, 30),\n",
       "                          datetime.datetime(2020, 5, 18, 23, 30),\n",
       "                          datetime.datetime(2020, 5, 19, 23, 30),\n",
       "                          datetime.datetime(2020, 5, 20, 23, 30),\n",
       "                          datetime.datetime(2020, 5, 21, 23, 30),\n",
       "                          datetime.datetime(2020, 5, 22, 23, 30),\n",
       "                          datetime.datetime(2020, 5, 23, 23, 30),\n",
       "                          datetime.datetime(2020, 5, 24, 23, 30),\n",
       "                          datetime.datetime(2020, 5, 25, 23, 30),\n",
       "                          datetime.datetime(2020, 5, 26, 23, 30),\n",
       "                          datetime.datetime(2020, 5, 27, 23, 30),\n",
       "                          datetime.datetime(2020, 5, 28, 23, 30),\n",
       "                          datetime.datetime(2020, 5, 29, 23, 30),\n",
       "                          datetime.datetime(2020, 5, 30, 23, 30),\n",
       "                          datetime.datetime(2020, 5, 31, 23, 30),\n",
       "                          datetime.datetime(2020, 6, 1, 23, 30),\n",
       "                          datetime.datetime(2020, 6, 2, 23, 30),\n",
       "                          datetime.datetime(2020, 6, 3, 23, 30),\n",
       "                          datetime.datetime(2020, 6, 4, 23, 30),\n",
       "                          datetime.datetime(2020, 6, 5, 23, 30),\n",
       "                          datetime.datetime(2020, 6, 6, 23, 30),\n",
       "                          datetime.datetime(2020, 6, 7, 23, 30),\n",
       "                          datetime.datetime(2020, 6, 8, 23, 30),\n",
       "                          datetime.datetime(2020, 6, 9, 23, 30),\n",
       "                          datetime.datetime(2020, 6, 10, 23, 30),\n",
       "                          datetime.datetime(2020, 6, 11, 23, 30),\n",
       "                          datetime.datetime(2020, 6, 12, 23, 30),\n",
       "                          datetime.datetime(2020, 6, 13, 23, 30),\n",
       "                          datetime.datetime(2020, 6, 14, 23, 30),\n",
       "                          datetime.datetime(2020, 6, 15, 23, 30),\n",
       "                          datetime.datetime(2020, 6, 16, 23, 30),\n",
       "                          datetime.datetime(2020, 6, 17, 23, 30),\n",
       "                          datetime.datetime(2020, 6, 18, 23, 30),\n",
       "                          datetime.datetime(2020, 6, 19, 23, 30),\n",
       "                          datetime.datetime(2020, 6, 20, 23, 30),\n",
       "                          datetime.datetime(2020, 6, 21, 23, 30),\n",
       "                          datetime.datetime(2020, 6, 22, 23, 30),\n",
       "                          datetime.datetime(2020, 6, 23, 23, 30),\n",
       "                          datetime.datetime(2020, 6, 24, 23, 30),\n",
       "                          datetime.datetime(2020, 6, 25, 23, 30),\n",
       "                          datetime.datetime(2020, 6, 26, 23, 30),\n",
       "                          datetime.datetime(2020, 6, 27, 23, 30),\n",
       "                          datetime.datetime(2020, 6, 28, 23, 30),\n",
       "                          datetime.datetime(2020, 6, 29, 23, 30),\n",
       "                          datetime.datetime(2020, 6, 30, 23, 30),\n",
       "                          datetime.datetime(2020, 7, 1, 23, 30),\n",
       "                          datetime.datetime(2020, 7, 2, 23, 30),\n",
       "                          datetime.datetime(2020, 7, 3, 23, 30),\n",
       "                          datetime.datetime(2020, 7, 4, 23, 30),\n",
       "                          datetime.datetime(2020, 7, 5, 23, 30),\n",
       "                          datetime.datetime(2020, 7, 6, 23, 30),\n",
       "                          datetime.datetime(2020, 7, 7, 23, 30),\n",
       "                          datetime.datetime(2020, 7, 8, 23, 30),\n",
       "                          datetime.datetime(2020, 7, 9, 23, 30),\n",
       "                          datetime.datetime(2020, 7, 10, 23, 30),\n",
       "                          datetime.datetime(2020, 7, 11, 23, 30),\n",
       "                          datetime.datetime(2020, 7, 12, 23, 30),\n",
       "                          datetime.datetime(2020, 7, 13, 23, 30),\n",
       "                          datetime.datetime(2020, 7, 14, 23, 30),\n",
       "                          datetime.datetime(2020, 7, 15, 23, 30),\n",
       "                          datetime.datetime(2020, 7, 16, 23, 30),\n",
       "                          datetime.datetime(2020, 7, 17, 23, 30),\n",
       "                          datetime.datetime(2020, 7, 18, 23, 30),\n",
       "                          datetime.datetime(2020, 7, 19, 23, 30),\n",
       "                          datetime.datetime(2020, 7, 20, 23, 30),\n",
       "                          datetime.datetime(2020, 7, 21, 23, 30),\n",
       "                          datetime.datetime(2020, 7, 22, 23, 30),\n",
       "                          datetime.datetime(2020, 7, 23, 23, 30),\n",
       "                          datetime.datetime(2020, 7, 24, 23, 30),\n",
       "                          datetime.datetime(2020, 7, 25, 23, 30),\n",
       "                          datetime.datetime(2020, 7, 26, 23, 30),\n",
       "                          datetime.datetime(2020, 7, 27, 23, 30),\n",
       "                          datetime.datetime(2020, 7, 28, 23, 30),\n",
       "                          datetime.datetime(2020, 7, 29, 23, 30),\n",
       "                          datetime.datetime(2020, 7, 30, 23, 30),\n",
       "                          datetime.datetime(2020, 7, 31, 23, 30),\n",
       "                          datetime.datetime(2020, 8, 1, 23, 30),\n",
       "                          datetime.datetime(2020, 8, 2, 23, 30),\n",
       "                          datetime.datetime(2020, 8, 3, 23, 30),\n",
       "                          datetime.datetime(2020, 8, 4, 23, 30),\n",
       "                          datetime.datetime(2020, 8, 5, 23, 30),\n",
       "                          datetime.datetime(2020, 8, 6, 23, 30),\n",
       "                          datetime.datetime(2020, 8, 7, 23, 30),\n",
       "                          datetime.datetime(2020, 8, 8, 23, 30),\n",
       "                          datetime.datetime(2020, 8, 9, 23, 30),\n",
       "                          datetime.datetime(2020, 8, 10, 23, 30),\n",
       "                          datetime.datetime(2020, 8, 11, 23, 30),\n",
       "                          datetime.datetime(2020, 8, 12, 23, 30),\n",
       "                          datetime.datetime(2020, 8, 13, 23, 30),\n",
       "                          datetime.datetime(2020, 8, 14, 23, 30),\n",
       "                          datetime.datetime(2020, 8, 15, 23, 30),\n",
       "                          datetime.datetime(2020, 8, 16, 23, 30),\n",
       "                          datetime.datetime(2020, 8, 17, 23, 30),\n",
       "                          datetime.datetime(2020, 8, 18, 23, 30),\n",
       "                          datetime.datetime(2020, 8, 19, 23, 30),\n",
       "                          datetime.datetime(2020, 8, 20, 23, 30),\n",
       "                          datetime.datetime(2020, 8, 21, 23, 30),\n",
       "                          datetime.datetime(2020, 8, 22, 23, 30),\n",
       "                          datetime.datetime(2020, 8, 23, 23, 30),\n",
       "                          datetime.datetime(2020, 8, 24, 23, 30),\n",
       "                          datetime.datetime(2020, 8, 25, 23, 30),\n",
       "                          datetime.datetime(2020, 8, 26, 23, 30),\n",
       "                          datetime.datetime(2020, 8, 27, 23, 30),\n",
       "                          datetime.datetime(2020, 8, 28, 23, 30),\n",
       "                          datetime.datetime(2020, 8, 29, 23, 30),\n",
       "                          datetime.datetime(2020, 8, 30, 23, 30),\n",
       "                          datetime.datetime(2020, 8, 31, 23, 30),\n",
       "                          datetime.datetime(2020, 9, 1, 23, 30),\n",
       "                          datetime.datetime(2020, 9, 2, 23, 30),\n",
       "                          datetime.datetime(2020, 9, 3, 23, 30),\n",
       "                          datetime.datetime(2020, 9, 4, 23, 30),\n",
       "                          datetime.datetime(2020, 9, 5, 23, 30),\n",
       "                          datetime.datetime(2020, 9, 6, 23, 30),\n",
       "                          datetime.datetime(2020, 9, 7, 23, 30),\n",
       "                          datetime.datetime(2020, 9, 8, 23, 30),\n",
       "                          datetime.datetime(2020, 9, 9, 23, 30),\n",
       "                          datetime.datetime(2020, 9, 10, 23, 30),\n",
       "                          datetime.datetime(2020, 9, 11, 23, 30),\n",
       "                          datetime.datetime(2020, 9, 12, 23, 30),\n",
       "                          datetime.datetime(2020, 9, 13, 23, 30),\n",
       "                          datetime.datetime(2020, 9, 14, 23, 30),\n",
       "                          datetime.datetime(2020, 9, 15, 23, 30),\n",
       "                          datetime.datetime(2020, 9, 16, 23, 30),\n",
       "                          datetime.datetime(2020, 9, 17, 23, 30),\n",
       "                          datetime.datetime(2020, 9, 18, 23, 30),\n",
       "                          datetime.datetime(2020, 9, 19, 23, 30),\n",
       "                          datetime.datetime(2020, 9, 20, 23, 30),\n",
       "                          datetime.datetime(2020, 9, 21, 23, 30),\n",
       "                          datetime.datetime(2020, 9, 22, 23, 30),\n",
       "                          datetime.datetime(2020, 9, 23, 23, 30),\n",
       "                          datetime.datetime(2020, 9, 24, 23, 30),\n",
       "                          datetime.datetime(2020, 9, 25, 23, 30)], dtype=object),\n",
       "              'xaxis': 'x',\n",
       "              'y': array([69.70212766, 69.35531915, 68.51276596, 67.65531915, 68.42765957,\n",
       "                          69.30425532, 69.98085106, 71.14468085, 71.44893617, 71.30425532,\n",
       "                          70.70851064, 70.05531915, 69.84893617, 70.34042553, 70.84893617,\n",
       "                          70.4106383 , 69.55744681, 69.10212766, 68.80425532, 68.84468085,\n",
       "                          69.44255319, 69.50638298, 69.44468085, 69.84680851, 70.09787234,\n",
       "                          70.73829787, 70.71276596, 70.1       , 70.39361702, 70.65106383,\n",
       "                          70.06170213, 70.18510638, 70.99787234, 70.90425532, 70.06382979,\n",
       "                          69.15531915, 68.94893617, 68.70638298, 69.3787234 , 69.81276596,\n",
       "                          69.05319149, 69.34042553, 70.58297872, 70.47021277, 69.9893617 ,\n",
       "                          70.15744681, 69.94680851, 70.00212766, 69.9       , 70.43829787,\n",
       "                          70.95106383, 71.09574468, 70.8106383 , 70.05531915, 70.14255319,\n",
       "                          70.5       , 70.79361702, 70.56170213, 69.60851064, 70.76595745,\n",
       "                          70.88297872, 68.41914894, 68.87021277, 70.25106383, 69.61276596,\n",
       "                          69.19574468, 70.18297872, 71.09787234, 71.49361702, 70.8212766 ,\n",
       "                          70.53404255, 71.59361702, 72.24255319, 71.76808511, 70.75319149,\n",
       "                          71.33404255, 71.85531915, 70.76808511, 69.60638298, 70.42553191,\n",
       "                          71.74680851, 72.34042553, 72.01702128, 71.78723404, 72.20425532,\n",
       "                          72.04893617, 72.63829787, 73.49361702, 73.8       , 73.50638298,\n",
       "                          73.88510638, 73.91489362, 73.44468085, 73.2106383 , 72.16170213,\n",
       "                          71.99148936, 72.54680851, 72.11276596, 71.25531915, 70.60851064,\n",
       "                          70.64042553, 70.56170213, 69.95106383, 69.9       , 69.60638298,\n",
       "                          69.20212766, 70.12765957, 70.61276596, 70.58723404, 71.34680851,\n",
       "                          71.25531915, 70.70638298, 70.79148936, 70.75957447, 70.93617021,\n",
       "                          71.69787234, 71.8       , 71.3106383 , 70.40851064, 69.70638298,\n",
       "                          70.18297872, 71.04893617, 71.05106383, 70.41276596, 70.14255319,\n",
       "                          70.84255319, 70.90638298, 70.74680851, 71.09574468, 70.66382979,\n",
       "                          70.53829787, 71.34468085, 71.84468085, 72.14893617, 72.34680851,\n",
       "                          72.10851064, 72.14042553, 73.0893617 , 73.64893617, 73.89574468,\n",
       "                          74.49148936, 75.24255319, 75.01276596, 74.25319149, 74.49148936,\n",
       "                          74.85106383, 74.94680851, 75.34468085, 75.35531915, 75.54042553,\n",
       "                          76.39148936, 76.40851064, 76.09787234, 75.80851064, 75.25319149,\n",
       "                          74.65957447, 73.41702128, 72.50212766, 72.49787234, 72.55106383,\n",
       "                          72.79361702, 72.65957447, 71.90638298, 72.0893617 , 72.1106383 ,\n",
       "                          71.84468085, 71.95319149, 71.94680851, 72.00212766, 71.65531915,\n",
       "                          71.44893617, 71.54893617, 71.50212766, 70.95957447, 70.64680851,\n",
       "                          70.16382979, 70.33191489, 71.00425532, 70.55531915, 70.39787234,\n",
       "                          70.89148936, 71.10425532, 70.80212766, 70.45531915, 69.90638298,\n",
       "                          69.89361702, 70.39574468, 70.15957447, 69.65106383, 69.89361702,\n",
       "                          70.29787234, 70.49787234, 70.89361702, 70.95531915, 71.28723404,\n",
       "                          72.3893617 , 73.29148936, 73.89574468, 73.95319149, 73.35957447]),\n",
       "              'yaxis': 'y'}],\n",
       "    'layout': {'legend': {'title': {'text': 'variable'}, 'tracegroupgap': 0},\n",
       "               'margin': {'t': 60},\n",
       "               'template': '...',\n",
       "               'xaxis': {'anchor': 'y', 'domain': [0.0, 1.0], 'title': {'text': 'index'}},\n",
       "               'yaxis': {'anchor': 'x', 'domain': [0.0, 1.0], 'title': {'text': 'value'}}}\n",
       "})"
      ]
     },
     "execution_count": 29,
     "metadata": {},
     "output_type": "execute_result"
    }
   ],
   "source": [
    "df_resultsai[[\"pred\",\"pred_ai\", \"current\"]].head(3000).plot()"
   ]
  },
  {
   "cell_type": "code",
   "execution_count": 30,
   "id": "34f454be-0045-4194-a294-fd79b732b1ee",
   "metadata": {},
   "outputs": [
    {
     "data": {
      "text/plain": [
       "1.7771183268770243"
      ]
     },
     "execution_count": 30,
     "metadata": {},
     "output_type": "execute_result"
    }
   ],
   "source": [
    "from FCeV import METRICS\n",
    "current_fcev.get_metrics_from_fc(df_resultsai[\"current\"], df_resultsai[\"pred_ai\"], METRICS.RMSE).mean()/100"
   ]
  },
  {
   "cell_type": "code",
   "execution_count": 35,
   "id": "ec258ed3-b7a7-464f-a854-e7f8b3395d08",
   "metadata": {},
   "outputs": [],
   "source": [
    "read_df = df.copy()\n",
    "from sklearn.ensemble import IsolationForest"
   ]
  },
  {
   "cell_type": "code",
   "execution_count": 32,
   "id": "f09425ac-bc7a-4239-8736-ae2855e0f6b1",
   "metadata": {},
   "outputs": [],
   "source": [
    "df = df[0:48]"
   ]
  },
  {
   "cell_type": "code",
   "execution_count": 88,
   "id": "8fedbd29-9cb6-4fda-a0d5-2018c874a165",
   "metadata": {},
   "outputs": [],
   "source": [
    "input_df = current_fcev.FCeV_model.input_series.pd_dataframe().copy()"
   ]
  },
  {
   "cell_type": "code",
   "execution_count": 89,
   "id": "a3744a98-0aaa-49d5-b2b7-b9275f06f0f7",
   "metadata": {},
   "outputs": [
    {
     "data": {
      "text/plain": [
       "array([-0.68220729, -0.68220729, -0.68220729, -0.68220729, -0.68220729,\n",
       "       -0.68220729, -0.68220729, -0.68220729, -0.68220729, -0.68220729,\n",
       "       -0.68220729, -0.68220729, -0.68220729, -0.68220729, -0.68220729,\n",
       "       -0.68220729, -0.68220729, -0.68220729, -0.68220729, -0.68220729,\n",
       "       -0.68220729, -0.68220729, -0.68220729, -0.68220729, -0.68220729,\n",
       "       -0.68220729, -0.68220729, -0.68220729, -0.68220729, -0.68220729,\n",
       "       -0.68220729, -0.68220729, -0.68220729, -0.68220729, -0.68220729,\n",
       "       -0.68220729, -0.68220729, -0.68220729, -0.68220729, -0.68220729,\n",
       "       -0.68220729, -0.68220729, -0.68220729, -0.68220729, -0.68220729,\n",
       "       -0.68220729, -0.68220729, -0.68220729])"
      ]
     },
     "execution_count": 89,
     "metadata": {},
     "output_type": "execute_result"
    }
   ],
   "source": [
    "input_df_selected = input_df[input_df.index < df.index[0]]\n",
    "clf = IsolationForest(random_state=0).fit(input_df_selected)\n",
    "clf.score_samples(df[\"BASE\"][\"pred\"])"
   ]
  },
  {
   "cell_type": "code",
   "execution_count": 97,
   "id": "5cc9973e-a72a-48aa-8721-ce8d2c4a0b12",
   "metadata": {},
   "outputs": [],
   "source": [
    "from sklearn.preprocessing import MinMaxScaler\n",
    "\n",
    "scaler = MinMaxScaler()"
   ]
  },
  {
   "cell_type": "code",
   "execution_count": 120,
   "id": "72fe71a0-5a17-4c4a-9332-ef2b3e90ec93",
   "metadata": {},
   "outputs": [
    {
     "data": {
      "text/html": [
       "<div>\n",
       "<style scoped>\n",
       "    .dataframe tbody tr th:only-of-type {\n",
       "        vertical-align: middle;\n",
       "    }\n",
       "\n",
       "    .dataframe tbody tr th {\n",
       "        vertical-align: top;\n",
       "    }\n",
       "\n",
       "    .dataframe thead th {\n",
       "        text-align: right;\n",
       "    }\n",
       "</style>\n",
       "<table border=\"1\" class=\"dataframe\">\n",
       "  <thead>\n",
       "    <tr style=\"text-align: right;\">\n",
       "      <th>component</th>\n",
       "      <th>larm</th>\n",
       "      <th>dyng</th>\n",
       "      <th>duth</th>\n",
       "      <th>noa1</th>\n",
       "    </tr>\n",
       "    <tr>\n",
       "      <th>ds</th>\n",
       "      <th></th>\n",
       "      <th></th>\n",
       "      <th></th>\n",
       "      <th></th>\n",
       "    </tr>\n",
       "  </thead>\n",
       "  <tbody>\n",
       "    <tr>\n",
       "      <th>2016-01-01 00:00:00</th>\n",
       "      <td>0.447697</td>\n",
       "      <td>0.0</td>\n",
       "      <td>0.450210</td>\n",
       "      <td>0.455922</td>\n",
       "    </tr>\n",
       "    <tr>\n",
       "      <th>2016-01-01 00:30:00</th>\n",
       "      <td>0.447052</td>\n",
       "      <td>0.0</td>\n",
       "      <td>0.450163</td>\n",
       "      <td>0.457612</td>\n",
       "    </tr>\n",
       "    <tr>\n",
       "      <th>2016-01-01 01:00:00</th>\n",
       "      <td>0.444813</td>\n",
       "      <td>0.0</td>\n",
       "      <td>0.451456</td>\n",
       "      <td>0.459810</td>\n",
       "    </tr>\n",
       "    <tr>\n",
       "      <th>2016-01-01 01:30:00</th>\n",
       "      <td>0.429715</td>\n",
       "      <td>0.0</td>\n",
       "      <td>0.437435</td>\n",
       "      <td>0.443617</td>\n",
       "    </tr>\n",
       "    <tr>\n",
       "      <th>2016-01-01 02:00:00</th>\n",
       "      <td>0.388624</td>\n",
       "      <td>0.0</td>\n",
       "      <td>0.393413</td>\n",
       "      <td>0.389987</td>\n",
       "    </tr>\n",
       "  </tbody>\n",
       "</table>\n",
       "</div>"
      ],
      "text/plain": [
       "component                larm  dyng      duth      noa1\n",
       "ds                                                     \n",
       "2016-01-01 00:00:00  0.447697   0.0  0.450210  0.455922\n",
       "2016-01-01 00:30:00  0.447052   0.0  0.450163  0.457612\n",
       "2016-01-01 01:00:00  0.444813   0.0  0.451456  0.459810\n",
       "2016-01-01 01:30:00  0.429715   0.0  0.437435  0.443617\n",
       "2016-01-01 02:00:00  0.388624   0.0  0.393413  0.389987"
      ]
     },
     "execution_count": 120,
     "metadata": {},
     "output_type": "execute_result"
    }
   ],
   "source": [
    "input_df = current_fcev.FCeV_model.input_series.pd_dataframe().copy()\n",
    "input_df_selected = input_df[input_df.index < df.index[0]]\n",
    "\n",
    "input_df_selected = pd.DataFrame(scaler.fit_transform(input_df_selected), columns = input_df_selected.columns, index = input_df_selected.index)\n",
    "df_truth = input_df.loc[df.index]\n",
    "df_truth = pd.DataFrame(scaler.transform(input_df.loc[df.index]), columns = df_truth.columns, index = df_truth.index)\n",
    "input_df_selected.head()"
   ]
  },
  {
   "cell_type": "code",
   "execution_count": 121,
   "id": "f80c2520-de00-4a46-b461-72f1156b0bb3",
   "metadata": {},
   "outputs": [
    {
     "data": {
      "text/html": [
       "<style type=\"text/css\">\n",
       "#T_fde9f_row4_col1 {\n",
       "  background-color: lightgreen;\n",
       "}\n",
       "</style>\n",
       "<table id=\"T_fde9f\">\n",
       "  <thead>\n",
       "    <tr>\n",
       "      <th class=\"blank level0\" >&nbsp;</th>\n",
       "      <th id=\"T_fde9f_level0_col0\" class=\"col_heading level0 col0\" >Description</th>\n",
       "      <th id=\"T_fde9f_level0_col1\" class=\"col_heading level0 col1\" >Value</th>\n",
       "    </tr>\n",
       "  </thead>\n",
       "  <tbody>\n",
       "    <tr>\n",
       "      <th id=\"T_fde9f_level0_row0\" class=\"row_heading level0 row0\" >0</th>\n",
       "      <td id=\"T_fde9f_row0_col0\" class=\"data row0 col0\" >Session id</td>\n",
       "      <td id=\"T_fde9f_row0_col1\" class=\"data row0 col1\" >123</td>\n",
       "    </tr>\n",
       "    <tr>\n",
       "      <th id=\"T_fde9f_level0_row1\" class=\"row_heading level0 row1\" >1</th>\n",
       "      <td id=\"T_fde9f_row1_col0\" class=\"data row1 col0\" >Original data shape</td>\n",
       "      <td id=\"T_fde9f_row1_col1\" class=\"data row1 col1\" >(35064, 4)</td>\n",
       "    </tr>\n",
       "    <tr>\n",
       "      <th id=\"T_fde9f_level0_row2\" class=\"row_heading level0 row2\" >2</th>\n",
       "      <td id=\"T_fde9f_row2_col0\" class=\"data row2 col0\" >Transformed data shape</td>\n",
       "      <td id=\"T_fde9f_row2_col1\" class=\"data row2 col1\" >(35064, 4)</td>\n",
       "    </tr>\n",
       "    <tr>\n",
       "      <th id=\"T_fde9f_level0_row3\" class=\"row_heading level0 row3\" >3</th>\n",
       "      <td id=\"T_fde9f_row3_col0\" class=\"data row3 col0\" >Numeric features</td>\n",
       "      <td id=\"T_fde9f_row3_col1\" class=\"data row3 col1\" >4</td>\n",
       "    </tr>\n",
       "    <tr>\n",
       "      <th id=\"T_fde9f_level0_row4\" class=\"row_heading level0 row4\" >4</th>\n",
       "      <td id=\"T_fde9f_row4_col0\" class=\"data row4 col0\" >Preprocess</td>\n",
       "      <td id=\"T_fde9f_row4_col1\" class=\"data row4 col1\" >True</td>\n",
       "    </tr>\n",
       "    <tr>\n",
       "      <th id=\"T_fde9f_level0_row5\" class=\"row_heading level0 row5\" >5</th>\n",
       "      <td id=\"T_fde9f_row5_col0\" class=\"data row5 col0\" >Imputation type</td>\n",
       "      <td id=\"T_fde9f_row5_col1\" class=\"data row5 col1\" >simple</td>\n",
       "    </tr>\n",
       "    <tr>\n",
       "      <th id=\"T_fde9f_level0_row6\" class=\"row_heading level0 row6\" >6</th>\n",
       "      <td id=\"T_fde9f_row6_col0\" class=\"data row6 col0\" >Numeric imputation</td>\n",
       "      <td id=\"T_fde9f_row6_col1\" class=\"data row6 col1\" >mean</td>\n",
       "    </tr>\n",
       "    <tr>\n",
       "      <th id=\"T_fde9f_level0_row7\" class=\"row_heading level0 row7\" >7</th>\n",
       "      <td id=\"T_fde9f_row7_col0\" class=\"data row7 col0\" >Categorical imputation</td>\n",
       "      <td id=\"T_fde9f_row7_col1\" class=\"data row7 col1\" >mode</td>\n",
       "    </tr>\n",
       "    <tr>\n",
       "      <th id=\"T_fde9f_level0_row8\" class=\"row_heading level0 row8\" >8</th>\n",
       "      <td id=\"T_fde9f_row8_col0\" class=\"data row8 col0\" >CPU Jobs</td>\n",
       "      <td id=\"T_fde9f_row8_col1\" class=\"data row8 col1\" >-1</td>\n",
       "    </tr>\n",
       "    <tr>\n",
       "      <th id=\"T_fde9f_level0_row9\" class=\"row_heading level0 row9\" >9</th>\n",
       "      <td id=\"T_fde9f_row9_col0\" class=\"data row9 col0\" >Use GPU</td>\n",
       "      <td id=\"T_fde9f_row9_col1\" class=\"data row9 col1\" >False</td>\n",
       "    </tr>\n",
       "    <tr>\n",
       "      <th id=\"T_fde9f_level0_row10\" class=\"row_heading level0 row10\" >10</th>\n",
       "      <td id=\"T_fde9f_row10_col0\" class=\"data row10 col0\" >Log Experiment</td>\n",
       "      <td id=\"T_fde9f_row10_col1\" class=\"data row10 col1\" >False</td>\n",
       "    </tr>\n",
       "    <tr>\n",
       "      <th id=\"T_fde9f_level0_row11\" class=\"row_heading level0 row11\" >11</th>\n",
       "      <td id=\"T_fde9f_row11_col0\" class=\"data row11 col0\" >Experiment Name</td>\n",
       "      <td id=\"T_fde9f_row11_col1\" class=\"data row11 col1\" >anomaly-default-name</td>\n",
       "    </tr>\n",
       "    <tr>\n",
       "      <th id=\"T_fde9f_level0_row12\" class=\"row_heading level0 row12\" >12</th>\n",
       "      <td id=\"T_fde9f_row12_col0\" class=\"data row12 col0\" >USI</td>\n",
       "      <td id=\"T_fde9f_row12_col1\" class=\"data row12 col1\" >e54a</td>\n",
       "    </tr>\n",
       "  </tbody>\n",
       "</table>\n"
      ],
      "text/plain": [
       "<pandas.io.formats.style.Styler at 0x7fe7e1940850>"
      ]
     },
     "metadata": {},
     "output_type": "display_data"
    }
   ],
   "source": [
    "# import pycaret anomaly and init setup\n",
    "from pycaret.anomaly import *\n",
    "s = setup(input_df_selected, session_id = 123)"
   ]
  },
  {
   "cell_type": "code",
   "execution_count": 122,
   "id": "dde3fd58-8dcd-437a-b488-9a97a7cac2a2",
   "metadata": {},
   "outputs": [
    {
     "data": {
      "text/html": [
       "<style type=\"text/css\">\n",
       "#T_632a3_row4_col1 {\n",
       "  background-color: lightgreen;\n",
       "}\n",
       "</style>\n",
       "<table id=\"T_632a3\">\n",
       "  <thead>\n",
       "    <tr>\n",
       "      <th class=\"blank level0\" >&nbsp;</th>\n",
       "      <th id=\"T_632a3_level0_col0\" class=\"col_heading level0 col0\" >Description</th>\n",
       "      <th id=\"T_632a3_level0_col1\" class=\"col_heading level0 col1\" >Value</th>\n",
       "    </tr>\n",
       "  </thead>\n",
       "  <tbody>\n",
       "    <tr>\n",
       "      <th id=\"T_632a3_level0_row0\" class=\"row_heading level0 row0\" >0</th>\n",
       "      <td id=\"T_632a3_row0_col0\" class=\"data row0 col0\" >Session id</td>\n",
       "      <td id=\"T_632a3_row0_col1\" class=\"data row0 col1\" >123</td>\n",
       "    </tr>\n",
       "    <tr>\n",
       "      <th id=\"T_632a3_level0_row1\" class=\"row_heading level0 row1\" >1</th>\n",
       "      <td id=\"T_632a3_row1_col0\" class=\"data row1 col0\" >Original data shape</td>\n",
       "      <td id=\"T_632a3_row1_col1\" class=\"data row1 col1\" >(35064, 4)</td>\n",
       "    </tr>\n",
       "    <tr>\n",
       "      <th id=\"T_632a3_level0_row2\" class=\"row_heading level0 row2\" >2</th>\n",
       "      <td id=\"T_632a3_row2_col0\" class=\"data row2 col0\" >Transformed data shape</td>\n",
       "      <td id=\"T_632a3_row2_col1\" class=\"data row2 col1\" >(35064, 4)</td>\n",
       "    </tr>\n",
       "    <tr>\n",
       "      <th id=\"T_632a3_level0_row3\" class=\"row_heading level0 row3\" >3</th>\n",
       "      <td id=\"T_632a3_row3_col0\" class=\"data row3 col0\" >Numeric features</td>\n",
       "      <td id=\"T_632a3_row3_col1\" class=\"data row3 col1\" >4</td>\n",
       "    </tr>\n",
       "    <tr>\n",
       "      <th id=\"T_632a3_level0_row4\" class=\"row_heading level0 row4\" >4</th>\n",
       "      <td id=\"T_632a3_row4_col0\" class=\"data row4 col0\" >Preprocess</td>\n",
       "      <td id=\"T_632a3_row4_col1\" class=\"data row4 col1\" >True</td>\n",
       "    </tr>\n",
       "    <tr>\n",
       "      <th id=\"T_632a3_level0_row5\" class=\"row_heading level0 row5\" >5</th>\n",
       "      <td id=\"T_632a3_row5_col0\" class=\"data row5 col0\" >Imputation type</td>\n",
       "      <td id=\"T_632a3_row5_col1\" class=\"data row5 col1\" >simple</td>\n",
       "    </tr>\n",
       "    <tr>\n",
       "      <th id=\"T_632a3_level0_row6\" class=\"row_heading level0 row6\" >6</th>\n",
       "      <td id=\"T_632a3_row6_col0\" class=\"data row6 col0\" >Numeric imputation</td>\n",
       "      <td id=\"T_632a3_row6_col1\" class=\"data row6 col1\" >mean</td>\n",
       "    </tr>\n",
       "    <tr>\n",
       "      <th id=\"T_632a3_level0_row7\" class=\"row_heading level0 row7\" >7</th>\n",
       "      <td id=\"T_632a3_row7_col0\" class=\"data row7 col0\" >Categorical imputation</td>\n",
       "      <td id=\"T_632a3_row7_col1\" class=\"data row7 col1\" >mode</td>\n",
       "    </tr>\n",
       "    <tr>\n",
       "      <th id=\"T_632a3_level0_row8\" class=\"row_heading level0 row8\" >8</th>\n",
       "      <td id=\"T_632a3_row8_col0\" class=\"data row8 col0\" >CPU Jobs</td>\n",
       "      <td id=\"T_632a3_row8_col1\" class=\"data row8 col1\" >-1</td>\n",
       "    </tr>\n",
       "    <tr>\n",
       "      <th id=\"T_632a3_level0_row9\" class=\"row_heading level0 row9\" >9</th>\n",
       "      <td id=\"T_632a3_row9_col0\" class=\"data row9 col0\" >Use GPU</td>\n",
       "      <td id=\"T_632a3_row9_col1\" class=\"data row9 col1\" >False</td>\n",
       "    </tr>\n",
       "    <tr>\n",
       "      <th id=\"T_632a3_level0_row10\" class=\"row_heading level0 row10\" >10</th>\n",
       "      <td id=\"T_632a3_row10_col0\" class=\"data row10 col0\" >Log Experiment</td>\n",
       "      <td id=\"T_632a3_row10_col1\" class=\"data row10 col1\" >False</td>\n",
       "    </tr>\n",
       "    <tr>\n",
       "      <th id=\"T_632a3_level0_row11\" class=\"row_heading level0 row11\" >11</th>\n",
       "      <td id=\"T_632a3_row11_col0\" class=\"data row11 col0\" >Experiment Name</td>\n",
       "      <td id=\"T_632a3_row11_col1\" class=\"data row11 col1\" >anomaly-default-name</td>\n",
       "    </tr>\n",
       "    <tr>\n",
       "      <th id=\"T_632a3_level0_row12\" class=\"row_heading level0 row12\" >12</th>\n",
       "      <td id=\"T_632a3_row12_col0\" class=\"data row12 col0\" >USI</td>\n",
       "      <td id=\"T_632a3_row12_col1\" class=\"data row12 col1\" >e1dd</td>\n",
       "    </tr>\n",
       "  </tbody>\n",
       "</table>\n"
      ],
      "text/plain": [
       "<pandas.io.formats.style.Styler at 0x7fe7e1716c10>"
      ]
     },
     "metadata": {},
     "output_type": "display_data"
    },
    {
     "data": {
      "text/plain": [
       "<pycaret.anomaly.oop.AnomalyExperiment at 0x7fe7e16c35b0>"
      ]
     },
     "execution_count": 122,
     "metadata": {},
     "output_type": "execute_result"
    }
   ],
   "source": [
    "# import AnomalyExperiment and init the class\n",
    "from pycaret.anomaly import AnomalyExperiment\n",
    "exp = AnomalyExperiment()\n",
    "# init setup on exp\n",
    "exp.setup(input_df_selected, session_id = 123)"
   ]
  },
  {
   "cell_type": "code",
   "execution_count": 123,
   "id": "86530f06-35e8-4417-95d8-9ebe6b3cfd56",
   "metadata": {},
   "outputs": [
    {
     "data": {
      "text/html": [
       "<style type=\"text/css\">\n",
       "#T_b79db_row4_col1 {\n",
       "  background-color: lightgreen;\n",
       "}\n",
       "</style>\n",
       "<table id=\"T_b79db\">\n",
       "  <thead>\n",
       "    <tr>\n",
       "      <th class=\"blank level0\" >&nbsp;</th>\n",
       "      <th id=\"T_b79db_level0_col0\" class=\"col_heading level0 col0\" >Description</th>\n",
       "      <th id=\"T_b79db_level0_col1\" class=\"col_heading level0 col1\" >Value</th>\n",
       "    </tr>\n",
       "  </thead>\n",
       "  <tbody>\n",
       "    <tr>\n",
       "      <th id=\"T_b79db_level0_row0\" class=\"row_heading level0 row0\" >0</th>\n",
       "      <td id=\"T_b79db_row0_col0\" class=\"data row0 col0\" >Session id</td>\n",
       "      <td id=\"T_b79db_row0_col1\" class=\"data row0 col1\" >6972</td>\n",
       "    </tr>\n",
       "    <tr>\n",
       "      <th id=\"T_b79db_level0_row1\" class=\"row_heading level0 row1\" >1</th>\n",
       "      <td id=\"T_b79db_row1_col0\" class=\"data row1 col0\" >Original data shape</td>\n",
       "      <td id=\"T_b79db_row1_col1\" class=\"data row1 col1\" >(35064, 4)</td>\n",
       "    </tr>\n",
       "    <tr>\n",
       "      <th id=\"T_b79db_level0_row2\" class=\"row_heading level0 row2\" >2</th>\n",
       "      <td id=\"T_b79db_row2_col0\" class=\"data row2 col0\" >Transformed data shape</td>\n",
       "      <td id=\"T_b79db_row2_col1\" class=\"data row2 col1\" >(35064, 4)</td>\n",
       "    </tr>\n",
       "    <tr>\n",
       "      <th id=\"T_b79db_level0_row3\" class=\"row_heading level0 row3\" >3</th>\n",
       "      <td id=\"T_b79db_row3_col0\" class=\"data row3 col0\" >Numeric features</td>\n",
       "      <td id=\"T_b79db_row3_col1\" class=\"data row3 col1\" >4</td>\n",
       "    </tr>\n",
       "    <tr>\n",
       "      <th id=\"T_b79db_level0_row4\" class=\"row_heading level0 row4\" >4</th>\n",
       "      <td id=\"T_b79db_row4_col0\" class=\"data row4 col0\" >Preprocess</td>\n",
       "      <td id=\"T_b79db_row4_col1\" class=\"data row4 col1\" >True</td>\n",
       "    </tr>\n",
       "    <tr>\n",
       "      <th id=\"T_b79db_level0_row5\" class=\"row_heading level0 row5\" >5</th>\n",
       "      <td id=\"T_b79db_row5_col0\" class=\"data row5 col0\" >Imputation type</td>\n",
       "      <td id=\"T_b79db_row5_col1\" class=\"data row5 col1\" >simple</td>\n",
       "    </tr>\n",
       "    <tr>\n",
       "      <th id=\"T_b79db_level0_row6\" class=\"row_heading level0 row6\" >6</th>\n",
       "      <td id=\"T_b79db_row6_col0\" class=\"data row6 col0\" >Numeric imputation</td>\n",
       "      <td id=\"T_b79db_row6_col1\" class=\"data row6 col1\" >mean</td>\n",
       "    </tr>\n",
       "    <tr>\n",
       "      <th id=\"T_b79db_level0_row7\" class=\"row_heading level0 row7\" >7</th>\n",
       "      <td id=\"T_b79db_row7_col0\" class=\"data row7 col0\" >Categorical imputation</td>\n",
       "      <td id=\"T_b79db_row7_col1\" class=\"data row7 col1\" >mode</td>\n",
       "    </tr>\n",
       "    <tr>\n",
       "      <th id=\"T_b79db_level0_row8\" class=\"row_heading level0 row8\" >8</th>\n",
       "      <td id=\"T_b79db_row8_col0\" class=\"data row8 col0\" >CPU Jobs</td>\n",
       "      <td id=\"T_b79db_row8_col1\" class=\"data row8 col1\" >-1</td>\n",
       "    </tr>\n",
       "    <tr>\n",
       "      <th id=\"T_b79db_level0_row9\" class=\"row_heading level0 row9\" >9</th>\n",
       "      <td id=\"T_b79db_row9_col0\" class=\"data row9 col0\" >Use GPU</td>\n",
       "      <td id=\"T_b79db_row9_col1\" class=\"data row9 col1\" >False</td>\n",
       "    </tr>\n",
       "    <tr>\n",
       "      <th id=\"T_b79db_level0_row10\" class=\"row_heading level0 row10\" >10</th>\n",
       "      <td id=\"T_b79db_row10_col0\" class=\"data row10 col0\" >Log Experiment</td>\n",
       "      <td id=\"T_b79db_row10_col1\" class=\"data row10 col1\" >False</td>\n",
       "    </tr>\n",
       "    <tr>\n",
       "      <th id=\"T_b79db_level0_row11\" class=\"row_heading level0 row11\" >11</th>\n",
       "      <td id=\"T_b79db_row11_col0\" class=\"data row11 col0\" >Experiment Name</td>\n",
       "      <td id=\"T_b79db_row11_col1\" class=\"data row11 col1\" >anomaly-default-name</td>\n",
       "    </tr>\n",
       "    <tr>\n",
       "      <th id=\"T_b79db_level0_row12\" class=\"row_heading level0 row12\" >12</th>\n",
       "      <td id=\"T_b79db_row12_col0\" class=\"data row12 col0\" >USI</td>\n",
       "      <td id=\"T_b79db_row12_col1\" class=\"data row12 col1\" >9a42</td>\n",
       "    </tr>\n",
       "  </tbody>\n",
       "</table>\n"
      ],
      "text/plain": [
       "<pandas.io.formats.style.Styler at 0x7fe7dd1f5dc0>"
      ]
     },
     "metadata": {},
     "output_type": "display_data"
    },
    {
     "data": {
      "text/html": [],
      "text/plain": [
       "<IPython.core.display.HTML object>"
      ]
     },
     "metadata": {},
     "output_type": "display_data"
    },
    {
     "data": {
      "text/html": [],
      "text/plain": [
       "<IPython.core.display.HTML object>"
      ]
     },
     "metadata": {},
     "output_type": "display_data"
    },
    {
     "data": {
      "text/html": [],
      "text/plain": [
       "<IPython.core.display.HTML object>"
      ]
     },
     "metadata": {},
     "output_type": "display_data"
    }
   ],
   "source": [
    "# create PyCaret anomaly detection model\n",
    "import pycaret\n",
    "exp_name = setup(data = input_df_selected)\n",
    "iforest = create_model('iforest', fraction=0.00001)"
   ]
  },
  {
   "cell_type": "code",
   "execution_count": 124,
   "id": "58802765-6854-464a-9c09-5762dcecff3e",
   "metadata": {},
   "outputs": [
    {
     "data": {
      "text/html": [
       "<div>\n",
       "<style scoped>\n",
       "    .dataframe tbody tr th:only-of-type {\n",
       "        vertical-align: middle;\n",
       "    }\n",
       "\n",
       "    .dataframe tbody tr th {\n",
       "        vertical-align: top;\n",
       "    }\n",
       "\n",
       "    .dataframe thead th {\n",
       "        text-align: right;\n",
       "    }\n",
       "</style>\n",
       "<table border=\"1\" class=\"dataframe\">\n",
       "  <thead>\n",
       "    <tr style=\"text-align: right;\">\n",
       "      <th>component</th>\n",
       "      <th>larm</th>\n",
       "      <th>dyng</th>\n",
       "      <th>duth</th>\n",
       "      <th>noa1</th>\n",
       "      <th>Anomaly</th>\n",
       "      <th>Anomaly_Score</th>\n",
       "    </tr>\n",
       "  </thead>\n",
       "  <tbody>\n",
       "    <tr>\n",
       "      <th>0</th>\n",
       "      <td>0.447697</td>\n",
       "      <td>0.0</td>\n",
       "      <td>0.450210</td>\n",
       "      <td>0.455922</td>\n",
       "      <td>0</td>\n",
       "      <td>-0.230631</td>\n",
       "    </tr>\n",
       "    <tr>\n",
       "      <th>1</th>\n",
       "      <td>0.447052</td>\n",
       "      <td>0.0</td>\n",
       "      <td>0.450163</td>\n",
       "      <td>0.457612</td>\n",
       "      <td>0</td>\n",
       "      <td>-0.231001</td>\n",
       "    </tr>\n",
       "    <tr>\n",
       "      <th>2</th>\n",
       "      <td>0.444813</td>\n",
       "      <td>0.0</td>\n",
       "      <td>0.451456</td>\n",
       "      <td>0.459810</td>\n",
       "      <td>0</td>\n",
       "      <td>-0.230502</td>\n",
       "    </tr>\n",
       "    <tr>\n",
       "      <th>3</th>\n",
       "      <td>0.429715</td>\n",
       "      <td>0.0</td>\n",
       "      <td>0.437435</td>\n",
       "      <td>0.443617</td>\n",
       "      <td>0</td>\n",
       "      <td>-0.232726</td>\n",
       "    </tr>\n",
       "    <tr>\n",
       "      <th>4</th>\n",
       "      <td>0.388624</td>\n",
       "      <td>0.0</td>\n",
       "      <td>0.393413</td>\n",
       "      <td>0.389987</td>\n",
       "      <td>0</td>\n",
       "      <td>-0.240189</td>\n",
       "    </tr>\n",
       "  </tbody>\n",
       "</table>\n",
       "</div>"
      ],
      "text/plain": [
       "component      larm  dyng      duth      noa1  Anomaly  Anomaly_Score\n",
       "0          0.447697   0.0  0.450210  0.455922        0      -0.230631\n",
       "1          0.447052   0.0  0.450163  0.457612        0      -0.231001\n",
       "2          0.444813   0.0  0.451456  0.459810        0      -0.230502\n",
       "3          0.429715   0.0  0.437435  0.443617        0      -0.232726\n",
       "4          0.388624   0.0  0.393413  0.389987        0      -0.240189"
      ]
     },
     "execution_count": 124,
     "metadata": {},
     "output_type": "execute_result"
    }
   ],
   "source": [
    "iforest_results = assign_model(iforest)\n",
    "iforest_results.head()"
   ]
  },
  {
   "cell_type": "code",
   "execution_count": 125,
   "id": "455f9205-1b29-4a44-924a-fe5505e25ed0",
   "metadata": {},
   "outputs": [
    {
     "data": {
      "text/html": [
       "<div>\n",
       "<style scoped>\n",
       "    .dataframe tbody tr th:only-of-type {\n",
       "        vertical-align: middle;\n",
       "    }\n",
       "\n",
       "    .dataframe tbody tr th {\n",
       "        vertical-align: top;\n",
       "    }\n",
       "\n",
       "    .dataframe thead th {\n",
       "        text-align: right;\n",
       "    }\n",
       "</style>\n",
       "<table border=\"1\" class=\"dataframe\">\n",
       "  <thead>\n",
       "    <tr style=\"text-align: right;\">\n",
       "      <th>component</th>\n",
       "      <th>larm</th>\n",
       "      <th>dyng</th>\n",
       "      <th>duth</th>\n",
       "      <th>noa1</th>\n",
       "    </tr>\n",
       "    <tr>\n",
       "      <th>ds</th>\n",
       "      <th></th>\n",
       "      <th></th>\n",
       "      <th></th>\n",
       "      <th></th>\n",
       "    </tr>\n",
       "  </thead>\n",
       "  <tbody>\n",
       "    <tr>\n",
       "      <th>2017-12-31 12:00:00</th>\n",
       "      <td>0.485503</td>\n",
       "      <td>0.557201</td>\n",
       "      <td>0.498289</td>\n",
       "      <td>0.496283</td>\n",
       "    </tr>\n",
       "    <tr>\n",
       "      <th>2017-12-31 12:30:00</th>\n",
       "      <td>0.492181</td>\n",
       "      <td>0.566178</td>\n",
       "      <td>0.509207</td>\n",
       "      <td>0.502835</td>\n",
       "    </tr>\n",
       "    <tr>\n",
       "      <th>2017-12-31 13:00:00</th>\n",
       "      <td>0.481791</td>\n",
       "      <td>0.559269</td>\n",
       "      <td>0.496011</td>\n",
       "      <td>0.489913</td>\n",
       "    </tr>\n",
       "    <tr>\n",
       "      <th>2017-12-31 13:30:00</th>\n",
       "      <td>0.458403</td>\n",
       "      <td>0.545197</td>\n",
       "      <td>0.465979</td>\n",
       "      <td>0.469253</td>\n",
       "    </tr>\n",
       "    <tr>\n",
       "      <th>2017-12-31 14:00:00</th>\n",
       "      <td>0.440280</td>\n",
       "      <td>0.536673</td>\n",
       "      <td>0.445237</td>\n",
       "      <td>0.457196</td>\n",
       "    </tr>\n",
       "  </tbody>\n",
       "</table>\n",
       "</div>"
      ],
      "text/plain": [
       "component                larm      dyng      duth      noa1\n",
       "ds                                                         \n",
       "2017-12-31 12:00:00  0.485503  0.557201  0.498289  0.496283\n",
       "2017-12-31 12:30:00  0.492181  0.566178  0.509207  0.502835\n",
       "2017-12-31 13:00:00  0.481791  0.559269  0.496011  0.489913\n",
       "2017-12-31 13:30:00  0.458403  0.545197  0.465979  0.469253\n",
       "2017-12-31 14:00:00  0.440280  0.536673  0.445237  0.457196"
      ]
     },
     "execution_count": 125,
     "metadata": {},
     "output_type": "execute_result"
    }
   ],
   "source": [
    "df_truth.head()"
   ]
  },
  {
   "cell_type": "code",
   "execution_count": 127,
   "id": "42225f79-4f8b-4651-950d-c8be5e030e76",
   "metadata": {},
   "outputs": [
    {
     "data": {
      "text/html": [
       "<div>\n",
       "<style scoped>\n",
       "    .dataframe tbody tr th:only-of-type {\n",
       "        vertical-align: middle;\n",
       "    }\n",
       "\n",
       "    .dataframe tbody tr th {\n",
       "        vertical-align: top;\n",
       "    }\n",
       "\n",
       "    .dataframe thead th {\n",
       "        text-align: right;\n",
       "    }\n",
       "</style>\n",
       "<table border=\"1\" class=\"dataframe\">\n",
       "  <thead>\n",
       "    <tr style=\"text-align: right;\">\n",
       "      <th>component</th>\n",
       "      <th>larm</th>\n",
       "      <th>dyng</th>\n",
       "      <th>duth</th>\n",
       "      <th>noa1</th>\n",
       "    </tr>\n",
       "    <tr>\n",
       "      <th>ds</th>\n",
       "      <th></th>\n",
       "      <th></th>\n",
       "      <th></th>\n",
       "      <th></th>\n",
       "    </tr>\n",
       "  </thead>\n",
       "  <tbody>\n",
       "    <tr>\n",
       "      <th>2017-12-31 12:00:00</th>\n",
       "      <td>0.919814</td>\n",
       "      <td>0.872521</td>\n",
       "      <td>0.863932</td>\n",
       "      <td>0.845448</td>\n",
       "    </tr>\n",
       "    <tr>\n",
       "      <th>2017-12-31 12:30:00</th>\n",
       "      <td>0.932466</td>\n",
       "      <td>0.889317</td>\n",
       "      <td>0.883723</td>\n",
       "      <td>0.856849</td>\n",
       "    </tr>\n",
       "    <tr>\n",
       "      <th>2017-12-31 13:00:00</th>\n",
       "      <td>0.912781</td>\n",
       "      <td>0.876390</td>\n",
       "      <td>0.859803</td>\n",
       "      <td>0.834365</td>\n",
       "    </tr>\n",
       "    <tr>\n",
       "      <th>2017-12-31 13:30:00</th>\n",
       "      <td>0.868471</td>\n",
       "      <td>0.850062</td>\n",
       "      <td>0.805363</td>\n",
       "      <td>0.798420</td>\n",
       "    </tr>\n",
       "    <tr>\n",
       "      <th>2017-12-31 14:00:00</th>\n",
       "      <td>0.834136</td>\n",
       "      <td>0.834114</td>\n",
       "      <td>0.767764</td>\n",
       "      <td>0.777444</td>\n",
       "    </tr>\n",
       "  </tbody>\n",
       "</table>\n",
       "</div>"
      ],
      "text/plain": [
       "component                larm      dyng      duth      noa1\n",
       "ds                                                         \n",
       "2017-12-31 12:00:00  0.919814  0.872521  0.863932  0.845448\n",
       "2017-12-31 12:30:00  0.932466  0.889317  0.883723  0.856849\n",
       "2017-12-31 13:00:00  0.912781  0.876390  0.859803  0.834365\n",
       "2017-12-31 13:30:00  0.868471  0.850062  0.805363  0.798420\n",
       "2017-12-31 14:00:00  0.834136  0.834114  0.767764  0.777444"
      ]
     },
     "execution_count": 127,
     "metadata": {},
     "output_type": "execute_result"
    }
   ],
   "source": [
    "df[\"BASE\"][\"current\"].head()"
   ]
  },
  {
   "cell_type": "code",
   "execution_count": 126,
   "id": "f0287c68-c6d7-4e30-9c53-24c7ef46eb78",
   "metadata": {},
   "outputs": [
    {
     "data": {
      "text/html": [
       "<div>\n",
       "<style scoped>\n",
       "    .dataframe tbody tr th:only-of-type {\n",
       "        vertical-align: middle;\n",
       "    }\n",
       "\n",
       "    .dataframe tbody tr th {\n",
       "        vertical-align: top;\n",
       "    }\n",
       "\n",
       "    .dataframe thead th {\n",
       "        text-align: right;\n",
       "    }\n",
       "</style>\n",
       "<table border=\"1\" class=\"dataframe\">\n",
       "  <thead>\n",
       "    <tr style=\"text-align: right;\">\n",
       "      <th></th>\n",
       "      <th>larm</th>\n",
       "      <th>dyng</th>\n",
       "      <th>duth</th>\n",
       "      <th>noa1</th>\n",
       "      <th>Anomaly</th>\n",
       "      <th>Anomaly_Score</th>\n",
       "    </tr>\n",
       "    <tr>\n",
       "      <th>ds</th>\n",
       "      <th></th>\n",
       "      <th></th>\n",
       "      <th></th>\n",
       "      <th></th>\n",
       "      <th></th>\n",
       "      <th></th>\n",
       "    </tr>\n",
       "  </thead>\n",
       "  <tbody>\n",
       "    <tr>\n",
       "      <th>2017-12-31 12:00:00</th>\n",
       "      <td>0.919814</td>\n",
       "      <td>0.872521</td>\n",
       "      <td>0.863932</td>\n",
       "      <td>0.845448</td>\n",
       "      <td>0</td>\n",
       "      <td>-0.025255</td>\n",
       "    </tr>\n",
       "    <tr>\n",
       "      <th>2017-12-31 12:30:00</th>\n",
       "      <td>0.932466</td>\n",
       "      <td>0.889317</td>\n",
       "      <td>0.883723</td>\n",
       "      <td>0.856849</td>\n",
       "      <td>0</td>\n",
       "      <td>-0.021677</td>\n",
       "    </tr>\n",
       "    <tr>\n",
       "      <th>2017-12-31 13:00:00</th>\n",
       "      <td>0.912781</td>\n",
       "      <td>0.876390</td>\n",
       "      <td>0.859803</td>\n",
       "      <td>0.834365</td>\n",
       "      <td>0</td>\n",
       "      <td>-0.024745</td>\n",
       "    </tr>\n",
       "    <tr>\n",
       "      <th>2017-12-31 13:30:00</th>\n",
       "      <td>0.868471</td>\n",
       "      <td>0.850062</td>\n",
       "      <td>0.805363</td>\n",
       "      <td>0.798420</td>\n",
       "      <td>0</td>\n",
       "      <td>-0.041314</td>\n",
       "    </tr>\n",
       "    <tr>\n",
       "      <th>2017-12-31 14:00:00</th>\n",
       "      <td>0.834136</td>\n",
       "      <td>0.834114</td>\n",
       "      <td>0.767764</td>\n",
       "      <td>0.777444</td>\n",
       "      <td>0</td>\n",
       "      <td>-0.057260</td>\n",
       "    </tr>\n",
       "  </tbody>\n",
       "</table>\n",
       "</div>"
      ],
      "text/plain": [
       "                         larm      dyng      duth      noa1  Anomaly  \\\n",
       "ds                                                                     \n",
       "2017-12-31 12:00:00  0.919814  0.872521  0.863932  0.845448        0   \n",
       "2017-12-31 12:30:00  0.932466  0.889317  0.883723  0.856849        0   \n",
       "2017-12-31 13:00:00  0.912781  0.876390  0.859803  0.834365        0   \n",
       "2017-12-31 13:30:00  0.868471  0.850062  0.805363  0.798420        0   \n",
       "2017-12-31 14:00:00  0.834136  0.834114  0.767764  0.777444        0   \n",
       "\n",
       "                     Anomaly_Score  \n",
       "ds                                  \n",
       "2017-12-31 12:00:00      -0.025255  \n",
       "2017-12-31 12:30:00      -0.021677  \n",
       "2017-12-31 13:00:00      -0.024745  \n",
       "2017-12-31 13:30:00      -0.041314  \n",
       "2017-12-31 14:00:00      -0.057260  "
      ]
     },
     "execution_count": 126,
     "metadata": {},
     "output_type": "execute_result"
    }
   ],
   "source": [
    "unseen_predictions = predict_model(iforest, data=df[\"BASE\"][\"current\"])\n",
    "df_truth\n",
    "unseen_predictions.head()"
   ]
  },
  {
   "cell_type": "code",
   "execution_count": 247,
   "id": "5d98d05f-4e99-4536-a71b-a533eb025dbf",
   "metadata": {},
   "outputs": [
    {
     "ename": "ModuleNotFoundError",
     "evalue": "No module named 'pycaret'",
     "output_type": "error",
     "traceback": [
      "\u001b[0;31m---------------------------------------------------------------------------\u001b[0m",
      "\u001b[0;31mModuleNotFoundError\u001b[0m                       Traceback (most recent call last)",
      "Cell \u001b[0;32mIn[247], line 1\u001b[0m\n\u001b[0;32m----> 1\u001b[0m \u001b[38;5;28;01mfrom\u001b[39;00m \u001b[38;5;21;01mpycaret\u001b[39;00m\u001b[38;5;21;01m.\u001b[39;00m\u001b[38;5;21;01manomaly\u001b[39;00m \u001b[38;5;28;01mimport\u001b[39;00m \u001b[38;5;241m*\u001b[39m\n\u001b[1;32m      2\u001b[0m \u001b[38;5;28;01mfrom\u001b[39;00m \u001b[38;5;21;01msklearn\u001b[39;00m\u001b[38;5;21;01m.\u001b[39;00m\u001b[38;5;21;01mdatasets\u001b[39;00m \u001b[38;5;28;01mimport\u001b[39;00m load_breast_cancer\n\u001b[1;32m      3\u001b[0m \u001b[38;5;28;01mdef\u001b[39;00m \u001b[38;5;21mget_anom\u001b[39m(df, input_df, rep, k, window):\n",
      "\u001b[0;31mModuleNotFoundError\u001b[0m: No module named 'pycaret'"
     ]
    }
   ],
   "source": [
    "from pycaret.anomaly import *\n",
    "from sklearn.datasets import load_breast_cancer\n",
    "def get_anom(df, input_df, rep, k, window):\n",
    "    return all_frames.pd_dataframe()\n",
    "input_df_selected = input_df[input_df.index < df.index[0]]\n",
    "all_anom_score = None\n",
    "for index in range(30):\n",
    "    ts_current_val = TimeSeries.from_dataframe(current_df[\"current\"])\n",
    "    ts_pred_val = TimeSeries.from_dataframe(current_df[\"pred\"])\n",
    "    ts_current_train = current_fcev.FCeV_model.input_series.drop_after(ts_current_val.start_time())\n",
    "    ts_current_all = ts_current_train.append(ts_current_val)\n",
    "    ts_base_all = ts_base_train.append(ts_base_val)\n",
    "    scorer = KMeansScorer(k=3, window=10)\n",
    "    scorer.fit(ts_current_train)\n",
    "    anom_score = scorer.score_from_prediction(ts_current_val, ts_base_val)\n",
    "    if all_anom_score is None:\n",
    "        all_anom_score = anom_score\n",
    "    else:\n",
    "        all_anom_score = all_anom_score.concatenate(anom_score, axis = \"component\")\n",
    "if all_frames is None:\n",
    "    all_frames = all_anom_score.mean(1)\n",
    "else:\n",
    "    #print(f\"end all {all_frames.end_time()} + start_new {all_anom_score.mean(1).start_time()}\")\n",
    "    all_frames = all_frames.append(all_anom_score.mean(1))\n"
   ]
  },
  {
   "cell_type": "code",
   "execution_count": 21,
   "id": "805674cb-a4ec-40c4-aeb4-e448ee930c7d",
   "metadata": {},
   "outputs": [],
   "source": [
    "import fastai"
   ]
  },
  {
   "cell_type": "code",
   "execution_count": 23,
   "id": "e879d9ea-e064-4b77-a6d2-5d4bd94714fa",
   "metadata": {},
   "outputs": [
    {
     "data": {
      "text/plain": [
       "<module 'fastai.tabular' from '/home/carloscano/anaconda3/envs/neuralprophet/lib/python3.9/site-packages/fastai/tabular/__init__.py'>"
      ]
     },
     "execution_count": 23,
     "metadata": {},
     "output_type": "execute_result"
    }
   ],
   "source": []
  },
  {
   "cell_type": "code",
   "execution_count": 243,
   "id": "d1d2b39a-6e72-4899-9b97-3dacb2127615",
   "metadata": {},
   "outputs": [
    {
     "ename": "TypeError",
     "evalue": "scatter() got an unexpected keyword argument 'alpha'",
     "output_type": "error",
     "traceback": [
      "\u001b[0;31m---------------------------------------------------------------------------\u001b[0m",
      "\u001b[0;31mTypeError\u001b[0m                                 Traceback (most recent call last)",
      "Cell \u001b[0;32mIn[243], line 1\u001b[0m\n\u001b[0;32m----> 1\u001b[0m \u001b[43mdf_results\u001b[49m\u001b[38;5;241;43m.\u001b[39;49m\u001b[43mplot\u001b[49m\u001b[38;5;241;43m.\u001b[39;49m\u001b[43mscatter\u001b[49m\u001b[43m(\u001b[49m\u001b[43mx\u001b[49m\u001b[43m \u001b[49m\u001b[38;5;241;43m=\u001b[39;49m\u001b[43m \u001b[49m\u001b[38;5;124;43m\"\u001b[39;49m\u001b[38;5;124;43mcurrent\u001b[39;49m\u001b[38;5;124;43m\"\u001b[39;49m\u001b[43m,\u001b[49m\u001b[43m \u001b[49m\u001b[43my\u001b[49m\u001b[43m \u001b[49m\u001b[38;5;241;43m=\u001b[39;49m\u001b[43m \u001b[49m\u001b[38;5;124;43m\"\u001b[39;49m\u001b[38;5;124;43mpred\u001b[39;49m\u001b[38;5;124;43m\"\u001b[39;49m\u001b[43m,\u001b[49m\u001b[43m \u001b[49m\u001b[43malpha\u001b[49m\u001b[43m \u001b[49m\u001b[38;5;241;43m=\u001b[39;49m\u001b[43m \u001b[49m\u001b[38;5;241;43m0.1\u001b[39;49m\u001b[43m,\u001b[49m\u001b[43m \u001b[49m\u001b[43mfigsize\u001b[49m\u001b[43m \u001b[49m\u001b[38;5;241;43m=\u001b[39;49m\u001b[43m \u001b[49m\u001b[43m(\u001b[49m\u001b[38;5;241;43m10\u001b[39;49m\u001b[43m,\u001b[49m\u001b[38;5;241;43m5\u001b[39;49m\u001b[43m)\u001b[49m\u001b[43m)\u001b[49m\n",
      "File \u001b[0;32m~/anaconda3/envs/neuralprophet/lib/python3.9/site-packages/pandas/plotting/_core.py:1709\u001b[0m, in \u001b[0;36mPlotAccessor.scatter\u001b[0;34m(self, x, y, s, c, **kwargs)\u001b[0m\n\u001b[1;32m   1706\u001b[0m \u001b[38;5;28;01melif\u001b[39;00m c \u001b[38;5;129;01mis\u001b[39;00m \u001b[38;5;129;01mnot\u001b[39;00m \u001b[38;5;28;01mNone\u001b[39;00m \u001b[38;5;129;01mor\u001b[39;00m color \u001b[38;5;129;01mis\u001b[39;00m \u001b[38;5;129;01mnot\u001b[39;00m \u001b[38;5;28;01mNone\u001b[39;00m:\n\u001b[1;32m   1707\u001b[0m     kwargs[\u001b[38;5;124m\"\u001b[39m\u001b[38;5;124mc\u001b[39m\u001b[38;5;124m\"\u001b[39m] \u001b[38;5;241m=\u001b[39m c \u001b[38;5;28;01mif\u001b[39;00m c \u001b[38;5;129;01mis\u001b[39;00m \u001b[38;5;129;01mnot\u001b[39;00m \u001b[38;5;28;01mNone\u001b[39;00m \u001b[38;5;28;01melse\u001b[39;00m color\n\u001b[0;32m-> 1709\u001b[0m \u001b[38;5;28;01mreturn\u001b[39;00m \u001b[38;5;28;43mself\u001b[39;49m\u001b[43m(\u001b[49m\u001b[43mkind\u001b[49m\u001b[38;5;241;43m=\u001b[39;49m\u001b[38;5;124;43m\"\u001b[39;49m\u001b[38;5;124;43mscatter\u001b[39;49m\u001b[38;5;124;43m\"\u001b[39;49m\u001b[43m,\u001b[49m\u001b[43m \u001b[49m\u001b[43mx\u001b[49m\u001b[38;5;241;43m=\u001b[39;49m\u001b[43mx\u001b[49m\u001b[43m,\u001b[49m\u001b[43m \u001b[49m\u001b[43my\u001b[49m\u001b[38;5;241;43m=\u001b[39;49m\u001b[43my\u001b[49m\u001b[43m,\u001b[49m\u001b[43m \u001b[49m\u001b[38;5;241;43m*\u001b[39;49m\u001b[38;5;241;43m*\u001b[39;49m\u001b[43mkwargs\u001b[49m\u001b[43m)\u001b[49m\n",
      "File \u001b[0;32m~/anaconda3/envs/neuralprophet/lib/python3.9/site-packages/pandas/plotting/_core.py:930\u001b[0m, in \u001b[0;36mPlotAccessor.__call__\u001b[0;34m(self, *args, **kwargs)\u001b[0m\n\u001b[1;32m    928\u001b[0m \u001b[38;5;66;03m# when using another backend, get out of the way\u001b[39;00m\n\u001b[1;32m    929\u001b[0m \u001b[38;5;28;01mif\u001b[39;00m plot_backend\u001b[38;5;241m.\u001b[39m\u001b[38;5;18m__name__\u001b[39m \u001b[38;5;241m!=\u001b[39m \u001b[38;5;124m\"\u001b[39m\u001b[38;5;124mpandas.plotting._matplotlib\u001b[39m\u001b[38;5;124m\"\u001b[39m:\n\u001b[0;32m--> 930\u001b[0m     \u001b[38;5;28;01mreturn\u001b[39;00m \u001b[43mplot_backend\u001b[49m\u001b[38;5;241;43m.\u001b[39;49m\u001b[43mplot\u001b[49m\u001b[43m(\u001b[49m\u001b[38;5;28;43mself\u001b[39;49m\u001b[38;5;241;43m.\u001b[39;49m\u001b[43m_parent\u001b[49m\u001b[43m,\u001b[49m\u001b[43m \u001b[49m\u001b[43mx\u001b[49m\u001b[38;5;241;43m=\u001b[39;49m\u001b[43mx\u001b[49m\u001b[43m,\u001b[49m\u001b[43m \u001b[49m\u001b[43my\u001b[49m\u001b[38;5;241;43m=\u001b[39;49m\u001b[43my\u001b[49m\u001b[43m,\u001b[49m\u001b[43m \u001b[49m\u001b[43mkind\u001b[49m\u001b[38;5;241;43m=\u001b[39;49m\u001b[43mkind\u001b[49m\u001b[43m,\u001b[49m\u001b[43m \u001b[49m\u001b[38;5;241;43m*\u001b[39;49m\u001b[38;5;241;43m*\u001b[39;49m\u001b[43mkwargs\u001b[49m\u001b[43m)\u001b[49m\n\u001b[1;32m    932\u001b[0m \u001b[38;5;28;01mif\u001b[39;00m kind \u001b[38;5;129;01mnot\u001b[39;00m \u001b[38;5;129;01min\u001b[39;00m \u001b[38;5;28mself\u001b[39m\u001b[38;5;241m.\u001b[39m_all_kinds:\n\u001b[1;32m    933\u001b[0m     \u001b[38;5;28;01mraise\u001b[39;00m \u001b[38;5;167;01mValueError\u001b[39;00m(\u001b[38;5;124mf\u001b[39m\u001b[38;5;124m\"\u001b[39m\u001b[38;5;132;01m{\u001b[39;00mkind\u001b[38;5;132;01m}\u001b[39;00m\u001b[38;5;124m is not a valid plot kind\u001b[39m\u001b[38;5;124m\"\u001b[39m)\n",
      "File \u001b[0;32m~/anaconda3/envs/neuralprophet/lib/python3.9/site-packages/plotly/__init__.py:101\u001b[0m, in \u001b[0;36mplot\u001b[0;34m(data_frame, kind, **kwargs)\u001b[0m\n\u001b[1;32m     99\u001b[0m \u001b[38;5;28;01mif\u001b[39;00m kind \u001b[38;5;241m==\u001b[39m \u001b[38;5;124m\"\u001b[39m\u001b[38;5;124mscatter\u001b[39m\u001b[38;5;124m\"\u001b[39m:\n\u001b[1;32m    100\u001b[0m     new_kwargs \u001b[38;5;241m=\u001b[39m {k: kwargs[k] \u001b[38;5;28;01mfor\u001b[39;00m k \u001b[38;5;129;01min\u001b[39;00m kwargs \u001b[38;5;28;01mif\u001b[39;00m k \u001b[38;5;129;01mnot\u001b[39;00m \u001b[38;5;129;01min\u001b[39;00m [\u001b[38;5;124m\"\u001b[39m\u001b[38;5;124ms\u001b[39m\u001b[38;5;124m\"\u001b[39m, \u001b[38;5;124m\"\u001b[39m\u001b[38;5;124mc\u001b[39m\u001b[38;5;124m\"\u001b[39m]}\n\u001b[0;32m--> 101\u001b[0m     \u001b[38;5;28;01mreturn\u001b[39;00m \u001b[43mscatter\u001b[49m\u001b[43m(\u001b[49m\u001b[43mdata_frame\u001b[49m\u001b[43m,\u001b[49m\u001b[43m \u001b[49m\u001b[38;5;241;43m*\u001b[39;49m\u001b[38;5;241;43m*\u001b[39;49m\u001b[43mnew_kwargs\u001b[49m\u001b[43m)\u001b[49m\n\u001b[1;32m    102\u001b[0m \u001b[38;5;28;01mif\u001b[39;00m kind \u001b[38;5;241m==\u001b[39m \u001b[38;5;124m\"\u001b[39m\u001b[38;5;124mline\u001b[39m\u001b[38;5;124m\"\u001b[39m:\n\u001b[1;32m    103\u001b[0m     \u001b[38;5;28;01mreturn\u001b[39;00m line(data_frame, \u001b[38;5;241m*\u001b[39m\u001b[38;5;241m*\u001b[39mkwargs)\n",
      "\u001b[0;31mTypeError\u001b[0m: scatter() got an unexpected keyword argument 'alpha'"
     ]
    }
   ],
   "source": [
    "\n",
    "df_results.plot.scatter(x = \"current\", y = \"pred\", alpha = 0.1, figsize = (10,5))"
   ]
  },
  {
   "cell_type": "code",
   "execution_count": 410,
   "id": "5f970547-3609-46a1-965e-2e1870a332df",
   "metadata": {},
   "outputs": [
    {
     "data": {
      "image/png": "[encoded data removed]",
      "text/plain": [
       "<Figure size 1000x2000 with 7 Axes>"
      ]
     },
     "metadata": {},
     "output_type": "display_data"
    }
   ],
   "source": [
    "df_results[[\"pred\", \"current\"]].plot.hist(by=[\"pred\"], figsize = (10, 20), sharex=True);"
   ]
  },
  {
   "cell_type": "code",
   "execution_count": 69,
   "id": "261e637c-ff1e-42d6-816f-4675edcab75c",
   "metadata": {},
   "outputs": [],
   "source": [
    "from darts.ad import KMeansScorer, WassersteinScorer, CauchyNLLScorer\n",
    "def get_anom(df):\n",
    "    df = df.sort_index()\n",
    "    S = 48 * 100\n",
    "    N = int(len(df)/S)\n",
    "    frames = [ df.iloc[i*S:(i+1)*S].copy() for i in range(N+1) ]\n",
    "    frames.pop()\n",
    "    all_frames = None\n",
    "    frames = [df]\n",
    "    for current_df in frames: \n",
    "        all_anom_score = None\n",
    "        for index in range(30):\n",
    "            ts_current_val = TimeSeries.from_dataframe(current_df[\"current\"])\n",
    "            ts_pred_val = TimeSeries.from_dataframe(current_df[\"pred\"])\n",
    "            ts_current_train = current_fcev.FCeV_model.input_series.drop_after(ts_current_val.start_time())\n",
    "            ts_current_all = ts_current_train.append(ts_current_val)\n",
    "            ts_base_all = ts_base_train.append(ts_base_val)\n",
    "            scorer = KMeansScorer(k=3, window=10)\n",
    "            scorer.fit(ts_current_train)\n",
    "            anom_score = scorer.score_from_prediction(ts_current_val, ts_base_val)\n",
    "            if all_anom_score is None:\n",
    "                all_anom_score = anom_score\n",
    "            else:\n",
    "                all_anom_score = all_anom_score.concatenate(anom_score, axis = \"component\")\n",
    "        if all_frames is None:\n",
    "            all_frames = all_anom_score.mean(1)\n",
    "        else:\n",
    "            #print(f\"end all {all_frames.end_time()} + start_new {all_anom_score.mean(1).start_time()}\")\n",
    "            all_frames = all_frames.append(all_anom_score.mean(1))\n",
    "    return all_frames.pd_dataframe()"
   ]
  },
  {
   "cell_type": "code",
   "execution_count": 45,
   "id": "9e69b9da-e4f0-44bf-9163-878ab3ca82b5",
   "metadata": {},
   "outputs": [],
   "source": [
    "from FCeV import METRICS\n",
    "metrics = {}\n",
    "for key, value in all_dict.items():\n",
    "    if isinstance(value, pd.DataFrame):\n",
    "        df = value\n",
    "        current = df[\"current\"]\n",
    "        pred = df[\"pred\"]\n",
    "        current_value = current_fcev.get_metrics_from_fc(current, pred, METRICS.RMSE).mean().mean()\n",
    "        metrics[f\"{key}\"] = current_value\n",
    "    else:\n",
    "        for key_inner, value_inner in value.items():\n",
    "            current = value_inner[\"current\"]\n",
    "            pred = value_inner[\"pred\"]\n",
    "            current_value = current_fcev.get_metrics_from_fc(current, pred, METRICS.RMSE).mean().mean()\n",
    "            metrics[f\"{synthetic_events.iloc[int(key_inner)].item()}\"] = current_value\n"
   ]
  },
  {
   "cell_type": "code",
   "execution_count": 46,
   "id": "329fd17f-418b-41ab-9fc3-cc560ec7d223",
   "metadata": {},
   "outputs": [
    {
     "data": {
      "text/plain": [
       "{'BASE': 14.710709,\n",
       " 'EMPTY': 22.444054,\n",
       " '68.0': 19.770477,\n",
       " '70.0': 17.72344,\n",
       " '72.0': 20.344654,\n",
       " '74.0': 23.290714,\n",
       " '76.0': 25.694088,\n",
       " '78.0': 27.775642,\n",
       " '80.0': 29.59675}"
      ]
     },
     "execution_count": 46,
     "metadata": {},
     "output_type": "execute_result"
    }
   ],
   "source": [
    "metrics"
   ]
  },
  {
   "cell_type": "code",
   "execution_count": 47,
   "id": "eddfe32e-e520-4042-8fa8-1721a28b8796",
   "metadata": {},
   "outputs": [
    {
     "ename": "TypeError",
     "evalue": "get_metrics_from_fc() missing 1 required positional argument: 'metrics'",
     "output_type": "error",
     "traceback": [
      "\u001b[0;31m---------------------------------------------------------------------------\u001b[0m",
      "\u001b[0;31mTypeError\u001b[0m                                 Traceback (most recent call last)",
      "Cell \u001b[0;32mIn[47], line 4\u001b[0m\n\u001b[1;32m      2\u001b[0m \u001b[38;5;28;01mfor\u001b[39;00m key, value \u001b[38;5;129;01min\u001b[39;00m all_dict\u001b[38;5;241m.\u001b[39mitems():\n\u001b[1;32m      3\u001b[0m     \u001b[38;5;28;01mif\u001b[39;00m \u001b[38;5;28misinstance\u001b[39m(value, pd\u001b[38;5;241m.\u001b[39mDataFrame):\n\u001b[0;32m----> 4\u001b[0m         df \u001b[38;5;241m=\u001b[39m pd\u001b[38;5;241m.\u001b[39mDataFrame(\u001b[43mcurrent_fcev\u001b[49m\u001b[38;5;241;43m.\u001b[39;49m\u001b[43mget_metrics_from_fc\u001b[49m\u001b[43m(\u001b[49m\u001b[43mvalue\u001b[49m\u001b[43m,\u001b[49m\u001b[43m \u001b[49m\u001b[43mMETRICS\u001b[49m\u001b[38;5;241;43m.\u001b[39;49m\u001b[43mRMSE\u001b[49m\u001b[43m)\u001b[49m\u001b[38;5;241m.\u001b[39mmean(axis \u001b[38;5;241m=\u001b[39m \u001b[38;5;241m1\u001b[39m))\n\u001b[1;32m      5\u001b[0m         df\u001b[38;5;241m.\u001b[39mcolumns \u001b[38;5;241m=\u001b[39m [\u001b[38;5;124mf\u001b[39m\u001b[38;5;124m\"\u001b[39m\u001b[38;5;132;01m{\u001b[39;00mkey\u001b[38;5;132;01m}\u001b[39;00m\u001b[38;5;124m\"\u001b[39m]\n\u001b[1;32m      6\u001b[0m         \u001b[38;5;28;01mif\u001b[39;00m pred_serie \u001b[38;5;129;01mis\u001b[39;00m \u001b[38;5;28;01mNone\u001b[39;00m:\n",
      "\u001b[0;31mTypeError\u001b[0m: get_metrics_from_fc() missing 1 required positional argument: 'metrics'"
     ]
    }
   ],
   "source": [
    "pred_serie = None\n",
    "for key, value in all_dict.items():\n",
    "    if isinstance(value, pd.DataFrame):\n",
    "        df = pd.DataFrame(current_fcev.get_metrics_from_fc(value, METRICS.RMSE).mean(axis = 1))\n",
    "        df.columns = [f\"{key}\"]\n",
    "        if pred_serie is None:\n",
    "            pred_serie = TimeSeries.from_dataframe(df)\n",
    "        else:\n",
    "            pred_serie = pred_serie.concatenate(TimeSeries.from_dataframe(df), axis = \"component\")\n",
    "    else:\n",
    "        for key_inner, value_inner in value.items():\n",
    "            df = pd.DataFrame(current_fcev.get_metrics_from_fc(value_inner, METRICS.RMSE).mean(axis = 1))\n",
    "            df.columns = [f\"{key}_{key_inner}\"]\n",
    "            pred_serie = pred_serie.concatenate(TimeSeries.from_dataframe(df), axis = \"component\")"
   ]
  },
  {
   "cell_type": "code",
   "execution_count": 48,
   "id": "9042f582-0e20-4313-bb0b-432b8f1e2f99",
   "metadata": {},
   "outputs": [],
   "source": [
    "anom_serie = None\n",
    "for key, value in all_dict.items():\n",
    "    if isinstance(value, pd.DataFrame):\n",
    "        df = value\n",
    "        df = get_anom(df)\n",
    "        df.columns = [f\"{key}\"]\n",
    "        if anom_serie is None:\n",
    "            anom_serie = TimeSeries.from_dataframe(df)\n",
    "        else:\n",
    "            anom_serie = anom_serie.concatenate(TimeSeries.from_dataframe(df), axis = \"component\")\n",
    "    else:\n",
    "        for key_inner, value_inner in value.items():\n",
    "            df = get_anom(value_inner)\n",
    "            df.columns = [f\"{key}_{key_inner}\"]\n",
    "            anom_serie = anom_serie.concatenate(TimeSeries.from_dataframe(df), axis = \"component\")"
   ]
  },
  {
   "cell_type": "code",
   "execution_count": 280,
   "id": "db0490e6-6f6a-4205-aa24-d7517fca8239",
   "metadata": {},
   "outputs": [],
   "source": [
    "#val_events = current_fcev.FCeV_model.events.slice_intersect(anom_serie)[\"pr\"]\n",
    "#anom_serie = anom_serie.concatenate(val_events, axis= \"component\")"
   ]
  },
  {
   "cell_type": "code",
   "execution_count": 281,
   "id": "f17d6009-ad9d-4871-95c6-252623964263",
   "metadata": {},
   "outputs": [
    {
     "data": {
      "text/html": [
       "<div>\n",
       "<style scoped>\n",
       "    .dataframe tbody tr th:only-of-type {\n",
       "        vertical-align: middle;\n",
       "    }\n",
       "\n",
       "    .dataframe tbody tr th {\n",
       "        vertical-align: top;\n",
       "    }\n",
       "\n",
       "    .dataframe thead th {\n",
       "        text-align: right;\n",
       "    }\n",
       "</style>\n",
       "<table border=\"1\" class=\"dataframe\">\n",
       "  <thead>\n",
       "    <tr style=\"text-align: right;\">\n",
       "      <th></th>\n",
       "      <th>f107</th>\n",
       "    </tr>\n",
       "  </thead>\n",
       "  <tbody>\n",
       "    <tr>\n",
       "      <th>0</th>\n",
       "      <td>68.0</td>\n",
       "    </tr>\n",
       "    <tr>\n",
       "      <th>1</th>\n",
       "      <td>70.0</td>\n",
       "    </tr>\n",
       "    <tr>\n",
       "      <th>2</th>\n",
       "      <td>72.0</td>\n",
       "    </tr>\n",
       "    <tr>\n",
       "      <th>3</th>\n",
       "      <td>74.0</td>\n",
       "    </tr>\n",
       "    <tr>\n",
       "      <th>4</th>\n",
       "      <td>76.0</td>\n",
       "    </tr>\n",
       "    <tr>\n",
       "      <th>5</th>\n",
       "      <td>78.0</td>\n",
       "    </tr>\n",
       "    <tr>\n",
       "      <th>6</th>\n",
       "      <td>80.0</td>\n",
       "    </tr>\n",
       "  </tbody>\n",
       "</table>\n",
       "</div>"
      ],
      "text/plain": [
       "   f107\n",
       "0  68.0\n",
       "1  70.0\n",
       "2  72.0\n",
       "3  74.0\n",
       "4  76.0\n",
       "5  78.0\n",
       "6  80.0"
      ]
     },
     "execution_count": 281,
     "metadata": {},
     "output_type": "execute_result"
    }
   ],
   "source": [
    "synthetic_events"
   ]
  },
  {
   "cell_type": "code",
   "execution_count": 49,
   "id": "0dc46e20-39ed-4a58-aaa2-da2901209aaa",
   "metadata": {},
   "outputs": [],
   "source": [
    "next_slice = anom_serie\n",
    "start_point = anom_serie.start_time()\n",
    "chunks = list()\n",
    "chunk_len = 48\n",
    "total_len = len(anom_serie)\n",
    "for index in range(total_len // chunk_len  - 1) :\n",
    "    current_slice, next_slice = next_slice.split_before(chunk_len)\n",
    "    start_point = current_slice.end_time()\n",
    "    chunks.append(current_slice.pd_dataframe())"
   ]
  },
  {
   "cell_type": "code",
   "execution_count": 136,
   "id": "021866ee-2967-47c3-b63e-69404484c078",
   "metadata": {},
   "outputs": [],
   "source": [
    "from fastcore import foundation\n"
   ]
  },
  {
   "cell_type": "markdown",
   "id": "23a56939-6705-4b54-9d15-35aab1100209",
   "metadata": {},
   "source": [
    "## USING TAB FASTAI"
   ]
  },
  {
   "cell_type": "code",
   "execution_count": 19,
   "id": "44887897-4abf-4492-98d4-49b5c1fbd371",
   "metadata": {},
   "outputs": [],
   "source": [
    "from fastai.tabular.all import *"
   ]
  },
  {
   "cell_type": "code",
   "execution_count": null,
   "id": "c37d26bb-1d21-429a-8fc1-cf6f0d338cb8",
   "metadata": {},
   "outputs": [],
   "source": []
  },
  {
   "cell_type": "code",
   "execution_count": 107,
   "id": "7a9d614b-864a-47a3-ab61-8d3f41f5461b",
   "metadata": {},
   "outputs": [
    {
     "data": {
      "text/plain": [
       "639"
      ]
     },
     "execution_count": 107,
     "metadata": {},
     "output_type": "execute_result"
    }
   ],
   "source": [
    "\n",
    "y_name = \"current\"\n",
    "df_tab = df_results.drop(\"pred\",axis = 1).copy()\n",
    "df_test = df_tab.iloc[:200]\n",
    "df_tab = df_tab.iloc[200+1:]\n",
    "\n",
    "min_y = np.min(df_tab[y_name]) - 1\n",
    "df_tab[y_name] = np.log(df_tab[y_name] - min_y)\n",
    "\n",
    "len_train = int(len(df_tab) * 0.8)\n",
    "df_train = df_tab.iloc[:len_train];\n",
    "df_val = df_tab.iloc[len_train + 1:];\n",
    "len_train"
   ]
  },
  {
   "cell_type": "code",
   "execution_count": 108,
   "id": "67ba97c2-2dde-4d02-b637-ead331936267",
   "metadata": {},
   "outputs": [],
   "source": [
    "splits = (L(range(len(df_train))), L(range(len(df_train) + 1, len(df_train) + len(df_val))))"
   ]
  },
  {
   "cell_type": "code",
   "execution_count": 126,
   "id": "96dc2847-a96a-411c-a1ef-4781edfd61e6",
   "metadata": {},
   "outputs": [],
   "source": [
    "to = TabularPandas(df_tab, procs=[FillMissing, Normalize],\n",
    "                   cont_names = list(df_tab.drop(y_name, axis = 1).columns.values),\n",
    "                   y_block=RegressionBlock(),\n",
    "                   y_names=y_name,\n",
    "                   splits=splits)\n",
    "dls = to.dataloaders(bs=200)"
   ]
  },
  {
   "cell_type": "code",
   "execution_count": 128,
   "id": "6957d430-3132-4d43-9cbd-9863fd47b6ee",
   "metadata": {},
   "outputs": [
    {
     "data": {
      "text/html": [
       "\n",
       "<style>\n",
       "    /* Turns off some styling */\n",
       "    progress {\n",
       "        /* gets rid of default border in Firefox and Opera. */\n",
       "        border: none;\n",
       "        /* Needs to be in here for Safari polyfill so background images work as expected. */\n",
       "        background-size: auto;\n",
       "    }\n",
       "    progress:not([value]), progress:not([value])::-webkit-progress-bar {\n",
       "        background: repeating-linear-gradient(45deg, #7e7e7e, #7e7e7e 10px, #5c5c5c 10px, #5c5c5c 20px);\n",
       "    }\n",
       "    .progress-bar-interrupted, .progress-bar-interrupted::-webkit-progress-bar {\n",
       "        background: #F44336;\n",
       "    }\n",
       "</style>\n"
      ],
      "text/plain": [
       "<IPython.core.display.HTML object>"
      ]
     },
     "metadata": {},
     "output_type": "display_data"
    },
    {
     "data": {
      "text/html": [],
      "text/plain": [
       "<IPython.core.display.HTML object>"
      ]
     },
     "metadata": {},
     "output_type": "display_data"
    },
    {
     "data": {
      "text/plain": [
       "SuggestedLRs(valley=0.0005754399462603033)"
      ]
     },
     "execution_count": 128,
     "metadata": {},
     "output_type": "execute_result"
    },
    {
     "data": {
      "image/png": "[encoded data removed]",
      "text/plain": [
       "<Figure size 640x480 with 1 Axes>"
      ]
     },
     "metadata": {},
     "output_type": "display_data"
    }
   ],
   "source": [
    "max_log_y = np.max(df_tab[y_name])*1.2\n",
    "y_range = torch.tensor([0, max_log_y]); y_range\n",
    "tc = tabular_config(ps=[0.2, 0.1], embed_p=0.4, y_range=y_range)\n",
    "learn = tabular_learner(dls, layers=[10,50],\n",
    "                        metrics=exp_rmspe,\n",
    "                        config=tc,\n",
    "                        loss_func=MSELossFlat())\n",
    "\n",
    "tc = tabular_config(y_range=y_range)\n",
    "learn = tabular_learner(dls,\n",
    "                        metrics=exp_rmspe,\n",
    "                        config=tc,\n",
    "                        loss_func=MSELossFlat()\n",
    "                        )\n",
    "learn.lr_find()"
   ]
  },
  {
   "cell_type": "code",
   "execution_count": 130,
   "id": "210625ca-0699-4431-90da-69a00ac4f2d0",
   "metadata": {},
   "outputs": [
    {
     "data": {
      "text/html": [
       "\n",
       "<style>\n",
       "    /* Turns off some styling */\n",
       "    progress {\n",
       "        /* gets rid of default border in Firefox and Opera. */\n",
       "        border: none;\n",
       "        /* Needs to be in here for Safari polyfill so background images work as expected. */\n",
       "        background-size: auto;\n",
       "    }\n",
       "    progress:not([value]), progress:not([value])::-webkit-progress-bar {\n",
       "        background: repeating-linear-gradient(45deg, #7e7e7e, #7e7e7e 10px, #5c5c5c 10px, #5c5c5c 20px);\n",
       "    }\n",
       "    .progress-bar-interrupted, .progress-bar-interrupted::-webkit-progress-bar {\n",
       "        background: #F44336;\n",
       "    }\n",
       "</style>\n"
      ],
      "text/plain": [
       "<IPython.core.display.HTML object>"
      ]
     },
     "metadata": {},
     "output_type": "display_data"
    },
    {
     "data": {
      "text/html": [
       "<table border=\"1\" class=\"dataframe\">\n",
       "  <thead>\n",
       "    <tr style=\"text-align: left;\">\n",
       "      <th>epoch</th>\n",
       "      <th>train_loss</th>\n",
       "      <th>valid_loss</th>\n",
       "      <th>_exp_rmspe</th>\n",
       "      <th>time</th>\n",
       "    </tr>\n",
       "  </thead>\n",
       "  <tbody>\n",
       "    <tr>\n",
       "      <td>0</td>\n",
       "      <td>0.058046</td>\n",
       "      <td>0.124310</td>\n",
       "      <td>0.280999</td>\n",
       "      <td>00:00</td>\n",
       "    </tr>\n",
       "    <tr>\n",
       "      <td>1</td>\n",
       "      <td>0.056037</td>\n",
       "      <td>0.123309</td>\n",
       "      <td>0.279833</td>\n",
       "      <td>00:00</td>\n",
       "    </tr>\n",
       "    <tr>\n",
       "      <td>2</td>\n",
       "      <td>0.056124</td>\n",
       "      <td>0.121898</td>\n",
       "      <td>0.278264</td>\n",
       "      <td>00:00</td>\n",
       "    </tr>\n",
       "    <tr>\n",
       "      <td>3</td>\n",
       "      <td>0.055270</td>\n",
       "      <td>0.120063</td>\n",
       "      <td>0.276211</td>\n",
       "      <td>00:00</td>\n",
       "    </tr>\n",
       "    <tr>\n",
       "      <td>4</td>\n",
       "      <td>0.055340</td>\n",
       "      <td>0.118686</td>\n",
       "      <td>0.274721</td>\n",
       "      <td>00:00</td>\n",
       "    </tr>\n",
       "    <tr>\n",
       "      <td>5</td>\n",
       "      <td>0.055456</td>\n",
       "      <td>0.118223</td>\n",
       "      <td>0.274059</td>\n",
       "      <td>00:00</td>\n",
       "    </tr>\n",
       "    <tr>\n",
       "      <td>6</td>\n",
       "      <td>0.055421</td>\n",
       "      <td>0.116766</td>\n",
       "      <td>0.272513</td>\n",
       "      <td>00:00</td>\n",
       "    </tr>\n",
       "    <tr>\n",
       "      <td>7</td>\n",
       "      <td>0.054967</td>\n",
       "      <td>0.118633</td>\n",
       "      <td>0.274189</td>\n",
       "      <td>00:00</td>\n",
       "    </tr>\n",
       "    <tr>\n",
       "      <td>8</td>\n",
       "      <td>0.055086</td>\n",
       "      <td>0.116300</td>\n",
       "      <td>0.271731</td>\n",
       "      <td>00:00</td>\n",
       "    </tr>\n",
       "    <tr>\n",
       "      <td>9</td>\n",
       "      <td>0.054891</td>\n",
       "      <td>0.116775</td>\n",
       "      <td>0.272486</td>\n",
       "      <td>00:00</td>\n",
       "    </tr>\n",
       "    <tr>\n",
       "      <td>10</td>\n",
       "      <td>0.054661</td>\n",
       "      <td>0.114363</td>\n",
       "      <td>0.269784</td>\n",
       "      <td>00:00</td>\n",
       "    </tr>\n",
       "    <tr>\n",
       "      <td>11</td>\n",
       "      <td>0.054548</td>\n",
       "      <td>0.109603</td>\n",
       "      <td>0.264066</td>\n",
       "      <td>00:00</td>\n",
       "    </tr>\n",
       "    <tr>\n",
       "      <td>12</td>\n",
       "      <td>0.054379</td>\n",
       "      <td>0.114933</td>\n",
       "      <td>0.270430</td>\n",
       "      <td>00:00</td>\n",
       "    </tr>\n",
       "    <tr>\n",
       "      <td>13</td>\n",
       "      <td>0.053846</td>\n",
       "      <td>0.111090</td>\n",
       "      <td>0.266567</td>\n",
       "      <td>00:00</td>\n",
       "    </tr>\n",
       "    <tr>\n",
       "      <td>14</td>\n",
       "      <td>0.053348</td>\n",
       "      <td>0.101607</td>\n",
       "      <td>0.256379</td>\n",
       "      <td>00:00</td>\n",
       "    </tr>\n",
       "    <tr>\n",
       "      <td>15</td>\n",
       "      <td>0.053260</td>\n",
       "      <td>0.105543</td>\n",
       "      <td>0.260049</td>\n",
       "      <td>00:00</td>\n",
       "    </tr>\n",
       "    <tr>\n",
       "      <td>16</td>\n",
       "      <td>0.052887</td>\n",
       "      <td>0.100998</td>\n",
       "      <td>0.255147</td>\n",
       "      <td>00:00</td>\n",
       "    </tr>\n",
       "    <tr>\n",
       "      <td>17</td>\n",
       "      <td>0.052162</td>\n",
       "      <td>0.096141</td>\n",
       "      <td>0.250145</td>\n",
       "      <td>00:00</td>\n",
       "    </tr>\n",
       "    <tr>\n",
       "      <td>18</td>\n",
       "      <td>0.052054</td>\n",
       "      <td>0.105212</td>\n",
       "      <td>0.260906</td>\n",
       "      <td>00:00</td>\n",
       "    </tr>\n",
       "    <tr>\n",
       "      <td>19</td>\n",
       "      <td>0.051422</td>\n",
       "      <td>0.094590</td>\n",
       "      <td>0.248009</td>\n",
       "      <td>00:00</td>\n",
       "    </tr>\n",
       "    <tr>\n",
       "      <td>20</td>\n",
       "      <td>0.051397</td>\n",
       "      <td>0.099942</td>\n",
       "      <td>0.254545</td>\n",
       "      <td>00:00</td>\n",
       "    </tr>\n",
       "    <tr>\n",
       "      <td>21</td>\n",
       "      <td>0.051083</td>\n",
       "      <td>0.085983</td>\n",
       "      <td>0.238269</td>\n",
       "      <td>00:00</td>\n",
       "    </tr>\n",
       "    <tr>\n",
       "      <td>22</td>\n",
       "      <td>0.050793</td>\n",
       "      <td>0.113598</td>\n",
       "      <td>0.272336</td>\n",
       "      <td>00:00</td>\n",
       "    </tr>\n",
       "    <tr>\n",
       "      <td>23</td>\n",
       "      <td>0.050737</td>\n",
       "      <td>0.088366</td>\n",
       "      <td>0.239855</td>\n",
       "      <td>00:00</td>\n",
       "    </tr>\n",
       "    <tr>\n",
       "      <td>24</td>\n",
       "      <td>0.050375</td>\n",
       "      <td>0.115721</td>\n",
       "      <td>0.277045</td>\n",
       "      <td>00:00</td>\n",
       "    </tr>\n",
       "    <tr>\n",
       "      <td>25</td>\n",
       "      <td>0.050398</td>\n",
       "      <td>0.089240</td>\n",
       "      <td>0.243059</td>\n",
       "      <td>00:00</td>\n",
       "    </tr>\n",
       "    <tr>\n",
       "      <td>26</td>\n",
       "      <td>0.049989</td>\n",
       "      <td>0.089316</td>\n",
       "      <td>0.244776</td>\n",
       "      <td>00:00</td>\n",
       "    </tr>\n",
       "    <tr>\n",
       "      <td>27</td>\n",
       "      <td>0.049627</td>\n",
       "      <td>0.098905</td>\n",
       "      <td>0.253648</td>\n",
       "      <td>00:00</td>\n",
       "    </tr>\n",
       "    <tr>\n",
       "      <td>28</td>\n",
       "      <td>0.049167</td>\n",
       "      <td>0.094024</td>\n",
       "      <td>0.250043</td>\n",
       "      <td>00:00</td>\n",
       "    </tr>\n",
       "    <tr>\n",
       "      <td>29</td>\n",
       "      <td>0.048606</td>\n",
       "      <td>0.087641</td>\n",
       "      <td>0.239420</td>\n",
       "      <td>00:00</td>\n",
       "    </tr>\n",
       "    <tr>\n",
       "      <td>30</td>\n",
       "      <td>0.048252</td>\n",
       "      <td>0.103349</td>\n",
       "      <td>0.260257</td>\n",
       "      <td>00:00</td>\n",
       "    </tr>\n",
       "    <tr>\n",
       "      <td>31</td>\n",
       "      <td>0.047916</td>\n",
       "      <td>0.084737</td>\n",
       "      <td>0.236995</td>\n",
       "      <td>00:00</td>\n",
       "    </tr>\n",
       "    <tr>\n",
       "      <td>32</td>\n",
       "      <td>0.047735</td>\n",
       "      <td>0.082656</td>\n",
       "      <td>0.236601</td>\n",
       "      <td>00:00</td>\n",
       "    </tr>\n",
       "    <tr>\n",
       "      <td>33</td>\n",
       "      <td>0.047343</td>\n",
       "      <td>0.122660</td>\n",
       "      <td>0.280849</td>\n",
       "      <td>00:00</td>\n",
       "    </tr>\n",
       "    <tr>\n",
       "      <td>34</td>\n",
       "      <td>0.047048</td>\n",
       "      <td>0.081886</td>\n",
       "      <td>0.233459</td>\n",
       "      <td>00:00</td>\n",
       "    </tr>\n",
       "    <tr>\n",
       "      <td>35</td>\n",
       "      <td>0.047030</td>\n",
       "      <td>0.101272</td>\n",
       "      <td>0.258483</td>\n",
       "      <td>00:00</td>\n",
       "    </tr>\n",
       "    <tr>\n",
       "      <td>36</td>\n",
       "      <td>0.046692</td>\n",
       "      <td>0.088103</td>\n",
       "      <td>0.241556</td>\n",
       "      <td>00:00</td>\n",
       "    </tr>\n",
       "    <tr>\n",
       "      <td>37</td>\n",
       "      <td>0.046283</td>\n",
       "      <td>0.103961</td>\n",
       "      <td>0.260829</td>\n",
       "      <td>00:00</td>\n",
       "    </tr>\n",
       "    <tr>\n",
       "      <td>38</td>\n",
       "      <td>0.045872</td>\n",
       "      <td>0.090429</td>\n",
       "      <td>0.243234</td>\n",
       "      <td>00:00</td>\n",
       "    </tr>\n",
       "    <tr>\n",
       "      <td>39</td>\n",
       "      <td>0.045527</td>\n",
       "      <td>0.095402</td>\n",
       "      <td>0.251415</td>\n",
       "      <td>00:00</td>\n",
       "    </tr>\n",
       "    <tr>\n",
       "      <td>40</td>\n",
       "      <td>0.045282</td>\n",
       "      <td>0.097415</td>\n",
       "      <td>0.254404</td>\n",
       "      <td>00:00</td>\n",
       "    </tr>\n",
       "    <tr>\n",
       "      <td>41</td>\n",
       "      <td>0.044909</td>\n",
       "      <td>0.092491</td>\n",
       "      <td>0.247665</td>\n",
       "      <td>00:00</td>\n",
       "    </tr>\n",
       "    <tr>\n",
       "      <td>42</td>\n",
       "      <td>0.044530</td>\n",
       "      <td>0.096662</td>\n",
       "      <td>0.250653</td>\n",
       "      <td>00:00</td>\n",
       "    </tr>\n",
       "    <tr>\n",
       "      <td>43</td>\n",
       "      <td>0.044255</td>\n",
       "      <td>0.114702</td>\n",
       "      <td>0.272403</td>\n",
       "      <td>00:00</td>\n",
       "    </tr>\n",
       "    <tr>\n",
       "      <td>44</td>\n",
       "      <td>0.043764</td>\n",
       "      <td>0.084251</td>\n",
       "      <td>0.234372</td>\n",
       "      <td>00:00</td>\n",
       "    </tr>\n",
       "    <tr>\n",
       "      <td>45</td>\n",
       "      <td>0.043448</td>\n",
       "      <td>0.121946</td>\n",
       "      <td>0.279129</td>\n",
       "      <td>00:00</td>\n",
       "    </tr>\n",
       "    <tr>\n",
       "      <td>46</td>\n",
       "      <td>0.043115</td>\n",
       "      <td>0.090055</td>\n",
       "      <td>0.243126</td>\n",
       "      <td>00:00</td>\n",
       "    </tr>\n",
       "    <tr>\n",
       "      <td>47</td>\n",
       "      <td>0.043008</td>\n",
       "      <td>0.121826</td>\n",
       "      <td>0.279020</td>\n",
       "      <td>00:00</td>\n",
       "    </tr>\n",
       "    <tr>\n",
       "      <td>48</td>\n",
       "      <td>0.043453</td>\n",
       "      <td>0.084672</td>\n",
       "      <td>0.237576</td>\n",
       "      <td>00:00</td>\n",
       "    </tr>\n",
       "    <tr>\n",
       "      <td>49</td>\n",
       "      <td>0.043612</td>\n",
       "      <td>0.085190</td>\n",
       "      <td>0.238627</td>\n",
       "      <td>00:00</td>\n",
       "    </tr>\n",
       "    <tr>\n",
       "      <td>50</td>\n",
       "      <td>0.043535</td>\n",
       "      <td>0.111659</td>\n",
       "      <td>0.270177</td>\n",
       "      <td>00:00</td>\n",
       "    </tr>\n",
       "    <tr>\n",
       "      <td>51</td>\n",
       "      <td>0.043168</td>\n",
       "      <td>0.088230</td>\n",
       "      <td>0.240351</td>\n",
       "      <td>00:00</td>\n",
       "    </tr>\n",
       "    <tr>\n",
       "      <td>52</td>\n",
       "      <td>0.042953</td>\n",
       "      <td>0.109125</td>\n",
       "      <td>0.267911</td>\n",
       "      <td>00:00</td>\n",
       "    </tr>\n",
       "    <tr>\n",
       "      <td>53</td>\n",
       "      <td>0.042710</td>\n",
       "      <td>0.089009</td>\n",
       "      <td>0.244653</td>\n",
       "      <td>00:00</td>\n",
       "    </tr>\n",
       "    <tr>\n",
       "      <td>54</td>\n",
       "      <td>0.042444</td>\n",
       "      <td>0.093676</td>\n",
       "      <td>0.248216</td>\n",
       "      <td>00:00</td>\n",
       "    </tr>\n",
       "    <tr>\n",
       "      <td>55</td>\n",
       "      <td>0.041976</td>\n",
       "      <td>0.110756</td>\n",
       "      <td>0.267073</td>\n",
       "      <td>00:00</td>\n",
       "    </tr>\n",
       "    <tr>\n",
       "      <td>56</td>\n",
       "      <td>0.041837</td>\n",
       "      <td>0.104421</td>\n",
       "      <td>0.259313</td>\n",
       "      <td>00:00</td>\n",
       "    </tr>\n",
       "    <tr>\n",
       "      <td>57</td>\n",
       "      <td>0.041550</td>\n",
       "      <td>0.090736</td>\n",
       "      <td>0.241060</td>\n",
       "      <td>00:00</td>\n",
       "    </tr>\n",
       "    <tr>\n",
       "      <td>58</td>\n",
       "      <td>0.041120</td>\n",
       "      <td>0.108453</td>\n",
       "      <td>0.264368</td>\n",
       "      <td>00:00</td>\n",
       "    </tr>\n",
       "    <tr>\n",
       "      <td>59</td>\n",
       "      <td>0.041234</td>\n",
       "      <td>0.112236</td>\n",
       "      <td>0.269702</td>\n",
       "      <td>00:00</td>\n",
       "    </tr>\n",
       "    <tr>\n",
       "      <td>60</td>\n",
       "      <td>0.041074</td>\n",
       "      <td>0.093175</td>\n",
       "      <td>0.242808</td>\n",
       "      <td>00:00</td>\n",
       "    </tr>\n",
       "    <tr>\n",
       "      <td>61</td>\n",
       "      <td>0.040848</td>\n",
       "      <td>0.115663</td>\n",
       "      <td>0.270606</td>\n",
       "      <td>00:00</td>\n",
       "    </tr>\n",
       "    <tr>\n",
       "      <td>62</td>\n",
       "      <td>0.040646</td>\n",
       "      <td>0.103997</td>\n",
       "      <td>0.260120</td>\n",
       "      <td>00:00</td>\n",
       "    </tr>\n",
       "    <tr>\n",
       "      <td>63</td>\n",
       "      <td>0.040353</td>\n",
       "      <td>0.090310</td>\n",
       "      <td>0.241469</td>\n",
       "      <td>00:00</td>\n",
       "    </tr>\n",
       "    <tr>\n",
       "      <td>64</td>\n",
       "      <td>0.040053</td>\n",
       "      <td>0.105164</td>\n",
       "      <td>0.258740</td>\n",
       "      <td>00:00</td>\n",
       "    </tr>\n",
       "    <tr>\n",
       "      <td>65</td>\n",
       "      <td>0.039828</td>\n",
       "      <td>0.112144</td>\n",
       "      <td>0.268249</td>\n",
       "      <td>00:00</td>\n",
       "    </tr>\n",
       "    <tr>\n",
       "      <td>66</td>\n",
       "      <td>0.039550</td>\n",
       "      <td>0.096987</td>\n",
       "      <td>0.250742</td>\n",
       "      <td>00:00</td>\n",
       "    </tr>\n",
       "    <tr>\n",
       "      <td>67</td>\n",
       "      <td>0.039453</td>\n",
       "      <td>0.096621</td>\n",
       "      <td>0.250158</td>\n",
       "      <td>00:00</td>\n",
       "    </tr>\n",
       "    <tr>\n",
       "      <td>68</td>\n",
       "      <td>0.039226</td>\n",
       "      <td>0.108608</td>\n",
       "      <td>0.264002</td>\n",
       "      <td>00:00</td>\n",
       "    </tr>\n",
       "    <tr>\n",
       "      <td>69</td>\n",
       "      <td>0.038912</td>\n",
       "      <td>0.106407</td>\n",
       "      <td>0.262446</td>\n",
       "      <td>00:00</td>\n",
       "    </tr>\n",
       "    <tr>\n",
       "      <td>70</td>\n",
       "      <td>0.038762</td>\n",
       "      <td>0.099597</td>\n",
       "      <td>0.254831</td>\n",
       "      <td>00:00</td>\n",
       "    </tr>\n",
       "    <tr>\n",
       "      <td>71</td>\n",
       "      <td>0.038474</td>\n",
       "      <td>0.099464</td>\n",
       "      <td>0.254276</td>\n",
       "      <td>00:00</td>\n",
       "    </tr>\n",
       "    <tr>\n",
       "      <td>72</td>\n",
       "      <td>0.038167</td>\n",
       "      <td>0.103388</td>\n",
       "      <td>0.258223</td>\n",
       "      <td>00:00</td>\n",
       "    </tr>\n",
       "    <tr>\n",
       "      <td>73</td>\n",
       "      <td>0.037906</td>\n",
       "      <td>0.109462</td>\n",
       "      <td>0.265509</td>\n",
       "      <td>00:00</td>\n",
       "    </tr>\n",
       "    <tr>\n",
       "      <td>74</td>\n",
       "      <td>0.037814</td>\n",
       "      <td>0.105698</td>\n",
       "      <td>0.261709</td>\n",
       "      <td>00:00</td>\n",
       "    </tr>\n",
       "    <tr>\n",
       "      <td>75</td>\n",
       "      <td>0.037533</td>\n",
       "      <td>0.099207</td>\n",
       "      <td>0.254797</td>\n",
       "      <td>00:00</td>\n",
       "    </tr>\n",
       "    <tr>\n",
       "      <td>76</td>\n",
       "      <td>0.037277</td>\n",
       "      <td>0.095663</td>\n",
       "      <td>0.250674</td>\n",
       "      <td>00:00</td>\n",
       "    </tr>\n",
       "    <tr>\n",
       "      <td>77</td>\n",
       "      <td>0.037208</td>\n",
       "      <td>0.100747</td>\n",
       "      <td>0.256511</td>\n",
       "      <td>00:00</td>\n",
       "    </tr>\n",
       "    <tr>\n",
       "      <td>78</td>\n",
       "      <td>0.037047</td>\n",
       "      <td>0.105853</td>\n",
       "      <td>0.262141</td>\n",
       "      <td>00:00</td>\n",
       "    </tr>\n",
       "    <tr>\n",
       "      <td>79</td>\n",
       "      <td>0.036821</td>\n",
       "      <td>0.108021</td>\n",
       "      <td>0.264530</td>\n",
       "      <td>00:00</td>\n",
       "    </tr>\n",
       "    <tr>\n",
       "      <td>80</td>\n",
       "      <td>0.036811</td>\n",
       "      <td>0.102114</td>\n",
       "      <td>0.258354</td>\n",
       "      <td>00:00</td>\n",
       "    </tr>\n",
       "    <tr>\n",
       "      <td>81</td>\n",
       "      <td>0.036574</td>\n",
       "      <td>0.098911</td>\n",
       "      <td>0.254750</td>\n",
       "      <td>00:00</td>\n",
       "    </tr>\n",
       "    <tr>\n",
       "      <td>82</td>\n",
       "      <td>0.036278</td>\n",
       "      <td>0.099566</td>\n",
       "      <td>0.255319</td>\n",
       "      <td>00:00</td>\n",
       "    </tr>\n",
       "    <tr>\n",
       "      <td>83</td>\n",
       "      <td>0.036012</td>\n",
       "      <td>0.103186</td>\n",
       "      <td>0.259226</td>\n",
       "      <td>00:00</td>\n",
       "    </tr>\n",
       "    <tr>\n",
       "      <td>84</td>\n",
       "      <td>0.035916</td>\n",
       "      <td>0.106127</td>\n",
       "      <td>0.262474</td>\n",
       "      <td>00:00</td>\n",
       "    </tr>\n",
       "    <tr>\n",
       "      <td>85</td>\n",
       "      <td>0.035740</td>\n",
       "      <td>0.105813</td>\n",
       "      <td>0.261978</td>\n",
       "      <td>00:00</td>\n",
       "    </tr>\n",
       "    <tr>\n",
       "      <td>86</td>\n",
       "      <td>0.035758</td>\n",
       "      <td>0.105718</td>\n",
       "      <td>0.261696</td>\n",
       "      <td>00:00</td>\n",
       "    </tr>\n",
       "    <tr>\n",
       "      <td>87</td>\n",
       "      <td>0.035567</td>\n",
       "      <td>0.103499</td>\n",
       "      <td>0.259291</td>\n",
       "      <td>00:00</td>\n",
       "    </tr>\n",
       "    <tr>\n",
       "      <td>88</td>\n",
       "      <td>0.035459</td>\n",
       "      <td>0.102721</td>\n",
       "      <td>0.258247</td>\n",
       "      <td>00:00</td>\n",
       "    </tr>\n",
       "    <tr>\n",
       "      <td>89</td>\n",
       "      <td>0.035173</td>\n",
       "      <td>0.101569</td>\n",
       "      <td>0.257171</td>\n",
       "      <td>00:00</td>\n",
       "    </tr>\n",
       "    <tr>\n",
       "      <td>90</td>\n",
       "      <td>0.035060</td>\n",
       "      <td>0.102117</td>\n",
       "      <td>0.257648</td>\n",
       "      <td>00:00</td>\n",
       "    </tr>\n",
       "    <tr>\n",
       "      <td>91</td>\n",
       "      <td>0.034834</td>\n",
       "      <td>0.102175</td>\n",
       "      <td>0.257805</td>\n",
       "      <td>00:00</td>\n",
       "    </tr>\n",
       "    <tr>\n",
       "      <td>92</td>\n",
       "      <td>0.034677</td>\n",
       "      <td>0.101741</td>\n",
       "      <td>0.257314</td>\n",
       "      <td>00:00</td>\n",
       "    </tr>\n",
       "    <tr>\n",
       "      <td>93</td>\n",
       "      <td>0.034517</td>\n",
       "      <td>0.100532</td>\n",
       "      <td>0.256226</td>\n",
       "      <td>00:00</td>\n",
       "    </tr>\n",
       "    <tr>\n",
       "      <td>94</td>\n",
       "      <td>0.034331</td>\n",
       "      <td>0.100985</td>\n",
       "      <td>0.256669</td>\n",
       "      <td>00:00</td>\n",
       "    </tr>\n",
       "    <tr>\n",
       "      <td>95</td>\n",
       "      <td>0.034327</td>\n",
       "      <td>0.101136</td>\n",
       "      <td>0.256730</td>\n",
       "      <td>00:00</td>\n",
       "    </tr>\n",
       "    <tr>\n",
       "      <td>96</td>\n",
       "      <td>0.034307</td>\n",
       "      <td>0.101315</td>\n",
       "      <td>0.256956</td>\n",
       "      <td>00:00</td>\n",
       "    </tr>\n",
       "    <tr>\n",
       "      <td>97</td>\n",
       "      <td>0.033962</td>\n",
       "      <td>0.102062</td>\n",
       "      <td>0.257632</td>\n",
       "      <td>00:00</td>\n",
       "    </tr>\n",
       "    <tr>\n",
       "      <td>98</td>\n",
       "      <td>0.033904</td>\n",
       "      <td>0.102241</td>\n",
       "      <td>0.257843</td>\n",
       "      <td>00:00</td>\n",
       "    </tr>\n",
       "    <tr>\n",
       "      <td>99</td>\n",
       "      <td>0.033736</td>\n",
       "      <td>0.102174</td>\n",
       "      <td>0.257811</td>\n",
       "      <td>00:00</td>\n",
       "    </tr>\n",
       "  </tbody>\n",
       "</table>"
      ],
      "text/plain": [
       "<IPython.core.display.HTML object>"
      ]
     },
     "metadata": {},
     "output_type": "display_data"
    }
   ],
   "source": [
    "\n",
    "learn.fit_one_cycle(100)"
   ]
  },
  {
   "cell_type": "code",
   "execution_count": 131,
   "id": "46168dca-3bf3-46fd-878b-941302573e57",
   "metadata": {},
   "outputs": [
    {
     "data": {
      "text/html": [
       "\n",
       "<style>\n",
       "    /* Turns off some styling */\n",
       "    progress {\n",
       "        /* gets rid of default border in Firefox and Opera. */\n",
       "        border: none;\n",
       "        /* Needs to be in here for Safari polyfill so background images work as expected. */\n",
       "        background-size: auto;\n",
       "    }\n",
       "    progress:not([value]), progress:not([value])::-webkit-progress-bar {\n",
       "        background: repeating-linear-gradient(45deg, #7e7e7e, #7e7e7e 10px, #5c5c5c 10px, #5c5c5c 20px);\n",
       "    }\n",
       "    .progress-bar-interrupted, .progress-bar-interrupted::-webkit-progress-bar {\n",
       "        background: #F44336;\n",
       "    }\n",
       "</style>\n"
      ],
      "text/plain": [
       "<IPython.core.display.HTML object>"
      ]
     },
     "metadata": {},
     "output_type": "display_data"
    },
    {
     "data": {
      "text/html": [],
      "text/plain": [
       "<IPython.core.display.HTML object>"
      ]
     },
     "metadata": {},
     "output_type": "display_data"
    },
    {
     "data": {
      "text/html": [
       "\n",
       "<style>\n",
       "    /* Turns off some styling */\n",
       "    progress {\n",
       "        /* gets rid of default border in Firefox and Opera. */\n",
       "        border: none;\n",
       "        /* Needs to be in here for Safari polyfill so background images work as expected. */\n",
       "        background-size: auto;\n",
       "    }\n",
       "    progress:not([value]), progress:not([value])::-webkit-progress-bar {\n",
       "        background: repeating-linear-gradient(45deg, #7e7e7e, #7e7e7e 10px, #5c5c5c 10px, #5c5c5c 20px);\n",
       "    }\n",
       "    .progress-bar-interrupted, .progress-bar-interrupted::-webkit-progress-bar {\n",
       "        background: #F44336;\n",
       "    }\n",
       "</style>\n"
      ],
      "text/plain": [
       "<IPython.core.display.HTML object>"
      ]
     },
     "metadata": {},
     "output_type": "display_data"
    },
    {
     "data": {
      "text/html": [],
      "text/plain": [
       "<IPython.core.display.HTML object>"
      ]
     },
     "metadata": {},
     "output_type": "display_data"
    },
    {
     "name": "stdout",
     "output_type": "stream",
     "text": [
      "2.375274294102445\n"
     ]
    },
    {
     "data": {
      "application/vnd.jupyter.widget-view+json": {
       "model_id": "bcc0539b2a834ee297226b9d108e7af7",
       "version_major": 2,
       "version_minor": 0
      },
      "text/plain": [
       "FigureWidgetResampler({\n",
       "    'data': [{'hovertemplate': 'variable=current<br>index=%{x}<br>value=%{y}<extra></extra>',\n",
       "              'legendgroup': 'current',\n",
       "              'line': {'color': '#636efa', 'dash': 'solid'},\n",
       "              'marker': {'symbol': 'circle'},\n",
       "              'mode': 'lines',\n",
       "              'name': 'current',\n",
       "              'orientation': 'v',\n",
       "              'showlegend': True,\n",
       "              'type': 'scatter',\n",
       "              'uid': '839e8bdd-23a9-4925-a51d-5914cc63ca9d',\n",
       "              'x': array([datetime.datetime(2017, 12, 31, 23, 30),\n",
       "                          datetime.datetime(2018, 1, 1, 23, 30),\n",
       "                          datetime.datetime(2018, 1, 2, 23, 30),\n",
       "                          datetime.datetime(2018, 1, 3, 23, 30),\n",
       "                          datetime.datetime(2018, 1, 4, 23, 30),\n",
       "                          datetime.datetime(2018, 1, 5, 23, 30),\n",
       "                          datetime.datetime(2018, 1, 6, 23, 30),\n",
       "                          datetime.datetime(2018, 1, 7, 23, 30),\n",
       "                          datetime.datetime(2018, 1, 8, 23, 30),\n",
       "                          datetime.datetime(2018, 1, 9, 23, 30),\n",
       "                          datetime.datetime(2018, 1, 10, 23, 30),\n",
       "                          datetime.datetime(2018, 1, 11, 23, 30),\n",
       "                          datetime.datetime(2018, 1, 12, 23, 30),\n",
       "                          datetime.datetime(2018, 1, 13, 23, 30),\n",
       "                          datetime.datetime(2018, 1, 14, 23, 30),\n",
       "                          datetime.datetime(2018, 1, 15, 23, 30),\n",
       "                          datetime.datetime(2018, 1, 16, 23, 30),\n",
       "                          datetime.datetime(2018, 1, 17, 23, 30),\n",
       "                          datetime.datetime(2018, 1, 18, 23, 30),\n",
       "                          datetime.datetime(2018, 1, 19, 23, 30),\n",
       "                          datetime.datetime(2018, 1, 20, 23, 30),\n",
       "                          datetime.datetime(2018, 1, 21, 23, 30),\n",
       "                          datetime.datetime(2018, 1, 22, 23, 30),\n",
       "                          datetime.datetime(2018, 1, 23, 23, 30),\n",
       "                          datetime.datetime(2018, 1, 24, 23, 30),\n",
       "                          datetime.datetime(2018, 1, 25, 23, 30),\n",
       "                          datetime.datetime(2018, 1, 26, 23, 30),\n",
       "                          datetime.datetime(2018, 1, 27, 23, 30),\n",
       "                          datetime.datetime(2018, 1, 28, 23, 30),\n",
       "                          datetime.datetime(2018, 1, 29, 23, 30),\n",
       "                          datetime.datetime(2018, 1, 30, 23, 30),\n",
       "                          datetime.datetime(2018, 1, 31, 23, 30),\n",
       "                          datetime.datetime(2018, 2, 1, 23, 30),\n",
       "                          datetime.datetime(2018, 2, 2, 23, 30),\n",
       "                          datetime.datetime(2018, 2, 3, 23, 30),\n",
       "                          datetime.datetime(2018, 2, 4, 23, 30),\n",
       "                          datetime.datetime(2018, 2, 5, 23, 30),\n",
       "                          datetime.datetime(2018, 2, 6, 23, 30),\n",
       "                          datetime.datetime(2018, 2, 7, 23, 30),\n",
       "                          datetime.datetime(2018, 2, 8, 23, 30),\n",
       "                          datetime.datetime(2018, 2, 9, 23, 30),\n",
       "                          datetime.datetime(2018, 2, 10, 23, 30),\n",
       "                          datetime.datetime(2018, 2, 11, 23, 30),\n",
       "                          datetime.datetime(2018, 2, 12, 23, 30),\n",
       "                          datetime.datetime(2018, 2, 13, 23, 30),\n",
       "                          datetime.datetime(2018, 2, 14, 23, 30),\n",
       "                          datetime.datetime(2018, 2, 15, 23, 30),\n",
       "                          datetime.datetime(2018, 2, 16, 23, 30),\n",
       "                          datetime.datetime(2018, 2, 17, 23, 30),\n",
       "                          datetime.datetime(2018, 2, 18, 23, 30),\n",
       "                          datetime.datetime(2018, 2, 19, 23, 30),\n",
       "                          datetime.datetime(2018, 2, 20, 23, 30),\n",
       "                          datetime.datetime(2018, 2, 21, 23, 30),\n",
       "                          datetime.datetime(2018, 2, 22, 23, 30),\n",
       "                          datetime.datetime(2018, 2, 23, 23, 30),\n",
       "                          datetime.datetime(2018, 2, 24, 23, 30),\n",
       "                          datetime.datetime(2018, 2, 25, 23, 30),\n",
       "                          datetime.datetime(2018, 2, 26, 23, 30),\n",
       "                          datetime.datetime(2018, 2, 27, 23, 30),\n",
       "                          datetime.datetime(2018, 2, 28, 23, 30),\n",
       "                          datetime.datetime(2018, 3, 1, 23, 30),\n",
       "                          datetime.datetime(2018, 3, 2, 23, 30),\n",
       "                          datetime.datetime(2018, 3, 3, 23, 30),\n",
       "                          datetime.datetime(2018, 3, 4, 23, 30),\n",
       "                          datetime.datetime(2018, 3, 5, 23, 30),\n",
       "                          datetime.datetime(2018, 3, 6, 23, 30),\n",
       "                          datetime.datetime(2018, 3, 7, 23, 30),\n",
       "                          datetime.datetime(2018, 3, 8, 23, 30),\n",
       "                          datetime.datetime(2018, 3, 9, 23, 30),\n",
       "                          datetime.datetime(2018, 3, 10, 23, 30),\n",
       "                          datetime.datetime(2018, 3, 11, 23, 30),\n",
       "                          datetime.datetime(2018, 3, 12, 23, 30),\n",
       "                          datetime.datetime(2018, 3, 13, 23, 30),\n",
       "                          datetime.datetime(2018, 3, 14, 23, 30),\n",
       "                          datetime.datetime(2018, 3, 15, 23, 30),\n",
       "                          datetime.datetime(2018, 3, 16, 23, 30),\n",
       "                          datetime.datetime(2018, 3, 17, 23, 30),\n",
       "                          datetime.datetime(2018, 3, 18, 23, 30),\n",
       "                          datetime.datetime(2018, 3, 19, 23, 30),\n",
       "                          datetime.datetime(2018, 3, 20, 23, 30),\n",
       "                          datetime.datetime(2018, 3, 21, 23, 30),\n",
       "                          datetime.datetime(2018, 3, 22, 23, 30),\n",
       "                          datetime.datetime(2018, 3, 23, 23, 30),\n",
       "                          datetime.datetime(2018, 3, 24, 23, 30),\n",
       "                          datetime.datetime(2018, 3, 25, 23, 30),\n",
       "                          datetime.datetime(2018, 3, 26, 23, 30),\n",
       "                          datetime.datetime(2018, 3, 27, 23, 30),\n",
       "                          datetime.datetime(2018, 3, 28, 23, 30),\n",
       "                          datetime.datetime(2018, 3, 29, 23, 30),\n",
       "                          datetime.datetime(2018, 3, 30, 23, 30),\n",
       "                          datetime.datetime(2018, 3, 31, 23, 30),\n",
       "                          datetime.datetime(2018, 4, 1, 23, 30),\n",
       "                          datetime.datetime(2018, 4, 2, 23, 30),\n",
       "                          datetime.datetime(2018, 4, 3, 23, 30),\n",
       "                          datetime.datetime(2018, 4, 4, 23, 30),\n",
       "                          datetime.datetime(2018, 4, 5, 23, 30),\n",
       "                          datetime.datetime(2018, 4, 6, 23, 30),\n",
       "                          datetime.datetime(2018, 4, 7, 23, 30),\n",
       "                          datetime.datetime(2018, 4, 8, 23, 30),\n",
       "                          datetime.datetime(2018, 4, 9, 23, 30),\n",
       "                          datetime.datetime(2018, 4, 10, 23, 30),\n",
       "                          datetime.datetime(2018, 4, 11, 23, 30),\n",
       "                          datetime.datetime(2018, 4, 12, 23, 30),\n",
       "                          datetime.datetime(2018, 4, 13, 23, 30),\n",
       "                          datetime.datetime(2018, 4, 14, 23, 30),\n",
       "                          datetime.datetime(2018, 4, 15, 23, 30),\n",
       "                          datetime.datetime(2018, 4, 16, 23, 30),\n",
       "                          datetime.datetime(2018, 4, 17, 23, 30),\n",
       "                          datetime.datetime(2018, 4, 18, 23, 30),\n",
       "                          datetime.datetime(2018, 4, 19, 23, 30),\n",
       "                          datetime.datetime(2018, 4, 20, 23, 30),\n",
       "                          datetime.datetime(2018, 4, 21, 23, 30),\n",
       "                          datetime.datetime(2018, 4, 22, 23, 30),\n",
       "                          datetime.datetime(2018, 4, 23, 23, 30),\n",
       "                          datetime.datetime(2018, 4, 24, 23, 30),\n",
       "                          datetime.datetime(2018, 4, 25, 23, 30),\n",
       "                          datetime.datetime(2018, 4, 26, 23, 30),\n",
       "                          datetime.datetime(2018, 4, 27, 23, 30),\n",
       "                          datetime.datetime(2018, 4, 28, 23, 30),\n",
       "                          datetime.datetime(2018, 4, 29, 23, 30),\n",
       "                          datetime.datetime(2018, 4, 30, 23, 30),\n",
       "                          datetime.datetime(2018, 5, 1, 23, 30),\n",
       "                          datetime.datetime(2018, 5, 2, 23, 30),\n",
       "                          datetime.datetime(2018, 5, 3, 23, 30),\n",
       "                          datetime.datetime(2018, 5, 4, 23, 30),\n",
       "                          datetime.datetime(2018, 5, 5, 23, 30),\n",
       "                          datetime.datetime(2018, 5, 6, 23, 30),\n",
       "                          datetime.datetime(2018, 5, 7, 23, 30),\n",
       "                          datetime.datetime(2018, 5, 8, 23, 30),\n",
       "                          datetime.datetime(2018, 5, 9, 23, 30),\n",
       "                          datetime.datetime(2018, 5, 10, 23, 30),\n",
       "                          datetime.datetime(2018, 5, 11, 23, 30),\n",
       "                          datetime.datetime(2018, 5, 12, 23, 30),\n",
       "                          datetime.datetime(2018, 5, 13, 23, 30),\n",
       "                          datetime.datetime(2018, 5, 14, 23, 30),\n",
       "                          datetime.datetime(2018, 5, 15, 23, 30),\n",
       "                          datetime.datetime(2018, 5, 16, 23, 30),\n",
       "                          datetime.datetime(2018, 5, 17, 23, 30),\n",
       "                          datetime.datetime(2018, 5, 18, 23, 30),\n",
       "                          datetime.datetime(2018, 5, 19, 23, 30),\n",
       "                          datetime.datetime(2018, 5, 20, 23, 30),\n",
       "                          datetime.datetime(2018, 5, 21, 23, 30),\n",
       "                          datetime.datetime(2018, 5, 22, 23, 30),\n",
       "                          datetime.datetime(2018, 5, 23, 23, 30),\n",
       "                          datetime.datetime(2018, 5, 24, 23, 30),\n",
       "                          datetime.datetime(2018, 5, 25, 23, 30),\n",
       "                          datetime.datetime(2018, 5, 26, 23, 30),\n",
       "                          datetime.datetime(2018, 5, 27, 23, 30),\n",
       "                          datetime.datetime(2018, 5, 28, 23, 30),\n",
       "                          datetime.datetime(2018, 5, 29, 23, 30),\n",
       "                          datetime.datetime(2018, 5, 30, 23, 30),\n",
       "                          datetime.datetime(2018, 5, 31, 23, 30),\n",
       "                          datetime.datetime(2018, 6, 1, 23, 30),\n",
       "                          datetime.datetime(2018, 6, 2, 23, 30),\n",
       "                          datetime.datetime(2018, 6, 3, 23, 30),\n",
       "                          datetime.datetime(2018, 6, 4, 23, 30),\n",
       "                          datetime.datetime(2018, 6, 5, 23, 30),\n",
       "                          datetime.datetime(2018, 6, 6, 23, 30),\n",
       "                          datetime.datetime(2018, 6, 7, 23, 30),\n",
       "                          datetime.datetime(2018, 6, 8, 23, 30),\n",
       "                          datetime.datetime(2018, 6, 9, 23, 30),\n",
       "                          datetime.datetime(2018, 6, 10, 23, 30),\n",
       "                          datetime.datetime(2018, 6, 11, 23, 30),\n",
       "                          datetime.datetime(2018, 6, 12, 23, 30),\n",
       "                          datetime.datetime(2018, 6, 13, 23, 30),\n",
       "                          datetime.datetime(2018, 6, 14, 23, 30),\n",
       "                          datetime.datetime(2018, 6, 15, 23, 30),\n",
       "                          datetime.datetime(2018, 6, 16, 23, 30),\n",
       "                          datetime.datetime(2018, 6, 17, 23, 30),\n",
       "                          datetime.datetime(2018, 6, 18, 23, 30),\n",
       "                          datetime.datetime(2018, 6, 19, 23, 30),\n",
       "                          datetime.datetime(2018, 6, 20, 23, 30),\n",
       "                          datetime.datetime(2018, 6, 21, 23, 30),\n",
       "                          datetime.datetime(2018, 6, 22, 23, 30),\n",
       "                          datetime.datetime(2018, 6, 23, 23, 30),\n",
       "                          datetime.datetime(2018, 6, 24, 23, 30),\n",
       "                          datetime.datetime(2018, 6, 25, 23, 30),\n",
       "                          datetime.datetime(2018, 6, 26, 23, 30),\n",
       "                          datetime.datetime(2018, 6, 27, 23, 30),\n",
       "                          datetime.datetime(2018, 6, 28, 23, 30),\n",
       "                          datetime.datetime(2018, 6, 29, 23, 30),\n",
       "                          datetime.datetime(2018, 6, 30, 23, 30),\n",
       "                          datetime.datetime(2018, 7, 1, 23, 30),\n",
       "                          datetime.datetime(2018, 7, 2, 23, 30),\n",
       "                          datetime.datetime(2018, 7, 3, 23, 30),\n",
       "                          datetime.datetime(2018, 7, 4, 23, 30),\n",
       "                          datetime.datetime(2018, 7, 5, 23, 30),\n",
       "                          datetime.datetime(2018, 7, 6, 23, 30),\n",
       "                          datetime.datetime(2018, 7, 7, 23, 30),\n",
       "                          datetime.datetime(2018, 7, 8, 23, 30),\n",
       "                          datetime.datetime(2018, 7, 9, 23, 30),\n",
       "                          datetime.datetime(2018, 7, 10, 23, 30),\n",
       "                          datetime.datetime(2018, 7, 11, 23, 30),\n",
       "                          datetime.datetime(2018, 7, 12, 23, 30),\n",
       "                          datetime.datetime(2018, 7, 13, 23, 30),\n",
       "                          datetime.datetime(2018, 7, 14, 23, 30),\n",
       "                          datetime.datetime(2018, 7, 15, 23, 30),\n",
       "                          datetime.datetime(2018, 7, 16, 23, 30),\n",
       "                          datetime.datetime(2018, 7, 17, 23, 30),\n",
       "                          datetime.datetime(2018, 7, 18, 23, 30)], dtype=object),\n",
       "              'xaxis': 'x',\n",
       "              'y': array([67.56595745, 66.99574468, 67.73829787, 67.76170213, 67.10212766,\n",
       "                          67.04893617, 67.34468085, 67.79574468, 68.24468085, 68.30425532,\n",
       "                          68.29574468, 68.54893617, 68.55106383, 68.35319149, 68.05319149,\n",
       "                          68.34042553, 68.70212766, 68.69787234, 68.65319149, 67.96170213,\n",
       "                          66.76382979, 66.98085106, 68.09574468, 68.00638298, 67.94468085,\n",
       "                          67.95531915, 67.2106383 , 66.55319149, 66.30212766, 66.54255319,\n",
       "                          67.04680851, 67.10212766, 66.90212766, 67.04468085, 69.1106383 ,\n",
       "                          71.4893617 , 73.27234043, 74.6       , 75.04042553, 75.79361702,\n",
       "                          76.14893617, 76.2       , 76.39574468, 75.37659574, 73.75744681,\n",
       "                          72.12765957, 70.3106383 , 68.62553191, 68.03617021, 68.11276596,\n",
       "                          66.91276596, 67.47446809, 67.86808511, 66.60851064, 66.49361702,\n",
       "                          66.35957447, 67.12340426, 67.51914894, 67.04042553, 66.76595745,\n",
       "                          66.29361702, 66.64893617, 66.55319149, 66.44893617, 66.5       ,\n",
       "                          66.64680851, 66.21276596, 66.0893617 , 66.69787234, 66.84893617,\n",
       "                          67.09574468, 67.49574468, 67.30851064, 67.58510638, 68.10425532,\n",
       "                          68.43829787, 68.75531915, 69.08723404, 68.96595745, 68.49361702,\n",
       "                          68.40851064, 67.85319149, 67.45531915, 67.59148936, 67.75531915,\n",
       "                          67.74468085, 68.14680851, 68.54468085, 68.70212766, 68.74680851,\n",
       "                          68.9       , 68.65531915, 68.10638298, 68.19148936, 67.52340426,\n",
       "                          66.8893617 , 67.20425532, 67.53829787, 68.49148936, 68.85106383,\n",
       "                          68.70212766, 69.48085106, 70.25319149, 70.00212766, 70.43829787,\n",
       "                          70.36382979, 69.74893617, 70.58297872, 71.4       , 72.52553191,\n",
       "                          75.55957447, 77.0106383 , 75.61914894, 74.2106383 , 72.67234043,\n",
       "                          70.96382979, 69.95744681, 70.33404255, 71.63829787, 71.75957447,\n",
       "                          70.41914894, 68.81489362, 67.85531915, 68.23617021, 68.80212766,\n",
       "                          68.55319149, 69.62340426, 70.9       , 70.9       , 70.94893617,\n",
       "                          71.34255319, 71.45531915, 71.78723404, 72.10638298, 71.84893617,\n",
       "                          71.70425532, 71.0106383 , 70.79361702, 71.49148936, 71.16595745,\n",
       "                          70.84042553, 71.93617021, 73.77446809, 75.29361702, 76.62765957,\n",
       "                          76.32978723, 75.73191489, 77.72553191, 77.97021277, 77.14680851,\n",
       "                          78.08297872, 77.9212766 , 76.70425532, 76.10851064, 74.18297872,\n",
       "                          72.99148936, 73.30212766, 72.27021277, 70.76170213, 69.51489362,\n",
       "                          70.56170213, 72.20425532, 72.24468085, 72.74468085, 73.83191489,\n",
       "                          73.77021277, 72.75106383, 73.62978723, 75.33404255, 77.51914894,\n",
       "                          81.7893617 , 84.45531915, 83.61276596, 81.38510638, 78.3787234 ,\n",
       "                          76.11914894, 74.31914894, 72.9106383 , 72.15531915, 71.4106383 ,\n",
       "                          70.99787234, 70.75744681, 69.61702128, 69.63191489, 70.35319149,\n",
       "                          70.29787234, 71.62340426, 73.63404255, 74.20425532, 74.68510638,\n",
       "                          74.95957447, 75.13617021, 75.21276596, 74.74680851, 74.80212766,\n",
       "                          74.40638298, 74.19787234, 73.90851064, 73.54893617, 73.20851064]),\n",
       "              'yaxis': 'y'},\n",
       "             {'hovertemplate': 'variable=new_pred<br>index=%{x}<br>value=%{y}<extra></extra>',\n",
       "              'legendgroup': 'new_pred',\n",
       "              'line': {'color': '#EF553B', 'dash': 'solid'},\n",
       "              'marker': {'symbol': 'circle'},\n",
       "              'mode': 'lines',\n",
       "              'name': 'new_pred',\n",
       "              'orientation': 'v',\n",
       "              'showlegend': True,\n",
       "              'type': 'scatter',\n",
       "              'uid': '107d07c7-e7e2-4df2-8d6e-411bd8be6e23',\n",
       "              'x': array([datetime.datetime(2017, 12, 31, 23, 30),\n",
       "                          datetime.datetime(2018, 1, 1, 23, 30),\n",
       "                          datetime.datetime(2018, 1, 2, 23, 30),\n",
       "                          datetime.datetime(2018, 1, 3, 23, 30),\n",
       "                          datetime.datetime(2018, 1, 4, 23, 30),\n",
       "                          datetime.datetime(2018, 1, 5, 23, 30),\n",
       "                          datetime.datetime(2018, 1, 6, 23, 30),\n",
       "                          datetime.datetime(2018, 1, 7, 23, 30),\n",
       "                          datetime.datetime(2018, 1, 8, 23, 30),\n",
       "                          datetime.datetime(2018, 1, 9, 23, 30),\n",
       "                          datetime.datetime(2018, 1, 10, 23, 30),\n",
       "                          datetime.datetime(2018, 1, 11, 23, 30),\n",
       "                          datetime.datetime(2018, 1, 12, 23, 30),\n",
       "                          datetime.datetime(2018, 1, 13, 23, 30),\n",
       "                          datetime.datetime(2018, 1, 14, 23, 30),\n",
       "                          datetime.datetime(2018, 1, 15, 23, 30),\n",
       "                          datetime.datetime(2018, 1, 16, 23, 30),\n",
       "                          datetime.datetime(2018, 1, 17, 23, 30),\n",
       "                          datetime.datetime(2018, 1, 18, 23, 30),\n",
       "                          datetime.datetime(2018, 1, 19, 23, 30),\n",
       "                          datetime.datetime(2018, 1, 20, 23, 30),\n",
       "                          datetime.datetime(2018, 1, 21, 23, 30),\n",
       "                          datetime.datetime(2018, 1, 22, 23, 30),\n",
       "                          datetime.datetime(2018, 1, 23, 23, 30),\n",
       "                          datetime.datetime(2018, 1, 24, 23, 30),\n",
       "                          datetime.datetime(2018, 1, 25, 23, 30),\n",
       "                          datetime.datetime(2018, 1, 26, 23, 30),\n",
       "                          datetime.datetime(2018, 1, 27, 23, 30),\n",
       "                          datetime.datetime(2018, 1, 28, 23, 30),\n",
       "                          datetime.datetime(2018, 1, 29, 23, 30),\n",
       "                          datetime.datetime(2018, 1, 30, 23, 30),\n",
       "                          datetime.datetime(2018, 1, 31, 23, 30),\n",
       "                          datetime.datetime(2018, 2, 1, 23, 30),\n",
       "                          datetime.datetime(2018, 2, 2, 23, 30),\n",
       "                          datetime.datetime(2018, 2, 3, 23, 30),\n",
       "                          datetime.datetime(2018, 2, 4, 23, 30),\n",
       "                          datetime.datetime(2018, 2, 5, 23, 30),\n",
       "                          datetime.datetime(2018, 2, 6, 23, 30),\n",
       "                          datetime.datetime(2018, 2, 7, 23, 30),\n",
       "                          datetime.datetime(2018, 2, 8, 23, 30),\n",
       "                          datetime.datetime(2018, 2, 9, 23, 30),\n",
       "                          datetime.datetime(2018, 2, 10, 23, 30),\n",
       "                          datetime.datetime(2018, 2, 11, 23, 30),\n",
       "                          datetime.datetime(2018, 2, 12, 23, 30),\n",
       "                          datetime.datetime(2018, 2, 13, 23, 30),\n",
       "                          datetime.datetime(2018, 2, 14, 23, 30),\n",
       "                          datetime.datetime(2018, 2, 15, 23, 30),\n",
       "                          datetime.datetime(2018, 2, 16, 23, 30),\n",
       "                          datetime.datetime(2018, 2, 17, 23, 30),\n",
       "                          datetime.datetime(2018, 2, 18, 23, 30),\n",
       "                          datetime.datetime(2018, 2, 19, 23, 30),\n",
       "                          datetime.datetime(2018, 2, 20, 23, 30),\n",
       "                          datetime.datetime(2018, 2, 21, 23, 30),\n",
       "                          datetime.datetime(2018, 2, 22, 23, 30),\n",
       "                          datetime.datetime(2018, 2, 23, 23, 30),\n",
       "                          datetime.datetime(2018, 2, 24, 23, 30),\n",
       "                          datetime.datetime(2018, 2, 25, 23, 30),\n",
       "                          datetime.datetime(2018, 2, 26, 23, 30),\n",
       "                          datetime.datetime(2018, 2, 27, 23, 30),\n",
       "                          datetime.datetime(2018, 2, 28, 23, 30),\n",
       "                          datetime.datetime(2018, 3, 1, 23, 30),\n",
       "                          datetime.datetime(2018, 3, 2, 23, 30),\n",
       "                          datetime.datetime(2018, 3, 3, 23, 30),\n",
       "                          datetime.datetime(2018, 3, 4, 23, 30),\n",
       "                          datetime.datetime(2018, 3, 5, 23, 30),\n",
       "                          datetime.datetime(2018, 3, 6, 23, 30),\n",
       "                          datetime.datetime(2018, 3, 7, 23, 30),\n",
       "                          datetime.datetime(2018, 3, 8, 23, 30),\n",
       "                          datetime.datetime(2018, 3, 9, 23, 30),\n",
       "                          datetime.datetime(2018, 3, 10, 23, 30),\n",
       "                          datetime.datetime(2018, 3, 11, 23, 30),\n",
       "                          datetime.datetime(2018, 3, 12, 23, 30),\n",
       "                          datetime.datetime(2018, 3, 13, 23, 30),\n",
       "                          datetime.datetime(2018, 3, 14, 23, 30),\n",
       "                          datetime.datetime(2018, 3, 15, 23, 30),\n",
       "                          datetime.datetime(2018, 3, 16, 23, 30),\n",
       "                          datetime.datetime(2018, 3, 17, 23, 30),\n",
       "                          datetime.datetime(2018, 3, 18, 23, 30),\n",
       "                          datetime.datetime(2018, 3, 19, 23, 30),\n",
       "                          datetime.datetime(2018, 3, 20, 23, 30),\n",
       "                          datetime.datetime(2018, 3, 21, 23, 30),\n",
       "                          datetime.datetime(2018, 3, 22, 23, 30),\n",
       "                          datetime.datetime(2018, 3, 23, 23, 30),\n",
       "                          datetime.datetime(2018, 3, 24, 23, 30),\n",
       "                          datetime.datetime(2018, 3, 25, 23, 30),\n",
       "                          datetime.datetime(2018, 3, 26, 23, 30),\n",
       "                          datetime.datetime(2018, 3, 27, 23, 30),\n",
       "                          datetime.datetime(2018, 3, 28, 23, 30),\n",
       "                          datetime.datetime(2018, 3, 29, 23, 30),\n",
       "                          datetime.datetime(2018, 3, 30, 23, 30),\n",
       "                          datetime.datetime(2018, 3, 31, 23, 30),\n",
       "                          datetime.datetime(2018, 4, 1, 23, 30),\n",
       "                          datetime.datetime(2018, 4, 2, 23, 30),\n",
       "                          datetime.datetime(2018, 4, 3, 23, 30),\n",
       "                          datetime.datetime(2018, 4, 4, 23, 30),\n",
       "                          datetime.datetime(2018, 4, 5, 23, 30),\n",
       "                          datetime.datetime(2018, 4, 6, 23, 30),\n",
       "                          datetime.datetime(2018, 4, 7, 23, 30),\n",
       "                          datetime.datetime(2018, 4, 8, 23, 30),\n",
       "                          datetime.datetime(2018, 4, 9, 23, 30),\n",
       "                          datetime.datetime(2018, 4, 10, 23, 30),\n",
       "                          datetime.datetime(2018, 4, 11, 23, 30),\n",
       "                          datetime.datetime(2018, 4, 12, 23, 30),\n",
       "                          datetime.datetime(2018, 4, 13, 23, 30),\n",
       "                          datetime.datetime(2018, 4, 14, 23, 30),\n",
       "                          datetime.datetime(2018, 4, 15, 23, 30),\n",
       "                          datetime.datetime(2018, 4, 16, 23, 30),\n",
       "                          datetime.datetime(2018, 4, 17, 23, 30),\n",
       "                          datetime.datetime(2018, 4, 18, 23, 30),\n",
       "                          datetime.datetime(2018, 4, 19, 23, 30),\n",
       "                          datetime.datetime(2018, 4, 20, 23, 30),\n",
       "                          datetime.datetime(2018, 4, 21, 23, 30),\n",
       "                          datetime.datetime(2018, 4, 22, 23, 30),\n",
       "                          datetime.datetime(2018, 4, 23, 23, 30),\n",
       "                          datetime.datetime(2018, 4, 24, 23, 30),\n",
       "                          datetime.datetime(2018, 4, 25, 23, 30),\n",
       "                          datetime.datetime(2018, 4, 26, 23, 30),\n",
       "                          datetime.datetime(2018, 4, 27, 23, 30),\n",
       "                          datetime.datetime(2018, 4, 28, 23, 30),\n",
       "                          datetime.datetime(2018, 4, 29, 23, 30),\n",
       "                          datetime.datetime(2018, 4, 30, 23, 30),\n",
       "                          datetime.datetime(2018, 5, 1, 23, 30),\n",
       "                          datetime.datetime(2018, 5, 2, 23, 30),\n",
       "                          datetime.datetime(2018, 5, 3, 23, 30),\n",
       "                          datetime.datetime(2018, 5, 4, 23, 30),\n",
       "                          datetime.datetime(2018, 5, 5, 23, 30),\n",
       "                          datetime.datetime(2018, 5, 6, 23, 30),\n",
       "                          datetime.datetime(2018, 5, 7, 23, 30),\n",
       "                          datetime.datetime(2018, 5, 8, 23, 30),\n",
       "                          datetime.datetime(2018, 5, 9, 23, 30),\n",
       "                          datetime.datetime(2018, 5, 10, 23, 30),\n",
       "                          datetime.datetime(2018, 5, 11, 23, 30),\n",
       "                          datetime.datetime(2018, 5, 12, 23, 30),\n",
       "                          datetime.datetime(2018, 5, 13, 23, 30),\n",
       "                          datetime.datetime(2018, 5, 14, 23, 30),\n",
       "                          datetime.datetime(2018, 5, 15, 23, 30),\n",
       "                          datetime.datetime(2018, 5, 16, 23, 30),\n",
       "                          datetime.datetime(2018, 5, 17, 23, 30),\n",
       "                          datetime.datetime(2018, 5, 18, 23, 30),\n",
       "                          datetime.datetime(2018, 5, 19, 23, 30),\n",
       "                          datetime.datetime(2018, 5, 20, 23, 30),\n",
       "                          datetime.datetime(2018, 5, 21, 23, 30),\n",
       "                          datetime.datetime(2018, 5, 22, 23, 30),\n",
       "                          datetime.datetime(2018, 5, 23, 23, 30),\n",
       "                          datetime.datetime(2018, 5, 24, 23, 30),\n",
       "                          datetime.datetime(2018, 5, 25, 23, 30),\n",
       "                          datetime.datetime(2018, 5, 26, 23, 30),\n",
       "                          datetime.datetime(2018, 5, 27, 23, 30),\n",
       "                          datetime.datetime(2018, 5, 28, 23, 30),\n",
       "                          datetime.datetime(2018, 5, 29, 23, 30),\n",
       "                          datetime.datetime(2018, 5, 30, 23, 30),\n",
       "                          datetime.datetime(2018, 5, 31, 23, 30),\n",
       "                          datetime.datetime(2018, 6, 1, 23, 30),\n",
       "                          datetime.datetime(2018, 6, 2, 23, 30),\n",
       "                          datetime.datetime(2018, 6, 3, 23, 30),\n",
       "                          datetime.datetime(2018, 6, 4, 23, 30),\n",
       "                          datetime.datetime(2018, 6, 5, 23, 30),\n",
       "                          datetime.datetime(2018, 6, 6, 23, 30),\n",
       "                          datetime.datetime(2018, 6, 7, 23, 30),\n",
       "                          datetime.datetime(2018, 6, 8, 23, 30),\n",
       "                          datetime.datetime(2018, 6, 9, 23, 30),\n",
       "                          datetime.datetime(2018, 6, 10, 23, 30),\n",
       "                          datetime.datetime(2018, 6, 11, 23, 30),\n",
       "                          datetime.datetime(2018, 6, 12, 23, 30),\n",
       "                          datetime.datetime(2018, 6, 13, 23, 30),\n",
       "                          datetime.datetime(2018, 6, 14, 23, 30),\n",
       "                          datetime.datetime(2018, 6, 15, 23, 30),\n",
       "                          datetime.datetime(2018, 6, 16, 23, 30),\n",
       "                          datetime.datetime(2018, 6, 17, 23, 30),\n",
       "                          datetime.datetime(2018, 6, 18, 23, 30),\n",
       "                          datetime.datetime(2018, 6, 19, 23, 30),\n",
       "                          datetime.datetime(2018, 6, 20, 23, 30),\n",
       "                          datetime.datetime(2018, 6, 21, 23, 30),\n",
       "                          datetime.datetime(2018, 6, 22, 23, 30),\n",
       "                          datetime.datetime(2018, 6, 23, 23, 30),\n",
       "                          datetime.datetime(2018, 6, 24, 23, 30),\n",
       "                          datetime.datetime(2018, 6, 25, 23, 30),\n",
       "                          datetime.datetime(2018, 6, 26, 23, 30),\n",
       "                          datetime.datetime(2018, 6, 27, 23, 30),\n",
       "                          datetime.datetime(2018, 6, 28, 23, 30),\n",
       "                          datetime.datetime(2018, 6, 29, 23, 30),\n",
       "                          datetime.datetime(2018, 6, 30, 23, 30),\n",
       "                          datetime.datetime(2018, 7, 1, 23, 30),\n",
       "                          datetime.datetime(2018, 7, 2, 23, 30),\n",
       "                          datetime.datetime(2018, 7, 3, 23, 30),\n",
       "                          datetime.datetime(2018, 7, 4, 23, 30),\n",
       "                          datetime.datetime(2018, 7, 5, 23, 30),\n",
       "                          datetime.datetime(2018, 7, 6, 23, 30),\n",
       "                          datetime.datetime(2018, 7, 7, 23, 30),\n",
       "                          datetime.datetime(2018, 7, 8, 23, 30),\n",
       "                          datetime.datetime(2018, 7, 9, 23, 30),\n",
       "                          datetime.datetime(2018, 7, 10, 23, 30),\n",
       "                          datetime.datetime(2018, 7, 11, 23, 30),\n",
       "                          datetime.datetime(2018, 7, 12, 23, 30),\n",
       "                          datetime.datetime(2018, 7, 13, 23, 30),\n",
       "                          datetime.datetime(2018, 7, 14, 23, 30),\n",
       "                          datetime.datetime(2018, 7, 15, 23, 30),\n",
       "                          datetime.datetime(2018, 7, 16, 23, 30),\n",
       "                          datetime.datetime(2018, 7, 17, 23, 30),\n",
       "                          datetime.datetime(2018, 7, 18, 23, 30)], dtype=object),\n",
       "              'xaxis': 'x',\n",
       "              'y': array([68.43305969, 67.82492065, 67.91018677, 67.75288391, 68.11308289,\n",
       "                          68.11186981, 67.88674164, 68.33410645, 68.25993347, 68.54205322,\n",
       "                          68.4995575 , 68.56769562, 68.49166107, 68.634552  , 68.86439514,\n",
       "                          68.4359436 , 67.46196747, 68.75525665, 68.02786255, 69.01057434,\n",
       "                          67.59697723, 70.25283051, 68.94922638, 69.20732117, 67.92542267,\n",
       "                          74.82540894, 70.36079407, 69.4593277 , 69.07247925, 73.34056854,\n",
       "                          68.64205933, 68.14334869, 66.59133148, 69.05697632, 69.582901  ,\n",
       "                          69.01904297, 67.68638611, 68.79175568, 70.73651123, 70.85260773,\n",
       "                          72.79845428, 71.8314209 , 73.9598465 , 68.72798157, 69.53108978,\n",
       "                          70.05419922, 68.89108276, 68.73390961, 68.04385376, 68.44204712,\n",
       "                          68.75975037, 68.9482193 , 68.40898132, 69.24339294, 67.81897736,\n",
       "                          70.35454559, 69.26457977, 69.07556152, 67.76727295, 69.85088348,\n",
       "                          69.3216629 , 70.91751099, 68.42908478, 68.74723816, 74.04730225,\n",
       "                          69.04637146, 68.10670471, 70.08235931, 68.32359314, 68.26102448,\n",
       "                          68.89884186, 68.3351059 , 69.53806305, 69.30950165, 68.4319458 ,\n",
       "                          69.64611816, 68.40303802, 68.39638519, 69.35960388, 68.61164856,\n",
       "                          69.13371277, 69.60584259, 67.79252625, 68.58216095, 69.2301712 ,\n",
       "                          67.35778809, 68.73812866, 68.69949341, 68.20399475, 67.69251251,\n",
       "                          67.89303589, 69.45899963, 68.67925262, 68.31989288, 69.41562653,\n",
       "                          67.8433075 , 67.29416656, 68.0379715 , 68.93985748, 68.403862  ,\n",
       "                          68.26480103, 67.84281158, 69.34074402, 68.77172089, 69.62238312,\n",
       "                          69.77526093, 68.62606812, 72.45744324, 72.01895905, 71.46107483,\n",
       "                          68.87827301, 69.23190308, 69.19736481, 69.22845459, 69.00701904,\n",
       "                          69.14076233, 69.36146545, 69.83227539, 69.52568817, 68.70422363,\n",
       "                          69.05651855, 68.64094543, 69.48429871, 70.22946167, 70.08581543,\n",
       "                          72.48080444, 71.16352844, 70.96165466, 70.47338104, 69.92337036,\n",
       "                          70.41030884, 69.08029175, 68.8870163 , 70.40661621, 69.90921021,\n",
       "                          69.86076355, 69.55807495, 69.01873779, 69.22812653, 69.64089966,\n",
       "                          69.30148315, 69.35419464, 68.97869873, 69.32501984, 69.44329834,\n",
       "                          70.00494385, 69.50635529, 73.59875488, 70.75528717, 70.14532471,\n",
       "                          72.82627106, 71.38959503, 77.16146851, 68.11681366, 76.00614929,\n",
       "                          68.86963654, 76.43775177, 70.40367126, 70.03982544, 69.42021942,\n",
       "                          67.43179321, 69.64198303, 69.39979553, 70.72213745, 74.32995605,\n",
       "                          69.92984009, 72.01211548, 72.49344635, 67.68449402, 69.65264893,\n",
       "                          72.58744812, 78.03621674, 76.83138275, 80.5517807 , 82.34793854,\n",
       "                          71.95111084, 69.82060242, 69.33177948, 68.91410065, 69.88406372,\n",
       "                          69.39492035, 67.46806335, 69.57983398, 68.77828217, 67.51338196,\n",
       "                          70.73887634, 69.26612854, 69.77579498, 69.96459961, 69.12428284,\n",
       "                          68.61670685, 69.93457794, 70.67622375, 70.30483246, 70.29732513,\n",
       "                          70.95386505, 70.04873657, 70.33909607, 70.29020691, 70.28891754]),\n",
       "              'yaxis': 'y'}],\n",
       "    'layout': {'legend': {'title': {'text': 'variable'}, 'tracegroupgap': 0},\n",
       "               'margin': {'t': 60},\n",
       "               'template': '...',\n",
       "               'xaxis': {'anchor': 'y', 'domain': [0.0, 1.0], 'title': {'text': 'index'}},\n",
       "               'yaxis': {'anchor': 'x', 'domain': [0.0, 1.0], 'title': {'text': 'value'}}}\n",
       "})"
      ]
     },
     "execution_count": 131,
     "metadata": {},
     "output_type": "execute_result"
    }
   ],
   "source": [
    "dl = learn.dls.test_dl(df_test)\n",
    "raw_test_preds = learn.get_preds(dl=dl)\n",
    "learn.validate(dl=dl)\n",
    "test_preds = (np.exp(raw_test_preds[0])+ min_y).numpy().T[0]\n",
    "df_test[\"new_pred\"] = test_preds\n",
    "pd.options.plotting.backend = \"plotly\" \n",
    "from FCeV import METRICS\n",
    "print(current_fcev.get_metrics_from_fc(df_test.head(200)[\"current\"], df_test.head(200)[\"new_pred\"], METRICS.RMSE).mean()/100)\n",
    "df_test[[\"current\", \"new_pred\"]].plot()"
   ]
  },
  {
   "cell_type": "markdown",
   "id": "6389be66-4dc1-4cbe-b5d7-a41c86443926",
   "metadata": {},
   "source": [
    "## Using Pythorch Lightning"
   ]
  },
  {
   "cell_type": "code",
   "execution_count": 50,
   "id": "5a838365-21bd-4164-b465-aa5dc995fbd7",
   "metadata": {},
   "outputs": [],
   "source": [
    "import pytorch_lightning as pl\n",
    "import pandas as pd\n",
    "import cv2\n",
    "import os \n",
    "from torch import nn\n",
    "from torch.utils.data import Dataset ,DataLoader\n",
    "import numpy as np\n",
    "import torch\n",
    "from sklearn import preprocessing\n",
    "from sklearn.model_selection import train_test_split \n",
    "from torcheval.metrics import BinaryAccuracy\n",
    "import torchmetrics\n",
    "df_input =  anom_serie.pd_dataframe().drop(\"BASE\", axis = 1)\n",
    "#df_input =  pred_serie.pd_dataframe().drop(\"BASE\", axis = 1)\n",
    "df_label =  df_events.loc[df_input.index]\n",
    "channels = len(df_input.columns)\n",
    "CLASSES = 2\n",
    "input_length = 48\n",
    "kernel_size = 10\n",
    "channel_1 = 64"
   ]
  },
  {
   "cell_type": "code",
   "execution_count": 67,
   "id": "ddb2b572-40b2-467b-ba03-20e53ad1bdc9",
   "metadata": {},
   "outputs": [],
   "source": [
    "class CassavaModel(pl.LightningModule):\n",
    "    def __init__(self):\n",
    "        \n",
    "      #image_size = 64\n",
    "        super().__init__()\n",
    "        self.cnv = nn.Conv1d(channels,channel_1,kernel_size, padding='same')\n",
    "        self.rel = nn.ReLU()\n",
    "        self.bn = nn.BatchNorm1d(64)\n",
    "        self.mxpool = nn.MaxPool1d(2)\n",
    "        self.flat = nn.Flatten()\n",
    "        self.fc1 = nn.Linear(input_length  * channel_1 // 2,32)\n",
    "        self.fc2 = nn.Linear(32,32)\n",
    "        self.fc3 = nn.Linear(32,1)\n",
    "        self.softmax = nn.Softmax()\n",
    "        self.accuracy = BinaryAccuracy()\n",
    "        self.loss_fn = torch.nn.MSELoss()\n",
    "        self.sigmoid = nn.Sigmoid()\n",
    "        self.dropout = nn.Dropout(0.25)\n",
    "        \n",
    "    def forward(self,x):\n",
    "        out = self.bn(self.rel(self.cnv(x)))\n",
    "        out = self.flat(self.mxpool(out))\n",
    "        out = self.dropout(self.rel(self.fc1(out)))\n",
    "        out = self.dropout(self.rel(self.fc2(out)))\n",
    "        out = self.fc3(out)\n",
    "        out = self.sigmoid(out)\n",
    "        return out\n",
    "\n",
    "    \n",
    "    def configure_optimizers(self):\n",
    "        LR = 1e-3\n",
    "        optimizer = torch.optim.AdamW(self.parameters(),lr=LR)\n",
    "        return optimizer\n",
    "\n",
    "    def training_step(self,batch,batch_idx):\n",
    "        x,y = batch[\"x\"],batch[\"y\"]\n",
    "        img = x.view(-1,channels,input_length)\n",
    "        label = y.view(-1)\n",
    "        out = self(img)\n",
    "        \n",
    "        loss = self.loss_fn(out,label)\n",
    "        self.log('train_loss', loss)\n",
    "        return loss       \n",
    "\n",
    "    def validation_step(self,batch,batch_idx):\n",
    "        x,y = batch[\"x\"],batch[\"y\"]\n",
    "        img = x.view(-1,channels,input_length)\n",
    "        label = y.view(-1)\n",
    "        out = self(img)\n",
    "        loss = self.loss_fn(out,label) \n",
    "        self.log('valid_loss', loss)\n",
    "        return loss\n",
    "\n",
    "    def predict_step(self, batch, batch_idx, dataloader_idx=0):\n",
    "        x,y = batch[\"x\"],batch[\"y\"]\n",
    "        img = x.view(-1,channels,input_length)\n",
    "        label = y.view(-1)\n",
    "        preds = self(img)\n",
    "        preds = self.trainer.datamodule.min_max_scaler_y.inverse_transform(preds.cpu())\n",
    "        current  = self.trainer.datamodule.min_max_scaler_y.inverse_transform(y.cpu())\n",
    "        return current, preds\n",
    "    \n",
    "    def test_step(self,batch,batch_idx):\n",
    "        x,y = batch[\"x\"],batch[\"y\"]\n",
    "        img = x.view(-1,channels,input_length)\n",
    "        label = y.view(-1)\n",
    "        out = self(img)\n",
    "        \n",
    "        loss = self.loss_fn(out,label)\n",
    "        self.log('test_loss', loss)\n",
    "        return loss       "
   ]
  },
  {
   "cell_type": "code",
   "execution_count": 68,
   "id": "9c122433-4100-4f32-9cbf-c9f9e1cb7a2b",
   "metadata": {},
   "outputs": [],
   "source": [
    "class CassavaDataset(Dataset):\n",
    "    def __init__(self,df_data, df_events, input_length):\n",
    "        self.df_data = df_data\n",
    "        self.df_events = df_events\n",
    "        self.input_length = input_length\n",
    "    def __len__(self):\n",
    "        return len(self.df_data) //  input_length\n",
    "    \n",
    "    def __getitem__(self,item):\n",
    "        #index_selected = [item * input_length : ((item + 1) * input_length)]\n",
    "        x = self.df_data[item * input_length : ((item + 1) * input_length)].to_numpy()\n",
    "        y = self.df_events[item * input_length : ((item + 1) * input_length)].mean()\n",
    "\n",
    "        return {\n",
    "            \"x\":torch.tensor(x,dtype=torch.float),\n",
    "            \"y\":torch.tensor(y,dtype=torch.float),\n",
    "        } "
   ]
  },
  {
   "cell_type": "code",
   "execution_count": 69,
   "id": "bc7eec81-e08f-458c-aebd-0472427b3ed2",
   "metadata": {},
   "outputs": [],
   "source": [
    "class CassavaLightDataset(pl.LightningDataModule):\n",
    "    def __init__(self,df_input, df_label,input_length, test_part, batch_size=10):\n",
    "        super().__init__()\n",
    "        self.batch_size = batch_size\n",
    "            \n",
    "        self.min_max_scaler_y = preprocessing.MinMaxScaler()\n",
    "        self.min_max_scaler_x = preprocessing.MinMaxScaler()\n",
    "        self.df_input = df_input\n",
    "        self.df_label = df_label\n",
    "        self.test_part = test_part\n",
    "        self.input_length = input_length\n",
    "\n",
    "        \n",
    "    def setup(self,stage=None):\n",
    "        \n",
    "        train_X,test_X, train_Y, test_Y  = train_test_split(self.df_input, self.df_label, test_size = self.test_part,shuffle = False)\n",
    "        \n",
    "        train_X_scaled = self.min_max_scaler_x.fit_transform(train_X.values)\n",
    "        df_train_X_scaled = pd.DataFrame(train_X_scaled, columns = train_X.columns, index = train_X.index)\n",
    "        \n",
    "        test_X_scaled = self.min_max_scaler_x.transform(test_X.values)\n",
    "        self.test_X = pd.DataFrame(test_X_scaled, columns = test_X.columns, index = test_X.index)\n",
    "        \n",
    "        ## LABEL TRAIN\n",
    "        train_y_scaled = self.min_max_scaler_y.fit_transform(train_Y.values)\n",
    "        df_train_y_scaled = pd.DataFrame(train_y_scaled, columns = train_Y.columns, index = train_Y.index)\n",
    "        \n",
    "        ## LABEL TEST\n",
    "        test_y_scaled = self.min_max_scaler_y.transform(test_Y.values)\n",
    "        self.test_Y = pd.DataFrame(test_y_scaled, columns = test_Y.columns, index = test_Y.index)\n",
    "        \n",
    "        self.train_X,self.val_X, self.train_Y, self.val_Y   = train_test_split(df_train_X_scaled,df_train_y_scaled, test_size = 0.1,shuffle = True)\n",
    "        \n",
    "        self.train_dataset = CassavaDataset(self.train_X, self.train_Y, self.input_length)\n",
    "        self.validation_dataset = CassavaDataset(self.val_X, self.val_Y, self.input_length)\n",
    "        self.predict_dataset = CassavaDataset(self.test_X, self.test_Y, self.input_length)\n",
    "    def train_dataloader(self):\n",
    "        train_loader = DataLoader(self.train_dataset,\n",
    "                            batch_size=self.batch_size, drop_last=True,\n",
    "                            \n",
    "                            shuffle=True)\n",
    "        return train_loader\n",
    "    def val_dataloader(self):\n",
    "        valid_loader = DataLoader(self.validation_dataset,\n",
    "                            batch_size=self.batch_size,drop_last=True,\n",
    "                            shuffle=False) \n",
    "        return valid_loader\n",
    "        \n",
    "    def test_dataloader(self):\n",
    "        test_loader = DataLoader(self.predict_dataset,\n",
    "                            batch_size=self.batch_size,drop_last=True,\n",
    "                            shuffle=False) \n",
    "        return test_loader\n",
    "    def predict_dataloader(self):\n",
    "        predict_loader = DataLoader(self.predict_dataset,\n",
    "                            batch_size=len(self.predict_dataset),\n",
    "                            shuffle=False)    \n",
    "        return predict_loader"
   ]
  },
  {
   "cell_type": "code",
   "execution_count": 70,
   "id": "65eb29a7-c401-40c5-ad72-7b0ebb981233",
   "metadata": {},
   "outputs": [
    {
     "data": {
      "application/vnd.jupyter.widget-view+json": {
       "model_id": "85c7fd86ae0d47d99be2951235fe7ec0",
       "version_major": 2,
       "version_minor": 0
      },
      "text/plain": [
       "FigureWidgetResampler({\n",
       "    'data': [{'hovertemplate': 'variable=f107<br>ds=%{x}<br>value=%{y}<extra></extra>',\n",
       "              'legendgroup': 'f107',\n",
       "              'line': {'color': '#636efa', 'dash': 'solid'},\n",
       "              'marker': {'symbol': 'circle'},\n",
       "              'mode': 'lines',\n",
       "              'name': '<b style=\"color:sandybrown\">[R]</b> f107 <i style=\"color:#fc9944\">~1D</i>',\n",
       "              'showlegend': True,\n",
       "              'type': 'scattergl',\n",
       "              'uid': 'd72ef181-5c56-4da3-a20e-dcd7032f4d47',\n",
       "              'x': array([datetime.datetime(2017, 12, 31, 16, 30),\n",
       "                          datetime.datetime(2018, 1, 1, 0, 0),\n",
       "                          datetime.datetime(2018, 1, 1, 23, 30), ...,\n",
       "                          datetime.datetime(2020, 9, 24, 23, 30),\n",
       "                          datetime.datetime(2020, 9, 25, 23, 30),\n",
       "                          datetime.datetime(2020, 9, 26, 11, 30)], dtype=object),\n",
       "              'xaxis': 'x',\n",
       "              'y': array([68.3, 66.8, 66.8, ..., 74.1, 73.8, 72.9]),\n",
       "              'yaxis': 'y'}],\n",
       "    'layout': {'legend': {'title': {'text': 'variable'}, 'tracegroupgap': 0},\n",
       "               'margin': {'t': 60},\n",
       "               'template': '...',\n",
       "               'xaxis': {'anchor': 'y', 'domain': [0.0, 1.0], 'title': {'text': 'ds'}},\n",
       "               'yaxis': {'anchor': 'x', 'domain': [0.0, 1.0], 'title': {'text': 'value'}}}\n",
       "})"
      ]
     },
     "execution_count": 70,
     "metadata": {},
     "output_type": "execute_result"
    }
   ],
   "source": [
    "df_label.plot()"
   ]
  },
  {
   "cell_type": "code",
   "execution_count": 78,
   "id": "842d0dc0-5283-4119-93e9-a10b0bb843fe",
   "metadata": {},
   "outputs": [
    {
     "data": {
      "application/vnd.jupyter.widget-view+json": {
       "model_id": "",
       "version_major": 2,
       "version_minor": 0
      },
      "text/plain": [
       "Sanity Checking: 0it [00:00, ?it/s]"
      ]
     },
     "metadata": {},
     "output_type": "display_data"
    },
    {
     "data": {
      "application/vnd.jupyter.widget-view+json": {
       "model_id": "ccaa068e8bd9402dbf1702e3c8265197",
       "version_major": 2,
       "version_minor": 0
      },
      "text/plain": [
       "Training: 0it [00:00, ?it/s]"
      ]
     },
     "metadata": {},
     "output_type": "display_data"
    },
    {
     "data": {
      "application/vnd.jupyter.widget-view+json": {
       "model_id": "",
       "version_major": 2,
       "version_minor": 0
      },
      "text/plain": [
       "Validation: 0it [00:00, ?it/s]"
      ]
     },
     "metadata": {},
     "output_type": "display_data"
    },
    {
     "data": {
      "application/vnd.jupyter.widget-view+json": {
       "model_id": "",
       "version_major": 2,
       "version_minor": 0
      },
      "text/plain": [
       "Validation: 0it [00:00, ?it/s]"
      ]
     },
     "metadata": {},
     "output_type": "display_data"
    },
    {
     "data": {
      "application/vnd.jupyter.widget-view+json": {
       "model_id": "",
       "version_major": 2,
       "version_minor": 0
      },
      "text/plain": [
       "Validation: 0it [00:00, ?it/s]"
      ]
     },
     "metadata": {},
     "output_type": "display_data"
    },
    {
     "data": {
      "application/vnd.jupyter.widget-view+json": {
       "model_id": "",
       "version_major": 2,
       "version_minor": 0
      },
      "text/plain": [
       "Validation: 0it [00:00, ?it/s]"
      ]
     },
     "metadata": {},
     "output_type": "display_data"
    },
    {
     "data": {
      "application/vnd.jupyter.widget-view+json": {
       "model_id": "",
       "version_major": 2,
       "version_minor": 0
      },
      "text/plain": [
       "Validation: 0it [00:00, ?it/s]"
      ]
     },
     "metadata": {},
     "output_type": "display_data"
    },
    {
     "data": {
      "application/vnd.jupyter.widget-view+json": {
       "model_id": "",
       "version_major": 2,
       "version_minor": 0
      },
      "text/plain": [
       "Validation: 0it [00:00, ?it/s]"
      ]
     },
     "metadata": {},
     "output_type": "display_data"
    },
    {
     "data": {
      "application/vnd.jupyter.widget-view+json": {
       "model_id": "",
       "version_major": 2,
       "version_minor": 0
      },
      "text/plain": [
       "Validation: 0it [00:00, ?it/s]"
      ]
     },
     "metadata": {},
     "output_type": "display_data"
    },
    {
     "data": {
      "application/vnd.jupyter.widget-view+json": {
       "model_id": "",
       "version_major": 2,
       "version_minor": 0
      },
      "text/plain": [
       "Validation: 0it [00:00, ?it/s]"
      ]
     },
     "metadata": {},
     "output_type": "display_data"
    },
    {
     "data": {
      "application/vnd.jupyter.widget-view+json": {
       "model_id": "",
       "version_major": 2,
       "version_minor": 0
      },
      "text/plain": [
       "Validation: 0it [00:00, ?it/s]"
      ]
     },
     "metadata": {},
     "output_type": "display_data"
    },
    {
     "data": {
      "application/vnd.jupyter.widget-view+json": {
       "model_id": "",
       "version_major": 2,
       "version_minor": 0
      },
      "text/plain": [
       "Validation: 0it [00:00, ?it/s]"
      ]
     },
     "metadata": {},
     "output_type": "display_data"
    }
   ],
   "source": [
    "checkpoint_callback = pl.callbacks.ModelCheckpoint(\n",
    "    monitor='valid_loss',\n",
    "    dirpath='./',\n",
    "    filename='models-{epoch:02d}-{valid_loss:.2f}',\n",
    "    save_top_k=3,\n",
    "    mode='min') \n",
    "\n",
    "mod = CassavaModel()\n",
    "dx = CassavaLightDataset(df_input, df_label,48, 0.1)\n",
    "trainer = pl.Trainer(gpus=-1,max_epochs=10,callbacks=[checkpoint_callback])\n",
    "trainer.fit(model=mod,datamodule=dx) \n"
   ]
  },
  {
   "cell_type": "code",
   "execution_count": 79,
   "id": "62f24eee-a74a-4669-99d6-1957b4ca41ce",
   "metadata": {},
   "outputs": [
    {
     "data": {
      "application/vnd.jupyter.widget-view+json": {
       "model_id": "7308b316c6824ccb966e0e781710484a",
       "version_major": 2,
       "version_minor": 0
      },
      "text/plain": [
       "Testing: 0it [00:00, ?it/s]"
      ]
     },
     "metadata": {},
     "output_type": "display_data"
    },
    {
     "data": {
      "text/html": [
       "<pre style=\"white-space:pre;overflow-x:auto;line-height:normal;font-family:Menlo,'DejaVu Sans Mono',consolas,'Courier New',monospace\">┏━━━━━━━━━━━━━━━━━━━━━━━━━━━┳━━━━━━━━━━━━━━━━━━━━━━━━━━━┓\n",
       "┃<span style=\"font-weight: bold\">        Test metric        </span>┃<span style=\"font-weight: bold\">       DataLoader 0        </span>┃\n",
       "┡━━━━━━━━━━━━━━━━━━━━━━━━━━━╇━━━━━━━━━━━━━━━━━━━━━━━━━━━┩\n",
       "│<span style=\"color: #008080; text-decoration-color: #008080\">         test_loss         </span>│<span style=\"color: #800080; text-decoration-color: #800080\">   0.0007630812469869852   </span>│\n",
       "└───────────────────────────┴───────────────────────────┘\n",
       "</pre>\n"
      ],
      "text/plain": [
       "┏━━━━━━━━━━━━━━━━━━━━━━━━━━━┳━━━━━━━━━━━━━━━━━━━━━━━━━━━┓\n",
       "┃\u001b[1m \u001b[0m\u001b[1m       Test metric       \u001b[0m\u001b[1m \u001b[0m┃\u001b[1m \u001b[0m\u001b[1m      DataLoader 0       \u001b[0m\u001b[1m \u001b[0m┃\n",
       "┡━━━━━━━━━━━━━━━━━━━━━━━━━━━╇━━━━━━━━━━━━━━━━━━━━━━━━━━━┩\n",
       "│\u001b[36m \u001b[0m\u001b[36m        test_loss        \u001b[0m\u001b[36m \u001b[0m│\u001b[35m \u001b[0m\u001b[35m  0.0007630812469869852  \u001b[0m\u001b[35m \u001b[0m│\n",
       "└───────────────────────────┴───────────────────────────┘\n"
      ]
     },
     "metadata": {},
     "output_type": "display_data"
    },
    {
     "data": {
      "text/plain": [
       "[{'test_loss': 0.0007630812469869852}]"
      ]
     },
     "execution_count": 79,
     "metadata": {},
     "output_type": "execute_result"
    }
   ],
   "source": [
    "trainer.test(dataloaders=dx.train_dataloader(), ckpt_path=\"best\")"
   ]
  },
  {
   "cell_type": "code",
   "execution_count": 80,
   "id": "3eabf64f-9423-4053-814c-a44b4ef75c13",
   "metadata": {},
   "outputs": [
    {
     "data": {
      "application/vnd.jupyter.widget-view+json": {
       "model_id": "bb14e35174b84cc28be716d83b634677",
       "version_major": 2,
       "version_minor": 0
      },
      "text/plain": [
       "Testing: 0it [00:00, ?it/s]"
      ]
     },
     "metadata": {},
     "output_type": "display_data"
    },
    {
     "data": {
      "text/html": [
       "<pre style=\"white-space:pre;overflow-x:auto;line-height:normal;font-family:Menlo,'DejaVu Sans Mono',consolas,'Courier New',monospace\">┏━━━━━━━━━━━━━━━━━━━━━━━━━━━┳━━━━━━━━━━━━━━━━━━━━━━━━━━━┓\n",
       "┃<span style=\"font-weight: bold\">        Test metric        </span>┃<span style=\"font-weight: bold\">       DataLoader 0        </span>┃\n",
       "┡━━━━━━━━━━━━━━━━━━━━━━━━━━━╇━━━━━━━━━━━━━━━━━━━━━━━━━━━┩\n",
       "│<span style=\"color: #008080; text-decoration-color: #008080\">         test_loss         </span>│<span style=\"color: #800080; text-decoration-color: #800080\">    0.01590830273926258    </span>│\n",
       "└───────────────────────────┴───────────────────────────┘\n",
       "</pre>\n"
      ],
      "text/plain": [
       "┏━━━━━━━━━━━━━━━━━━━━━━━━━━━┳━━━━━━━━━━━━━━━━━━━━━━━━━━━┓\n",
       "┃\u001b[1m \u001b[0m\u001b[1m       Test metric       \u001b[0m\u001b[1m \u001b[0m┃\u001b[1m \u001b[0m\u001b[1m      DataLoader 0       \u001b[0m\u001b[1m \u001b[0m┃\n",
       "┡━━━━━━━━━━━━━━━━━━━━━━━━━━━╇━━━━━━━━━━━━━━━━━━━━━━━━━━━┩\n",
       "│\u001b[36m \u001b[0m\u001b[36m        test_loss        \u001b[0m\u001b[36m \u001b[0m│\u001b[35m \u001b[0m\u001b[35m   0.01590830273926258   \u001b[0m\u001b[35m \u001b[0m│\n",
       "└───────────────────────────┴───────────────────────────┘\n"
      ]
     },
     "metadata": {},
     "output_type": "display_data"
    },
    {
     "data": {
      "text/plain": [
       "[{'test_loss': 0.01590830273926258}]"
      ]
     },
     "execution_count": 80,
     "metadata": {},
     "output_type": "execute_result"
    }
   ],
   "source": [
    "# (1) load the best checkpoint automatically (lightning tracks this for you)\n",
    "\n",
    "trainer.test(datamodule = dx, ckpt_path=\"best\")"
   ]
  },
  {
   "cell_type": "code",
   "execution_count": 81,
   "id": "d9bf9fae-a505-41c0-9a07-1c6520f055a7",
   "metadata": {},
   "outputs": [
    {
     "data": {
      "application/vnd.jupyter.widget-view+json": {
       "model_id": "2ad943bd518647b7a5027a881db3b337",
       "version_major": 2,
       "version_minor": 0
      },
      "text/plain": [
       "Predicting: 80it [00:00, ?it/s]"
      ]
     },
     "metadata": {},
     "output_type": "display_data"
    }
   ],
   "source": [
    "# test the model\n",
    "predictions = trainer.predict(mod, dataloaders=dx.predict_dataloader(), ckpt_path=\"best\")"
   ]
  },
  {
   "cell_type": "code",
   "execution_count": 82,
   "id": "56280878-d7ac-4fb7-9a0f-da7bbed85b64",
   "metadata": {},
   "outputs": [
    {
     "data": {
      "application/vnd.jupyter.widget-view+json": {
       "model_id": "e57ed8404dd64fad841cdece8d194903",
       "version_major": 2,
       "version_minor": 0
      },
      "text/plain": [
       "FigureWidgetResampler({\n",
       "    'data': [{'hovertemplate': 'variable=0<br>index=%{x}<br>value=%{y}<extra></extra>',\n",
       "              'legendgroup': '0',\n",
       "              'line': {'color': '#636efa', 'dash': 'solid'},\n",
       "              'marker': {'symbol': 'circle'},\n",
       "              'mode': 'lines',\n",
       "              'name': '0',\n",
       "              'orientation': 'v',\n",
       "              'showlegend': True,\n",
       "              'type': 'scatter',\n",
       "              'uid': '8421b065-c0e4-4ef7-a436-0a0984dacd29',\n",
       "              'x': array([ 0,  1,  2,  3,  4,  5,  6,  7,  8,  9, 10, 11, 12, 13, 14, 15, 16, 17,\n",
       "                          18, 19, 20, 21, 22, 23, 24, 25, 26, 27, 28, 29, 30, 31, 32, 33, 34, 35,\n",
       "                          36, 37, 38, 39, 40, 41, 42, 43, 44, 45, 46, 47, 48, 49, 50, 51, 52, 53,\n",
       "                          54, 55, 56, 57, 58, 59, 60, 61, 62, 63, 64, 65, 66, 67, 68, 69, 70, 71,\n",
       "                          72, 73, 74, 75, 76, 77, 78, 79, 80, 81, 82, 83, 84, 85, 86, 87, 88, 89,\n",
       "                          90, 91, 92, 93, 94, 95, 96, 97, 98, 99]),\n",
       "              'xaxis': 'x',\n",
       "              'y': array([70.64999969, 70.55000004, 69.95000021, 69.89999975, 69.60000015,\n",
       "                          69.20000026, 70.15000015, 70.59999987, 70.59999987, 71.34999981,\n",
       "                          71.25000016, 70.70000015, 70.79999981, 70.74999998, 70.94999993,\n",
       "                          71.69999987, 71.80000016, 71.29999999, 70.39999992, 69.6999998 ,\n",
       "                          70.19999998, 71.05000021, 71.05000021, 70.39999992, 70.15000015,\n",
       "                          70.85000027, 70.9000001 , 70.74999998, 71.10000004, 70.64999969,\n",
       "                          70.55000004, 71.34999981, 71.84999999, 72.15000022, 72.35000016,\n",
       "                          72.09999976, 72.15000022, 73.10000011, 73.65000011, 73.89999988,\n",
       "                          74.49999971, 75.24999966, 75.00000052, 74.25000058, 74.49999971,\n",
       "                          74.84999977, 74.94999943, 75.35000058, 75.35000058, 75.54999989,\n",
       "                          76.39999949, 76.39999949, 76.10000053, 75.8000003 , 75.24999966,\n",
       "                          74.65000046, 73.39999971, 72.50000028, 72.50000028, 72.55000011,\n",
       "                          72.79999988, 72.64999976, 71.89999982, 72.09999976, 72.09999976,\n",
       "                          71.84999999, 71.95000028, 71.95000028, 72.0000001 , 71.65000004,\n",
       "                          71.4500001 , 71.54999976, 71.49999993, 70.94999993, 70.64999969,\n",
       "                          70.15000015, 70.3500001 , 70.99999975, 70.55000004, 70.39999992,\n",
       "                          70.9000001 , 71.10000004, 70.79999981, 70.44999975, 69.89999975,\n",
       "                          69.89999975, 70.39999992, 70.15000015, 69.64999998, 69.89999975,\n",
       "                          70.30000027, 70.50000021, 70.9000001 , 70.94999993, 71.29999999,\n",
       "                          72.39999999, 73.30000005, 73.89999988, 73.94999971, 73.34999988]),\n",
       "              'yaxis': 'y'},\n",
       "             {'hovertemplate': 'variable=1<br>index=%{x}<br>value=%{y}<extra></extra>',\n",
       "              'legendgroup': '1',\n",
       "              'line': {'color': '#EF553B', 'dash': 'solid'},\n",
       "              'marker': {'symbol': 'circle'},\n",
       "              'mode': 'lines',\n",
       "              'name': '1',\n",
       "              'orientation': 'v',\n",
       "              'showlegend': True,\n",
       "              'type': 'scatter',\n",
       "              'uid': '5ffc12bd-3bae-4eea-9fb8-986c071f690a',\n",
       "              'x': array([ 0,  1,  2,  3,  4,  5,  6,  7,  8,  9, 10, 11, 12, 13, 14, 15, 16, 17,\n",
       "                          18, 19, 20, 21, 22, 23, 24, 25, 26, 27, 28, 29, 30, 31, 32, 33, 34, 35,\n",
       "                          36, 37, 38, 39, 40, 41, 42, 43, 44, 45, 46, 47, 48, 49, 50, 51, 52, 53,\n",
       "                          54, 55, 56, 57, 58, 59, 60, 61, 62, 63, 64, 65, 66, 67, 68, 69, 70, 71,\n",
       "                          72, 73, 74, 75, 76, 77, 78, 79, 80, 81, 82, 83, 84, 85, 86, 87, 88, 89,\n",
       "                          90, 91, 92, 93, 94, 95, 96, 97, 98, 99]),\n",
       "              'xaxis': 'x',\n",
       "              'y': array([70.33120144, 70.35828092, 70.28521221, 70.79310092, 70.59131341,\n",
       "                          70.2757475 , 70.78446651, 69.99462845, 70.35146392, 69.80984377,\n",
       "                          70.48439899, 70.69167235, 70.55843639, 70.37054125, 70.28168342,\n",
       "                          70.36303613, 70.31108115, 70.12056179, 71.51585951, 70.38971062,\n",
       "                          69.73939992, 69.73420797, 69.69380426, 69.71767932, 70.55150195,\n",
       "                          70.71097122, 70.35778896, 69.73295299, 70.36989249, 69.7703294 ,\n",
       "                          69.82905568, 70.05869457, 70.82973589, 70.43568334, 70.83488213,\n",
       "                          70.4653661 , 70.97575905, 70.21942136, 70.39280776, 70.48761547,\n",
       "                          70.39390785, 70.24541409, 69.94872999, 70.44030969, 70.22790088,\n",
       "                          70.25592684, 69.78101862, 69.70169596, 69.74666826, 69.67803482,\n",
       "                          69.57194626, 69.59343389, 69.73639546, 69.60421325, 69.51473777,\n",
       "                          69.52832797, 69.52557045, 69.50731327, 69.5028818 , 69.57003872,\n",
       "                          69.60809245, 69.54685621, 69.40872666, 69.37437566, 70.37955399,\n",
       "                          70.15120498, 69.45788793, 69.40461449, 69.43885059, 69.5330178 ,\n",
       "                          69.94632668, 70.18819607, 69.52128054, 69.46934715, 70.53350694,\n",
       "                          70.12539508, 69.44145196, 70.03334807, 69.96089256, 70.29772391,\n",
       "                          69.55183677, 69.46637379, 69.69648942, 70.26112005, 69.85049696,\n",
       "                          70.11129133, 69.5426374 , 69.53554934, 69.65419403, 69.63567595,\n",
       "                          69.62969433, 69.75403435, 69.76878242, 69.8660493 , 69.72645656,\n",
       "                          69.93827755, 70.435637  , 70.29692154, 71.16664913, 70.71243949]),\n",
       "              'yaxis': 'y'}],\n",
       "    'layout': {'legend': {'title': {'text': 'variable'}, 'tracegroupgap': 0},\n",
       "               'margin': {'t': 60},\n",
       "               'template': '...',\n",
       "               'xaxis': {'anchor': 'y', 'domain': [0.0, 1.0], 'title': {'text': 'index'}},\n",
       "               'yaxis': {'anchor': 'x', 'domain': [0.0, 1.0], 'title': {'text': 'value'}}}\n",
       "})"
      ]
     },
     "execution_count": 82,
     "metadata": {},
     "output_type": "execute_result"
    }
   ],
   "source": [
    "pd.DataFrame([predictions[0][0].flatten(), predictions[0][1].flatten()]).T.plot()"
   ]
  },
  {
   "cell_type": "code",
   "execution_count": 60,
   "id": "dacdd45c-860b-4a0c-a08e-32326ba0b418",
   "metadata": {},
   "outputs": [
    {
     "data": {
      "text/plain": [
       "[(array([[70.64999969],\n",
       "         [70.55000004],\n",
       "         [69.95000021],\n",
       "         [69.89999975],\n",
       "         [69.60000015],\n",
       "         [69.20000026],\n",
       "         [70.15000015],\n",
       "         [70.59999987],\n",
       "         [70.59999987],\n",
       "         [71.34999981],\n",
       "         [71.25000016],\n",
       "         [70.70000015],\n",
       "         [70.79999981],\n",
       "         [70.74999998],\n",
       "         [70.94999993],\n",
       "         [71.69999987],\n",
       "         [71.80000016],\n",
       "         [71.29999999],\n",
       "         [70.39999992],\n",
       "         [69.6999998 ],\n",
       "         [70.19999998],\n",
       "         [71.05000021],\n",
       "         [71.05000021],\n",
       "         [70.39999992],\n",
       "         [70.15000015],\n",
       "         [70.85000027],\n",
       "         [70.9000001 ],\n",
       "         [70.74999998],\n",
       "         [71.10000004],\n",
       "         [70.64999969],\n",
       "         [70.55000004],\n",
       "         [71.34999981],\n",
       "         [71.84999999],\n",
       "         [72.15000022],\n",
       "         [72.35000016],\n",
       "         [72.09999976],\n",
       "         [72.15000022],\n",
       "         [73.10000011],\n",
       "         [73.65000011],\n",
       "         [73.89999988],\n",
       "         [74.49999971],\n",
       "         [75.24999966],\n",
       "         [75.00000052],\n",
       "         [74.25000058],\n",
       "         [74.49999971],\n",
       "         [74.84999977],\n",
       "         [74.94999943],\n",
       "         [75.35000058],\n",
       "         [75.35000058],\n",
       "         [75.54999989],\n",
       "         [76.39999949],\n",
       "         [76.39999949],\n",
       "         [76.10000053],\n",
       "         [75.8000003 ],\n",
       "         [75.24999966],\n",
       "         [74.65000046],\n",
       "         [73.39999971],\n",
       "         [72.50000028],\n",
       "         [72.50000028],\n",
       "         [72.55000011],\n",
       "         [72.79999988],\n",
       "         [72.64999976],\n",
       "         [71.89999982],\n",
       "         [72.09999976],\n",
       "         [72.09999976],\n",
       "         [71.84999999],\n",
       "         [71.95000028],\n",
       "         [71.95000028],\n",
       "         [72.0000001 ],\n",
       "         [71.65000004],\n",
       "         [71.4500001 ],\n",
       "         [71.54999976],\n",
       "         [71.49999993],\n",
       "         [70.94999993],\n",
       "         [70.64999969],\n",
       "         [70.15000015],\n",
       "         [70.3500001 ],\n",
       "         [70.99999975],\n",
       "         [70.55000004],\n",
       "         [70.39999992],\n",
       "         [70.9000001 ],\n",
       "         [71.10000004],\n",
       "         [70.79999981],\n",
       "         [70.44999975],\n",
       "         [69.89999975],\n",
       "         [69.89999975],\n",
       "         [70.39999992],\n",
       "         [70.15000015],\n",
       "         [69.64999998],\n",
       "         [69.89999975],\n",
       "         [70.30000027],\n",
       "         [70.50000021],\n",
       "         [70.9000001 ],\n",
       "         [70.94999993],\n",
       "         [71.29999999],\n",
       "         [72.39999999],\n",
       "         [73.30000005],\n",
       "         [73.89999988],\n",
       "         [73.94999971],\n",
       "         [73.34999988]]),\n",
       "  array([[69.7919954 ],\n",
       "         [69.8163218 ],\n",
       "         [69.80143472],\n",
       "         [69.88192666],\n",
       "         [69.88022098],\n",
       "         [69.91547401],\n",
       "         [69.96124487],\n",
       "         [69.88896838],\n",
       "         [69.96484413],\n",
       "         [69.9577548 ],\n",
       "         [69.98948411],\n",
       "         [69.89674836],\n",
       "         [69.90099129],\n",
       "         [70.00541923],\n",
       "         [69.99082161],\n",
       "         [69.98887535],\n",
       "         [69.9967715 ],\n",
       "         [69.91963125],\n",
       "         [69.95886187],\n",
       "         [69.92262237],\n",
       "         [69.8566925 ],\n",
       "         [69.86183874],\n",
       "         [69.85047728],\n",
       "         [69.84125696],\n",
       "         [69.78998248],\n",
       "         [69.75913489],\n",
       "         [69.72942293],\n",
       "         [69.80593283],\n",
       "         [69.88172352],\n",
       "         [69.85041888],\n",
       "         [69.90540625],\n",
       "         [69.91439804],\n",
       "         [69.92037522],\n",
       "         [69.87184176],\n",
       "         [69.84052505],\n",
       "         [69.73803004],\n",
       "         [69.76204032],\n",
       "         [69.75689154],\n",
       "         [69.8612687 ],\n",
       "         [69.94313623],\n",
       "         [70.00344313],\n",
       "         [69.97763513],\n",
       "         [69.91973789],\n",
       "         [70.0725679 ],\n",
       "         [69.94658695],\n",
       "         [69.93904184],\n",
       "         [69.9534103 ],\n",
       "         [69.97132279],\n",
       "         [69.93194108],\n",
       "         [69.8462572 ],\n",
       "         [69.8347199 ],\n",
       "         [69.88920325],\n",
       "         [69.90866653],\n",
       "         [69.91218199],\n",
       "         [69.89313006],\n",
       "         [69.90176065],\n",
       "         [69.88612007],\n",
       "         [69.82364029],\n",
       "         [69.82531359],\n",
       "         [69.82569764],\n",
       "         [69.86726048],\n",
       "         [69.88863955],\n",
       "         [69.84425317],\n",
       "         [69.8431461 ],\n",
       "         [69.97439707],\n",
       "         [70.01067085],\n",
       "         [69.88892711],\n",
       "         [69.89212455],\n",
       "         [69.88672693],\n",
       "         [69.91175605],\n",
       "         [69.9604171 ],\n",
       "         [70.01944491],\n",
       "         [69.89529786],\n",
       "         [69.9106185 ],\n",
       "         [69.98319843],\n",
       "         [69.97835371],\n",
       "         [69.82629371],\n",
       "         [69.9483961 ],\n",
       "         [70.04898356],\n",
       "         [69.93969377],\n",
       "         [69.85637511],\n",
       "         [69.86059075],\n",
       "         [69.92871191],\n",
       "         [69.91739806],\n",
       "         [69.93620941],\n",
       "         [69.90239671],\n",
       "         [69.82960985],\n",
       "         [69.8520122 ],\n",
       "         [69.79678234],\n",
       "         [69.7701561 ],\n",
       "         [69.75046811],\n",
       "         [69.73649639],\n",
       "         [69.70799371],\n",
       "         [69.68563134],\n",
       "         [69.68080377],\n",
       "         [69.85585585],\n",
       "         [69.87126537],\n",
       "         [69.94092589],\n",
       "         [70.18243345],\n",
       "         [70.04209102]]))]"
      ]
     },
     "execution_count": 60,
     "metadata": {},
     "output_type": "execute_result"
    }
   ],
   "source": [
    "predictions"
   ]
  },
  {
   "cell_type": "code",
   "execution_count": 316,
   "id": "de16e230-f124-451d-944e-b57dcc63e839",
   "metadata": {},
   "outputs": [
    {
     "data": {
      "text/plain": [
       "47991"
      ]
     },
     "execution_count": 316,
     "metadata": {},
     "output_type": "execute_result"
    }
   ],
   "source": [
    "len(chunks)"
   ]
  },
  {
   "cell_type": "code",
   "execution_count": null,
   "id": "abb12953-bd88-40cd-87a3-449e1ffb0a88",
   "metadata": {},
   "outputs": [],
   "source": [
    "current_series"
   ]
  },
  {
   "cell_type": "code",
   "execution_count": null,
   "id": "ea46a2be-0104-42a0-9f2d-6eab8b608db9",
   "metadata": {},
   "outputs": [],
   "source": [
    "anom_serie.columns = [\"NO\"]"
   ]
  },
  {
   "cell_type": "code",
   "execution_count": null,
   "id": "46abb9c3-2205-48a6-bf1b-a5ee1aedcab9",
   "metadata": {},
   "outputs": [],
   "source": [
    "from darts import TimeSeries\n",
    "current_fcev = FCeV(FCev_config, darts_FCeV_config, df_signal, df_covariates,df_events,  output_path, df_synth)\n",
    "    \n",
    "iteration = 0\n",
    "date_start = pd.Timestamp(2017, 1, 1)\n",
    "current_fcev.create_folds(date_start, 12)\n",
    "from func_timeout import func_set_timeout, FunctionTimedOut\n",
    "@func_set_timeout(3600)\n",
    "def train_with_timeout(fcev_instance, iteration):\n",
    "    df_fore = current_fcev.process_fold(iteration)\n",
    "    return df_fore\n",
    "try:\n",
    "    df_fore = train_with_timeout(current_fcev, iteration)\n",
    "except FunctionTimedOut: \n",
    "    print(np.nan)"
   ]
  },
  {
   "cell_type": "code",
   "execution_count": null,
   "id": "b4ccdd72-dbc0-45ef-8b5b-dd2ab252ad97",
   "metadata": {},
   "outputs": [],
   "source": [
    "df_fore[\"SYNTH_0\"].keys()\n",
    "\n",
    "\n"
   ]
  },
  {
   "cell_type": "code",
   "execution_count": null,
   "id": "1c87846b-2940-4db8-b819-2499e4aeef6a",
   "metadata": {},
   "outputs": [],
   "source": [
    "df_main = df_fore[\"BASE\"]\n",
    "df_synth_1 = df_fore[\"SYNTH_0\"][\"1\"]\n",
    "df_synth_3 = df_fore[\"SYNTH_0\"][\"3\"]\n",
    "df_synth_5 = df_fore[\"SYNTH_0\"][\"5\"]\n",
    "df_synth_6 = df_fore[\"SYNTH_0\"][\"6\"]\n",
    "df_synth_8 = df_fore[\"SYNTH_0\"][\"8\"]\n",
    "df_real = current_fcev.FCeV_model.input_series.pd_dataframe()"
   ]
  },
  {
   "cell_type": "code",
   "execution_count": null,
   "id": "0a872d48-7eb2-44f5-aa66-9f4141bc5d6c",
   "metadata": {},
   "outputs": [],
   "source": []
  },
  {
   "cell_type": "code",
   "execution_count": null,
   "id": "da43545f-e328-4098-9856-d9151516db68",
   "metadata": {},
   "outputs": [],
   "source": [
    "import matplotlib.pyplot as plt\n",
    "df_main = df_fore[\"BASE\"]\n",
    "df_synth_0 = df_fore[\"SYNTH_0\"][\"0\"]\n",
    "df_synth_1 = df_fore[\"SYNTH_0\"][\"1\"]\n",
    "df_synth_2 = df_fore[\"SYNTH_0\"][\"2\"]\n",
    "#ts_base_val.plot()\n",
    "(get_anom(df_main)).plot(label=\"No event\", c=\"orangered\", lw=3)\n",
    "#(get_anom(df_real)).plot(label=\"Real\", c=\"red\", lw=3)\n",
    "(get_anom(df_synth_0)).plot(label=\"0 days after\", c=\"blue\", lw=3)\n",
    "(get_anom(df_synth_1)).plot(label=\"1 days after\", c=\"green\", lw=3)\n",
    "(get_anom(df_synth_2)).plot(label=\"2 days after\", c=\"cyan\", lw=3)"
   ]
  },
  {
   "cell_type": "code",
   "execution_count": null,
   "id": "36812cc6-0c5a-4d0f-b07a-ebaeaafea16e",
   "metadata": {},
   "outputs": [],
   "source": [
    "TimeSeries.from_dataframe(main_df[\"pred\"])"
   ]
  },
  {
   "cell_type": "code",
   "execution_count": null,
   "id": "e37e3aed-23b2-4987-98d3-d2fcf1eea3e4",
   "metadata": {},
   "outputs": [],
   "source": [
    "from FCeV import METRICS\n",
    "main_df = df_fore[\"BASE\"]\n",
    "#second_df = df_fore[\"SYNTH_0\"][\"5\"]\n",
    "print(current_fcev.get_metrics_from_fc(main_df, METRICS.RMSE).mean().mean())\n",
    "print(current_fcev.get_metrics_from_fc(second_df, METRICS.RMSE).mean().mean())"
   ]
  },
  {
   "cell_type": "code",
   "execution_count": 33,
   "id": "a3faf76a-a0e1-4f63-ac4a-696fd1f833e3",
   "metadata": {},
   "outputs": [],
   "source": [
    "main_df = df_fore[\"BASE\"]"
   ]
  },
  {
   "cell_type": "code",
   "execution_count": 38,
   "id": "6e359ada-7745-46a5-aa79-c9fb43920f34",
   "metadata": {},
   "outputs": [
    {
     "data": {
      "text/plain": [
       "Index(['component', 'current', 'pred', 'uncer'], dtype='object')"
      ]
     },
     "execution_count": 38,
     "metadata": {},
     "output_type": "execute_result"
    }
   ],
   "source": [
    "main_df.stack(level=1).reset_index(1).columns"
   ]
  },
  {
   "cell_type": "code",
   "execution_count": 45,
   "id": "de783b96-e8b1-447c-b131-9a6b7fe3392b",
   "metadata": {},
   "outputs": [],
   "source": [
    "second_df= main_df.stack(level=1).reset_index(1)"
   ]
  },
  {
   "cell_type": "code",
   "execution_count": 46,
   "id": "74bff7c4-431e-48be-8a8b-c4d512296c4e",
   "metadata": {},
   "outputs": [],
   "source": [
    "second_df[\"uncer_min\"] = second_df['pred'] - second_df['uncer']\n",
    "second_df[\"uncer_max\"] = second_df['pred'] + second_df['uncer']\n",
    "\n",
    "second_df[\"uncer_min\"] = second_df['pred'] \n",
    "second_df[\"uncer_max\"] = second_df['pred']"
   ]
  },
  {
   "cell_type": "code",
   "execution_count": 47,
   "id": "52664f84-f896-4e90-96dd-595c5d907f5c",
   "metadata": {},
   "outputs": [
    {
     "data": {
      "image/png": "[encoded data removed]",
      "text/plain": [
       "<Figure size 1800x1200 with 1 Axes>"
      ]
     },
     "metadata": {
      "needs_background": "light"
     },
     "output_type": "display_data"
    },
    {
     "data": {
      "text/plain": [
       "<ggplot: (8777135095336)>"
      ]
     },
     "execution_count": 47,
     "metadata": {},
     "output_type": "execute_result"
    }
   ],
   "source": [
    "from plotnine import ggplot, aes, facet_grid, labs, geom_line,geom_point, theme, geom_ribbon,theme_minimal,scale_color_brewer\n",
    "from plotnine_prism import *\n",
    "(\n",
    "    ggplot(second_df.reset_index())  # What data to use\n",
    "    + aes(x=\"ds\")  # What variable to use\n",
    "    + geom_ribbon(aes(y = \"pred\", ymin = \"uncer_min\", ymax = \"uncer_max\", fill = \"component\"), alpha = .4) \n",
    "    + geom_line(aes(y=\"current\", color = \"component\"),size = 1.5)  # Geometric object to use for drawing\n",
    "    + geom_line(aes(y=\"pred\", color = \"component\"),linetype=\"dashed\",size = 1.5 )  # Geometric object to use for drawing\n",
    "    + theme_minimal() \n",
    "    +theme(legend_position=\"bottom\", figure_size=(18, 12))\n",
    "    + scale_color_brewer(type=\"qual\", palette=\"Set1\")\n",
    ")"
   ]
  },
  {
   "cell_type": "code",
   "execution_count": null,
   "id": "2c9da1a5-fded-4bef-97c0-8296bd378a00",
   "metadata": {},
   "outputs": [],
   "source": [
    "from FCeV import METRICS\n",
    "current_fcev.get_metrics_from_fc(df_fore[\"BASE\"], METRICS.RMSE).mean().mean()"
   ]
  },
  {
   "cell_type": "code",
   "execution_count": null,
   "id": "77b63ea2-143e-4855-9b56-8330ad1f217c",
   "metadata": {},
   "outputs": [],
   "source": [
    "current_fcev.get_metrics_from_fc(df_fore[\"SYNTH_2\"][\"8\"], METRICS.RMSE).mean().mean()"
   ]
  },
  {
   "cell_type": "code",
   "execution_count": null,
   "id": "f319afec-c634-441a-9b7c-fd31bf69a8ca",
   "metadata": {},
   "outputs": [],
   "source": [
    "df_fore[\"BASE\"].plot()"
   ]
  },
  {
   "cell_type": "code",
   "execution_count": null,
   "id": "e08ac4e9-5d01-4a1e-8138-d2bf919efdce",
   "metadata": {},
   "outputs": [],
   "source": [
    "df_fore[\"SYNTH_5\"][\"24\"].plot()"
   ]
  },
  {
   "cell_type": "code",
   "execution_count": null,
   "id": "c0c24597-4ee3-450b-9da7-5597ec6701d1",
   "metadata": {},
   "outputs": [],
   "source": [
    "%load_ext autoreload\n",
    "%autoreload 2\n",
    "%matplotlib inline"
   ]
  },
  {
   "cell_type": "code",
   "execution_count": null,
   "id": "09e68ee0-2a22-43d1-a717-49601f028aec",
   "metadata": {},
   "outputs": [],
   "source": [
    "import numpy as np\n",
    "import pandas as pd\n",
    "from tqdm import tqdm_notebook as tqdm\n",
    "\n",
    "import matplotlib.pyplot as plt\n",
    "\n",
    "from darts import TimeSeries, concatenate\n",
    "from darts.dataprocessing.transformers import Scaler\n",
    "from darts.models import TFTModel\n",
    "from darts.metrics import mape\n",
    "from darts.utils.statistics import check_seasonality, plot_acf\n",
    "from darts.datasets import AirPassengersDataset, IceCreamHeaterDataset\n",
    "from darts.utils.timeseries_generation import datetime_attribute_timeseries\n",
    "from darts.utils.likelihood_models import QuantileRegression\n",
    "\n",
    "import warnings\n",
    "\n",
    "warnings.filterwarnings(\"ignore\")\n",
    "import logging\n",
    "\n",
    "logging.disable(logging.CRITICAL)"
   ]
  },
  {
   "cell_type": "code",
   "execution_count": null,
   "id": "0268ced3-e2a7-402c-8c78-5f0071634bb9",
   "metadata": {},
   "outputs": [],
   "source": []
  },
  {
   "cell_type": "code",
   "execution_count": null,
   "id": "0f21746f-77c8-4e91-8d50-b6ed5b2459ea",
   "metadata": {},
   "outputs": [],
   "source": [
    "# before starting, we define some constants\n",
    "num_samples = 200\n",
    "\n",
    "figsize = (9, 6)\n",
    "lowest_q, low_q, high_q, highest_q = 0.01, 0.1, 0.9, 0.99\n",
    "label_q_outer = f\"{int(lowest_q * 100)}-{int(highest_q * 100)}th percentiles\"\n",
    "label_q_inner = f\"{int(low_q * 100)}-{int(high_q * 100)}th percentiles\""
   ]
  },
  {
   "cell_type": "code",
   "execution_count": null,
   "id": "8be9dda0-a022-4dd8-8bdf-494434fa9c6c",
   "metadata": {},
   "outputs": [],
   "source": [
    "train_day = dateutil.parser.parse(\"2018-09-30\")\n",
    "val_day = dateutil.parser.parse(\"2018-12-31\")\n",
    "series = TimeSeries.from_dataframe(df_ion[df_ion.index < val_day], fill_missing_dates=False, freq=freq)\n",
    "series = series.astype(np.float32)\n",
    "filler = MissingValuesFiller()\n",
    "tec_series = filler.transform(series, method = \"from_derivatives\")\n",
    "\n",
    "# Create training and validation sets:\n",
    "train_tec, val_tec = tec_series.split_after(pd.Timestamp(train_day))\n",
    "\n",
    "# We'll use the month as a covariate\n",
    "scaler_tec = Scaler()\n",
    "train_tec = scaler_tec.fit_transform(train_tec)\n",
    "val_tec = scaler_tec.transform(val_tec)\n",
    "tec_series = scaler_tec.transform(tec_series)\n",
    "\n"
   ]
  },
  {
   "cell_type": "code",
   "execution_count": null,
   "id": "41e63751-f63c-415f-a772-87f6333f2f83",
   "metadata": {},
   "outputs": [],
   "source": [
    "widths = [4, 4, 3, 3, 6, 6, 6 ,6, 6, 6, 9, 6, 6, 6, 6, 6, 6, 6, 5, 7, 3, 4, 6, 4, 6, 5, 6, 6, 6, 9, 9, 9, 9, 3]\n",
    "ion_data = pd.read_fwf('/home/carloscano/data/ion/ionosphere_parameters_data.txt', widths = widths, header=None)\n",
    "id_ion = [\"year\", \"doy\", \"hour\", \"id imf\", \"B scalar\", \"B vector\", \"Lat B\", \"Long B\", \"BY\", \"Bz\", \"SW Plasma Ta\", \"SW Proton\", \"SW Plasma Speed\", \"SW Plasma flow long\", \"SW Plasma Speed lat\", \"Alpha ratio\", \"Flow pressure\", \"Alfen\", \"Magneto\", \"Quasy\", \"Kp\", \"N sunspot\", \"Dst-index\", \"Ap index\", \"f107\", \"AE\", \"AL\", \"AU\", \"pc\", \"lyman\", \"Proton10\", \"Proton30\", \"Proton60\", \"Flux\" ]\n",
    "ion_data.columns = id_ion\n",
    "strfmt = \"{year}-{doy:0=3d}T{hour:0=2d}:00:00\"\n",
    "\n",
    "ion_data[\"datetime\"] = ion_data.apply(lambda x: datetime.strptime(strfmt.format(year = int(x[\"year\"]), doy = int(x[\"doy\"]), hour = int(x[\"hour\"])),\"%Y-%jT%H:%M:%S\"), axis = 1)\n",
    "\n",
    "ion_data = ion_data.drop([\"year\", \"doy\", \"hour\"], axis = 1).set_index(\"datetime\")\n",
    "\n",
    "ion_data = ion_data[[\"Kp\", \"f107\", \"N sunspot\"]]"
   ]
  },
  {
   "cell_type": "code",
   "execution_count": null,
   "id": "4c061ff1-7268-4ef4-a115-b4b26150cd1a",
   "metadata": {},
   "outputs": [],
   "source": [
    "df_input"
   ]
  },
  {
   "cell_type": "code",
   "execution_count": null,
   "id": "1232f825-d2d5-4f1d-be56-dcc6acd4ec71",
   "metadata": {},
   "outputs": [],
   "source": [
    "\n",
    "ion_ts = TimeSeries.from_dataframe(ion_data[ion_data.index < val_day], fill_missing_dates=True, freq = \"1H\").resample(freq=freq)\n",
    "ion_ts = ion_ts.astype(np.float32)\n",
    "scaler_ion = Scaler()\n",
    "ion_ts = scaler_ion.fit_transform(ion_ts)\n",
    "# Create training and validation sets:\n",
    "train_ion, val_ion = ion_ts.split_after(pd.Timestamp(train_day))"
   ]
  },
  {
   "cell_type": "code",
   "execution_count": null,
   "id": "f20d39d1-b1c2-4a42-8981-ecf2166e8ac4",
   "metadata": {},
   "outputs": [],
   "source": [
    "my_model_TCN = TCNModel(\n",
    "    input_chunk_length=48*5,\n",
    "    output_chunk_length=48,\n",
    "    n_epochs=40,\n",
    "    dropout=0.1,\n",
    "    dilation_base=2,\n",
    "    weight_norm=True,\n",
    "    kernel_size=5,\n",
    "    num_filters=3,\n",
    "    random_state=0,    \n",
    "    log_tensorboard=True,\n",
    "     force_reset=True,\n",
    "        pl_trainer_kwargs={\n",
    "      \"accelerator\": \"gpu\",\n",
    "      \"devices\": [0]\n",
    "    },\n",
    "\n",
    ")\n",
    "\n",
    "my_model = RNNModel(\n",
    "    model=\"RNN\",\n",
    "    hidden_dim=20,\n",
    "    dropout=0,\n",
    "    batch_size=16,\n",
    "    n_epochs=100,\n",
    "    optimizer_kwargs={\"lr\": 1e-3},\n",
    "    model_name=\"Ion_RNN\",\n",
    "    log_tensorboard=True,\n",
    "    random_state=42,\n",
    "    training_length=20,\n",
    "    input_chunk_length=14,\n",
    "    force_reset=True,\n",
    "    pl_trainer_kwargs={\n",
    "      \"accelerator\": \"gpu\",\n",
    "      \"devices\": [0]\n",
    "    },\n",
    ")"
   ]
  },
  {
   "cell_type": "code",
   "execution_count": null,
   "id": "831c1e2e-a0cc-44fd-ae8c-2664781bf3e7",
   "metadata": {},
   "outputs": [],
   "source": [
    "%%time\n",
    "\n",
    "my_model_TCN.fit(\n",
    "    train_tec,\n",
    "    past_covariates=ion_ts,\n",
    "    verbose=True,\n",
    ")"
   ]
  },
  {
   "cell_type": "code",
   "execution_count": null,
   "id": "0e1b06fe-93c8-4727-bab0-06e817b43235",
   "metadata": {},
   "outputs": [],
   "source": [
    "my_model_TCN.predict(100, past_covariates=ion_ts).plot()"
   ]
  },
  {
   "cell_type": "code",
   "execution_count": null,
   "id": "8affc84c-c3cb-41b8-9931-aa501752e0b2",
   "metadata": {},
   "outputs": [],
   "source": [
    "my_model_TCN.predict(10)"
   ]
  },
  {
   "cell_type": "code",
   "execution_count": null,
   "id": "9619c698-9aa3-4c45-a7eb-77c83d94e1f7",
   "metadata": {},
   "outputs": [],
   "source": []
  },
  {
   "cell_type": "code",
   "execution_count": null,
   "id": "931c1d06-8ab9-4851-9019-4b5d51694442",
   "metadata": {},
   "outputs": [],
   "source": [
    "from darts.ad import KMeansScorer,ForecastingAnomalyModel\n",
    "scorer = KMeansScorer(k=5, window=20)"
   ]
  },
  {
   "cell_type": "code",
   "execution_count": null,
   "id": "82c4b6a6-d077-4f2d-969b-f87a0a759cdf",
   "metadata": {},
   "outputs": [],
   "source": [
    "ad_model = ForecastingAnomalyModel(my_model_TCN, scorer)\n",
    "scorer.fit(train_tec)"
   ]
  },
  {
   "cell_type": "code",
   "execution_count": null,
   "id": "a0d64e9e-73e1-4bb9-8c56-017d5a46d093",
   "metadata": {},
   "outputs": [],
   "source": [
    "#anom_score = ad_model.score(val_tec,    past_covariates=ion_ts)"
   ]
  },
  {
   "cell_type": "code",
   "execution_count": null,
   "id": "c98e0c5e-30e3-4705-b5eb-49ac8cf9bc22",
   "metadata": {},
   "outputs": [],
   "source": [
    "%%time\n",
    "ad_model.show_anomalies(val_tec,    past_covariates=ion_ts)"
   ]
  },
  {
   "cell_type": "code",
   "execution_count": null,
   "id": "0f86ba3a-3b32-4781-a869-2f14b0725b08",
   "metadata": {},
   "outputs": [],
   "source": [
    "train_tec.plot()"
   ]
  },
  {
   "cell_type": "code",
   "execution_count": null,
   "id": "ee68d763-34dc-4aaf-b40b-f9c5300ebb30",
   "metadata": {},
   "outputs": [],
   "source": [
    "from darts.ad import QuantileDetector\n",
    "\n",
    "detector = QuantileDetector(high_quantile=0.99)\n",
    "detector.fit(scorer.score(train_tec))\n",
    "binary_anom = detector.detect(anom_score)"
   ]
  },
  {
   "cell_type": "code",
   "execution_count": null,
   "id": "4e0abdac-a996-414b-a3e0-16d0ad605f56",
   "metadata": {},
   "outputs": [],
   "source": [
    "import matplotlib.pyplot as plt\n",
    "\n",
    "series.plot()\n",
    "(anom_score / 2. - 100).plot(label=\"computed anomaly score\", c=\"orangered\", lw=3)\n",
    "(binary_anom * 45 - 150).plot(label=\"detected binary anomaly\", lw=4)"
   ]
  },
  {
   "cell_type": "code",
   "execution_count": null,
   "id": "a96a2693-0b84-4675-8dc6-afa80a98f269",
   "metadata": {},
   "outputs": [],
   "source": [
    "# Scale so that the largest value is 1.\n",
    "# This way of scaling perserves the sMAPE\n",
    "scaler = Scaler(scaler=MaxAbsScaler())\n",
    "train = scaler.fit_transform(train)\n",
    "val = scaler.transform(val)\n",
    "test = scaler.transform(test)"
   ]
  },
  {
   "cell_type": "code",
   "execution_count": null,
   "id": "cf56b7c1-ca7c-4302-b929-1f750d9fa4b1",
   "metadata": {},
   "outputs": [],
   "source": [
    "for i in [10, 50, 100, 150, 250, 350]:\n",
    "    plt.figure(figsize=(15, 5))\n",
    "    all_series_fp32[i].plot(label=\"{}\".format(i, lw=1))"
   ]
  },
  {
   "cell_type": "code",
   "execution_count": null,
   "id": "9f2c017a-02b5-44bd-ac41-7a25e8c2b873",
   "metadata": {},
   "outputs": [],
   "source": [
    "from darts.explainability.shap_explainer import ShapExplainer\n",
    "from darts.models import RegressionModel"
   ]
  },
  {
   "cell_type": "code",
   "execution_count": null,
   "id": "b525ec11-4cf8-491b-a5f6-62eb1af1152e",
   "metadata": {},
   "outputs": [],
   "source": [
    "model = RegressionModel(lags=24, lags_future_covariates = [24,24], output_chunk_length = 24)\n",
    "model.fit(train_tec, future_covariates=ion_ts)"
   ]
  },
  {
   "cell_type": "markdown",
   "id": "0af52b26-55ab-4c19-984b-158dd9854113",
   "metadata": {},
   "source": [
    "## DALEX"
   ]
  },
  {
   "cell_type": "code",
   "execution_count": null,
   "id": "30466342-24c3-46e8-af4a-dd57d52650c3",
   "metadata": {},
   "outputs": [],
   "source": [
    "%load_ext autoreload\n",
    "%autoreload 2\n",
    "%matplotlib inline\n",
    "import numpy as np\n",
    "import pandas as pd\n",
    "from tqdm import tqdm_notebook as tqdm\n",
    "\n",
    "import matplotlib.pyplot as plt\n",
    "\n",
    "from darts import TimeSeries, concatenate\n",
    "from darts.dataprocessing.transformers import Scaler\n",
    "from darts.models import TFTModel\n",
    "from darts.metrics import mape\n",
    "from darts.utils.statistics import check_seasonality, plot_acf\n",
    "from darts.datasets import AirPassengersDataset, IceCreamHeaterDataset\n",
    "from darts.utils.timeseries_generation import datetime_attribute_timeseries\n",
    "from darts.utils.likelihood_models import QuantileRegression\n",
    "\n",
    "import warnings\n",
    "\n",
    "warnings.filterwarnings(\"ignore\")\n",
    "import logging\n",
    "\n",
    "logging.disable(logging.CRITICAL)"
   ]
  },
  {
   "cell_type": "code",
   "execution_count": null,
   "id": "1da62502-64de-4f45-8582-9c9e9209ee78",
   "metadata": {},
   "outputs": [],
   "source": [
    "# before starting, we define some constants\n",
    "num_samples = 200\n",
    "\n",
    "figsize = (25, 6)\n",
    "lowest_q, low_q, high_q, highest_q = 0.01, 0.1, 0.9, 0.99\n",
    "label_q_outer = f\"{int(lowest_q * 100)}-{int(highest_q * 100)}th percentiles\"\n",
    "label_q_inner = f\"{int(low_q * 100)}-{int(high_q * 100)}th percentiles\""
   ]
  },
  {
   "cell_type": "code",
   "execution_count": null,
   "id": "08d1ca23-3191-49b3-83c9-073585704840",
   "metadata": {},
   "outputs": [],
   "source": [
    "# Read data\n",
    "series = AirPassengersDataset().load()\n",
    "\n",
    "# we convert monthly number of passengers to average daily number of passengers per month\n",
    "series = series / TimeSeries.from_series(series.time_index.days_in_month)\n",
    "series = series.astype(np.float32)\n",
    "\n",
    "# Create training and validation sets:\n",
    "training_cutoff = pd.Timestamp(\"19571201\")\n",
    "train, val = series.split_after(training_cutoff)\n",
    "\n",
    "# Normalize the time series (note: we avoid fitting the transformer on the validation set)\n",
    "transformer = Scaler()\n",
    "train_transformed = transformer.fit_transform(train)\n",
    "val_transformed = transformer.transform(val)\n",
    "series_transformed = transformer.transform(series)\n",
    "\n",
    "# create year, month and integer index covariate series\n",
    "covariates = datetime_attribute_timeseries(series, attribute=\"year\", one_hot=False)\n",
    "covariates = covariates.stack(\n",
    "    datetime_attribute_timeseries(series, attribute=\"month\", one_hot=False)\n",
    ")\n",
    "covariates = covariates.stack(\n",
    "    TimeSeries.from_times_and_values(\n",
    "        times=series.time_index,\n",
    "        values=np.arange(len(series)),\n",
    "        columns=[\"linear_increase\"],\n",
    "    )\n",
    ")\n",
    "covariates = covariates.astype(np.float32)\n",
    "\n",
    "# transform covariates (note: we fit the transformer on train split and can then transform the entire covariates series)\n",
    "scaler_covs = Scaler()\n",
    "cov_train, cov_val = covariates.split_after(training_cutoff)\n",
    "scaler_covs.fit(cov_train)\n",
    "covariates_transformed = scaler_covs.transform(covariates)"
   ]
  },
  {
   "cell_type": "code",
   "execution_count": null,
   "id": "dead30b5-ab40-4ef1-beab-18720b2a86fb",
   "metadata": {},
   "outputs": [],
   "source": [
    "# default quantiles for QuantileRegression\n",
    "quantiles = [\n",
    "    0.01,\n",
    "    0.05,\n",
    "    0.1,\n",
    "    0.15,\n",
    "    0.2,\n",
    "    0.25,\n",
    "    0.3,\n",
    "    0.4,\n",
    "    0.5,\n",
    "    0.6,\n",
    "    0.7,\n",
    "    0.75,\n",
    "    0.8,\n",
    "    0.85,\n",
    "    0.9,\n",
    "    0.95,\n",
    "    0.99,\n",
    "]\n",
    "input_chunk_length = 48 * 5\n",
    "forecast_horizon = 48\n",
    "my_model = TFTModel(\n",
    "    input_chunk_length=input_chunk_length,\n",
    "    output_chunk_length=forecast_horizon,\n",
    "    hidden_size=64,\n",
    "    lstm_layers=1,\n",
    "    num_attention_heads=4,\n",
    "    dropout=0.1,\n",
    "    batch_size=1000,\n",
    "    n_epochs=2,\n",
    "    add_relative_index=False,\n",
    "    add_encoders=None,\n",
    "    likelihood=QuantileRegression(\n",
    "        quantiles=quantiles\n",
    "    ),  # QuantileRegression is set per default\n",
    "    # loss_fn=MSELoss(),\n",
    "    random_state=42,\n",
    "            pl_trainer_kwargs={\n",
    "      \"accelerator\": \"gpu\",\n",
    "      \"devices\": [0]\n",
    "    },\n",
    ")\n"
   ]
  },
  {
   "cell_type": "code",
   "execution_count": null,
   "id": "50a67ef6-3430-4592-b9c8-cb763fcae7ef",
   "metadata": {},
   "outputs": [],
   "source": [
    "my_model.fit(train_tec, future_covariates=ion_ts, verbose=True)"
   ]
  },
  {
   "cell_type": "code",
   "execution_count": null,
   "id": "a281543b-8056-415e-bef8-17d4c678f2dd",
   "metadata": {},
   "outputs": [],
   "source": [
    "def eval_model(model, n, actual_series, val_series):\n",
    "    pred_series = model.predict(n=n, num_samples=num_samples)\n",
    "\n",
    "    # plot actual series\n",
    "    plt.figure(figsize=figsize)\n",
    "    actual_series[: pred_series.end_time()].plot(label=\"actual\")\n",
    "\n",
    "    # plot prediction with quantile ranges\n",
    "    pred_series.plot(\n",
    "        low_quantile=lowest_q, high_quantile=highest_q, label=label_q_outer\n",
    "    )\n",
    "    pred_series.plot(low_quantile=low_q, high_quantile=high_q, label=label_q_inner)\n",
    "\n",
    "    plt.title(\"MAPE: {:.2f}%\".format(mape(val_series, pred_series)))\n",
    "    plt.legend()\n"
   ]
  },
  {
   "cell_type": "code",
   "execution_count": null,
   "id": "1da5bf3c-a8db-4220-b1f2-436f88310eb5",
   "metadata": {},
   "outputs": [],
   "source": [
    "eval_model(my_model, 48, tec_series, val_ion)"
   ]
  },
  {
   "cell_type": "code",
   "execution_count": null,
   "id": "790bf8d0-efba-4aaa-8355-380a089cafac",
   "metadata": {},
   "outputs": [],
   "source": [
    "forecast_horizon = 48\n",
    "backtest_series = my_model.historical_forecasts(\n",
    "    series_transformed,\n",
    "    future_covariates=covariates_transformed,\n",
    "    start=train.end_time() + train.freq,\n",
    "    num_samples=num_samples,\n",
    "    forecast_horizon=forecast_horizon,\n",
    "    stride=forecast_horizon,\n",
    "    last_points_only=False,\n",
    "    retrain=False,\n",
    "    verbose=True,\n",
    ")"
   ]
  },
  {
   "cell_type": "code",
   "execution_count": null,
   "id": "d603a659-3bb8-43d1-a2e5-1f50209ccc37",
   "metadata": {},
   "outputs": [],
   "source": [
    "def eval_backtest(backtest_series, actual_series, horizon, start, transformer):\n",
    "    plt.figure(figsize=figsize)\n",
    "    actual_series.plot(label=\"actual\")\n",
    "    backtest_series.plot(\n",
    "        low_quantile=lowest_q, high_quantile=highest_q, label=label_q_outer\n",
    "    )\n",
    "    backtest_series.plot(low_quantile=low_q, high_quantile=high_q, label=label_q_inner)\n",
    "    plt.legend()\n",
    "    plt.title(f\"Backtest, starting {start}, {horizon}-months horizon\")\n",
    "    print(\n",
    "        \"MAPE: {:.2f}%\".format(\n",
    "            mape(\n",
    "                transformer.inverse_transform(actual_series),\n",
    "                transformer.inverse_transform(backtest_series),\n",
    "            )\n",
    "        )\n",
    "    )"
   ]
  },
  {
   "cell_type": "code",
   "execution_count": null,
   "id": "67a072ad-14a9-4926-9006-8c16b9a03131",
   "metadata": {},
   "outputs": [],
   "source": [
    "eval_backtest(\n",
    "    backtest_series=concatenate(backtest_series),\n",
    "    actual_series=series_transformed,\n",
    "    horizon=forecast_horizon * 10,\n",
    "    start=training_cutoff,\n",
    "    transformer=transformer,\n",
    ")"
   ]
  },
  {
   "cell_type": "code",
   "execution_count": null,
   "id": "fab77de9-1fd4-4628-a3ef-66a16eb19932",
   "metadata": {},
   "outputs": [],
   "source": [
    "my_model = TCNModel(\n",
    "    input_chunk_length=48*5,\n",
    "    output_chunk_length=24,\n",
    "    n_epochs=2,\n",
    "    dropout=0.1,\n",
    "    dilation_base=2,\n",
    "    weight_norm=True,\n",
    "    kernel_size=5,\n",
    "    num_filters=3,\n",
    "    random_state=0,    \n",
    "    log_tensorboard=True,\n",
    "     force_reset=True,\n",
    "\n",
    ")"
   ]
  },
  {
   "cell_type": "code",
   "execution_count": null,
   "id": "003dbfe8-0967-4888-9bd8-c5239c4c7af9",
   "metadata": {},
   "outputs": [],
   "source": [
    "def retrain_func(pred_time, train_series, past_covariates, future_covariates):\n",
    "    print(len(past_covariates))\n",
    "    return True"
   ]
  },
  {
   "cell_type": "code",
   "execution_count": null,
   "id": "ce692173-3083-4473-8156-ea19ee03f9ba",
   "metadata": {},
   "outputs": [],
   "source": [
    "backtest = model_air.historical_forecasts(\n",
    "    series=tec_filled,\n",
    "    past_covariates=ion_ts,\n",
    "    start=0.90,\n",
    "    forecast_horizon=1,\n",
    "    retrain=False,\n",
    "    verbose=False,\n",
    "    last_points_only = False,\n",
    ")"
   ]
  },
  {
   "cell_type": "code",
   "execution_count": null,
   "id": "5024c702-a85a-4062-bdc5-6d22b3b41e9e",
   "metadata": {},
   "outputs": [],
   "source": [
    "def plot_backtest(ts_actual, ts_backtest):\n",
    "    ts_actual[ts_backtest.time_index].plot(label=\"actual\")\n",
    "    ts_backtest.plot(label=\"backtest (H=6)\")\n",
    "    plt.legend()\n"
   ]
  },
  {
   "cell_type": "code",
   "execution_count": null,
   "id": "eac7e615-0348-4682-a6f7-d0d192bce837",
   "metadata": {},
   "outputs": [],
   "source": [
    "plot_backtest(tec_filled, backtest[5])"
   ]
  },
  {
   "cell_type": "code",
   "execution_count": null,
   "id": "1c376aaa-0d13-46f8-aff9-5f6c0f42a23d",
   "metadata": {},
   "outputs": [],
   "source": [
    "len(filled)*0.01"
   ]
  },
  {
   "cell_type": "code",
   "execution_count": null,
   "id": "a6a61d38-1fb4-40bb-b543-dd2b39cdf532",
   "metadata": {},
   "outputs": [],
   "source": [
    "import numpy as np\n",
    "import pandas as pd\n",
    "\n",
    "import matplotlib.pyplot as plt\n",
    "\n",
    "from darts.dataprocessing.transformers import Scaler\n",
    "from darts.models import RNNModel\n",
    "from darts.metrics import mape\n",
    "from darts.datasets import AirPassengersDataset"
   ]
  },
  {
   "cell_type": "code",
   "execution_count": null,
   "id": "676675c8-c552-4070-bb29-32296a3f8011",
   "metadata": {},
   "outputs": [],
   "source": [
    "# Read data:\n",
    "series = AirPassengersDataset().load()\n",
    "series = series.astype(np.float32)\n",
    "\n",
    "# Create training and validation sets:\n",
    "train, val = series.split_after(pd.Timestamp(\"19590101\"))\n",
    "\n",
    "# Normalize the time series (note: we avoid fitting the transformer on the validation set)\n",
    "transformer = Scaler()\n",
    "train_transformed = transformer.fit_transform(train)\n",
    "val_transformed = transformer.transform(val)\n",
    "series_transformed = transformer.transform(series)"
   ]
  },
  {
   "cell_type": "code",
   "execution_count": null,
   "id": "84b94b20-9791-4eed-95ad-c68a874597c6",
   "metadata": {},
   "outputs": [],
   "source": [
    "my_model = RNNModel(\n",
    "    model=\"RNN\",\n",
    "    hidden_dim=20,\n",
    "    dropout=0,\n",
    "    batch_size=16,\n",
    "    n_epochs=100,\n",
    "    optimizer_kwargs={\"lr\": 1e-3},\n",
    "    model_name=\"Air_RNN\",\n",
    "    log_tensorboard=True,\n",
    "    random_state=42,\n",
    "    training_length=20,\n",
    "    input_chunk_length=14,\n",
    "    force_reset=True,\n",
    "    pl_trainer_kwargs={\n",
    "      \"accelerator\": \"gpu\",\n",
    "      \"devices\": [0]\n",
    "    },\n",
    ")\n",
    "my_model.fit(train_transformed, val_series=val_transformed)"
   ]
  }
 ],
 "metadata": {
  "kernelspec": {
   "display_name": "Python 3",
   "language": "python",
   "name": "python3"
  },
  "language_info": {
   "codemirror_mode": {
    "name": "ipython",
    "version": 3
   },
   "file_extension": ".py",
   "mimetype": "text/x-python",
   "name": "python",
   "nbconvert_exporter": "python",
   "pygments_lexer": "ipython3",
   "version": "3.9.7"
  }
 },
 "nbformat": 4,
 "nbformat_minor": 5
}
